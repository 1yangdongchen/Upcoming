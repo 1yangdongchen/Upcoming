{
 "cells": [
  {
   "cell_type": "code",
   "execution_count": 1,
   "metadata": {
    "collapsed": false
   },
   "outputs": [
    {
     "ename": "ImportError",
     "evalue": "No module named gss_complete_comparison",
     "output_type": "error",
     "traceback": [
      "\u001b[0;31m---------------------------------------------------------------------------\u001b[0m",
      "\u001b[0;31mImportError\u001b[0m                               Traceback (most recent call last)",
      "\u001b[0;32m<ipython-input-1-abac5bbf8b8f>\u001b[0m in \u001b[0;36m<module>\u001b[0;34m()\u001b[0m\n\u001b[1;32m      2\u001b[0m \u001b[0;32mimport\u001b[0m \u001b[0mnumpy\u001b[0m \u001b[0;32mas\u001b[0m \u001b[0mnp\u001b[0m\u001b[0;34m\u001b[0m\u001b[0m\n\u001b[1;32m      3\u001b[0m \u001b[0;32mimport\u001b[0m \u001b[0mscipy\u001b[0m \u001b[0;32mas\u001b[0m \u001b[0msp\u001b[0m\u001b[0;34m\u001b[0m\u001b[0m\n\u001b[0;32m----> 4\u001b[0;31m \u001b[0;32mimport\u001b[0m \u001b[0mgss_complete_comparison\u001b[0m \u001b[0;32mas\u001b[0m \u001b[0mgc\u001b[0m\u001b[0;34m\u001b[0m\u001b[0m\n\u001b[0m\u001b[1;32m      5\u001b[0m \u001b[0mreload\u001b[0m\u001b[0;34m(\u001b[0m\u001b[0mgss_complete_comparison\u001b[0m\u001b[0;34m)\u001b[0m\u001b[0;34m\u001b[0m\u001b[0m\n",
      "\u001b[0;31mImportError\u001b[0m: No module named gss_complete_comparison"
     ]
    }
   ],
   "source": [
    "import pyanno\n",
    "import numpy as np\n",
    "import scipy as sp\n",
    "import gss_complete_comparison as gc\n",
    "reload(gss_complete_comparison)"
   ]
  },
  {
   "cell_type": "markdown",
   "metadata": {},
   "source": [
    "Getting from database to datafile"
   ]
  },
  {
   "cell_type": "code",
   "execution_count": 312,
   "metadata": {
    "collapsed": false
   },
   "outputs": [
    {
     "name": "stdout",
     "output_type": "stream",
     "text": [
      "21461\n",
      "6\n",
      "{'1': 2, '3': 4, '2': 0, '5': 1, '4': 5, '6': 3}\n"
     ]
    }
   ],
   "source": [
    "gc.variablize_simpler(\"gss_variable_ques_no07.txt\")"
   ]
  },
  {
   "cell_type": "markdown",
   "metadata": {},
   "source": [
    "Getting the data for each GSS question"
   ]
  },
  {
   "cell_type": "code",
   "execution_count": 2,
   "metadata": {
    "collapsed": false
   },
   "outputs": [
    {
     "ename": "IOError",
     "evalue": "[Errno 2] No such file or directory: 'testH.csv'",
     "output_type": "error",
     "traceback": [
      "\u001b[0;31m---------------------------------------------------------------------------\u001b[0m",
      "\u001b[0;31mIOError\u001b[0m                                   Traceback (most recent call last)",
      "\u001b[0;32m<ipython-input-2-f2d7a20a4c40>\u001b[0m in \u001b[0;36m<module>\u001b[0;34m()\u001b[0m\n\u001b[1;32m     13\u001b[0m \u001b[0manno_ctv\u001b[0m \u001b[0;34m=\u001b[0m \u001b[0mAnnotationsContainer\u001b[0m\u001b[0;34m.\u001b[0m\u001b[0mfrom_array\u001b[0m\u001b[0;34m(\u001b[0m\u001b[0mcont\u001b[0m\u001b[0;34m)\u001b[0m\u001b[0;34m\u001b[0m\u001b[0m\n\u001b[1;32m     14\u001b[0m \u001b[0;34m\u001b[0m\u001b[0m\n\u001b[0;32m---> 15\u001b[0;31m \u001b[0mtest\u001b[0m \u001b[0;34m=\u001b[0m \u001b[0mnp\u001b[0m\u001b[0;34m.\u001b[0m\u001b[0mloadtxt\u001b[0m\u001b[0;34m(\u001b[0m\u001b[0mfname\u001b[0m\u001b[0;34m=\u001b[0m\u001b[0;34m\"testH.csv\"\u001b[0m\u001b[0;34m,\u001b[0m \u001b[0mdtype\u001b[0m\u001b[0;34m=\u001b[0m\u001b[0mint\u001b[0m\u001b[0;34m,\u001b[0m \u001b[0mdelimiter\u001b[0m\u001b[0;34m=\u001b[0m\u001b[0;34m\",\"\u001b[0m\u001b[0;34m)\u001b[0m\u001b[0;34m\u001b[0m\u001b[0m\n\u001b[0m\u001b[1;32m     16\u001b[0m \u001b[0manno_test\u001b[0m \u001b[0;34m=\u001b[0m \u001b[0mAnnotationsContainer\u001b[0m\u001b[0;34m.\u001b[0m\u001b[0mfrom_array\u001b[0m\u001b[0;34m(\u001b[0m\u001b[0mtest\u001b[0m\u001b[0;34m)\u001b[0m\u001b[0;34m\u001b[0m\u001b[0m\n",
      "\u001b[0;32m/usr/local/lib/python2.7/site-packages/numpy/lib/npyio.pyc\u001b[0m in \u001b[0;36mloadtxt\u001b[0;34m(fname, dtype, comments, delimiter, converters, skiprows, usecols, unpack, ndmin)\u001b[0m\n\u001b[1;32m    736\u001b[0m                 \u001b[0mfh\u001b[0m \u001b[0;34m=\u001b[0m \u001b[0miter\u001b[0m\u001b[0;34m(\u001b[0m\u001b[0mbz2\u001b[0m\u001b[0;34m.\u001b[0m\u001b[0mBZ2File\u001b[0m\u001b[0;34m(\u001b[0m\u001b[0mfname\u001b[0m\u001b[0;34m)\u001b[0m\u001b[0;34m)\u001b[0m\u001b[0;34m\u001b[0m\u001b[0m\n\u001b[1;32m    737\u001b[0m             \u001b[0;32melif\u001b[0m \u001b[0msys\u001b[0m\u001b[0;34m.\u001b[0m\u001b[0mversion_info\u001b[0m\u001b[0;34m[\u001b[0m\u001b[0;36m0\u001b[0m\u001b[0;34m]\u001b[0m \u001b[0;34m==\u001b[0m \u001b[0;36m2\u001b[0m\u001b[0;34m:\u001b[0m\u001b[0;34m\u001b[0m\u001b[0m\n\u001b[0;32m--> 738\u001b[0;31m                 \u001b[0mfh\u001b[0m \u001b[0;34m=\u001b[0m \u001b[0miter\u001b[0m\u001b[0;34m(\u001b[0m\u001b[0mopen\u001b[0m\u001b[0;34m(\u001b[0m\u001b[0mfname\u001b[0m\u001b[0;34m,\u001b[0m \u001b[0;34m'U'\u001b[0m\u001b[0;34m)\u001b[0m\u001b[0;34m)\u001b[0m\u001b[0;34m\u001b[0m\u001b[0m\n\u001b[0m\u001b[1;32m    739\u001b[0m             \u001b[0;32melse\u001b[0m\u001b[0;34m:\u001b[0m\u001b[0;34m\u001b[0m\u001b[0m\n\u001b[1;32m    740\u001b[0m                 \u001b[0mfh\u001b[0m \u001b[0;34m=\u001b[0m \u001b[0miter\u001b[0m\u001b[0;34m(\u001b[0m\u001b[0mopen\u001b[0m\u001b[0;34m(\u001b[0m\u001b[0mfname\u001b[0m\u001b[0;34m)\u001b[0m\u001b[0;34m)\u001b[0m\u001b[0;34m\u001b[0m\u001b[0m\n",
      "\u001b[0;31mIOError\u001b[0m: [Errno 2] No such file or directory: 'testH.csv'"
     ]
    }
   ],
   "source": [
    "from pyanno.annotations import AnnotationsContainer\n",
    "#anno_vdep = AnnotationsContainer.from_file(missing_values=[-1], filename=\"GSSvariable_testSdependent.csv\")\n",
    "dev = np.loadtxt(fname=\"n7GSSvariable_testSdependent.csv\", dtype=int, delimiter=\",\")\n",
    "anno_dv = AnnotationsContainer.from_array(dev)\n",
    "\n",
    "ind = np.loadtxt(fname=\"n7GSSvariable_testSindependent.csv\", dtype=int, delimiter=\",\")\n",
    "anno_iv = AnnotationsContainer.from_array(ind)\n",
    "\n",
    "cent = np.loadtxt(fname=\"n7GSSvariable_testScentral.csv\", dtype=int, delimiter=\",\")\n",
    "anno_cv = AnnotationsContainer.from_array(cent)\n",
    "\n",
    "cont = np.loadtxt(fname=\"n7GSSvariable_testScontrol.csv\", dtype=int, delimiter=\",\")\n",
    "anno_ctv = AnnotationsContainer.from_array(cont)\n",
    "\n",
    "test = np.loadtxt(fname=\"testH.csv\", dtype=int, delimiter=\",\")\n",
    "anno_test = AnnotationsContainer.from_array(test)"
   ]
  },
  {
   "cell_type": "code",
   "execution_count": 3,
   "metadata": {
    "collapsed": false
   },
   "outputs": [
    {
     "ename": "NameError",
     "evalue": "name 'test' is not defined",
     "output_type": "error",
     "traceback": [
      "\u001b[0;31m---------------------------------------------------------------------------\u001b[0m",
      "\u001b[0;31mNameError\u001b[0m                                 Traceback (most recent call last)",
      "\u001b[0;32m<ipython-input-3-21204706ebb6>\u001b[0m in \u001b[0;36m<module>\u001b[0;34m()\u001b[0m\n\u001b[1;32m      1\u001b[0m \u001b[0mdev\u001b[0m\u001b[0;34m.\u001b[0m\u001b[0mshape\u001b[0m\u001b[0;34m\u001b[0m\u001b[0m\n\u001b[0;32m----> 2\u001b[0;31m \u001b[0mtest\u001b[0m\u001b[0;34m.\u001b[0m\u001b[0mshape\u001b[0m\u001b[0;34m\u001b[0m\u001b[0m\n\u001b[0m",
      "\u001b[0;31mNameError\u001b[0m: name 'test' is not defined"
     ]
    }
   ],
   "source": [
    "dev.shape\n",
    "test.shape"
   ]
  },
  {
   "cell_type": "code",
   "execution_count": 9,
   "metadata": {
    "collapsed": false
   },
   "outputs": [
    {
     "data": {
      "text/plain": [
       "array([[ 0, -1, -1,  1, -1,  1],\n",
       "       [ 0, -1, -1,  0, -1,  0],\n",
       "       [ 0, -1, -1,  1, -1,  0],\n",
       "       ..., \n",
       "       [-1, -1, -1, -1,  0, -1],\n",
       "       [-1, -1, -1, -1,  0, -1],\n",
       "       [-1, -1, -1, -1,  0, -1]])"
      ]
     },
     "execution_count": 9,
     "metadata": {},
     "output_type": "execute_result"
    }
   ],
   "source": [
    "anno_dv.annotations"
   ]
  },
  {
   "cell_type": "code",
   "execution_count": 7,
   "metadata": {
    "collapsed": false
   },
   "outputs": [
    {
     "data": {
      "text/plain": [
       "[-1]"
      ]
     },
     "execution_count": 7,
     "metadata": {},
     "output_type": "execute_result"
    }
   ],
   "source": [
    "anno_dv.missing_values"
   ]
  },
  {
   "cell_type": "code",
   "execution_count": 8,
   "metadata": {
    "collapsed": false
   },
   "outputs": [
    {
     "data": {
      "text/plain": [
       "(21461, 6)"
      ]
     },
     "execution_count": 8,
     "metadata": {},
     "output_type": "execute_result"
    }
   ],
   "source": [
    "anno_dv.annotations.shape"
   ]
  },
  {
   "cell_type": "markdown",
   "metadata": {},
   "source": [
    "Measuring agreement between coders"
   ]
  },
  {
   "cell_type": "code",
   "execution_count": 10,
   "metadata": {
    "collapsed": false
   },
   "outputs": [],
   "source": [
    "from pyanno.measures import pairwise_matrix, agreement, cohens_kappa, cohens_weighted_kappa, fleiss_kappa, krippendorffs_alpha, pearsons_rho, scotts_pi, spearmans_rho"
   ]
  },
  {
   "cell_type": "code",
   "execution_count": 11,
   "metadata": {
    "collapsed": false
   },
   "outputs": [
    {
     "name": "stdout",
     "output_type": "stream",
     "text": [
      "[[ 1.          0.62426874  0.46682841  0.44599604  0.16569888  0.36657805]\n",
      " [ 0.62426874  1.          0.53480937  0.52673854  0.3306905   0.59513211]\n",
      " [ 0.46682841  0.53480937  1.          0.50580068  0.42393752  0.49833997]\n",
      " [ 0.44599604  0.52673854  0.50580068  1.          0.46517493  0.47023754]\n",
      " [ 0.16569888  0.3306905   0.42393752  0.46517493  1.          0.66190749]\n",
      " [ 0.36657805  0.59513211  0.49833997  0.47023754  0.66190749  1.        ]]\n"
     ]
    }
   ],
   "source": [
    "print pairwise_matrix(cohens_kappa, anno_dv.annotations)"
   ]
  },
  {
   "cell_type": "code",
   "execution_count": 12,
   "metadata": {
    "collapsed": false
   },
   "outputs": [],
   "source": [
    "xdevck = pairwise_matrix(cohens_kappa, anno_dv.annotations)\n",
    "#xdevcwk = pairwise_matrix(cohens_weighted_kappa, anno_dv.annotations) # SAME as unweighted\n",
    "#xdevka = pairwise_matrix(krippendorffs_alpha, anno_dv.annotations) # BROKEN\n",
    "xdevpr = pairwise_matrix(pearsons_rho, anno_dv.annotations)\n",
    "#xdevfk = fleiss_kappa(anno_dv.annotations, nclasses=2)\n",
    "\n",
    "xindck = pairwise_matrix(cohens_kappa, anno_iv.annotations)\n",
    "xindpr = pairwise_matrix(pearsons_rho, anno_iv.annotations)\n",
    "\n",
    "xcenck = pairwise_matrix(cohens_kappa, anno_cv.annotations)\n",
    "xcenpr = pairwise_matrix(pearsons_rho, anno_cv.annotations)\n",
    "\n",
    "xconck = pairwise_matrix(cohens_kappa, anno_ctv.annotations)\n",
    "xconpr = pairwise_matrix(pearsons_rho, anno_ctv.annotations)"
   ]
  },
  {
   "cell_type": "code",
   "execution_count": 13,
   "metadata": {
    "collapsed": false
   },
   "outputs": [],
   "source": [
    "nondiag = (np.eye(6)-np.ones(6))*-1.0"
   ]
  },
  {
   "cell_type": "markdown",
   "metadata": {},
   "source": [
    "Test the comparison of students"
   ]
  },
  {
   "cell_type": "code",
   "execution_count": 14,
   "metadata": {
    "collapsed": false
   },
   "outputs": [
    {
     "name": "stdout",
     "output_type": "stream",
     "text": [
      "0.472142584454\n",
      "0.514240727822\n",
      "0.45296278237\n",
      "0.475965268669\n",
      "0.270823768698\n",
      "0.315140498284\n",
      "0.328334778759\n",
      "0.39458527792\n"
     ]
    }
   ],
   "source": [
    "print np.average(xdevck,weights=nondiag)\n",
    "#print np.average(xdevcwk, weights=nondiag) #SAME AS UNWEIGHTED KAPPA\n",
    "#print np.average(xdevka, weights=nondiag)\n",
    "print np.average(xdevpr, weights=nondiag)\n",
    "\n",
    "print np.average(xindck, weights=nondiag)\n",
    "print np.average(xindpr, weights=nondiag)\n",
    "\n",
    "print np.average(xcenck, weights=nondiag)\n",
    "print np.average(xcenpr, weights=nondiag)\n",
    "\n",
    "print np.average(xconck, weights=nondiag)\n",
    "print np.average(xconpr, weights=nondiag)"
   ]
  },
  {
   "cell_type": "markdown",
   "metadata": {},
   "source": [
    "Bring in merge data: author_dependent, mode_dependent, author_independent, mode_independent, author_central, mode_central, author_control, mode_control, author_don't_know, mode_don't_know"
   ]
  },
  {
   "cell_type": "code",
   "execution_count": 15,
   "metadata": {
    "collapsed": false
   },
   "outputs": [],
   "source": [
    "mergedata = np.loadtxt(fname=\"gss_mergedataC.txt\", dtype=int, delimiter=\"\\t\")"
   ]
  },
  {
   "cell_type": "code",
   "execution_count": 16,
   "metadata": {
    "collapsed": false
   },
   "outputs": [],
   "source": [
    "anno_merge_dep = AnnotationsContainer.from_array(mergedata[:,0:2])\n",
    "anno_merge_ind = AnnotationsContainer.from_array(mergedata[:,2:4])\n",
    "anno_merge_cen = AnnotationsContainer.from_array(mergedata[:,4:6])\n",
    "anno_merge_con = AnnotationsContainer.from_array(mergedata[:,6:8])\n",
    "anno_merge_dkn = AnnotationsContainer.from_array(mergedata[:,8:10])"
   ]
  },
  {
   "cell_type": "code",
   "execution_count": 17,
   "metadata": {
    "collapsed": false
   },
   "outputs": [
    {
     "name": "stdout",
     "output_type": "stream",
     "text": [
      "Dependent variable\n",
      "0.374431105795\n",
      "0.385634372036\n",
      "Independent variable\n",
      "0.543069016464\n",
      "0.552997494177\n",
      "Central variable\n",
      "-0.0640171895485\n",
      "-0.0888764431926\n",
      "Control variable\n",
      "0.281517249918\n",
      "0.282392375746\n"
     ]
    }
   ],
   "source": [
    "print \"Dependent variable\"\n",
    "print cohens_kappa(anno_merge_dep.annotations[:,0], anno_merge_dep.annotations[:,1])\n",
    "print pearsons_rho(anno_merge_dep.annotations[:,0], anno_merge_dep.annotations[:,1])\n",
    "\n",
    "print \"Independent variable\"\n",
    "print cohens_kappa(anno_merge_ind.annotations[:,0], anno_merge_ind.annotations[:,1])\n",
    "print pearsons_rho(anno_merge_ind.annotations[:,0], anno_merge_ind.annotations[:,1])\n",
    "\n",
    "print \"Central variable\"\n",
    "print cohens_kappa(anno_merge_cen.annotations[:,0], anno_merge_cen.annotations[:,1])\n",
    "print pearsons_rho(anno_merge_cen.annotations[:,0], anno_merge_cen.annotations[:,1])\n",
    "\n",
    "print \"Control variable\"\n",
    "print cohens_kappa(anno_merge_con.annotations[:,0], anno_merge_con.annotations[:,1])\n",
    "print pearsons_rho(anno_merge_con.annotations[:,0], anno_merge_con.annotations[:,1])"
   ]
  },
  {
   "cell_type": "markdown",
   "metadata": {},
   "source": [
    "Now for the assessment of the relative values of authors, then student coders"
   ]
  },
  {
   "cell_type": "code",
   "execution_count": 18,
   "metadata": {
    "collapsed": false
   },
   "outputs": [
    {
     "name": "stdout",
     "output_type": "stream",
     "text": [
      "Dependent\n",
      "0.476391231029\n",
      "0.358347386172\n",
      "Independent\n",
      "0.237774030354\n",
      "0.313659359191\n",
      "Central\n",
      "0.35328836425\n",
      "0.751264755481\n",
      "Control\n",
      "0.0817875210793\n",
      "0.0944350758853\n"
     ]
    }
   ],
   "source": [
    "print \"Dependent\"\n",
    "print np.average(anno_merge_dep.annotations[:,0])\n",
    "print np.average(anno_merge_dep.annotations[:,1])\n",
    "\n",
    "print \"Independent\"\n",
    "print np.average(anno_merge_ind.annotations[:,0])\n",
    "print np.average(anno_merge_ind.annotations[:,1])\n",
    "\n",
    "print \"Central\"\n",
    "print np.average(anno_merge_cen.annotations[:,0])\n",
    "print np.average(anno_merge_cen.annotations[:,1])\n",
    "\n",
    "print \"Control\"\n",
    "print np.average(anno_merge_con.annotations[:,0])\n",
    "print np.average(anno_merge_con.annotations[:,1])"
   ]
  },
  {
   "cell_type": "code",
   "execution_count": 19,
   "metadata": {
    "collapsed": false
   },
   "outputs": [
    {
     "data": {
      "text/plain": [
       "array([[0, 0, 0, ..., 0, 0, 0],\n",
       "       [0, 0, 0, ..., 0, 0, 0],\n",
       "       [1, 0, 1, ..., 0, 0, 0],\n",
       "       ..., \n",
       "       [0, 0, 0, ..., 0, 0, 0],\n",
       "       [0, 0, 0, ..., 0, 0, 1],\n",
       "       [0, 0, 0, ..., 0, 0, 0]])"
      ]
     },
     "execution_count": 19,
     "metadata": {},
     "output_type": "execute_result"
    }
   ],
   "source": [
    "mergedata"
   ]
  },
  {
   "cell_type": "code",
   "execution_count": 20,
   "metadata": {
    "collapsed": false
   },
   "outputs": [
    {
     "ename": "IOError",
     "evalue": "[Errno 2] No such file or directory: 'gss_mergeposteriors_full_cohensU.csv'",
     "output_type": "error",
     "traceback": [
      "\u001b[0;31m---------------------------------------------------------------------------\u001b[0m",
      "\u001b[0;31mIOError\u001b[0m                                   Traceback (most recent call last)",
      "\u001b[0;32m<ipython-input-20-09131def4177>\u001b[0m in \u001b[0;36m<module>\u001b[0;34m()\u001b[0m\n\u001b[0;32m----> 1\u001b[0;31m \u001b[0mposterior_check\u001b[0m \u001b[0;34m=\u001b[0m \u001b[0mnp\u001b[0m\u001b[0;34m.\u001b[0m\u001b[0mloadtxt\u001b[0m\u001b[0;34m(\u001b[0m\u001b[0mfname\u001b[0m\u001b[0;34m=\u001b[0m\u001b[0;34m\"gss_mergeposteriors_full_cohensU.csv\"\u001b[0m\u001b[0;34m,\u001b[0m \u001b[0mdtype\u001b[0m\u001b[0;34m=\u001b[0m\u001b[0mint\u001b[0m\u001b[0;34m,\u001b[0m \u001b[0mdelimiter\u001b[0m\u001b[0;34m=\u001b[0m\u001b[0;34m\",\"\u001b[0m\u001b[0;34m)\u001b[0m\u001b[0;34m\u001b[0m\u001b[0m\n\u001b[0m",
      "\u001b[0;32m/usr/local/lib/python2.7/site-packages/numpy/lib/npyio.pyc\u001b[0m in \u001b[0;36mloadtxt\u001b[0;34m(fname, dtype, comments, delimiter, converters, skiprows, usecols, unpack, ndmin)\u001b[0m\n\u001b[1;32m    736\u001b[0m                 \u001b[0mfh\u001b[0m \u001b[0;34m=\u001b[0m \u001b[0miter\u001b[0m\u001b[0;34m(\u001b[0m\u001b[0mbz2\u001b[0m\u001b[0;34m.\u001b[0m\u001b[0mBZ2File\u001b[0m\u001b[0;34m(\u001b[0m\u001b[0mfname\u001b[0m\u001b[0;34m)\u001b[0m\u001b[0;34m)\u001b[0m\u001b[0;34m\u001b[0m\u001b[0m\n\u001b[1;32m    737\u001b[0m             \u001b[0;32melif\u001b[0m \u001b[0msys\u001b[0m\u001b[0;34m.\u001b[0m\u001b[0mversion_info\u001b[0m\u001b[0;34m[\u001b[0m\u001b[0;36m0\u001b[0m\u001b[0;34m]\u001b[0m \u001b[0;34m==\u001b[0m \u001b[0;36m2\u001b[0m\u001b[0;34m:\u001b[0m\u001b[0;34m\u001b[0m\u001b[0m\n\u001b[0;32m--> 738\u001b[0;31m                 \u001b[0mfh\u001b[0m \u001b[0;34m=\u001b[0m \u001b[0miter\u001b[0m\u001b[0;34m(\u001b[0m\u001b[0mopen\u001b[0m\u001b[0;34m(\u001b[0m\u001b[0mfname\u001b[0m\u001b[0;34m,\u001b[0m \u001b[0;34m'U'\u001b[0m\u001b[0;34m)\u001b[0m\u001b[0;34m)\u001b[0m\u001b[0;34m\u001b[0m\u001b[0m\n\u001b[0m\u001b[1;32m    739\u001b[0m             \u001b[0;32melse\u001b[0m\u001b[0;34m:\u001b[0m\u001b[0;34m\u001b[0m\u001b[0m\n\u001b[1;32m    740\u001b[0m                 \u001b[0mfh\u001b[0m \u001b[0;34m=\u001b[0m \u001b[0miter\u001b[0m\u001b[0;34m(\u001b[0m\u001b[0mopen\u001b[0m\u001b[0;34m(\u001b[0m\u001b[0mfname\u001b[0m\u001b[0;34m)\u001b[0m\u001b[0;34m)\u001b[0m\u001b[0;34m\u001b[0m\u001b[0m\n",
      "\u001b[0;31mIOError\u001b[0m: [Errno 2] No such file or directory: 'gss_mergeposteriors_full_cohensU.csv'"
     ]
    }
   ],
   "source": [
    "posterior_check = np.loadtxt(fname=\"gss_mergeposteriors_full_cohensU.csv\", dtype=int, delimiter=\",\")"
   ]
  },
  {
   "cell_type": "code",
   "execution_count": 21,
   "metadata": {
    "collapsed": false
   },
   "outputs": [
    {
     "ename": "NameError",
     "evalue": "name 'posterior_check' is not defined",
     "output_type": "error",
     "traceback": [
      "\u001b[0;31m---------------------------------------------------------------------------\u001b[0m",
      "\u001b[0;31mNameError\u001b[0m                                 Traceback (most recent call last)",
      "\u001b[0;32m<ipython-input-21-e671067dec4b>\u001b[0m in \u001b[0;36m<module>\u001b[0;34m()\u001b[0m\n\u001b[0;32m----> 1\u001b[0;31m \u001b[0manno_posts\u001b[0m \u001b[0;34m=\u001b[0m \u001b[0mAnnotationsContainer\u001b[0m\u001b[0;34m.\u001b[0m\u001b[0mfrom_array\u001b[0m\u001b[0;34m(\u001b[0m\u001b[0mposterior_check\u001b[0m\u001b[0;34m)\u001b[0m\u001b[0;34m\u001b[0m\u001b[0m\n\u001b[0m",
      "\u001b[0;31mNameError\u001b[0m: name 'posterior_check' is not defined"
     ]
    }
   ],
   "source": [
    "anno_posts = AnnotationsContainer.from_array(posterior_check)"
   ]
  },
  {
   "cell_type": "code",
   "execution_count": 22,
   "metadata": {
    "collapsed": false
   },
   "outputs": [
    {
     "name": "stdout",
     "output_type": "stream",
     "text": [
      "Dependent variable\n"
     ]
    },
    {
     "ename": "NameError",
     "evalue": "name 'anno_posts' is not defined",
     "output_type": "error",
     "traceback": [
      "\u001b[0;31m---------------------------------------------------------------------------\u001b[0m",
      "\u001b[0;31mNameError\u001b[0m                                 Traceback (most recent call last)",
      "\u001b[0;32m<ipython-input-22-d69671ac9fcb>\u001b[0m in \u001b[0;36m<module>\u001b[0;34m()\u001b[0m\n\u001b[1;32m      1\u001b[0m \u001b[0;32mprint\u001b[0m \u001b[0;34m\"Dependent variable\"\u001b[0m\u001b[0;34m\u001b[0m\u001b[0m\n\u001b[0;32m----> 2\u001b[0;31m \u001b[0;32mprint\u001b[0m \u001b[0mpairwise_matrix\u001b[0m\u001b[0;34m(\u001b[0m\u001b[0mcohens_kappa\u001b[0m\u001b[0;34m,\u001b[0m \u001b[0manno_posts\u001b[0m\u001b[0;34m.\u001b[0m\u001b[0mannotations\u001b[0m\u001b[0;34m[\u001b[0m\u001b[0;34m:\u001b[0m\u001b[0;34m,\u001b[0m\u001b[0;36m0\u001b[0m\u001b[0;34m:\u001b[0m\u001b[0;36m3\u001b[0m\u001b[0;34m]\u001b[0m\u001b[0;34m)\u001b[0m\u001b[0;34m\u001b[0m\u001b[0m\n\u001b[0m\u001b[1;32m      3\u001b[0m \u001b[0;32mprint\u001b[0m \u001b[0mpairwise_matrix\u001b[0m\u001b[0;34m(\u001b[0m\u001b[0mpearsons_rho\u001b[0m\u001b[0;34m,\u001b[0m \u001b[0manno_posts\u001b[0m\u001b[0;34m.\u001b[0m\u001b[0mannotations\u001b[0m\u001b[0;34m[\u001b[0m\u001b[0;34m:\u001b[0m\u001b[0;34m,\u001b[0m\u001b[0;36m0\u001b[0m\u001b[0;34m:\u001b[0m\u001b[0;36m3\u001b[0m\u001b[0;34m]\u001b[0m\u001b[0;34m)\u001b[0m\u001b[0;34m\u001b[0m\u001b[0m\n\u001b[1;32m      4\u001b[0m \u001b[0;34m\u001b[0m\u001b[0m\n\u001b[1;32m      5\u001b[0m \u001b[0;32mprint\u001b[0m \u001b[0;34m\"Independent variable\"\u001b[0m\u001b[0;34m\u001b[0m\u001b[0m\n",
      "\u001b[0;31mNameError\u001b[0m: name 'anno_posts' is not defined"
     ]
    }
   ],
   "source": [
    "print \"Dependent variable\"\n",
    "print pairwise_matrix(cohens_kappa, anno_posts.annotations[:,0:3])\n",
    "print pairwise_matrix(pearsons_rho, anno_posts.annotations[:,0:3])\n",
    "\n",
    "print \"Independent variable\"\n",
    "print pairwise_matrix(cohens_kappa, anno_posts.annotations[:,3:6])\n",
    "print pairwise_matrix(pearsons_rho, anno_posts.annotations[:,3:6])\n",
    "\n",
    "print \"Central variable\"\n",
    "print pairwise_matrix(cohens_kappa, anno_posts.annotations[:,6:9])\n",
    "print pairwise_matrix(pearsons_rho, anno_posts.annotations[:,6:9])\n",
    "\n",
    "print \"Control variable\"\n",
    "print pairwise_matrix(cohens_kappa, anno_posts.annotations[:,9:12])\n",
    "print pairwise_matrix(pearsons_rho, anno_posts.annotations[:,9:12])\n",
    "\n"
   ]
  },
  {
   "cell_type": "code",
   "execution_count": 23,
   "metadata": {
    "collapsed": false
   },
   "outputs": [
    {
     "ename": "NameError",
     "evalue": "name 'anno_posts' is not defined",
     "output_type": "error",
     "traceback": [
      "\u001b[0;31m---------------------------------------------------------------------------\u001b[0m",
      "\u001b[0;31mNameError\u001b[0m                                 Traceback (most recent call last)",
      "\u001b[0;32m<ipython-input-23-8e0bb08e39f9>\u001b[0m in \u001b[0;36m<module>\u001b[0;34m()\u001b[0m\n\u001b[0;32m----> 1\u001b[0;31m \u001b[0;32mprint\u001b[0m \u001b[0manno_posts\u001b[0m\u001b[0;34m.\u001b[0m\u001b[0mannotations\u001b[0m\u001b[0;34m.\u001b[0m\u001b[0mshape\u001b[0m\u001b[0;34m\u001b[0m\u001b[0m\n\u001b[0m",
      "\u001b[0;31mNameError\u001b[0m: name 'anno_posts' is not defined"
     ]
    }
   ],
   "source": [
    "print anno_posts.annotations.shape\n"
   ]
  },
  {
   "cell_type": "markdown",
   "metadata": {},
   "source": [
    "Hacking the Model A (by adding two blank columns)"
   ]
  },
  {
   "cell_type": "code",
   "execution_count": 24,
   "metadata": {
    "collapsed": false
   },
   "outputs": [],
   "source": [
    "from pyanno.models import ModelA\n",
    "from pyanno.models import ModelB\n",
    "from pyanno.models import ModelBt"
   ]
  },
  {
   "cell_type": "code",
   "execution_count": 25,
   "metadata": {
    "collapsed": false
   },
   "outputs": [
    {
     "name": "stdout",
     "output_type": "stream",
     "text": [
      "(21461, 6)\n"
     ]
    }
   ],
   "source": [
    "print dev.shape"
   ]
  },
  {
   "cell_type": "code",
   "execution_count": 26,
   "metadata": {
    "collapsed": false
   },
   "outputs": [],
   "source": [
    "negs2 = np.ones((21464, 2), dtype=np.int)*(-1)"
   ]
  },
  {
   "cell_type": "code",
   "execution_count": 27,
   "metadata": {
    "collapsed": false
   },
   "outputs": [
    {
     "ename": "ValueError",
     "evalue": "all the input array dimensions except for the concatenation axis must match exactly",
     "output_type": "error",
     "traceback": [
      "\u001b[0;31m---------------------------------------------------------------------------\u001b[0m",
      "\u001b[0;31mValueError\u001b[0m                                Traceback (most recent call last)",
      "\u001b[0;32m<ipython-input-27-cbf8b42b4f46>\u001b[0m in \u001b[0;36m<module>\u001b[0;34m()\u001b[0m\n\u001b[0;32m----> 1\u001b[0;31m \u001b[0mdevA\u001b[0m \u001b[0;34m=\u001b[0m \u001b[0mnp\u001b[0m\u001b[0;34m.\u001b[0m\u001b[0mconcatenate\u001b[0m\u001b[0;34m(\u001b[0m\u001b[0;34m(\u001b[0m\u001b[0mdev\u001b[0m\u001b[0;34m,\u001b[0m \u001b[0mnegs2\u001b[0m\u001b[0;34m)\u001b[0m\u001b[0;34m,\u001b[0m \u001b[0maxis\u001b[0m\u001b[0;34m=\u001b[0m\u001b[0;36m1\u001b[0m\u001b[0;34m)\u001b[0m\u001b[0;34m\u001b[0m\u001b[0m\n\u001b[0m\u001b[1;32m      2\u001b[0m \u001b[0mdevA\u001b[0m\u001b[0;34m\u001b[0m\u001b[0m\n",
      "\u001b[0;31mValueError\u001b[0m: all the input array dimensions except for the concatenation axis must match exactly"
     ]
    }
   ],
   "source": [
    "devA = np.concatenate((dev, negs2), axis=1)\n",
    "devA"
   ]
  },
  {
   "cell_type": "code",
   "execution_count": 28,
   "metadata": {
    "collapsed": false
   },
   "outputs": [
    {
     "ename": "NameError",
     "evalue": "name 'devA' is not defined",
     "output_type": "error",
     "traceback": [
      "\u001b[0;31m---------------------------------------------------------------------------\u001b[0m",
      "\u001b[0;31mNameError\u001b[0m                                 Traceback (most recent call last)",
      "\u001b[0;32m<ipython-input-28-ed7ac3ea699d>\u001b[0m in \u001b[0;36m<module>\u001b[0;34m()\u001b[0m\n\u001b[0;32m----> 1\u001b[0;31m \u001b[0manno_dvA\u001b[0m \u001b[0;34m=\u001b[0m \u001b[0mAnnotationsContainer\u001b[0m\u001b[0;34m.\u001b[0m\u001b[0mfrom_array\u001b[0m\u001b[0;34m(\u001b[0m\u001b[0mdevA\u001b[0m\u001b[0;34m)\u001b[0m\u001b[0;34m\u001b[0m\u001b[0m\n\u001b[0m",
      "\u001b[0;31mNameError\u001b[0m: name 'devA' is not defined"
     ]
    }
   ],
   "source": [
    "anno_dvA = AnnotationsContainer.from_array(devA)"
   ]
  },
  {
   "cell_type": "code",
   "execution_count": 29,
   "metadata": {
    "collapsed": false
   },
   "outputs": [],
   "source": [
    "model_devA = ModelA.create_initial_state(2)"
   ]
  },
  {
   "cell_type": "code",
   "execution_count": 30,
   "metadata": {
    "collapsed": false
   },
   "outputs": [
    {
     "data": {
      "text/plain": [
       "array([ 0.70734203,  0.79809988,  0.93681494,  0.93366036,  0.87633399,\n",
       "        0.61793138,  0.72727604,  0.93706565])"
      ]
     },
     "execution_count": 30,
     "metadata": {},
     "output_type": "execute_result"
    }
   ],
   "source": [
    "model_devA.theta"
   ]
  },
  {
   "cell_type": "code",
   "execution_count": 31,
   "metadata": {
    "collapsed": false
   },
   "outputs": [
    {
     "ename": "NameError",
     "evalue": "name 'anno_dvA' is not defined",
     "output_type": "error",
     "traceback": [
      "\u001b[0;31m---------------------------------------------------------------------------\u001b[0m",
      "\u001b[0;31mNameError\u001b[0m                                 Traceback (most recent call last)",
      "\u001b[0;32m<ipython-input-31-80f6a29ab8aa>\u001b[0m in \u001b[0;36m<module>\u001b[0;34m()\u001b[0m\n\u001b[0;32m----> 1\u001b[0;31m \u001b[0mmodel_devA\u001b[0m\u001b[0;34m.\u001b[0m\u001b[0mmap\u001b[0m\u001b[0;34m(\u001b[0m\u001b[0manno_dvA\u001b[0m\u001b[0;34m.\u001b[0m\u001b[0mannotations\u001b[0m\u001b[0;34m)\u001b[0m\u001b[0;34m\u001b[0m\u001b[0m\n\u001b[0m",
      "\u001b[0;31mNameError\u001b[0m: name 'anno_dvA' is not defined"
     ]
    }
   ],
   "source": [
    "model_devA.map(anno_dvA.annotations)"
   ]
  },
  {
   "cell_type": "code",
   "execution_count": 324,
   "metadata": {
    "collapsed": false
   },
   "outputs": [
    {
     "name": "stdout",
     "output_type": "stream",
     "text": [
      "[ 0.00265466  0.99734534]\n",
      "-67698.5649797\n"
     ]
    }
   ],
   "source": [
    "model_dvB = ModelB.create_initial_state(2, 6)\n",
    "print model_dvB.pi\n",
    "print model_dvB.log_likelihood(anno_dv.annotations)"
   ]
  },
  {
   "cell_type": "code",
   "execution_count": 325,
   "metadata": {
    "collapsed": false
   },
   "outputs": [
    {
     "name": "stdout",
     "output_type": "stream",
     "text": [
      "[ 0.69455487  0.30544513]\n",
      "-25462.473635\n"
     ]
    }
   ],
   "source": [
    "model_dvB.map(anno_dv.annotations)\n",
    "print model_dvB.pi\n",
    "print model_dvB.log_likelihood(anno_dv.annotations)"
   ]
  },
  {
   "cell_type": "code",
   "execution_count": 326,
   "metadata": {
    "collapsed": false
   },
   "outputs": [
    {
     "name": "stdout",
     "output_type": "stream",
     "text": [
      "(21461, 2)\n",
      "(21461, 6)\n",
      "[[ 0.99277483  0.00722517]\n",
      " [ 0.78378012  0.21621988]\n",
      " [ 0.99277483  0.00722517]\n",
      " ..., \n",
      " [ 0.94992254  0.05007746]\n",
      " [ 0.94992254  0.05007746]\n",
      " [ 0.94992254  0.05007746]]\n"
     ]
    }
   ],
   "source": [
    "# compute the posterior distribution over true annotations\n",
    "posterior_dvB = model_dvB.infer_labels(anno_dv.annotations)\n",
    "print posterior_dvB.shape\n",
    "print anno_dv.annotations.shape\n",
    "# each row show the probability of each label class for the\n",
    "# corresponding item\n",
    "print posterior"
   ]
  },
  {
   "cell_type": "code",
   "execution_count": 327,
   "metadata": {
    "collapsed": false
   },
   "outputs": [],
   "source": [
    "samples_dvB = model_dvB.sample_posterior_over_accuracy(anno_dv.annotations, 200, burn_in_samples=100, thin_samples=3)"
   ]
  },
  {
   "cell_type": "code",
   "execution_count": 328,
   "metadata": {
    "collapsed": false
   },
   "outputs": [
    {
     "name": "stdout",
     "output_type": "stream",
     "text": [
      "[[[ 0.9792372   0.0207628 ]\n",
      "  [ 0.51505718  0.48494282]]\n",
      "\n",
      " [[ 0.96908844  0.03091156]\n",
      "  [ 0.25949934  0.74050066]]\n",
      "\n",
      " [[ 0.98294352  0.01705648]\n",
      "  [ 0.34690563  0.65309437]]\n",
      "\n",
      " [[ 0.93465367  0.06534633]\n",
      "  [ 0.24001862  0.75998138]]\n",
      "\n",
      " [[ 0.69249657  0.30750343]\n",
      "  [ 0.04553065  0.95446935]]\n",
      "\n",
      " [[ 0.86346201  0.13653799]\n",
      "  [ 0.06878648  0.93121352]]]\n",
      "[[[ 0.00223971  0.00223971]\n",
      "  [ 0.01220077  0.01220077]]\n",
      "\n",
      " [[ 0.00318966  0.00318966]\n",
      "  [ 0.01186946  0.01186946]]\n",
      "\n",
      " [[ 0.00311056  0.00311056]\n",
      "  [ 0.01276822  0.01276822]]\n",
      "\n",
      " [[ 0.00468154  0.00468154]\n",
      "  [ 0.01255932  0.01255932]]\n",
      "\n",
      " [[ 0.0068435   0.0068435 ]\n",
      "  [ 0.00528945  0.00528945]]\n",
      "\n",
      " [[ 0.00713735  0.00713735]\n",
      "  [ 0.00789741  0.00789741]]]\n",
      "(6, 2, 2)\n"
     ]
    }
   ],
   "source": [
    "# we can then compute a credible interval for the parameters:\n",
    "ci_dv_mean = samples_dvB[0].mean(axis=0)\n",
    "print ci_dv_mean\n",
    "\n",
    "ci_dv_stdev = samples_dvB[0].std(axis=0)\n",
    "print ci_dv_stdev\n",
    "print ci_dv_stdev.shape"
   ]
  },
  {
   "cell_type": "markdown",
   "metadata": {},
   "source": [
    "B estimates for other variables"
   ]
  },
  {
   "cell_type": "code",
   "execution_count": 267,
   "metadata": {
    "collapsed": false
   },
   "outputs": [
    {
     "name": "stdout",
     "output_type": "stream",
     "text": [
      "-160.763707314\n",
      "[  9.20933481e-20   1.00000000e+00]\n",
      "-48.9756711394\n",
      "(48, 6)\n",
      "(48, 2)\n",
      "[[[ 0.79728625  0.20271375]\n",
      "  [ 0.12733022  0.87266978]]\n",
      "\n",
      " [[ 0.79697037  0.20302963]\n",
      "  [ 0.09347859  0.90652141]]\n",
      "\n",
      " [[ 0.80834214  0.19165786]\n",
      "  [ 0.50120866  0.49879134]]\n",
      "\n",
      " [[ 0.79463979  0.20536021]\n",
      "  [ 0.07220905  0.92779095]]\n",
      "\n",
      " [[ 0.80135186  0.19864814]\n",
      "  [ 0.35913689  0.64086311]]\n",
      "\n",
      " [[ 0.79556005  0.20443995]\n",
      "  [ 0.12893161  0.87106839]]]\n"
     ]
    }
   ],
   "source": [
    "#test\n",
    "model_testB = ModelB.create_initial_state(2, 6)\n",
    "print model_testB.log_likelihood(anno_test.annotations)\n",
    "model_testB.map(anno_test.annotations)\n",
    "print model_testB.pi\n",
    "print model_testB.log_likelihood(anno_test.annotations)\n",
    "print anno_test.annotations.shape\n",
    "posterior_testB = model_testB.infer_labels(anno_test.annotations)\n",
    "print posterior_testB.shape\n",
    "samples_testB = model_testB.sample_posterior_over_accuracy(anno_test.annotations, 200, burn_in_samples=100, thin_samples=3)\n",
    "ci_test_mean = samples_testB[0].mean(axis=0)\n",
    "print ci_test_mean"
   ]
  },
  {
   "cell_type": "code",
   "execution_count": 329,
   "metadata": {
    "collapsed": false
   },
   "outputs": [
    {
     "name": "stdout",
     "output_type": "stream",
     "text": [
      "-36878.2151801\n",
      "[ 0.61093546  0.38906454]\n",
      "-28620.6652325\n",
      "(21461, 6)\n",
      "(21461, 2)\n",
      "[[[ 0.97094674  0.02905326]\n",
      "  [ 0.347209    0.652791  ]]\n",
      "\n",
      " [[ 0.93759217  0.06240783]\n",
      "  [ 0.05351226  0.94648774]]\n",
      "\n",
      " [[ 0.65848424  0.34151576]\n",
      "  [ 0.21055995  0.78944005]]\n",
      "\n",
      " [[ 0.53664141  0.46335859]\n",
      "  [ 0.03089476  0.96910524]]\n",
      "\n",
      " [[ 0.87482742  0.12517258]\n",
      "  [ 0.10027926  0.89972074]]\n",
      "\n",
      " [[ 0.89151014  0.10848986]\n",
      "  [ 0.09008307  0.90991693]]]\n",
      "-37461.158059\n",
      "[ 0.23988844  0.76011156]\n",
      "-25034.9185558\n",
      "(21461, 6)\n",
      "(21461, 2)\n",
      "[[[ 0.89027037  0.10972963]\n",
      "  [ 0.06879129  0.93120871]]\n",
      "\n",
      " [[ 0.78180864  0.21819136]\n",
      "  [ 0.05686058  0.94313942]]\n",
      "\n",
      " [[ 0.99179932  0.00820068]\n",
      "  [ 0.84064577  0.15935423]]\n",
      "\n",
      " [[ 0.95074227  0.04925773]\n",
      "  [ 0.4548972   0.5451028 ]]\n",
      "\n",
      " [[ 0.67409391  0.32590609]\n",
      "  [ 0.05685613  0.94314387]]\n",
      "\n",
      " [[ 0.59001192  0.40998808]\n",
      "  [ 0.09554745  0.90445255]]]\n",
      "-25014.405559\n",
      "[ 0.83068326  0.16931674]\n",
      "-19415.7020352\n",
      "(21461, 6)\n",
      "(21461, 2)\n",
      "[[[ 0.97112284  0.02887716]\n",
      "  [ 0.3481723   0.6518277 ]]\n",
      "\n",
      " [[ 0.93718801  0.06281199]\n",
      "  [ 0.05323221  0.94676779]]\n",
      "\n",
      " [[ 0.65751865  0.34248135]\n",
      "  [ 0.20941725  0.79058275]]\n",
      "\n",
      " [[ 0.53556563  0.46443437]\n",
      "  [ 0.03061183  0.96938817]]\n",
      "\n",
      " [[ 0.87573023  0.12426977]\n",
      "  [ 0.09905936  0.90094064]]\n",
      "\n",
      " [[ 0.89122305  0.10877695]\n",
      "  [ 0.09024099  0.90975901]]]\n"
     ]
    }
   ],
   "source": [
    "#indepedent variables\n",
    "model_ivB = ModelB.create_initial_state(2, 6)\n",
    "print model_ivB.log_likelihood(anno_iv.annotations)\n",
    "model_ivB.map(anno_iv.annotations)\n",
    "print model_ivB.pi\n",
    "print model_ivB.log_likelihood(anno_iv.annotations)\n",
    "print anno_iv.annotations.shape\n",
    "posterior_ivB = model_ivB.infer_labels(anno_iv.annotations)\n",
    "print posterior_ivB.shape\n",
    "samples_ivB = model_ivB.sample_posterior_over_accuracy(anno_iv.annotations, 200, burn_in_samples=100, thin_samples=3)\n",
    "ci_iv_mean = samples_ivB[0].mean(axis=0)\n",
    "print ci_iv_mean\n",
    "\n",
    "#central variables\n",
    "model_cvB = ModelB.create_initial_state(2, 6)\n",
    "print model_cvB.log_likelihood(anno_cv.annotations)\n",
    "model_cvB.map(anno_cv.annotations)\n",
    "print model_cvB.pi\n",
    "print model_cvB.log_likelihood(anno_cv.annotations)\n",
    "print anno_cv.annotations.shape\n",
    "posterior_cvB = model_cvB.infer_labels(anno_cv.annotations)\n",
    "print posterior_cvB.shape\n",
    "samples_cvB = model_cvB.sample_posterior_over_accuracy(anno_cv.annotations, 200, burn_in_samples=100, thin_samples=3)\n",
    "ci_cv_mean = samples_cvB[0].mean(axis=0)\n",
    "print ci_cv_mean\n",
    "\n",
    "#control variables\n",
    "model_ctvB = ModelB.create_initial_state(2, 6)\n",
    "print model_ctvB.log_likelihood(anno_ctv.annotations)\n",
    "model_ctvB.map(anno_ctv.annotations)\n",
    "print model_ctvB.pi\n",
    "print model_ctvB.log_likelihood(anno_ctv.annotations)\n",
    "print anno_ctv.annotations.shape\n",
    "posterior_ctvB = model_ctvB.infer_labels(anno_ctv.annotations)\n",
    "print posterior_ctvB.shape\n",
    "samples_ctvB = model_ctvB.sample_posterior_over_accuracy(anno_iv.annotations, 200, burn_in_samples=100, thin_samples=3)\n",
    "ci_ctv_mean = samples_ctvB[0].mean(axis=0)\n",
    "print ci_ctv_mean"
   ]
  },
  {
   "cell_type": "markdown",
   "metadata": {},
   "source": [
    "Now for the Bt models"
   ]
  },
  {
   "cell_type": "code",
   "execution_count": 305,
   "metadata": {
    "collapsed": false
   },
   "outputs": [
    {
     "name": "stdout",
     "output_type": "stream",
     "text": [
      "-31538.9929872\n"
     ]
    }
   ],
   "source": [
    "model_dvBt = ModelBt.create_initial_state(2, 7)\n",
    "\n",
    "#print model_dvB.pi\n",
    "print model_dvBt.log_likelihood(anno_dv.annotations)"
   ]
  },
  {
   "cell_type": "code",
   "execution_count": 306,
   "metadata": {
    "collapsed": false
   },
   "outputs": [
    {
     "name": "stdout",
     "output_type": "stream",
     "text": [
      "-27730.0309218\n"
     ]
    }
   ],
   "source": [
    "model_dvBt.map(anno_dv.annotations)\n",
    "print model_dvBt.log_likelihood(anno_dv.annotations)"
   ]
  },
  {
   "cell_type": "code",
   "execution_count": 250,
   "metadata": {
    "collapsed": false
   },
   "outputs": [
    {
     "name": "stdout",
     "output_type": "stream",
     "text": [
      "(1755, 2)\n",
      "[[ 0.82409515  0.17590485]\n",
      " [ 0.00264552  0.99735448]\n",
      " [ 0.98696724  0.01303276]\n",
      " ..., \n",
      " [ 0.02170252  0.97829748]\n",
      " [ 0.58034303  0.41965697]\n",
      " [ 0.02170252  0.97829748]]\n"
     ]
    }
   ],
   "source": [
    "# compute the posterior distribution over true annotations\n",
    "posterior_dvBt = model_dvBt.infer_labels(anno_dv.annotations)\n",
    "print posterior_dvBt.shape\n",
    "# each row show the probability of each label class for the\n",
    "# corresponding item\n",
    "print posterior_dvBt"
   ]
  },
  {
   "cell_type": "code",
   "execution_count": 251,
   "metadata": {
    "collapsed": false
   },
   "outputs": [],
   "source": [
    "samples_dvBt = model_dvBt.sample_posterior_over_accuracy(anno_dv.annotations, 200, burn_in_samples=100, thin_samples=3)"
   ]
  },
  {
   "cell_type": "code",
   "execution_count": 252,
   "metadata": {
    "collapsed": false
   },
   "outputs": [
    {
     "name": "stdout",
     "output_type": "stream",
     "text": [
      "[ 0.84109423  0.90866046  0.26758786  0.54102117  0.87461539  0.80715753\n",
      "  0.59200203]\n",
      "[ 0.01487131  0.01522477  0.02900773  0.02439919  0.01449132  0.02028668\n",
      "  0.07231733]\n",
      "(7,)\n"
     ]
    }
   ],
   "source": [
    "# we can then compute a credible interval for the parameters:\n",
    "ci_dv_meanBt = samples_dvBt.mean(axis=0)\n",
    "print ci_dv_meanBt\n",
    "\n",
    "ci_dv_stdevBt = samples_dvBt.std(axis=0)\n",
    "print ci_dv_stdevBt\n",
    "print ci_dv_stdevBt.shape"
   ]
  },
  {
   "cell_type": "markdown",
   "metadata": {},
   "source": [
    "Bt estimates for other variables"
   ]
  },
  {
   "cell_type": "code",
   "execution_count": 243,
   "metadata": {
    "collapsed": false
   },
   "outputs": [
    {
     "name": "stdout",
     "output_type": "stream",
     "text": [
      "-2061.54848941\n",
      "-1790.00853363\n",
      "[ 0.98495093  0.94276877  0.87282053  0.83148504  0.64356573  0.71616554\n",
      "  0.74055411]\n",
      "-1903.57018961\n",
      "-1632.30560108\n",
      "[ 0.95493278  0.91219124  0.87459821  0.79022961  0.81851628  0.9233728\n",
      "  0.89892025]\n",
      "-1280.83504527\n",
      "-20.0239887563\n",
      "[ 0.99887538  0.99840864  0.99526555  0.88654119  0.99809589  0.99758836\n",
      "  0.85513793]\n"
     ]
    }
   ],
   "source": [
    "model_ivBt = ModelBt.create_initial_state(2, 7)\n",
    "print model_ivBt.log_likelihood(anno_iv.annotations)\n",
    "model_ivBt.map(anno_iv.annotations)\n",
    "print model_ivBt.log_likelihood(anno_iv.annotations)\n",
    "posterior_ivBt = model_ivBt.infer_labels(anno_iv.annotations)\n",
    "samples_ivBt = model_ivBt.sample_posterior_over_accuracy(anno_iv.annotations, 200, burn_in_samples=100, thin_samples=3)\n",
    "ci_iv_meanBt = samples_ivBt.mean(axis=0)\n",
    "print ci_iv_meanBt\n",
    "\n",
    "model_cvBt = ModelBt.create_initial_state(2, 7)\n",
    "print model_cvBt.log_likelihood(anno_cv.annotations)\n",
    "model_cvBt.map(anno_cv.annotations)\n",
    "print model_cvBt.log_likelihood(anno_cv.annotations)\n",
    "posterior_cvBt = model_cvBt.infer_labels(anno_cv.annotations)\n",
    "samples_cvBt = model_cvBt.sample_posterior_over_accuracy(anno_cv.annotations, 200, burn_in_samples=100, thin_samples=3)\n",
    "ci_cv_meanBt = samples_cvBt.mean(axis=0)\n",
    "print ci_cv_meanBt\n",
    "\n",
    "model_ctvBt = ModelBt.create_initial_state(2, 7)\n",
    "print model_ctvBt.log_likelihood(anno_ctv.annotations)\n",
    "model_ctvBt.map(anno_ctv.annotations)\n",
    "print model_ctvB.log_likelihood(anno_ctv.annotations)\n",
    "posterior_ctvBt = model_ctvBt.infer_labels(anno_ctv.annotations)\n",
    "samples_ctvBt = model_ctvBt.sample_posterior_over_accuracy(anno_ctv.annotations, 200, burn_in_samples=100, thin_samples=3)\n",
    "ci_ctv_meanBt = samples_ctvBt.mean(axis=0)\n",
    "print ci_ctv_meanBt"
   ]
  },
  {
   "cell_type": "markdown",
   "metadata": {},
   "source": [
    "Package up into something testable against author data"
   ]
  },
  {
   "cell_type": "code",
   "execution_count": 271,
   "metadata": {
    "collapsed": false
   },
   "outputs": [
    {
     "name": "stdout",
     "output_type": "stream",
     "text": [
      "(1755, 2)\n",
      "(1755, 2)\n",
      "(1755, 2)\n",
      "(1755, 2)\n",
      "(1755, 2)\n",
      "(1755, 2)\n",
      "(1755, 2)\n",
      "(1755, 2)\n"
     ]
    }
   ],
   "source": [
    "print posterior_dvB.shape\n",
    "print posterior_ivB.shape\n",
    "print posterior_cvB.shape\n",
    "print posterior_ctvB.shape\n",
    "print posterior_dvBt.shape\n",
    "print posterior_ivBt.shape\n",
    "print posterior_cvBt.shape\n",
    "print posterior_ctvBt.shape"
   ]
  },
  {
   "cell_type": "code",
   "execution_count": 253,
   "metadata": {
    "collapsed": false
   },
   "outputs": [
    {
     "name": "stdout",
     "output_type": "stream",
     "text": [
      "[[ 0.97228992  0.02771008]\n",
      " [ 0.00159335  0.99840665]\n",
      " [ 0.9983923   0.0016077 ]\n",
      " ..., \n",
      " [ 0.11945379  0.88054621]\n",
      " [ 0.74139328  0.25860672]\n",
      " [ 0.11945379  0.88054621]]\n"
     ]
    }
   ],
   "source": []
  },
  {
   "cell_type": "code",
   "execution_count": 330,
   "metadata": {
    "collapsed": false
   },
   "outputs": [],
   "source": [
    "predicted_annotations = np.concatenate((posterior_dvB, posterior_ivB, posterior_cvB, posterior_ctvB), axis=1) # posterior_dvBt, posterior_ivBt, posterior_cvBt, posterior_ctvBt), axis=1)"
   ]
  },
  {
   "cell_type": "code",
   "execution_count": 331,
   "metadata": {
    "collapsed": false
   },
   "outputs": [
    {
     "data": {
      "text/plain": [
       "(21461, 8)"
      ]
     },
     "execution_count": 331,
     "metadata": {},
     "output_type": "execute_result"
    }
   ],
   "source": [
    "predicted_annotations.shape"
   ]
  },
  {
   "cell_type": "code",
   "execution_count": 332,
   "metadata": {
    "collapsed": false
   },
   "outputs": [],
   "source": [
    "np.savetxt(\"B_outputs.txt\", predicted_annotations, delimiter='\\t')"
   ]
  },
  {
   "cell_type": "markdown",
   "metadata": {},
   "source": [
    "Data gathered from the following query: \"mysql lanl -e \"Select dependent, posterior_dvB, posterior_dvBt, independent, posterior_ivB, posterior_ivBt, central, posterior_cvB, posterior_cvBt, control, posterior_ctvB, posterior_ctvBt, dontknow from gss_answers_auth a, gss_answers_posteriors b where a.article_id=b.article_id and a.variable=b.variable\" > gss_mergeposteriors.txt\""
   ]
  },
  {
   "cell_type": "code",
   "execution_count": null,
   "metadata": {
    "collapsed": false
   },
   "outputs": [],
   "source": [
    "mergeposteriors = np.loadtxt(fname=\"gss_mergeposteriors.txt\", dtype=float, delimiter=\"\\t\")"
   ]
  }
 ],
 "metadata": {
  "kernelspec": {
   "display_name": "Python 2",
   "language": "python",
   "name": "python2"
  },
  "language_info": {
   "codemirror_mode": {
    "name": "ipython",
    "version": 2
   },
   "file_extension": ".py",
   "mimetype": "text/x-python",
   "name": "python",
   "nbconvert_exporter": "python",
   "pygments_lexer": "ipython2",
   "version": "2.7.9"
  }
 },
 "nbformat": 4,
 "nbformat_minor": 0
}
