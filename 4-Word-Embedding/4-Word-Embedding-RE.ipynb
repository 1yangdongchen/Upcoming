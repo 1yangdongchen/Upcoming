{
 "cells": [
  {
   "cell_type": "markdown",
   "metadata": {},
   "source": [
    "# Week 4 - Word Embeddings\n",
    "\n",
    "This week, we build on last week's topic modeling techniques by taking a text corpus we have developed, specifying an underlying number of dimensions, and training a model with a neural network auto-encoder (one of Google's word2vec  algorithms) that best describes corpus words in their local linguistic contexts, and exploring their locations in the resulting space to learn about the discursive culture that produced them. Documents here are represented as densely indexed locations in dimensions, rather than sparse mixtures of topics (as in LDA topic modeling), so that distances between those documents (and words) are consistently superior, though they require the full vector of dimension loadings (rather than just a few selected topic loadings) to describe. We will explore these spaces to understand complex, semantic relationships between words, index documents with descriptive words, identify the likelihood that a given document would have been produced by a given vector model, and explore how semantic categories can help us understand the cultures that produced them.\n",
    "\n",
    "For this notebook we will be using the following packages"
   ]
  },
  {
   "cell_type": "code",
   "execution_count": 1,
   "metadata": {
    "collapsed": true
   },
   "outputs": [],
   "source": [
    "#Special module written for this class\n",
    "#This provides access to data and to helper functions from previous weeks\n",
    "#Make sure you update it before starting this notebook\n",
    "import lucem_illud #pip install -U git+git://github.com/Computational-Content-Analysis-2018/lucem_illud.git\n",
    "\n",
    "#All these packages need to be installed from pip\n",
    "import gensim#For word2vec, etc\n",
    "import requests #For downloading our datasets\n",
    "import nltk #For stop words and stemmers\n",
    "nltk.data.path.append('../data/nltk_data')\n",
    "import numpy as np #For arrays\n",
    "import pandas #Gives us DataFrames\n",
    "import matplotlib.pyplot as plt #For graphics\n",
    "import seaborn #Makes the graphics look nicer\n",
    "import sklearn.metrics.pairwise #For cosine similarity\n",
    "import sklearn.manifold #For T-SNE\n",
    "import sklearn.decomposition #For PCA\n",
    "\n",
    "#This 'magic' command makes the plots work better\n",
    "#in the notebook, don't use it outside of a notebook.\n",
    "#Also you can ignore the warning\n",
    "%matplotlib inline\n",
    "\n",
    "import os #For looking through files\n",
    "import os.path #For managing file paths"
   ]
  },
  {
   "cell_type": "markdown",
   "metadata": {},
   "source": [
    "# Getting our corpora\n",
    "\n",
    "Instead of downloading our corpora, we have download them in advance; a subset of the [senate press releases](https://github.com/lintool/GrimmerSenatePressReleases) are in `grimmerPressReleases`. We will load them into a DataFrame, using a function from a couple weeks ago `loadTextDirectory`:"
   ]
  },
  {
   "cell_type": "code",
   "execution_count": 2,
   "metadata": {
    "collapsed": false
   },
   "outputs": [
    {
     "data": {
      "text/html": [
       "<div>\n",
       "<style scoped>\n",
       "    .dataframe tbody tr th:only-of-type {\n",
       "        vertical-align: middle;\n",
       "    }\n",
       "\n",
       "    .dataframe tbody tr th {\n",
       "        vertical-align: top;\n",
       "    }\n",
       "\n",
       "    .dataframe thead th {\n",
       "        text-align: right;\n",
       "    }\n",
       "</style>\n",
       "<table border=\"1\" class=\"dataframe\">\n",
       "  <thead>\n",
       "    <tr style=\"text-align: right;\">\n",
       "      <th></th>\n",
       "      <th>text</th>\n",
       "    </tr>\n",
       "  </thead>\n",
       "  <tbody>\n",
       "    <tr>\n",
       "      <th>01Apr2005Kennedy14.txt</th>\n",
       "      <td>FOR IMMEDIATE RELEASE   FOR IMMEDIATE...</td>\n",
       "    </tr>\n",
       "    <tr>\n",
       "      <th>01Aug2005Kennedy12.txt</th>\n",
       "      <td>FOR IMMEDIATE RELEASE   FOR IMMEDIATE...</td>\n",
       "    </tr>\n",
       "    <tr>\n",
       "      <th>01Aug2006Kennedy10.txt</th>\n",
       "      <td>FOR IMMEDIATE RELEASE  FOR IMMEDIATE ...</td>\n",
       "    </tr>\n",
       "    <tr>\n",
       "      <th>01Aug2006Kennedy11.txt</th>\n",
       "      <td>FOR IMMEDIATE RELEASE  FOR IMMEDIATE ...</td>\n",
       "    </tr>\n",
       "    <tr>\n",
       "      <th>01Aug2006Kennedy12.txt</th>\n",
       "      <td>FOR IMMEDIATE RELEASE  FOR IMMEDIATE ...</td>\n",
       "    </tr>\n",
       "    <tr>\n",
       "      <th>01Aug2006Kennedy13.txt</th>\n",
       "      <td>FOR IMMEDIATE RELEASE  FOR IMMEDIATE ...</td>\n",
       "    </tr>\n",
       "    <tr>\n",
       "      <th>01Aug2006Kennedy14.txt</th>\n",
       "      <td>FOR IMMEDIATE RELEASE  FOR IMMEDIATE ...</td>\n",
       "    </tr>\n",
       "    <tr>\n",
       "      <th>01Aug2007Kennedy5.txt</th>\n",
       "      <td>FOR IMMEDIATE RELEASE  WASHINGTON  DC...</td>\n",
       "    </tr>\n",
       "    <tr>\n",
       "      <th>01Aug2007Kennedy6.txt</th>\n",
       "      <td>FOR IMMEDIATE RELEASE    Rachel Racus...</td>\n",
       "    </tr>\n",
       "    <tr>\n",
       "      <th>01Aug2007Kennedy7.txt</th>\n",
       "      <td>FOR IMMEDIATE RELEASE  WASHINGTON  DC...</td>\n",
       "    </tr>\n",
       "    <tr>\n",
       "      <th>01Dec2005Kennedy10.txt</th>\n",
       "      <td>FOR IMMEDIATE RELEASE     Washington ...</td>\n",
       "    </tr>\n",
       "    <tr>\n",
       "      <th>01Dec2005Kennedy11.txt</th>\n",
       "      <td>FOR IMMEDIATE RELEASE     The Irish P...</td>\n",
       "    </tr>\n",
       "    <tr>\n",
       "      <th>01Dec2005Kennedy12.txt</th>\n",
       "      <td>FOR IMMEDIATE RELEASE     Washington ...</td>\n",
       "    </tr>\n",
       "    <tr>\n",
       "      <th>01Dec2005Kennedy13.txt</th>\n",
       "      <td>FOR IMMEDIATE RELEASE     Today s res...</td>\n",
       "    </tr>\n",
       "    <tr>\n",
       "      <th>01Dec2005Kennedy14.txt</th>\n",
       "      <td>FOR IMMEDIATE RELEASE  World AIDS Day...</td>\n",
       "    </tr>\n",
       "    <tr>\n",
       "      <th>01Dec2006Kennedy1.txt</th>\n",
       "      <td>FOR IMMEDIATE RELEASE  Washington  D ...</td>\n",
       "    </tr>\n",
       "    <tr>\n",
       "      <th>01Dec2006Kennedy2.txt</th>\n",
       "      <td>FOR IMMEDIATE RELEASE  Washington  D ...</td>\n",
       "    </tr>\n",
       "    <tr>\n",
       "      <th>01Feb2005Kennedy5.txt</th>\n",
       "      <td>FOR IMMEDIATE RELEASE      Mr  Presid...</td>\n",
       "    </tr>\n",
       "    <tr>\n",
       "      <th>01Feb2006Kennedy0.txt</th>\n",
       "      <td>FOR IMMEDIATE RELEASE     Today  the ...</td>\n",
       "    </tr>\n",
       "    <tr>\n",
       "      <th>01Feb2006Kennedy10.txt</th>\n",
       "      <td>FOR IMMEDIATE RELEASE  I agree with P...</td>\n",
       "    </tr>\n",
       "    <tr>\n",
       "      <th>01Feb2006Kennedy11.txt</th>\n",
       "      <td>FOR IMMEDIATE RELEASE      Fact sheet...</td>\n",
       "    </tr>\n",
       "    <tr>\n",
       "      <th>01Feb2006Kennedy12.txt</th>\n",
       "      <td>FOR IMMEDIATE RELEASE     I agree wit...</td>\n",
       "    </tr>\n",
       "    <tr>\n",
       "      <th>01Feb2006Kennedy13.txt</th>\n",
       "      <td>FOR IMMEDIATE RELEASE  Today  the Hou...</td>\n",
       "    </tr>\n",
       "    <tr>\n",
       "      <th>01Feb2006Kennedy14.txt</th>\n",
       "      <td>FOR IMMEDIATE RELEASE  REID     We re...</td>\n",
       "    </tr>\n",
       "    <tr>\n",
       "      <th>01Feb2006Kennedy9.txt</th>\n",
       "      <td>FOR IMMEDIATE RELEASE         Fact sh...</td>\n",
       "    </tr>\n",
       "    <tr>\n",
       "      <th>01Feb2007Kennedy0.txt</th>\n",
       "      <td>FOR IMMEDIATE RELEASE  WASHINGTON  DC...</td>\n",
       "    </tr>\n",
       "    <tr>\n",
       "      <th>01Feb2007Kennedy1.txt</th>\n",
       "      <td>FOR IMMEDIATE RELEASE  Washington  DC...</td>\n",
       "    </tr>\n",
       "    <tr>\n",
       "      <th>01Feb2007Kennedy11.txt</th>\n",
       "      <td>FOR IMMEDIATE RELEASE  CONTACTS  Meli...</td>\n",
       "    </tr>\n",
       "    <tr>\n",
       "      <th>01Feb2007Kennedy12.txt</th>\n",
       "      <td>FOR IMMEDIATE RELEASE  A decade ago  ...</td>\n",
       "    </tr>\n",
       "    <tr>\n",
       "      <th>01Feb2007Kennedy13.txt</th>\n",
       "      <td>FOR IMMEDIATE RELEASE    FACT SHEET I...</td>\n",
       "    </tr>\n",
       "    <tr>\n",
       "      <th>...</th>\n",
       "      <td>...</td>\n",
       "    </tr>\n",
       "    <tr>\n",
       "      <th>31Aug2005Kennedy5.txt</th>\n",
       "      <td>FOR IMMEDIATE RELEASE   FOR IMMEDIATE...</td>\n",
       "    </tr>\n",
       "    <tr>\n",
       "      <th>31Aug2006Kennedy8.txt</th>\n",
       "      <td>FOR IMMEDIATE RELEASE  FOR IMMEDIATE ...</td>\n",
       "    </tr>\n",
       "    <tr>\n",
       "      <th>31Aug2007Kennedy0.txt</th>\n",
       "      <td>FOR IMMEDIATE RELEASE  WASHINGTON  DC...</td>\n",
       "    </tr>\n",
       "    <tr>\n",
       "      <th>31Dec2006Kennedy8.txt</th>\n",
       "      <td>FOR IMMEDIATE RELEASE  All Americans ...</td>\n",
       "    </tr>\n",
       "    <tr>\n",
       "      <th>31Dec2006Kennedy9.txt</th>\n",
       "      <td>FOR IMMEDIATE RELEASE  All Americans ...</td>\n",
       "    </tr>\n",
       "    <tr>\n",
       "      <th>31Jan2006Kennedy1.txt</th>\n",
       "      <td>FOR IMMEDIATE RELEASE  GIBSON  For so...</td>\n",
       "    </tr>\n",
       "    <tr>\n",
       "      <th>31Jan2006Kennedy2.txt</th>\n",
       "      <td>FOR IMMEDIATE RELEASE  SMITH     Lots...</td>\n",
       "    </tr>\n",
       "    <tr>\n",
       "      <th>31Jan2006Kennedy3.txt</th>\n",
       "      <td>FOR IMMEDIATE RELEASE  KAGAN  A lot o...</td>\n",
       "    </tr>\n",
       "    <tr>\n",
       "      <th>31Jan2006Kennedy4.txt</th>\n",
       "      <td>FOR IMMEDIATE RELEASE    2229  A bill...</td>\n",
       "    </tr>\n",
       "    <tr>\n",
       "      <th>31Jan2007Kennedy6.txt</th>\n",
       "      <td>FOR IMMEDIATE RELEASE   We have now r...</td>\n",
       "    </tr>\n",
       "    <tr>\n",
       "      <th>31Jan2007Kennedy7.txt</th>\n",
       "      <td>FOR IMMEDIATE RELEASE  Washington  D ...</td>\n",
       "    </tr>\n",
       "    <tr>\n",
       "      <th>31Jan2007Kennedy8.txt</th>\n",
       "      <td>FOR IMMEDIATE RELEASE  Its a privileg...</td>\n",
       "    </tr>\n",
       "    <tr>\n",
       "      <th>31Jul2007Kennedy10.txt</th>\n",
       "      <td>FOR IMMEDIATE RELEASE      LIST OF BI...</td>\n",
       "    </tr>\n",
       "    <tr>\n",
       "      <th>31Jul2007Kennedy11.txt</th>\n",
       "      <td>FOR IMMEDIATE RELEASE  Washington  DC...</td>\n",
       "    </tr>\n",
       "    <tr>\n",
       "      <th>31Jul2007Kennedy8.txt</th>\n",
       "      <td>FOR IMMEDIATE RELEASE  I join my coll...</td>\n",
       "    </tr>\n",
       "    <tr>\n",
       "      <th>31Jul2007Kennedy9.txt</th>\n",
       "      <td>FOR IMMEDIATE RELEASE  WASHINGTON  DC...</td>\n",
       "    </tr>\n",
       "    <tr>\n",
       "      <th>31Mar2005Kennedy0.txt</th>\n",
       "      <td>FOR IMMEDIATE RELEASE   FOR IMMEDIATE...</td>\n",
       "    </tr>\n",
       "    <tr>\n",
       "      <th>31Mar2005Kennedy1.txt</th>\n",
       "      <td>FOR IMMEDIATE RELEASE    FOR IMMEDIAT...</td>\n",
       "    </tr>\n",
       "    <tr>\n",
       "      <th>31Mar2005Kennedy2.txt</th>\n",
       "      <td>FOR IMMEDIATE RELEASE   FOR IMMEDIATE...</td>\n",
       "    </tr>\n",
       "    <tr>\n",
       "      <th>31Mar2006Kennedy12.txt</th>\n",
       "      <td>FOR IMMEDIATE RELEASE   Washington  D...</td>\n",
       "    </tr>\n",
       "    <tr>\n",
       "      <th>31Mar2006Kennedy13.txt</th>\n",
       "      <td>FOR IMMEDIATE RELEASE   Washington  D...</td>\n",
       "    </tr>\n",
       "    <tr>\n",
       "      <th>31May2005Kennedy4.txt</th>\n",
       "      <td>FOR IMMEDIATE RELEASE     Senator Edw...</td>\n",
       "    </tr>\n",
       "    <tr>\n",
       "      <th>31May2005Kennedy5.txt</th>\n",
       "      <td>FOR IMMEDIATE RELEASE     BOURNE  MAS...</td>\n",
       "    </tr>\n",
       "    <tr>\n",
       "      <th>31May2006Kennedy10.txt</th>\n",
       "      <td>FOR IMMEDIATE RELEASE     Washington ...</td>\n",
       "    </tr>\n",
       "    <tr>\n",
       "      <th>31May2006Kennedy9.txt</th>\n",
       "      <td>FOR IMMEDIATE RELEASE     Senator Edw...</td>\n",
       "    </tr>\n",
       "    <tr>\n",
       "      <th>31May2007Kennedy13.txt</th>\n",
       "      <td>FOR IMMEDIATE RELEASE  BOSTON  MAToda...</td>\n",
       "    </tr>\n",
       "    <tr>\n",
       "      <th>31Oct2005Kennedy10.txt</th>\n",
       "      <td>FOR IMMEDIATE RELEASE  Today  Senator...</td>\n",
       "    </tr>\n",
       "    <tr>\n",
       "      <th>31Oct2005Kennedy11.txt</th>\n",
       "      <td>FOR IMMEDIATE RELEASE  Last night the...</td>\n",
       "    </tr>\n",
       "    <tr>\n",
       "      <th>31Oct2005Kennedy12.txt</th>\n",
       "      <td>FOR IMMEDIATE RELEASE  Rather than se...</td>\n",
       "    </tr>\n",
       "    <tr>\n",
       "      <th>31Oct2007Kennedy11.txt</th>\n",
       "      <td>FOR IMMEDIATE RELEASE     Today  we c...</td>\n",
       "    </tr>\n",
       "  </tbody>\n",
       "</table>\n",
       "<p>1695 rows × 1 columns</p>\n",
       "</div>"
      ],
      "text/plain": [
       "                                                                     text\n",
       "01Apr2005Kennedy14.txt           FOR IMMEDIATE RELEASE   FOR IMMEDIATE...\n",
       "01Aug2005Kennedy12.txt           FOR IMMEDIATE RELEASE   FOR IMMEDIATE...\n",
       "01Aug2006Kennedy10.txt           FOR IMMEDIATE RELEASE  FOR IMMEDIATE ...\n",
       "01Aug2006Kennedy11.txt           FOR IMMEDIATE RELEASE  FOR IMMEDIATE ...\n",
       "01Aug2006Kennedy12.txt           FOR IMMEDIATE RELEASE  FOR IMMEDIATE ...\n",
       "01Aug2006Kennedy13.txt           FOR IMMEDIATE RELEASE  FOR IMMEDIATE ...\n",
       "01Aug2006Kennedy14.txt           FOR IMMEDIATE RELEASE  FOR IMMEDIATE ...\n",
       "01Aug2007Kennedy5.txt            FOR IMMEDIATE RELEASE  WASHINGTON  DC...\n",
       "01Aug2007Kennedy6.txt            FOR IMMEDIATE RELEASE    Rachel Racus...\n",
       "01Aug2007Kennedy7.txt            FOR IMMEDIATE RELEASE  WASHINGTON  DC...\n",
       "01Dec2005Kennedy10.txt           FOR IMMEDIATE RELEASE     Washington ...\n",
       "01Dec2005Kennedy11.txt           FOR IMMEDIATE RELEASE     The Irish P...\n",
       "01Dec2005Kennedy12.txt           FOR IMMEDIATE RELEASE     Washington ...\n",
       "01Dec2005Kennedy13.txt           FOR IMMEDIATE RELEASE     Today s res...\n",
       "01Dec2005Kennedy14.txt           FOR IMMEDIATE RELEASE  World AIDS Day...\n",
       "01Dec2006Kennedy1.txt            FOR IMMEDIATE RELEASE  Washington  D ...\n",
       "01Dec2006Kennedy2.txt            FOR IMMEDIATE RELEASE  Washington  D ...\n",
       "01Feb2005Kennedy5.txt            FOR IMMEDIATE RELEASE      Mr  Presid...\n",
       "01Feb2006Kennedy0.txt            FOR IMMEDIATE RELEASE     Today  the ...\n",
       "01Feb2006Kennedy10.txt           FOR IMMEDIATE RELEASE  I agree with P...\n",
       "01Feb2006Kennedy11.txt           FOR IMMEDIATE RELEASE      Fact sheet...\n",
       "01Feb2006Kennedy12.txt           FOR IMMEDIATE RELEASE     I agree wit...\n",
       "01Feb2006Kennedy13.txt           FOR IMMEDIATE RELEASE  Today  the Hou...\n",
       "01Feb2006Kennedy14.txt           FOR IMMEDIATE RELEASE  REID     We re...\n",
       "01Feb2006Kennedy9.txt            FOR IMMEDIATE RELEASE         Fact sh...\n",
       "01Feb2007Kennedy0.txt            FOR IMMEDIATE RELEASE  WASHINGTON  DC...\n",
       "01Feb2007Kennedy1.txt            FOR IMMEDIATE RELEASE  Washington  DC...\n",
       "01Feb2007Kennedy11.txt           FOR IMMEDIATE RELEASE  CONTACTS  Meli...\n",
       "01Feb2007Kennedy12.txt           FOR IMMEDIATE RELEASE  A decade ago  ...\n",
       "01Feb2007Kennedy13.txt           FOR IMMEDIATE RELEASE    FACT SHEET I...\n",
       "...                                                                   ...\n",
       "31Aug2005Kennedy5.txt            FOR IMMEDIATE RELEASE   FOR IMMEDIATE...\n",
       "31Aug2006Kennedy8.txt            FOR IMMEDIATE RELEASE  FOR IMMEDIATE ...\n",
       "31Aug2007Kennedy0.txt            FOR IMMEDIATE RELEASE  WASHINGTON  DC...\n",
       "31Dec2006Kennedy8.txt            FOR IMMEDIATE RELEASE  All Americans ...\n",
       "31Dec2006Kennedy9.txt            FOR IMMEDIATE RELEASE  All Americans ...\n",
       "31Jan2006Kennedy1.txt            FOR IMMEDIATE RELEASE  GIBSON  For so...\n",
       "31Jan2006Kennedy2.txt            FOR IMMEDIATE RELEASE  SMITH     Lots...\n",
       "31Jan2006Kennedy3.txt            FOR IMMEDIATE RELEASE  KAGAN  A lot o...\n",
       "31Jan2006Kennedy4.txt            FOR IMMEDIATE RELEASE    2229  A bill...\n",
       "31Jan2007Kennedy6.txt            FOR IMMEDIATE RELEASE   We have now r...\n",
       "31Jan2007Kennedy7.txt            FOR IMMEDIATE RELEASE  Washington  D ...\n",
       "31Jan2007Kennedy8.txt            FOR IMMEDIATE RELEASE  Its a privileg...\n",
       "31Jul2007Kennedy10.txt           FOR IMMEDIATE RELEASE      LIST OF BI...\n",
       "31Jul2007Kennedy11.txt           FOR IMMEDIATE RELEASE  Washington  DC...\n",
       "31Jul2007Kennedy8.txt            FOR IMMEDIATE RELEASE  I join my coll...\n",
       "31Jul2007Kennedy9.txt            FOR IMMEDIATE RELEASE  WASHINGTON  DC...\n",
       "31Mar2005Kennedy0.txt            FOR IMMEDIATE RELEASE   FOR IMMEDIATE...\n",
       "31Mar2005Kennedy1.txt            FOR IMMEDIATE RELEASE    FOR IMMEDIAT...\n",
       "31Mar2005Kennedy2.txt            FOR IMMEDIATE RELEASE   FOR IMMEDIATE...\n",
       "31Mar2006Kennedy12.txt           FOR IMMEDIATE RELEASE   Washington  D...\n",
       "31Mar2006Kennedy13.txt           FOR IMMEDIATE RELEASE   Washington  D...\n",
       "31May2005Kennedy4.txt            FOR IMMEDIATE RELEASE     Senator Edw...\n",
       "31May2005Kennedy5.txt            FOR IMMEDIATE RELEASE     BOURNE  MAS...\n",
       "31May2006Kennedy10.txt           FOR IMMEDIATE RELEASE     Washington ...\n",
       "31May2006Kennedy9.txt            FOR IMMEDIATE RELEASE     Senator Edw...\n",
       "31May2007Kennedy13.txt           FOR IMMEDIATE RELEASE  BOSTON  MAToda...\n",
       "31Oct2005Kennedy10.txt           FOR IMMEDIATE RELEASE  Today  Senator...\n",
       "31Oct2005Kennedy11.txt           FOR IMMEDIATE RELEASE  Last night the...\n",
       "31Oct2005Kennedy12.txt           FOR IMMEDIATE RELEASE  Rather than se...\n",
       "31Oct2007Kennedy11.txt           FOR IMMEDIATE RELEASE     Today  we c...\n",
       "\n",
       "[1695 rows x 1 columns]"
      ]
     },
     "execution_count": 2,
     "metadata": {},
     "output_type": "execute_result"
    }
   ],
   "source": [
    "kennedyDF = lucem_illud.loadTextDirectory('../data/grimmerPressReleases/Kennedy/')\n",
    "kennedyDF"
   ]
  },
  {
   "cell_type": "markdown",
   "metadata": {},
   "source": [
    "This gets us one Senator's data, but with no metadata, we can add a category column with a simple command:"
   ]
  },
  {
   "cell_type": "code",
   "execution_count": 3,
   "metadata": {
    "collapsed": false
   },
   "outputs": [
    {
     "data": {
      "text/html": [
       "<div>\n",
       "<style scoped>\n",
       "    .dataframe tbody tr th:only-of-type {\n",
       "        vertical-align: middle;\n",
       "    }\n",
       "\n",
       "    .dataframe tbody tr th {\n",
       "        vertical-align: top;\n",
       "    }\n",
       "\n",
       "    .dataframe thead th {\n",
       "        text-align: right;\n",
       "    }\n",
       "</style>\n",
       "<table border=\"1\" class=\"dataframe\">\n",
       "  <thead>\n",
       "    <tr style=\"text-align: right;\">\n",
       "      <th></th>\n",
       "      <th>text</th>\n",
       "      <th>category</th>\n",
       "    </tr>\n",
       "  </thead>\n",
       "  <tbody>\n",
       "    <tr>\n",
       "      <th>01Apr2005Kennedy14.txt</th>\n",
       "      <td>FOR IMMEDIATE RELEASE   FOR IMMEDIATE...</td>\n",
       "      <td>Kennedy</td>\n",
       "    </tr>\n",
       "    <tr>\n",
       "      <th>01Aug2005Kennedy12.txt</th>\n",
       "      <td>FOR IMMEDIATE RELEASE   FOR IMMEDIATE...</td>\n",
       "      <td>Kennedy</td>\n",
       "    </tr>\n",
       "    <tr>\n",
       "      <th>01Aug2006Kennedy10.txt</th>\n",
       "      <td>FOR IMMEDIATE RELEASE  FOR IMMEDIATE ...</td>\n",
       "      <td>Kennedy</td>\n",
       "    </tr>\n",
       "    <tr>\n",
       "      <th>01Aug2006Kennedy11.txt</th>\n",
       "      <td>FOR IMMEDIATE RELEASE  FOR IMMEDIATE ...</td>\n",
       "      <td>Kennedy</td>\n",
       "    </tr>\n",
       "    <tr>\n",
       "      <th>01Aug2006Kennedy12.txt</th>\n",
       "      <td>FOR IMMEDIATE RELEASE  FOR IMMEDIATE ...</td>\n",
       "      <td>Kennedy</td>\n",
       "    </tr>\n",
       "    <tr>\n",
       "      <th>01Aug2006Kennedy13.txt</th>\n",
       "      <td>FOR IMMEDIATE RELEASE  FOR IMMEDIATE ...</td>\n",
       "      <td>Kennedy</td>\n",
       "    </tr>\n",
       "    <tr>\n",
       "      <th>01Aug2006Kennedy14.txt</th>\n",
       "      <td>FOR IMMEDIATE RELEASE  FOR IMMEDIATE ...</td>\n",
       "      <td>Kennedy</td>\n",
       "    </tr>\n",
       "    <tr>\n",
       "      <th>01Aug2007Kennedy5.txt</th>\n",
       "      <td>FOR IMMEDIATE RELEASE  WASHINGTON  DC...</td>\n",
       "      <td>Kennedy</td>\n",
       "    </tr>\n",
       "    <tr>\n",
       "      <th>01Aug2007Kennedy6.txt</th>\n",
       "      <td>FOR IMMEDIATE RELEASE    Rachel Racus...</td>\n",
       "      <td>Kennedy</td>\n",
       "    </tr>\n",
       "    <tr>\n",
       "      <th>01Aug2007Kennedy7.txt</th>\n",
       "      <td>FOR IMMEDIATE RELEASE  WASHINGTON  DC...</td>\n",
       "      <td>Kennedy</td>\n",
       "    </tr>\n",
       "    <tr>\n",
       "      <th>01Dec2005Kennedy10.txt</th>\n",
       "      <td>FOR IMMEDIATE RELEASE     Washington ...</td>\n",
       "      <td>Kennedy</td>\n",
       "    </tr>\n",
       "    <tr>\n",
       "      <th>01Dec2005Kennedy11.txt</th>\n",
       "      <td>FOR IMMEDIATE RELEASE     The Irish P...</td>\n",
       "      <td>Kennedy</td>\n",
       "    </tr>\n",
       "    <tr>\n",
       "      <th>01Dec2005Kennedy12.txt</th>\n",
       "      <td>FOR IMMEDIATE RELEASE     Washington ...</td>\n",
       "      <td>Kennedy</td>\n",
       "    </tr>\n",
       "    <tr>\n",
       "      <th>01Dec2005Kennedy13.txt</th>\n",
       "      <td>FOR IMMEDIATE RELEASE     Today s res...</td>\n",
       "      <td>Kennedy</td>\n",
       "    </tr>\n",
       "    <tr>\n",
       "      <th>01Dec2005Kennedy14.txt</th>\n",
       "      <td>FOR IMMEDIATE RELEASE  World AIDS Day...</td>\n",
       "      <td>Kennedy</td>\n",
       "    </tr>\n",
       "    <tr>\n",
       "      <th>01Dec2006Kennedy1.txt</th>\n",
       "      <td>FOR IMMEDIATE RELEASE  Washington  D ...</td>\n",
       "      <td>Kennedy</td>\n",
       "    </tr>\n",
       "    <tr>\n",
       "      <th>01Dec2006Kennedy2.txt</th>\n",
       "      <td>FOR IMMEDIATE RELEASE  Washington  D ...</td>\n",
       "      <td>Kennedy</td>\n",
       "    </tr>\n",
       "    <tr>\n",
       "      <th>01Feb2005Kennedy5.txt</th>\n",
       "      <td>FOR IMMEDIATE RELEASE      Mr  Presid...</td>\n",
       "      <td>Kennedy</td>\n",
       "    </tr>\n",
       "    <tr>\n",
       "      <th>01Feb2006Kennedy0.txt</th>\n",
       "      <td>FOR IMMEDIATE RELEASE     Today  the ...</td>\n",
       "      <td>Kennedy</td>\n",
       "    </tr>\n",
       "    <tr>\n",
       "      <th>01Feb2006Kennedy10.txt</th>\n",
       "      <td>FOR IMMEDIATE RELEASE  I agree with P...</td>\n",
       "      <td>Kennedy</td>\n",
       "    </tr>\n",
       "    <tr>\n",
       "      <th>01Feb2006Kennedy11.txt</th>\n",
       "      <td>FOR IMMEDIATE RELEASE      Fact sheet...</td>\n",
       "      <td>Kennedy</td>\n",
       "    </tr>\n",
       "    <tr>\n",
       "      <th>01Feb2006Kennedy12.txt</th>\n",
       "      <td>FOR IMMEDIATE RELEASE     I agree wit...</td>\n",
       "      <td>Kennedy</td>\n",
       "    </tr>\n",
       "    <tr>\n",
       "      <th>01Feb2006Kennedy13.txt</th>\n",
       "      <td>FOR IMMEDIATE RELEASE  Today  the Hou...</td>\n",
       "      <td>Kennedy</td>\n",
       "    </tr>\n",
       "    <tr>\n",
       "      <th>01Feb2006Kennedy14.txt</th>\n",
       "      <td>FOR IMMEDIATE RELEASE  REID     We re...</td>\n",
       "      <td>Kennedy</td>\n",
       "    </tr>\n",
       "    <tr>\n",
       "      <th>01Feb2006Kennedy9.txt</th>\n",
       "      <td>FOR IMMEDIATE RELEASE         Fact sh...</td>\n",
       "      <td>Kennedy</td>\n",
       "    </tr>\n",
       "    <tr>\n",
       "      <th>01Feb2007Kennedy0.txt</th>\n",
       "      <td>FOR IMMEDIATE RELEASE  WASHINGTON  DC...</td>\n",
       "      <td>Kennedy</td>\n",
       "    </tr>\n",
       "    <tr>\n",
       "      <th>01Feb2007Kennedy1.txt</th>\n",
       "      <td>FOR IMMEDIATE RELEASE  Washington  DC...</td>\n",
       "      <td>Kennedy</td>\n",
       "    </tr>\n",
       "    <tr>\n",
       "      <th>01Feb2007Kennedy11.txt</th>\n",
       "      <td>FOR IMMEDIATE RELEASE  CONTACTS  Meli...</td>\n",
       "      <td>Kennedy</td>\n",
       "    </tr>\n",
       "    <tr>\n",
       "      <th>01Feb2007Kennedy12.txt</th>\n",
       "      <td>FOR IMMEDIATE RELEASE  A decade ago  ...</td>\n",
       "      <td>Kennedy</td>\n",
       "    </tr>\n",
       "    <tr>\n",
       "      <th>01Feb2007Kennedy13.txt</th>\n",
       "      <td>FOR IMMEDIATE RELEASE    FACT SHEET I...</td>\n",
       "      <td>Kennedy</td>\n",
       "    </tr>\n",
       "    <tr>\n",
       "      <th>...</th>\n",
       "      <td>...</td>\n",
       "      <td>...</td>\n",
       "    </tr>\n",
       "    <tr>\n",
       "      <th>31Aug2005Kennedy5.txt</th>\n",
       "      <td>FOR IMMEDIATE RELEASE   FOR IMMEDIATE...</td>\n",
       "      <td>Kennedy</td>\n",
       "    </tr>\n",
       "    <tr>\n",
       "      <th>31Aug2006Kennedy8.txt</th>\n",
       "      <td>FOR IMMEDIATE RELEASE  FOR IMMEDIATE ...</td>\n",
       "      <td>Kennedy</td>\n",
       "    </tr>\n",
       "    <tr>\n",
       "      <th>31Aug2007Kennedy0.txt</th>\n",
       "      <td>FOR IMMEDIATE RELEASE  WASHINGTON  DC...</td>\n",
       "      <td>Kennedy</td>\n",
       "    </tr>\n",
       "    <tr>\n",
       "      <th>31Dec2006Kennedy8.txt</th>\n",
       "      <td>FOR IMMEDIATE RELEASE  All Americans ...</td>\n",
       "      <td>Kennedy</td>\n",
       "    </tr>\n",
       "    <tr>\n",
       "      <th>31Dec2006Kennedy9.txt</th>\n",
       "      <td>FOR IMMEDIATE RELEASE  All Americans ...</td>\n",
       "      <td>Kennedy</td>\n",
       "    </tr>\n",
       "    <tr>\n",
       "      <th>31Jan2006Kennedy1.txt</th>\n",
       "      <td>FOR IMMEDIATE RELEASE  GIBSON  For so...</td>\n",
       "      <td>Kennedy</td>\n",
       "    </tr>\n",
       "    <tr>\n",
       "      <th>31Jan2006Kennedy2.txt</th>\n",
       "      <td>FOR IMMEDIATE RELEASE  SMITH     Lots...</td>\n",
       "      <td>Kennedy</td>\n",
       "    </tr>\n",
       "    <tr>\n",
       "      <th>31Jan2006Kennedy3.txt</th>\n",
       "      <td>FOR IMMEDIATE RELEASE  KAGAN  A lot o...</td>\n",
       "      <td>Kennedy</td>\n",
       "    </tr>\n",
       "    <tr>\n",
       "      <th>31Jan2006Kennedy4.txt</th>\n",
       "      <td>FOR IMMEDIATE RELEASE    2229  A bill...</td>\n",
       "      <td>Kennedy</td>\n",
       "    </tr>\n",
       "    <tr>\n",
       "      <th>31Jan2007Kennedy6.txt</th>\n",
       "      <td>FOR IMMEDIATE RELEASE   We have now r...</td>\n",
       "      <td>Kennedy</td>\n",
       "    </tr>\n",
       "    <tr>\n",
       "      <th>31Jan2007Kennedy7.txt</th>\n",
       "      <td>FOR IMMEDIATE RELEASE  Washington  D ...</td>\n",
       "      <td>Kennedy</td>\n",
       "    </tr>\n",
       "    <tr>\n",
       "      <th>31Jan2007Kennedy8.txt</th>\n",
       "      <td>FOR IMMEDIATE RELEASE  Its a privileg...</td>\n",
       "      <td>Kennedy</td>\n",
       "    </tr>\n",
       "    <tr>\n",
       "      <th>31Jul2007Kennedy10.txt</th>\n",
       "      <td>FOR IMMEDIATE RELEASE      LIST OF BI...</td>\n",
       "      <td>Kennedy</td>\n",
       "    </tr>\n",
       "    <tr>\n",
       "      <th>31Jul2007Kennedy11.txt</th>\n",
       "      <td>FOR IMMEDIATE RELEASE  Washington  DC...</td>\n",
       "      <td>Kennedy</td>\n",
       "    </tr>\n",
       "    <tr>\n",
       "      <th>31Jul2007Kennedy8.txt</th>\n",
       "      <td>FOR IMMEDIATE RELEASE  I join my coll...</td>\n",
       "      <td>Kennedy</td>\n",
       "    </tr>\n",
       "    <tr>\n",
       "      <th>31Jul2007Kennedy9.txt</th>\n",
       "      <td>FOR IMMEDIATE RELEASE  WASHINGTON  DC...</td>\n",
       "      <td>Kennedy</td>\n",
       "    </tr>\n",
       "    <tr>\n",
       "      <th>31Mar2005Kennedy0.txt</th>\n",
       "      <td>FOR IMMEDIATE RELEASE   FOR IMMEDIATE...</td>\n",
       "      <td>Kennedy</td>\n",
       "    </tr>\n",
       "    <tr>\n",
       "      <th>31Mar2005Kennedy1.txt</th>\n",
       "      <td>FOR IMMEDIATE RELEASE    FOR IMMEDIAT...</td>\n",
       "      <td>Kennedy</td>\n",
       "    </tr>\n",
       "    <tr>\n",
       "      <th>31Mar2005Kennedy2.txt</th>\n",
       "      <td>FOR IMMEDIATE RELEASE   FOR IMMEDIATE...</td>\n",
       "      <td>Kennedy</td>\n",
       "    </tr>\n",
       "    <tr>\n",
       "      <th>31Mar2006Kennedy12.txt</th>\n",
       "      <td>FOR IMMEDIATE RELEASE   Washington  D...</td>\n",
       "      <td>Kennedy</td>\n",
       "    </tr>\n",
       "    <tr>\n",
       "      <th>31Mar2006Kennedy13.txt</th>\n",
       "      <td>FOR IMMEDIATE RELEASE   Washington  D...</td>\n",
       "      <td>Kennedy</td>\n",
       "    </tr>\n",
       "    <tr>\n",
       "      <th>31May2005Kennedy4.txt</th>\n",
       "      <td>FOR IMMEDIATE RELEASE     Senator Edw...</td>\n",
       "      <td>Kennedy</td>\n",
       "    </tr>\n",
       "    <tr>\n",
       "      <th>31May2005Kennedy5.txt</th>\n",
       "      <td>FOR IMMEDIATE RELEASE     BOURNE  MAS...</td>\n",
       "      <td>Kennedy</td>\n",
       "    </tr>\n",
       "    <tr>\n",
       "      <th>31May2006Kennedy10.txt</th>\n",
       "      <td>FOR IMMEDIATE RELEASE     Washington ...</td>\n",
       "      <td>Kennedy</td>\n",
       "    </tr>\n",
       "    <tr>\n",
       "      <th>31May2006Kennedy9.txt</th>\n",
       "      <td>FOR IMMEDIATE RELEASE     Senator Edw...</td>\n",
       "      <td>Kennedy</td>\n",
       "    </tr>\n",
       "    <tr>\n",
       "      <th>31May2007Kennedy13.txt</th>\n",
       "      <td>FOR IMMEDIATE RELEASE  BOSTON  MAToda...</td>\n",
       "      <td>Kennedy</td>\n",
       "    </tr>\n",
       "    <tr>\n",
       "      <th>31Oct2005Kennedy10.txt</th>\n",
       "      <td>FOR IMMEDIATE RELEASE  Today  Senator...</td>\n",
       "      <td>Kennedy</td>\n",
       "    </tr>\n",
       "    <tr>\n",
       "      <th>31Oct2005Kennedy11.txt</th>\n",
       "      <td>FOR IMMEDIATE RELEASE  Last night the...</td>\n",
       "      <td>Kennedy</td>\n",
       "    </tr>\n",
       "    <tr>\n",
       "      <th>31Oct2005Kennedy12.txt</th>\n",
       "      <td>FOR IMMEDIATE RELEASE  Rather than se...</td>\n",
       "      <td>Kennedy</td>\n",
       "    </tr>\n",
       "    <tr>\n",
       "      <th>31Oct2007Kennedy11.txt</th>\n",
       "      <td>FOR IMMEDIATE RELEASE     Today  we c...</td>\n",
       "      <td>Kennedy</td>\n",
       "    </tr>\n",
       "  </tbody>\n",
       "</table>\n",
       "<p>1695 rows × 2 columns</p>\n",
       "</div>"
      ],
      "text/plain": [
       "                                                                     text  \\\n",
       "01Apr2005Kennedy14.txt           FOR IMMEDIATE RELEASE   FOR IMMEDIATE...   \n",
       "01Aug2005Kennedy12.txt           FOR IMMEDIATE RELEASE   FOR IMMEDIATE...   \n",
       "01Aug2006Kennedy10.txt           FOR IMMEDIATE RELEASE  FOR IMMEDIATE ...   \n",
       "01Aug2006Kennedy11.txt           FOR IMMEDIATE RELEASE  FOR IMMEDIATE ...   \n",
       "01Aug2006Kennedy12.txt           FOR IMMEDIATE RELEASE  FOR IMMEDIATE ...   \n",
       "01Aug2006Kennedy13.txt           FOR IMMEDIATE RELEASE  FOR IMMEDIATE ...   \n",
       "01Aug2006Kennedy14.txt           FOR IMMEDIATE RELEASE  FOR IMMEDIATE ...   \n",
       "01Aug2007Kennedy5.txt            FOR IMMEDIATE RELEASE  WASHINGTON  DC...   \n",
       "01Aug2007Kennedy6.txt            FOR IMMEDIATE RELEASE    Rachel Racus...   \n",
       "01Aug2007Kennedy7.txt            FOR IMMEDIATE RELEASE  WASHINGTON  DC...   \n",
       "01Dec2005Kennedy10.txt           FOR IMMEDIATE RELEASE     Washington ...   \n",
       "01Dec2005Kennedy11.txt           FOR IMMEDIATE RELEASE     The Irish P...   \n",
       "01Dec2005Kennedy12.txt           FOR IMMEDIATE RELEASE     Washington ...   \n",
       "01Dec2005Kennedy13.txt           FOR IMMEDIATE RELEASE     Today s res...   \n",
       "01Dec2005Kennedy14.txt           FOR IMMEDIATE RELEASE  World AIDS Day...   \n",
       "01Dec2006Kennedy1.txt            FOR IMMEDIATE RELEASE  Washington  D ...   \n",
       "01Dec2006Kennedy2.txt            FOR IMMEDIATE RELEASE  Washington  D ...   \n",
       "01Feb2005Kennedy5.txt            FOR IMMEDIATE RELEASE      Mr  Presid...   \n",
       "01Feb2006Kennedy0.txt            FOR IMMEDIATE RELEASE     Today  the ...   \n",
       "01Feb2006Kennedy10.txt           FOR IMMEDIATE RELEASE  I agree with P...   \n",
       "01Feb2006Kennedy11.txt           FOR IMMEDIATE RELEASE      Fact sheet...   \n",
       "01Feb2006Kennedy12.txt           FOR IMMEDIATE RELEASE     I agree wit...   \n",
       "01Feb2006Kennedy13.txt           FOR IMMEDIATE RELEASE  Today  the Hou...   \n",
       "01Feb2006Kennedy14.txt           FOR IMMEDIATE RELEASE  REID     We re...   \n",
       "01Feb2006Kennedy9.txt            FOR IMMEDIATE RELEASE         Fact sh...   \n",
       "01Feb2007Kennedy0.txt            FOR IMMEDIATE RELEASE  WASHINGTON  DC...   \n",
       "01Feb2007Kennedy1.txt            FOR IMMEDIATE RELEASE  Washington  DC...   \n",
       "01Feb2007Kennedy11.txt           FOR IMMEDIATE RELEASE  CONTACTS  Meli...   \n",
       "01Feb2007Kennedy12.txt           FOR IMMEDIATE RELEASE  A decade ago  ...   \n",
       "01Feb2007Kennedy13.txt           FOR IMMEDIATE RELEASE    FACT SHEET I...   \n",
       "...                                                                   ...   \n",
       "31Aug2005Kennedy5.txt            FOR IMMEDIATE RELEASE   FOR IMMEDIATE...   \n",
       "31Aug2006Kennedy8.txt            FOR IMMEDIATE RELEASE  FOR IMMEDIATE ...   \n",
       "31Aug2007Kennedy0.txt            FOR IMMEDIATE RELEASE  WASHINGTON  DC...   \n",
       "31Dec2006Kennedy8.txt            FOR IMMEDIATE RELEASE  All Americans ...   \n",
       "31Dec2006Kennedy9.txt            FOR IMMEDIATE RELEASE  All Americans ...   \n",
       "31Jan2006Kennedy1.txt            FOR IMMEDIATE RELEASE  GIBSON  For so...   \n",
       "31Jan2006Kennedy2.txt            FOR IMMEDIATE RELEASE  SMITH     Lots...   \n",
       "31Jan2006Kennedy3.txt            FOR IMMEDIATE RELEASE  KAGAN  A lot o...   \n",
       "31Jan2006Kennedy4.txt            FOR IMMEDIATE RELEASE    2229  A bill...   \n",
       "31Jan2007Kennedy6.txt            FOR IMMEDIATE RELEASE   We have now r...   \n",
       "31Jan2007Kennedy7.txt            FOR IMMEDIATE RELEASE  Washington  D ...   \n",
       "31Jan2007Kennedy8.txt            FOR IMMEDIATE RELEASE  Its a privileg...   \n",
       "31Jul2007Kennedy10.txt           FOR IMMEDIATE RELEASE      LIST OF BI...   \n",
       "31Jul2007Kennedy11.txt           FOR IMMEDIATE RELEASE  Washington  DC...   \n",
       "31Jul2007Kennedy8.txt            FOR IMMEDIATE RELEASE  I join my coll...   \n",
       "31Jul2007Kennedy9.txt            FOR IMMEDIATE RELEASE  WASHINGTON  DC...   \n",
       "31Mar2005Kennedy0.txt            FOR IMMEDIATE RELEASE   FOR IMMEDIATE...   \n",
       "31Mar2005Kennedy1.txt            FOR IMMEDIATE RELEASE    FOR IMMEDIAT...   \n",
       "31Mar2005Kennedy2.txt            FOR IMMEDIATE RELEASE   FOR IMMEDIATE...   \n",
       "31Mar2006Kennedy12.txt           FOR IMMEDIATE RELEASE   Washington  D...   \n",
       "31Mar2006Kennedy13.txt           FOR IMMEDIATE RELEASE   Washington  D...   \n",
       "31May2005Kennedy4.txt            FOR IMMEDIATE RELEASE     Senator Edw...   \n",
       "31May2005Kennedy5.txt            FOR IMMEDIATE RELEASE     BOURNE  MAS...   \n",
       "31May2006Kennedy10.txt           FOR IMMEDIATE RELEASE     Washington ...   \n",
       "31May2006Kennedy9.txt            FOR IMMEDIATE RELEASE     Senator Edw...   \n",
       "31May2007Kennedy13.txt           FOR IMMEDIATE RELEASE  BOSTON  MAToda...   \n",
       "31Oct2005Kennedy10.txt           FOR IMMEDIATE RELEASE  Today  Senator...   \n",
       "31Oct2005Kennedy11.txt           FOR IMMEDIATE RELEASE  Last night the...   \n",
       "31Oct2005Kennedy12.txt           FOR IMMEDIATE RELEASE  Rather than se...   \n",
       "31Oct2007Kennedy11.txt           FOR IMMEDIATE RELEASE     Today  we c...   \n",
       "\n",
       "                       category  \n",
       "01Apr2005Kennedy14.txt  Kennedy  \n",
       "01Aug2005Kennedy12.txt  Kennedy  \n",
       "01Aug2006Kennedy10.txt  Kennedy  \n",
       "01Aug2006Kennedy11.txt  Kennedy  \n",
       "01Aug2006Kennedy12.txt  Kennedy  \n",
       "01Aug2006Kennedy13.txt  Kennedy  \n",
       "01Aug2006Kennedy14.txt  Kennedy  \n",
       "01Aug2007Kennedy5.txt   Kennedy  \n",
       "01Aug2007Kennedy6.txt   Kennedy  \n",
       "01Aug2007Kennedy7.txt   Kennedy  \n",
       "01Dec2005Kennedy10.txt  Kennedy  \n",
       "01Dec2005Kennedy11.txt  Kennedy  \n",
       "01Dec2005Kennedy12.txt  Kennedy  \n",
       "01Dec2005Kennedy13.txt  Kennedy  \n",
       "01Dec2005Kennedy14.txt  Kennedy  \n",
       "01Dec2006Kennedy1.txt   Kennedy  \n",
       "01Dec2006Kennedy2.txt   Kennedy  \n",
       "01Feb2005Kennedy5.txt   Kennedy  \n",
       "01Feb2006Kennedy0.txt   Kennedy  \n",
       "01Feb2006Kennedy10.txt  Kennedy  \n",
       "01Feb2006Kennedy11.txt  Kennedy  \n",
       "01Feb2006Kennedy12.txt  Kennedy  \n",
       "01Feb2006Kennedy13.txt  Kennedy  \n",
       "01Feb2006Kennedy14.txt  Kennedy  \n",
       "01Feb2006Kennedy9.txt   Kennedy  \n",
       "01Feb2007Kennedy0.txt   Kennedy  \n",
       "01Feb2007Kennedy1.txt   Kennedy  \n",
       "01Feb2007Kennedy11.txt  Kennedy  \n",
       "01Feb2007Kennedy12.txt  Kennedy  \n",
       "01Feb2007Kennedy13.txt  Kennedy  \n",
       "...                         ...  \n",
       "31Aug2005Kennedy5.txt   Kennedy  \n",
       "31Aug2006Kennedy8.txt   Kennedy  \n",
       "31Aug2007Kennedy0.txt   Kennedy  \n",
       "31Dec2006Kennedy8.txt   Kennedy  \n",
       "31Dec2006Kennedy9.txt   Kennedy  \n",
       "31Jan2006Kennedy1.txt   Kennedy  \n",
       "31Jan2006Kennedy2.txt   Kennedy  \n",
       "31Jan2006Kennedy3.txt   Kennedy  \n",
       "31Jan2006Kennedy4.txt   Kennedy  \n",
       "31Jan2007Kennedy6.txt   Kennedy  \n",
       "31Jan2007Kennedy7.txt   Kennedy  \n",
       "31Jan2007Kennedy8.txt   Kennedy  \n",
       "31Jul2007Kennedy10.txt  Kennedy  \n",
       "31Jul2007Kennedy11.txt  Kennedy  \n",
       "31Jul2007Kennedy8.txt   Kennedy  \n",
       "31Jul2007Kennedy9.txt   Kennedy  \n",
       "31Mar2005Kennedy0.txt   Kennedy  \n",
       "31Mar2005Kennedy1.txt   Kennedy  \n",
       "31Mar2005Kennedy2.txt   Kennedy  \n",
       "31Mar2006Kennedy12.txt  Kennedy  \n",
       "31Mar2006Kennedy13.txt  Kennedy  \n",
       "31May2005Kennedy4.txt   Kennedy  \n",
       "31May2005Kennedy5.txt   Kennedy  \n",
       "31May2006Kennedy10.txt  Kennedy  \n",
       "31May2006Kennedy9.txt   Kennedy  \n",
       "31May2007Kennedy13.txt  Kennedy  \n",
       "31Oct2005Kennedy10.txt  Kennedy  \n",
       "31Oct2005Kennedy11.txt  Kennedy  \n",
       "31Oct2005Kennedy12.txt  Kennedy  \n",
       "31Oct2007Kennedy11.txt  Kennedy  \n",
       "\n",
       "[1695 rows x 2 columns]"
      ]
     },
     "execution_count": 3,
     "metadata": {},
     "output_type": "execute_result"
    }
   ],
   "source": [
    "kennedyDF['category'] = 'Kennedy'\n",
    "kennedyDF"
   ]
  },
  {
   "cell_type": "markdown",
   "metadata": {},
   "source": [
    "We also will be wanting to load all the senators so we will need to loop over all the directories"
   ]
  },
  {
   "cell_type": "code",
   "execution_count": 4,
   "metadata": {
    "collapsed": false
   },
   "outputs": [
    {
     "data": {
      "text/html": [
       "<div>\n",
       "<style scoped>\n",
       "    .dataframe tbody tr th:only-of-type {\n",
       "        vertical-align: middle;\n",
       "    }\n",
       "\n",
       "    .dataframe tbody tr th {\n",
       "        vertical-align: top;\n",
       "    }\n",
       "\n",
       "    .dataframe thead th {\n",
       "        text-align: right;\n",
       "    }\n",
       "</style>\n",
       "<table border=\"1\" class=\"dataframe\">\n",
       "  <thead>\n",
       "    <tr style=\"text-align: right;\">\n",
       "      <th></th>\n",
       "      <th>text</th>\n",
       "      <th>category</th>\n",
       "    </tr>\n",
       "  </thead>\n",
       "  <tbody>\n",
       "    <tr>\n",
       "      <th>01Apr2005Kennedy14.txt</th>\n",
       "      <td>FOR IMMEDIATE RELEASE   FOR IMMEDIATE...</td>\n",
       "      <td>Kennedy</td>\n",
       "    </tr>\n",
       "    <tr>\n",
       "      <th>01Aug2005Kennedy12.txt</th>\n",
       "      <td>FOR IMMEDIATE RELEASE   FOR IMMEDIATE...</td>\n",
       "      <td>Kennedy</td>\n",
       "    </tr>\n",
       "    <tr>\n",
       "      <th>01Aug2006Kennedy10.txt</th>\n",
       "      <td>FOR IMMEDIATE RELEASE  FOR IMMEDIATE ...</td>\n",
       "      <td>Kennedy</td>\n",
       "    </tr>\n",
       "    <tr>\n",
       "      <th>01Aug2006Kennedy11.txt</th>\n",
       "      <td>FOR IMMEDIATE RELEASE  FOR IMMEDIATE ...</td>\n",
       "      <td>Kennedy</td>\n",
       "    </tr>\n",
       "    <tr>\n",
       "      <th>01Aug2006Kennedy12.txt</th>\n",
       "      <td>FOR IMMEDIATE RELEASE  FOR IMMEDIATE ...</td>\n",
       "      <td>Kennedy</td>\n",
       "    </tr>\n",
       "    <tr>\n",
       "      <th>01Aug2006Kennedy13.txt</th>\n",
       "      <td>FOR IMMEDIATE RELEASE  FOR IMMEDIATE ...</td>\n",
       "      <td>Kennedy</td>\n",
       "    </tr>\n",
       "    <tr>\n",
       "      <th>01Aug2006Kennedy14.txt</th>\n",
       "      <td>FOR IMMEDIATE RELEASE  FOR IMMEDIATE ...</td>\n",
       "      <td>Kennedy</td>\n",
       "    </tr>\n",
       "    <tr>\n",
       "      <th>01Aug2007Kennedy5.txt</th>\n",
       "      <td>FOR IMMEDIATE RELEASE  WASHINGTON  DC...</td>\n",
       "      <td>Kennedy</td>\n",
       "    </tr>\n",
       "    <tr>\n",
       "      <th>01Aug2007Kennedy6.txt</th>\n",
       "      <td>FOR IMMEDIATE RELEASE    Rachel Racus...</td>\n",
       "      <td>Kennedy</td>\n",
       "    </tr>\n",
       "    <tr>\n",
       "      <th>01Aug2007Kennedy7.txt</th>\n",
       "      <td>FOR IMMEDIATE RELEASE  WASHINGTON  DC...</td>\n",
       "      <td>Kennedy</td>\n",
       "    </tr>\n",
       "    <tr>\n",
       "      <th>01Dec2005Kennedy10.txt</th>\n",
       "      <td>FOR IMMEDIATE RELEASE     Washington ...</td>\n",
       "      <td>Kennedy</td>\n",
       "    </tr>\n",
       "    <tr>\n",
       "      <th>01Dec2005Kennedy11.txt</th>\n",
       "      <td>FOR IMMEDIATE RELEASE     The Irish P...</td>\n",
       "      <td>Kennedy</td>\n",
       "    </tr>\n",
       "    <tr>\n",
       "      <th>01Dec2005Kennedy12.txt</th>\n",
       "      <td>FOR IMMEDIATE RELEASE     Washington ...</td>\n",
       "      <td>Kennedy</td>\n",
       "    </tr>\n",
       "    <tr>\n",
       "      <th>01Dec2005Kennedy13.txt</th>\n",
       "      <td>FOR IMMEDIATE RELEASE     Today s res...</td>\n",
       "      <td>Kennedy</td>\n",
       "    </tr>\n",
       "    <tr>\n",
       "      <th>01Dec2005Kennedy14.txt</th>\n",
       "      <td>FOR IMMEDIATE RELEASE  World AIDS Day...</td>\n",
       "      <td>Kennedy</td>\n",
       "    </tr>\n",
       "    <tr>\n",
       "      <th>01Dec2006Kennedy1.txt</th>\n",
       "      <td>FOR IMMEDIATE RELEASE  Washington  D ...</td>\n",
       "      <td>Kennedy</td>\n",
       "    </tr>\n",
       "    <tr>\n",
       "      <th>01Dec2006Kennedy2.txt</th>\n",
       "      <td>FOR IMMEDIATE RELEASE  Washington  D ...</td>\n",
       "      <td>Kennedy</td>\n",
       "    </tr>\n",
       "    <tr>\n",
       "      <th>01Feb2005Kennedy5.txt</th>\n",
       "      <td>FOR IMMEDIATE RELEASE      Mr  Presid...</td>\n",
       "      <td>Kennedy</td>\n",
       "    </tr>\n",
       "    <tr>\n",
       "      <th>01Feb2006Kennedy0.txt</th>\n",
       "      <td>FOR IMMEDIATE RELEASE     Today  the ...</td>\n",
       "      <td>Kennedy</td>\n",
       "    </tr>\n",
       "    <tr>\n",
       "      <th>01Feb2006Kennedy10.txt</th>\n",
       "      <td>FOR IMMEDIATE RELEASE  I agree with P...</td>\n",
       "      <td>Kennedy</td>\n",
       "    </tr>\n",
       "    <tr>\n",
       "      <th>01Feb2006Kennedy11.txt</th>\n",
       "      <td>FOR IMMEDIATE RELEASE      Fact sheet...</td>\n",
       "      <td>Kennedy</td>\n",
       "    </tr>\n",
       "    <tr>\n",
       "      <th>01Feb2006Kennedy12.txt</th>\n",
       "      <td>FOR IMMEDIATE RELEASE     I agree wit...</td>\n",
       "      <td>Kennedy</td>\n",
       "    </tr>\n",
       "    <tr>\n",
       "      <th>01Feb2006Kennedy13.txt</th>\n",
       "      <td>FOR IMMEDIATE RELEASE  Today  the Hou...</td>\n",
       "      <td>Kennedy</td>\n",
       "    </tr>\n",
       "    <tr>\n",
       "      <th>01Feb2006Kennedy14.txt</th>\n",
       "      <td>FOR IMMEDIATE RELEASE  REID     We re...</td>\n",
       "      <td>Kennedy</td>\n",
       "    </tr>\n",
       "    <tr>\n",
       "      <th>01Feb2006Kennedy9.txt</th>\n",
       "      <td>FOR IMMEDIATE RELEASE         Fact sh...</td>\n",
       "      <td>Kennedy</td>\n",
       "    </tr>\n",
       "    <tr>\n",
       "      <th>01Feb2007Kennedy0.txt</th>\n",
       "      <td>FOR IMMEDIATE RELEASE  WASHINGTON  DC...</td>\n",
       "      <td>Kennedy</td>\n",
       "    </tr>\n",
       "    <tr>\n",
       "      <th>01Feb2007Kennedy1.txt</th>\n",
       "      <td>FOR IMMEDIATE RELEASE  Washington  DC...</td>\n",
       "      <td>Kennedy</td>\n",
       "    </tr>\n",
       "    <tr>\n",
       "      <th>01Feb2007Kennedy11.txt</th>\n",
       "      <td>FOR IMMEDIATE RELEASE  CONTACTS  Meli...</td>\n",
       "      <td>Kennedy</td>\n",
       "    </tr>\n",
       "    <tr>\n",
       "      <th>01Feb2007Kennedy12.txt</th>\n",
       "      <td>FOR IMMEDIATE RELEASE  A decade ago  ...</td>\n",
       "      <td>Kennedy</td>\n",
       "    </tr>\n",
       "    <tr>\n",
       "      <th>01Feb2007Kennedy13.txt</th>\n",
       "      <td>FOR IMMEDIATE RELEASE    FACT SHEET I...</td>\n",
       "      <td>Kennedy</td>\n",
       "    </tr>\n",
       "    <tr>\n",
       "      <th>...</th>\n",
       "      <td>...</td>\n",
       "      <td>...</td>\n",
       "    </tr>\n",
       "    <tr>\n",
       "      <th>8Jun2006Kyl205.txt</th>\n",
       "      <td>SEN. KYL ISSUES STATEMENT ON DEATH TAX VOTE\\n ...</td>\n",
       "      <td>Kyl</td>\n",
       "    </tr>\n",
       "    <tr>\n",
       "      <th>8Mar2006Kyl249.txt</th>\n",
       "      <td>SEN. KYL INITIATIVE GUARANTEES AIR-CONDITIONIN...</td>\n",
       "      <td>Kyl</td>\n",
       "    </tr>\n",
       "    <tr>\n",
       "      <th>8May2006Kyl222.txt</th>\n",
       "      <td>PAIN AT THE PUMP\\n  There is an old saying: Fo...</td>\n",
       "      <td>Kyl</td>\n",
       "    </tr>\n",
       "    <tr>\n",
       "      <th>8Nov2004Kyl438.txt</th>\n",
       "      <td>FINALLY, AN END TO SENATE GRIDLOCK?\\n  By Sen....</td>\n",
       "      <td>Kyl</td>\n",
       "    </tr>\n",
       "    <tr>\n",
       "      <th>8Nov2005Kyl308.txt</th>\n",
       "      <td>SEN. KYL APPLAUDS SENATE PASSAGE OF DEFICIT RE...</td>\n",
       "      <td>Kyl</td>\n",
       "    </tr>\n",
       "    <tr>\n",
       "      <th>8Nov2005Kyl309.txt</th>\n",
       "      <td>SEN. KYL CALLS SAUDI ARABIAN SUPPORT FOR WAHHA...</td>\n",
       "      <td>Kyl</td>\n",
       "    </tr>\n",
       "    <tr>\n",
       "      <th>8Nov2005Kyl310.txt</th>\n",
       "      <td>SENS. KYL, FEINGOLD INTRODUCE BILL TO STRENGTH...</td>\n",
       "      <td>Kyl</td>\n",
       "    </tr>\n",
       "    <tr>\n",
       "      <th>9Apr2007Kyl110.txt</th>\n",
       "      <td>HONORING DIRECTOR JOHN GILLIS\\n  Each April fo...</td>\n",
       "      <td>Kyl</td>\n",
       "    </tr>\n",
       "    <tr>\n",
       "      <th>9Apr2008Kyl4.txt</th>\n",
       "      <td>SENS. KYL, DEMINT INTRODUCE HEALTH CARE EQUITY...</td>\n",
       "      <td>Kyl</td>\n",
       "    </tr>\n",
       "    <tr>\n",
       "      <th>9Aug2004Kyl463.txt</th>\n",
       "      <td>CAN'T VOTE FROM JAIL = DISCRIMINATION?\\n  By S...</td>\n",
       "      <td>Kyl</td>\n",
       "    </tr>\n",
       "    <tr>\n",
       "      <th>9Aug2005Kyl351.txt</th>\n",
       "      <td>SEN. KYL: JOHN BOLTON FINALLY HEADED TO THE U....</td>\n",
       "      <td>Kyl</td>\n",
       "    </tr>\n",
       "    <tr>\n",
       "      <th>9Dec2006Kyl148.txt</th>\n",
       "      <td>SEN. KYL APPLAUDS PASSAGE OF YUMA IMPROVEMENT ...</td>\n",
       "      <td>Kyl</td>\n",
       "    </tr>\n",
       "    <tr>\n",
       "      <th>9Dec2006Kyl149.txt</th>\n",
       "      <td>CONGRESS APPROVES TAX CUT EXTENSIONS\\n  The U....</td>\n",
       "      <td>Kyl</td>\n",
       "    </tr>\n",
       "    <tr>\n",
       "      <th>9Feb2006Kyl263.txt</th>\n",
       "      <td>SEN. KYL JOINS SEN. MCCAIN TO END PORK BARREL ...</td>\n",
       "      <td>Kyl</td>\n",
       "    </tr>\n",
       "    <tr>\n",
       "      <th>9Jan2006Kyl280.txt</th>\n",
       "      <td>RINGING IN THE NEW YEAR\\n  By Sen. Jon Kyl\\n  ...</td>\n",
       "      <td>Kyl</td>\n",
       "    </tr>\n",
       "    <tr>\n",
       "      <th>9Jun2004Kyl492.txt</th>\n",
       "      <td>SEN. KYL URGES WORLD COMMUNITY TO AID RECONSTR...</td>\n",
       "      <td>Kyl</td>\n",
       "    </tr>\n",
       "    <tr>\n",
       "      <th>9Mar2006Kyl246.txt</th>\n",
       "      <td>SEN. KYL, REP. GRIJALVA APPLAUD SENATE COMMITT...</td>\n",
       "      <td>Kyl</td>\n",
       "    </tr>\n",
       "    <tr>\n",
       "      <th>9Mar2006Kyl247.txt</th>\n",
       "      <td>SEN. KYL APPLAUDS TRIUMPH OF SECURITY OVER PAR...</td>\n",
       "      <td>Kyl</td>\n",
       "    </tr>\n",
       "    <tr>\n",
       "      <th>9Mar2006Kyl248.txt</th>\n",
       "      <td>SEN. KYL SECURES STRONGEST BORDER SECURITY FOR...</td>\n",
       "      <td>Kyl</td>\n",
       "    </tr>\n",
       "    <tr>\n",
       "      <th>9May2005Kyl384.txt</th>\n",
       "      <td>SEN. KYL ANNOUNCES REIMBURSEMENT GUIDELINES FO...</td>\n",
       "      <td>Kyl</td>\n",
       "    </tr>\n",
       "    <tr>\n",
       "      <th>9May2006Kyl221.txt</th>\n",
       "      <td>SEN. KYL HAILS TAX RELIEF AGREEMENT\\n  The con...</td>\n",
       "      <td>Kyl</td>\n",
       "    </tr>\n",
       "    <tr>\n",
       "      <th>9May2007Kyl100.txt</th>\n",
       "      <td>SENATE-HOUSE GOP LEADERS ACCEPT PETITION FROM ...</td>\n",
       "      <td>Kyl</td>\n",
       "    </tr>\n",
       "    <tr>\n",
       "      <th>9May2007Kyl99.txt</th>\n",
       "      <td>SEN. KYL BILL ADDS LAND TO LAS CIENEGAS CONSER...</td>\n",
       "      <td>Kyl</td>\n",
       "    </tr>\n",
       "    <tr>\n",
       "      <th>9Nov2004Kyl437.txt</th>\n",
       "      <td>SEN. KYL ISSUES STATEMENT ON ATTORNEY GENERAL ...</td>\n",
       "      <td>Kyl</td>\n",
       "    </tr>\n",
       "    <tr>\n",
       "      <th>9Nov2005Kyl305.txt</th>\n",
       "      <td>SCAAP FUNDING RISES TO $405 MILLION, ALONG WIT...</td>\n",
       "      <td>Kyl</td>\n",
       "    </tr>\n",
       "    <tr>\n",
       "      <th>9Nov2005Kyl306.txt</th>\n",
       "      <td>SEN. KYL ANNOUNCES AZ FUNDING IN ENERGY &amp; WATE...</td>\n",
       "      <td>Kyl</td>\n",
       "    </tr>\n",
       "    <tr>\n",
       "      <th>9Nov2005Kyl307.txt</th>\n",
       "      <td>SEN. KYL LAUDS SENATE MOVE TO EQUALIZE BENEFIT...</td>\n",
       "      <td>Kyl</td>\n",
       "    </tr>\n",
       "    <tr>\n",
       "      <th>9Oct2007Kyl61.txt</th>\n",
       "      <td>PLAYING GAMES WITH LIVES OF AMERICAN SOLDIERS\\...</td>\n",
       "      <td>Kyl</td>\n",
       "    </tr>\n",
       "    <tr>\n",
       "      <th>9Sep2005Kyl342.txt</th>\n",
       "      <td>SEN. KYL'S WEB SITE OFFERS GUIDANCE ON HELPING...</td>\n",
       "      <td>Kyl</td>\n",
       "    </tr>\n",
       "    <tr>\n",
       "      <th>9Sep2005Kyl343.txt</th>\n",
       "      <td>SEN. KYL URGES EPA TO 'CLOSE GAP' ON SUMMER-BL...</td>\n",
       "      <td>Kyl</td>\n",
       "    </tr>\n",
       "  </tbody>\n",
       "</table>\n",
       "<p>3904 rows × 2 columns</p>\n",
       "</div>"
      ],
      "text/plain": [
       "                                                                     text  \\\n",
       "01Apr2005Kennedy14.txt           FOR IMMEDIATE RELEASE   FOR IMMEDIATE...   \n",
       "01Aug2005Kennedy12.txt           FOR IMMEDIATE RELEASE   FOR IMMEDIATE...   \n",
       "01Aug2006Kennedy10.txt           FOR IMMEDIATE RELEASE  FOR IMMEDIATE ...   \n",
       "01Aug2006Kennedy11.txt           FOR IMMEDIATE RELEASE  FOR IMMEDIATE ...   \n",
       "01Aug2006Kennedy12.txt           FOR IMMEDIATE RELEASE  FOR IMMEDIATE ...   \n",
       "01Aug2006Kennedy13.txt           FOR IMMEDIATE RELEASE  FOR IMMEDIATE ...   \n",
       "01Aug2006Kennedy14.txt           FOR IMMEDIATE RELEASE  FOR IMMEDIATE ...   \n",
       "01Aug2007Kennedy5.txt            FOR IMMEDIATE RELEASE  WASHINGTON  DC...   \n",
       "01Aug2007Kennedy6.txt            FOR IMMEDIATE RELEASE    Rachel Racus...   \n",
       "01Aug2007Kennedy7.txt            FOR IMMEDIATE RELEASE  WASHINGTON  DC...   \n",
       "01Dec2005Kennedy10.txt           FOR IMMEDIATE RELEASE     Washington ...   \n",
       "01Dec2005Kennedy11.txt           FOR IMMEDIATE RELEASE     The Irish P...   \n",
       "01Dec2005Kennedy12.txt           FOR IMMEDIATE RELEASE     Washington ...   \n",
       "01Dec2005Kennedy13.txt           FOR IMMEDIATE RELEASE     Today s res...   \n",
       "01Dec2005Kennedy14.txt           FOR IMMEDIATE RELEASE  World AIDS Day...   \n",
       "01Dec2006Kennedy1.txt            FOR IMMEDIATE RELEASE  Washington  D ...   \n",
       "01Dec2006Kennedy2.txt            FOR IMMEDIATE RELEASE  Washington  D ...   \n",
       "01Feb2005Kennedy5.txt            FOR IMMEDIATE RELEASE      Mr  Presid...   \n",
       "01Feb2006Kennedy0.txt            FOR IMMEDIATE RELEASE     Today  the ...   \n",
       "01Feb2006Kennedy10.txt           FOR IMMEDIATE RELEASE  I agree with P...   \n",
       "01Feb2006Kennedy11.txt           FOR IMMEDIATE RELEASE      Fact sheet...   \n",
       "01Feb2006Kennedy12.txt           FOR IMMEDIATE RELEASE     I agree wit...   \n",
       "01Feb2006Kennedy13.txt           FOR IMMEDIATE RELEASE  Today  the Hou...   \n",
       "01Feb2006Kennedy14.txt           FOR IMMEDIATE RELEASE  REID     We re...   \n",
       "01Feb2006Kennedy9.txt            FOR IMMEDIATE RELEASE         Fact sh...   \n",
       "01Feb2007Kennedy0.txt            FOR IMMEDIATE RELEASE  WASHINGTON  DC...   \n",
       "01Feb2007Kennedy1.txt            FOR IMMEDIATE RELEASE  Washington  DC...   \n",
       "01Feb2007Kennedy11.txt           FOR IMMEDIATE RELEASE  CONTACTS  Meli...   \n",
       "01Feb2007Kennedy12.txt           FOR IMMEDIATE RELEASE  A decade ago  ...   \n",
       "01Feb2007Kennedy13.txt           FOR IMMEDIATE RELEASE    FACT SHEET I...   \n",
       "...                                                                   ...   \n",
       "8Jun2006Kyl205.txt      SEN. KYL ISSUES STATEMENT ON DEATH TAX VOTE\\n ...   \n",
       "8Mar2006Kyl249.txt      SEN. KYL INITIATIVE GUARANTEES AIR-CONDITIONIN...   \n",
       "8May2006Kyl222.txt      PAIN AT THE PUMP\\n  There is an old saying: Fo...   \n",
       "8Nov2004Kyl438.txt      FINALLY, AN END TO SENATE GRIDLOCK?\\n  By Sen....   \n",
       "8Nov2005Kyl308.txt      SEN. KYL APPLAUDS SENATE PASSAGE OF DEFICIT RE...   \n",
       "8Nov2005Kyl309.txt      SEN. KYL CALLS SAUDI ARABIAN SUPPORT FOR WAHHA...   \n",
       "8Nov2005Kyl310.txt      SENS. KYL, FEINGOLD INTRODUCE BILL TO STRENGTH...   \n",
       "9Apr2007Kyl110.txt      HONORING DIRECTOR JOHN GILLIS\\n  Each April fo...   \n",
       "9Apr2008Kyl4.txt        SENS. KYL, DEMINT INTRODUCE HEALTH CARE EQUITY...   \n",
       "9Aug2004Kyl463.txt      CAN'T VOTE FROM JAIL = DISCRIMINATION?\\n  By S...   \n",
       "9Aug2005Kyl351.txt      SEN. KYL: JOHN BOLTON FINALLY HEADED TO THE U....   \n",
       "9Dec2006Kyl148.txt      SEN. KYL APPLAUDS PASSAGE OF YUMA IMPROVEMENT ...   \n",
       "9Dec2006Kyl149.txt      CONGRESS APPROVES TAX CUT EXTENSIONS\\n  The U....   \n",
       "9Feb2006Kyl263.txt      SEN. KYL JOINS SEN. MCCAIN TO END PORK BARREL ...   \n",
       "9Jan2006Kyl280.txt      RINGING IN THE NEW YEAR\\n  By Sen. Jon Kyl\\n  ...   \n",
       "9Jun2004Kyl492.txt      SEN. KYL URGES WORLD COMMUNITY TO AID RECONSTR...   \n",
       "9Mar2006Kyl246.txt      SEN. KYL, REP. GRIJALVA APPLAUD SENATE COMMITT...   \n",
       "9Mar2006Kyl247.txt      SEN. KYL APPLAUDS TRIUMPH OF SECURITY OVER PAR...   \n",
       "9Mar2006Kyl248.txt      SEN. KYL SECURES STRONGEST BORDER SECURITY FOR...   \n",
       "9May2005Kyl384.txt      SEN. KYL ANNOUNCES REIMBURSEMENT GUIDELINES FO...   \n",
       "9May2006Kyl221.txt      SEN. KYL HAILS TAX RELIEF AGREEMENT\\n  The con...   \n",
       "9May2007Kyl100.txt      SENATE-HOUSE GOP LEADERS ACCEPT PETITION FROM ...   \n",
       "9May2007Kyl99.txt       SEN. KYL BILL ADDS LAND TO LAS CIENEGAS CONSER...   \n",
       "9Nov2004Kyl437.txt      SEN. KYL ISSUES STATEMENT ON ATTORNEY GENERAL ...   \n",
       "9Nov2005Kyl305.txt      SCAAP FUNDING RISES TO $405 MILLION, ALONG WIT...   \n",
       "9Nov2005Kyl306.txt      SEN. KYL ANNOUNCES AZ FUNDING IN ENERGY & WATE...   \n",
       "9Nov2005Kyl307.txt      SEN. KYL LAUDS SENATE MOVE TO EQUALIZE BENEFIT...   \n",
       "9Oct2007Kyl61.txt       PLAYING GAMES WITH LIVES OF AMERICAN SOLDIERS\\...   \n",
       "9Sep2005Kyl342.txt      SEN. KYL'S WEB SITE OFFERS GUIDANCE ON HELPING...   \n",
       "9Sep2005Kyl343.txt      SEN. KYL URGES EPA TO 'CLOSE GAP' ON SUMMER-BL...   \n",
       "\n",
       "                       category  \n",
       "01Apr2005Kennedy14.txt  Kennedy  \n",
       "01Aug2005Kennedy12.txt  Kennedy  \n",
       "01Aug2006Kennedy10.txt  Kennedy  \n",
       "01Aug2006Kennedy11.txt  Kennedy  \n",
       "01Aug2006Kennedy12.txt  Kennedy  \n",
       "01Aug2006Kennedy13.txt  Kennedy  \n",
       "01Aug2006Kennedy14.txt  Kennedy  \n",
       "01Aug2007Kennedy5.txt   Kennedy  \n",
       "01Aug2007Kennedy6.txt   Kennedy  \n",
       "01Aug2007Kennedy7.txt   Kennedy  \n",
       "01Dec2005Kennedy10.txt  Kennedy  \n",
       "01Dec2005Kennedy11.txt  Kennedy  \n",
       "01Dec2005Kennedy12.txt  Kennedy  \n",
       "01Dec2005Kennedy13.txt  Kennedy  \n",
       "01Dec2005Kennedy14.txt  Kennedy  \n",
       "01Dec2006Kennedy1.txt   Kennedy  \n",
       "01Dec2006Kennedy2.txt   Kennedy  \n",
       "01Feb2005Kennedy5.txt   Kennedy  \n",
       "01Feb2006Kennedy0.txt   Kennedy  \n",
       "01Feb2006Kennedy10.txt  Kennedy  \n",
       "01Feb2006Kennedy11.txt  Kennedy  \n",
       "01Feb2006Kennedy12.txt  Kennedy  \n",
       "01Feb2006Kennedy13.txt  Kennedy  \n",
       "01Feb2006Kennedy14.txt  Kennedy  \n",
       "01Feb2006Kennedy9.txt   Kennedy  \n",
       "01Feb2007Kennedy0.txt   Kennedy  \n",
       "01Feb2007Kennedy1.txt   Kennedy  \n",
       "01Feb2007Kennedy11.txt  Kennedy  \n",
       "01Feb2007Kennedy12.txt  Kennedy  \n",
       "01Feb2007Kennedy13.txt  Kennedy  \n",
       "...                         ...  \n",
       "8Jun2006Kyl205.txt          Kyl  \n",
       "8Mar2006Kyl249.txt          Kyl  \n",
       "8May2006Kyl222.txt          Kyl  \n",
       "8Nov2004Kyl438.txt          Kyl  \n",
       "8Nov2005Kyl308.txt          Kyl  \n",
       "8Nov2005Kyl309.txt          Kyl  \n",
       "8Nov2005Kyl310.txt          Kyl  \n",
       "9Apr2007Kyl110.txt          Kyl  \n",
       "9Apr2008Kyl4.txt            Kyl  \n",
       "9Aug2004Kyl463.txt          Kyl  \n",
       "9Aug2005Kyl351.txt          Kyl  \n",
       "9Dec2006Kyl148.txt          Kyl  \n",
       "9Dec2006Kyl149.txt          Kyl  \n",
       "9Feb2006Kyl263.txt          Kyl  \n",
       "9Jan2006Kyl280.txt          Kyl  \n",
       "9Jun2004Kyl492.txt          Kyl  \n",
       "9Mar2006Kyl246.txt          Kyl  \n",
       "9Mar2006Kyl247.txt          Kyl  \n",
       "9Mar2006Kyl248.txt          Kyl  \n",
       "9May2005Kyl384.txt          Kyl  \n",
       "9May2006Kyl221.txt          Kyl  \n",
       "9May2007Kyl100.txt          Kyl  \n",
       "9May2007Kyl99.txt           Kyl  \n",
       "9Nov2004Kyl437.txt          Kyl  \n",
       "9Nov2005Kyl305.txt          Kyl  \n",
       "9Nov2005Kyl306.txt          Kyl  \n",
       "9Nov2005Kyl307.txt          Kyl  \n",
       "9Oct2007Kyl61.txt           Kyl  \n",
       "9Sep2005Kyl342.txt          Kyl  \n",
       "9Sep2005Kyl343.txt          Kyl  \n",
       "\n",
       "[3904 rows x 2 columns]"
      ]
     },
     "execution_count": 4,
     "metadata": {},
     "output_type": "execute_result"
    }
   ],
   "source": [
    "dataDir = '../data/grimmerPressReleases'\n",
    "\n",
    "senReleasesDF = pandas.DataFrame()\n",
    "\n",
    "for senatorDir in (file for file in os.scandir(dataDir) if not file.name.startswith('.') and file.is_dir()):\n",
    "    senDF = lucem_illud.loadTextDirectory(senatorDir.path)\n",
    "    senDF['category'] = senatorDir.name\n",
    "    senReleasesDF = senReleasesDF.append(senDF, ignore_index = False)\n",
    "\n",
    "senReleasesDF"
   ]
  },
  {
   "cell_type": "markdown",
   "metadata": {},
   "source": [
    "We also want to remove stop words and stem. Tokenizing requires two steps. Word2Vec needs to retain the sentence structure so as to capture a \"continuous bag of words (CBOW)\" and all of the skip-grams within a word window. The algorithm tries to preserve the distances induced by one of these two local structures. This is very different from clustering and LDA topic modeling which extract unordered words alone. As such, tokenizing is slightly more involved, but we can still use `lucem_illud`."
   ]
  },
  {
   "cell_type": "code",
   "execution_count": 5,
   "metadata": {
    "collapsed": false
   },
   "outputs": [
    {
     "data": {
      "text/html": [
       "<div>\n",
       "<style scoped>\n",
       "    .dataframe tbody tr th:only-of-type {\n",
       "        vertical-align: middle;\n",
       "    }\n",
       "\n",
       "    .dataframe tbody tr th {\n",
       "        vertical-align: top;\n",
       "    }\n",
       "\n",
       "    .dataframe thead th {\n",
       "        text-align: right;\n",
       "    }\n",
       "</style>\n",
       "<table border=\"1\" class=\"dataframe\">\n",
       "  <thead>\n",
       "    <tr style=\"text-align: right;\">\n",
       "      <th></th>\n",
       "      <th>text</th>\n",
       "      <th>category</th>\n",
       "      <th>tokenized_sents</th>\n",
       "      <th>normalized_sents</th>\n",
       "    </tr>\n",
       "  </thead>\n",
       "  <tbody>\n",
       "    <tr>\n",
       "      <th>01Apr2005Kennedy14.txt</th>\n",
       "      <td>FOR IMMEDIATE RELEASE   FOR IMMEDIATE...</td>\n",
       "      <td>Kennedy</td>\n",
       "      <td>[[FOR, IMMEDIATE, RELEASE, FOR, IMMEDIATE, REL...</td>\n",
       "      <td>[[immediate, release, immediate, release, cont...</td>\n",
       "    </tr>\n",
       "    <tr>\n",
       "      <th>01Dec2005Kennedy10.txt</th>\n",
       "      <td>FOR IMMEDIATE RELEASE     Washington ...</td>\n",
       "      <td>Kennedy</td>\n",
       "      <td>[[FOR, IMMEDIATE, RELEASE, Washington, D, C, T...</td>\n",
       "      <td>[[immediate, release, washington, c, today, se...</td>\n",
       "    </tr>\n",
       "    <tr>\n",
       "      <th>01Feb2006Kennedy11.txt</th>\n",
       "      <td>FOR IMMEDIATE RELEASE      Fact sheet...</td>\n",
       "      <td>Kennedy</td>\n",
       "      <td>[[FOR, IMMEDIATE, RELEASE, Fact, sheets, on, B...</td>\n",
       "      <td>[[immediate, release, fact, sheets, bush, plan...</td>\n",
       "    </tr>\n",
       "    <tr>\n",
       "      <th>01Feb2007Kennedy14.txt</th>\n",
       "      <td>FOR IMMEDIATE RELEASE     Washington ...</td>\n",
       "      <td>Kennedy</td>\n",
       "      <td>[[FOR, IMMEDIATE, RELEASE, Washington, D, C, T...</td>\n",
       "      <td>[[immediate, release, washington, c, today, u,...</td>\n",
       "    </tr>\n",
       "    <tr>\n",
       "      <th>01Jun2007Kennedy11.txt</th>\n",
       "      <td>FOR IMMEDIATE RELEASE  BOSTON  MA  Se...</td>\n",
       "      <td>Kennedy</td>\n",
       "      <td>[[FOR, IMMEDIATE, RELEASE, BOSTON, MA, Senator...</td>\n",
       "      <td>[[immediate, release, boston, senator, edward,...</td>\n",
       "    </tr>\n",
       "    <tr>\n",
       "      <th>01Mar2007Kennedy0.txt</th>\n",
       "      <td>FOR IMMEDIATE RELEASE     Washington ...</td>\n",
       "      <td>Kennedy</td>\n",
       "      <td>[[FOR, IMMEDIATE, RELEASE, Washington, DC, Tod...</td>\n",
       "      <td>[[immediate, release, washington, dc, today, s...</td>\n",
       "    </tr>\n",
       "    <tr>\n",
       "      <th>01May2007Kennedy13.txt</th>\n",
       "      <td>FOR IMMEDIATE RELEASE  The President ...</td>\n",
       "      <td>Kennedy</td>\n",
       "      <td>[[FOR, IMMEDIATE, RELEASE, The, President, is,...</td>\n",
       "      <td>[[immediate, release, president, wrong, veto, ...</td>\n",
       "    </tr>\n",
       "    <tr>\n",
       "      <th>01Nov2007Kennedy9.txt</th>\n",
       "      <td>FOR IMMEDIATE RELEASE  Washington  DC...</td>\n",
       "      <td>Kennedy</td>\n",
       "      <td>[[FOR, IMMEDIATE, RELEASE, Washington, DC, Sen...</td>\n",
       "      <td>[[immediate, release, washington, dc, senators...</td>\n",
       "    </tr>\n",
       "    <tr>\n",
       "      <th>02Aug2006Kennedy8.txt</th>\n",
       "      <td>FOR IMMEDIATE RELEASE  FOR IMMEDIATE ...</td>\n",
       "      <td>Kennedy</td>\n",
       "      <td>[[FOR, IMMEDIATE, RELEASE, FOR, IMMEDIATE, REL...</td>\n",
       "      <td>[[immediate, release, immediate, release, impo...</td>\n",
       "    </tr>\n",
       "    <tr>\n",
       "      <th>02Feb2005Kennedy4.txt</th>\n",
       "      <td>FOR IMMEDIATE RELEASE     The Preside...</td>\n",
       "      <td>Kennedy</td>\n",
       "      <td>[[FOR, IMMEDIATE, RELEASE, The, President, gav...</td>\n",
       "      <td>[[immediate, release, president, gave, effecti...</td>\n",
       "    </tr>\n",
       "  </tbody>\n",
       "</table>\n",
       "</div>"
      ],
      "text/plain": [
       "                                                                     text  \\\n",
       "01Apr2005Kennedy14.txt           FOR IMMEDIATE RELEASE   FOR IMMEDIATE...   \n",
       "01Dec2005Kennedy10.txt           FOR IMMEDIATE RELEASE     Washington ...   \n",
       "01Feb2006Kennedy11.txt           FOR IMMEDIATE RELEASE      Fact sheet...   \n",
       "01Feb2007Kennedy14.txt           FOR IMMEDIATE RELEASE     Washington ...   \n",
       "01Jun2007Kennedy11.txt           FOR IMMEDIATE RELEASE  BOSTON  MA  Se...   \n",
       "01Mar2007Kennedy0.txt            FOR IMMEDIATE RELEASE     Washington ...   \n",
       "01May2007Kennedy13.txt           FOR IMMEDIATE RELEASE  The President ...   \n",
       "01Nov2007Kennedy9.txt            FOR IMMEDIATE RELEASE  Washington  DC...   \n",
       "02Aug2006Kennedy8.txt            FOR IMMEDIATE RELEASE  FOR IMMEDIATE ...   \n",
       "02Feb2005Kennedy4.txt            FOR IMMEDIATE RELEASE     The Preside...   \n",
       "\n",
       "                       category  \\\n",
       "01Apr2005Kennedy14.txt  Kennedy   \n",
       "01Dec2005Kennedy10.txt  Kennedy   \n",
       "01Feb2006Kennedy11.txt  Kennedy   \n",
       "01Feb2007Kennedy14.txt  Kennedy   \n",
       "01Jun2007Kennedy11.txt  Kennedy   \n",
       "01Mar2007Kennedy0.txt   Kennedy   \n",
       "01May2007Kennedy13.txt  Kennedy   \n",
       "01Nov2007Kennedy9.txt   Kennedy   \n",
       "02Aug2006Kennedy8.txt   Kennedy   \n",
       "02Feb2005Kennedy4.txt   Kennedy   \n",
       "\n",
       "                                                          tokenized_sents  \\\n",
       "01Apr2005Kennedy14.txt  [[FOR, IMMEDIATE, RELEASE, FOR, IMMEDIATE, REL...   \n",
       "01Dec2005Kennedy10.txt  [[FOR, IMMEDIATE, RELEASE, Washington, D, C, T...   \n",
       "01Feb2006Kennedy11.txt  [[FOR, IMMEDIATE, RELEASE, Fact, sheets, on, B...   \n",
       "01Feb2007Kennedy14.txt  [[FOR, IMMEDIATE, RELEASE, Washington, D, C, T...   \n",
       "01Jun2007Kennedy11.txt  [[FOR, IMMEDIATE, RELEASE, BOSTON, MA, Senator...   \n",
       "01Mar2007Kennedy0.txt   [[FOR, IMMEDIATE, RELEASE, Washington, DC, Tod...   \n",
       "01May2007Kennedy13.txt  [[FOR, IMMEDIATE, RELEASE, The, President, is,...   \n",
       "01Nov2007Kennedy9.txt   [[FOR, IMMEDIATE, RELEASE, Washington, DC, Sen...   \n",
       "02Aug2006Kennedy8.txt   [[FOR, IMMEDIATE, RELEASE, FOR, IMMEDIATE, REL...   \n",
       "02Feb2005Kennedy4.txt   [[FOR, IMMEDIATE, RELEASE, The, President, gav...   \n",
       "\n",
       "                                                         normalized_sents  \n",
       "01Apr2005Kennedy14.txt  [[immediate, release, immediate, release, cont...  \n",
       "01Dec2005Kennedy10.txt  [[immediate, release, washington, c, today, se...  \n",
       "01Feb2006Kennedy11.txt  [[immediate, release, fact, sheets, bush, plan...  \n",
       "01Feb2007Kennedy14.txt  [[immediate, release, washington, c, today, u,...  \n",
       "01Jun2007Kennedy11.txt  [[immediate, release, boston, senator, edward,...  \n",
       "01Mar2007Kennedy0.txt   [[immediate, release, washington, dc, today, s...  \n",
       "01May2007Kennedy13.txt  [[immediate, release, president, wrong, veto, ...  \n",
       "01Nov2007Kennedy9.txt   [[immediate, release, washington, dc, senators...  \n",
       "02Aug2006Kennedy8.txt   [[immediate, release, immediate, release, impo...  \n",
       "02Feb2005Kennedy4.txt   [[immediate, release, president, gave, effecti...  "
      ]
     },
     "execution_count": 5,
     "metadata": {},
     "output_type": "execute_result"
    }
   ],
   "source": [
    "#Apply our functions, notice each row is a list of lists now\n",
    "senReleasesDF['tokenized_sents'] = senReleasesDF['text'].apply(lambda x: \n",
    "                                                               [nltk.word_tokenize(s) for s in nltk.sent_tokenize(x)])\n",
    "senReleasesDF['normalized_sents'] = senReleasesDF['tokenized_sents'].apply(lambda x: \n",
    "                                                                           [lucem_illud.normalizeTokens(s, \n",
    "                                                                                           stopwordLst = lucem_illud.stop_words_basic, \n",
    "                                                                                           stemmer = None) \n",
    "                                                                            for s in x])\n",
    "\n",
    "senReleasesDF[:100:10]"
   ]
  },
  {
   "cell_type": "markdown",
   "metadata": {},
   "source": [
    "# Word2Vec\n",
    "\n",
    "We will be using the gensim implementation of [Word2Vec](https://radimrehurek.com/gensim/models/word2vec.html#gensim.models.word2vec.Word2Vec).\n",
    "\n",
    "To load our data our data we give all the sentences to the trainer, we just need to add the words as list of sentences, document structure doesn't matter, yet:"
   ]
  },
  {
   "cell_type": "code",
   "execution_count": 6,
   "metadata": {
    "collapsed": true
   },
   "outputs": [],
   "source": [
    "senReleasesW2V = gensim.models.word2vec.Word2Vec(senReleasesDF['normalized_sents'].sum())"
   ]
  },
  {
   "cell_type": "markdown",
   "metadata": {},
   "source": [
    "Inside the word2vec object the words each have a vector. To access the vector directly, use the square braces (`__getitem__`) method:"
   ]
  },
  {
   "cell_type": "code",
   "execution_count": 7,
   "metadata": {
    "collapsed": false
   },
   "outputs": [
    {
     "name": "stdout",
     "output_type": "stream",
     "text": [
      "A 100 dimesional vector:\n"
     ]
    },
    {
     "name": "stderr",
     "output_type": "stream",
     "text": [
      "/Users/Reid/anaconda/lib/python3.6/site-packages/ipykernel/__main__.py:1: DeprecationWarning: Call to deprecated `__getitem__` (Method will be removed in 4.0.0, use self.wv.__getitem__() instead).\n",
      "  if __name__ == '__main__':\n",
      "/Users/Reid/anaconda/lib/python3.6/site-packages/ipykernel/__main__.py:2: DeprecationWarning: Call to deprecated `__getitem__` (Method will be removed in 4.0.0, use self.wv.__getitem__() instead).\n",
      "  from ipykernel import kernelapp as app\n"
     ]
    },
    {
     "data": {
      "text/plain": [
       "array([-1.0267313 , -2.5911517 ,  0.45578456, -0.19947244, -2.922834  ,\n",
       "       -0.7888052 ,  1.4509484 ,  1.3231047 , -3.230036  , -2.4379652 ,\n",
       "        1.2842115 , -1.6027515 , -0.6644185 , -1.2466693 ,  0.9840462 ,\n",
       "        1.8022314 , -1.0161709 ,  0.06229429, -0.77326417,  0.17551771,\n",
       "       -1.3111031 ,  1.0692097 ,  1.5354308 , -0.4636707 , -0.55812025,\n",
       "        1.1760716 ,  1.4523263 ,  0.07545298,  1.2754037 , -0.9930061 ,\n",
       "        0.41274416,  0.07287368, -1.7321827 , -3.30455   ,  2.4293377 ,\n",
       "       -1.1906023 ,  0.5324672 , -1.9180775 ,  0.11651894,  1.6538672 ,\n",
       "       -1.8810351 ,  1.0371573 ,  1.0858742 , -0.9516184 , -1.0865542 ,\n",
       "        0.924174  , -0.6351853 ,  1.088094  ,  0.91879606,  1.5896233 ,\n",
       "        1.4833062 , -1.0457765 ,  0.8660336 ,  2.8830836 , -2.1056123 ,\n",
       "        3.2737153 ,  1.9242488 , -0.354149  , -0.22692606, -0.46609372,\n",
       "       -2.4291222 ,  0.16060692, -1.0959829 ,  0.49730733, -1.9054754 ,\n",
       "       -0.1638226 , -0.04062802,  0.8467441 ,  1.7710441 ,  0.71960247,\n",
       "        0.19371869,  3.1128318 , -1.6088321 ,  1.0205356 , -0.4995282 ,\n",
       "       -1.6125945 , -1.630251  , -0.7347315 , -1.0457852 , -0.98931533,\n",
       "       -2.1933513 ,  0.1633074 ,  0.6020296 , -1.8393792 , -0.425075  ,\n",
       "       -1.0860072 ,  0.6855099 ,  0.26820508,  0.17127612, -1.818119  ,\n",
       "        1.6954117 , -0.91885436,  0.7181852 ,  0.7535212 ,  0.6648514 ,\n",
       "        2.2743814 ,  0.37872717,  1.8882498 , -2.2758431 , -1.224247  ],\n",
       "      dtype=float32)"
      ]
     },
     "execution_count": 7,
     "metadata": {},
     "output_type": "execute_result"
    }
   ],
   "source": [
    "print(\"A {} dimesional vector:\".format(senReleasesW2V['president'].shape[0]))\n",
    "senReleasesW2V['president']"
   ]
  },
  {
   "cell_type": "markdown",
   "metadata": {},
   "source": [
    "If you want the full matrix, `syn0` stores all the vectors:"
   ]
  },
  {
   "cell_type": "code",
   "execution_count": 8,
   "metadata": {
    "collapsed": false
   },
   "outputs": [
    {
     "data": {
      "text/plain": [
       "array([[-1.4454222e+00,  3.7279674e-01, -1.2607780e-01, ...,\n",
       "         7.0768952e-01,  3.1705670e-02,  7.9376340e-01],\n",
       "       [ 2.9381731e-01,  4.8450110e-03, -2.2557778e+00, ...,\n",
       "         3.2855499e-01, -9.5382273e-02, -7.2388992e-02],\n",
       "       [ 3.0086758e+00,  8.5593659e-01, -3.2288377e+00, ...,\n",
       "        -1.9024301e-01,  1.5166559e+00, -1.0569427e-01],\n",
       "       ...,\n",
       "       [-2.9487859e-02, -1.7962715e-02, -4.7959361e-02, ...,\n",
       "        -1.3391946e-02, -6.3807286e-02,  1.1249865e-01],\n",
       "       [ 2.2282926e-02,  5.0779814e-03, -3.9175887e-02, ...,\n",
       "         3.2930043e-02,  4.0189590e-02,  3.8918808e-02],\n",
       "       [-1.0891997e-03,  3.5531208e-02, -3.7793466e-03, ...,\n",
       "        -8.2277264e-03,  2.8159448e-03,  1.4742947e-01]], dtype=float32)"
      ]
     },
     "execution_count": 8,
     "metadata": {},
     "output_type": "execute_result"
    }
   ],
   "source": [
    "senReleasesW2V.wv.syn0"
   ]
  },
  {
   "cell_type": "markdown",
   "metadata": {},
   "source": [
    "Then, `index2word` lets you translate from the matrix to words"
   ]
  },
  {
   "cell_type": "code",
   "execution_count": 9,
   "metadata": {
    "collapsed": false
   },
   "outputs": [
    {
     "data": {
      "text/plain": [
       "'american'"
      ]
     },
     "execution_count": 9,
     "metadata": {},
     "output_type": "execute_result"
    }
   ],
   "source": [
    "senReleasesW2V.wv.index2word[10]"
   ]
  },
  {
   "cell_type": "markdown",
   "metadata": {},
   "source": [
    "Now we can look at a few things that come from the word vectors. The first is to find similar vectors (cosine similarity):"
   ]
  },
  {
   "cell_type": "code",
   "execution_count": 10,
   "metadata": {
    "collapsed": false
   },
   "outputs": [
    {
     "name": "stderr",
     "output_type": "stream",
     "text": [
      "/Users/Reid/anaconda/lib/python3.6/site-packages/ipykernel/__main__.py:1: DeprecationWarning: Call to deprecated `most_similar` (Method will be removed in 4.0.0, use self.wv.most_similar() instead).\n",
      "  if __name__ == '__main__':\n"
     ]
    },
    {
     "data": {
      "text/plain": [
       "[('administration', 0.751380205154419),\n",
       " ('presidents', 0.7377610206604004),\n",
       " ('administrations', 0.652384877204895),\n",
       " ('cheney', 0.6145017147064209),\n",
       " ('george', 0.598172664642334),\n",
       " ('lamont', 0.546123206615448),\n",
       " ('republican', 0.5155653357505798),\n",
       " ('signaled', 0.513725221157074),\n",
       " ('presidency', 0.5098460912704468),\n",
       " ('bolton', 0.5018711090087891)]"
      ]
     },
     "execution_count": 10,
     "metadata": {},
     "output_type": "execute_result"
    }
   ],
   "source": [
    "senReleasesW2V.most_similar('president')"
   ]
  },
  {
   "cell_type": "code",
   "execution_count": 11,
   "metadata": {
    "collapsed": false
   },
   "outputs": [
    {
     "name": "stderr",
     "output_type": "stream",
     "text": [
      "/Users/Reid/anaconda/lib/python3.6/site-packages/ipykernel/__main__.py:1: DeprecationWarning: Call to deprecated `most_similar` (Method will be removed in 4.0.0, use self.wv.most_similar() instead).\n",
      "  if __name__ == '__main__':\n"
     ]
    },
    {
     "data": {
      "text/plain": [
       "[('wars', 0.6896345615386963),\n",
       " ('disobedience', 0.6885842084884644),\n",
       " ('afghanistan', 0.6416066884994507),\n",
       " ('unresisted', 0.6369315385818481),\n",
       " ('quagmire', 0.6121341586112976),\n",
       " ('chaos', 0.6017166972160339),\n",
       " ('descending', 0.5945764780044556),\n",
       " ('invade', 0.592841625213623),\n",
       " ('battle', 0.5828339457511902),\n",
       " ('excuse', 0.5732954740524292)]"
      ]
     },
     "execution_count": 11,
     "metadata": {},
     "output_type": "execute_result"
    }
   ],
   "source": [
    "senReleasesW2V.most_similar('war')"
   ]
  },
  {
   "cell_type": "markdown",
   "metadata": {},
   "source": [
    "Find which word least matches the others within a word set (cosine similarity):"
   ]
  },
  {
   "cell_type": "code",
   "execution_count": 12,
   "metadata": {
    "collapsed": false
   },
   "outputs": [
    {
     "name": "stderr",
     "output_type": "stream",
     "text": [
      "/Users/Reid/anaconda/lib/python3.6/site-packages/ipykernel/__main__.py:1: DeprecationWarning: Call to deprecated `doesnt_match` (Method will be removed in 4.0.0, use self.wv.doesnt_match() instead).\n",
      "  if __name__ == '__main__':\n"
     ]
    },
    {
     "data": {
      "text/plain": [
       "'washington'"
      ]
     },
     "execution_count": 12,
     "metadata": {},
     "output_type": "execute_result"
    }
   ],
   "source": [
    "senReleasesW2V.doesnt_match(['administration', 'administrations', 'presidents', 'president', 'washington'])"
   ]
  },
  {
   "cell_type": "markdown",
   "metadata": {},
   "source": [
    "Find which word best matches the result of a semantic *equation* (here, we seek the words whose vectors best fit the missing entry from the equation: **X + Y - Z = _**."
   ]
  },
  {
   "cell_type": "code",
   "execution_count": 13,
   "metadata": {
    "collapsed": false
   },
   "outputs": [
    {
     "name": "stderr",
     "output_type": "stream",
     "text": [
      "/Users/Reid/anaconda/lib/python3.6/site-packages/ipykernel/__main__.py:1: DeprecationWarning: Call to deprecated `most_similar` (Method will be removed in 4.0.0, use self.wv.most_similar() instead).\n",
      "  if __name__ == '__main__':\n"
     ]
    },
    {
     "data": {
      "text/plain": [
       "[('bush', 0.6546688079833984),\n",
       " ('bushs', 0.6429986953735352),\n",
       " ('signed', 0.6362794637680054),\n",
       " ('signature', 0.6353097558021545),\n",
       " ('veto', 0.6346654891967773),\n",
       " ('vetoed', 0.6192207336425781),\n",
       " ('proposing', 0.6183457374572754),\n",
       " ('desk', 0.6154482364654541),\n",
       " ('signing', 0.6042171716690063),\n",
       " ('rejects', 0.5891342163085938)]"
      ]
     },
     "execution_count": 13,
     "metadata": {},
     "output_type": "execute_result"
    }
   ],
   "source": [
    "senReleasesW2V.most_similar(positive=['clinton', 'republican'], negative = ['democrat'])"
   ]
  },
  {
   "cell_type": "markdown",
   "metadata": {},
   "source": [
    "Here we see that **Clinton + Republican - Democrat = Bush**. In other words, in this dataset, **Clinton** is to **Democrat** as **Bush** is to **Republican**. Whoah!"
   ]
  },
  {
   "cell_type": "markdown",
   "metadata": {},
   "source": [
    "We can also save the vectors for later use:"
   ]
  },
  {
   "cell_type": "code",
   "execution_count": 14,
   "metadata": {
    "collapsed": true
   },
   "outputs": [],
   "source": [
    "senReleasesW2V.save(\"senpressreleasesWORD2Vec.mm\")\n",
    "#Load with senReleasesW2V = gensim.models.word2vec.Word2Vec.load('senpressreleasesWORD2Vec.mm')"
   ]
  },
  {
   "cell_type": "markdown",
   "metadata": {},
   "source": [
    "We can also use dimension reduction to visulize the vectors. We will start by selecting a subset we want to plot. Let's look at the top words from the set:"
   ]
  },
  {
   "cell_type": "code",
   "execution_count": 15,
   "metadata": {
    "collapsed": true
   },
   "outputs": [],
   "source": [
    "numWords = 150\n",
    "targetWords = senReleasesW2V.wv.index2word[:numWords]"
   ]
  },
  {
   "cell_type": "markdown",
   "metadata": {},
   "source": [
    "We can then extract their vectors and create our own smaller matrix that preserved the distances from the original:"
   ]
  },
  {
   "cell_type": "code",
   "execution_count": 16,
   "metadata": {
    "collapsed": false
   },
   "outputs": [
    {
     "name": "stderr",
     "output_type": "stream",
     "text": [
      "/Users/Reid/anaconda/lib/python3.6/site-packages/ipykernel/__main__.py:3: DeprecationWarning: Call to deprecated `__getitem__` (Method will be removed in 4.0.0, use self.wv.__getitem__() instead).\n",
      "  app.launch_new_instance()\n"
     ]
    },
    {
     "data": {
      "text/plain": [
       "array([[-1.4454222 ,  0.37279674, -0.1260778 , ...,  0.7076895 ,\n",
       "         0.03170567,  0.7937634 ],\n",
       "       [ 0.2938173 ,  0.00484501, -2.2557778 , ...,  0.328555  ,\n",
       "        -0.09538227, -0.07238899],\n",
       "       [ 3.0086758 ,  0.8559366 , -3.2288377 , ..., -0.190243  ,\n",
       "         1.5166559 , -0.10569427],\n",
       "       ...,\n",
       "       [ 1.4811294 ,  0.40455246, -0.9998372 , ..., -0.70239   ,\n",
       "        -0.89489585, -0.1606565 ],\n",
       "       [-0.5067495 ,  0.289849  , -0.48897076, ...,  0.2650659 ,\n",
       "         0.14272612,  0.33564827],\n",
       "       [-1.1248255 ,  0.56593144,  0.60365206, ..., -1.0938236 ,\n",
       "        -1.2103342 ,  0.8236071 ]], dtype=float32)"
      ]
     },
     "execution_count": 16,
     "metadata": {},
     "output_type": "execute_result"
    }
   ],
   "source": [
    "wordsSubMatrix = []\n",
    "for word in targetWords:\n",
    "    wordsSubMatrix.append(senReleasesW2V[word])\n",
    "wordsSubMatrix = np.array(wordsSubMatrix)\n",
    "wordsSubMatrix"
   ]
  },
  {
   "cell_type": "markdown",
   "metadata": {},
   "source": [
    "Then we can use PCA to reduce the dimesions (e.g., to 50), and [T-SNE](https://en.wikipedia.org/wiki/T-distributed_stochastic_neighbor_embedding) to project them down to the two we will visualize. We note that this is nondeterministic process, and so you can repeat and achieve alternative projectsions/visualizations of the words:"
   ]
  },
  {
   "cell_type": "code",
   "execution_count": 17,
   "metadata": {
    "collapsed": false
   },
   "outputs": [],
   "source": [
    "pcaWords = sklearn.decomposition.PCA(n_components = 50).fit(wordsSubMatrix)\n",
    "reducedPCA_data = pcaWords.transform(wordsSubMatrix)\n",
    "#T-SNE is theoretically better, but you should experiment\n",
    "tsneWords = sklearn.manifold.TSNE(n_components = 2, early_exaggeration = 25).fit_transform(reducedPCA_data)"
   ]
  },
  {
   "cell_type": "markdown",
   "metadata": {},
   "source": [
    "We now can plot the points"
   ]
  },
  {
   "cell_type": "code",
   "execution_count": 18,
   "metadata": {
    "collapsed": false
   },
   "outputs": [
    {
     "data": {
      "image/png": "[encoded data removed]",
      "text/plain": [
       "<matplotlib.figure.Figure at 0x105345e10>"
      ]
     },
     "metadata": {},
     "output_type": "display_data"
    }
   ],
   "source": [
    "fig = plt.figure(figsize = (15,10))\n",
    "ax = fig.add_subplot(111)\n",
    "ax.set_frame_on(False)\n",
    "plt.scatter(tsneWords[:, 0], tsneWords[:, 1], alpha = 0)#Making the points invisible \n",
    "for i, word in enumerate(targetWords):\n",
    "    ax.annotate(word, \n",
    "                (tsneWords[:, 0][i],tsneWords[:, 1][i]), \n",
    "                size =  20 * (numWords - i) / numWords, \n",
    "                alpha = .8 * (numWords - i) / numWords + .2)\n",
    "plt.xticks(())\n",
    "plt.yticks(())\n",
    "plt.show()"
   ]
  },
  {
   "cell_type": "markdown",
   "metadata": {},
   "source": [
    "My visualization above puts ``iraq`` next to ``time`` and ``bill`` near ``help``. <img src='../data/examplewordcloud.png'>"
   ]
  },
  {
   "cell_type": "markdown",
   "metadata": {},
   "source": [
    "What if a new senator come along with whose names starts with K? Could we analys there releases too without rerunning the whole embeding? Lets try with Cardin in `../data/grimmerPressReleases_extra/Cardin`. First we need to load and proccess the releases:"
   ]
  },
  {
   "cell_type": "code",
   "execution_count": 19,
   "metadata": {
    "collapsed": false
   },
   "outputs": [
    {
     "data": {
      "text/html": [
       "<div>\n",
       "<style scoped>\n",
       "    .dataframe tbody tr th:only-of-type {\n",
       "        vertical-align: middle;\n",
       "    }\n",
       "\n",
       "    .dataframe tbody tr th {\n",
       "        vertical-align: top;\n",
       "    }\n",
       "\n",
       "    .dataframe thead th {\n",
       "        text-align: right;\n",
       "    }\n",
       "</style>\n",
       "<table border=\"1\" class=\"dataframe\">\n",
       "  <thead>\n",
       "    <tr style=\"text-align: right;\">\n",
       "      <th></th>\n",
       "      <th>text</th>\n",
       "      <th>category</th>\n",
       "      <th>tokenized_sents</th>\n",
       "      <th>normalized_sents</th>\n",
       "    </tr>\n",
       "  </thead>\n",
       "  <tbody>\n",
       "    <tr>\n",
       "      <th>01Aug2007Cardin156.txt</th>\n",
       "      <td>...</td>\n",
       "      <td>Cardin</td>\n",
       "      <td>[[CARDIN, MIKULSKI, PRAISES, PASSAGE, OF, STRO...</td>\n",
       "      <td>[[cardin, mikulski, praises, passage, strong, ...</td>\n",
       "    </tr>\n",
       "    <tr>\n",
       "      <th>01Feb2007Cardin297.txt</th>\n",
       "      <td>...</td>\n",
       "      <td>Cardin</td>\n",
       "      <td>[[CARDIN, VOTES, TO, INCREASE, MINIMUM, WAGE, ...</td>\n",
       "      <td>[[cardin, votes, increase, minimum, wage, pay,...</td>\n",
       "    </tr>\n",
       "    <tr>\n",
       "      <th>01Feb2007Cardin298.txt</th>\n",
       "      <td>...</td>\n",
       "      <td>Cardin</td>\n",
       "      <td>[[S, 453, SEN, CARDIN, CO, SPONSORS, BILL, TO,...</td>\n",
       "      <td>[[sen, cardin, co, sponsors, bill, protect, vo...</td>\n",
       "    </tr>\n",
       "    <tr>\n",
       "      <th>01Feb2007Cardin299.txt</th>\n",
       "      <td>...</td>\n",
       "      <td>Cardin</td>\n",
       "      <td>[[S, 450, CARDIN, INTRODUCES, BILL, TO, ELIMIN...</td>\n",
       "      <td>[[cardin, introduces, bill, eliminate, arbitra...</td>\n",
       "    </tr>\n",
       "    <tr>\n",
       "      <th>01Jun2007Cardin199.txt</th>\n",
       "      <td>...</td>\n",
       "      <td>Cardin</td>\n",
       "      <td>[[CARDIN, MIKULSKI, ANNOUNCE, 7, 3, MILLION, F...</td>\n",
       "      <td>[[cardin, mikulski, announce, million, hagerst...</td>\n",
       "    </tr>\n",
       "    <tr>\n",
       "      <th>01Jun2007Cardin200.txt</th>\n",
       "      <td>...</td>\n",
       "      <td>Cardin</td>\n",
       "      <td>[[CARDIN, MIKULSKI, ANNOUNCE, 4, 6, MILLION, F...</td>\n",
       "      <td>[[cardin, mikulski, announce, million, salisbu...</td>\n",
       "    </tr>\n",
       "    <tr>\n",
       "      <th>01Mar2007Cardin279.txt</th>\n",
       "      <td>...</td>\n",
       "      <td>Cardin</td>\n",
       "      <td>[[SEN, CARDIN, FIGHTS, TO, IMPROVE, SECURITY, ...</td>\n",
       "      <td>[[sen, cardin, fights, improve, security, amer...</td>\n",
       "    </tr>\n",
       "    <tr>\n",
       "      <th>01Mar2007Cardin280.txt</th>\n",
       "      <td>...</td>\n",
       "      <td>Cardin</td>\n",
       "      <td>[[CARDIN, MIKULSKI, ANNOUNCE, 35, 000, FOR, WE...</td>\n",
       "      <td>[[cardin, mikulski, announce, western, marylan...</td>\n",
       "    </tr>\n",
       "    <tr>\n",
       "      <th>01May2007Cardin228.txt</th>\n",
       "      <td>...</td>\n",
       "      <td>Cardin</td>\n",
       "      <td>[[STATEMENT, BY, U, S, SENATOR, BENJAMIN, L, C...</td>\n",
       "      <td>[[statement, u, senator, benjamin, l, cardin, ...</td>\n",
       "    </tr>\n",
       "    <tr>\n",
       "      <th>01May2007Cardin229.txt</th>\n",
       "      <td>...</td>\n",
       "      <td>Cardin</td>\n",
       "      <td>[[CARDIN, TELLS, THE, AG, COMMITTEE, THAT, THE...</td>\n",
       "      <td>[[cardin, tells, ag, committee, farm, bill, co...</td>\n",
       "    </tr>\n",
       "  </tbody>\n",
       "</table>\n",
       "</div>"
      ],
      "text/plain": [
       "                                                                     text  \\\n",
       "01Aug2007Cardin156.txt                                                ...   \n",
       "01Feb2007Cardin297.txt                                                ...   \n",
       "01Feb2007Cardin298.txt                                                ...   \n",
       "01Feb2007Cardin299.txt                                                ...   \n",
       "01Jun2007Cardin199.txt                                                ...   \n",
       "01Jun2007Cardin200.txt                                                ...   \n",
       "01Mar2007Cardin279.txt                                                ...   \n",
       "01Mar2007Cardin280.txt                                                ...   \n",
       "01May2007Cardin228.txt                                                ...   \n",
       "01May2007Cardin229.txt                                                ...   \n",
       "\n",
       "                       category  \\\n",
       "01Aug2007Cardin156.txt   Cardin   \n",
       "01Feb2007Cardin297.txt   Cardin   \n",
       "01Feb2007Cardin298.txt   Cardin   \n",
       "01Feb2007Cardin299.txt   Cardin   \n",
       "01Jun2007Cardin199.txt   Cardin   \n",
       "01Jun2007Cardin200.txt   Cardin   \n",
       "01Mar2007Cardin279.txt   Cardin   \n",
       "01Mar2007Cardin280.txt   Cardin   \n",
       "01May2007Cardin228.txt   Cardin   \n",
       "01May2007Cardin229.txt   Cardin   \n",
       "\n",
       "                                                          tokenized_sents  \\\n",
       "01Aug2007Cardin156.txt  [[CARDIN, MIKULSKI, PRAISES, PASSAGE, OF, STRO...   \n",
       "01Feb2007Cardin297.txt  [[CARDIN, VOTES, TO, INCREASE, MINIMUM, WAGE, ...   \n",
       "01Feb2007Cardin298.txt  [[S, 453, SEN, CARDIN, CO, SPONSORS, BILL, TO,...   \n",
       "01Feb2007Cardin299.txt  [[S, 450, CARDIN, INTRODUCES, BILL, TO, ELIMIN...   \n",
       "01Jun2007Cardin199.txt  [[CARDIN, MIKULSKI, ANNOUNCE, 7, 3, MILLION, F...   \n",
       "01Jun2007Cardin200.txt  [[CARDIN, MIKULSKI, ANNOUNCE, 4, 6, MILLION, F...   \n",
       "01Mar2007Cardin279.txt  [[SEN, CARDIN, FIGHTS, TO, IMPROVE, SECURITY, ...   \n",
       "01Mar2007Cardin280.txt  [[CARDIN, MIKULSKI, ANNOUNCE, 35, 000, FOR, WE...   \n",
       "01May2007Cardin228.txt  [[STATEMENT, BY, U, S, SENATOR, BENJAMIN, L, C...   \n",
       "01May2007Cardin229.txt  [[CARDIN, TELLS, THE, AG, COMMITTEE, THAT, THE...   \n",
       "\n",
       "                                                         normalized_sents  \n",
       "01Aug2007Cardin156.txt  [[cardin, mikulski, praises, passage, strong, ...  \n",
       "01Feb2007Cardin297.txt  [[cardin, votes, increase, minimum, wage, pay,...  \n",
       "01Feb2007Cardin298.txt  [[sen, cardin, co, sponsors, bill, protect, vo...  \n",
       "01Feb2007Cardin299.txt  [[cardin, introduces, bill, eliminate, arbitra...  \n",
       "01Jun2007Cardin199.txt  [[cardin, mikulski, announce, million, hagerst...  \n",
       "01Jun2007Cardin200.txt  [[cardin, mikulski, announce, million, salisbu...  \n",
       "01Mar2007Cardin279.txt  [[sen, cardin, fights, improve, security, amer...  \n",
       "01Mar2007Cardin280.txt  [[cardin, mikulski, announce, western, marylan...  \n",
       "01May2007Cardin228.txt  [[statement, u, senator, benjamin, l, cardin, ...  \n",
       "01May2007Cardin229.txt  [[cardin, tells, ag, committee, farm, bill, co...  "
      ]
     },
     "execution_count": 19,
     "metadata": {},
     "output_type": "execute_result"
    }
   ],
   "source": [
    "cardinDF = lucem_illud.loadTextDirectory('../data/grimmerPressReleases_extra/Cardin')\n",
    "cardinDF['category'] = 'Cardin'\n",
    "\n",
    "cardinDF['tokenized_sents'] = cardinDF['text'].apply(lambda x: \n",
    "                                                               [nltk.word_tokenize(s) for s in nltk.sent_tokenize(x)])\n",
    "cardinDF['normalized_sents'] = cardinDF['tokenized_sents'].apply(lambda x: \n",
    "                                                                           [lucem_illud.normalizeTokens(s, \n",
    "                                                                                           stopwordLst = lucem_illud.stop_words_basic, \n",
    "                                                                                           stemmer = None) \n",
    "                                                                            for s in x])\n",
    "\n",
    "cardinDF[:10]"
   ]
  },
  {
   "cell_type": "markdown",
   "metadata": {},
   "source": [
    "We can now merge Cardin's releases with the rest, this can update all the weights in the w2v so be careful."
   ]
  },
  {
   "cell_type": "code",
   "execution_count": 20,
   "metadata": {
    "collapsed": false
   },
   "outputs": [],
   "source": [
    "#This is using a newer API so we have to tell it a little bit more for it to work right\n",
    "senReleasesW2V.build_vocab(cardinDF['normalized_sents'].sum(), update=True)\n",
    "senReleasesW2V.train(cardinDF['normalized_sents'].sum(), \n",
    "                     total_examples=senReleasesW2V.corpus_count, \n",
    "                     epochs=senReleasesW2V.iter)\n",
    "senReleasesW2V.save(\"senpressreleasesWORD2Vec_new.mm\")"
   ]
  },
  {
   "cell_type": "markdown",
   "metadata": {},
   "source": [
    "As the model is updated by this we need to load our old copy to do a comparison"
   ]
  },
  {
   "cell_type": "code",
   "execution_count": 21,
   "metadata": {
    "collapsed": true
   },
   "outputs": [],
   "source": [
    "senReleasesW2V_old = gensim.models.word2vec.Word2Vec.load('senpressreleasesWORD2Vec.mm')"
   ]
  },
  {
   "cell_type": "code",
   "execution_count": 22,
   "metadata": {
    "collapsed": false
   },
   "outputs": [
    {
     "name": "stdout",
     "output_type": "stream",
     "text": [
      "A 100 dimesional vector:\n"
     ]
    },
    {
     "name": "stderr",
     "output_type": "stream",
     "text": [
      "/Users/Reid/anaconda/lib/python3.6/site-packages/ipykernel/__main__.py:1: DeprecationWarning: Call to deprecated `__getitem__` (Method will be removed in 4.0.0, use self.wv.__getitem__() instead).\n",
      "  if __name__ == '__main__':\n",
      "/Users/Reid/anaconda/lib/python3.6/site-packages/ipykernel/__main__.py:2: DeprecationWarning: Call to deprecated `__getitem__` (Method will be removed in 4.0.0, use self.wv.__getitem__() instead).\n",
      "  from ipykernel import kernelapp as app\n"
     ]
    },
    {
     "data": {
      "text/plain": [
       "array([-1.0228181 , -2.5554266 , -0.09076215, -0.47119153, -3.3724823 ,\n",
       "       -0.8038682 ,  1.5408798 ,  1.002921  , -3.34079   , -2.5145729 ],\n",
       "      dtype=float32)"
      ]
     },
     "execution_count": 22,
     "metadata": {},
     "output_type": "execute_result"
    }
   ],
   "source": [
    "print(\"A {} dimesional vector:\".format(senReleasesW2V['president'].shape[0]))\n",
    "senReleasesW2V['president'][:10]"
   ]
  },
  {
   "cell_type": "code",
   "execution_count": 23,
   "metadata": {
    "collapsed": false
   },
   "outputs": [
    {
     "name": "stdout",
     "output_type": "stream",
     "text": [
      "A 100 dimesional vector:\n"
     ]
    },
    {
     "name": "stderr",
     "output_type": "stream",
     "text": [
      "/Users/Reid/anaconda/lib/python3.6/site-packages/ipykernel/__main__.py:1: DeprecationWarning: Call to deprecated `__getitem__` (Method will be removed in 4.0.0, use self.wv.__getitem__() instead).\n",
      "  if __name__ == '__main__':\n",
      "/Users/Reid/anaconda/lib/python3.6/site-packages/ipykernel/__main__.py:2: DeprecationWarning: Call to deprecated `__getitem__` (Method will be removed in 4.0.0, use self.wv.__getitem__() instead).\n",
      "  from ipykernel import kernelapp as app\n"
     ]
    },
    {
     "data": {
      "text/plain": [
       "array([-1.0267313 , -2.5911517 ,  0.45578456, -0.19947244, -2.922834  ,\n",
       "       -0.7888052 ,  1.4509484 ,  1.3231047 , -3.230036  , -2.4379652 ],\n",
       "      dtype=float32)"
      ]
     },
     "execution_count": 23,
     "metadata": {},
     "output_type": "execute_result"
    }
   ],
   "source": [
    "print(\"A {} dimesional vector:\".format(senReleasesW2V_old['president'].shape[0]))\n",
    "senReleasesW2V_old['president'][:10]"
   ]
  },
  {
   "cell_type": "code",
   "execution_count": 24,
   "metadata": {
    "collapsed": false
   },
   "outputs": [
    {
     "name": "stderr",
     "output_type": "stream",
     "text": [
      "/Users/Reid/anaconda/lib/python3.6/site-packages/ipykernel/__main__.py:1: DeprecationWarning: Call to deprecated `__getitem__` (Method will be removed in 4.0.0, use self.wv.__getitem__() instead).\n",
      "  if __name__ == '__main__':\n"
     ]
    },
    {
     "data": {
      "text/plain": [
       "array([-0.00391316, -0.03572512,  0.5465467 ,  0.2717191 ,  0.44964838,\n",
       "        0.01506299, -0.08993149,  0.32018375,  0.11075401,  0.0766077 ],\n",
       "      dtype=float32)"
      ]
     },
     "execution_count": 24,
     "metadata": {},
     "output_type": "execute_result"
    }
   ],
   "source": [
    "(senReleasesW2V_old['president'] - senReleasesW2V['president'])[:10]"
   ]
  },
  {
   "cell_type": "markdown",
   "metadata": {},
   "source": [
    "As you can see the vector for 'president' has changed a little bit and the word cloud should also be a bit different too"
   ]
  },
  {
   "cell_type": "code",
   "execution_count": 25,
   "metadata": {
    "collapsed": false
   },
   "outputs": [],
   "source": [
    "pcaWords = sklearn.decomposition.PCA(n_components = 50).fit(wordsSubMatrix)\n",
    "reducedPCA_data = pcaWords.transform(wordsSubMatrix)\n",
    "#T-SNE is theoretically better, but you should experiment\n",
    "tsneWords = sklearn.manifold.TSNE(n_components = 2, early_exaggeration = 25).fit_transform(reducedPCA_data)"
   ]
  },
  {
   "cell_type": "code",
   "execution_count": 26,
   "metadata": {
    "collapsed": false
   },
   "outputs": [
    {
     "data": {
      "image/png": "[encoded data removed]",
      "text/plain": [
       "<matplotlib.figure.Figure at 0x122626208>"
      ]
     },
     "metadata": {},
     "output_type": "display_data"
    }
   ],
   "source": [
    "fig = plt.figure(figsize = (15,10))\n",
    "ax = fig.add_subplot(111)\n",
    "ax.set_frame_on(False)\n",
    "plt.scatter(tsneWords[:, 0], tsneWords[:, 1], alpha = 0)#Making the points invisible \n",
    "for i, word in enumerate(targetWords):\n",
    "    ax.annotate(word, \n",
    "                (tsneWords[:, 0][i],tsneWords[:, 1][i]), \n",
    "                size =  20 * (numWords - i) / numWords, \n",
    "                alpha = .8 * (numWords - i) / numWords + .2)\n",
    "plt.xticks(())\n",
    "plt.yticks(())\n",
    "plt.show()"
   ]
  },
  {
   "cell_type": "markdown",
   "metadata": {},
   "source": [
    "Another thing to consider in training is how we know that our parameters for the model are correct. We can do this by looking at the training loss of the model. Lets tart by training a new model, but this time we will expose most of the options and train it one epoch at a time, to see what they do look [here](https://radimrehurek.com/gensim/models/word2vec.html#gensim.models.word2vec.Word2Vec): "
   ]
  },
  {
   "cell_type": "code",
   "execution_count": 61,
   "metadata": {
    "collapsed": false
   },
   "outputs": [
    {
     "data": {
      "text/plain": [
       "1993602.625"
      ]
     },
     "execution_count": 61,
     "metadata": {},
     "output_type": "execute_result"
    }
   ],
   "source": [
    "senReleasesW2V_loss = gensim.models.word2vec.Word2Vec(size = 100, #dimensions\n",
    "                                                      alpha=0.025,\n",
    "                                                      window=5,\n",
    "                                                      min_count=5,\n",
    "                                                      hs=0,  #hierarchical softmax toggle\n",
    "                                                      compute_loss = True,\n",
    "                                                     )\n",
    "senReleasesW2V_loss.build_vocab(senReleasesDF['normalized_sents'].sum())\n",
    "senReleasesW2V_loss.train(senReleasesDF['normalized_sents'].sum(), \n",
    "                     total_examples=senReleasesW2V.corpus_count, \n",
    "                     epochs=1,\n",
    "                    )\n",
    "losses = [senReleasesW2V_loss.running_training_loss]\n",
    "losses[0]"
   ]
  },
  {
   "cell_type": "markdown",
   "metadata": {},
   "source": [
    "Now we have the training loss and can optimize to minimize it"
   ]
  },
  {
   "cell_type": "code",
   "execution_count": 62,
   "metadata": {
    "collapsed": false
   },
   "outputs": [
    {
     "name": "stdout",
     "output_type": "stream",
     "text": [
      "Done epoch 20\r"
     ]
    }
   ],
   "source": [
    "for i in range(19):\n",
    "    senReleasesW2V_loss.train(senReleasesDF['normalized_sents'].sum(), \n",
    "                     total_examples=senReleasesW2V.corpus_count, \n",
    "                     epochs=1,\n",
    "                             )\n",
    "    losses.append(senReleasesW2V_loss.running_training_loss)\n",
    "    print(\"Done epoch {}\".format(i + 2), end = '\\r')"
   ]
  },
  {
   "cell_type": "markdown",
   "metadata": {},
   "source": [
    "Lets plot the loss vs epoch"
   ]
  },
  {
   "cell_type": "code",
   "execution_count": 68,
   "metadata": {
    "collapsed": false
   },
   "outputs": [
    {
     "data": {
      "image/png": "[encoded data removed]",
      "text/plain": [
       "<matplotlib.figure.Figure at 0x11df16ba8>"
      ]
     },
     "metadata": {},
     "output_type": "display_data"
    }
   ],
   "source": [
    "lossesDF = pandas.DataFrame({'loss' : losses, 'epoch' : range(len(losses))})\n",
    "lossesDF.plot(y = 'loss', x = 'epoch', logy=False, figsize=(15, 7))\n",
    "plt.show()"
   ]
  },
  {
   "cell_type": "markdown",
   "metadata": {},
   "source": [
    "You should see that the loss is almost monotonic, but that the rate decreases as epoch increases. Since we are testing on our training data monotonicity is a common result and we must try to avoid over fitting. A simple way to do this is to stop training when there is significant change in the rate of decrease. In this run that looks to be around 8 or 9. So if we were to do another analysis we might use an `iter=9` instead of the default 5."
   ]
  },
  {
   "cell_type": "markdown",
   "metadata": {},
   "source": [
    "# Chinese examples"
   ]
  },
  {
   "cell_type": "code",
   "execution_count": 71,
   "metadata": {
    "collapsed": false
   },
   "outputs": [],
   "source": [
    "model=gensim.models.Word2Vec.load('/Users/jevans/Dropbox/1992embeddings_hs_new3.sg')"
   ]
  },
  {
   "cell_type": "markdown",
   "metadata": {},
   "source": [
    "## analogy\n",
    "\n",
    "King+man-Queen? A few examples based on a corpus of Chinese news. \n",
    "\n",
    "First, location analogy: **province -> capital**"
   ]
  },
  {
   "cell_type": "code",
   "execution_count": null,
   "metadata": {
    "collapsed": false
   },
   "outputs": [],
   "source": [
    "mm = model.most_similar(positive=[u'长沙',u'陕西'], negative=[u'湖南']) # Changsha + Shaanxi - Hunan\n",
    "for m in mm:\n",
    "    print(m[0],m[1])\n",
    "    print(\"Xi'an\")\n",
    "    break"
   ]
  },
  {
   "cell_type": "code",
   "execution_count": null,
   "metadata": {
    "collapsed": true
   },
   "outputs": [],
   "source": [
    "mm = model.most_similar(positive=[u'广州',u'湖北'], negative=[u'广东']) # Guangzhou + Hubei - Guangdong\n",
    "for m in mm:\n",
    "    print(m[0],m[1])\n",
    "    print(\"Wuhan\")\n",
    "    break"
   ]
  },
  {
   "cell_type": "markdown",
   "metadata": {},
   "source": [
    "Second, location analogy: **country -> capital**"
   ]
  },
  {
   "cell_type": "code",
   "execution_count": null,
   "metadata": {
    "collapsed": true
   },
   "outputs": [],
   "source": [
    "mm = model.most_similar(positive=[u'东京',u'美国'], negative=[u'日本']) # Tokyo + US - Japan\n",
    "for m in mm:\n",
    "    print(m[0],m[1])\n",
    "    print(\"(Washington DC)\")\n",
    "    break"
   ]
  },
  {
   "cell_type": "markdown",
   "metadata": {},
   "source": [
    "## similar words"
   ]
  },
  {
   "cell_type": "code",
   "execution_count": null,
   "metadata": {
    "collapsed": false
   },
   "outputs": [],
   "source": [
    "word = u'社会主义'  #socialism\n",
    "ss = model.similar_by_word(word,topn=10)\n",
    "print(\"the most similar words to \" + word + \" is: \")\n",
    "for s in ss:\n",
    "    print(s[0])\n",
    "print(\"\")"
   ]
  },
  {
   "cell_type": "code",
   "execution_count": null,
   "metadata": {
    "collapsed": true
   },
   "outputs": [],
   "source": [
    "word = u'玉米'  # corn\n",
    "ss = model.similar_by_word(word,topn=10)\n",
    "print(\"the most similar words to \" + word + \" is: \")\n",
    "for s in ss:\n",
    "    print(s[0])\n",
    "print(\"\")"
   ]
  },
  {
   "cell_type": "markdown",
   "metadata": {},
   "source": [
    "# Doc2Vec"
   ]
  },
  {
   "cell_type": "markdown",
   "metadata": {
    "collapsed": true
   },
   "source": [
    "Instead of just looking at just how words embed within in the space, we can look at how the different documents relate to each other within the space. First lets load our data--abstracts of most U.S. physics papers from the 1950s."
   ]
  },
  {
   "cell_type": "code",
   "execution_count": null,
   "metadata": {
    "collapsed": false
   },
   "outputs": [],
   "source": [
    "apsDF = pandas.read_csv('../data/APSabstracts1950s.csv', index_col = 0)\n",
    "apsDF[:10]"
   ]
  },
  {
   "cell_type": "markdown",
   "metadata": {},
   "source": [
    "We will load these as documents into Word2Vec, but first we need to normalize and pick some tags"
   ]
  },
  {
   "cell_type": "code",
   "execution_count": null,
   "metadata": {
    "collapsed": true
   },
   "outputs": [],
   "source": [
    "keywords = ['photomagnetoelectric', 'quantum', 'boltzmann', 'proton', 'positron', 'feynman', 'classical', 'relativity']"
   ]
  },
  {
   "cell_type": "code",
   "execution_count": null,
   "metadata": {
    "collapsed": true
   },
   "outputs": [],
   "source": [
    "apsDF['tokenized_words'] = apsDF['abstract'].apply(lambda x: nltk.word_tokenize(x))\n",
    "apsDF['normalized_words'] = apsDF['tokenized_words'].apply(lambda x: normlizeTokens(x, stopwordLst = stop_words_nltk))"
   ]
  },
  {
   "cell_type": "code",
   "execution_count": null,
   "metadata": {
    "collapsed": true
   },
   "outputs": [],
   "source": [
    "taggedDocs = []\n",
    "for index, row in apsDF.iterrows():\n",
    "    #Just doing a simple keyword assignment\n",
    "    docKeywords = [s for s in keywords if s in row['normalized_words']]\n",
    "    docKeywords.append(row['copyrightYear'])\n",
    "    docKeywords.append(row['doi']) #This lets us extract individual documnets since doi's are unique\n",
    "    taggedDocs.append(gensim.models.doc2vec.LabeledSentence(words = row['normalized_words'], tags = docKeywords))\n",
    "apsDF['TaggedAbstracts'] = taggedDocs"
   ]
  },
  {
   "cell_type": "markdown",
   "metadata": {},
   "source": [
    "Now we can train a Doc2Vec model:"
   ]
  },
  {
   "cell_type": "code",
   "execution_count": null,
   "metadata": {
    "collapsed": true
   },
   "outputs": [],
   "source": [
    "apsD2V = gensim.models.doc2vec.Doc2Vec(apsDF['TaggedAbstracts'], size = 100) #Limiting to 100 dimensions"
   ]
  },
  {
   "cell_type": "markdown",
   "metadata": {},
   "source": [
    "We can get vectors for the tags/documents, just as we did with words. Documents are actually the centroids (high dimensional average points) of their words. "
   ]
  },
  {
   "cell_type": "code",
   "execution_count": null,
   "metadata": {
    "collapsed": false,
    "scrolled": true
   },
   "outputs": [],
   "source": [
    "apsD2V.docvecs[1952]"
   ]
  },
  {
   "cell_type": "markdown",
   "metadata": {},
   "source": [
    "The words can still be accessed in the same way:"
   ]
  },
  {
   "cell_type": "code",
   "execution_count": null,
   "metadata": {
    "collapsed": false
   },
   "outputs": [],
   "source": [
    "apsD2V['atom']"
   ]
  },
  {
   "cell_type": "markdown",
   "metadata": {},
   "source": [
    "We can still use the ``most_similar`` command to perform simple semantic equations:"
   ]
  },
  {
   "cell_type": "code",
   "execution_count": null,
   "metadata": {
    "collapsed": false
   },
   "outputs": [],
   "source": [
    "apsD2V.most_similar(positive = ['atom','electrons'], negative = ['electron'], topn = 1)"
   ]
  },
  {
   "cell_type": "markdown",
   "metadata": {},
   "source": [
    "This is interesting. **Electron** is to **electrons** as **atom** is to **atoms**. Another way to understand this, developed below is: **electrons - electron** induces a singular to plural dimension, so when we subtract **electron** from **atom** and add **electrons**, we get **atoms**! "
   ]
  },
  {
   "cell_type": "code",
   "execution_count": null,
   "metadata": {
    "collapsed": false
   },
   "outputs": [],
   "source": [
    "apsD2V.most_similar(positive = ['einstein','law'], negative = ['equation'], topn = 1)"
   ]
  },
  {
   "cell_type": "markdown",
   "metadata": {},
   "source": [
    "In other words **Einstein** minus **equation** plus **law** equals **Meissner**--Walthur Meissner studied mechanical engineering and physics ... and was more likely to produce a \"law\" than a \"equation\", like the Meissner effect, the damping of the magnetic field in superconductors. If we built our word-embedding with a bigger corpus like the entire arXiv, a massive repository of physics preprints, we would see many more such relationships like **gravity - Newton + Einstein = relativity**."
   ]
  },
  {
   "cell_type": "markdown",
   "metadata": {},
   "source": [
    "We can also compute all of these *by hand*--explicitly wth vector algebra: "
   ]
  },
  {
   "cell_type": "code",
   "execution_count": null,
   "metadata": {
    "collapsed": false
   },
   "outputs": [],
   "source": [
    "sklearn.metrics.pairwise.cosine_similarity(apsD2V['electron'].reshape(1,-1), apsD2V['positron'].reshape(1,-1))\n",
    "#We reorient the vectors with .reshape(1, -1) so that they can be computed without a warning in sklearn"
   ]
  },
  {
   "cell_type": "markdown",
   "metadata": {},
   "source": [
    "In the doc2vec model, the documents have vectors just as the words do, so that we can compare documents with each other and also with words (similar to how a search engine locates a webpage with a query). First, we will calculate the distance between a word and documents in the dataset:"
   ]
  },
  {
   "cell_type": "code",
   "execution_count": null,
   "metadata": {
    "collapsed": false
   },
   "outputs": [],
   "source": [
    "apsD2V.docvecs.most_similar([ apsD2V['electron'] ], topn=5 )"
   ]
  },
  {
   "cell_type": "markdown",
   "metadata": {},
   "source": [
    "If we search for the first of these on the web (these are doi codes), we find the following...a pretty good match:"
   ]
  },
  {
   "cell_type": "code",
   "execution_count": null,
   "metadata": {
    "collapsed": false
   },
   "outputs": [],
   "source": [
    "from IPython.display import Image\n",
    "Image(\"../data/PhysRev.98.875.jpg\", width=1000, height=1000)"
   ]
  },
  {
   "cell_type": "markdown",
   "metadata": {},
   "source": [
    "Now let's go the other way around and find words most similar to this document:"
   ]
  },
  {
   "cell_type": "code",
   "execution_count": null,
   "metadata": {
    "collapsed": false
   },
   "outputs": [],
   "source": [
    "apsD2V.most_similar( [ apsD2V.docvecs['10.1103/PhysRev.98.875'] ], topn=5) "
   ]
  },
  {
   "cell_type": "markdown",
   "metadata": {},
   "source": [
    "We can even look for documents most like a query composed of multiple words:"
   ]
  },
  {
   "cell_type": "code",
   "execution_count": null,
   "metadata": {
    "collapsed": false
   },
   "outputs": [],
   "source": [
    "apsD2V.docvecs.most_similar([ apsD2V['electron']+apsD2V['positron']+apsD2V['neutron']], topn=5 )"
   ]
  },
  {
   "cell_type": "markdown",
   "metadata": {},
   "source": [
    "Now let's plot some words and documents against one another with a heatmap:"
   ]
  },
  {
   "cell_type": "code",
   "execution_count": null,
   "metadata": {
    "collapsed": true
   },
   "outputs": [],
   "source": [
    "heatmapMatrix = []\n",
    "for tagOuter in keywords:\n",
    "    column = []\n",
    "    tagVec = apsD2V.docvecs[tagOuter].reshape(1, -1)\n",
    "    for tagInner in keywords:\n",
    "        column.append(sklearn.metrics.pairwise.cosine_similarity(tagVec, apsD2V.docvecs[tagInner].reshape(1, -1))[0][0])\n",
    "    heatmapMatrix.append(column)\n",
    "heatmapMatrix = np.array(heatmapMatrix)"
   ]
  },
  {
   "cell_type": "code",
   "execution_count": null,
   "metadata": {
    "collapsed": false
   },
   "outputs": [],
   "source": [
    "fig, ax = plt.subplots()\n",
    "hmap = ax.pcolor(heatmapMatrix, cmap='terrain')\n",
    "cbar = plt.colorbar(hmap)\n",
    "\n",
    "cbar.set_label('cosine similarity', rotation=270)\n",
    "a = ax.set_xticks(np.arange(heatmapMatrix.shape[1]) + 0.5, minor=False)\n",
    "a = ax.set_yticks(np.arange(heatmapMatrix.shape[0]) + 0.5, minor=False)\n",
    "\n",
    "a = ax.set_xticklabels(keywords, minor=False, rotation=270)\n",
    "a = ax.set_yticklabels(keywords, minor=False)"
   ]
  },
  {
   "cell_type": "markdown",
   "metadata": {},
   "source": [
    "Now let's look at a heatmap of similarities between the first ten documents in the corpus:"
   ]
  },
  {
   "cell_type": "code",
   "execution_count": null,
   "metadata": {
    "collapsed": true
   },
   "outputs": [],
   "source": [
    "targetDocs = apsDF['doi'][:10]\n",
    "\n",
    "heatmapMatrixD = []\n",
    "\n",
    "for tagOuter in targetDocs:\n",
    "    column = []\n",
    "    tagVec = apsD2V.docvecs[tagOuter].reshape(1, -1)\n",
    "    for tagInner in targetDocs:\n",
    "        column.append(sklearn.metrics.pairwise.cosine_similarity(tagVec, apsD2V.docvecs[tagInner].reshape(1, -1))[0][0])\n",
    "    heatmapMatrixD.append(column)\n",
    "heatmapMatrixD = np.array(heatmapMatrixD)"
   ]
  },
  {
   "cell_type": "code",
   "execution_count": null,
   "metadata": {
    "collapsed": false
   },
   "outputs": [],
   "source": [
    "fig, ax = plt.subplots()\n",
    "hmap = ax.pcolor(heatmapMatrixD, cmap='terrain')\n",
    "cbar = plt.colorbar(hmap)\n",
    "\n",
    "cbar.set_label('cosine similarity', rotation=270)\n",
    "a = ax.set_xticks(np.arange(heatmapMatrixD.shape[1]) + 0.5, minor=False)\n",
    "a = ax.set_yticks(np.arange(heatmapMatrixD.shape[0]) + 0.5, minor=False)\n",
    "\n",
    "a = ax.set_xticklabels(targetDocs, minor=False, rotation=270)\n",
    "a = ax.set_yticklabels(targetDocs, minor=False)"
   ]
  },
  {
   "cell_type": "markdown",
   "metadata": {},
   "source": [
    "Now let's look at a heatmap of similarities between the first ten documents and our keywords:"
   ]
  },
  {
   "cell_type": "code",
   "execution_count": null,
   "metadata": {
    "collapsed": true
   },
   "outputs": [],
   "source": [
    "heatmapMatrixC = []\n",
    "\n",
    "for tagOuter in targetDocs:\n",
    "    column = []\n",
    "    tagVec = apsD2V.docvecs[tagOuter].reshape(1, -1)\n",
    "    for tagInner in keywords:\n",
    "        column.append(sklearn.metrics.pairwise.cosine_similarity(tagVec, apsD2V.docvecs[tagInner].reshape(1, -1))[0][0])\n",
    "    heatmapMatrixC.append(column)\n",
    "heatmapMatrixC = np.array(heatmapMatrixC)"
   ]
  },
  {
   "cell_type": "code",
   "execution_count": null,
   "metadata": {
    "collapsed": false
   },
   "outputs": [],
   "source": [
    "fig, ax = plt.subplots()\n",
    "hmap = ax.pcolor(heatmapMatrixC, cmap='terrain')\n",
    "cbar = plt.colorbar(hmap)\n",
    "\n",
    "cbar.set_label('cosine similarity', rotation=270)\n",
    "a = ax.set_xticks(np.arange(heatmapMatrixC.shape[1]) + 0.5, minor=False)\n",
    "a = ax.set_yticks(np.arange(heatmapMatrixC.shape[0]) + 0.5, minor=False)\n",
    "\n",
    "a = ax.set_xticklabels(keywords, minor=False, rotation=270)\n",
    "a = ax.set_yticklabels(targetDocs, minor=False)"
   ]
  },
  {
   "cell_type": "markdown",
   "metadata": {},
   "source": [
    "We will save the model in case we would like to use it again."
   ]
  },
  {
   "cell_type": "code",
   "execution_count": null,
   "metadata": {
    "collapsed": true
   },
   "outputs": [],
   "source": [
    "apsD2V.save('apsW2V')"
   ]
  },
  {
   "cell_type": "markdown",
   "metadata": {},
   "source": [
    "We can later load it:"
   ]
  },
  {
   "cell_type": "code",
   "execution_count": null,
   "metadata": {
    "collapsed": true
   },
   "outputs": [],
   "source": [
    "#apsD2V = gensim.models.word2vec.Word2Vec.load('data/apsW2V')"
   ]
  },
  {
   "cell_type": "markdown",
   "metadata": {},
   "source": [
    "# Linguistic Change"
   ]
  },
  {
   "cell_type": "markdown",
   "metadata": {},
   "source": [
    "Below is code that aligns the dimensions of multiple embeddings arrayed over time or some other dimension and allow identification of semantic chanage as the word vectors change their loadings for focal words. This code comes from the approach piloted at Stanford by William Hamilton, Daniel Jurafsky and Jure Lescovec [here](https://arxiv.org/pdf/1605.09096.pdf). "
   ]
  },
  {
   "cell_type": "code",
   "execution_count": null,
   "metadata": {
    "collapsed": true
   },
   "outputs": [],
   "source": [
    "def smart_procrustes_align_gensim(base_embed, other_embed, words=None):\n",
    "    \"\"\"Procrustes align two gensim word2vec models (to allow for comparison between same word across models).\n",
    "    Code ported from HistWords <https://github.com/williamleif/histwords> by William Hamilton <wleif@stanford.edu>.\n",
    "    (With help from William. Thank you!)\n",
    "    First, intersect the vocabularies (see `intersection_align_gensim` documentation).\n",
    "    Then do the alignment on the other_embed model.\n",
    "    Replace the other_embed model's syn0 and syn0norm numpy matrices with the aligned version.\n",
    "    Return other_embed.\n",
    "    If `words` is set, intersect the two models' vocabulary with the vocabulary in words (see `intersection_align_gensim` documentation).\n",
    "    \"\"\"\n",
    "\n",
    "    # make sure vocabulary and indices are aligned\n",
    "    in_base_embed, in_other_embed = intersection_align_gensim(base_embed, other_embed, words=words)\n",
    "\n",
    "    # get the embedding matrices\n",
    "    base_vecs = in_base_embed.syn0norm\n",
    "    other_vecs = in_other_embed.syn0norm\n",
    "\n",
    "    # just a matrix dot product with numpy\n",
    "    m = other_vecs.T.dot(base_vecs) \n",
    "    # SVD method from numpy\n",
    "    u, _, v = np.linalg.svd(m)\n",
    "    # another matrix operation\n",
    "    ortho = u.dot(v) \n",
    "    # Replace original array with modified one\n",
    "    # i.e. multiplying the embedding matrix (syn0norm)by \"ortho\"\n",
    "    other_embed.syn0norm = other_embed.syn0 = (other_embed.syn0norm).dot(ortho)\n",
    "    return other_embed\n",
    "    \n",
    "def intersection_align_gensim(m1,m2, words=None):\n",
    "    \"\"\"\n",
    "    Intersect two gensim word2vec models, m1 and m2.\n",
    "    Only the shared vocabulary between them is kept.\n",
    "    If 'words' is set (as list or set), then the vocabulary is intersected with this list as well.\n",
    "    Indices are re-organized from 0..N in order of descending frequency (=sum of counts from both m1 and m2).\n",
    "    These indices correspond to the new syn0 and syn0norm objects in both gensim models:\n",
    "        -- so that Row 0 of m1.syn0 will be for the same word as Row 0 of m2.syn0\n",
    "        -- you can find the index of any word on the .index2word list: model.index2word.index(word) => 2\n",
    "    The .vocab dictionary is also updated for each model, preserving the count but updating the index.\n",
    "    \"\"\"\n",
    "\n",
    "    # Get the vocab for each model\n",
    "    vocab_m1 = set(m1.vocab.keys())\n",
    "    vocab_m2 = set(m2.vocab.keys())\n",
    "\n",
    "    # Find the common vocabulary\n",
    "    common_vocab = vocab_m1&vocab_m2\n",
    "    if words: common_vocab&=set(words)\n",
    "\n",
    "    # If no alignment necessary because vocab is identical...\n",
    "    if not vocab_m1-common_vocab and not vocab_m2-common_vocab:\n",
    "        return (m1,m2)\n",
    "\n",
    "    # Otherwise sort by frequency (summed for both)\n",
    "    common_vocab = list(common_vocab)\n",
    "    common_vocab.sort(key=lambda w: m1.vocab[w].count + m2.vocab[w].count,reverse=True)\n",
    "\n",
    "    # Then for each model...\n",
    "    for m in [m1,m2]:\n",
    "        # Replace old syn0norm array with new one (with common vocab)\n",
    "        indices = [m.vocab[w].index for w in common_vocab]\n",
    "        old_arr = m.syn0norm\n",
    "        new_arr = np.array([old_arr[index] for index in indices])\n",
    "        m.syn0norm = m.syn0 = new_arr\n",
    "\n",
    "        # Replace old vocab dictionary with new one (with common vocab)\n",
    "        # and old index2word with new one\n",
    "        m.index2word = common_vocab\n",
    "        old_vocab = m.vocab\n",
    "        new_vocab = {}\n",
    "        for new_index,word in enumerate(common_vocab):\n",
    "            old_vocab_obj=old_vocab[word]\n",
    "            new_vocab[word] = gensim.models.word2vec.Vocab(index=new_index, count=old_vocab_obj.count)\n",
    "        m.vocab = new_vocab\n",
    "\n",
    "    return (m1,m2)"
   ]
  },
  {
   "cell_type": "markdown",
   "metadata": {},
   "source": [
    "In order to explore this, let's get some data that follows a time trend. We'll look at conference proceedings from the American Society for Clinical Oncologists."
   ]
  },
  {
   "cell_type": "code",
   "execution_count": null,
   "metadata": {
    "collapsed": false
   },
   "outputs": [],
   "source": [
    "asco = \"../data/ASCO_abstracts.csv\"\n",
    "\n",
    "ascoDF = pandas.read_table(asco, sep=',', doublequote=True, escapechar=None, quotechar='\"', quoting=0, skipinitialspace=False, lineterminator=None, header='infer', index_col=None, names=None, prefix=None, skiprows=None, skipfooter=None, skip_footer=0, na_values=None, true_values=None, false_values=None, delimiter=None, converters=None, dtype=None, usecols=None, engine=None, delim_whitespace=False, as_recarray=False, na_filter=True, compact_ints=False, use_unsigned=False, low_memory=True, buffer_lines=None, warn_bad_lines=True, error_bad_lines=True, keep_default_na=True, thousands=None, comment=None, decimal='.', parse_dates=False, keep_date_col=False, dayfirst=False, date_parser=None, memory_map=False, float_precision=None, nrows=None, iterator=False, chunksize=None, verbose=False, encoding=\"ISO-8859-1\", squeeze=False, mangle_dupe_cols=True, tupleize_cols=False, infer_datetime_format=False, skip_blank_lines=True)\n",
    "asco_year_id = {1995: \"28\", 1996:\"29\", 1997:\"30\", 1998:\"31\", 1999:\"17\",2001:\"10\",2002:\"16\",2003:\"23\",2004:\"26\",2005:\"34\",2006:\"40\",2007:\"47\",2008:\"55\",2009:\"65\",2010:\"74\",2011:\"102\"}\n",
    "asco95DF = ascoDF.loc[ascoDF['MeetingID'] == asco_year_id[1995]].copy()\n",
    "asco96DF = ascoDF.loc[ascoDF['MeetingID'] == asco_year_id[1996]].copy()\n",
    "asco97DF = ascoDF.loc[ascoDF['MeetingID'] == asco_year_id[1997]].copy()\n",
    "asco98DF = ascoDF.loc[ascoDF['MeetingID'] == asco_year_id[1998]].copy()\n",
    "asco99DF = ascoDF.loc[ascoDF['MeetingID'] == asco_year_id[1999]].copy()\n",
    "asco01DF = ascoDF.loc[ascoDF['MeetingID'] == asco_year_id[2001]].copy()\n",
    "asco02DF = ascoDF.loc[ascoDF['MeetingID'] == asco_year_id[2002]].copy()\n",
    "asco03DF = ascoDF.loc[ascoDF['MeetingID'] == asco_year_id[2003]].copy()\n",
    "asco04DF = ascoDF.loc[ascoDF['MeetingID'] == asco_year_id[2004]].copy()\n",
    "asco05DF = ascoDF.loc[ascoDF['MeetingID'] == asco_year_id[2005]].copy()\n",
    "asco06DF = ascoDF.loc[ascoDF['MeetingID'] == asco_year_id[2006]].copy()\n",
    "asco07DF = ascoDF.loc[ascoDF['MeetingID'] == asco_year_id[2007]].copy()\n",
    "asco08DF = ascoDF.loc[ascoDF['MeetingID'] == asco_year_id[2008]].copy()\n",
    "asco09DF = ascoDF.loc[ascoDF['MeetingID'] == asco_year_id[2009]].copy()\n",
    "asco10DF = ascoDF.loc[ascoDF['MeetingID'] == asco_year_id[2010]].copy()"
   ]
  },
  {
   "cell_type": "code",
   "execution_count": null,
   "metadata": {
    "collapsed": true
   },
   "outputs": [],
   "source": [
    "#Do for all others...\n",
    "asco96DF['tokenized_sents'] = asco96DF['Body'].apply(lambda x: [nltk.word_tokenize(s) for s in nltk.sent_tokenize(x)])\n",
    "asco96DF['normalized_sents'] = asco96DF['tokenized_sents'].apply(lambda x: [normlizeTokens(s, stopwordLst = stop_words_nltk, stemmer = None) for s in x])"
   ]
  },
  {
   "cell_type": "code",
   "execution_count": null,
   "metadata": {
    "collapsed": true
   },
   "outputs": [],
   "source": [
    "#Do for all others...\n",
    "#asco95W2V = gensim.models.word2vec.Word2Vec(asco95DF['normalized_sents'].sum())\n",
    "asco96W2V = gensim.models.word2vec.Word2Vec(asco96DF['normalized_sents'].sum())"
   ]
  },
  {
   "cell_type": "markdown",
   "metadata": {},
   "source": [
    "Do a matrix for one word, e.g., \"breast\" that looks for changes over the whole period\n",
    "Then look for the word that changes the most over the whole period (sum of dimension changes)"
   ]
  },
  {
   "cell_type": "markdown",
   "metadata": {},
   "source": [
    "# Projection"
   ]
  },
  {
   "cell_type": "markdown",
   "metadata": {},
   "source": [
    "We can also project word vectors to an arbitray semantic dimension. To demonstrate this possibility, let's first load a model trained with New York Times news articles. "
   ]
  },
  {
   "cell_type": "code",
   "execution_count": null,
   "metadata": {
    "collapsed": true
   },
   "outputs": [],
   "source": [
    "nytimes_model = gensim.models.KeyedVectors.load_word2vec_format('../data/nytimes_cbow.reduced.txt')"
   ]
  },
  {
   "cell_type": "markdown",
   "metadata": {},
   "source": [
    "First we can visualize with dimension reduction"
   ]
  },
  {
   "cell_type": "code",
   "execution_count": null,
   "metadata": {
    "collapsed": false
   },
   "outputs": [],
   "source": [
    "#words to create dimensions\n",
    "tnytTargetWords = ['man','him','he', 'woman', 'her', 'she', 'black','blacks','African', 'white', 'whites', 'Caucasian', 'rich', 'richer', 'richest', 'expensive', 'wealthy', 'poor', 'poorer', 'poorest', 'cheap', 'inexpensive']\n",
    "#words we will be mapping\n",
    "tnytTargetWords += [\"doctor\",\"lawyer\",\"plumber\",\"scientist\",\"hairdresser\", \"nanny\",\"carpenter\",\"entrepreneur\",\"musician\",\"writer\", \"banker\",\"poet\",\"nurse\", \"steak\", \"bacon\", \"croissant\", \"cheesecake\", \"salad\", \"cheeseburger\", \"vegetables\", \"beer\", \"wine\", \"pastry\", \"basketball\", \"baseball\", \"boxing\", \"softball\", \"volleyball\", \"tennis\", \"golf\", \"hockey\", \"soccer\"]\n",
    "\n",
    "\n",
    "wordsSubMatrix = []\n",
    "for word in tnytTargetWords:\n",
    "    wordsSubMatrix.append(nytimes_model[word])\n",
    "wordsSubMatrix = np.array(wordsSubMatrix)\n",
    "wordsSubMatrix"
   ]
  },
  {
   "cell_type": "code",
   "execution_count": null,
   "metadata": {
    "collapsed": true
   },
   "outputs": [],
   "source": [
    "pcaWordsNYT = sklearn.decomposition.PCA(n_components = 50).fit(wordsSubMatrix)\n",
    "reducedPCA_dataNYT = pcaWordsNYT.transform(wordsSubMatrix)\n",
    "#T-SNE is theoretically better, but you should experiment\n",
    "tsneWordsNYT = sklearn.manifold.TSNE(n_components = 2).fit_transform(reducedPCA_dataNYT)"
   ]
  },
  {
   "cell_type": "code",
   "execution_count": null,
   "metadata": {
    "collapsed": false
   },
   "outputs": [],
   "source": [
    "fig = plt.figure(figsize = (10,6))\n",
    "ax = fig.add_subplot(111)\n",
    "ax.set_frame_on(False)\n",
    "plt.scatter(tsneWordsNYT[:, 0], tsneWordsNYT[:, 1], alpha = 0) #Making the points invisible\n",
    "for i, word in enumerate(tnytTargetWords):\n",
    "    ax.annotate(word, (tsneWordsNYT[:, 0][i],tsneWordsNYT[:, 1][i]), size =  20 * (len(tnytTargetWords) - i) / len(tnytTargetWords))\n",
    "plt.xticks(())\n",
    "plt.yticks(())\n",
    "plt.show()"
   ]
  },
  {
   "cell_type": "markdown",
   "metadata": {},
   "source": [
    "Define some convenient functions for getting dimensions. "
   ]
  },
  {
   "cell_type": "code",
   "execution_count": null,
   "metadata": {
    "collapsed": true
   },
   "outputs": [],
   "source": [
    "def normalize(vector):\n",
    "    normalized_vector = vector / np.linalg.norm(vector)\n",
    "    return normalized_vector\n",
    "\n",
    "def dimension(model, positives, negatives):\n",
    "    diff = sum([normalize(model[x]) for x in positives]) - sum([normalize(model[y]) for y in negatives])\n",
    "    return diff"
   ]
  },
  {
   "cell_type": "markdown",
   "metadata": {},
   "source": [
    "Let's calculate three dimensions: gender, race, and class."
   ]
  },
  {
   "cell_type": "code",
   "execution_count": null,
   "metadata": {
    "collapsed": true
   },
   "outputs": [],
   "source": [
    "Gender = dimension(nytimes_model, ['man','him','he'], ['woman', 'her', 'she'])\n",
    "Race = dimension(nytimes_model, ['black','blacks','African'], ['white', 'whites', 'Caucasian'])\n",
    "Class = dimension(nytimes_model, ['rich', 'richer', 'richest', 'expensive', 'wealthy'], ['poor', 'poorer', 'poorest', 'cheap', 'inexpensive'])"
   ]
  },
  {
   "cell_type": "markdown",
   "metadata": {},
   "source": [
    "Here we have some words."
   ]
  },
  {
   "cell_type": "code",
   "execution_count": null,
   "metadata": {
    "collapsed": true
   },
   "outputs": [],
   "source": [
    "Occupations = [\"doctor\",\"lawyer\",\"plumber\",\"scientist\",\"hairdresser\", \"nanny\",\"carpenter\",\"entrepreneur\",\"musician\",\"writer\", \"banker\",\"poet\",\"nurse\"]\n",
    "\n",
    "Foods = [\"steak\", \"bacon\", \"croissant\", \"cheesecake\", \"salad\", \"cheeseburger\", \"vegetables\", \"beer\", \"wine\", \"pastry\"]\n",
    "\n",
    "Sports  = [\"basketball\", \"baseball\", \"boxing\", \"softball\", \"volleyball\", \"tennis\", \"golf\", \"hockey\", \"soccer\"]"
   ]
  },
  {
   "cell_type": "markdown",
   "metadata": {},
   "source": [
    "Define a function to project words in a word list to each of the three dimensions."
   ]
  },
  {
   "cell_type": "code",
   "execution_count": null,
   "metadata": {
    "collapsed": true
   },
   "outputs": [],
   "source": [
    "def makeDF(model, word_list):\n",
    "    g = []\n",
    "    r = []\n",
    "    c = []\n",
    "    for word in word_list:\n",
    "        g.append(sklearn.metrics.pairwise.cosine_similarity(nytimes_model[word].reshape(1,-1), Gender.reshape(1,-1))[0][0])\n",
    "        r.append(sklearn.metrics.pairwise.cosine_similarity(nytimes_model[word].reshape(1,-1), Race.reshape(1,-1))[0][0])\n",
    "        c.append(sklearn.metrics.pairwise.cosine_similarity(nytimes_model[word].reshape(1,-1), Class.reshape(1,-1))[0][0])\n",
    "    df = pandas.DataFrame({'gender': g, 'race': r, 'class': c}, index = word_list)\n",
    "    return df"
   ]
  },
  {
   "cell_type": "markdown",
   "metadata": {},
   "source": [
    "Get the projections."
   ]
  },
  {
   "cell_type": "code",
   "execution_count": null,
   "metadata": {
    "collapsed": true
   },
   "outputs": [],
   "source": [
    "OCCdf = makeDF(nytimes_model, Occupations) \n",
    "Fooddf = makeDF(nytimes_model, Foods)\n",
    "Sportsdf = makeDF(nytimes_model, Sports)"
   ]
  },
  {
   "cell_type": "markdown",
   "metadata": {},
   "source": [
    "Define some useful functions for plotting."
   ]
  },
  {
   "cell_type": "code",
   "execution_count": null,
   "metadata": {
    "collapsed": true
   },
   "outputs": [],
   "source": [
    "def Coloring(Series):\n",
    "    x = Series.values\n",
    "    y = x-x.min()\n",
    "    z = y/y.max()\n",
    "    c = list(plt.cm.rainbow(z))\n",
    "    return c\n",
    "\n",
    "def PlotDimension(ax,df, dim):\n",
    "    ax.set_frame_on(False)\n",
    "    ax.set_title(dim, fontsize = 20)\n",
    "    colors = Coloring(df[dim])\n",
    "    for i, word in enumerate(df.index):\n",
    "        ax.annotate(word, (0, df[dim][i]), color = colors[i], alpha = 0.6, fontsize = 12)\n",
    "    MaxY = df[dim].max()\n",
    "    MinY = df[dim].min()\n",
    "    plt.ylim(MinY,MaxY)\n",
    "    plt.yticks(())\n",
    "    plt.xticks(())"
   ]
  },
  {
   "cell_type": "markdown",
   "metadata": {},
   "source": [
    "Plot the occupational words in each of the three dimensions."
   ]
  },
  {
   "cell_type": "code",
   "execution_count": null,
   "metadata": {
    "collapsed": false,
    "scrolled": true
   },
   "outputs": [],
   "source": [
    "fig = plt.figure(figsize = (12,4))\n",
    "ax1 = fig.add_subplot(131)\n",
    "PlotDimension(ax1, OCCdf, 'gender')\n",
    "ax2 = fig.add_subplot(132)\n",
    "PlotDimension(ax2, OCCdf, 'race')\n",
    "ax3 = fig.add_subplot(133)\n",
    "PlotDimension(ax3, OCCdf, 'class')\n",
    "plt.show()"
   ]
  },
  {
   "cell_type": "markdown",
   "metadata": {},
   "source": [
    "Foods:"
   ]
  },
  {
   "cell_type": "code",
   "execution_count": null,
   "metadata": {
    "collapsed": false
   },
   "outputs": [],
   "source": [
    "fig = plt.figure(figsize = (12,4))\n",
    "ax1 = fig.add_subplot(131)\n",
    "PlotDimension(ax1, Fooddf, 'gender')\n",
    "ax2 = fig.add_subplot(132)\n",
    "PlotDimension(ax2, Fooddf, 'race')\n",
    "ax3 = fig.add_subplot(133)\n",
    "PlotDimension(ax3, Fooddf, 'class')\n",
    "plt.show()"
   ]
  },
  {
   "cell_type": "markdown",
   "metadata": {},
   "source": [
    "Sports:"
   ]
  },
  {
   "cell_type": "code",
   "execution_count": null,
   "metadata": {
    "collapsed": false
   },
   "outputs": [],
   "source": [
    "fig = plt.figure(figsize = (12,4))\n",
    "ax1 = fig.add_subplot(131)\n",
    "PlotDimension(ax1, Sportsdf, 'gender')\n",
    "ax2 = fig.add_subplot(132)\n",
    "PlotDimension(ax2, Sportsdf, 'race')\n",
    "ax3 = fig.add_subplot(133)\n",
    "PlotDimension(ax3, Sportsdf, 'class')\n",
    "plt.show()"
   ]
  }
 ],
 "metadata": {
  "anaconda-cloud": {},
  "kernelspec": {
   "display_name": "Python 3",
   "language": "python",
   "name": "python3"
  },
  "language_info": {
   "codemirror_mode": {
    "name": "ipython",
    "version": 3
   },
   "file_extension": ".py",
   "mimetype": "text/x-python",
   "name": "python",
   "nbconvert_exporter": "python",
   "pygments_lexer": "ipython3",
   "version": "3.6.0"
  }
 },
 "nbformat": 4,
 "nbformat_minor": 1
}
