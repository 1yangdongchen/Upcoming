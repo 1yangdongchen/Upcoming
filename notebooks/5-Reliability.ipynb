{
 "cells": [
  {
   "cell_type": "markdown",
   "metadata": {},
   "source": [
    "1. Take and visualize some content surveys (some with “ground truth” some without)\n",
    "2. Run all of the standard measures of correlation and agreement for all responses (and visualize those with many and with few responses)\n",
    "3. Use Bayesian multilevel models to get at different people’s slopes (each respondent is clustered)\n",
    "\t3. Consider downweighting people as a function of their sensitivity / lack of sensitivity\n",
    "4. Use Bayesian annotation models (e.g., from PyAnno) to identify coder accuracy\n",
    "5. Use Bayesian annotation models (e.g., from PyAnno) to produce MAP estimates\n",
    "\n",
    "# Week 5 - Reliability\n",
    "\n",
    "intro...\n",
    "\n",
    "For this notebook we will be using the following packages"
   ]
  },
  {
   "cell_type": "code",
   "execution_count": 16,
   "metadata": {
    "collapsed": false
   },
   "outputs": [],
   "source": [
    "#All these packages need to be installed from pip\n",
    "import numpy as np #For arrays\n",
    "import pandas #Gives us DataFrames\n",
    "import matplotlib.pyplot as plt #For graphics\n",
    "import seaborn as sns #Makes the graphics look nicer\n",
    "\n",
    "import pyanno #Uses pyanno3\n",
    "\n",
    "#This 'magic' command makes the plots work better\n",
    "#in the notebook, don't use it outside of a notebook.\n",
    "#Also you can ignore the warning\n",
    "%matplotlib inline\n",
    "\n",
    "import os #For looking through files\n",
    "import os.path #For managing file paths"
   ]
  },
  {
   "cell_type": "markdown",
   "metadata": {
    "collapsed": false
   },
   "source": [
    "Lets start by loading our data from the csv `data/reliabilty_data.csv`"
   ]
  },
  {
   "cell_type": "code",
   "execution_count": 2,
   "metadata": {
    "collapsed": false
   },
   "outputs": [
    {
     "data": {
      "text/html": [
       "<div>\n",
       "<table border=\"1\" class=\"dataframe\">\n",
       "  <thead>\n",
       "    <tr style=\"text-align: right;\">\n",
       "      <th></th>\n",
       "      <th>survey_num</th>\n",
       "      <th>block_num</th>\n",
       "      <th>question_num</th>\n",
       "      <th>articleId</th>\n",
       "      <th>term</th>\n",
       "      <th>termInSentence</th>\n",
       "      <th>sentenceText</th>\n",
       "      <th>sampleEnt_category</th>\n",
       "      <th>sampleEnt_global</th>\n",
       "      <th>weight</th>\n",
       "      <th>item_hash</th>\n",
       "      <th>worker_anon</th>\n",
       "      <th>rating</th>\n",
       "      <th>rejected</th>\n",
       "    </tr>\n",
       "  </thead>\n",
       "  <tbody>\n",
       "    <tr>\n",
       "      <th>0</th>\n",
       "      <td>0</td>\n",
       "      <td>1</td>\n",
       "      <td>1</td>\n",
       "      <td>2152</td>\n",
       "      <td>ball</td>\n",
       "      <td>The &lt;b class=\"featured_term\"&gt;ball&lt;/b&gt; did not ...</td>\n",
       "      <td>The ball did not scare the hole.</td>\n",
       "      <td>2.337821</td>\n",
       "      <td>2.618996</td>\n",
       "      <td>523.106061</td>\n",
       "      <td>-1068074272665598051</td>\n",
       "      <td>21</td>\n",
       "      <td>1.0</td>\n",
       "      <td>0</td>\n",
       "    </tr>\n",
       "    <tr>\n",
       "      <th>1</th>\n",
       "      <td>0</td>\n",
       "      <td>1</td>\n",
       "      <td>2</td>\n",
       "      <td>66815</td>\n",
       "      <td>time</td>\n",
       "      <td>Mone Davis was on the mound for the first &lt;b c...</td>\n",
       "      <td>Mone Davis was on the mound for the first time...</td>\n",
       "      <td>1.751061</td>\n",
       "      <td>0.931097</td>\n",
       "      <td>567.560606</td>\n",
       "      <td>260332258467324137</td>\n",
       "      <td>21</td>\n",
       "      <td>6.0</td>\n",
       "      <td>0</td>\n",
       "    </tr>\n",
       "    <tr>\n",
       "      <th>2</th>\n",
       "      <td>0</td>\n",
       "      <td>1</td>\n",
       "      <td>3</td>\n",
       "      <td>2102</td>\n",
       "      <td>clear</td>\n",
       "      <td>What is &lt;b class=\"featured_term\"&gt;clear&lt;/b&gt; is ...</td>\n",
       "      <td>What is clear is that Libya is being torn apar...</td>\n",
       "      <td>0.001139</td>\n",
       "      <td>0.342433</td>\n",
       "      <td>2494.878788</td>\n",
       "      <td>4131272845504973345</td>\n",
       "      <td>21</td>\n",
       "      <td>7.0</td>\n",
       "      <td>0</td>\n",
       "    </tr>\n",
       "    <tr>\n",
       "      <th>3</th>\n",
       "      <td>0</td>\n",
       "      <td>1</td>\n",
       "      <td>4</td>\n",
       "      <td>1032</td>\n",
       "      <td>week</td>\n",
       "      <td>He reviewed damage from the air on Saturday, a...</td>\n",
       "      <td>He reviewed damage from the air on Saturday, a...</td>\n",
       "      <td>2.041589</td>\n",
       "      <td>2.783811</td>\n",
       "      <td>523.106061</td>\n",
       "      <td>-6085910190079074856</td>\n",
       "      <td>21</td>\n",
       "      <td>7.0</td>\n",
       "      <td>0</td>\n",
       "    </tr>\n",
       "    <tr>\n",
       "      <th>4</th>\n",
       "      <td>0</td>\n",
       "      <td>1</td>\n",
       "      <td>5</td>\n",
       "      <td>14551</td>\n",
       "      <td>night</td>\n",
       "      <td>The mass on the right side of his chest was di...</td>\n",
       "      <td>The mass on the right side of his chest was di...</td>\n",
       "      <td>0.223507</td>\n",
       "      <td>1.352171</td>\n",
       "      <td>840.106061</td>\n",
       "      <td>6406557851487659544</td>\n",
       "      <td>21</td>\n",
       "      <td>7.0</td>\n",
       "      <td>0</td>\n",
       "    </tr>\n",
       "  </tbody>\n",
       "</table>\n",
       "</div>"
      ],
      "text/plain": [
       "   survey_num  block_num  question_num  articleId   term  \\\n",
       "0           0          1             1       2152   ball   \n",
       "1           0          1             2      66815   time   \n",
       "2           0          1             3       2102  clear   \n",
       "3           0          1             4       1032   week   \n",
       "4           0          1             5      14551  night   \n",
       "\n",
       "                                      termInSentence  \\\n",
       "0  The <b class=\"featured_term\">ball</b> did not ...   \n",
       "1  Mone Davis was on the mound for the first <b c...   \n",
       "2  What is <b class=\"featured_term\">clear</b> is ...   \n",
       "3  He reviewed damage from the air on Saturday, a...   \n",
       "4  The mass on the right side of his chest was di...   \n",
       "\n",
       "                                        sentenceText  sampleEnt_category  \\\n",
       "0                   The ball did not scare the hole.            2.337821   \n",
       "1  Mone Davis was on the mound for the first time...            1.751061   \n",
       "2  What is clear is that Libya is being torn apar...            0.001139   \n",
       "3  He reviewed damage from the air on Saturday, a...            2.041589   \n",
       "4  The mass on the right side of his chest was di...            0.223507   \n",
       "\n",
       "   sampleEnt_global       weight            item_hash  worker_anon  rating  \\\n",
       "0          2.618996   523.106061 -1068074272665598051           21     1.0   \n",
       "1          0.931097   567.560606   260332258467324137           21     6.0   \n",
       "2          0.342433  2494.878788  4131272845504973345           21     7.0   \n",
       "3          2.783811   523.106061 -6085910190079074856           21     7.0   \n",
       "4          1.352171   840.106061  6406557851487659544           21     7.0   \n",
       "\n",
       "   rejected  \n",
       "0         0  \n",
       "1         0  \n",
       "2         0  \n",
       "3         0  \n",
       "4         0  "
      ]
     },
     "execution_count": 2,
     "metadata": {},
     "output_type": "execute_result"
    }
   ],
   "source": [
    "dataDF = pandas.read_csv('data/reliabilty_data.csv')\n",
    "dataDF[:5]"
   ]
  },
  {
   "cell_type": "code",
   "execution_count": 5,
   "metadata": {
    "collapsed": true
   },
   "outputs": [],
   "source": [
    "#Code for this, probably jsut want to get rid of it\n",
    "import nltk.metrics.agreement\n",
    "\n",
    "def loadToAnnotation(fName):\n",
    "    arr = np.loadtxt(fname=fName, dtype=int, delimiter=\",\")\n",
    "    codes = []\n",
    "    for taskNum, row in enumerate(arr):\n",
    "        for codeNum, code in enumerate(row):\n",
    "            codes.append((\"c{}\".format(codeNum), taskNum, code))\n",
    "    return nltk.metrics.agreement.AnnotationTask(data = codes)"
   ]
  },
  {
   "cell_type": "markdown",
   "metadata": {},
   "source": [
    "Load Rzhetsky et al (2009)'s sample dataset, which can be found [here](https://github.com/enthought/uchicago-pyanno/tree/master/data)."
   ]
  },
  {
   "cell_type": "code",
   "execution_count": 6,
   "metadata": {
    "collapsed": false
   },
   "outputs": [],
   "source": [
    "from pyanno.annotations import AnnotationsContainer\n",
    "x = np.loadtxt(\"data/testdata_numerical.txt\")\n",
    "anno = AnnotationsContainer.from_array(x, missing_values=[-1])"
   ]
  },
  {
   "cell_type": "markdown",
   "metadata": {},
   "source": [
    "Interrogate the AnnotationsContainer object."
   ]
  },
  {
   "cell_type": "code",
   "execution_count": 7,
   "metadata": {
    "collapsed": false
   },
   "outputs": [
    {
     "data": {
      "text/plain": [
       "array([[ 1,  2,  3, ..., -1, -1, -1],\n",
       "       [ 0,  0,  0, ..., -1, -1, -1],\n",
       "       [ 2,  2,  1, ..., -1, -1, -1],\n",
       "       ..., \n",
       "       [ 2,  2, -1, ..., -1, -1,  1],\n",
       "       [ 2,  2, -1, ..., -1, -1,  3],\n",
       "       [ 1,  1, -1, ..., -1, -1,  0]])"
      ]
     },
     "execution_count": 7,
     "metadata": {},
     "output_type": "execute_result"
    }
   ],
   "source": [
    "anno.annotations"
   ]
  },
  {
   "cell_type": "code",
   "execution_count": 8,
   "metadata": {
    "collapsed": false
   },
   "outputs": [
    {
     "data": {
      "text/plain": [
       "[1.0, 2.0, 3.0, 4.0]"
      ]
     },
     "execution_count": 8,
     "metadata": {},
     "output_type": "execute_result"
    }
   ],
   "source": [
    "anno.labels"
   ]
  },
  {
   "cell_type": "code",
   "execution_count": 9,
   "metadata": {
    "collapsed": false
   },
   "outputs": [
    {
     "data": {
      "text/plain": [
       "[-1]"
      ]
     },
     "execution_count": 9,
     "metadata": {},
     "output_type": "execute_result"
    }
   ],
   "source": [
    "anno.missing_values"
   ]
  },
  {
   "cell_type": "markdown",
   "metadata": {},
   "source": [
    "# Annotation Statistics"
   ]
  },
  {
   "cell_type": "markdown",
   "metadata": {},
   "source": [
    "Compute Cohen's kappa statistics, which measures the extent of agreement between two annotators. Here, Cohen's kappa statistics for the first two annotators are computed."
   ]
  },
  {
   "cell_type": "code",
   "execution_count": 10,
   "metadata": {
    "collapsed": false
   },
   "outputs": [
    {
     "data": {
      "text/plain": [
       "0.43917037219392857"
      ]
     },
     "execution_count": 10,
     "metadata": {},
     "output_type": "execute_result"
    }
   ],
   "source": [
    "from pyanno.measures import cohens_kappa, pairwise_matrix\n",
    "cohens_kappa(anno.annotations[:,0], anno.annotations[:,1])"
   ]
  },
  {
   "cell_type": "markdown",
   "metadata": {},
   "source": [
    "Get the pairwise measure matrix."
   ]
  },
  {
   "cell_type": "code",
   "execution_count": 11,
   "metadata": {
    "collapsed": false
   },
   "outputs": [
    {
     "name": "stdout",
     "output_type": "stream",
     "text": [
      "[[ 1.          0.43917037  0.47677621         nan         nan         nan\n",
      "   0.45819119  0.43381462]\n",
      " [ 0.43917037  1.          0.38432922  0.41344423         nan         nan\n",
      "          nan  0.33643611]\n",
      " [ 0.47677621  0.38432922  1.          0.39583333  0.51704894         nan\n",
      "          nan         nan]\n",
      " [        nan  0.41344423  0.39583333  1.          0.34597068  0.4446844\n",
      "          nan         nan]\n",
      " [        nan         nan  0.51704894  0.34597068  1.          0.37938644\n",
      "   0.43039733         nan]\n",
      " [        nan         nan         nan  0.4446844   0.37938644  1.\n",
      "   0.38341929  0.31214748]\n",
      " [ 0.45819119         nan         nan         nan  0.43039733  0.38341929\n",
      "   1.          0.394806  ]\n",
      " [ 0.43381462  0.33643611         nan         nan         nan  0.31214748\n",
      "   0.394806    1.        ]]\n"
     ]
    }
   ],
   "source": [
    "m = pairwise_matrix(cohens_kappa, anno.annotations)\n",
    "print (m)"
   ]
  },
  {
   "cell_type": "markdown",
   "metadata": {},
   "source": [
    "A heatmap visualization:"
   ]
  },
  {
   "cell_type": "code",
   "execution_count": 15,
   "metadata": {
    "collapsed": false
   },
   "outputs": [
    {
     "data": {
      "image/png": "[encoded data removed]",
      "text/plain": [
       "<matplotlib.figure.Figure at 0x116e31320>"
      ]
     },
     "metadata": {},
     "output_type": "display_data"
    }
   ],
   "source": [
    "ax = sns.heatmap(m)\n",
    "plt.show()"
   ]
  },
  {
   "cell_type": "markdown",
   "metadata": {},
   "source": [
    "# Models"
   ]
  },
  {
   "cell_type": "markdown",
   "metadata": {},
   "source": [
    "Now we use Rzhetsky et al (2009)'s models to make inference about true label classes. Pyanno provides four available models: ModelA, ModelB, ModelBt, and ModelBtLoopDesign. They should give similar results. To estimate the parameters for any models, we first need to create a new model. "
   ]
  },
  {
   "cell_type": "code",
   "execution_count": 13,
   "metadata": {
    "collapsed": false
   },
   "outputs": [
    {
     "name": "stdout",
     "output_type": "stream",
     "text": [
      "[ 0.67656777  0.64359294  0.80628952  0.78992598  0.65420135  0.8527734\n",
      "  0.77422835  0.61537893]\n",
      "-3916.77463633\n"
     ]
    }
   ],
   "source": [
    "from pyanno.models import ModelA\n",
    "# create a new instance of model A, with 4 label classes\n",
    "model = ModelA.create_initial_state(4)\n",
    "# other model parameters are initialized from the model prior\n",
    "print(model.theta)\n",
    "print(model.log_likelihood(anno.annotations))"
   ]
  },
  {
   "cell_type": "markdown",
   "metadata": {},
   "source": [
    "Pyanno allows one to use either MLE (maximum likelihood estimation) or MAP (maximum a posteriori estimation) to estimate model parameters. The estimates should not differ a lot. Note that the parameters here are the accuracy of each annotator."
   ]
  },
  {
   "cell_type": "code",
   "execution_count": 17,
   "metadata": {
    "collapsed": false
   },
   "outputs": [
    {
     "name": "stdout",
     "output_type": "stream",
     "text": [
      "[ 0.79537198  0.7333457   0.76943907  0.71016615  0.72286427  0.71940173\n",
      "  0.75779457  0.71251885]\n",
      "-2817.51941234\n"
     ]
    }
   ],
   "source": [
    "model.map(anno.annotations)\n",
    "print(model.theta)\n",
    "print(model.log_likelihood(anno.annotations))"
   ]
  },
  {
   "cell_type": "code",
   "execution_count": 19,
   "metadata": {
    "collapsed": false
   },
   "outputs": [
    {
     "name": "stdout",
     "output_type": "stream",
     "text": [
      "[ 0.79461331  0.73218931  0.76849069  0.70897619  0.72177671  0.71811446\n",
      "  0.75680804  0.71114671]\n",
      "-2817.51365112\n"
     ]
    }
   ],
   "source": [
    "model = ModelA.create_initial_state(4)\n",
    "model.mle(anno.annotations)\n",
    "print(model.theta)\n",
    "print(model.log_likelihood(anno.annotations))"
   ]
  },
  {
   "cell_type": "markdown",
   "metadata": {},
   "source": [
    "After we have model parameters estimated, we can make inference about the true label classes. We can calculate the posterior distribution over the true label classes."
   ]
  },
  {
   "cell_type": "code",
   "execution_count": 20,
   "metadata": {
    "collapsed": false
   },
   "outputs": [
    {
     "name": "stdout",
     "output_type": "stream",
     "text": [
      "[[ 0.02767565  0.37912394  0.26791259  0.32528782]\n",
      " [ 0.99572448  0.00142517  0.00142517  0.00142517]\n",
      " [ 0.00930733  0.10333509  0.87805024  0.00930733]\n",
      " ..., \n",
      " [ 0.0095626   0.07874271  0.90213209  0.0095626 ]\n",
      " [ 0.0095626   0.0095626   0.90213209  0.07874271]\n",
      " [ 0.07874271  0.90213209  0.0095626   0.0095626 ]]\n"
     ]
    }
   ],
   "source": [
    "posterior = model.infer_labels(anno.annotations)\n",
    "print(posterior)"
   ]
  },
  {
   "cell_type": "markdown",
   "metadata": {},
   "source": [
    "sample_posterior_over_accuracy() allows drawing samples from the posterior of the accuracy parameters. We can use such samples to draw credible intervals."
   ]
  },
  {
   "cell_type": "code",
   "execution_count": 21,
   "metadata": {
    "collapsed": false
   },
   "outputs": [
    {
     "name": "stdout",
     "output_type": "stream",
     "text": [
      "[ 0.79283761  0.7326012   0.78092213  0.70103041  0.72095367  0.71969414\n",
      "  0.75914744  0.70489113]\n",
      "[ 0.028033    0.02756623  0.02821893  0.03530565  0.03114093  0.02976061\n",
      "  0.0334906   0.03327899]\n"
     ]
    }
   ],
   "source": [
    "samples = model.sample_posterior_over_accuracy(anno.annotations, 200, burn_in_samples=100, thin_samples=3)\n",
    "print(samples.mean(axis=0))\n",
    "print(samples.std(axis=0))"
   ]
  },
  {
   "cell_type": "markdown",
   "metadata": {},
   "source": [
    "Let's try everything again with ModelBt"
   ]
  },
  {
   "cell_type": "code",
   "execution_count": 22,
   "metadata": {
    "collapsed": false
   },
   "outputs": [
    {
     "name": "stdout",
     "output_type": "stream",
     "text": [
      "[ 0.86028378  0.70878892  0.73763084  0.64519056  0.93148672  0.90330634\n",
      "  0.91606124  0.92971742]\n",
      "-3058.18194501\n"
     ]
    }
   ],
   "source": [
    "from pyanno.models import ModelBt\n",
    "# create a new instance of model B, with 4 label classes and 8 annotators.\n",
    "model = ModelBt.create_initial_state(4, 8)\n",
    "print(model.theta)\n",
    "print(model.log_likelihood(anno.annotations))"
   ]
  },
  {
   "cell_type": "code",
   "execution_count": 23,
   "metadata": {
    "collapsed": false
   },
   "outputs": [
    {
     "name": "stdout",
     "output_type": "stream",
     "text": [
      "[ 0.79135144  0.74074084  0.76229281  0.72523642  0.71642462  0.71859284\n",
      "  0.7731781   0.71665037]\n",
      "-2811.94633178\n"
     ]
    }
   ],
   "source": [
    "model.map(anno.annotations)\n",
    "print(model.theta)\n",
    "print(model.log_likelihood(anno.annotations))"
   ]
  },
  {
   "cell_type": "code",
   "execution_count": 24,
   "metadata": {
    "collapsed": false
   },
   "outputs": [
    {
     "name": "stdout",
     "output_type": "stream",
     "text": [
      "[[ 0.01110547  0.28937453  0.36489943  0.33462056]\n",
      " [ 0.99023206  0.00241688  0.00404567  0.00330539]\n",
      " [ 0.00249984  0.0550758   0.93459499  0.00782937]\n",
      " ..., \n",
      " [ 0.00252928  0.04394911  0.94560006  0.00792156]\n",
      " [ 0.00249429  0.00571208  0.93251923  0.0592744 ]\n",
      " [ 0.03189442  0.93882693  0.01611356  0.01316508]]\n"
     ]
    }
   ],
   "source": [
    "posterior = model.infer_labels(anno.annotations)\n",
    "print(posterior)"
   ]
  },
  {
   "cell_type": "markdown",
   "metadata": {},
   "source": [
    "# Generating Annotations"
   ]
  },
  {
   "cell_type": "markdown",
   "metadata": {},
   "source": [
    "Pyanno also allows one to generate artificial data from a model."
   ]
  },
  {
   "cell_type": "code",
   "execution_count": 25,
   "metadata": {
    "collapsed": false
   },
   "outputs": [
    {
     "data": {
      "text/plain": [
       "array([[2, 2, 2],\n",
       "       [0, 0, 2],\n",
       "       [3, 3, 3],\n",
       "       [1, 3, 3],\n",
       "       [3, 3, 2],\n",
       "       [0, 0, 1],\n",
       "       [2, 2, 0],\n",
       "       [3, 1, 3],\n",
       "       [2, 2, 2],\n",
       "       [0, 0, 0],\n",
       "       [2, 0, 3],\n",
       "       [1, 1, 0],\n",
       "       [3, 3, 2],\n",
       "       [0, 0, 2],\n",
       "       [2, 2, 0],\n",
       "       [3, 0, 2],\n",
       "       [0, 1, 3],\n",
       "       [2, 2, 0],\n",
       "       [1, 1, 0],\n",
       "       [3, 3, 0]])"
      ]
     },
     "execution_count": 25,
     "metadata": {},
     "output_type": "execute_result"
    }
   ],
   "source": [
    "model = ModelBt.create_initial_state(4, 3, theta=[0.99,0.75,0.25])\n",
    "#randome generate annotations with 4 label classes and 3 annotators. The accuracy of the three annotators are 0.99, 0.75, and 0.25 respectively.\n",
    "model.generate_annotations(20)"
   ]
  },
  {
   "cell_type": "markdown",
   "metadata": {},
   "source": [
    "# Visualization"
   ]
  },
  {
   "cell_type": "markdown",
   "metadata": {},
   "source": [
    "Pyanno provides a [graphical user interface](http://docs.enthought.com/uchicago-pyanno/user_guide.html) for making plots. However, it is not compatible with ipyton notebook. Nevertheless, nothing prevents us from making plots using matplotlib. Let's make a plot of the accuracy of each annotator inferred from ModelA."
   ]
  },
  {
   "cell_type": "code",
   "execution_count": 26,
   "metadata": {
    "collapsed": true
   },
   "outputs": [],
   "source": [
    "model = ModelA.create_initial_state(4)\n",
    "model.mle(anno.annotations)\n",
    "samples = model.sample_posterior_over_accuracy(anno.annotations, 200, burn_in_samples=100, thin_samples=3)\n",
    "y =  samples.mean(axis=0)\n",
    "y_ci = samples.std(axis=0)"
   ]
  },
  {
   "cell_type": "code",
   "execution_count": 27,
   "metadata": {
    "collapsed": false
   },
   "outputs": [
    {
     "data": {
      "image/png": "[encoded data removed]",
      "text/plain": [
       "<matplotlib.figure.Figure at 0x116eb9358>"
      ]
     },
     "metadata": {},
     "output_type": "display_data"
    }
   ],
   "source": [
    "plt.figure()\n",
    "plt.errorbar(range(8),y, yerr = y_ci)\n",
    "plt.show()"
   ]
  },
  {
   "cell_type": "code",
   "execution_count": null,
   "metadata": {
    "collapsed": true
   },
   "outputs": [],
   "source": []
  }
 ],
 "metadata": {
  "anaconda-cloud": {},
  "kernelspec": {
   "display_name": "Python 3",
   "language": "python",
   "name": "python3"
  },
  "language_info": {
   "codemirror_mode": {
    "name": "ipython",
    "version": 3
   },
   "file_extension": ".py",
   "mimetype": "text/x-python",
   "name": "python",
   "nbconvert_exporter": "python",
   "pygments_lexer": "ipython3",
   "version": "3.5.1"
  }
 },
 "nbformat": 4,
 "nbformat_minor": 1
}
