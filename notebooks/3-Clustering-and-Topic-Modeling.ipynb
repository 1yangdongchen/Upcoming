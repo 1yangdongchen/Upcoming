{
 "cells": [
  {
   "cell_type": "markdown",
   "metadata": {},
   "source": [
    "# Layout\n",
    "\n",
    "Notebook plan (next week):\n",
    "Clustering documents\n",
    "hierarchical clustering\n",
    "k-means clustering\n",
    "visualization of methods of cluster identification\n",
    "topic modeling with many/few topics (adjust alpha, beta)\n",
    "topic model visualization\n",
    "topic model interpretation/statistics\n",
    "matrix of topic similarity corpora\n",
    "topic model extension - correlated, dynamic, author\n",
    "\n",
    "+ Opening\n",
    "+ packages\n",
    "    + scikit-learn\n",
    "    + gensim\n",
    "+ Introduce ML\n",
    "+ Training\n",
    "    + Use sklearn dataset examples\n",
    "+ Extraction\n",
    "    + Probabilistic models\n",
    "    + Deterministic models\n",
    "    + stop lists\n",
    "    + cleaning\n",
    "    + Performance\n",
    "    + [sklearn](http://scikit-learn.org/stable/modules/classes.html#module-sklearn.cluster)\n",
    "        + [Tfidf](http://scikit-learn.org/stable/modules/generated/sklearn.feature_extraction.text.TfidfVectorizer.html)\n",
    "        + [KMeans](http://scikit-learn.org/stable/modules/generated/sklearn.cluster.KMeans.html)\n",
    "        + Hierarchical\n",
    "    + [gensim](http://radimrehurek.com/gensim/apiref.html)\n",
    "        + [LDA](https://radimrehurek.com/gensim/models/ldamodel.html)\n",
    "            + Expansions on LDA\n",
    "        + [word2vec](https://radimrehurek.com/gensim/models/word2vec.html)\n",
    "        + Doc2Vec\n",
    "    + Implement our own models\n",
    "        + regressions\n",
    "\n",
    "# Week 3 - Clustering\n",
    "\n",
    "Intro stuff ...\n",
    "\n",
    "For this notebook we will be using the following packages"
   ]
  },
  {
   "cell_type": "code",
   "execution_count": 1,
   "metadata": {},
   "outputs": [],
   "source": [
    "#All these packages need to be installed from pip\n",
    "#These are all for the cluster detection\n",
    "import sklearn\n",
    "import sklearn.feature_extraction.text\n",
    "import sklearn.pipeline\n",
    "import sklearn.preprocessing\n",
    "import sklearn.datasets\n",
    "import sklearn.cluster\n",
    "import sklearn.decomposition\n",
    "\n",
    "\n",
    "import scipy #For hierarchical clustering and some visuals\n",
    "#import scipy.cluster.hierarchy\n",
    "import gensim#For topic modeling\n",
    "import nltk #the Natural Language Toolkit\n",
    "import requests #For downloading our datasets\n",
    "import numpy as np #for arrays\n",
    "import pandas #gives us DataFrames\n",
    "import matplotlib.pyplot as plt #For graphics\n",
    "import seaborn as sns #Makes the graphics look nicer\n",
    "\n",
    "#This 'magic' command makes the plots work better\n",
    "#in the notebook, don't use it outside of a notebook.\n",
    "#Also you can ignore the warning, it\n",
    "%matplotlib inline\n",
    "\n",
    "import json"
   ]
  },
  {
   "cell_type": "markdown",
   "metadata": {},
   "source": [
    "# Intro\n",
    "\n",
    "intro stuff ...\n",
    "\n",
    "# Getting our corpuses\n",
    "\n",
    "To start with we can get a dataset to work on from sklearn"
   ]
  },
  {
   "cell_type": "code",
   "execution_count": 2,
   "metadata": {},
   "outputs": [
    {
     "name": "stdout",
     "output_type": "stream",
     "text": [
      "['DESCR', 'data', 'description', 'filenames', 'target', 'target_names']\n"
     ]
    }
   ],
   "source": [
    "newsgroups = sklearn.datasets.fetch_20newsgroups(subset='train') #, data_home = '~/shared/sklearnData'\n",
    "print(dir(newsgroups))"
   ]
  },
  {
   "cell_type": "markdown",
   "metadata": {},
   "source": [
    "We can get the categories with `target_names` or the actual files with `filenames`"
   ]
  },
  {
   "cell_type": "code",
   "execution_count": 3,
   "metadata": {},
   "outputs": [
    {
     "name": "stdout",
     "output_type": "stream",
     "text": [
      "['alt.atheism', 'comp.graphics', 'comp.os.ms-windows.misc', 'comp.sys.ibm.pc.hardware', 'comp.sys.mac.hardware', 'comp.windows.x', 'misc.forsale', 'rec.autos', 'rec.motorcycles', 'rec.sport.baseball', 'rec.sport.hockey', 'sci.crypt', 'sci.electronics', 'sci.med', 'sci.space', 'soc.religion.christian', 'talk.politics.guns', 'talk.politics.mideast', 'talk.politics.misc', 'talk.religion.misc']\n",
      "11314\n"
     ]
    }
   ],
   "source": [
    "print(newsgroups.target_names)\n",
    "print(len(newsgroups.data))"
   ]
  },
  {
   "cell_type": "markdown",
   "metadata": {},
   "source": [
    "We will start by converting the provided data into pandas DataFrames\n",
    "\n",
    "lets reduce our dataset for this analysis, drop some of the extraneous information and convert it into a DataFrame"
   ]
  },
  {
   "cell_type": "code",
   "execution_count": 4,
   "metadata": {},
   "outputs": [
    {
     "name": "stdout",
     "output_type": "stream",
     "text": [
      "Fetching data for: comp.sys.mac.hardware\n",
      "Fetching data for: comp.windows.x\n",
      "Fetching data for: misc.forsale\n",
      "Fetching data for: rec.autos\n",
      "2350\n"
     ]
    },
    {
     "data": {
      "text/html": [
       "<div>\n",
       "<table border=\"1\" class=\"dataframe\">\n",
       "  <thead>\n",
       "    <tr style=\"text-align: right;\">\n",
       "      <th></th>\n",
       "      <th>category</th>\n",
       "      <th>source_file</th>\n",
       "      <th>text</th>\n",
       "    </tr>\n",
       "  </thead>\n",
       "  <tbody>\n",
       "    <tr>\n",
       "      <th>0</th>\n",
       "      <td>comp.sys.mac.hardware</td>\n",
       "      <td>/Users/Reid/scikit_learn_data/20news_home/20ne...</td>\n",
       "      <td>\\tIn certain Apple 13\" RGB monitors there has ...</td>\n",
       "    </tr>\n",
       "    <tr>\n",
       "      <th>1</th>\n",
       "      <td>comp.sys.mac.hardware</td>\n",
       "      <td>/Users/Reid/scikit_learn_data/20news_home/20ne...</td>\n",
       "      <td>Does anyone know how to reach Micron?  I am in...</td>\n",
       "    </tr>\n",
       "    <tr>\n",
       "      <th>2</th>\n",
       "      <td>comp.sys.mac.hardware</td>\n",
       "      <td>/Users/Reid/scikit_learn_data/20news_home/20ne...</td>\n",
       "      <td>Hi there!\\n\\nCould some kind soul tell me what...</td>\n",
       "    </tr>\n",
       "    <tr>\n",
       "      <th>3</th>\n",
       "      <td>comp.sys.mac.hardware</td>\n",
       "      <td>/Users/Reid/scikit_learn_data/20news_home/20ne...</td>\n",
       "      <td>\"auto\\nfrom</td>\n",
       "    </tr>\n",
       "    <tr>\n",
       "      <th>4</th>\n",
       "      <td>comp.sys.mac.hardware</td>\n",
       "      <td>/Users/Reid/scikit_learn_data/20news_home/20ne...</td>\n",
       "      <td>\\n\\n    Don't believe the hype. There is no su...</td>\n",
       "    </tr>\n",
       "    <tr>\n",
       "      <th>5</th>\n",
       "      <td>comp.sys.mac.hardware</td>\n",
       "      <td>/Users/Reid/scikit_learn_data/20news_home/20ne...</td>\n",
       "      <td>What is the value of an SE (HDFD) 4/20?\\n\\n-David</td>\n",
       "    </tr>\n",
       "    <tr>\n",
       "      <th>6</th>\n",
       "      <td>comp.sys.mac.hardware</td>\n",
       "      <td>/Users/Reid/scikit_learn_data/20news_home/20ne...</td>\n",
       "      <td>\\n\\nF A Q !\\n\\nReference:\\nNewsgroups: comp.sy...</td>\n",
       "    </tr>\n",
       "    <tr>\n",
       "      <th>7</th>\n",
       "      <td>comp.sys.mac.hardware</td>\n",
       "      <td>/Users/Reid/scikit_learn_data/20news_home/20ne...</td>\n",
       "      <td>\\n\\n\\n    Nope. The Apple 16\" monitor does not...</td>\n",
       "    </tr>\n",
       "    <tr>\n",
       "      <th>8</th>\n",
       "      <td>comp.sys.mac.hardware</td>\n",
       "      <td>/Users/Reid/scikit_learn_data/20news_home/20ne...</td>\n",
       "      <td>\\n\\nIs it a hidden option?  I'm using PowerStr...</td>\n",
       "    </tr>\n",
       "    <tr>\n",
       "      <th>9</th>\n",
       "      <td>comp.sys.mac.hardware</td>\n",
       "      <td>/Users/Reid/scikit_learn_data/20news_home/20ne...</td>\n",
       "      <td>\\n\\n\\nThe previous article referred to the fac...</td>\n",
       "    </tr>\n",
       "  </tbody>\n",
       "</table>\n",
       "</div>"
      ],
      "text/plain": [
       "                category                                        source_file  \\\n",
       "0  comp.sys.mac.hardware  /Users/Reid/scikit_learn_data/20news_home/20ne...   \n",
       "1  comp.sys.mac.hardware  /Users/Reid/scikit_learn_data/20news_home/20ne...   \n",
       "2  comp.sys.mac.hardware  /Users/Reid/scikit_learn_data/20news_home/20ne...   \n",
       "3  comp.sys.mac.hardware  /Users/Reid/scikit_learn_data/20news_home/20ne...   \n",
       "4  comp.sys.mac.hardware  /Users/Reid/scikit_learn_data/20news_home/20ne...   \n",
       "5  comp.sys.mac.hardware  /Users/Reid/scikit_learn_data/20news_home/20ne...   \n",
       "6  comp.sys.mac.hardware  /Users/Reid/scikit_learn_data/20news_home/20ne...   \n",
       "7  comp.sys.mac.hardware  /Users/Reid/scikit_learn_data/20news_home/20ne...   \n",
       "8  comp.sys.mac.hardware  /Users/Reid/scikit_learn_data/20news_home/20ne...   \n",
       "9  comp.sys.mac.hardware  /Users/Reid/scikit_learn_data/20news_home/20ne...   \n",
       "\n",
       "                                                text  \n",
       "0  \\tIn certain Apple 13\" RGB monitors there has ...  \n",
       "1  Does anyone know how to reach Micron?  I am in...  \n",
       "2  Hi there!\\n\\nCould some kind soul tell me what...  \n",
       "3                                        \"auto\\nfrom  \n",
       "4  \\n\\n    Don't believe the hype. There is no su...  \n",
       "5  What is the value of an SE (HDFD) 4/20?\\n\\n-David  \n",
       "6  \\n\\nF A Q !\\n\\nReference:\\nNewsgroups: comp.sy...  \n",
       "7  \\n\\n\\n    Nope. The Apple 16\" monitor does not...  \n",
       "8  \\n\\nIs it a hidden option?  I'm using PowerStr...  \n",
       "9  \\n\\n\\nThe previous article referred to the fac...  "
      ]
     },
     "execution_count": 4,
     "metadata": {},
     "output_type": "execute_result"
    }
   ],
   "source": [
    "newsgroupsCategories = ['comp.sys.mac.hardware', 'comp.windows.x', 'misc.forsale', 'rec.autos']\n",
    "\n",
    "newsgroupsDF = pandas.DataFrame(columns = ['text', 'category', 'source_file'])\n",
    "\n",
    "for category in newsgroupsCategories:\n",
    "    print(\"Fetching data for: {}\".format(category))\n",
    "    ng = sklearn.datasets.fetch_20newsgroups(subset='train', categories = [category], remove=['headers', 'footers', 'quotes'])#, data_home = '~/shared/sklearnData'\n",
    "    newsgroupsDF = newsgroupsDF.append(pandas.DataFrame({'text' : ng.data, 'category' : [category] * len(ng.data), 'source_file' : ng.filenames}), ignore_index=True)\n",
    "\n",
    "#Creating an explicit index column for later\n",
    "\n",
    "#newsgroupsDF['index'] = range(len(newsgroupsDF))\n",
    "#newsgroupsDF.set_index('index', inplace = True)\n",
    "print(len(newsgroupsDF))\n",
    "newsgroupsDF[:10]"
   ]
  },
  {
   "cell_type": "markdown",
   "metadata": {},
   "source": [
    "We can start by converting the documents into count vectors"
   ]
  },
  {
   "cell_type": "code",
   "execution_count": 5,
   "metadata": {},
   "outputs": [
    {
     "name": "stdout",
     "output_type": "stream",
     "text": [
      "(2350, 23525)\n"
     ]
    }
   ],
   "source": [
    "#First it needs to be initialized\n",
    "ngCountVectorizer = sklearn.feature_extraction.text.CountVectorizer()\n",
    "#Then trained\n",
    "newsgroupsVects = ngCountVectorizer.fit_transform(newsgroupsDF['text'])\n",
    "print(newsgroupsVects.shape)"
   ]
  },
  {
   "cell_type": "markdown",
   "metadata": {},
   "source": [
    "This gives us a matrix with each row a document and each column a word, the matrix is mostly zeros, so it is stored as a sparse matrix"
   ]
  },
  {
   "cell_type": "code",
   "execution_count": 6,
   "metadata": {},
   "outputs": [
    {
     "data": {
      "text/plain": [
       "<2350x23525 sparse matrix of type '<class 'numpy.int64'>'\n",
       "\twith 177750 stored elements in Compressed Sparse Row format>"
      ]
     },
     "execution_count": 6,
     "metadata": {},
     "output_type": "execute_result"
    }
   ],
   "source": [
    "newsgroupsVects"
   ]
  },
  {
   "cell_type": "markdown",
   "metadata": {},
   "source": [
    "But we can use the normal operations on it or even, convert it to normal matrix"
   ]
  },
  {
   "cell_type": "code",
   "execution_count": 7,
   "metadata": {},
   "outputs": [
    {
     "data": {
      "text/plain": [
       "matrix([[0, 0, 0, 0, 0, 0, 0, 0, 0, 0, 0, 0, 0, 0, 0, 0, 0, 0, 0, 0],\n",
       "        [0, 0, 0, 0, 0, 0, 0, 0, 0, 0, 0, 0, 0, 0, 0, 0, 0, 0, 0, 0],\n",
       "        [0, 0, 0, 0, 0, 0, 0, 0, 0, 0, 0, 0, 0, 0, 0, 0, 0, 0, 0, 0],\n",
       "        [0, 0, 0, 0, 0, 0, 0, 0, 0, 0, 0, 0, 0, 0, 0, 0, 0, 0, 0, 0],\n",
       "        [0, 0, 0, 0, 0, 0, 0, 0, 0, 0, 0, 0, 0, 0, 0, 0, 0, 0, 0, 0],\n",
       "        [0, 0, 0, 0, 0, 0, 0, 0, 0, 0, 0, 0, 0, 0, 0, 0, 0, 0, 0, 0],\n",
       "        [0, 0, 0, 0, 0, 0, 0, 0, 0, 0, 0, 0, 0, 0, 0, 0, 0, 0, 0, 0],\n",
       "        [0, 0, 0, 0, 0, 0, 0, 0, 0, 0, 0, 0, 0, 0, 0, 0, 0, 0, 0, 0],\n",
       "        [0, 0, 0, 0, 0, 0, 0, 0, 0, 0, 0, 0, 0, 0, 0, 0, 0, 0, 0, 0],\n",
       "        [0, 0, 0, 0, 0, 0, 0, 0, 0, 0, 0, 0, 0, 0, 0, 0, 0, 0, 0, 0]])"
      ]
     },
     "execution_count": 7,
     "metadata": {},
     "output_type": "execute_result"
    }
   ],
   "source": [
    "newsgroupsVects[:10,:20].todense()"
   ]
  },
  {
   "cell_type": "markdown",
   "metadata": {},
   "source": [
    "We can also lookup the indices of different words using the Vectorizer"
   ]
  },
  {
   "cell_type": "code",
   "execution_count": 8,
   "metadata": {},
   "outputs": [
    {
     "data": {
      "text/plain": [
       "21647"
      ]
     },
     "execution_count": 8,
     "metadata": {},
     "output_type": "execute_result"
    }
   ],
   "source": [
    "ngCountVectorizer.vocabulary_.get('vector')"
   ]
  },
  {
   "cell_type": "markdown",
   "metadata": {},
   "source": [
    "But there are some more interesting things to do\n",
    "\n",
    "Lets started with [term frequency–inverse document frequency](http://scikit-learn.org/stable/modules/generated/sklearn.feature_extraction.text.TfidfTransformer.html)(tf-idf)"
   ]
  },
  {
   "cell_type": "code",
   "execution_count": 9,
   "metadata": {},
   "outputs": [
    {
     "name": "stdout",
     "output_type": "stream",
     "text": [
      "(2350, 23525)\n"
     ]
    }
   ],
   "source": [
    "#initialize\n",
    "newsgroupsTFTransformer = sklearn.feature_extraction.text.TfidfTransformer().fit(newsgroupsVects)\n",
    "#train\n",
    "newsgroupsTF = newsgroupsTFTransformer.transform(newsgroupsVects)\n",
    "print(newsgroupsTF.shape)"
   ]
  },
  {
   "cell_type": "markdown",
   "metadata": {},
   "source": [
    "This gives us the tf-idf for each word in each text"
   ]
  },
  {
   "cell_type": "code",
   "execution_count": 10,
   "metadata": {},
   "outputs": [
    {
     "data": {
      "text/plain": [
       "[('776', 0.046688020755456),\n",
       " ('heavily', 0.1589865268627092),\n",
       " ('glass', 0.22685454684169398),\n",
       " ('macse', 0.14113625048015269),\n",
       " ('subtract', 0.1817286448065436),\n",
       " ('affiliate', 0.16194122924300089),\n",
       " ('sco', 0.074956903065618502),\n",
       " ('lenth', 0.074842993100868407),\n",
       " ('xplot', 0.095991006908172),\n",
       " ('rented', 0.18819404816424326),\n",
       " ('40m', 0.054640923210934937),\n",
       " ('quiets', 0.1109950967372947),\n",
       " ('injector', 0.12601141569529475),\n",
       " ('merkur', 0.19706119834212132),\n",
       " ('waxworks', 0.24220644191410201),\n",
       " ('fail', 0.16299450361806797),\n",
       " ('they', 0.15540750198460515),\n",
       " ('xtdm', 0.057498781219299681),\n",
       " ('view', 0.04330392033255178),\n",
       " ('t30', 0.04793741654764163)]"
      ]
     },
     "execution_count": 10,
     "metadata": {},
     "output_type": "execute_result"
    }
   ],
   "source": [
    "list(zip(ngCountVectorizer.vocabulary_.keys(), newsgroupsTF.data))[:20]"
   ]
  },
  {
   "cell_type": "markdown",
   "metadata": {},
   "source": [
    "Lots of garbage from unique words and stopwords, but it is a start. We should normally filter out stop words, stem and lem our data before vectorizering, or we can instead tf-idf to filter our data, for exact explanation of all the options look [here](http://scikit-learn.org/stable/modules/generated/sklearn.feature_extraction.text.TfidfVectorizer.html), generally, we've limited it to at most 1000 words, as well as limited it to words with at least 3 occurrences, and that aren't in more than half the documents."
   ]
  },
  {
   "cell_type": "code",
   "execution_count": 11,
   "metadata": {},
   "outputs": [],
   "source": [
    "#initialize\n",
    "ngTFVectorizer = sklearn.feature_extraction.text.TfidfVectorizer(max_df=0.5, max_features=1000, min_df=3, stop_words='english', norm='l2')\n",
    "#train\n",
    "newsgroupsTFVects = ngTFVectorizer.fit_transform(newsgroupsDF['text'])"
   ]
  },
  {
   "cell_type": "markdown",
   "metadata": {},
   "source": [
    "Lets look at the matrix"
   ]
  },
  {
   "cell_type": "code",
   "execution_count": 12,
   "metadata": {},
   "outputs": [
    {
     "data": {
      "text/plain": [
       "<2350x1000 sparse matrix of type '<class 'numpy.float64'>'\n",
       "\twith 55644 stored elements in Compressed Sparse Row format>"
      ]
     },
     "execution_count": 12,
     "metadata": {},
     "output_type": "execute_result"
    }
   ],
   "source": [
    "newsgroupsTFVects"
   ]
  },
  {
   "cell_type": "markdown",
   "metadata": {},
   "source": [
    "Its much smaller now, only 5000 words, but the same number of documents\n",
    "\n",
    "We can still look at the words"
   ]
  },
  {
   "cell_type": "code",
   "execution_count": 13,
   "metadata": {},
   "outputs": [
    {
     "name": "stdout",
     "output_type": "stream",
     "text": [
      "vector is missing\n",
      "The available words are: ['motif', 'sample', 'package', 'dr', '415', 'state', 'pointer', 'worked', 'technology', 'fact'] ...\n"
     ]
    }
   ],
   "source": [
    "try:\n",
    "    print(ngTFVectorizer.vocabulary_['vector'])\n",
    "except KeyError:\n",
    "    print('vector is missing')\n",
    "    print('The available words are: {} ...'.format(list(ngTFVectorizer.vocabulary_.keys())[:10]))"
   ]
  },
  {
   "cell_type": "markdown",
   "metadata": {},
   "source": [
    "This is a good matrix to start finding clusters with though\n",
    "\n",
    "# K-means\n",
    "\n",
    "Lets start with k-means\n",
    "\n",
    "To do this we will need to know how many clusters we're looking for. Here the true number of clusters is 4. But, in most cases, you wouldn't know the number a priori."
   ]
  },
  {
   "cell_type": "code",
   "execution_count": 14,
   "metadata": {},
   "outputs": [
    {
     "data": {
      "text/plain": [
       "4"
      ]
     },
     "execution_count": 14,
     "metadata": {},
     "output_type": "execute_result"
    }
   ],
   "source": [
    "numClusters = len(set(newsgroupsDF['category']))\n",
    "numClusters"
   ]
  },
  {
   "cell_type": "markdown",
   "metadata": {},
   "source": [
    "Then we can initialize our cluster finder"
   ]
  },
  {
   "cell_type": "code",
   "execution_count": 15,
   "metadata": {},
   "outputs": [],
   "source": [
    "#k-means++ is a better way of finding the starting points\n",
    "#We could also try providing our own\n",
    "km = sklearn.cluster.KMeans(n_clusters=numClusters, init='k-means++')"
   ]
  },
  {
   "cell_type": "markdown",
   "metadata": {},
   "source": [
    "And now we can calculate the clusters"
   ]
  },
  {
   "cell_type": "code",
   "execution_count": 16,
   "metadata": {},
   "outputs": [
    {
     "data": {
      "text/plain": [
       "KMeans(algorithm='auto', copy_x=True, init='k-means++', max_iter=300,\n",
       "    n_clusters=4, n_init=10, n_jobs=1, precompute_distances='auto',\n",
       "    random_state=None, tol=0.0001, verbose=0)"
      ]
     },
     "execution_count": 16,
     "metadata": {},
     "output_type": "execute_result"
    }
   ],
   "source": [
    "km.fit(newsgroupsTFVects)"
   ]
  },
  {
   "cell_type": "markdown",
   "metadata": {},
   "source": [
    "Once we have the clusters there are a variety of metrics that sklearn provides, we will look at a few"
   ]
  },
  {
   "cell_type": "code",
   "execution_count": 17,
   "metadata": {},
   "outputs": [
    {
     "name": "stdout",
     "output_type": "stream",
     "text": [
      "The available metrics are: ['SCORERS', 'accuracy_score', 'adjusted_mutual_info_score', 'adjusted_rand_score', 'auc', 'average_precision_score', 'base', 'brier_score_loss', 'calinski_harabaz_score', 'classification', 'classification_report', 'cluster', 'cohen_kappa_score', 'completeness_score', 'confusion_matrix', 'consensus_score', 'coverage_error', 'euclidean_distances', 'explained_variance_score', 'f1_score', 'fbeta_score', 'fowlkes_mallows_score', 'get_scorer', 'hamming_loss', 'hinge_loss', 'homogeneity_completeness_v_measure', 'homogeneity_score', 'jaccard_similarity_score', 'label_ranking_average_precision_score', 'label_ranking_loss', 'log_loss', 'make_scorer', 'matthews_corrcoef', 'mean_absolute_error', 'mean_squared_error', 'median_absolute_error', 'mutual_info_score', 'normalized_mutual_info_score', 'pairwise', 'pairwise_distances', 'pairwise_distances_argmin', 'pairwise_distances_argmin_min', 'pairwise_fast', 'pairwise_kernels', 'precision_recall_curve', 'precision_recall_fscore_support', 'precision_score', 'r2_score', 'ranking', 'recall_score', 'regression', 'roc_auc_score', 'roc_curve', 'scorer', 'silhouette_samples', 'silhouette_score', 'v_measure_score', 'zero_one_loss']\n",
      "for our clusters:\n",
      "Homogeneity: 0.429\n",
      "Completeness: 0.498\n",
      "V-measure: 0.461\n"
     ]
    }
   ],
   "source": [
    "print(\"The available metrics are: {}\".format([s for s in dir(sklearn.metrics) if s[0] != '_']))\n",
    "print(\"for our clusters:\")\n",
    "print(\"Homogeneity: {:0.3f}\".format(sklearn.metrics.homogeneity_score(newsgroupsDF['category'], km.labels_)))\n",
    "print(\"Completeness: {:0.3f}\".format(sklearn.metrics.completeness_score(newsgroupsDF['category'], km.labels_)))\n",
    "print(\"V-measure: {:0.3f}\".format(sklearn.metrics.v_measure_score(newsgroupsDF['category'], km.labels_)))"
   ]
  },
  {
   "cell_type": "markdown",
   "metadata": {},
   "source": [
    "We can also look at the contents of the clusters"
   ]
  },
  {
   "cell_type": "code",
   "execution_count": 18,
   "metadata": {},
   "outputs": [
    {
     "name": "stdout",
     "output_type": "stream",
     "text": [
      "Top terms per cluster:\n",
      "Cluster 0:\n",
      " window\n",
      " server\n",
      " motif\n",
      " widget\n",
      " program\n",
      " application\n",
      " use\n",
      " using\n",
      " like\n",
      " windows\n",
      "\n",
      "\n",
      "Cluster 1:\n",
      " know\n",
      " thanks\n",
      " mac\n",
      " does\n",
      " just\n",
      " use\n",
      " drive\n",
      " like\n",
      " apple\n",
      " don\n",
      "\n",
      "\n",
      "Cluster 2:\n",
      " sale\n",
      " 00\n",
      " offer\n",
      " shipping\n",
      " condition\n",
      " new\n",
      " asking\n",
      " sell\n",
      " interested\n",
      " price\n",
      "\n",
      "\n",
      "Cluster 3:\n",
      " car\n",
      " cars\n",
      " engine\n",
      " like\n",
      " just\n",
      " good\n",
      " think\n",
      " new\n",
      " don\n",
      " dealer\n",
      "\n",
      "\n"
     ]
    }
   ],
   "source": [
    "terms = ngTFVectorizer.get_feature_names()\n",
    "print(\"Top terms per cluster:\")\n",
    "order_centroids = km.cluster_centers_.argsort()[:, ::-1]\n",
    "for i in range(numClusters):\n",
    "    print(\"Cluster %d:\" % i)\n",
    "    for ind in order_centroids[i, :10]:\n",
    "        print(' %s' % terms[ind])\n",
    "    print('\\n')"
   ]
  },
  {
   "cell_type": "markdown",
   "metadata": {},
   "source": [
    "Let 's do a visualization of the clusters. First, let's first reduce the\n",
    "dimensionality of the data using a principal component analysis(PCA)."
   ]
  },
  {
   "cell_type": "code",
   "execution_count": 19,
   "metadata": {},
   "outputs": [],
   "source": [
    "PCA = sklearn.decomposition.PCA\n",
    "pca = PCA(n_components = 2).fit(newsgroupsTFVects.toarray())"
   ]
  },
  {
   "cell_type": "code",
   "execution_count": 20,
   "metadata": {},
   "outputs": [],
   "source": [
    "reduced_data = pca.transform(newsgroupsTFVects.toarray())\n",
    "components = pca.components_"
   ]
  },
  {
   "cell_type": "code",
   "execution_count": 21,
   "metadata": {},
   "outputs": [],
   "source": [
    "keyword_ids = list(set(order_centroids[:,:10].flatten()))\n",
    "words = [terms[i] for i in keyword_ids]\n",
    "x = components[:,keyword_ids][0,:]\n",
    "y = components[:,keyword_ids][1,:]"
   ]
  },
  {
   "cell_type": "markdown",
   "metadata": {},
   "source": [
    "Then, let's build a color map for the true labels."
   ]
  },
  {
   "cell_type": "code",
   "execution_count": 22,
   "metadata": {},
   "outputs": [
    {
     "name": "stdout",
     "output_type": "stream",
     "text": [
      "The categories' colors are:\n",
      "dict_items([('rec.autos', 'blue'), ('misc.forsale', 'green'), ('comp.windows.x', 'orange'), ('comp.sys.mac.hardware', 'red')])\n"
     ]
    }
   ],
   "source": [
    "colordict = {\n",
    "'comp.sys.mac.hardware': 'red',\n",
    "'comp.windows.x': 'orange',\n",
    "'misc.forsale': 'green',\n",
    "'rec.autos': 'blue',\n",
    "    }\n",
    "colors = [colordict[c] for c in newsgroupsDF['category']]\n",
    "print(\"The categories' colors are:\\n{}\".format(colordict.items()))"
   ]
  },
  {
   "cell_type": "markdown",
   "metadata": {},
   "source": [
    "Let's plot the data using the true labels as the colors of the data points."
   ]
  },
  {
   "cell_type": "code",
   "execution_count": 23,
   "metadata": {},
   "outputs": [
    {
     "data": {
      "image/png": "[encoded data removed]",
      "text/plain": [
       "<matplotlib.figure.Figure at 0x110800a90>"
      ]
     },
     "metadata": {},
     "output_type": "display_data"
    }
   ],
   "source": [
    "fig = plt.figure(1)\n",
    "ax = fig.add_subplot(111)\n",
    "ax.set_frame_on(False)\n",
    "ax.scatter(reduced_data[:, 0], reduced_data[:, 1], color = colors, alpha = 0.5, label = colors)\n",
    "plt.xticks(())\n",
    "plt.yticks(())\n",
    "plt.title('True Classes')\n",
    "plt.show()"
   ]
  },
  {
   "cell_type": "markdown",
   "metadata": {},
   "source": [
    "One nice thing about PCA is that we can also do a biplot and map our feature\n",
    "vectors to the same space."
   ]
  },
  {
   "cell_type": "code",
   "execution_count": 24,
   "metadata": {},
   "outputs": [
    {
     "data": {
      "image/png": "[encoded data removed]",
      "text/plain": [
       "<matplotlib.figure.Figure at 0x1107d7f28>"
      ]
     },
     "metadata": {},
     "output_type": "display_data"
    }
   ],
   "source": [
    "fig = plt.figure(figsize = (16,9))\n",
    "ax = fig.add_subplot(111)\n",
    "ax.set_frame_on(False)\n",
    "ax.scatter(reduced_data[:, 0], reduced_data[:, 1], color = colors, alpha = 0.3, label = colors)\n",
    "for i, word in enumerate(words):\n",
    "    ax.annotate(word, (x[i],y[i]))\n",
    "plt.xticks(())\n",
    "plt.yticks(())\n",
    "plt.title('True Classes')\n",
    "plt.show()"
   ]
  },
  {
   "cell_type": "markdown",
   "metadata": {},
   "source": [
    "Let's do it again with predicted clusters."
   ]
  },
  {
   "cell_type": "code",
   "execution_count": 25,
   "metadata": {},
   "outputs": [],
   "source": [
    "colors_p = [colordict[newsgroupsCategories[l]] for l in km.labels_]"
   ]
  },
  {
   "cell_type": "code",
   "execution_count": 26,
   "metadata": {},
   "outputs": [
    {
     "data": {
      "image/png": "[encoded data removed]",
      "text/plain": [
       "<matplotlib.figure.Figure at 0x110a8ed68>"
      ]
     },
     "metadata": {},
     "output_type": "display_data"
    }
   ],
   "source": [
    "fig = plt.figure(1)\n",
    "ax = fig.add_subplot(111)\n",
    "ax.set_frame_on(False)\n",
    "plt.scatter(reduced_data[:, 0], reduced_data[:, 1], color = colors_p, alpha = 0.5)\n",
    "plt.xticks(())\n",
    "plt.yticks(())\n",
    "plt.title('Predicted Clusters\\n k = 4')\n",
    "plt.show()"
   ]
  },
  {
   "cell_type": "markdown",
   "metadata": {},
   "source": [
    "Let's try with 3 clusters."
   ]
  },
  {
   "cell_type": "code",
   "execution_count": 27,
   "metadata": {},
   "outputs": [
    {
     "data": {
      "text/plain": [
       "KMeans(algorithm='auto', copy_x=True, init='k-means++', max_iter=300,\n",
       "    n_clusters=3, n_init=10, n_jobs=1, precompute_distances='auto',\n",
       "    random_state=None, tol=0.0001, verbose=0)"
      ]
     },
     "execution_count": 27,
     "metadata": {},
     "output_type": "execute_result"
    }
   ],
   "source": [
    "km3 = sklearn.cluster.KMeans(n_clusters= 3, init='k-means++')\n",
    "km3.fit(newsgroupsTFVects.toarray())"
   ]
  },
  {
   "cell_type": "code",
   "execution_count": 28,
   "metadata": {},
   "outputs": [
    {
     "data": {
      "image/png": "[encoded data removed]",
      "text/plain": [
       "<matplotlib.figure.Figure at 0x110c8bac8>"
      ]
     },
     "metadata": {},
     "output_type": "display_data"
    }
   ],
   "source": [
    "colors_p = [colordict[newsgroupsCategories[l]] for l in km3.labels_]\n",
    "fig = plt.figure(1)\n",
    "ax = fig.add_subplot(111)\n",
    "ax.set_frame_on(False)\n",
    "plt.scatter(reduced_data[:, 0], reduced_data[:, 1], color = colors_p, alpha = 0.5)\n",
    "plt.xticks(())\n",
    "plt.yticks(())\n",
    "plt.title('Predicted Clusters\\n k = 3')\n",
    "plt.show()"
   ]
  },
  {
   "cell_type": "markdown",
   "metadata": {},
   "source": [
    "# Hierarchical Clustering\n",
    "\n",
    "Instead of looking at the matrix of documents to words, we can instead look at\n",
    "how the documents relate to each other.\n",
    "\n",
    "To do this we will take our matrix of word counts per document\n",
    "`newsgroupsTFVects` and create a word occurrence matrix measuring how similar\n",
    "the documents are to each other based on their number of shared words."
   ]
  },
  {
   "cell_type": "code",
   "execution_count": 29,
   "metadata": {},
   "outputs": [
    {
     "name": "stderr",
     "output_type": "stream",
     "text": [
      "/usr/local/lib/python3.5/site-packages/scipy/sparse/compressed.py:730: SparseEfficiencyWarning: Changing the sparsity structure of a csr_matrix is expensive. lil_matrix is more efficient.\n",
      "  SparseEfficiencyWarning)\n"
     ]
    }
   ],
   "source": [
    "\n",
    "newsgroupsCoocMat = newsgroupsTFVects * newsgroupsTFVects.T\n",
    "#set the diagonal to 0 since we don't care how similar texts are to themselves\n",
    "newsgroupsCoocMat.setdiag(0)\n",
    "#Another way of relating the texts is with their cosine similarity\n",
    "#newsgroupsCosinMat1 = 1 - sklearn.metrics.pairwise.cosine_similarity(newsgroupsTFVects)\n",
    "#But generally word occurrence is more accurate\n"
   ]
  },
  {
   "cell_type": "markdown",
   "metadata": {},
   "source": [
    "Now we can comute the linkage between the different texts, creating a tree. Although due to time considerations we will only look at the first 100 texts."
   ]
  },
  {
   "cell_type": "code",
   "execution_count": 30,
   "metadata": {},
   "outputs": [
    {
     "data": {
      "text/plain": [
       "array([[   3.        ,   26.        ,    0.        ,    2.        ],\n",
       "       [  52.        ,  100.        ,    0.        ,    3.        ],\n",
       "       [  68.        ,  101.        ,    0.        ,    4.        ],\n",
       "       [  75.        ,  102.        ,    0.        ,    5.        ],\n",
       "       [  76.        ,  103.        ,    0.        ,    6.        ],\n",
       "       [  82.        ,  104.        ,    0.        ,    7.        ],\n",
       "       [  99.        ,  105.        ,    0.        ,    8.        ],\n",
       "       [  71.        ,   97.        ,    0.28035552,    2.        ],\n",
       "       [  22.        ,   55.        ,    0.28134893,    2.        ],\n",
       "       [  21.        ,  107.        ,    0.31355623,    3.        ]])"
      ]
     },
     "execution_count": 30,
     "metadata": {},
     "output_type": "execute_result"
    }
   ],
   "source": [
    "linkage_matrix = scipy.cluster.hierarchy.ward(newsgroupsCoocMat[:100, :100].toarray())\n",
    "linkage_matrix[:10]"
   ]
  },
  {
   "cell_type": "markdown",
   "metadata": {},
   "source": [
    "Now we can visualize the tree"
   ]
  },
  {
   "cell_type": "code",
   "execution_count": 31,
   "metadata": {},
   "outputs": [
    {
     "data": {
      "image/png": "[encoded data removed]",
      "text/plain": [
       "<matplotlib.figure.Figure at 0x110d0d7b8>"
      ]
     },
     "metadata": {},
     "output_type": "display_data"
    }
   ],
   "source": [
    "ax = scipy.cluster.hierarchy.dendrogram(linkage_matrix)"
   ]
  },
  {
   "cell_type": "markdown",
   "metadata": {},
   "source": [
    "This plot is somewhat unwieldy, to make it easier to read we can cut the tree after a number of branches and then just show a central leaf."
   ]
  },
  {
   "cell_type": "code",
   "execution_count": 32,
   "metadata": {},
   "outputs": [
    {
     "data": {
      "image/png": "[encoded data removed]",
      "text/plain": [
       "<matplotlib.figure.Figure at 0x110c81ac8>"
      ]
     },
     "metadata": {},
     "output_type": "display_data"
    }
   ],
   "source": [
    "ax = scipy.cluster.hierarchy.dendrogram(linkage_matrix, p=4, truncate_mode='level')"
   ]
  },
  {
   "cell_type": "markdown",
   "metadata": {},
   "source": [
    "By default the tree is colored to show the clusters based on their ['distance'](https://docs.scipy.org/doc/scipy-0.18.1/reference/generated/scipy.cluster.hierarchy.dendrogram.html#scipy.cluster.hierarchy.dendrogram) from one another, but their are other ways of forming clusters.\n",
    "\n",
    "\n",
    "One of the most common is to cut the tree into `n` branches. We can do this with [`fcluster()`](https://docs.scipy.org/doc/scipy/reference/generated/scipy.cluster.hierarchy.fcluster.html#scipy.cluster.hierarchy.fcluster). Lets break the tree into 4 clusters"
   ]
  },
  {
   "cell_type": "code",
   "execution_count": 33,
   "metadata": {},
   "outputs": [
    {
     "data": {
      "text/plain": [
       "array([4, 4, 2, 1, 1, 4, 4, 4, 4, 4, 2, 1, 2, 1, 4, 4, 3, 4, 1, 4, 4, 1, 1,\n",
       "       2, 4, 4, 1, 2, 4, 1, 4, 4, 1, 4, 4, 4, 4, 4, 4, 4, 1, 4, 4, 2, 4, 4,\n",
       "       4, 1, 4, 2, 1, 4, 1, 1, 4, 1, 4, 2, 2, 4, 2, 4, 4, 1, 2, 4, 4, 4, 1,\n",
       "       4, 2, 1, 2, 1, 4, 1, 1, 4, 4, 1, 3, 3, 1, 2, 4, 3, 4, 2, 4, 1, 4, 1,\n",
       "       3, 4, 2, 4, 4, 1, 3, 1], dtype=int32)"
      ]
     },
     "execution_count": 33,
     "metadata": {},
     "output_type": "execute_result"
    }
   ],
   "source": [
    "hierarchicalClusters = scipy.cluster.hierarchy.fcluster(linkage_matrix, 4, 'maxclust')\n",
    "hierarchicalClusters"
   ]
  },
  {
   "cell_type": "markdown",
   "metadata": {},
   "source": [
    "This gives us an array giving each element of `linkage_matrix`'s cluster. We can save this, plot it or look for the representative examples from the clusters."
   ]
  },
  {
   "cell_type": "code",
   "execution_count": 34,
   "metadata": {},
   "outputs": [
    {
     "data": {
      "text/plain": [
       "(array([183, 195, 194, 178], dtype=int32), array([3, 4, 2, 1], dtype=int32))"
      ]
     },
     "execution_count": 34,
     "metadata": {},
     "output_type": "execute_result"
    }
   ],
   "source": [
    "clusterLeaders = scipy.cluster.hierarchy.leaders(linkage_matrix, hierarchicalClusters)\n",
    "clusterLeaders"
   ]
  },
  {
   "cell_type": "markdown",
   "metadata": {},
   "source": [
    "We can then look these up in our original data"
   ]
  },
  {
   "cell_type": "code",
   "execution_count": 35,
   "metadata": {},
   "outputs": [
    {
     "data": {
      "text/html": [
       "<div>\n",
       "<table border=\"1\" class=\"dataframe\">\n",
       "  <thead>\n",
       "    <tr style=\"text-align: right;\">\n",
       "      <th></th>\n",
       "      <th>category</th>\n",
       "      <th>source_file</th>\n",
       "      <th>text</th>\n",
       "    </tr>\n",
       "  </thead>\n",
       "  <tbody>\n",
       "    <tr>\n",
       "      <th>183</th>\n",
       "      <td>comp.sys.mac.hardware</td>\n",
       "      <td>/Users/Reid/scikit_learn_data/20news_home/20ne...</td>\n",
       "      <td>\\n\\nEven the 68000 can fetch two bytes at a ti...</td>\n",
       "    </tr>\n",
       "    <tr>\n",
       "      <th>195</th>\n",
       "      <td>comp.sys.mac.hardware</td>\n",
       "      <td>/Users/Reid/scikit_learn_data/20news_home/20ne...</td>\n",
       "      <td>Hi all:\\nDoes anyone know where I can get the ...</td>\n",
       "    </tr>\n",
       "    <tr>\n",
       "      <th>194</th>\n",
       "      <td>comp.sys.mac.hardware</td>\n",
       "      <td>/Users/Reid/scikit_learn_data/20news_home/20ne...</td>\n",
       "      <td>Here is the story:\\nI have a network with 4 Ma...</td>\n",
       "    </tr>\n",
       "    <tr>\n",
       "      <th>178</th>\n",
       "      <td>comp.sys.mac.hardware</td>\n",
       "      <td>/Users/Reid/scikit_learn_data/20news_home/20ne...</td>\n",
       "      <td>\\nWell Bill, There are 2MB soldered on the log...</td>\n",
       "    </tr>\n",
       "  </tbody>\n",
       "</table>\n",
       "</div>"
      ],
      "text/plain": [
       "                  category                                        source_file  \\\n",
       "183  comp.sys.mac.hardware  /Users/Reid/scikit_learn_data/20news_home/20ne...   \n",
       "195  comp.sys.mac.hardware  /Users/Reid/scikit_learn_data/20news_home/20ne...   \n",
       "194  comp.sys.mac.hardware  /Users/Reid/scikit_learn_data/20news_home/20ne...   \n",
       "178  comp.sys.mac.hardware  /Users/Reid/scikit_learn_data/20news_home/20ne...   \n",
       "\n",
       "                                                  text  \n",
       "183  \\n\\nEven the 68000 can fetch two bytes at a ti...  \n",
       "195  Hi all:\\nDoes anyone know where I can get the ...  \n",
       "194  Here is the story:\\nI have a network with 4 Ma...  \n",
       "178  \\nWell Bill, There are 2MB soldered on the log...  "
      ]
     },
     "execution_count": 35,
     "metadata": {},
     "output_type": "execute_result"
    }
   ],
   "source": [
    "newsgroupsDF.iloc[clusterLeaders[0]]"
   ]
  },
  {
   "cell_type": "markdown",
   "metadata": {},
   "source": [
    "# Gensim\n",
    "\n",
    "To do topic modeling we will again be using data from the [grimmer press releases corpus](ttps://github.com/lintool/GrimmerSenatePressReleases). Lets start by defining the same function as last lesson and loading a few press releases from 10 different senators into a DataFrame. The code to do this is below, but commented out as we've already downloaded the data to the data directory."
   ]
  },
  {
   "cell_type": "code",
   "execution_count": 36,
   "metadata": {},
   "outputs": [
    {
     "data": {
      "text/html": [
       "<div>\n",
       "<table border=\"1\" class=\"dataframe\">\n",
       "  <thead>\n",
       "    <tr style=\"text-align: right;\">\n",
       "      <th></th>\n",
       "      <th>download_url</th>\n",
       "      <th>html_url</th>\n",
       "      <th>name</th>\n",
       "      <th>path</th>\n",
       "      <th>text</th>\n",
       "      <th>senator</th>\n",
       "    </tr>\n",
       "  </thead>\n",
       "  <tbody>\n",
       "    <tr>\n",
       "      <th>0</th>\n",
       "      <td>https://raw.githubusercontent.com/lintool/Grim...</td>\n",
       "      <td>https://github.com/lintool/GrimmerSenatePressR...</td>\n",
       "      <td>10Apr2008Voinovich3.txt</td>\n",
       "      <td>raw/Voinovich/10Apr2008Voinovich3.txt</td>\n",
       "      <td>SEN. VOINOVICH SECURES ASSISTANCE FOR STRUGGLI...</td>\n",
       "      <td>Voinovich</td>\n",
       "    </tr>\n",
       "    <tr>\n",
       "      <th>100</th>\n",
       "      <td>https://raw.githubusercontent.com/lintool/Grim...</td>\n",
       "      <td>https://github.com/lintool/GrimmerSenatePressR...</td>\n",
       "      <td>10Apr2007Obama430.txt</td>\n",
       "      <td>raw/Obama/10Apr2007Obama430.txt</td>\n",
       "      <td>Obama Calls on IRS to Protect Taxpayers    ...</td>\n",
       "      <td>Obama</td>\n",
       "    </tr>\n",
       "    <tr>\n",
       "      <th>200</th>\n",
       "      <td>https://raw.githubusercontent.com/lintool/Grim...</td>\n",
       "      <td>https://github.com/lintool/GrimmerSenatePressR...</td>\n",
       "      <td>10Apr2007Whitehouse123.txt</td>\n",
       "      <td>raw/Whitehouse/10Apr2007Whitehouse123.txt</td>\n",
       "      <td>SEN. WHITEHOUSE SHARES WESTERLY GIRL'S STORY I...</td>\n",
       "      <td>Whitehouse</td>\n",
       "    </tr>\n",
       "    <tr>\n",
       "      <th>300</th>\n",
       "      <td>https://raw.githubusercontent.com/lintool/Grim...</td>\n",
       "      <td>https://github.com/lintool/GrimmerSenatePressR...</td>\n",
       "      <td>10Apr2006Snowe403.txt</td>\n",
       "      <td>raw/Snowe/10Apr2006Snowe403.txt</td>\n",
       "      <td>SEN. SNOWE, SENATE FINANCE COMMITTEE MEMBERS U...</td>\n",
       "      <td>Snowe</td>\n",
       "    </tr>\n",
       "    <tr>\n",
       "      <th>400</th>\n",
       "      <td>https://raw.githubusercontent.com/lintool/Grim...</td>\n",
       "      <td>https://github.com/lintool/GrimmerSenatePressR...</td>\n",
       "      <td>10Apr2006Rockefeller210.txt</td>\n",
       "      <td>raw/Rockefeller/10Apr2006Rockefeller210.txt</td>\n",
       "      <td>SEN. ROCKEFELLER DEMANDS THAT CHINA PLAY FAIR ...</td>\n",
       "      <td>Rockefeller</td>\n",
       "    </tr>\n",
       "    <tr>\n",
       "      <th>500</th>\n",
       "      <td>https://raw.githubusercontent.com/lintool/Grim...</td>\n",
       "      <td>https://github.com/lintool/GrimmerSenatePressR...</td>\n",
       "      <td>10Feb2006Murkowski158.txt</td>\n",
       "      <td>raw/Murkowski/10Feb2006Murkowski158.txt</td>\n",
       "      <td>SEN. MURKOWSKI PRAISES EXTENSION OF FMAP MATCH...</td>\n",
       "      <td>Murkowski</td>\n",
       "    </tr>\n",
       "    <tr>\n",
       "      <th>600</th>\n",
       "      <td>https://raw.githubusercontent.com/lintool/Grim...</td>\n",
       "      <td>https://github.com/lintool/GrimmerSenatePressR...</td>\n",
       "      <td>.Rapp.history</td>\n",
       "      <td>raw/McCain/.Rapp.history</td>\n",
       "      <td>edu_mat&lt;- matrix(0, nrow=3, ncol=2)#\\ndiag(edu...</td>\n",
       "      <td>McCain</td>\n",
       "    </tr>\n",
       "    <tr>\n",
       "      <th>700</th>\n",
       "      <td>https://raw.githubusercontent.com/lintool/Grim...</td>\n",
       "      <td>https://github.com/lintool/GrimmerSenatePressR...</td>\n",
       "      <td>10Apr2006Kyl232.txt</td>\n",
       "      <td>raw/Kyl/10Apr2006Kyl232.txt</td>\n",
       "      <td>WE NEED SENSIBLE IMMIGRATION REFORM\\n  Last we...</td>\n",
       "      <td>Kyl</td>\n",
       "    </tr>\n",
       "    <tr>\n",
       "      <th>800</th>\n",
       "      <td>https://raw.githubusercontent.com/lintool/Grim...</td>\n",
       "      <td>https://github.com/lintool/GrimmerSenatePressR...</td>\n",
       "      <td>10Aug2005Baucus15.txt</td>\n",
       "      <td>raw/Baucus/10Aug2005Baucus15.txt</td>\n",
       "      <td>\\n\\n\\n\\n\\n\\n\\n\\n\\n\\n\\n\\n\\n\\n\\n\\n\\n\\n\\n\\n\\nPres...</td>\n",
       "      <td>Baucus</td>\n",
       "    </tr>\n",
       "    <tr>\n",
       "      <th>900</th>\n",
       "      <td>https://raw.githubusercontent.com/lintool/Grim...</td>\n",
       "      <td>https://github.com/lintool/GrimmerSenatePressR...</td>\n",
       "      <td>10Apr2006Frist268.txt</td>\n",
       "      <td>raw/Frist/10Apr2006Frist268.txt</td>\n",
       "      <td>SEN. FRIST'S CHIEF OF STAFF CALLS FOR FAIR PRO...</td>\n",
       "      <td>Frist</td>\n",
       "    </tr>\n",
       "  </tbody>\n",
       "</table>\n",
       "</div>"
      ],
      "text/plain": [
       "                                          download_url  \\\n",
       "0    https://raw.githubusercontent.com/lintool/Grim...   \n",
       "100  https://raw.githubusercontent.com/lintool/Grim...   \n",
       "200  https://raw.githubusercontent.com/lintool/Grim...   \n",
       "300  https://raw.githubusercontent.com/lintool/Grim...   \n",
       "400  https://raw.githubusercontent.com/lintool/Grim...   \n",
       "500  https://raw.githubusercontent.com/lintool/Grim...   \n",
       "600  https://raw.githubusercontent.com/lintool/Grim...   \n",
       "700  https://raw.githubusercontent.com/lintool/Grim...   \n",
       "800  https://raw.githubusercontent.com/lintool/Grim...   \n",
       "900  https://raw.githubusercontent.com/lintool/Grim...   \n",
       "\n",
       "                                              html_url  \\\n",
       "0    https://github.com/lintool/GrimmerSenatePressR...   \n",
       "100  https://github.com/lintool/GrimmerSenatePressR...   \n",
       "200  https://github.com/lintool/GrimmerSenatePressR...   \n",
       "300  https://github.com/lintool/GrimmerSenatePressR...   \n",
       "400  https://github.com/lintool/GrimmerSenatePressR...   \n",
       "500  https://github.com/lintool/GrimmerSenatePressR...   \n",
       "600  https://github.com/lintool/GrimmerSenatePressR...   \n",
       "700  https://github.com/lintool/GrimmerSenatePressR...   \n",
       "800  https://github.com/lintool/GrimmerSenatePressR...   \n",
       "900  https://github.com/lintool/GrimmerSenatePressR...   \n",
       "\n",
       "                            name                                         path  \\\n",
       "0        10Apr2008Voinovich3.txt        raw/Voinovich/10Apr2008Voinovich3.txt   \n",
       "100        10Apr2007Obama430.txt              raw/Obama/10Apr2007Obama430.txt   \n",
       "200   10Apr2007Whitehouse123.txt    raw/Whitehouse/10Apr2007Whitehouse123.txt   \n",
       "300        10Apr2006Snowe403.txt              raw/Snowe/10Apr2006Snowe403.txt   \n",
       "400  10Apr2006Rockefeller210.txt  raw/Rockefeller/10Apr2006Rockefeller210.txt   \n",
       "500    10Feb2006Murkowski158.txt      raw/Murkowski/10Feb2006Murkowski158.txt   \n",
       "600                .Rapp.history                     raw/McCain/.Rapp.history   \n",
       "700          10Apr2006Kyl232.txt                  raw/Kyl/10Apr2006Kyl232.txt   \n",
       "800        10Aug2005Baucus15.txt             raw/Baucus/10Aug2005Baucus15.txt   \n",
       "900        10Apr2006Frist268.txt              raw/Frist/10Apr2006Frist268.txt   \n",
       "\n",
       "                                                  text      senator  \n",
       "0    SEN. VOINOVICH SECURES ASSISTANCE FOR STRUGGLI...    Voinovich  \n",
       "100     Obama Calls on IRS to Protect Taxpayers    ...        Obama  \n",
       "200  SEN. WHITEHOUSE SHARES WESTERLY GIRL'S STORY I...   Whitehouse  \n",
       "300  SEN. SNOWE, SENATE FINANCE COMMITTEE MEMBERS U...        Snowe  \n",
       "400  SEN. ROCKEFELLER DEMANDS THAT CHINA PLAY FAIR ...  Rockefeller  \n",
       "500  SEN. MURKOWSKI PRAISES EXTENSION OF FMAP MATCH...    Murkowski  \n",
       "600  edu_mat<- matrix(0, nrow=3, ncol=2)#\\ndiag(edu...       McCain  \n",
       "700  WE NEED SENSIBLE IMMIGRATION REFORM\\n  Last we...          Kyl  \n",
       "800  \\n\\n\\n\\n\\n\\n\\n\\n\\n\\n\\n\\n\\n\\n\\n\\n\\n\\n\\n\\n\\nPres...       Baucus  \n",
       "900  SEN. FRIST'S CHIEF OF STAFF CALLS FOR FAIR PRO...        Frist  "
      ]
     },
     "execution_count": 36,
     "metadata": {},
     "output_type": "execute_result"
    }
   ],
   "source": [
    "def getGithubFiles(target, maxFiles = 100):\n",
    "    #We are setting a max so our examples don't take too long to run\n",
    "    #For converting to a DataFrame\n",
    "    releasesDict = {\n",
    "        'name' : [], #The name of the file\n",
    "        'text' : [], #The text of the file, watch out for binary files\n",
    "        'path' : [], #The path in the git repo to the file\n",
    "        'html_url' : [], #The url to see the file on Github\n",
    "        'download_url' : [], #The url to download the file\n",
    "    }\n",
    "\n",
    "    #Get the directory information from Github\n",
    "    r = requests.get(target)\n",
    "\n",
    "    #Check for rate limiting\n",
    "    if r.status_code != 200:\n",
    "        raise RuntimeError(\"Github didn't like your request, you have probably been rate limited.\")\n",
    "    filesLst = json.loads(r.text)\n",
    "\n",
    "    for fileDict in filesLst[:maxFiles]:\n",
    "        #These are provided by the directory\n",
    "        releasesDict['name'].append(fileDict['name'])\n",
    "        releasesDict['path'].append(fileDict['path'])\n",
    "        releasesDict['html_url'].append(fileDict['html_url'])\n",
    "        releasesDict['download_url'].append(fileDict['download_url'])\n",
    "\n",
    "        #We need to download the text though\n",
    "        text = requests.get(fileDict['download_url']).text\n",
    "        releasesDict['text'].append(text)\n",
    "\n",
    "    return pandas.DataFrame(releasesDict)\n",
    "\n",
    "targetSenators = ['Voinovich', 'Obama', 'Whitehouse', 'Snowe', 'Rockefeller', 'Murkowski', 'McCain', 'Kyl', 'Baucus', 'Frist']\n",
    "\n",
    "\"\"\"\n",
    "senReleasesTraining = pandas.DataFrame()\n",
    "\n",
    "for senator in targetSenators:\n",
    "    print(\"Fetching {}'s data\".format(senator))\n",
    "    targetDF = getGithubFiles('https://api.github.com/repos/lintool/GrimmerSenatePressReleases/contents/raw/{}'.format(senator), maxFiles = 100)\n",
    "    targetDF['senator'] = senator\n",
    "    senReleasesTraining = senReleasesTraining.append(targetDF, ignore_index = True)\n",
    "\n",
    "senReleasesTraining.to_csv(\"data/senReleasesTraining.csv\")\n",
    "\"\"\"\n",
    "senReleasesTraining = pandas.DataFrame.from_csv(\"data/senReleasesTraining.csv\")\n",
    "\n",
    "senReleasesTraining[::100]"
   ]
  },
  {
   "cell_type": "markdown",
   "metadata": {},
   "source": [
    "Now we have the files we can tokenize and normalize"
   ]
  },
  {
   "cell_type": "code",
   "execution_count": 37,
   "metadata": {},
   "outputs": [
    {
     "data": {
      "text/html": [
       "<div>\n",
       "<table border=\"1\" class=\"dataframe\">\n",
       "  <thead>\n",
       "    <tr style=\"text-align: right;\">\n",
       "      <th></th>\n",
       "      <th>download_url</th>\n",
       "      <th>html_url</th>\n",
       "      <th>name</th>\n",
       "      <th>path</th>\n",
       "      <th>text</th>\n",
       "      <th>senator</th>\n",
       "      <th>tokenized_text</th>\n",
       "      <th>normalized_tokens</th>\n",
       "    </tr>\n",
       "  </thead>\n",
       "  <tbody>\n",
       "    <tr>\n",
       "      <th>0</th>\n",
       "      <td>https://raw.githubusercontent.com/lintool/Grim...</td>\n",
       "      <td>https://github.com/lintool/GrimmerSenatePressR...</td>\n",
       "      <td>10Apr2008Voinovich3.txt</td>\n",
       "      <td>raw/Voinovich/10Apr2008Voinovich3.txt</td>\n",
       "      <td>SEN. VOINOVICH SECURES ASSISTANCE FOR STRUGGLI...</td>\n",
       "      <td>Voinovich</td>\n",
       "      <td>[SEN., VOINOVICH, SECURES, ASSISTANCE, FOR, ST...</td>\n",
       "      <td>[voinovich, secur, assist, struggl, homeown, e...</td>\n",
       "    </tr>\n",
       "    <tr>\n",
       "      <th>100</th>\n",
       "      <td>https://raw.githubusercontent.com/lintool/Grim...</td>\n",
       "      <td>https://github.com/lintool/GrimmerSenatePressR...</td>\n",
       "      <td>10Apr2007Obama430.txt</td>\n",
       "      <td>raw/Obama/10Apr2007Obama430.txt</td>\n",
       "      <td>Obama Calls on IRS to Protect Taxpayers    ...</td>\n",
       "      <td>Obama</td>\n",
       "      <td>[Obama, Calls, on, IRS, to, Protect, Taxpayers...</td>\n",
       "      <td>[obama, call, ir, protect, taxpay, privaci, u,...</td>\n",
       "    </tr>\n",
       "    <tr>\n",
       "      <th>200</th>\n",
       "      <td>https://raw.githubusercontent.com/lintool/Grim...</td>\n",
       "      <td>https://github.com/lintool/GrimmerSenatePressR...</td>\n",
       "      <td>10Apr2007Whitehouse123.txt</td>\n",
       "      <td>raw/Whitehouse/10Apr2007Whitehouse123.txt</td>\n",
       "      <td>SEN. WHITEHOUSE SHARES WESTERLY GIRL'S STORY I...</td>\n",
       "      <td>Whitehouse</td>\n",
       "      <td>[SEN., WHITEHOUSE, SHARES, WESTERLY, GIRL, 'S,...</td>\n",
       "      <td>[whitehous, share, wester, girl, stori, push, ...</td>\n",
       "    </tr>\n",
       "    <tr>\n",
       "      <th>300</th>\n",
       "      <td>https://raw.githubusercontent.com/lintool/Grim...</td>\n",
       "      <td>https://github.com/lintool/GrimmerSenatePressR...</td>\n",
       "      <td>10Apr2006Snowe403.txt</td>\n",
       "      <td>raw/Snowe/10Apr2006Snowe403.txt</td>\n",
       "      <td>SEN. SNOWE, SENATE FINANCE COMMITTEE MEMBERS U...</td>\n",
       "      <td>Snowe</td>\n",
       "      <td>[SEN., SNOWE, ,, SENATE, FINANCE, COMMITTEE, M...</td>\n",
       "      <td>[snow, senat, financ, committe, member, urg, c...</td>\n",
       "    </tr>\n",
       "    <tr>\n",
       "      <th>400</th>\n",
       "      <td>https://raw.githubusercontent.com/lintool/Grim...</td>\n",
       "      <td>https://github.com/lintool/GrimmerSenatePressR...</td>\n",
       "      <td>10Apr2006Rockefeller210.txt</td>\n",
       "      <td>raw/Rockefeller/10Apr2006Rockefeller210.txt</td>\n",
       "      <td>SEN. ROCKEFELLER DEMANDS THAT CHINA PLAY FAIR ...</td>\n",
       "      <td>Rockefeller</td>\n",
       "      <td>[SEN., ROCKEFELLER, DEMANDS, THAT, CHINA, PLAY...</td>\n",
       "      <td>[rockefel, demand, china, play, fair, trade, j...</td>\n",
       "    </tr>\n",
       "    <tr>\n",
       "      <th>500</th>\n",
       "      <td>https://raw.githubusercontent.com/lintool/Grim...</td>\n",
       "      <td>https://github.com/lintool/GrimmerSenatePressR...</td>\n",
       "      <td>10Feb2006Murkowski158.txt</td>\n",
       "      <td>raw/Murkowski/10Feb2006Murkowski158.txt</td>\n",
       "      <td>SEN. MURKOWSKI PRAISES EXTENSION OF FMAP MATCH...</td>\n",
       "      <td>Murkowski</td>\n",
       "      <td>[SEN., MURKOWSKI, PRAISES, EXTENSION, OF, FMAP...</td>\n",
       "      <td>[murkowski, prais, extens, fmap, match, rate, ...</td>\n",
       "    </tr>\n",
       "    <tr>\n",
       "      <th>600</th>\n",
       "      <td>https://raw.githubusercontent.com/lintool/Grim...</td>\n",
       "      <td>https://github.com/lintool/GrimmerSenatePressR...</td>\n",
       "      <td>.Rapp.history</td>\n",
       "      <td>raw/McCain/.Rapp.history</td>\n",
       "      <td>edu_mat&lt;- matrix(0, nrow=3, ncol=2)#\\ndiag(edu...</td>\n",
       "      <td>McCain</td>\n",
       "      <td>[edu_mat, &lt;, -, matrix, (, 0, ,, nrow=3, ,, nc...</td>\n",
       "      <td>[matrix, diag, matrix, matrix, diag, matrix, d...</td>\n",
       "    </tr>\n",
       "    <tr>\n",
       "      <th>700</th>\n",
       "      <td>https://raw.githubusercontent.com/lintool/Grim...</td>\n",
       "      <td>https://github.com/lintool/GrimmerSenatePressR...</td>\n",
       "      <td>10Apr2006Kyl232.txt</td>\n",
       "      <td>raw/Kyl/10Apr2006Kyl232.txt</td>\n",
       "      <td>WE NEED SENSIBLE IMMIGRATION REFORM\\n  Last we...</td>\n",
       "      <td>Kyl</td>\n",
       "      <td>[WE, NEED, SENSIBLE, IMMIGRATION, REFORM, Last...</td>\n",
       "      <td>[need, sensibl, immigr, reform, last, week, se...</td>\n",
       "    </tr>\n",
       "    <tr>\n",
       "      <th>800</th>\n",
       "      <td>https://raw.githubusercontent.com/lintool/Grim...</td>\n",
       "      <td>https://github.com/lintool/GrimmerSenatePressR...</td>\n",
       "      <td>10Aug2005Baucus15.txt</td>\n",
       "      <td>raw/Baucus/10Aug2005Baucus15.txt</td>\n",
       "      <td>\\n\\n\\n\\n\\n\\n\\n\\n\\n\\n\\n\\n\\n\\n\\n\\n\\n\\n\\n\\n\\nPres...</td>\n",
       "      <td>Baucus</td>\n",
       "      <td>[Press, Release, :, PRESIDENT, SIGNS, HIGHWAY,...</td>\n",
       "      <td>[press, releas, presid, sign, highway, bill, p...</td>\n",
       "    </tr>\n",
       "    <tr>\n",
       "      <th>900</th>\n",
       "      <td>https://raw.githubusercontent.com/lintool/Grim...</td>\n",
       "      <td>https://github.com/lintool/GrimmerSenatePressR...</td>\n",
       "      <td>10Apr2006Frist268.txt</td>\n",
       "      <td>raw/Frist/10Apr2006Frist268.txt</td>\n",
       "      <td>SEN. FRIST'S CHIEF OF STAFF CALLS FOR FAIR PRO...</td>\n",
       "      <td>Frist</td>\n",
       "      <td>[SEN., FRIST, 'S, CHIEF, OF, STAFF, CALLS, FOR...</td>\n",
       "      <td>[frist, chief, staff, call, fair, process, imm...</td>\n",
       "    </tr>\n",
       "  </tbody>\n",
       "</table>\n",
       "</div>"
      ],
      "text/plain": [
       "                                          download_url  \\\n",
       "0    https://raw.githubusercontent.com/lintool/Grim...   \n",
       "100  https://raw.githubusercontent.com/lintool/Grim...   \n",
       "200  https://raw.githubusercontent.com/lintool/Grim...   \n",
       "300  https://raw.githubusercontent.com/lintool/Grim...   \n",
       "400  https://raw.githubusercontent.com/lintool/Grim...   \n",
       "500  https://raw.githubusercontent.com/lintool/Grim...   \n",
       "600  https://raw.githubusercontent.com/lintool/Grim...   \n",
       "700  https://raw.githubusercontent.com/lintool/Grim...   \n",
       "800  https://raw.githubusercontent.com/lintool/Grim...   \n",
       "900  https://raw.githubusercontent.com/lintool/Grim...   \n",
       "\n",
       "                                              html_url  \\\n",
       "0    https://github.com/lintool/GrimmerSenatePressR...   \n",
       "100  https://github.com/lintool/GrimmerSenatePressR...   \n",
       "200  https://github.com/lintool/GrimmerSenatePressR...   \n",
       "300  https://github.com/lintool/GrimmerSenatePressR...   \n",
       "400  https://github.com/lintool/GrimmerSenatePressR...   \n",
       "500  https://github.com/lintool/GrimmerSenatePressR...   \n",
       "600  https://github.com/lintool/GrimmerSenatePressR...   \n",
       "700  https://github.com/lintool/GrimmerSenatePressR...   \n",
       "800  https://github.com/lintool/GrimmerSenatePressR...   \n",
       "900  https://github.com/lintool/GrimmerSenatePressR...   \n",
       "\n",
       "                            name                                         path  \\\n",
       "0        10Apr2008Voinovich3.txt        raw/Voinovich/10Apr2008Voinovich3.txt   \n",
       "100        10Apr2007Obama430.txt              raw/Obama/10Apr2007Obama430.txt   \n",
       "200   10Apr2007Whitehouse123.txt    raw/Whitehouse/10Apr2007Whitehouse123.txt   \n",
       "300        10Apr2006Snowe403.txt              raw/Snowe/10Apr2006Snowe403.txt   \n",
       "400  10Apr2006Rockefeller210.txt  raw/Rockefeller/10Apr2006Rockefeller210.txt   \n",
       "500    10Feb2006Murkowski158.txt      raw/Murkowski/10Feb2006Murkowski158.txt   \n",
       "600                .Rapp.history                     raw/McCain/.Rapp.history   \n",
       "700          10Apr2006Kyl232.txt                  raw/Kyl/10Apr2006Kyl232.txt   \n",
       "800        10Aug2005Baucus15.txt             raw/Baucus/10Aug2005Baucus15.txt   \n",
       "900        10Apr2006Frist268.txt              raw/Frist/10Apr2006Frist268.txt   \n",
       "\n",
       "                                                  text      senator  \\\n",
       "0    SEN. VOINOVICH SECURES ASSISTANCE FOR STRUGGLI...    Voinovich   \n",
       "100     Obama Calls on IRS to Protect Taxpayers    ...        Obama   \n",
       "200  SEN. WHITEHOUSE SHARES WESTERLY GIRL'S STORY I...   Whitehouse   \n",
       "300  SEN. SNOWE, SENATE FINANCE COMMITTEE MEMBERS U...        Snowe   \n",
       "400  SEN. ROCKEFELLER DEMANDS THAT CHINA PLAY FAIR ...  Rockefeller   \n",
       "500  SEN. MURKOWSKI PRAISES EXTENSION OF FMAP MATCH...    Murkowski   \n",
       "600  edu_mat<- matrix(0, nrow=3, ncol=2)#\\ndiag(edu...       McCain   \n",
       "700  WE NEED SENSIBLE IMMIGRATION REFORM\\n  Last we...          Kyl   \n",
       "800  \\n\\n\\n\\n\\n\\n\\n\\n\\n\\n\\n\\n\\n\\n\\n\\n\\n\\n\\n\\n\\nPres...       Baucus   \n",
       "900  SEN. FRIST'S CHIEF OF STAFF CALLS FOR FAIR PRO...        Frist   \n",
       "\n",
       "                                        tokenized_text  \\\n",
       "0    [SEN., VOINOVICH, SECURES, ASSISTANCE, FOR, ST...   \n",
       "100  [Obama, Calls, on, IRS, to, Protect, Taxpayers...   \n",
       "200  [SEN., WHITEHOUSE, SHARES, WESTERLY, GIRL, 'S,...   \n",
       "300  [SEN., SNOWE, ,, SENATE, FINANCE, COMMITTEE, M...   \n",
       "400  [SEN., ROCKEFELLER, DEMANDS, THAT, CHINA, PLAY...   \n",
       "500  [SEN., MURKOWSKI, PRAISES, EXTENSION, OF, FMAP...   \n",
       "600  [edu_mat, <, -, matrix, (, 0, ,, nrow=3, ,, nc...   \n",
       "700  [WE, NEED, SENSIBLE, IMMIGRATION, REFORM, Last...   \n",
       "800  [Press, Release, :, PRESIDENT, SIGNS, HIGHWAY,...   \n",
       "900  [SEN., FRIST, 'S, CHIEF, OF, STAFF, CALLS, FOR...   \n",
       "\n",
       "                                     normalized_tokens  \n",
       "0    [voinovich, secur, assist, struggl, homeown, e...  \n",
       "100  [obama, call, ir, protect, taxpay, privaci, u,...  \n",
       "200  [whitehous, share, wester, girl, stori, push, ...  \n",
       "300  [snow, senat, financ, committe, member, urg, c...  \n",
       "400  [rockefel, demand, china, play, fair, trade, j...  \n",
       "500  [murkowski, prais, extens, fmap, match, rate, ...  \n",
       "600  [matrix, diag, matrix, matrix, diag, matrix, d...  \n",
       "700  [need, sensibl, immigr, reform, last, week, se...  \n",
       "800  [press, releas, presid, sign, highway, bill, p...  \n",
       "900  [frist, chief, staff, call, fair, process, imm...  "
      ]
     },
     "execution_count": 37,
     "metadata": {},
     "output_type": "execute_result"
    }
   ],
   "source": [
    "#Define the same function as last week\n",
    "def normlizeTokens(tokenLst, stopwordLst = None, stemmer = None, lemmer = None):\n",
    "    #We can use a generator here as we just need to iterate over it\n",
    "\n",
    "    #Lowering the case and removing non-words\n",
    "    workingIter = (w.lower() for w in tokenLst if w.isalpha())\n",
    "\n",
    "    #Now we can use the semmer, if provided\n",
    "    if stemmer is not None:\n",
    "        workingIter = (stemmer.stem(w) for w in workingIter)\n",
    "\n",
    "    #And the lemmer\n",
    "    if lemmer is not None:\n",
    "        workingIter = (lemmer.lemmatize(w) for w in workingIter)\n",
    "\n",
    "    #And remove the stopwords\n",
    "    if stopwordLst is not None:\n",
    "        workingIter = (w for w in workingIter if w not in stopwordLst)\n",
    "    #We will return a list with the stopwords removed\n",
    "    return list(workingIter)\n",
    "\n",
    "#initialize our stemmer and our stop words\n",
    "stop_words_nltk = nltk.corpus.stopwords.words('english')\n",
    "snowball = nltk.stem.snowball.SnowballStemmer('english')\n",
    "\n",
    "#Apply our functions\n",
    "senReleasesTraining['tokenized_text'] = senReleasesTraining['text'].apply(lambda x: nltk.word_tokenize(x))\n",
    "senReleasesTraining['normalized_tokens'] = senReleasesTraining['tokenized_text'].apply(lambda x: normlizeTokens(x, stopwordLst = stop_words_nltk, stemmer = snowball))\n",
    "\n",
    "senReleasesTraining[::100]"
   ]
  },
  {
   "cell_type": "markdown",
   "metadata": {},
   "source": [
    "To use the texts with gensim we need to create a `corpua` object, this takes a few steps. First we create a `Dictioanry` that maps tokens to ids."
   ]
  },
  {
   "cell_type": "code",
   "execution_count": 38,
   "metadata": {},
   "outputs": [],
   "source": [
    "dictionary = gensim.corpora.Dictionary(senReleasesTraining['normalized_tokens'])"
   ]
  },
  {
   "cell_type": "markdown",
   "metadata": {},
   "source": [
    "Then for each of the texts we create a list of tuples containing: each token and its count. We will only use the first half of our dataset for now, and will leave the second half to test with."
   ]
  },
  {
   "cell_type": "code",
   "execution_count": 39,
   "metadata": {},
   "outputs": [],
   "source": [
    "corpus = [dictionary.doc2bow(text) for text in senReleasesTraining['normalized_tokens']]"
   ]
  },
  {
   "cell_type": "markdown",
   "metadata": {},
   "source": [
    "Then we serialize the corpus as a file and load it. This is an important step when the corpus is large."
   ]
  },
  {
   "cell_type": "code",
   "execution_count": 40,
   "metadata": {},
   "outputs": [],
   "source": [
    "gensim.corpora.MmCorpus.serialize('data/senate.mm', corpus)\n",
    "senmm = gensim.corpora.MmCorpus('data/senate.mm')"
   ]
  },
  {
   "cell_type": "markdown",
   "metadata": {},
   "source": [
    "Now we have a correctly formatted corpura that we can use for some topic models"
   ]
  },
  {
   "cell_type": "code",
   "execution_count": 41,
   "metadata": {},
   "outputs": [],
   "source": [
    "senlda = gensim.models.ldamodel.LdaModel(corpus=senmm, id2word=dictionary, num_topics=10)"
   ]
  },
  {
   "cell_type": "markdown",
   "metadata": {},
   "source": [
    "We can check how well different texts belong to different topics, heres one of the texts from the training set"
   ]
  },
  {
   "cell_type": "code",
   "execution_count": 42,
   "metadata": {},
   "outputs": [
    {
     "name": "stdout",
     "output_type": "stream",
     "text": [
      "The topics of the text: 10Apr2008Voinovich3.txt\n",
      "are: [(0, 0.03138478981005878), (2, 0.020532238302681846), (3, 0.3111083749282737), (9, 0.63401483683853854)]\n"
     ]
    }
   ],
   "source": [
    "sen1Bow = dictionary.doc2bow(senReleasesTraining['normalized_tokens'][0])\n",
    "sen1lda = senlda[sen1Bow]\n",
    "print(\"The topics of the text: {}\".format(senReleasesTraining['name'][0]))\n",
    "print(\"are: {}\".format(sen1lda))"
   ]
  },
  {
   "cell_type": "markdown",
   "metadata": {},
   "source": [
    "We can now see which topic our model predicts the press releases belongs to and make this into a dataFrame."
   ]
  },
  {
   "cell_type": "code",
   "execution_count": 43,
   "metadata": {},
   "outputs": [],
   "source": [
    "ldaDF = pandas.DataFrame({\n",
    "        'name' : senReleasesTraining['name'],\n",
    "        'topics' : [senlda[dictionary.doc2bow(l)] for l in senReleasesTraining['normalized_tokens']]\n",
    "    })"
   ]
  },
  {
   "cell_type": "markdown",
   "metadata": {},
   "source": [
    "This is a bit unwieldy so lets make each topic its own column"
   ]
  },
  {
   "cell_type": "code",
   "execution_count": 44,
   "metadata": {},
   "outputs": [
    {
     "data": {
      "text/html": [
       "<div>\n",
       "<table border=\"1\" class=\"dataframe\">\n",
       "  <thead>\n",
       "    <tr style=\"text-align: right;\">\n",
       "      <th></th>\n",
       "      <th>name</th>\n",
       "      <th>topics</th>\n",
       "      <th>topic_0</th>\n",
       "      <th>topic_1</th>\n",
       "      <th>topic_2</th>\n",
       "      <th>topic_3</th>\n",
       "      <th>topic_4</th>\n",
       "      <th>topic_5</th>\n",
       "      <th>topic_6</th>\n",
       "      <th>topic_7</th>\n",
       "      <th>topic_8</th>\n",
       "      <th>topic_9</th>\n",
       "    </tr>\n",
       "  </thead>\n",
       "  <tbody>\n",
       "    <tr>\n",
       "      <th>1</th>\n",
       "      <td>10Apr2008Voinovich4.txt</td>\n",
       "      <td>[(3, 0.996738321383)]</td>\n",
       "      <td>0.000000</td>\n",
       "      <td>0.000000</td>\n",
       "      <td>0.000000</td>\n",
       "      <td>0.996738</td>\n",
       "      <td>0.000000</td>\n",
       "      <td>0.000000</td>\n",
       "      <td>0.000000</td>\n",
       "      <td>0.000000</td>\n",
       "      <td>0.000000</td>\n",
       "      <td>0.000000</td>\n",
       "    </tr>\n",
       "    <tr>\n",
       "      <th>101</th>\n",
       "      <td>10Apr2008Obama108.txt</td>\n",
       "      <td>[(0, 0.582063006975), (2, 0.128118285674), (9,...</td>\n",
       "      <td>0.582063</td>\n",
       "      <td>0.000000</td>\n",
       "      <td>0.128118</td>\n",
       "      <td>0.000000</td>\n",
       "      <td>0.000000</td>\n",
       "      <td>0.000000</td>\n",
       "      <td>0.000000</td>\n",
       "      <td>0.000000</td>\n",
       "      <td>0.000000</td>\n",
       "      <td>0.286469</td>\n",
       "    </tr>\n",
       "    <tr>\n",
       "      <th>201</th>\n",
       "      <td>10Apr2008Whitehouse2.txt</td>\n",
       "      <td>[(3, 0.968251317182), (4, 0.0269569659092)]</td>\n",
       "      <td>0.000000</td>\n",
       "      <td>0.000000</td>\n",
       "      <td>0.000000</td>\n",
       "      <td>0.968251</td>\n",
       "      <td>0.026957</td>\n",
       "      <td>0.000000</td>\n",
       "      <td>0.000000</td>\n",
       "      <td>0.000000</td>\n",
       "      <td>0.000000</td>\n",
       "      <td>0.000000</td>\n",
       "    </tr>\n",
       "    <tr>\n",
       "      <th>301</th>\n",
       "      <td>10Apr2006Snowe404.txt</td>\n",
       "      <td>[(8, 0.992305803829)]</td>\n",
       "      <td>0.000000</td>\n",
       "      <td>0.000000</td>\n",
       "      <td>0.000000</td>\n",
       "      <td>0.000000</td>\n",
       "      <td>0.000000</td>\n",
       "      <td>0.000000</td>\n",
       "      <td>0.000000</td>\n",
       "      <td>0.000000</td>\n",
       "      <td>0.992306</td>\n",
       "      <td>0.000000</td>\n",
       "    </tr>\n",
       "    <tr>\n",
       "      <th>401</th>\n",
       "      <td>10Apr2008Rockefeller5.txt</td>\n",
       "      <td>[(0, 0.244690981848), (9, 0.743358445234)]</td>\n",
       "      <td>0.244691</td>\n",
       "      <td>0.000000</td>\n",
       "      <td>0.000000</td>\n",
       "      <td>0.000000</td>\n",
       "      <td>0.000000</td>\n",
       "      <td>0.000000</td>\n",
       "      <td>0.000000</td>\n",
       "      <td>0.000000</td>\n",
       "      <td>0.000000</td>\n",
       "      <td>0.743358</td>\n",
       "    </tr>\n",
       "    <tr>\n",
       "      <th>501</th>\n",
       "      <td>10Jan2007Murkowski97.txt</td>\n",
       "      <td>[(9, 0.995106521862)]</td>\n",
       "      <td>0.000000</td>\n",
       "      <td>0.000000</td>\n",
       "      <td>0.000000</td>\n",
       "      <td>0.000000</td>\n",
       "      <td>0.000000</td>\n",
       "      <td>0.000000</td>\n",
       "      <td>0.000000</td>\n",
       "      <td>0.000000</td>\n",
       "      <td>0.000000</td>\n",
       "      <td>0.995107</td>\n",
       "    </tr>\n",
       "    <tr>\n",
       "      <th>601</th>\n",
       "      <td>01Aug2006McCain71.txt</td>\n",
       "      <td>[(2, 0.163778497762), (4, 0.770133138379), (9,...</td>\n",
       "      <td>0.000000</td>\n",
       "      <td>0.000000</td>\n",
       "      <td>0.163778</td>\n",
       "      <td>0.000000</td>\n",
       "      <td>0.770133</td>\n",
       "      <td>0.000000</td>\n",
       "      <td>0.000000</td>\n",
       "      <td>0.000000</td>\n",
       "      <td>0.000000</td>\n",
       "      <td>0.061293</td>\n",
       "    </tr>\n",
       "    <tr>\n",
       "      <th>701</th>\n",
       "      <td>10Aug2007Kyl74.txt</td>\n",
       "      <td>[(2, 0.985480398603)]</td>\n",
       "      <td>0.000000</td>\n",
       "      <td>0.000000</td>\n",
       "      <td>0.985480</td>\n",
       "      <td>0.000000</td>\n",
       "      <td>0.000000</td>\n",
       "      <td>0.000000</td>\n",
       "      <td>0.000000</td>\n",
       "      <td>0.000000</td>\n",
       "      <td>0.000000</td>\n",
       "      <td>0.000000</td>\n",
       "    </tr>\n",
       "    <tr>\n",
       "      <th>801</th>\n",
       "      <td>10Jan2007Baucus62.txt</td>\n",
       "      <td>[(1, 0.0225729703945), (2, 0.0501522274829), (...</td>\n",
       "      <td>0.000000</td>\n",
       "      <td>0.022573</td>\n",
       "      <td>0.050152</td>\n",
       "      <td>0.245580</td>\n",
       "      <td>0.110369</td>\n",
       "      <td>0.000000</td>\n",
       "      <td>0.484687</td>\n",
       "      <td>0.000000</td>\n",
       "      <td>0.086250</td>\n",
       "      <td>0.000000</td>\n",
       "    </tr>\n",
       "    <tr>\n",
       "      <th>901</th>\n",
       "      <td>10Aug2004Frist346.txt</td>\n",
       "      <td>[(5, 0.334708250028), (7, 0.647896272484)]</td>\n",
       "      <td>0.000000</td>\n",
       "      <td>0.000000</td>\n",
       "      <td>0.000000</td>\n",
       "      <td>0.000000</td>\n",
       "      <td>0.000000</td>\n",
       "      <td>0.334708</td>\n",
       "      <td>0.000000</td>\n",
       "      <td>0.647896</td>\n",
       "      <td>0.000000</td>\n",
       "      <td>0.000000</td>\n",
       "    </tr>\n",
       "  </tbody>\n",
       "</table>\n",
       "</div>"
      ],
      "text/plain": [
       "                          name  \\\n",
       "1      10Apr2008Voinovich4.txt   \n",
       "101      10Apr2008Obama108.txt   \n",
       "201   10Apr2008Whitehouse2.txt   \n",
       "301      10Apr2006Snowe404.txt   \n",
       "401  10Apr2008Rockefeller5.txt   \n",
       "501   10Jan2007Murkowski97.txt   \n",
       "601      01Aug2006McCain71.txt   \n",
       "701         10Aug2007Kyl74.txt   \n",
       "801      10Jan2007Baucus62.txt   \n",
       "901      10Aug2004Frist346.txt   \n",
       "\n",
       "                                                topics   topic_0   topic_1  \\\n",
       "1                                [(3, 0.996738321383)]  0.000000  0.000000   \n",
       "101  [(0, 0.582063006975), (2, 0.128118285674), (9,...  0.582063  0.000000   \n",
       "201        [(3, 0.968251317182), (4, 0.0269569659092)]  0.000000  0.000000   \n",
       "301                              [(8, 0.992305803829)]  0.000000  0.000000   \n",
       "401         [(0, 0.244690981848), (9, 0.743358445234)]  0.244691  0.000000   \n",
       "501                              [(9, 0.995106521862)]  0.000000  0.000000   \n",
       "601  [(2, 0.163778497762), (4, 0.770133138379), (9,...  0.000000  0.000000   \n",
       "701                              [(2, 0.985480398603)]  0.000000  0.000000   \n",
       "801  [(1, 0.0225729703945), (2, 0.0501522274829), (...  0.000000  0.022573   \n",
       "901         [(5, 0.334708250028), (7, 0.647896272484)]  0.000000  0.000000   \n",
       "\n",
       "      topic_2   topic_3   topic_4   topic_5   topic_6   topic_7   topic_8  \\\n",
       "1    0.000000  0.996738  0.000000  0.000000  0.000000  0.000000  0.000000   \n",
       "101  0.128118  0.000000  0.000000  0.000000  0.000000  0.000000  0.000000   \n",
       "201  0.000000  0.968251  0.026957  0.000000  0.000000  0.000000  0.000000   \n",
       "301  0.000000  0.000000  0.000000  0.000000  0.000000  0.000000  0.992306   \n",
       "401  0.000000  0.000000  0.000000  0.000000  0.000000  0.000000  0.000000   \n",
       "501  0.000000  0.000000  0.000000  0.000000  0.000000  0.000000  0.000000   \n",
       "601  0.163778  0.000000  0.770133  0.000000  0.000000  0.000000  0.000000   \n",
       "701  0.985480  0.000000  0.000000  0.000000  0.000000  0.000000  0.000000   \n",
       "801  0.050152  0.245580  0.110369  0.000000  0.484687  0.000000  0.086250   \n",
       "901  0.000000  0.000000  0.000000  0.334708  0.000000  0.647896  0.000000   \n",
       "\n",
       "      topic_9  \n",
       "1    0.000000  \n",
       "101  0.286469  \n",
       "201  0.000000  \n",
       "301  0.000000  \n",
       "401  0.743358  \n",
       "501  0.995107  \n",
       "601  0.061293  \n",
       "701  0.000000  \n",
       "801  0.000000  \n",
       "901  0.000000  "
      ]
     },
     "execution_count": 44,
     "metadata": {},
     "output_type": "execute_result"
    }
   ],
   "source": [
    "#Dict to temporally hold the probabilities\n",
    "topicsProbDict = {i : [0] * len(ldaDF) for i in range(senlda.num_topics)}\n",
    "\n",
    "#Load them into the dict\n",
    "for index, topicTuples in enumerate(ldaDF['topics']):\n",
    "    for topicNum, prob in topicTuples:\n",
    "        topicsProbDict[topicNum][index] = prob\n",
    "\n",
    "#Update the DataFrame\n",
    "for topicNum in range(senlda.num_topics):\n",
    "    ldaDF['topic_{}'.format(topicNum)] = topicsProbDict[topicNum]\n",
    "\n",
    "ldaDF[1::100]"
   ]
  },
  {
   "cell_type": "markdown",
   "metadata": {},
   "source": [
    "We can also look at the top words from each topic to get a sense of what each is. So to look at the top terms in topic `1` we can"
   ]
  },
  {
   "cell_type": "code",
   "execution_count": 45,
   "metadata": {},
   "outputs": [
    {
     "data": {
      "text/plain": [
       "[('senat', 0.011666787252413257),\n",
       " ('state', 0.0057848717800155804),\n",
       " ('nation', 0.0052299618025276511),\n",
       " ('said', 0.0052095084118345064),\n",
       " ('rockefel', 0.0050404979687316111),\n",
       " ('need', 0.004937794559032151),\n",
       " ('bill', 0.0048013658195525041),\n",
       " ('would', 0.0046955361024052164),\n",
       " ('provid', 0.004548939075065722),\n",
       " ('feder', 0.00441473977644648)]"
      ]
     },
     "execution_count": 45,
     "metadata": {},
     "output_type": "execute_result"
    }
   ],
   "source": [
    "senlda.show_topic(1)"
   ]
  },
  {
   "cell_type": "markdown",
   "metadata": {},
   "source": [
    "And if we want to make a dataFrame"
   ]
  },
  {
   "cell_type": "code",
   "execution_count": 46,
   "metadata": {},
   "outputs": [
    {
     "data": {
      "text/html": [
       "<div>\n",
       "<table border=\"1\" class=\"dataframe\">\n",
       "  <thead>\n",
       "    <tr style=\"text-align: right;\">\n",
       "      <th></th>\n",
       "      <th>Topic_0</th>\n",
       "      <th>Topic_1</th>\n",
       "      <th>Topic_2</th>\n",
       "      <th>Topic_3</th>\n",
       "      <th>Topic_4</th>\n",
       "      <th>Topic_5</th>\n",
       "      <th>Topic_6</th>\n",
       "      <th>Topic_7</th>\n",
       "      <th>Topic_8</th>\n",
       "      <th>Topic_9</th>\n",
       "    </tr>\n",
       "  </thead>\n",
       "  <tbody>\n",
       "    <tr>\n",
       "      <th>0</th>\n",
       "      <td>senat</td>\n",
       "      <td>senat</td>\n",
       "      <td>senat</td>\n",
       "      <td>senat</td>\n",
       "      <td>senat</td>\n",
       "      <td>senat</td>\n",
       "      <td>senat</td>\n",
       "      <td>senat</td>\n",
       "      <td>senat</td>\n",
       "      <td>senat</td>\n",
       "    </tr>\n",
       "    <tr>\n",
       "      <th>1</th>\n",
       "      <td>program</td>\n",
       "      <td>state</td>\n",
       "      <td>health</td>\n",
       "      <td>state</td>\n",
       "      <td>tax</td>\n",
       "      <td>state</td>\n",
       "      <td>state</td>\n",
       "      <td>state</td>\n",
       "      <td>bill</td>\n",
       "      <td>bill</td>\n",
       "    </tr>\n",
       "    <tr>\n",
       "      <th>2</th>\n",
       "      <td>bill</td>\n",
       "      <td>nation</td>\n",
       "      <td>said</td>\n",
       "      <td>program</td>\n",
       "      <td>bill</td>\n",
       "      <td>today</td>\n",
       "      <td>would</td>\n",
       "      <td>would</td>\n",
       "      <td>state</td>\n",
       "      <td>state</td>\n",
       "    </tr>\n",
       "    <tr>\n",
       "      <th>3</th>\n",
       "      <td>year</td>\n",
       "      <td>said</td>\n",
       "      <td>today</td>\n",
       "      <td>said</td>\n",
       "      <td>state</td>\n",
       "      <td>nation</td>\n",
       "      <td>said</td>\n",
       "      <td>today</td>\n",
       "      <td>would</td>\n",
       "      <td>would</td>\n",
       "    </tr>\n",
       "    <tr>\n",
       "      <th>4</th>\n",
       "      <td>said</td>\n",
       "      <td>rockefel</td>\n",
       "      <td>year</td>\n",
       "      <td>work</td>\n",
       "      <td>would</td>\n",
       "      <td>health</td>\n",
       "      <td>z</td>\n",
       "      <td>nation</td>\n",
       "      <td>year</td>\n",
       "      <td>nation</td>\n",
       "    </tr>\n",
       "    <tr>\n",
       "      <th>5</th>\n",
       "      <td>help</td>\n",
       "      <td>need</td>\n",
       "      <td>would</td>\n",
       "      <td>bill</td>\n",
       "      <td>nation</td>\n",
       "      <td>bill</td>\n",
       "      <td>bill</td>\n",
       "      <td>tax</td>\n",
       "      <td>nation</td>\n",
       "      <td>provid</td>\n",
       "    </tr>\n",
       "    <tr>\n",
       "      <th>6</th>\n",
       "      <td>state</td>\n",
       "      <td>bill</td>\n",
       "      <td>bill</td>\n",
       "      <td>year</td>\n",
       "      <td>fund</td>\n",
       "      <td>act</td>\n",
       "      <td>k</td>\n",
       "      <td>said</td>\n",
       "      <td>provid</td>\n",
       "      <td>fund</td>\n",
       "    </tr>\n",
       "    <tr>\n",
       "      <th>7</th>\n",
       "      <td>fund</td>\n",
       "      <td>would</td>\n",
       "      <td>care</td>\n",
       "      <td>legisl</td>\n",
       "      <td>presid</td>\n",
       "      <td>provid</td>\n",
       "      <td>baucus</td>\n",
       "      <td>bill</td>\n",
       "      <td>baucus</td>\n",
       "      <td>act</td>\n",
       "    </tr>\n",
       "    <tr>\n",
       "      <th>8</th>\n",
       "      <td>nation</td>\n",
       "      <td>provid</td>\n",
       "      <td>committe</td>\n",
       "      <td>health</td>\n",
       "      <td>today</td>\n",
       "      <td>would</td>\n",
       "      <td>provid</td>\n",
       "      <td>baucus</td>\n",
       "      <td>help</td>\n",
       "      <td>year</td>\n",
       "    </tr>\n",
       "    <tr>\n",
       "      <th>9</th>\n",
       "      <td>tax</td>\n",
       "      <td>feder</td>\n",
       "      <td>program</td>\n",
       "      <td>nation</td>\n",
       "      <td>baucus</td>\n",
       "      <td>year</td>\n",
       "      <td>servic</td>\n",
       "      <td>help</td>\n",
       "      <td>presid</td>\n",
       "      <td>american</td>\n",
       "    </tr>\n",
       "  </tbody>\n",
       "</table>\n",
       "</div>"
      ],
      "text/plain": [
       "   Topic_0   Topic_1   Topic_2  Topic_3 Topic_4 Topic_5 Topic_6 Topic_7  \\\n",
       "0    senat     senat     senat    senat   senat   senat   senat   senat   \n",
       "1  program     state    health    state     tax   state   state   state   \n",
       "2     bill    nation      said  program    bill   today   would   would   \n",
       "3     year      said     today     said   state  nation    said   today   \n",
       "4     said  rockefel      year     work   would  health       z  nation   \n",
       "5     help      need     would     bill  nation    bill    bill     tax   \n",
       "6    state      bill      bill     year    fund     act       k    said   \n",
       "7     fund     would      care   legisl  presid  provid  baucus    bill   \n",
       "8   nation    provid  committe   health   today   would  provid  baucus   \n",
       "9      tax     feder   program   nation  baucus    year  servic    help   \n",
       "\n",
       "  Topic_8   Topic_9  \n",
       "0   senat     senat  \n",
       "1    bill      bill  \n",
       "2   state     state  \n",
       "3   would     would  \n",
       "4    year    nation  \n",
       "5  nation    provid  \n",
       "6  provid      fund  \n",
       "7  baucus       act  \n",
       "8    help      year  \n",
       "9  presid  american  "
      ]
     },
     "execution_count": 46,
     "metadata": {},
     "output_type": "execute_result"
    }
   ],
   "source": [
    "topicsDict = {}\n",
    "for topicNum in range(senlda.num_topics):\n",
    "    topicWords = [w for w, p in senlda.show_topic(topicNum)]\n",
    "    topicsDict['Topic_{}'.format(topicNum)] = topicWords\n",
    "\n",
    "wordRanksDF = pandas.DataFrame(topicsDict)\n",
    "wordRanksDF"
   ]
  },
  {
   "cell_type": "markdown",
   "metadata": {},
   "source": [
    "We can see that most of the topics have the same top words, there are definitely differences. We can try and make the topics more distinct by changing parameters of the model"
   ]
  }
 ],
 "metadata": {},
 "nbformat": 4,
 "nbformat_minor": 0
}
