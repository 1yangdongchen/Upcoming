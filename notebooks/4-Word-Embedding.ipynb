{
 "cells": [
  {
   "cell_type": "markdown",
   "metadata": {},
   "source": [
    "# Layout\n",
    "\n",
    "+ Intro algebra\n",
    "    + news\n",
    "    + physics\n",
    "+ doc2vec\n",
    "    + press releases\n",
    "+ score function\n",
    "    + gensim\n",
    "+ dimensions example, e.g. he-she"
   ]
  },
  {
   "cell_type": "code",
   "execution_count": 1,
   "metadata": {},
   "outputs": [],
   "source": [
    "#All these packages need to be installed from pip\n",
    "import gensim#For word2vec, etc\n",
    "import requests #For downloading our datasets\n",
    "import nltk #For stop words and stemmers\n",
    "import numpy as np #For arrays\n",
    "import pandas #Gives us DataFrames\n",
    "import matplotlib.pyplot as plt #For graphics\n",
    "import seaborn #Makes the graphics look nicer\n",
    "\n",
    "#This 'magic' command makes the plots work better\n",
    "#in the notebook, don't use it outside of a notebook.\n",
    "#Also you can ignore the warning\n",
    "%matplotlib inline\n",
    "\n",
    "import os #For looking through files\n",
    "import os.path #For managing file paths\n"
   ]
  },
  {
   "cell_type": "markdown",
   "metadata": {},
   "source": [
    "# Intro\n",
    "\n",
    "intro stuff ...\n",
    "\n",
    "# Getting our corpuses\n",
    "\n",
    "Instead of downloading our corpora, we have download them ahead of time, a subset of the [senate press releases](https://github.com/lintool/GrimmerSenatePressReleases) are in `data/grimmerPressReleases`. So we will load them into a DataFrame, to do this first we need to define a function to convert directories of text files into DataFrames."
   ]
  },
  {
   "cell_type": "code",
   "execution_count": 2,
   "metadata": {},
   "outputs": [],
   "source": [
    "def loadDir(targetDir, category):\n",
    "    allFileNames = os.listdir(targetDir)\n",
    "    #We need to make them into useable paths and filter out hidden files\n",
    "    filePaths = [os.path.join(targetDir, fname) for fname in allFileNames if fname[0] != '.']\n",
    "\n",
    "    #The dict that will become the DataFrame\n",
    "    senDict = {\n",
    "        'category' : [category] * len(filePaths),\n",
    "        'filePath' : [],\n",
    "        'text' : [],\n",
    "    }\n",
    "\n",
    "    for fPath in filePaths:\n",
    "        with open(fPath) as f:\n",
    "            senDict['text'].append(f.read())\n",
    "            senDict['filePath'].append(fPath)\n",
    "\n",
    "    return pandas.DataFrame(senDict)"
   ]
  },
  {
   "cell_type": "markdown",
   "metadata": {},
   "source": [
    "Now we can use the function in all the directories in `data/grimmerPressReleases`"
   ]
  },
  {
   "cell_type": "code",
   "execution_count": 3,
   "metadata": {},
   "outputs": [
    {
     "data": {
      "text/html": [
       "<div>\n",
       "<table border=\"1\" class=\"dataframe\">\n",
       "  <thead>\n",
       "    <tr style=\"text-align: right;\">\n",
       "      <th></th>\n",
       "      <th>category</th>\n",
       "      <th>filePath</th>\n",
       "      <th>text</th>\n",
       "    </tr>\n",
       "  </thead>\n",
       "  <tbody>\n",
       "    <tr>\n",
       "      <th>0</th>\n",
       "      <td>Kennedy</td>\n",
       "      <td>data/grimmerPressReleases/Kennedy/01Apr2005Ken...</td>\n",
       "      <td>FOR IMMEDIATE RELEASE   FOR IMMEDIATE...</td>\n",
       "    </tr>\n",
       "    <tr>\n",
       "      <th>10</th>\n",
       "      <td>Kennedy</td>\n",
       "      <td>data/grimmerPressReleases/Kennedy/01Dec2005Ken...</td>\n",
       "      <td>FOR IMMEDIATE RELEASE     Washington ...</td>\n",
       "    </tr>\n",
       "    <tr>\n",
       "      <th>20</th>\n",
       "      <td>Kennedy</td>\n",
       "      <td>data/grimmerPressReleases/Kennedy/01Feb2006Ken...</td>\n",
       "      <td>FOR IMMEDIATE RELEASE      Fact sheet...</td>\n",
       "    </tr>\n",
       "    <tr>\n",
       "      <th>30</th>\n",
       "      <td>Kennedy</td>\n",
       "      <td>data/grimmerPressReleases/Kennedy/01Feb2007Ken...</td>\n",
       "      <td>FOR IMMEDIATE RELEASE     Washington ...</td>\n",
       "    </tr>\n",
       "    <tr>\n",
       "      <th>40</th>\n",
       "      <td>Kennedy</td>\n",
       "      <td>data/grimmerPressReleases/Kennedy/01Jun2007Ken...</td>\n",
       "      <td>FOR IMMEDIATE RELEASE  BOSTON  MA  Se...</td>\n",
       "    </tr>\n",
       "    <tr>\n",
       "      <th>50</th>\n",
       "      <td>Kennedy</td>\n",
       "      <td>data/grimmerPressReleases/Kennedy/01Mar2007Ken...</td>\n",
       "      <td>FOR IMMEDIATE RELEASE     Washington ...</td>\n",
       "    </tr>\n",
       "    <tr>\n",
       "      <th>60</th>\n",
       "      <td>Kennedy</td>\n",
       "      <td>data/grimmerPressReleases/Kennedy/01May2007Ken...</td>\n",
       "      <td>FOR IMMEDIATE RELEASE  The President ...</td>\n",
       "    </tr>\n",
       "    <tr>\n",
       "      <th>70</th>\n",
       "      <td>Kennedy</td>\n",
       "      <td>data/grimmerPressReleases/Kennedy/01Nov2007Ken...</td>\n",
       "      <td>FOR IMMEDIATE RELEASE  Washington  DC...</td>\n",
       "    </tr>\n",
       "    <tr>\n",
       "      <th>80</th>\n",
       "      <td>Kennedy</td>\n",
       "      <td>data/grimmerPressReleases/Kennedy/02Aug2006Ken...</td>\n",
       "      <td>FOR IMMEDIATE RELEASE  FOR IMMEDIATE ...</td>\n",
       "    </tr>\n",
       "    <tr>\n",
       "      <th>90</th>\n",
       "      <td>Kennedy</td>\n",
       "      <td>data/grimmerPressReleases/Kennedy/02Feb2005Ken...</td>\n",
       "      <td>FOR IMMEDIATE RELEASE     The Preside...</td>\n",
       "    </tr>\n",
       "  </tbody>\n",
       "</table>\n",
       "</div>"
      ],
      "text/plain": [
       "   category                                           filePath  \\\n",
       "0   Kennedy  data/grimmerPressReleases/Kennedy/01Apr2005Ken...   \n",
       "10  Kennedy  data/grimmerPressReleases/Kennedy/01Dec2005Ken...   \n",
       "20  Kennedy  data/grimmerPressReleases/Kennedy/01Feb2006Ken...   \n",
       "30  Kennedy  data/grimmerPressReleases/Kennedy/01Feb2007Ken...   \n",
       "40  Kennedy  data/grimmerPressReleases/Kennedy/01Jun2007Ken...   \n",
       "50  Kennedy  data/grimmerPressReleases/Kennedy/01Mar2007Ken...   \n",
       "60  Kennedy  data/grimmerPressReleases/Kennedy/01May2007Ken...   \n",
       "70  Kennedy  data/grimmerPressReleases/Kennedy/01Nov2007Ken...   \n",
       "80  Kennedy  data/grimmerPressReleases/Kennedy/02Aug2006Ken...   \n",
       "90  Kennedy  data/grimmerPressReleases/Kennedy/02Feb2005Ken...   \n",
       "\n",
       "                                                 text  \n",
       "0            FOR IMMEDIATE RELEASE   FOR IMMEDIATE...  \n",
       "10           FOR IMMEDIATE RELEASE     Washington ...  \n",
       "20           FOR IMMEDIATE RELEASE      Fact sheet...  \n",
       "30           FOR IMMEDIATE RELEASE     Washington ...  \n",
       "40           FOR IMMEDIATE RELEASE  BOSTON  MA  Se...  \n",
       "50           FOR IMMEDIATE RELEASE     Washington ...  \n",
       "60           FOR IMMEDIATE RELEASE  The President ...  \n",
       "70           FOR IMMEDIATE RELEASE  Washington  DC...  \n",
       "80           FOR IMMEDIATE RELEASE  FOR IMMEDIATE ...  \n",
       "90           FOR IMMEDIATE RELEASE     The Preside...  "
      ]
     },
     "execution_count": 3,
     "metadata": {},
     "output_type": "execute_result"
    }
   ],
   "source": [
    "dataDir = 'data/grimmerPressReleases'\n",
    "\n",
    "senReleasesDF = pandas.DataFrame()\n",
    "\n",
    "for senatorName in [d for d in os.listdir(dataDir) if d[0] != '.']:\n",
    "    senPath = os.path.join(dataDir, senatorName)\n",
    "    senReleasesDF = senReleasesDF.append(loadDir(senPath, senatorName), ignore_index = True)\n",
    "\n",
    "senReleasesDF[:100:10]"
   ]
  },
  {
   "cell_type": "markdown",
   "metadata": {},
   "source": [
    "# Stemming is taking a really long time do to the size of the dataset, so it's been disabled for now\n",
    "\n",
    "We also want to remove stop words and stem, but tokenizing requires two steps. Word2Vec wants to know the sentence structure as well as simply the words, so the tokenizing is slightly different this time."
   ]
  },
  {
   "cell_type": "code",
   "execution_count": 4,
   "metadata": {},
   "outputs": [
    {
     "data": {
      "text/html": [
       "<div>\n",
       "<table border=\"1\" class=\"dataframe\">\n",
       "  <thead>\n",
       "    <tr style=\"text-align: right;\">\n",
       "      <th></th>\n",
       "      <th>category</th>\n",
       "      <th>filePath</th>\n",
       "      <th>text</th>\n",
       "      <th>tokenized_sents</th>\n",
       "      <th>normalized_sents</th>\n",
       "    </tr>\n",
       "  </thead>\n",
       "  <tbody>\n",
       "    <tr>\n",
       "      <th>0</th>\n",
       "      <td>Kennedy</td>\n",
       "      <td>data/grimmerPressReleases/Kennedy/01Apr2005Ken...</td>\n",
       "      <td>FOR IMMEDIATE RELEASE   FOR IMMEDIATE...</td>\n",
       "      <td>[[FOR, IMMEDIATE, RELEASE, FOR, IMMEDIATE, REL...</td>\n",
       "      <td>[[immediate, release, immediate, release, cont...</td>\n",
       "    </tr>\n",
       "    <tr>\n",
       "      <th>10</th>\n",
       "      <td>Kennedy</td>\n",
       "      <td>data/grimmerPressReleases/Kennedy/01Dec2005Ken...</td>\n",
       "      <td>FOR IMMEDIATE RELEASE     Washington ...</td>\n",
       "      <td>[[FOR, IMMEDIATE, RELEASE, Washington, D, C, T...</td>\n",
       "      <td>[[immediate, release, washington, c, today, se...</td>\n",
       "    </tr>\n",
       "    <tr>\n",
       "      <th>20</th>\n",
       "      <td>Kennedy</td>\n",
       "      <td>data/grimmerPressReleases/Kennedy/01Feb2006Ken...</td>\n",
       "      <td>FOR IMMEDIATE RELEASE      Fact sheet...</td>\n",
       "      <td>[[FOR, IMMEDIATE, RELEASE, Fact, sheets, on, B...</td>\n",
       "      <td>[[immediate, release, fact, sheets, bush, plan...</td>\n",
       "    </tr>\n",
       "    <tr>\n",
       "      <th>30</th>\n",
       "      <td>Kennedy</td>\n",
       "      <td>data/grimmerPressReleases/Kennedy/01Feb2007Ken...</td>\n",
       "      <td>FOR IMMEDIATE RELEASE     Washington ...</td>\n",
       "      <td>[[FOR, IMMEDIATE, RELEASE, Washington, D, C, T...</td>\n",
       "      <td>[[immediate, release, washington, c, today, u,...</td>\n",
       "    </tr>\n",
       "    <tr>\n",
       "      <th>40</th>\n",
       "      <td>Kennedy</td>\n",
       "      <td>data/grimmerPressReleases/Kennedy/01Jun2007Ken...</td>\n",
       "      <td>FOR IMMEDIATE RELEASE  BOSTON  MA  Se...</td>\n",
       "      <td>[[FOR, IMMEDIATE, RELEASE, BOSTON, MA, Senator...</td>\n",
       "      <td>[[immediate, release, boston, senator, edward,...</td>\n",
       "    </tr>\n",
       "    <tr>\n",
       "      <th>50</th>\n",
       "      <td>Kennedy</td>\n",
       "      <td>data/grimmerPressReleases/Kennedy/01Mar2007Ken...</td>\n",
       "      <td>FOR IMMEDIATE RELEASE     Washington ...</td>\n",
       "      <td>[[FOR, IMMEDIATE, RELEASE, Washington, DC, Tod...</td>\n",
       "      <td>[[immediate, release, washington, dc, today, s...</td>\n",
       "    </tr>\n",
       "    <tr>\n",
       "      <th>60</th>\n",
       "      <td>Kennedy</td>\n",
       "      <td>data/grimmerPressReleases/Kennedy/01May2007Ken...</td>\n",
       "      <td>FOR IMMEDIATE RELEASE  The President ...</td>\n",
       "      <td>[[FOR, IMMEDIATE, RELEASE, The, President, is,...</td>\n",
       "      <td>[[immediate, release, president, wrong, veto, ...</td>\n",
       "    </tr>\n",
       "    <tr>\n",
       "      <th>70</th>\n",
       "      <td>Kennedy</td>\n",
       "      <td>data/grimmerPressReleases/Kennedy/01Nov2007Ken...</td>\n",
       "      <td>FOR IMMEDIATE RELEASE  Washington  DC...</td>\n",
       "      <td>[[FOR, IMMEDIATE, RELEASE, Washington, DC, Sen...</td>\n",
       "      <td>[[immediate, release, washington, dc, senators...</td>\n",
       "    </tr>\n",
       "    <tr>\n",
       "      <th>80</th>\n",
       "      <td>Kennedy</td>\n",
       "      <td>data/grimmerPressReleases/Kennedy/02Aug2006Ken...</td>\n",
       "      <td>FOR IMMEDIATE RELEASE  FOR IMMEDIATE ...</td>\n",
       "      <td>[[FOR, IMMEDIATE, RELEASE, FOR, IMMEDIATE, REL...</td>\n",
       "      <td>[[immediate, release, immediate, release, impo...</td>\n",
       "    </tr>\n",
       "    <tr>\n",
       "      <th>90</th>\n",
       "      <td>Kennedy</td>\n",
       "      <td>data/grimmerPressReleases/Kennedy/02Feb2005Ken...</td>\n",
       "      <td>FOR IMMEDIATE RELEASE     The Preside...</td>\n",
       "      <td>[[FOR, IMMEDIATE, RELEASE, The, President, gav...</td>\n",
       "      <td>[[immediate, release, president, gave, effecti...</td>\n",
       "    </tr>\n",
       "  </tbody>\n",
       "</table>\n",
       "</div>"
      ],
      "text/plain": [
       "   category                                           filePath  \\\n",
       "0   Kennedy  data/grimmerPressReleases/Kennedy/01Apr2005Ken...   \n",
       "10  Kennedy  data/grimmerPressReleases/Kennedy/01Dec2005Ken...   \n",
       "20  Kennedy  data/grimmerPressReleases/Kennedy/01Feb2006Ken...   \n",
       "30  Kennedy  data/grimmerPressReleases/Kennedy/01Feb2007Ken...   \n",
       "40  Kennedy  data/grimmerPressReleases/Kennedy/01Jun2007Ken...   \n",
       "50  Kennedy  data/grimmerPressReleases/Kennedy/01Mar2007Ken...   \n",
       "60  Kennedy  data/grimmerPressReleases/Kennedy/01May2007Ken...   \n",
       "70  Kennedy  data/grimmerPressReleases/Kennedy/01Nov2007Ken...   \n",
       "80  Kennedy  data/grimmerPressReleases/Kennedy/02Aug2006Ken...   \n",
       "90  Kennedy  data/grimmerPressReleases/Kennedy/02Feb2005Ken...   \n",
       "\n",
       "                                                 text  \\\n",
       "0            FOR IMMEDIATE RELEASE   FOR IMMEDIATE...   \n",
       "10           FOR IMMEDIATE RELEASE     Washington ...   \n",
       "20           FOR IMMEDIATE RELEASE      Fact sheet...   \n",
       "30           FOR IMMEDIATE RELEASE     Washington ...   \n",
       "40           FOR IMMEDIATE RELEASE  BOSTON  MA  Se...   \n",
       "50           FOR IMMEDIATE RELEASE     Washington ...   \n",
       "60           FOR IMMEDIATE RELEASE  The President ...   \n",
       "70           FOR IMMEDIATE RELEASE  Washington  DC...   \n",
       "80           FOR IMMEDIATE RELEASE  FOR IMMEDIATE ...   \n",
       "90           FOR IMMEDIATE RELEASE     The Preside...   \n",
       "\n",
       "                                      tokenized_sents  \\\n",
       "0   [[FOR, IMMEDIATE, RELEASE, FOR, IMMEDIATE, REL...   \n",
       "10  [[FOR, IMMEDIATE, RELEASE, Washington, D, C, T...   \n",
       "20  [[FOR, IMMEDIATE, RELEASE, Fact, sheets, on, B...   \n",
       "30  [[FOR, IMMEDIATE, RELEASE, Washington, D, C, T...   \n",
       "40  [[FOR, IMMEDIATE, RELEASE, BOSTON, MA, Senator...   \n",
       "50  [[FOR, IMMEDIATE, RELEASE, Washington, DC, Tod...   \n",
       "60  [[FOR, IMMEDIATE, RELEASE, The, President, is,...   \n",
       "70  [[FOR, IMMEDIATE, RELEASE, Washington, DC, Sen...   \n",
       "80  [[FOR, IMMEDIATE, RELEASE, FOR, IMMEDIATE, REL...   \n",
       "90  [[FOR, IMMEDIATE, RELEASE, The, President, gav...   \n",
       "\n",
       "                                     normalized_sents  \n",
       "0   [[immediate, release, immediate, release, cont...  \n",
       "10  [[immediate, release, washington, c, today, se...  \n",
       "20  [[immediate, release, fact, sheets, bush, plan...  \n",
       "30  [[immediate, release, washington, c, today, u,...  \n",
       "40  [[immediate, release, boston, senator, edward,...  \n",
       "50  [[immediate, release, washington, dc, today, s...  \n",
       "60  [[immediate, release, president, wrong, veto, ...  \n",
       "70  [[immediate, release, washington, dc, senators...  \n",
       "80  [[immediate, release, immediate, release, impo...  \n",
       "90  [[immediate, release, president, gave, effecti...  "
      ]
     },
     "execution_count": 4,
     "metadata": {},
     "output_type": "execute_result"
    }
   ],
   "source": [
    "#Define the same function as last week\n",
    "def normlizeTokens(tokenLst, stopwordLst = None, stemmer = None, lemmer = None):\n",
    "    #We can use a generator here as we just need to iterate over it\n",
    "\n",
    "    #Lowering the case and removing non-words\n",
    "    workingIter = (w.lower() for w in tokenLst if w.isalpha())\n",
    "\n",
    "    #Now we can use the semmer, if provided\n",
    "    if stemmer is not None:\n",
    "        workingIter = (stemmer.stem(w) for w in workingIter)\n",
    "\n",
    "    #And the lemmer\n",
    "    if lemmer is not None:\n",
    "        workingIter = (lemmer.lemmatize(w) for w in workingIter)\n",
    "\n",
    "    #And remove the stopwords\n",
    "    if stopwordLst is not None:\n",
    "        workingIter = (w for w in workingIter if w not in stopwordLst)\n",
    "    #We will return a list with the stopwords removed\n",
    "    return list(workingIter)\n",
    "\n",
    "#initialize our stemmer and our stop words\n",
    "stop_words_nltk = nltk.corpus.stopwords.words('english')\n",
    "snowball = nltk.stem.snowball.SnowballStemmer('english')\n",
    "\n",
    "#Apply our functions, notice each row is a list of lists now\n",
    "senReleasesDF['tokenized_sents'] = senReleasesDF['text'].apply(lambda x: [nltk.word_tokenize(s) for s in nltk.sent_tokenize(x)])\n",
    "senReleasesDF['normalized_sents'] = senReleasesDF['tokenized_sents'].apply(lambda x: [normlizeTokens(s, stopwordLst = stop_words_nltk, stemmer = None) for s in x])\n",
    "\n",
    "senReleasesDF[:100:10]"
   ]
  },
  {
   "cell_type": "markdown",
   "metadata": {},
   "source": [
    "#Word2Vec\n",
    "\n",
    "We will be using the gensim implementation of [Word2Vec](https://radimrehurek.com/gensim/models/word2vec.html#gensim.models.word2vec.Word2Vec).\n",
    "\n",
    "To load our data our data we give all the sentences to the trainer"
   ]
  },
  {
   "cell_type": "code",
   "execution_count": 5,
   "metadata": {},
   "outputs": [],
   "source": [
    "senReleasesW2V = gensim.models.word2vec.Word2Vec(senReleasesDF['tokenized_sents'].sum())"
   ]
  },
  {
   "cell_type": "markdown",
   "metadata": {},
   "source": [
    "Now we can look at a few things"
   ]
  },
  {
   "cell_type": "code",
   "execution_count": 6,
   "metadata": {},
   "outputs": [
    {
     "data": {
      "text/plain": [
       "[('administration', 0.7568289041519165),\n",
       " ('President', 0.7529541850090027),\n",
       " ('Administration', 0.6696342825889587),\n",
       " ('nominee', 0.6440970301628113),\n",
       " ('himself', 0.6405242681503296),\n",
       " ('memo', 0.6264574527740479),\n",
       " ('he', 0.6256895065307617),\n",
       " ('Cheney', 0.6094998717308044),\n",
       " ('Presidents', 0.608191192150116),\n",
       " ('Pentagon', 0.599648118019104)]"
      ]
     },
     "execution_count": 6,
     "metadata": {},
     "output_type": "execute_result"
    }
   ],
   "source": [
    "senReleasesW2V.most_similar('president')"
   ]
  },
  {
   "cell_type": "markdown",
   "metadata": {},
   "source": [
    "Or find relationships"
   ]
  },
  {
   "cell_type": "code",
   "execution_count": 7,
   "metadata": {},
   "outputs": [
    {
     "data": {
      "text/plain": [
       "[('Chinatown', 0.665317177772522),\n",
       " ('Iron', 0.6631838083267212),\n",
       " ('charity', 0.6588665246963501),\n",
       " ('Pittsfield', 0.6566770076751709),\n",
       " ('Moorhead', 0.6544506549835205)]"
      ]
     },
     "execution_count": 7,
     "metadata": {},
     "output_type": "execute_result"
    }
   ],
   "source": [
    "#Man is to senator as woman is to ...\n",
    "senReleasesW2V.most_similar(positive = ['woman', 'senator'], negative = ['man'], topn = 5)\n",
    "#Chinatown is a noble profession"
   ]
  },
  {
   "cell_type": "markdown",
   "metadata": {},
   "source": [
    "Get the vector"
   ]
  },
  {
   "cell_type": "code",
   "execution_count": 8,
   "metadata": {},
   "outputs": [
    {
     "data": {
      "text/plain": [
       "array([  7.30614588e-02,  -3.45240355e-01,   1.50905538e+00,\n",
       "         6.34938359e-01,   2.52880603e-01,   5.29100418e-01,\n",
       "         1.81260169e+00,  -2.13264036e+00,   8.48588765e-01,\n",
       "         1.53643072e+00,  -9.25825119e-01,  -4.96639758e-01,\n",
       "         1.75919652e+00,  -1.58743358e+00,   1.33599949e+00,\n",
       "        -3.45647216e-01,   1.92963406e-01,  -6.62870556e-02,\n",
       "        -1.02382481e+00,  -1.01510417e+00,  -6.69602990e-01,\n",
       "         6.28593981e-01,  -6.25705183e-01,  -1.03368707e-01,\n",
       "        -3.48943770e-01,   5.96535742e-01,   2.05678850e-01,\n",
       "        -6.94201767e-01,  -5.83823800e-01,  -3.71038020e-01,\n",
       "        -7.93978572e-01,   7.31354952e-01,   3.13704401e-01,\n",
       "        -3.42074871e-01,   5.03109992e-01,  -8.74512315e-01,\n",
       "        -1.61182189e+00,   5.13637960e-01,  -5.60376532e-02,\n",
       "        -9.43049490e-01,   1.02671467e-01,  -1.82064816e-01,\n",
       "         5.87572813e-01,   1.20939672e+00,  -1.27947581e+00,\n",
       "         1.26226830e+00,   2.78864413e-01,   4.58728164e-01,\n",
       "        -1.16603374e+00,   2.18257642e+00,  -1.15078442e-01,\n",
       "         5.49429297e-01,  -9.70458865e-01,  -1.52834475e-01,\n",
       "         1.66983771e+00,  -7.08578050e-01,   2.91849643e-01,\n",
       "         7.59562969e-01,  -5.78666449e-01,   1.47706318e+00,\n",
       "         1.01813734e+00,   7.79087365e-01,   6.59399688e-01,\n",
       "         1.06281467e-01,  -1.28847432e+00,  -1.37789012e-03,\n",
       "         8.39293242e-01,  -1.04009345e-01,   2.11478591e-01,\n",
       "         6.28977194e-02,  -3.33147384e-02,   4.04457510e-01,\n",
       "        -2.46969104e-01,  -7.07081079e-01,   1.68523967e-01,\n",
       "        -4.07267481e-01,   1.05475271e+00,  -1.44849837e+00,\n",
       "         1.15822589e+00,   9.16355848e-01,  -1.82463467e+00,\n",
       "         3.51513326e-01,  -1.32636800e-01,   6.24626838e-02,\n",
       "         3.37971777e-01,   6.47940636e-01,   2.53730536e-01,\n",
       "         4.01330888e-01,   3.46987158e-01,  -8.20247233e-01,\n",
       "         4.28839773e-01,   1.30434126e-01,   1.70480400e-01,\n",
       "         1.55048406e+00,  -6.56247318e-01,  -6.59519807e-02,\n",
       "        -9.96263921e-01,  -1.33852005e+00,  -4.34293598e-01,\n",
       "        -3.59358281e-01], dtype=float32)"
      ]
     },
     "execution_count": 8,
     "metadata": {},
     "output_type": "execute_result"
    }
   ],
   "source": [
    "senReleasesW2V['president']"
   ]
  },
  {
   "cell_type": "markdown",
   "metadata": {},
   "source": [
    "Get all the vectors"
   ]
  },
  {
   "cell_type": "code",
   "execution_count": 9,
   "metadata": {},
   "outputs": [
    {
     "data": {
      "text/plain": [
       "array([[ 0.85325009, -0.37248051, -0.45195943, ..., -1.50720394,\n",
       "        -0.36614648, -0.7876817 ],\n",
       "       [ 2.36519051, -1.41433895,  1.03849816, ..., -0.97026128,\n",
       "         0.23737457, -2.49554253],\n",
       "       [ 0.90348792,  0.21175879, -0.4225637 , ...,  0.48453137,\n",
       "         0.25113538, -0.73218578],\n",
       "       ..., \n",
       "       [-0.08018535, -0.0157751 ,  0.03091644, ...,  0.04544521,\n",
       "         0.00317775,  0.08965429],\n",
       "       [-0.09362413,  0.06673632, -0.04862032, ...,  0.12646115,\n",
       "         0.04953843, -0.01611871],\n",
       "       [ 0.02434441, -0.07023816, -0.03426784, ..., -0.01972212,\n",
       "         0.02808639,  0.0497155 ]], dtype=float32)"
      ]
     },
     "execution_count": 9,
     "metadata": {},
     "output_type": "execute_result"
    }
   ],
   "source": [
    "senReleasesW2V.syn0"
   ]
  },
  {
   "cell_type": "markdown",
   "metadata": {},
   "source": [
    "Find what doesn't fit"
   ]
  },
  {
   "cell_type": "code",
   "execution_count": 10,
   "metadata": {},
   "outputs": [
    {
     "data": {
      "text/plain": [
       "'her'"
      ]
     },
     "execution_count": 10,
     "metadata": {},
     "output_type": "execute_result"
    }
   ],
   "source": [
    "senReleasesW2V.doesnt_match(['she', 'he', 'her', 'him', 'washington'])"
   ]
  },
  {
   "cell_type": "markdown",
   "metadata": {},
   "source": [
    "Or save for use later"
   ]
  },
  {
   "cell_type": "code",
   "execution_count": 11,
   "metadata": {},
   "outputs": [],
   "source": [
    "senReleasesW2V.save(\"data/senpressreleasesWORD2Vec\")"
   ]
  },
  {
   "cell_type": "markdown",
   "metadata": {},
   "source": [
    "# APS abstracts"
   ]
  },
  {
   "cell_type": "code",
   "execution_count": 12,
   "metadata": {},
   "outputs": [],
   "source": [
    "apsDF = pandas.read_csv('data/APSabstracts1950s.csv', index_col = 0)\n",
    "apsDF['tokenized_sents'] = apsDF['abstract'].apply(lambda x: [nltk.word_tokenize(s) for s in nltk.sent_tokenize(x)])\n",
    "apsDF['normalized_sents'] = apsDF['tokenized_sents'].apply(lambda x: [normlizeTokens(s, stopwordLst = stop_words_nltk, stemmer = None) for s in x])\n",
    "\n",
    "apsW2V = gensim.models.word2vec.Word2Vec(apsDF['tokenized_sents'].sum())"
   ]
  }
 ],
 "metadata": {},
 "nbformat": 4,
 "nbformat_minor": 0
}
