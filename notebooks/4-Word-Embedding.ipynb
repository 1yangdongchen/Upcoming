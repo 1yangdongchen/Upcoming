{
 "cells": [
  {
   "cell_type": "markdown",
   "metadata": {},
   "source": [
    "# Week 4 - Word Embeddings\n",
    "\n",
    "This week, we build on last week's topic modeling techniques by taking a text corpus we have developed, specifying an underlying number of dimensions, and training a model with a neural network auto-encoder that best describes corpus words in their local linguistic contexts, and using their locations in that space to evaluate distances between words such that context distances are preserved. Documents here are represented as densely indexed locations in dimensions, rather than sparse mixtures of topics so that distances between them are consistently superior, but harder to communicate. We will explore these spaces to understand complex, semantic relationships between words, index documents with descriptive words, identify the likelihood that a given document would have been produced by a given vector model, and explore how semantic categories can be used to explore discursive culture.\n",
    "\n",
    "For this notebook we will be using the following packages"
   ]
  },
  {
   "cell_type": "code",
   "execution_count": 1,
   "metadata": {
    "collapsed": false
   },
   "outputs": [],
   "source": [
    "#All these packages need to be installed from pip\n",
    "import gensim#For word2vec, etc\n",
    "import requests #For downloading our datasets\n",
    "import nltk #For stop words and stemmers\n",
    "import numpy as np #For arrays\n",
    "import pandas #Gives us DataFrames\n",
    "import matplotlib.pyplot as plt #For graphics\n",
    "import seaborn #Makes the graphics look nicer\n",
    "import sklearn.metrics.pairwise #For cosine similarity\n",
    "import sklearn.manifold #For T-SNE\n",
    "import sklearn.decomposition #For PCA\n",
    "\n",
    "#This 'magic' command makes the plots work better\n",
    "#in the notebook, don't use it outside of a notebook.\n",
    "#Also you can ignore the warning\n",
    "%matplotlib inline\n",
    "\n",
    "import os #For looking through files\n",
    "import os.path #For managing file paths"
   ]
  },
  {
   "cell_type": "markdown",
   "metadata": {},
   "source": [
    "# Intro\n",
    "\n",
    "intro stuff ...\n",
    "\n",
    "# Getting our corpuses\n",
    "\n",
    "Instead of downloading our corpora, we have download them ahead of time, a subset of the [senate press releases](https://github.com/lintool/GrimmerSenatePressReleases) are in `data/grimmerPressReleases`. So we will load them into a DataFrame, to do this first we need to define a function to convert directories of text files into DataFrames."
   ]
  },
  {
   "cell_type": "code",
   "execution_count": 2,
   "metadata": {
    "collapsed": true
   },
   "outputs": [],
   "source": [
    "def loadDir(targetDir, category):\n",
    "    allFileNames = os.listdir(targetDir)\n",
    "    #We need to make them into useable paths and filter out hidden files\n",
    "    filePaths = [os.path.join(targetDir, fname) for fname in allFileNames if fname[0] != '.']\n",
    "\n",
    "    #The dict that will become the DataFrame\n",
    "    senDict = {\n",
    "        'category' : [category] * len(filePaths),\n",
    "        'filePath' : [],\n",
    "        'text' : [],\n",
    "    }\n",
    "\n",
    "    for fPath in filePaths:\n",
    "        with open(fPath) as f:\n",
    "            senDict['text'].append(f.read())\n",
    "            senDict['filePath'].append(fPath)\n",
    "\n",
    "    return pandas.DataFrame(senDict)"
   ]
  },
  {
   "cell_type": "markdown",
   "metadata": {},
   "source": [
    "Now we can use the function in all the directories in `data/grimmerPressReleases`"
   ]
  },
  {
   "cell_type": "code",
   "execution_count": 3,
   "metadata": {
    "collapsed": false
   },
   "outputs": [
    {
     "data": {
      "text/html": [
       "<div>\n",
       "<table border=\"1\" class=\"dataframe\">\n",
       "  <thead>\n",
       "    <tr style=\"text-align: right;\">\n",
       "      <th></th>\n",
       "      <th>category</th>\n",
       "      <th>filePath</th>\n",
       "      <th>text</th>\n",
       "    </tr>\n",
       "  </thead>\n",
       "  <tbody>\n",
       "    <tr>\n",
       "      <th>0</th>\n",
       "      <td>Kennedy</td>\n",
       "      <td>data/grimmerPressReleases/Kennedy/01Apr2005Ken...</td>\n",
       "      <td>FOR IMMEDIATE RELEASE   FOR IMMEDIATE...</td>\n",
       "    </tr>\n",
       "    <tr>\n",
       "      <th>10</th>\n",
       "      <td>Kennedy</td>\n",
       "      <td>data/grimmerPressReleases/Kennedy/01Dec2005Ken...</td>\n",
       "      <td>FOR IMMEDIATE RELEASE     Washington ...</td>\n",
       "    </tr>\n",
       "    <tr>\n",
       "      <th>20</th>\n",
       "      <td>Kennedy</td>\n",
       "      <td>data/grimmerPressReleases/Kennedy/01Feb2006Ken...</td>\n",
       "      <td>FOR IMMEDIATE RELEASE      Fact sheet...</td>\n",
       "    </tr>\n",
       "    <tr>\n",
       "      <th>30</th>\n",
       "      <td>Kennedy</td>\n",
       "      <td>data/grimmerPressReleases/Kennedy/01Feb2007Ken...</td>\n",
       "      <td>FOR IMMEDIATE RELEASE     Washington ...</td>\n",
       "    </tr>\n",
       "    <tr>\n",
       "      <th>40</th>\n",
       "      <td>Kennedy</td>\n",
       "      <td>data/grimmerPressReleases/Kennedy/01Jun2007Ken...</td>\n",
       "      <td>FOR IMMEDIATE RELEASE  BOSTON  MA  Se...</td>\n",
       "    </tr>\n",
       "    <tr>\n",
       "      <th>50</th>\n",
       "      <td>Kennedy</td>\n",
       "      <td>data/grimmerPressReleases/Kennedy/01Mar2007Ken...</td>\n",
       "      <td>FOR IMMEDIATE RELEASE     Washington ...</td>\n",
       "    </tr>\n",
       "    <tr>\n",
       "      <th>60</th>\n",
       "      <td>Kennedy</td>\n",
       "      <td>data/grimmerPressReleases/Kennedy/01May2007Ken...</td>\n",
       "      <td>FOR IMMEDIATE RELEASE  The President ...</td>\n",
       "    </tr>\n",
       "    <tr>\n",
       "      <th>70</th>\n",
       "      <td>Kennedy</td>\n",
       "      <td>data/grimmerPressReleases/Kennedy/01Nov2007Ken...</td>\n",
       "      <td>FOR IMMEDIATE RELEASE  Washington  DC...</td>\n",
       "    </tr>\n",
       "    <tr>\n",
       "      <th>80</th>\n",
       "      <td>Kennedy</td>\n",
       "      <td>data/grimmerPressReleases/Kennedy/02Aug2006Ken...</td>\n",
       "      <td>FOR IMMEDIATE RELEASE  FOR IMMEDIATE ...</td>\n",
       "    </tr>\n",
       "    <tr>\n",
       "      <th>90</th>\n",
       "      <td>Kennedy</td>\n",
       "      <td>data/grimmerPressReleases/Kennedy/02Feb2005Ken...</td>\n",
       "      <td>FOR IMMEDIATE RELEASE     The Preside...</td>\n",
       "    </tr>\n",
       "  </tbody>\n",
       "</table>\n",
       "</div>"
      ],
      "text/plain": [
       "   category                                           filePath  \\\n",
       "0   Kennedy  data/grimmerPressReleases/Kennedy/01Apr2005Ken...   \n",
       "10  Kennedy  data/grimmerPressReleases/Kennedy/01Dec2005Ken...   \n",
       "20  Kennedy  data/grimmerPressReleases/Kennedy/01Feb2006Ken...   \n",
       "30  Kennedy  data/grimmerPressReleases/Kennedy/01Feb2007Ken...   \n",
       "40  Kennedy  data/grimmerPressReleases/Kennedy/01Jun2007Ken...   \n",
       "50  Kennedy  data/grimmerPressReleases/Kennedy/01Mar2007Ken...   \n",
       "60  Kennedy  data/grimmerPressReleases/Kennedy/01May2007Ken...   \n",
       "70  Kennedy  data/grimmerPressReleases/Kennedy/01Nov2007Ken...   \n",
       "80  Kennedy  data/grimmerPressReleases/Kennedy/02Aug2006Ken...   \n",
       "90  Kennedy  data/grimmerPressReleases/Kennedy/02Feb2005Ken...   \n",
       "\n",
       "                                                 text  \n",
       "0            FOR IMMEDIATE RELEASE   FOR IMMEDIATE...  \n",
       "10           FOR IMMEDIATE RELEASE     Washington ...  \n",
       "20           FOR IMMEDIATE RELEASE      Fact sheet...  \n",
       "30           FOR IMMEDIATE RELEASE     Washington ...  \n",
       "40           FOR IMMEDIATE RELEASE  BOSTON  MA  Se...  \n",
       "50           FOR IMMEDIATE RELEASE     Washington ...  \n",
       "60           FOR IMMEDIATE RELEASE  The President ...  \n",
       "70           FOR IMMEDIATE RELEASE  Washington  DC...  \n",
       "80           FOR IMMEDIATE RELEASE  FOR IMMEDIATE ...  \n",
       "90           FOR IMMEDIATE RELEASE     The Preside...  "
      ]
     },
     "execution_count": 3,
     "metadata": {},
     "output_type": "execute_result"
    }
   ],
   "source": [
    "dataDir = 'data/grimmerPressReleases'\n",
    "\n",
    "senReleasesDF = pandas.DataFrame()\n",
    "\n",
    "for senatorName in [d for d in os.listdir(dataDir) if d[0] != '.']:\n",
    "    senPath = os.path.join(dataDir, senatorName)\n",
    "    senReleasesDF = senReleasesDF.append(loadDir(senPath, senatorName), ignore_index = True)\n",
    "\n",
    "senReleasesDF[:100:10]"
   ]
  },
  {
   "cell_type": "markdown",
   "metadata": {},
   "source": [
    "We also want to remove stop words and stem, but tokenizing requires two steps. Word2Vec wants to know the sentence structure as well as simply the words, so the tokenizing is slightly different this time."
   ]
  },
  {
   "cell_type": "code",
   "execution_count": 4,
   "metadata": {
    "collapsed": false
   },
   "outputs": [],
   "source": [
    "#Define the same function as last week\n",
    "def normlizeTokens(tokenLst, stopwordLst = None, stemmer = None, lemmer = None):\n",
    "    #We can use a generator here as we just need to iterate over it\n",
    "\n",
    "    #Lowering the case and removing non-words\n",
    "    workingIter = (w.lower() for w in tokenLst if w.isalpha())\n",
    "\n",
    "    #Now we can use the semmer, if provided\n",
    "    if stemmer is not None:\n",
    "        workingIter = (stemmer.stem(w) for w in workingIter)\n",
    "\n",
    "    #And the lemmer\n",
    "    if lemmer is not None:\n",
    "        workingIter = (lemmer.lemmatize(w) for w in workingIter)\n",
    "\n",
    "    #And remove the stopwords\n",
    "    if stopwordLst is not None:\n",
    "        workingIter = (w for w in workingIter if w not in stopwordLst)\n",
    "    #We will return a list with the stopwords removed\n",
    "    return list(workingIter)\n",
    "\n",
    "#initialize our stemmer and our stop words\n",
    "stop_words_nltk = nltk.corpus.stopwords.words('english')\n",
    "snowball = nltk.stem.snowball.SnowballStemmer('english')\n",
    "wordnet = nltk.stem.WordNetLemmatizer()"
   ]
  },
  {
   "cell_type": "code",
   "execution_count": 5,
   "metadata": {
    "collapsed": false
   },
   "outputs": [
    {
     "data": {
      "text/html": [
       "<div>\n",
       "<table border=\"1\" class=\"dataframe\">\n",
       "  <thead>\n",
       "    <tr style=\"text-align: right;\">\n",
       "      <th></th>\n",
       "      <th>category</th>\n",
       "      <th>filePath</th>\n",
       "      <th>text</th>\n",
       "      <th>tokenized_sents</th>\n",
       "      <th>normalized_sents</th>\n",
       "    </tr>\n",
       "  </thead>\n",
       "  <tbody>\n",
       "    <tr>\n",
       "      <th>0</th>\n",
       "      <td>Kennedy</td>\n",
       "      <td>data/grimmerPressReleases/Kennedy/01Apr2005Ken...</td>\n",
       "      <td>FOR IMMEDIATE RELEASE   FOR IMMEDIATE...</td>\n",
       "      <td>[[FOR, IMMEDIATE, RELEASE, FOR, IMMEDIATE, REL...</td>\n",
       "      <td>[[immediate, release, immediate, release, cont...</td>\n",
       "    </tr>\n",
       "    <tr>\n",
       "      <th>10</th>\n",
       "      <td>Kennedy</td>\n",
       "      <td>data/grimmerPressReleases/Kennedy/01Dec2005Ken...</td>\n",
       "      <td>FOR IMMEDIATE RELEASE     Washington ...</td>\n",
       "      <td>[[FOR, IMMEDIATE, RELEASE, Washington, D, C, T...</td>\n",
       "      <td>[[immediate, release, washington, c, today, se...</td>\n",
       "    </tr>\n",
       "    <tr>\n",
       "      <th>20</th>\n",
       "      <td>Kennedy</td>\n",
       "      <td>data/grimmerPressReleases/Kennedy/01Feb2006Ken...</td>\n",
       "      <td>FOR IMMEDIATE RELEASE      Fact sheet...</td>\n",
       "      <td>[[FOR, IMMEDIATE, RELEASE, Fact, sheets, on, B...</td>\n",
       "      <td>[[immediate, release, fact, sheets, bush, plan...</td>\n",
       "    </tr>\n",
       "    <tr>\n",
       "      <th>30</th>\n",
       "      <td>Kennedy</td>\n",
       "      <td>data/grimmerPressReleases/Kennedy/01Feb2007Ken...</td>\n",
       "      <td>FOR IMMEDIATE RELEASE     Washington ...</td>\n",
       "      <td>[[FOR, IMMEDIATE, RELEASE, Washington, D, C, T...</td>\n",
       "      <td>[[immediate, release, washington, c, today, u,...</td>\n",
       "    </tr>\n",
       "    <tr>\n",
       "      <th>40</th>\n",
       "      <td>Kennedy</td>\n",
       "      <td>data/grimmerPressReleases/Kennedy/01Jun2007Ken...</td>\n",
       "      <td>FOR IMMEDIATE RELEASE  BOSTON  MA  Se...</td>\n",
       "      <td>[[FOR, IMMEDIATE, RELEASE, BOSTON, MA, Senator...</td>\n",
       "      <td>[[immediate, release, boston, senator, edward,...</td>\n",
       "    </tr>\n",
       "    <tr>\n",
       "      <th>50</th>\n",
       "      <td>Kennedy</td>\n",
       "      <td>data/grimmerPressReleases/Kennedy/01Mar2007Ken...</td>\n",
       "      <td>FOR IMMEDIATE RELEASE     Washington ...</td>\n",
       "      <td>[[FOR, IMMEDIATE, RELEASE, Washington, DC, Tod...</td>\n",
       "      <td>[[immediate, release, washington, dc, today, s...</td>\n",
       "    </tr>\n",
       "    <tr>\n",
       "      <th>60</th>\n",
       "      <td>Kennedy</td>\n",
       "      <td>data/grimmerPressReleases/Kennedy/01May2007Ken...</td>\n",
       "      <td>FOR IMMEDIATE RELEASE  The President ...</td>\n",
       "      <td>[[FOR, IMMEDIATE, RELEASE, The, President, is,...</td>\n",
       "      <td>[[immediate, release, president, wrong, veto, ...</td>\n",
       "    </tr>\n",
       "    <tr>\n",
       "      <th>70</th>\n",
       "      <td>Kennedy</td>\n",
       "      <td>data/grimmerPressReleases/Kennedy/01Nov2007Ken...</td>\n",
       "      <td>FOR IMMEDIATE RELEASE  Washington  DC...</td>\n",
       "      <td>[[FOR, IMMEDIATE, RELEASE, Washington, DC, Sen...</td>\n",
       "      <td>[[immediate, release, washington, dc, senators...</td>\n",
       "    </tr>\n",
       "    <tr>\n",
       "      <th>80</th>\n",
       "      <td>Kennedy</td>\n",
       "      <td>data/grimmerPressReleases/Kennedy/02Aug2006Ken...</td>\n",
       "      <td>FOR IMMEDIATE RELEASE  FOR IMMEDIATE ...</td>\n",
       "      <td>[[FOR, IMMEDIATE, RELEASE, FOR, IMMEDIATE, REL...</td>\n",
       "      <td>[[immediate, release, immediate, release, impo...</td>\n",
       "    </tr>\n",
       "    <tr>\n",
       "      <th>90</th>\n",
       "      <td>Kennedy</td>\n",
       "      <td>data/grimmerPressReleases/Kennedy/02Feb2005Ken...</td>\n",
       "      <td>FOR IMMEDIATE RELEASE     The Preside...</td>\n",
       "      <td>[[FOR, IMMEDIATE, RELEASE, The, President, gav...</td>\n",
       "      <td>[[immediate, release, president, gave, effecti...</td>\n",
       "    </tr>\n",
       "  </tbody>\n",
       "</table>\n",
       "</div>"
      ],
      "text/plain": [
       "   category                                           filePath  \\\n",
       "0   Kennedy  data/grimmerPressReleases/Kennedy/01Apr2005Ken...   \n",
       "10  Kennedy  data/grimmerPressReleases/Kennedy/01Dec2005Ken...   \n",
       "20  Kennedy  data/grimmerPressReleases/Kennedy/01Feb2006Ken...   \n",
       "30  Kennedy  data/grimmerPressReleases/Kennedy/01Feb2007Ken...   \n",
       "40  Kennedy  data/grimmerPressReleases/Kennedy/01Jun2007Ken...   \n",
       "50  Kennedy  data/grimmerPressReleases/Kennedy/01Mar2007Ken...   \n",
       "60  Kennedy  data/grimmerPressReleases/Kennedy/01May2007Ken...   \n",
       "70  Kennedy  data/grimmerPressReleases/Kennedy/01Nov2007Ken...   \n",
       "80  Kennedy  data/grimmerPressReleases/Kennedy/02Aug2006Ken...   \n",
       "90  Kennedy  data/grimmerPressReleases/Kennedy/02Feb2005Ken...   \n",
       "\n",
       "                                                 text  \\\n",
       "0            FOR IMMEDIATE RELEASE   FOR IMMEDIATE...   \n",
       "10           FOR IMMEDIATE RELEASE     Washington ...   \n",
       "20           FOR IMMEDIATE RELEASE      Fact sheet...   \n",
       "30           FOR IMMEDIATE RELEASE     Washington ...   \n",
       "40           FOR IMMEDIATE RELEASE  BOSTON  MA  Se...   \n",
       "50           FOR IMMEDIATE RELEASE     Washington ...   \n",
       "60           FOR IMMEDIATE RELEASE  The President ...   \n",
       "70           FOR IMMEDIATE RELEASE  Washington  DC...   \n",
       "80           FOR IMMEDIATE RELEASE  FOR IMMEDIATE ...   \n",
       "90           FOR IMMEDIATE RELEASE     The Preside...   \n",
       "\n",
       "                                      tokenized_sents  \\\n",
       "0   [[FOR, IMMEDIATE, RELEASE, FOR, IMMEDIATE, REL...   \n",
       "10  [[FOR, IMMEDIATE, RELEASE, Washington, D, C, T...   \n",
       "20  [[FOR, IMMEDIATE, RELEASE, Fact, sheets, on, B...   \n",
       "30  [[FOR, IMMEDIATE, RELEASE, Washington, D, C, T...   \n",
       "40  [[FOR, IMMEDIATE, RELEASE, BOSTON, MA, Senator...   \n",
       "50  [[FOR, IMMEDIATE, RELEASE, Washington, DC, Tod...   \n",
       "60  [[FOR, IMMEDIATE, RELEASE, The, President, is,...   \n",
       "70  [[FOR, IMMEDIATE, RELEASE, Washington, DC, Sen...   \n",
       "80  [[FOR, IMMEDIATE, RELEASE, FOR, IMMEDIATE, REL...   \n",
       "90  [[FOR, IMMEDIATE, RELEASE, The, President, gav...   \n",
       "\n",
       "                                     normalized_sents  \n",
       "0   [[immediate, release, immediate, release, cont...  \n",
       "10  [[immediate, release, washington, c, today, se...  \n",
       "20  [[immediate, release, fact, sheets, bush, plan...  \n",
       "30  [[immediate, release, washington, c, today, u,...  \n",
       "40  [[immediate, release, boston, senator, edward,...  \n",
       "50  [[immediate, release, washington, dc, today, s...  \n",
       "60  [[immediate, release, president, wrong, veto, ...  \n",
       "70  [[immediate, release, washington, dc, senators...  \n",
       "80  [[immediate, release, immediate, release, impo...  \n",
       "90  [[immediate, release, president, gave, effecti...  "
      ]
     },
     "execution_count": 5,
     "metadata": {},
     "output_type": "execute_result"
    }
   ],
   "source": [
    "#Apply our functions, notice each row is a list of lists now\n",
    "senReleasesDF['tokenized_sents'] = senReleasesDF['text'].apply(lambda x: [nltk.word_tokenize(s) for s in nltk.sent_tokenize(x)])\n",
    "senReleasesDF['normalized_sents'] = senReleasesDF['tokenized_sents'].apply(lambda x: [normlizeTokens(s, stopwordLst = stop_words_nltk, stemmer = None) for s in x])\n",
    "\n",
    "senReleasesDF[:100:10]"
   ]
  },
  {
   "cell_type": "markdown",
   "metadata": {},
   "source": [
    "# Word2Vec\n",
    "\n",
    "We will be using the gensim implementation of [Word2Vec](https://radimrehurek.com/gensim/models/word2vec.html#gensim.models.word2vec.Word2Vec).\n",
    "\n",
    "To load our data our data we give all the sentences to the trainer"
   ]
  },
  {
   "cell_type": "code",
   "execution_count": 6,
   "metadata": {
    "collapsed": true
   },
   "outputs": [],
   "source": [
    "senReleasesW2V = gensim.models.word2vec.Word2Vec(senReleasesDF['normalized_sents'].sum())"
   ]
  },
  {
   "cell_type": "markdown",
   "metadata": {},
   "source": [
    "Inside the word2vec object the words each have a vector, to access the vector directly use the square braces (`__getitem__`) method:"
   ]
  },
  {
   "cell_type": "code",
   "execution_count": 7,
   "metadata": {
    "collapsed": false
   },
   "outputs": [
    {
     "data": {
      "text/plain": [
       "array([ 2.3201859 , -1.59573579, -2.3535831 ,  1.17507434,  0.80890542,\n",
       "       -0.07561323,  0.24201433, -1.63457263,  2.04466867,  0.57714665], dtype=float32)"
      ]
     },
     "execution_count": 7,
     "metadata": {},
     "output_type": "execute_result"
    }
   ],
   "source": [
    "senReleasesW2V['president'][:10] #Shortening because it's very large"
   ]
  },
  {
   "cell_type": "markdown",
   "metadata": {},
   "source": [
    "If you want the full matrix, `syn0` stores all the vectors"
   ]
  },
  {
   "cell_type": "code",
   "execution_count": 8,
   "metadata": {
    "collapsed": false
   },
   "outputs": [
    {
     "data": {
      "text/plain": [
       "array([[ -1.77841783e-01,   6.45595253e-01,  -3.56653064e-01, ...,\n",
       "         -1.12636960e+00,   7.98077226e-01,   5.41791797e-01],\n",
       "       [  1.23999059e-01,   2.20621943e+00,   5.62630415e-01, ...,\n",
       "         -1.96249402e+00,  -7.91522324e-01,  -5.90319447e-02],\n",
       "       [ -1.49650562e+00,  -1.72481990e+00,   2.64760256e+00, ...,\n",
       "          4.97493535e-01,   1.18446004e+00,  -2.72109652e+00],\n",
       "       ..., \n",
       "       [  5.85300550e-02,   6.21598884e-02,   4.44221571e-02, ...,\n",
       "          4.23464272e-03,  -5.93440831e-02,   5.11041097e-02],\n",
       "       [  1.71879716e-02,   3.35917138e-02,   3.24738026e-02, ...,\n",
       "         -2.00784672e-02,  -4.89017833e-03,   5.55787608e-02],\n",
       "       [ -2.13445304e-03,   1.62330852e-03,   1.09323747e-02, ...,\n",
       "          4.88485023e-02,  -3.23136263e-02,   7.26962984e-02]], dtype=float32)"
      ]
     },
     "execution_count": 8,
     "metadata": {},
     "output_type": "execute_result"
    }
   ],
   "source": [
    "senReleasesW2V.syn0"
   ]
  },
  {
   "cell_type": "markdown",
   "metadata": {},
   "source": [
    "Then, `index2word` lets you translate from the matrix to words"
   ]
  },
  {
   "cell_type": "code",
   "execution_count": 9,
   "metadata": {
    "collapsed": false
   },
   "outputs": [
    {
     "data": {
      "text/plain": [
       "'american'"
      ]
     },
     "execution_count": 9,
     "metadata": {},
     "output_type": "execute_result"
    }
   ],
   "source": [
    "senReleasesW2V.index2word[10]"
   ]
  },
  {
   "cell_type": "markdown",
   "metadata": {},
   "source": [
    "Now we can look at a few things that come from the vectors, find similar vectors:"
   ]
  },
  {
   "cell_type": "code",
   "execution_count": 10,
   "metadata": {
    "collapsed": false
   },
   "outputs": [
    {
     "data": {
      "text/plain": [
       "[('presidents', 0.7720838189125061),\n",
       " ('administration', 0.7515982985496521),\n",
       " ('administrations', 0.6465076208114624),\n",
       " ('cheney', 0.5936229825019836),\n",
       " ('george', 0.5707100629806519),\n",
       " ('sticklers', 0.5640989542007446),\n",
       " ('quoting', 0.5463705062866211),\n",
       " ('responds', 0.5375101566314697),\n",
       " ('republican', 0.5290516018867493),\n",
       " ('chose', 0.5106145143508911)]"
      ]
     },
     "execution_count": 10,
     "metadata": {},
     "output_type": "execute_result"
    }
   ],
   "source": [
    "senReleasesW2V.most_similar('president')"
   ]
  },
  {
   "cell_type": "markdown",
   "metadata": {},
   "source": [
    "Find what doesn't match in some set"
   ]
  },
  {
   "cell_type": "code",
   "execution_count": 11,
   "metadata": {
    "collapsed": false
   },
   "outputs": [
    {
     "data": {
      "text/plain": [
       "'washington'"
      ]
     },
     "execution_count": 11,
     "metadata": {},
     "output_type": "execute_result"
    }
   ],
   "source": [
    "senReleasesW2V.doesnt_match(['administration', 'administrations', 'presidents', 'president', 'washington'])"
   ]
  },
  {
   "cell_type": "markdown",
   "metadata": {},
   "source": [
    "Make comparisons:"
   ]
  },
  {
   "cell_type": "code",
   "execution_count": 12,
   "metadata": {
    "collapsed": false
   },
   "outputs": [
    {
     "data": {
      "text/plain": [
       "[('slash', 0.4592266082763672),\n",
       " ('training', 0.45880424976348877),\n",
       " ('mep', 0.435918927192688),\n",
       " ('jeopardizes', 0.43018120527267456),\n",
       " ('develop', 0.42883333563804626),\n",
       " ('carpenters', 0.42882099747657776),\n",
       " ('train', 0.42424964904785156),\n",
       " ('innovative', 0.402671217918396),\n",
       " ('securing', 0.4024003744125366),\n",
       " ('reconstructing', 0.39941227436065674)]"
      ]
     },
     "execution_count": 12,
     "metadata": {},
     "output_type": "execute_result"
    }
   ],
   "source": [
    "senReleasesW2V.most_similar(positive=['administration', 'manufacturing'], negative = ['taxation'])#Need a better example"
   ]
  },
  {
   "cell_type": "markdown",
   "metadata": {},
   "source": [
    "Or save for use later"
   ]
  },
  {
   "cell_type": "code",
   "execution_count": 13,
   "metadata": {
    "collapsed": true
   },
   "outputs": [],
   "source": [
    "senReleasesW2V.save(\"data/senpressreleasesWORD2Vec\")"
   ]
  },
  {
   "cell_type": "markdown",
   "metadata": {},
   "source": [
    "We can also use dimension reduction to visulize the vectors. We will start by selecting a subset that we want to plot. Lets look at the top words from the set:"
   ]
  },
  {
   "cell_type": "code",
   "execution_count": 14,
   "metadata": {
    "collapsed": true
   },
   "outputs": [],
   "source": [
    "numWords = 50\n",
    "targetWords = senReleasesW2V.index2word[:numWords]"
   ]
  },
  {
   "cell_type": "markdown",
   "metadata": {},
   "source": [
    "We can then extract their vectors and create our own smaller matrix"
   ]
  },
  {
   "cell_type": "code",
   "execution_count": 15,
   "metadata": {
    "collapsed": false
   },
   "outputs": [
    {
     "data": {
      "text/plain": [
       "array([[-0.17784178,  0.64559525, -0.35665306, ..., -1.1263696 ,\n",
       "         0.79807723,  0.5417918 ],\n",
       "       [ 0.12399906,  2.20621943,  0.56263041, ..., -1.96249402,\n",
       "        -0.79152232, -0.05903194],\n",
       "       [-1.49650562, -1.7248199 ,  2.64760256, ...,  0.49749354,\n",
       "         1.18446004, -2.72109652],\n",
       "       ..., \n",
       "       [-0.43189272, -0.51287293,  3.72522211, ..., -1.70198584,\n",
       "         0.01688601, -0.61169225],\n",
       "       [-0.06028287,  2.07287073,  0.15565167, ..., -0.56822544,\n",
       "        -1.57762659,  1.03110027],\n",
       "       [-0.7361362 ,  1.48159862,  1.82499945, ...,  0.92793196,\n",
       "        -0.26942873, -0.82958955]], dtype=float32)"
      ]
     },
     "execution_count": 15,
     "metadata": {},
     "output_type": "execute_result"
    }
   ],
   "source": [
    "wordsSubMatrix = []\n",
    "for word in targetWords:\n",
    "    wordsSubMatrix.append(senReleasesW2V[word])\n",
    "wordsSubMatrix = np.array(wordsSubMatrix)\n",
    "wordsSubMatrix"
   ]
  },
  {
   "cell_type": "markdown",
   "metadata": {},
   "source": [
    "Then we can use PCa to reduce most of the dimesions, and T-SNE for the last 48."
   ]
  },
  {
   "cell_type": "code",
   "execution_count": 17,
   "metadata": {
    "collapsed": false
   },
   "outputs": [],
   "source": [
    "pcaWords = sklearn.decomposition.PCA(n_components = 50).fit(wordsSubMatrix)\n",
    "reducedPCA_data = pcaWords.transform(wordsSubMatrix)\n",
    "\n",
    "tsneWords = sklearn.manifold.TSNE(n_components = 2).fit_transform(reducedPCA_data)"
   ]
  },
  {
   "cell_type": "markdown",
   "metadata": {},
   "source": [
    "We now can plot the points"
   ]
  },
  {
   "cell_type": "code",
   "execution_count": 18,
   "metadata": {
    "collapsed": false
   },
   "outputs": [
    {
     "data": {
      "image/png": "[encoded data removed]",
      "text/plain": [
       "<matplotlib.figure.Figure at 0x11cd33a90>"
      ]
     },
     "metadata": {},
     "output_type": "display_data"
    }
   ],
   "source": [
    "fig = plt.figure(figsize = (10,6))\n",
    "ax = fig.add_subplot(111)\n",
    "ax.set_frame_on(False)\n",
    "plt.scatter(tsneWords[:, 0], tsneWords[:, 1])\n",
    "for i, word in enumerate(targetWords):\n",
    "    ax.annotate(word, (tsneWords[:, 0][i],tsneWords[:, 1][i]), size =  20 * (numWords - i) / numWords)\n",
    "plt.xticks(())\n",
    "plt.yticks(())\n",
    "plt.show()"
   ]
  },
  {
   "cell_type": "markdown",
   "metadata": {},
   "source": [
    "# Doc2Vec"
   ]
  },
  {
   "cell_type": "markdown",
   "metadata": {
    "collapsed": true
   },
   "source": [
    "We can instead of looking at just how the words embed in the space, look at how the different spaces relate to each other. First lets load our data, some abstracts of physics papers from the 1950s."
   ]
  },
  {
   "cell_type": "code",
   "execution_count": 19,
   "metadata": {
    "collapsed": false
   },
   "outputs": [
    {
     "data": {
      "text/html": [
       "<div>\n",
       "<table border=\"1\" class=\"dataframe\">\n",
       "  <thead>\n",
       "    <tr style=\"text-align: right;\">\n",
       "      <th></th>\n",
       "      <th>copyrightYear</th>\n",
       "      <th>doi</th>\n",
       "      <th>abstract</th>\n",
       "    </tr>\n",
       "  </thead>\n",
       "  <tbody>\n",
       "    <tr>\n",
       "      <th>0</th>\n",
       "      <td>1950</td>\n",
       "      <td>10.1103/RevModPhys.22.221</td>\n",
       "      <td>A summarizing account is given of the research...</td>\n",
       "    </tr>\n",
       "    <tr>\n",
       "      <th>1</th>\n",
       "      <td>1951</td>\n",
       "      <td>10.1103/RevModPhys.23.147</td>\n",
       "      <td>New tables of coulomb functions are presented ...</td>\n",
       "    </tr>\n",
       "    <tr>\n",
       "      <th>2</th>\n",
       "      <td>1951</td>\n",
       "      <td>10.1103/RevModPhys.23.185</td>\n",
       "      <td>Ionization by electron impact in diatomic gase...</td>\n",
       "    </tr>\n",
       "    <tr>\n",
       "      <th>3</th>\n",
       "      <td>1951</td>\n",
       "      <td>10.1103/RevModPhys.23.203</td>\n",
       "      <td>It is shown that the conductivity in the ohmic...</td>\n",
       "    </tr>\n",
       "    <tr>\n",
       "      <th>4</th>\n",
       "      <td>1951</td>\n",
       "      <td>10.1103/RevModPhys.23.21</td>\n",
       "      <td>The factorization method is an operational pro...</td>\n",
       "    </tr>\n",
       "    <tr>\n",
       "      <th>5</th>\n",
       "      <td>1951</td>\n",
       "      <td>10.1103/RevModPhys.23.311</td>\n",
       "      <td>A brief account is given of Dyson's proof of t...</td>\n",
       "    </tr>\n",
       "    <tr>\n",
       "      <th>6</th>\n",
       "      <td>1951</td>\n",
       "      <td>10.1103/RevModPhys.23.315</td>\n",
       "      <td>A systematics is given of all transitions for ...</td>\n",
       "    </tr>\n",
       "    <tr>\n",
       "      <th>7</th>\n",
       "      <td>1951</td>\n",
       "      <td>10.1103/RevModPhys.23.322</td>\n",
       "      <td>A systematics of the -transitions of even A nu...</td>\n",
       "    </tr>\n",
       "    <tr>\n",
       "      <th>8</th>\n",
       "      <td>1951</td>\n",
       "      <td>10.1103/RevModPhys.23.328</td>\n",
       "      <td>The available experiments on the absorption sp...</td>\n",
       "    </tr>\n",
       "    <tr>\n",
       "      <th>9</th>\n",
       "      <td>1952</td>\n",
       "      <td>10.1103/RevModPhys.24.108</td>\n",
       "      <td>The classical theory of the dynamics of viscou...</td>\n",
       "    </tr>\n",
       "  </tbody>\n",
       "</table>\n",
       "</div>"
      ],
      "text/plain": [
       "   copyrightYear                        doi  \\\n",
       "0           1950  10.1103/RevModPhys.22.221   \n",
       "1           1951  10.1103/RevModPhys.23.147   \n",
       "2           1951  10.1103/RevModPhys.23.185   \n",
       "3           1951  10.1103/RevModPhys.23.203   \n",
       "4           1951   10.1103/RevModPhys.23.21   \n",
       "5           1951  10.1103/RevModPhys.23.311   \n",
       "6           1951  10.1103/RevModPhys.23.315   \n",
       "7           1951  10.1103/RevModPhys.23.322   \n",
       "8           1951  10.1103/RevModPhys.23.328   \n",
       "9           1952  10.1103/RevModPhys.24.108   \n",
       "\n",
       "                                            abstract  \n",
       "0  A summarizing account is given of the research...  \n",
       "1  New tables of coulomb functions are presented ...  \n",
       "2  Ionization by electron impact in diatomic gase...  \n",
       "3  It is shown that the conductivity in the ohmic...  \n",
       "4  The factorization method is an operational pro...  \n",
       "5  A brief account is given of Dyson's proof of t...  \n",
       "6  A systematics is given of all transitions for ...  \n",
       "7  A systematics of the -transitions of even A nu...  \n",
       "8  The available experiments on the absorption sp...  \n",
       "9  The classical theory of the dynamics of viscou...  "
      ]
     },
     "execution_count": 19,
     "metadata": {},
     "output_type": "execute_result"
    }
   ],
   "source": [
    "apsDF = pandas.read_csv('data/APSabstracts1950s.csv', index_col = 0)\n",
    "apsDF[:10]"
   ]
  },
  {
   "cell_type": "markdown",
   "metadata": {},
   "source": [
    "We will load these as documents into Word2Vec, but first we need to normalize and pick some tags"
   ]
  },
  {
   "cell_type": "code",
   "execution_count": 20,
   "metadata": {
    "collapsed": false
   },
   "outputs": [],
   "source": [
    "keywords = ['photomagnetoelectric', 'quantum', 'boltzmann', 'proton', 'positron', 'feynman', 'classical', 'relativity']"
   ]
  },
  {
   "cell_type": "code",
   "execution_count": 21,
   "metadata": {
    "collapsed": false
   },
   "outputs": [],
   "source": [
    "apsDF['tokenized_words'] = apsDF['abstract'].apply(lambda x: nltk.word_tokenize(x))\n",
    "apsDF['normalized_words'] = apsDF['tokenized_words'].apply(lambda x: normlizeTokens(x, stopwordLst = stop_words_nltk))"
   ]
  },
  {
   "cell_type": "code",
   "execution_count": 22,
   "metadata": {
    "collapsed": false
   },
   "outputs": [],
   "source": [
    "taggedDocs = []\n",
    "for index, row in apsDF.iterrows():\n",
    "    #Just doing a simple keyword assignment\n",
    "    docKeywords = [s for s in keywords if s in row['normalized_words']]\n",
    "    docKeywords.append(row['copyrightYear'])\n",
    "    docKeywords.append(row['doi']) #This lets us extract individual documnets since doi's are unique\n",
    "    taggedDocs.append(gensim.models.doc2vec.LabeledSentence(words = row['normalized_words'], tags = docKeywords))\n",
    "apsDF['TaggedAbstracts'] = taggedDocs"
   ]
  },
  {
   "cell_type": "markdown",
   "metadata": {},
   "source": [
    "Now we can train a Doc2Vec"
   ]
  },
  {
   "cell_type": "code",
   "execution_count": 23,
   "metadata": {
    "collapsed": false
   },
   "outputs": [],
   "source": [
    "apsD2V = gensim.models.doc2vec.Doc2Vec(apsDF['TaggedAbstracts'], size = 100) #Limiting to 100 dimensions"
   ]
  },
  {
   "cell_type": "markdown",
   "metadata": {},
   "source": [
    "We can get the vectors for the tags/documents, just like words"
   ]
  },
  {
   "cell_type": "code",
   "execution_count": 24,
   "metadata": {
    "collapsed": false
   },
   "outputs": [
    {
     "data": {
      "text/plain": [
       "array([  2.77983062e-02,  -1.43952779e-02,  -1.06178530e-01,\n",
       "         3.92271355e-02,  -3.72370780e-02,   7.23966658e-02,\n",
       "         1.91531733e-01,   7.15262815e-02,   4.66963351e-02,\n",
       "         6.39228150e-02,  -8.08391795e-02,  -1.09827973e-01,\n",
       "        -4.24897810e-03,  -1.11823209e-01,   6.97774366e-02,\n",
       "        -2.09850608e-03,  -1.70218386e-02,  -1.33914307e-01,\n",
       "         4.66687838e-03,   8.20764229e-02,   1.73146613e-02,\n",
       "        -5.21396101e-02,  -9.26899686e-02,   2.30742395e-02,\n",
       "        -2.94208992e-02,  -4.71711196e-02,  -1.17024951e-01,\n",
       "         1.45977646e-01,  -1.37479544e-01,  -1.08740469e-02,\n",
       "         1.06332395e-02,   3.67540270e-02,  -1.21985115e-01,\n",
       "         1.21715799e-01,   5.08344285e-02,  -1.84310406e-01,\n",
       "         1.05498042e-02,  -1.32046998e-01,   1.28025800e-01,\n",
       "         7.16430172e-02,   9.76479426e-02,  -3.29876393e-02,\n",
       "        -4.14050482e-02,   8.94447044e-02,   8.43529329e-02,\n",
       "         9.47565585e-02,   3.80647704e-02,   2.00347062e-02,\n",
       "        -7.37624690e-02,   7.68485367e-02,   4.81617972e-02,\n",
       "         5.61849773e-03,  -2.93913558e-02,   1.04605488e-01,\n",
       "        -1.46931792e-02,  -9.11305398e-02,   8.89405012e-02,\n",
       "        -7.12527186e-02,  -1.23515554e-01,  -6.58547953e-02,\n",
       "        -1.86908208e-02,   1.74842328e-01,   1.30240514e-04,\n",
       "         5.56917973e-02,   1.23317152e-01,   2.35004835e-02,\n",
       "        -3.84062268e-02,  -1.02899283e-01,  -3.96153517e-02,\n",
       "         1.00343868e-01,  -5.83973043e-02,   4.77932729e-02,\n",
       "        -9.05363727e-03,  -1.00127660e-01,   2.03283653e-01,\n",
       "         9.08679888e-02,  -8.31833854e-02,  -1.15634995e-02,\n",
       "        -9.19430982e-03,   1.23981960e-01,  -7.90076554e-02,\n",
       "        -1.97486877e-02,   4.08236869e-02,  -1.35939615e-03,\n",
       "         7.17793778e-02,   8.08137357e-02,  -1.88936904e-01,\n",
       "         2.01119352e-02,  -6.32252637e-03,  -1.04578212e-01,\n",
       "        -2.82541011e-03,   2.07802802e-02,  -7.78043643e-02,\n",
       "         2.63818055e-02,  -1.42951794e-02,   1.04544774e-01,\n",
       "         2.01691743e-02,  -6.39606714e-02,  -8.43199901e-03,\n",
       "        -1.92529894e-02], dtype=float32)"
      ]
     },
     "execution_count": 24,
     "metadata": {},
     "output_type": "execute_result"
    }
   ],
   "source": [
    "apsD2V.docvecs[1952]"
   ]
  },
  {
   "cell_type": "markdown",
   "metadata": {},
   "source": [
    "And the words are still accessed the same way"
   ]
  },
  {
   "cell_type": "code",
   "execution_count": 25,
   "metadata": {
    "collapsed": false
   },
   "outputs": [
    {
     "data": {
      "text/plain": [
       "array([-0.0038661 ,  0.09406455,  0.1198468 ,  0.01598788,  0.23490871,\n",
       "       -0.02241622,  0.03530223,  0.13758129, -0.08424953,  0.00289275,\n",
       "       -0.01826715, -0.07540332,  0.03460044,  0.06909078, -0.07492179,\n",
       "        0.35018981, -0.11097012,  0.13899992, -0.08263991, -0.19133331,\n",
       "        0.12319691,  0.08837323,  0.04758322,  0.05626663,  0.16806071,\n",
       "        0.05057461, -0.05512555, -0.05309496, -0.26877275, -0.11908299,\n",
       "        0.11032751, -0.17331778, -0.28619602, -0.15546291,  0.01179495,\n",
       "        0.10487287, -0.18939537, -0.11055965, -0.00132522, -0.19114865,\n",
       "        0.2100836 ,  0.0577289 , -0.04420147,  0.05965301, -0.01769086,\n",
       "       -0.00524232, -0.12961406, -0.01414549, -0.02068962, -0.19169855,\n",
       "       -0.00564144,  0.14166567,  0.05846943, -0.12988226,  0.03755698,\n",
       "       -0.02755947, -0.10078627, -0.08390012, -0.2404509 ,  0.00725177,\n",
       "        0.152391  , -0.13230561,  0.09525262, -0.1690923 ,  0.00145873,\n",
       "        0.03461511,  0.21650904, -0.12438574, -0.11139014,  0.01726634,\n",
       "       -0.18627492,  0.25330657, -0.05341592,  0.31807935, -0.03861241,\n",
       "       -0.06276082, -0.11822745, -0.04268125, -0.06377045, -0.07481423,\n",
       "        0.11195378, -0.01798489, -0.0066204 ,  0.09787358,  0.07281222,\n",
       "       -0.06357405, -0.05322275,  0.04662515, -0.10469282,  0.08837797,\n",
       "        0.01314832, -0.12322246, -0.12785864,  0.06817794,  0.07953207,\n",
       "       -0.10294843,  0.14286111,  0.08944247, -0.07020188,  0.03830638], dtype=float32)"
      ]
     },
     "execution_count": 25,
     "metadata": {},
     "output_type": "execute_result"
    }
   ],
   "source": [
    "apsD2V['electron']"
   ]
  },
  {
   "cell_type": "markdown",
   "metadata": {},
   "source": [
    "We can still use the "
   ]
  },
  {
   "cell_type": "code",
   "execution_count": 26,
   "metadata": {
    "collapsed": false
   },
   "outputs": [
    {
     "data": {
      "text/plain": [
       "[('schrdinger', 0.7903362512588501),\n",
       " ('continuity', 0.6520664691925049),\n",
       " ('secular', 0.643038809299469),\n",
       " ('integral', 0.6341717839241028),\n",
       " ('liouville', 0.6279487013816833)]"
      ]
     },
     "execution_count": 26,
     "metadata": {},
     "output_type": "execute_result"
    }
   ],
   "source": [
    "apsD2V.most_similar(positive = ['boltzmann', 'schroedinger'], negative = ['statistical'], topn = 5)"
   ]
  },
  {
   "cell_type": "markdown",
   "metadata": {},
   "source": [
    "As well as vector algebra "
   ]
  },
  {
   "cell_type": "code",
   "execution_count": 27,
   "metadata": {
    "collapsed": false
   },
   "outputs": [
    {
     "name": "stderr",
     "output_type": "stream",
     "text": [
      "/usr/local/lib/python3.5/site-packages/sklearn/utils/validation.py:395: DeprecationWarning: Passing 1d arrays as data is deprecated in 0.17 and will raise ValueError in 0.19. Reshape your data either using X.reshape(-1, 1) if your data has a single feature or X.reshape(1, -1) if it contains a single sample.\n",
      "  DeprecationWarning)\n",
      "/usr/local/lib/python3.5/site-packages/sklearn/utils/validation.py:395: DeprecationWarning: Passing 1d arrays as data is deprecated in 0.17 and will raise ValueError in 0.19. Reshape your data either using X.reshape(-1, 1) if your data has a single feature or X.reshape(1, -1) if it contains a single sample.\n",
      "  DeprecationWarning)\n"
     ]
    },
    {
     "data": {
      "text/plain": [
       "array([[ 0.3609384]], dtype=float32)"
      ]
     },
     "execution_count": 27,
     "metadata": {},
     "output_type": "execute_result"
    }
   ],
   "source": [
    "sklearn.metrics.pairwise.cosine_similarity(apsD2V['electron'], apsD2V['positron'])\n",
    "#The error message can be prevented by adding .reshape(1, -1) to both the inputs"
   ]
  },
  {
   "cell_type": "markdown",
   "metadata": {},
   "source": [
    "Because the documents have vectors we can compare them with each other, or even words"
   ]
  },
  {
   "cell_type": "code",
   "execution_count": 33,
   "metadata": {
    "collapsed": true
   },
   "outputs": [],
   "source": [
    "heatmapMatrix = []\n",
    "for tagOuter in keywords:\n",
    "    column = []\n",
    "    tagVec = apsD2V.docvecs[tagOuter].reshape(1, -1)\n",
    "    for tagInner in keywords:\n",
    "        column.append(sklearn.metrics.pairwise.cosine_similarity(tagVec, apsD2V.docvecs[tagInner].reshape(1, -1))[0][0])\n",
    "    heatmapMatrix.append(column)\n",
    "heatmapMatrix = np.array(heatmapMatrix)"
   ]
  },
  {
   "cell_type": "code",
   "execution_count": 34,
   "metadata": {
    "collapsed": false
   },
   "outputs": [
    {
     "data": {
      "text/plain": [
       "(8, 8)"
      ]
     },
     "execution_count": 34,
     "metadata": {},
     "output_type": "execute_result"
    }
   ],
   "source": [
    "heatmapMatrix.shape"
   ]
  },
  {
   "cell_type": "code",
   "execution_count": 41,
   "metadata": {
    "collapsed": false
   },
   "outputs": [
    {
     "data": {
      "image/png": "[encoded data removed]",
      "text/plain": [
       "<matplotlib.figure.Figure at 0x126ea2518>"
      ]
     },
     "metadata": {},
     "output_type": "display_data"
    }
   ],
   "source": [
    "fig, ax = plt.subplots()\n",
    "hmap = ax.pcolor(heatmapMatrix, cmap='terrain')\n",
    "cbar = plt.colorbar(hmap)\n",
    "\n",
    "cbar.set_label('cosine similarity', rotation=270)\n",
    "a = ax.set_xticks(np.arange(heatmapMatrix.shape[1]) + 0.5, minor=False)\n",
    "a = ax.set_yticks(np.arange(heatmapMatrix.shape[0]) + 0.5, minor=False)\n",
    "\n",
    "a = ax.set_xticklabels(keywords, minor=False, rotation=270)\n",
    "a = ax.set_yticklabels(keywords, minor=False)"
   ]
  },
  {
   "cell_type": "markdown",
   "metadata": {},
   "source": [
    "Let's save the model in case we need it again"
   ]
  },
  {
   "cell_type": "code",
   "execution_count": 36,
   "metadata": {
    "collapsed": true
   },
   "outputs": [],
   "source": [
    "apsD2V.save('data/apsW2V')"
   ]
  },
  {
   "cell_type": "markdown",
   "metadata": {},
   "source": [
    "We can then also load it"
   ]
  },
  {
   "cell_type": "code",
   "execution_count": 37,
   "metadata": {
    "collapsed": false
   },
   "outputs": [],
   "source": [
    "#apsD2V = gensim.models.word2vec.Word2Vec.load('data/apsW2V')"
   ]
  },
  {
   "cell_type": "markdown",
   "metadata": {
    "collapsed": true
   },
   "source": [
    "# The Score Function\n",
    "Here, we use a model trained with resumes"
   ]
  },
  {
   "cell_type": "code",
   "execution_count": 40,
   "metadata": {
    "collapsed": false
   },
   "outputs": [],
   "source": [
    "resume_model  = gensim.models.word2vec.Word2Vec.load('data/resumeAll.short.model')"
   ]
  },
  {
   "cell_type": "markdown",
   "metadata": {},
   "source": [
    "We can take a look at the vacabularies of this model."
   ]
  },
  {
   "cell_type": "code",
   "execution_count": 43,
   "metadata": {
    "collapsed": false
   },
   "outputs": [],
   "source": [
    "vocab = resume_model.index2word"
   ]
  },
  {
   "cell_type": "markdown",
   "metadata": {
    "collapsed": true
   },
   "source": [
    "Let's load lots of job ads. Here, we only use a small sample of all of them. Uncomment this cell if you want to load more."
   ]
  },
  {
   "cell_type": "code",
   "execution_count": 44,
   "metadata": {
    "collapsed": false
   },
   "outputs": [],
   "source": [
    "# with open('data/joblistings.merged.parsed.unique.grpbyyear.2010-2015.02.tsv','r') as tsv:\n",
    "#     ads = [line.strip().split('\\t') for line in tsv]\n",
    "    \n",
    "# adsDF = pandas.DataFrame(ads, columns = ads[0])\n",
    "# reducedDF = adsDF[['hiringOrganization_organizationName', 'jobDescription', 'jobLocation_address_region', 'jobLocation_geo_latitude', 'jobLocation_geo_longitude', 'qualifications', 'responsibilities']][1:]\n",
    "# N = reducedDF.shape[0]\n",
    "# indices = random.sample(range(1, N+1), 100)\n",
    "# sampleDF = reducedDF.iloc[indices]\n",
    "# sampleDF['tokenized_sents'] = sampleDF['jobDescription'].apply(lambda x: [nltk.word_tokenize(s) for s in nltk.sent_tokenize(x)])\n",
    "# sampleDF['normalized_sents'] = sampleDF['tokenized_sents'].apply(lambda x: [normlizeTokens(s, vocab = vocab) for s in x])\n",
    "# sampleDF.to_csv('data/SampleJobAds.csv')"
   ]
  },
  {
   "cell_type": "markdown",
   "metadata": {},
   "source": [
    "Let's just load the sample and take a look at it. The sentences in each job description are already tokenized and normalized."
   ]
  },
  {
   "cell_type": "code",
   "execution_count": 65,
   "metadata": {
    "collapsed": false
   },
   "outputs": [
    {
     "data": {
      "text/html": [
       "<div>\n",
       "<table border=\"1\" class=\"dataframe\">\n",
       "  <thead>\n",
       "    <tr style=\"text-align: right;\">\n",
       "      <th></th>\n",
       "      <th>Unnamed: 0</th>\n",
       "      <th>hiringOrganization_organizationName</th>\n",
       "      <th>jobDescription</th>\n",
       "      <th>jobLocation_address_region</th>\n",
       "      <th>jobLocation_geo_latitude</th>\n",
       "      <th>jobLocation_geo_longitude</th>\n",
       "      <th>qualifications</th>\n",
       "      <th>responsibilities</th>\n",
       "      <th>tokenized_sents</th>\n",
       "      <th>normalized_sents</th>\n",
       "    </tr>\n",
       "  </thead>\n",
       "  <tbody>\n",
       "    <tr>\n",
       "      <th>0</th>\n",
       "      <td>158844</td>\n",
       "      <td>Golfsmith International, Inc.</td>\n",
       "      <td>\"Sales Associate Tracking Code 220425-971 Job ...</td>\n",
       "      <td>California</td>\n",
       "      <td>33.91918</td>\n",
       "      <td>-118.41647</td>\n",
       "      <td>NaN</td>\n",
       "      <td>\"Ensure each Customer receives exceptional ser...</td>\n",
       "      <td>[[``, Sales, Associate, Tracking, Code, 220425...</td>\n",
       "      <td>[[sales, associate, tracking, code, job, descr...</td>\n",
       "    </tr>\n",
       "    <tr>\n",
       "      <th>1</th>\n",
       "      <td>257645</td>\n",
       "      <td>Intel</td>\n",
       "      <td>For PHY system engineering team within the Wir...</td>\n",
       "      <td>NaN</td>\n",
       "      <td>NaN</td>\n",
       "      <td>NaN</td>\n",
       "      <td>NaN</td>\n",
       "      <td>NaN</td>\n",
       "      <td>[[For, PHY, system, engineering, team, within,...</td>\n",
       "      <td>[[for, phy, system, engineering, team, within,...</td>\n",
       "    </tr>\n",
       "    <tr>\n",
       "      <th>2</th>\n",
       "      <td>107875</td>\n",
       "      <td>Florida Hospital</td>\n",
       "      <td>*RN Medical Oncology PCU Orlando - Nights* Flo...</td>\n",
       "      <td>Florida</td>\n",
       "      <td>28.53834</td>\n",
       "      <td>-81.37924</td>\n",
       "      <td>NaN</td>\n",
       "      <td>NaN</td>\n",
       "      <td>[[*RN, Medical, Oncology, PCU, Orlando, -, Nig...</td>\n",
       "      <td>[[medical, oncology, pcu, orlando, florida, ho...</td>\n",
       "    </tr>\n",
       "    <tr>\n",
       "      <th>3</th>\n",
       "      <td>202394</td>\n",
       "      <td>Hitachi Data Systems</td>\n",
       "      <td>Title: Specialist Sales Account Representative...</td>\n",
       "      <td>NaN</td>\n",
       "      <td>NaN</td>\n",
       "      <td>NaN</td>\n",
       "      <td>NaN</td>\n",
       "      <td>NaN</td>\n",
       "      <td>[[Title, :, Specialist, Sales, Account, Repres...</td>\n",
       "      <td>[[title, specialist, sales, account, represent...</td>\n",
       "    </tr>\n",
       "    <tr>\n",
       "      <th>4</th>\n",
       "      <td>109675</td>\n",
       "      <td>Footprint Retail Services</td>\n",
       "      <td>**Footprint Retail Services** **Job Descriptio...</td>\n",
       "      <td>NaN</td>\n",
       "      <td>NaN</td>\n",
       "      <td>NaN</td>\n",
       "      <td>NaN</td>\n",
       "      <td>A Merchandiser must complete all assigned merc...</td>\n",
       "      <td>[[**Footprint, Retail, Services**, **Job, Desc...</td>\n",
       "      <td>[[retail, job, title, retail, merchandiser, re...</td>\n",
       "    </tr>\n",
       "    <tr>\n",
       "      <th>5</th>\n",
       "      <td>215973</td>\n",
       "      <td>Home Depot</td>\n",
       "      <td>Position Purpose: Provide outstanding service ...</td>\n",
       "      <td>Indiana</td>\n",
       "      <td>41.13060</td>\n",
       "      <td>-85.12886</td>\n",
       "      <td>NaN</td>\n",
       "      <td>Provide outstanding service to ensure efficien...</td>\n",
       "      <td>[[Position, Purpose, :, Provide, outstanding, ...</td>\n",
       "      <td>[[position, purpose, provide, outstanding, ser...</td>\n",
       "    </tr>\n",
       "    <tr>\n",
       "      <th>6</th>\n",
       "      <td>207524</td>\n",
       "      <td>Home Depot</td>\n",
       "      <td>The Asset Protection Specialist is primarily r...</td>\n",
       "      <td>New Jersey</td>\n",
       "      <td>40.21455</td>\n",
       "      <td>-74.61932</td>\n",
       "      <td>Must be eighteen years of age or older. Must p...</td>\n",
       "      <td>NaN</td>\n",
       "      <td>[[The, Asset, Protection, Specialist, is, prim...</td>\n",
       "      <td>[[the, asset, protection, specialist, is, prim...</td>\n",
       "    </tr>\n",
       "    <tr>\n",
       "      <th>7</th>\n",
       "      <td>64426</td>\n",
       "      <td>East West Bank</td>\n",
       "      <td># Job Description East West Bank is one of the...</td>\n",
       "      <td>California</td>\n",
       "      <td>34.06862</td>\n",
       "      <td>-118.02757</td>\n",
       "      <td>NaN</td>\n",
       "      <td>We are currently seeking a Customer Service Ce...</td>\n",
       "      <td>[[#, Job, Description, East, West, Bank, is, o...</td>\n",
       "      <td>[[job, description, east, west, bank, is, one,...</td>\n",
       "    </tr>\n",
       "    <tr>\n",
       "      <th>8</th>\n",
       "      <td>245192</td>\n",
       "      <td>IBM</td>\n",
       "      <td>Job Description IBM is seeking to hire a Senio...</td>\n",
       "      <td>NaN</td>\n",
       "      <td>NaN</td>\n",
       "      <td>NaN</td>\n",
       "      <td>NaN</td>\n",
       "      <td>NaN</td>\n",
       "      <td>[[Job, Description, IBM, is, seeking, to, hire...</td>\n",
       "      <td>[[job, description, ibm, is, seeking, to, hire...</td>\n",
       "    </tr>\n",
       "    <tr>\n",
       "      <th>9</th>\n",
       "      <td>202429</td>\n",
       "      <td>Hitachi Data Systems</td>\n",
       "      <td>Title: Field Solutions Engineer Location: New ...</td>\n",
       "      <td>NaN</td>\n",
       "      <td>NaN</td>\n",
       "      <td>NaN</td>\n",
       "      <td>NaN</td>\n",
       "      <td>Job Functions;Specific duties in this role wil...</td>\n",
       "      <td>[[Title, :, Field, Solutions, Engineer, Locati...</td>\n",
       "      <td>[[title, field, solutions, engineer, location,...</td>\n",
       "    </tr>\n",
       "    <tr>\n",
       "      <th>10</th>\n",
       "      <td>269503</td>\n",
       "      <td>J&amp;J Family of Companies</td>\n",
       "      <td>Project Manager (m/w) - Government &amp; Public Af...</td>\n",
       "      <td>NaN</td>\n",
       "      <td>NaN</td>\n",
       "      <td>NaN</td>\n",
       "      <td>NaN</td>\n",
       "      <td>NaN</td>\n",
       "      <td>[[Project, Manager, (, m/w, ), -, Government, ...</td>\n",
       "      <td>[[project, manager, government, public, jansse...</td>\n",
       "    </tr>\n",
       "    <tr>\n",
       "      <th>11</th>\n",
       "      <td>139164</td>\n",
       "      <td>Genesis Healthcare</td>\n",
       "      <td>Certified Medicine Aide Area of Interest: Nurs...</td>\n",
       "      <td>Kansas</td>\n",
       "      <td>39.10972</td>\n",
       "      <td>-95.08775</td>\n",
       "      <td>NaN</td>\n",
       "      <td>Receives report at the beginning of shift with...</td>\n",
       "      <td>[[Certified, Medicine, Aide, Area, of, Interes...</td>\n",
       "      <td>[[certified, medicine, aide, area, of, interes...</td>\n",
       "    </tr>\n",
       "    <tr>\n",
       "      <th>12</th>\n",
       "      <td>255915</td>\n",
       "      <td>Ingersoll Rand</td>\n",
       "      <td>**Description:** At Ingersoll Rand we're passi...</td>\n",
       "      <td>Tennessee</td>\n",
       "      <td>35.14953</td>\n",
       "      <td>-90.04898</td>\n",
       "      <td>Considerable knowledge of industry related sup...</td>\n",
       "      <td>Ingersoll Rand is a diverse and inclusive envi...</td>\n",
       "      <td>[[**Description, :, **, At, Ingersoll, Rand, w...</td>\n",
       "      <td>[[at, ingersoll, rand, we, passionate, about, ...</td>\n",
       "    </tr>\n",
       "    <tr>\n",
       "      <th>13</th>\n",
       "      <td>173294</td>\n",
       "      <td>HamiltonConstructionCompany</td>\n",
       "      <td>\"Hamilton Construction,in businesssince 1939 a...</td>\n",
       "      <td>Oregon</td>\n",
       "      <td>44.04624</td>\n",
       "      <td>-123.02203</td>\n",
       "      <td>NaN</td>\n",
       "      <td>NaN</td>\n",
       "      <td>[[``, Hamilton, Construction, ,, in, businesss...</td>\n",
       "      <td>[[hamilton, construction, in, businesssince, a...</td>\n",
       "    </tr>\n",
       "    <tr>\n",
       "      <th>14</th>\n",
       "      <td>116855</td>\n",
       "      <td>G6 Hospitality</td>\n",
       "      <td>Business Unit: DirectEmployers Title: Manager ...</td>\n",
       "      <td>Texas</td>\n",
       "      <td>32.83707</td>\n",
       "      <td>-97.08195</td>\n",
       "      <td>High School diploma or equivalent;Computer pro...</td>\n",
       "      <td>NaN</td>\n",
       "      <td>[[Business, Unit, :, DirectEmployers, Title, :...</td>\n",
       "      <td>[[business, unit, directemployers, title, mana...</td>\n",
       "    </tr>\n",
       "    <tr>\n",
       "      <th>15</th>\n",
       "      <td>40701</td>\n",
       "      <td>Dollar Tree</td>\n",
       "      <td>Auto req ID 41872BR Title ASSISTANT MANAGER Em...</td>\n",
       "      <td>Texas</td>\n",
       "      <td>32.85791</td>\n",
       "      <td>-97.25474</td>\n",
       "      <td>NaN</td>\n",
       "      <td>NaN</td>\n",
       "      <td>[[Auto, req, ID, 41872BR, Title, ASSISTANT, MA...</td>\n",
       "      <td>[[auto, req, id, title, assistant, manager, em...</td>\n",
       "    </tr>\n",
       "    <tr>\n",
       "      <th>16</th>\n",
       "      <td>292406</td>\n",
       "      <td>Johns Hopkins Medicine</td>\n",
       "      <td>Johns Hopkins employs more than 20,000 people ...</td>\n",
       "      <td>Maryland</td>\n",
       "      <td>39.29038</td>\n",
       "      <td>-76.61219</td>\n",
       "      <td>NaN</td>\n",
       "      <td>NaN</td>\n",
       "      <td>[[Johns, Hopkins, employs, more, than, 20,000,...</td>\n",
       "      <td>[[johns, hopkins, employs, more, than, people,...</td>\n",
       "    </tr>\n",
       "    <tr>\n",
       "      <th>17</th>\n",
       "      <td>358904</td>\n",
       "      <td>LHC Group</td>\n",
       "      <td>Job Description As a CNA, you will perform a v...</td>\n",
       "      <td>Alabama</td>\n",
       "      <td>34.74481</td>\n",
       "      <td>-87.66753</td>\n",
       "      <td>NaN</td>\n",
       "      <td>Your specific duties for this role will includ...</td>\n",
       "      <td>[[Job, Description, As, a, CNA, ,, you, will, ...</td>\n",
       "      <td>[[job, description, as, a, cna, you, will, per...</td>\n",
       "    </tr>\n",
       "    <tr>\n",
       "      <th>18</th>\n",
       "      <td>126507</td>\n",
       "      <td>GE</td>\n",
       "      <td>2306307 **Business** GE Capital **Business Seg...</td>\n",
       "      <td>NaN</td>\n",
       "      <td>NaN</td>\n",
       "      <td>NaN</td>\n",
       "      <td>Doswiadczenie w pracy na podobnym stanowisku;W...</td>\n",
       "      <td>Prowadzenie projektow zw\\. z rozwojem pracowni...</td>\n",
       "      <td>[[2306307, **Business**, GE, Capital, **Busine...</td>\n",
       "      <td>[[ge, capital, capital, international, bank, b...</td>\n",
       "    </tr>\n",
       "    <tr>\n",
       "      <th>19</th>\n",
       "      <td>90538</td>\n",
       "      <td>EY</td>\n",
       "      <td>Title: Greater China TAS Referrals (China Sout...</td>\n",
       "      <td>NaN</td>\n",
       "      <td>NaN</td>\n",
       "      <td>NaN</td>\n",
       "      <td>NaN</td>\n",
       "      <td>NaN</td>\n",
       "      <td>[[Title, :, Greater, China, TAS, Referrals, (,...</td>\n",
       "      <td>[[title, greater, china, tas, referrals, china...</td>\n",
       "    </tr>\n",
       "    <tr>\n",
       "      <th>20</th>\n",
       "      <td>59256</td>\n",
       "      <td>Dr Pepper Snapple Group</td>\n",
       "      <td>Merchandiser The Merchandiser is responsible f...</td>\n",
       "      <td>Texas</td>\n",
       "      <td>29.76328</td>\n",
       "      <td>-95.36327</td>\n",
       "      <td>NaN</td>\n",
       "      <td>NaN</td>\n",
       "      <td>[[Merchandiser, The, Merchandiser, is, respons...</td>\n",
       "      <td>[[merchandiser, the, merchandiser, is, respons...</td>\n",
       "    </tr>\n",
       "    <tr>\n",
       "      <th>21</th>\n",
       "      <td>85716</td>\n",
       "      <td>Eurofins Lancaster Laboratories</td>\n",
       "      <td>### Eurofins is the world leader in the food, ...</td>\n",
       "      <td>Ohio</td>\n",
       "      <td>39.55895</td>\n",
       "      <td>-84.30411</td>\n",
       "      <td>NaN</td>\n",
       "      <td>NaN</td>\n",
       "      <td>[[#, #, #, Eurofins, is, the, world, leader, i...</td>\n",
       "      <td>[[eurofins, is, the, world, leader, in, the, f...</td>\n",
       "    </tr>\n",
       "    <tr>\n",
       "      <th>22</th>\n",
       "      <td>203342</td>\n",
       "      <td>HMSHOST</td>\n",
       "      <td>\"**Having the right ingredients makes all the ...</td>\n",
       "      <td>NaN</td>\n",
       "      <td>NaN</td>\n",
       "      <td>NaN</td>\n",
       "      <td>NaN</td>\n",
       "      <td>\"Greets customers and takes food order provide...</td>\n",
       "      <td>[[``, **Having, the, right, ingredients, makes...</td>\n",
       "      <td>[[the, right, ingredients, makes, all, the, di...</td>\n",
       "    </tr>\n",
       "    <tr>\n",
       "      <th>23</th>\n",
       "      <td>283327</td>\n",
       "      <td>Jewel-Osco</td>\n",
       "      <td>JOB: Retail Clerk  Liquor/Beer/Wine JOB OVERVI...</td>\n",
       "      <td>Montana</td>\n",
       "      <td>48.19579</td>\n",
       "      <td>-114.31291</td>\n",
       "      <td>NaN</td>\n",
       "      <td>Sells, receives, stocks and may order beer/liq...</td>\n",
       "      <td>[[JOB, :, Retail, Clerk, Liquor/Beer/Wine, JOB...</td>\n",
       "      <td>[[job, retail, clerk, job, overview, provides,...</td>\n",
       "    </tr>\n",
       "    <tr>\n",
       "      <th>24</th>\n",
       "      <td>320876</td>\n",
       "      <td>KeyPoint Government Solutions</td>\n",
       "      <td>**Overview:** KeyPoint Government Solutions is...</td>\n",
       "      <td>NaN</td>\n",
       "      <td>NaN</td>\n",
       "      <td>NaN</td>\n",
       "      <td>NaN</td>\n",
       "      <td>NaN</td>\n",
       "      <td>[[**Overview, :, **, KeyPoint, Government, Sol...</td>\n",
       "      <td>[[keypoint, government, solutions, is, current...</td>\n",
       "    </tr>\n",
       "    <tr>\n",
       "      <th>25</th>\n",
       "      <td>311069</td>\n",
       "      <td>Kelly Services</td>\n",
       "      <td>**Strategic Sales Lead  Premier Brands and Con...</td>\n",
       "      <td>NaN</td>\n",
       "      <td>NaN</td>\n",
       "      <td>NaN</td>\n",
       "      <td>Bachelors degree (MBA preferred) or equivalent...</td>\n",
       "      <td>This is a field based corporate sales position...</td>\n",
       "      <td>[[**Strategic, Sales, Lead, Premier, Brands, a...</td>\n",
       "      <td>[[sales, lead, premier, brands, and, consumer,...</td>\n",
       "    </tr>\n",
       "    <tr>\n",
       "      <th>26</th>\n",
       "      <td>141835</td>\n",
       "      <td>Genesis Rehabilitation</td>\n",
       "      <td>Job Title: Occupational Therapist Area of Inte...</td>\n",
       "      <td>NaN</td>\n",
       "      <td>NaN</td>\n",
       "      <td>NaN</td>\n",
       "      <td>NaN</td>\n",
       "      <td>Screens, examines and evaluates patients, incl...</td>\n",
       "      <td>[[Job, Title, :, Occupational, Therapist, Area...</td>\n",
       "      <td>[[job, title, occupational, therapist, area, o...</td>\n",
       "    </tr>\n",
       "    <tr>\n",
       "      <th>27</th>\n",
       "      <td>202406</td>\n",
       "      <td>Hitachi Data Systems</td>\n",
       "      <td>Title: Pentaho-Sales Executive-Texas Location:...</td>\n",
       "      <td>NaN</td>\n",
       "      <td>NaN</td>\n",
       "      <td>NaN</td>\n",
       "      <td>NaN</td>\n",
       "      <td>NaN</td>\n",
       "      <td>[[Title, :, Pentaho-Sales, Executive-Texas, Lo...</td>\n",
       "      <td>[[title, location, texas, the, regional, accou...</td>\n",
       "    </tr>\n",
       "    <tr>\n",
       "      <th>28</th>\n",
       "      <td>111597</td>\n",
       "      <td>Franciscan St. Eilzabeth Health</td>\n",
       "      <td>Title: Respiratory Therapy, Intern Location: X...</td>\n",
       "      <td>NaN</td>\n",
       "      <td>NaN</td>\n",
       "      <td>NaN</td>\n",
       "      <td>NaN</td>\n",
       "      <td>NaN</td>\n",
       "      <td>[[Title, :, Respiratory, Therapy, ,, Intern, L...</td>\n",
       "      <td>[[title, respiratory, therapy, intern, location]]</td>\n",
       "    </tr>\n",
       "    <tr>\n",
       "      <th>29</th>\n",
       "      <td>260448</td>\n",
       "      <td>Intel</td>\n",
       "      <td>The Influencer Sales Group Solution Architect ...</td>\n",
       "      <td>Oregon</td>\n",
       "      <td>45.52289</td>\n",
       "      <td>-122.98983</td>\n",
       "      <td>NaN</td>\n",
       "      <td>NaN</td>\n",
       "      <td>[[The, Influencer, Sales, Group, Solution, Arc...</td>\n",
       "      <td>[[the, influencer, sales, group, solution, arc...</td>\n",
       "    </tr>\n",
       "    <tr>\n",
       "      <th>...</th>\n",
       "      <td>...</td>\n",
       "      <td>...</td>\n",
       "      <td>...</td>\n",
       "      <td>...</td>\n",
       "      <td>...</td>\n",
       "      <td>...</td>\n",
       "      <td>...</td>\n",
       "      <td>...</td>\n",
       "      <td>...</td>\n",
       "      <td>...</td>\n",
       "    </tr>\n",
       "    <tr>\n",
       "      <th>70</th>\n",
       "      <td>197429</td>\n",
       "      <td>Hill-Rom</td>\n",
       "      <td>Title: Contract Svc Admin Location: United Sta...</td>\n",
       "      <td>Michigan</td>\n",
       "      <td>42.78920</td>\n",
       "      <td>-85.51669</td>\n",
       "      <td>NaN</td>\n",
       "      <td>_ Other duties may be assigned:_</td>\n",
       "      <td>[[Title, :, Contract, Svc, Admin, Location, :,...</td>\n",
       "      <td>[[title, contract, svc, admin, location, unite...</td>\n",
       "    </tr>\n",
       "    <tr>\n",
       "      <th>71</th>\n",
       "      <td>359233</td>\n",
       "      <td>LHC Group</td>\n",
       "      <td>Job Description The Occupational Therapist is ...</td>\n",
       "      <td>Illinois</td>\n",
       "      <td>41.51337</td>\n",
       "      <td>-87.67421</td>\n",
       "      <td>NaN</td>\n",
       "      <td>NaN</td>\n",
       "      <td>[[Job, Description, The, Occupational, Therapi...</td>\n",
       "      <td>[[job, description, the, occupational, therapi...</td>\n",
       "    </tr>\n",
       "    <tr>\n",
       "      <th>72</th>\n",
       "      <td>5520</td>\n",
       "      <td>DCS Corporation</td>\n",
       "      <td>Systems Engineer - SE2-3678 Location: AL, Hunt...</td>\n",
       "      <td>Alabama</td>\n",
       "      <td>34.73037</td>\n",
       "      <td>-86.58610</td>\n",
       "      <td>NaN</td>\n",
       "      <td>Participate in preparation of technical and pr...</td>\n",
       "      <td>[[Systems, Engineer, -, SE2-3678, Location, :,...</td>\n",
       "      <td>[[systems, engineer, location, al, huntsville,...</td>\n",
       "    </tr>\n",
       "    <tr>\n",
       "      <th>73</th>\n",
       "      <td>205825</td>\n",
       "      <td>Home Depot</td>\n",
       "      <td>Position Purpose:Associates in Office/Store Su...</td>\n",
       "      <td>Massachusetts</td>\n",
       "      <td>42.12509</td>\n",
       "      <td>-72.74954</td>\n",
       "      <td>NaN</td>\n",
       "      <td>Usually in a comfortable environment but with ...</td>\n",
       "      <td>[[Position, Purpose, :, Associates, in, Office...</td>\n",
       "      <td>[[position, purpose, associates, in, support, ...</td>\n",
       "    </tr>\n",
       "    <tr>\n",
       "      <th>74</th>\n",
       "      <td>68546</td>\n",
       "      <td>Education Corporation of America</td>\n",
       "      <td># Description Education Corporation of America...</td>\n",
       "      <td>Alabama</td>\n",
       "      <td>33.52066</td>\n",
       "      <td>-86.80249</td>\n",
       "      <td>NaN</td>\n",
       "      <td>Education Corporation of America owns and oper...</td>\n",
       "      <td>[[#, Description, Education, Corporation, of, ...</td>\n",
       "      <td>[[description, education, corporation, of, ame...</td>\n",
       "    </tr>\n",
       "    <tr>\n",
       "      <th>75</th>\n",
       "      <td>141067</td>\n",
       "      <td>Genesis Rehabilitation</td>\n",
       "      <td>Job Title: Physical Therapist Area of Interest...</td>\n",
       "      <td>New Hampshire</td>\n",
       "      <td>42.99564</td>\n",
       "      <td>-71.45479</td>\n",
       "      <td>NaN</td>\n",
       "      <td>Genesis Rehabilitation Services is looking for...</td>\n",
       "      <td>[[Job, Title, :, Physical, Therapist, Area, of...</td>\n",
       "      <td>[[job, title, physical, therapist, area, of, i...</td>\n",
       "    </tr>\n",
       "    <tr>\n",
       "      <th>76</th>\n",
       "      <td>26925</td>\n",
       "      <td>Destination Hotels &amp; Resorts</td>\n",
       "      <td>Busser Property Paradise Point Resort &amp; Spa Co...</td>\n",
       "      <td>California</td>\n",
       "      <td>32.71533</td>\n",
       "      <td>-117.15726</td>\n",
       "      <td>NaN</td>\n",
       "      <td>NaN</td>\n",
       "      <td>[[Busser, Property, Paradise, Point, Resort, &amp;...</td>\n",
       "      <td>[[busser, property, paradise, point, resort, s...</td>\n",
       "    </tr>\n",
       "    <tr>\n",
       "      <th>77</th>\n",
       "      <td>81637</td>\n",
       "      <td>Epic Health Services</td>\n",
       "      <td>Epic Health Services, Inc. is looking for Bili...</td>\n",
       "      <td>New Jersey</td>\n",
       "      <td>39.95373</td>\n",
       "      <td>-74.19792</td>\n",
       "      <td>NaN</td>\n",
       "      <td>Provide skilled nursing care to pediatric and ...</td>\n",
       "      <td>[[Epic, Health, Services, ,, Inc., is, looking...</td>\n",
       "      <td>[[epic, health, services, is, looking, for, bi...</td>\n",
       "    </tr>\n",
       "    <tr>\n",
       "      <th>78</th>\n",
       "      <td>191317</td>\n",
       "      <td>Hewlett Packard Enterprise Company</td>\n",
       "      <td>Title: Software Engineer Location: China-Shang...</td>\n",
       "      <td>NaN</td>\n",
       "      <td>NaN</td>\n",
       "      <td>NaN</td>\n",
       "      <td>NaN</td>\n",
       "      <td>NaN</td>\n",
       "      <td>[[Title, :, Software, Engineer, Location, :, C...</td>\n",
       "      <td>[[title, software, engineer, location, other, ...</td>\n",
       "    </tr>\n",
       "    <tr>\n",
       "      <th>79</th>\n",
       "      <td>134395</td>\n",
       "      <td>Genesis Healthcare</td>\n",
       "      <td>Registered Nurse Area of Interest: Nursing - R...</td>\n",
       "      <td>Massachusetts</td>\n",
       "      <td>42.57509</td>\n",
       "      <td>-70.93005</td>\n",
       "      <td>Registered Nurse / RN Requirements:;Bachelor's...</td>\n",
       "      <td>Twin Oaks in Danvers MA is looking for a Per D...</td>\n",
       "      <td>[[Registered, Nurse, Area, of, Interest, :, Nu...</td>\n",
       "      <td>[[registered, nurse, area, of, interest, nursi...</td>\n",
       "    </tr>\n",
       "    <tr>\n",
       "      <th>80</th>\n",
       "      <td>177803</td>\n",
       "      <td>Harris Corporation</td>\n",
       "      <td>Description: Job Title: Electrical Engineer &amp;n...</td>\n",
       "      <td>Florida</td>\n",
       "      <td>28.03446</td>\n",
       "      <td>-80.58866</td>\n",
       "      <td>Master&amp;rsquo s degree in electrical engineerin...</td>\n",
       "      <td>NaN</td>\n",
       "      <td>[[Description, :, Job, Title, :, Electrical, E...</td>\n",
       "      <td>[[description, job, title, electrical, enginee...</td>\n",
       "    </tr>\n",
       "    <tr>\n",
       "      <th>81</th>\n",
       "      <td>222835</td>\n",
       "      <td>Home Depot</td>\n",
       "      <td>\"Position Purpose: Cashiers play a critical cu...</td>\n",
       "      <td>New Mexico</td>\n",
       "      <td>36.72806</td>\n",
       "      <td>-108.21869</td>\n",
       "      <td>NaN</td>\n",
       "      <td>Usually in a comfortable environment but with ...</td>\n",
       "      <td>[[``, Position, Purpose, :, Cashiers, play, a,...</td>\n",
       "      <td>[[position, purpose, cashiers, play, a, critic...</td>\n",
       "    </tr>\n",
       "    <tr>\n",
       "      <th>82</th>\n",
       "      <td>12790</td>\n",
       "      <td>Deloitte</td>\n",
       "      <td>Deloitte is one of the leading professional se...</td>\n",
       "      <td>Pennsylvania</td>\n",
       "      <td>39.95234</td>\n",
       "      <td>-75.16379</td>\n",
       "      <td>Establishes deliverable structure and content ...</td>\n",
       "      <td>Job Responsibilities;In providing finance-rela...</td>\n",
       "      <td>[[Deloitte, is, one, of, the, leading, profess...</td>\n",
       "      <td>[[deloitte, is, one, of, the, leading, profess...</td>\n",
       "    </tr>\n",
       "    <tr>\n",
       "      <th>83</th>\n",
       "      <td>319987</td>\n",
       "      <td>Kettering Medical Center</td>\n",
       "      <td>Description Greets patients and visitors in a ...</td>\n",
       "      <td>Ohio</td>\n",
       "      <td>39.68950</td>\n",
       "      <td>-84.16883</td>\n",
       "      <td>NaN</td>\n",
       "      <td>NaN</td>\n",
       "      <td>[[Description, Greets, patients, and, visitors...</td>\n",
       "      <td>[[description, greets, patients, and, visitors...</td>\n",
       "    </tr>\n",
       "    <tr>\n",
       "      <th>84</th>\n",
       "      <td>352211</td>\n",
       "      <td>Learning Care Group</td>\n",
       "      <td># Job Description Join our talented team, wher...</td>\n",
       "      <td>Arizona</td>\n",
       "      <td>33.42227</td>\n",
       "      <td>-111.82264</td>\n",
       "      <td>NaN</td>\n",
       "      <td>Join our talented team, where we inspire child...</td>\n",
       "      <td>[[#, Job, Description, Join, our, talented, te...</td>\n",
       "      <td>[[job, description, join, our, talented, team,...</td>\n",
       "    </tr>\n",
       "    <tr>\n",
       "      <th>85</th>\n",
       "      <td>233278</td>\n",
       "      <td>Humana</td>\n",
       "      <td>Role: Technology Architect Assignment: IT Loca...</td>\n",
       "      <td>Kentucky</td>\n",
       "      <td>38.25424</td>\n",
       "      <td>-85.75941</td>\n",
       "      <td>NaN</td>\n",
       "      <td>Guide all aspects of design, implementation an...</td>\n",
       "      <td>[[Role, :, Technology, Architect, Assignment, ...</td>\n",
       "      <td>[[role, technology, architect, assignment, it,...</td>\n",
       "    </tr>\n",
       "    <tr>\n",
       "      <th>86</th>\n",
       "      <td>338881</td>\n",
       "      <td>Kronos Incorporated</td>\n",
       "      <td>* Observes and reports activities and incident...</td>\n",
       "      <td>Tennessee</td>\n",
       "      <td>36.32311</td>\n",
       "      <td>-86.71333</td>\n",
       "      <td>NaN</td>\n",
       "      <td>NaN</td>\n",
       "      <td>[[*, Observes, and, reports, activities, and, ...</td>\n",
       "      <td>[[observes, and, reports, activities, and, inc...</td>\n",
       "    </tr>\n",
       "    <tr>\n",
       "      <th>87</th>\n",
       "      <td>53773</td>\n",
       "      <td>Dominos Pizza</td>\n",
       "      <td>\"ABOUT THE JOB Do you know why Domino's Pizza ...</td>\n",
       "      <td>Texas</td>\n",
       "      <td>29.76328</td>\n",
       "      <td>-95.36327</td>\n",
       "      <td>General job duties for all store team members;...</td>\n",
       "      <td>\"You must be 18 years of age and have a valid ...</td>\n",
       "      <td>[[``, ABOUT, THE, JOB, Do, you, know, why, Dom...</td>\n",
       "      <td>[[about, the, job, do, you, know, why, domino,...</td>\n",
       "    </tr>\n",
       "    <tr>\n",
       "      <th>88</th>\n",
       "      <td>158203</td>\n",
       "      <td>Golden Living</td>\n",
       "      <td>Registered Dietician at AseraCare Hospice work...</td>\n",
       "      <td>Texas</td>\n",
       "      <td>29.76328</td>\n",
       "      <td>-95.36327</td>\n",
       "      <td>NaN</td>\n",
       "      <td>NaN</td>\n",
       "      <td>[[Registered, Dietician, at, AseraCare, Hospic...</td>\n",
       "      <td>[[registered, dietician, at, aseracare, hospic...</td>\n",
       "    </tr>\n",
       "    <tr>\n",
       "      <th>89</th>\n",
       "      <td>156994</td>\n",
       "      <td>Golden Living</td>\n",
       "      <td>At Golden LivingCenters, we care for every pat...</td>\n",
       "      <td>South Dakota</td>\n",
       "      <td>44.08054</td>\n",
       "      <td>-103.23101</td>\n",
       "      <td>Currently licensed or registered in state of p...</td>\n",
       "      <td>NaN</td>\n",
       "      <td>[[At, Golden, LivingCenters, ,, we, care, for,...</td>\n",
       "      <td>[[at, golden, livingcenters, we, care, for, ev...</td>\n",
       "    </tr>\n",
       "    <tr>\n",
       "      <th>90</th>\n",
       "      <td>249542</td>\n",
       "      <td>ICF International</td>\n",
       "      <td>Energy Efficiency and Low Income Representativ...</td>\n",
       "      <td>Michigan</td>\n",
       "      <td>42.27756</td>\n",
       "      <td>-83.74088</td>\n",
       "      <td>/ /;/ /</td>\n",
       "      <td>NaN</td>\n",
       "      <td>[[Energy, Efficiency, and, Low, Income, Repres...</td>\n",
       "      <td>[[energy, efficiency, and, low, income, repres...</td>\n",
       "    </tr>\n",
       "    <tr>\n",
       "      <th>91</th>\n",
       "      <td>173219</td>\n",
       "      <td>Hallmark Health</td>\n",
       "      <td>Office Coordinator Geriatric Assessment Center...</td>\n",
       "      <td>Massachusetts</td>\n",
       "      <td>42.41843</td>\n",
       "      <td>-71.10616</td>\n",
       "      <td>NaN</td>\n",
       "      <td>High School Diploma or equivalent. Bachelor's ...</td>\n",
       "      <td>[[Office, Coordinator, Geriatric, Assessment, ...</td>\n",
       "      <td>[[office, coordinator, geriatric, assessment, ...</td>\n",
       "    </tr>\n",
       "    <tr>\n",
       "      <th>92</th>\n",
       "      <td>50969</td>\n",
       "      <td>Dominos Pizza</td>\n",
       "      <td>Customer Service Representative Are you ready ...</td>\n",
       "      <td>South Dakota</td>\n",
       "      <td>42.87111</td>\n",
       "      <td>-97.39728</td>\n",
       "      <td>NaN</td>\n",
       "      <td>NaN</td>\n",
       "      <td>[[Customer, Service, Representative, Are, you,...</td>\n",
       "      <td>[[customer, service, representative, are, you,...</td>\n",
       "    </tr>\n",
       "    <tr>\n",
       "      <th>93</th>\n",
       "      <td>331404</td>\n",
       "      <td>Kforce</td>\n",
       "      <td>Kforce has a client in Beaverton, Oregon (OR) ...</td>\n",
       "      <td>Oregon</td>\n",
       "      <td>45.48706</td>\n",
       "      <td>-122.80371</td>\n",
       "      <td>NaN</td>\n",
       "      <td>NaN</td>\n",
       "      <td>[[Kforce, has, a, client, in, Beaverton, ,, Or...</td>\n",
       "      <td>[[kforce, has, a, client, in, beaverton, orego...</td>\n",
       "    </tr>\n",
       "    <tr>\n",
       "      <th>94</th>\n",
       "      <td>322250</td>\n",
       "      <td>Kforce</td>\n",
       "      <td>Kforce has a client in Stamford, Connecticut (...</td>\n",
       "      <td>Connecticut</td>\n",
       "      <td>41.05343</td>\n",
       "      <td>-73.53873</td>\n",
       "      <td>NaN</td>\n",
       "      <td>NaN</td>\n",
       "      <td>[[Kforce, has, a, client, in, Stamford, ,, Con...</td>\n",
       "      <td>[[kforce, has, a, client, in, stamford, connec...</td>\n",
       "    </tr>\n",
       "    <tr>\n",
       "      <th>95</th>\n",
       "      <td>157791</td>\n",
       "      <td>Golden Living</td>\n",
       "      <td>Here at Golden LivingCenters, we rely on and t...</td>\n",
       "      <td>Nebraska</td>\n",
       "      <td>40.67667</td>\n",
       "      <td>-95.85917</td>\n",
       "      <td>High school diploma or equivalent;Must within ...</td>\n",
       "      <td>NaN</td>\n",
       "      <td>[[Here, at, Golden, LivingCenters, ,, we, rely...</td>\n",
       "      <td>[[here, at, golden, livingcenters, we, rely, o...</td>\n",
       "    </tr>\n",
       "    <tr>\n",
       "      <th>96</th>\n",
       "      <td>119835</td>\n",
       "      <td>GameStop</td>\n",
       "      <td>\"*Description* Description: SUMMARY At GameSto...</td>\n",
       "      <td>New York</td>\n",
       "      <td>40.68149</td>\n",
       "      <td>-73.39984</td>\n",
       "      <td>NaN</td>\n",
       "      <td>NaN</td>\n",
       "      <td>[[``, *Description*, Description, :, SUMMARY, ...</td>\n",
       "      <td>[[description, summary, at, gamestop, we, refe...</td>\n",
       "    </tr>\n",
       "    <tr>\n",
       "      <th>97</th>\n",
       "      <td>285609</td>\n",
       "      <td>Jewel-Osco</td>\n",
       "      <td>\"Updated 6/2011 JOB TITLE: Service Clerk (Bagg...</td>\n",
       "      <td>Illinois</td>\n",
       "      <td>41.66892</td>\n",
       "      <td>-87.73866</td>\n",
       "      <td>NaN</td>\n",
       "      <td>Provides prompt, efficient and friendly custom...</td>\n",
       "      <td>[[``, Updated, 6/2011, JOB, TITLE, :, Service,...</td>\n",
       "      <td>[[updated, job, title, service, clerk, bagger,...</td>\n",
       "    </tr>\n",
       "    <tr>\n",
       "      <th>98</th>\n",
       "      <td>89260</td>\n",
       "      <td>Express Scripts</td>\n",
       "      <td>\"Schedule: Full-time Job ID: 1500071I The Sale...</td>\n",
       "      <td>Missouri</td>\n",
       "      <td>38.62727</td>\n",
       "      <td>-90.19789</td>\n",
       "      <td>NaN</td>\n",
       "      <td>o Proactive management of Houston entry &amp; comp...</td>\n",
       "      <td>[[``, Schedule, :, Full-time, Job, ID, :, 1500...</td>\n",
       "      <td>[[schedule, job, id, the, sales, coordinator, ...</td>\n",
       "    </tr>\n",
       "    <tr>\n",
       "      <th>99</th>\n",
       "      <td>280096</td>\n",
       "      <td>JCPenney</td>\n",
       "      <td>Temp Support Specialist- Mall of Louisiana Loc...</td>\n",
       "      <td>Louisiana</td>\n",
       "      <td>30.45075</td>\n",
       "      <td>-91.15455</td>\n",
       "      <td>NaN</td>\n",
       "      <td>Executes the merchandise strategy You take the...</td>\n",
       "      <td>[[Temp, Support, Specialist-, Mall, of, Louisi...</td>\n",
       "      <td>[[temp, support, mall, of, louisiana, location...</td>\n",
       "    </tr>\n",
       "  </tbody>\n",
       "</table>\n",
       "<p>100 rows × 10 columns</p>\n",
       "</div>"
      ],
      "text/plain": [
       "    Unnamed: 0 hiringOrganization_organizationName  \\\n",
       "0       158844       Golfsmith International, Inc.   \n",
       "1       257645                               Intel   \n",
       "2       107875                    Florida Hospital   \n",
       "3       202394                Hitachi Data Systems   \n",
       "4       109675           Footprint Retail Services   \n",
       "5       215973                          Home Depot   \n",
       "6       207524                          Home Depot   \n",
       "7        64426                      East West Bank   \n",
       "8       245192                                 IBM   \n",
       "9       202429                Hitachi Data Systems   \n",
       "10      269503             J&J Family of Companies   \n",
       "11      139164                  Genesis Healthcare   \n",
       "12      255915                      Ingersoll Rand   \n",
       "13      173294         HamiltonConstructionCompany   \n",
       "14      116855                      G6 Hospitality   \n",
       "15       40701                         Dollar Tree   \n",
       "16      292406              Johns Hopkins Medicine   \n",
       "17      358904                           LHC Group   \n",
       "18      126507                                  GE   \n",
       "19       90538                                  EY   \n",
       "20       59256             Dr Pepper Snapple Group   \n",
       "21       85716     Eurofins Lancaster Laboratories   \n",
       "22      203342                             HMSHOST   \n",
       "23      283327                          Jewel-Osco   \n",
       "24      320876       KeyPoint Government Solutions   \n",
       "25      311069                      Kelly Services   \n",
       "26      141835              Genesis Rehabilitation   \n",
       "27      202406                Hitachi Data Systems   \n",
       "28      111597     Franciscan St. Eilzabeth Health   \n",
       "29      260448                               Intel   \n",
       "..         ...                                 ...   \n",
       "70      197429                            Hill-Rom   \n",
       "71      359233                           LHC Group   \n",
       "72        5520                     DCS Corporation   \n",
       "73      205825                          Home Depot   \n",
       "74       68546    Education Corporation of America   \n",
       "75      141067              Genesis Rehabilitation   \n",
       "76       26925        Destination Hotels & Resorts   \n",
       "77       81637                Epic Health Services   \n",
       "78      191317  Hewlett Packard Enterprise Company   \n",
       "79      134395                  Genesis Healthcare   \n",
       "80      177803                  Harris Corporation   \n",
       "81      222835                          Home Depot   \n",
       "82       12790                            Deloitte   \n",
       "83      319987            Kettering Medical Center   \n",
       "84      352211                 Learning Care Group   \n",
       "85      233278                              Humana   \n",
       "86      338881                 Kronos Incorporated   \n",
       "87       53773                       Dominos Pizza   \n",
       "88      158203                       Golden Living   \n",
       "89      156994                       Golden Living   \n",
       "90      249542                   ICF International   \n",
       "91      173219                     Hallmark Health   \n",
       "92       50969                       Dominos Pizza   \n",
       "93      331404                              Kforce   \n",
       "94      322250                              Kforce   \n",
       "95      157791                       Golden Living   \n",
       "96      119835                            GameStop   \n",
       "97      285609                          Jewel-Osco   \n",
       "98       89260                     Express Scripts   \n",
       "99      280096                            JCPenney   \n",
       "\n",
       "                                       jobDescription  \\\n",
       "0   \"Sales Associate Tracking Code 220425-971 Job ...   \n",
       "1   For PHY system engineering team within the Wir...   \n",
       "2   *RN Medical Oncology PCU Orlando - Nights* Flo...   \n",
       "3   Title: Specialist Sales Account Representative...   \n",
       "4   **Footprint Retail Services** **Job Descriptio...   \n",
       "5   Position Purpose: Provide outstanding service ...   \n",
       "6   The Asset Protection Specialist is primarily r...   \n",
       "7   # Job Description East West Bank is one of the...   \n",
       "8   Job Description IBM is seeking to hire a Senio...   \n",
       "9   Title: Field Solutions Engineer Location: New ...   \n",
       "10  Project Manager (m/w) - Government & Public Af...   \n",
       "11  Certified Medicine Aide Area of Interest: Nurs...   \n",
       "12  **Description:** At Ingersoll Rand we're passi...   \n",
       "13  \"Hamilton Construction,in businesssince 1939 a...   \n",
       "14  Business Unit: DirectEmployers Title: Manager ...   \n",
       "15  Auto req ID 41872BR Title ASSISTANT MANAGER Em...   \n",
       "16  Johns Hopkins employs more than 20,000 people ...   \n",
       "17  Job Description As a CNA, you will perform a v...   \n",
       "18  2306307 **Business** GE Capital **Business Seg...   \n",
       "19  Title: Greater China TAS Referrals (China Sout...   \n",
       "20  Merchandiser The Merchandiser is responsible f...   \n",
       "21  ### Eurofins is the world leader in the food, ...   \n",
       "22  \"**Having the right ingredients makes all the ...   \n",
       "23  JOB: Retail Clerk  Liquor/Beer/Wine JOB OVERVI...   \n",
       "24  **Overview:** KeyPoint Government Solutions is...   \n",
       "25  **Strategic Sales Lead  Premier Brands and Con...   \n",
       "26  Job Title: Occupational Therapist Area of Inte...   \n",
       "27  Title: Pentaho-Sales Executive-Texas Location:...   \n",
       "28  Title: Respiratory Therapy, Intern Location: X...   \n",
       "29  The Influencer Sales Group Solution Architect ...   \n",
       "..                                                ...   \n",
       "70  Title: Contract Svc Admin Location: United Sta...   \n",
       "71  Job Description The Occupational Therapist is ...   \n",
       "72  Systems Engineer - SE2-3678 Location: AL, Hunt...   \n",
       "73  Position Purpose:Associates in Office/Store Su...   \n",
       "74  # Description Education Corporation of America...   \n",
       "75  Job Title: Physical Therapist Area of Interest...   \n",
       "76  Busser Property Paradise Point Resort & Spa Co...   \n",
       "77  Epic Health Services, Inc. is looking for Bili...   \n",
       "78  Title: Software Engineer Location: China-Shang...   \n",
       "79  Registered Nurse Area of Interest: Nursing - R...   \n",
       "80  Description: Job Title: Electrical Engineer &n...   \n",
       "81  \"Position Purpose: Cashiers play a critical cu...   \n",
       "82  Deloitte is one of the leading professional se...   \n",
       "83  Description Greets patients and visitors in a ...   \n",
       "84  # Job Description Join our talented team, wher...   \n",
       "85  Role: Technology Architect Assignment: IT Loca...   \n",
       "86  * Observes and reports activities and incident...   \n",
       "87  \"ABOUT THE JOB Do you know why Domino's Pizza ...   \n",
       "88  Registered Dietician at AseraCare Hospice work...   \n",
       "89  At Golden LivingCenters, we care for every pat...   \n",
       "90  Energy Efficiency and Low Income Representativ...   \n",
       "91  Office Coordinator Geriatric Assessment Center...   \n",
       "92  Customer Service Representative Are you ready ...   \n",
       "93  Kforce has a client in Beaverton, Oregon (OR) ...   \n",
       "94  Kforce has a client in Stamford, Connecticut (...   \n",
       "95  Here at Golden LivingCenters, we rely on and t...   \n",
       "96  \"*Description* Description: SUMMARY At GameSto...   \n",
       "97  \"Updated 6/2011 JOB TITLE: Service Clerk (Bagg...   \n",
       "98  \"Schedule: Full-time Job ID: 1500071I The Sale...   \n",
       "99  Temp Support Specialist- Mall of Louisiana Loc...   \n",
       "\n",
       "   jobLocation_address_region  jobLocation_geo_latitude  \\\n",
       "0                  California                  33.91918   \n",
       "1                         NaN                       NaN   \n",
       "2                     Florida                  28.53834   \n",
       "3                         NaN                       NaN   \n",
       "4                         NaN                       NaN   \n",
       "5                     Indiana                  41.13060   \n",
       "6                  New Jersey                  40.21455   \n",
       "7                  California                  34.06862   \n",
       "8                         NaN                       NaN   \n",
       "9                         NaN                       NaN   \n",
       "10                        NaN                       NaN   \n",
       "11                     Kansas                  39.10972   \n",
       "12                  Tennessee                  35.14953   \n",
       "13                     Oregon                  44.04624   \n",
       "14                      Texas                  32.83707   \n",
       "15                      Texas                  32.85791   \n",
       "16                   Maryland                  39.29038   \n",
       "17                    Alabama                  34.74481   \n",
       "18                        NaN                       NaN   \n",
       "19                        NaN                       NaN   \n",
       "20                      Texas                  29.76328   \n",
       "21                       Ohio                  39.55895   \n",
       "22                        NaN                       NaN   \n",
       "23                    Montana                  48.19579   \n",
       "24                        NaN                       NaN   \n",
       "25                        NaN                       NaN   \n",
       "26                        NaN                       NaN   \n",
       "27                        NaN                       NaN   \n",
       "28                        NaN                       NaN   \n",
       "29                     Oregon                  45.52289   \n",
       "..                        ...                       ...   \n",
       "70                   Michigan                  42.78920   \n",
       "71                   Illinois                  41.51337   \n",
       "72                    Alabama                  34.73037   \n",
       "73              Massachusetts                  42.12509   \n",
       "74                    Alabama                  33.52066   \n",
       "75              New Hampshire                  42.99564   \n",
       "76                 California                  32.71533   \n",
       "77                 New Jersey                  39.95373   \n",
       "78                        NaN                       NaN   \n",
       "79              Massachusetts                  42.57509   \n",
       "80                    Florida                  28.03446   \n",
       "81                 New Mexico                  36.72806   \n",
       "82               Pennsylvania                  39.95234   \n",
       "83                       Ohio                  39.68950   \n",
       "84                    Arizona                  33.42227   \n",
       "85                   Kentucky                  38.25424   \n",
       "86                  Tennessee                  36.32311   \n",
       "87                      Texas                  29.76328   \n",
       "88                      Texas                  29.76328   \n",
       "89               South Dakota                  44.08054   \n",
       "90                   Michigan                  42.27756   \n",
       "91              Massachusetts                  42.41843   \n",
       "92               South Dakota                  42.87111   \n",
       "93                     Oregon                  45.48706   \n",
       "94                Connecticut                  41.05343   \n",
       "95                   Nebraska                  40.67667   \n",
       "96                   New York                  40.68149   \n",
       "97                   Illinois                  41.66892   \n",
       "98                   Missouri                  38.62727   \n",
       "99                  Louisiana                  30.45075   \n",
       "\n",
       "    jobLocation_geo_longitude  \\\n",
       "0                  -118.41647   \n",
       "1                         NaN   \n",
       "2                   -81.37924   \n",
       "3                         NaN   \n",
       "4                         NaN   \n",
       "5                   -85.12886   \n",
       "6                   -74.61932   \n",
       "7                  -118.02757   \n",
       "8                         NaN   \n",
       "9                         NaN   \n",
       "10                        NaN   \n",
       "11                  -95.08775   \n",
       "12                  -90.04898   \n",
       "13                 -123.02203   \n",
       "14                  -97.08195   \n",
       "15                  -97.25474   \n",
       "16                  -76.61219   \n",
       "17                  -87.66753   \n",
       "18                        NaN   \n",
       "19                        NaN   \n",
       "20                  -95.36327   \n",
       "21                  -84.30411   \n",
       "22                        NaN   \n",
       "23                 -114.31291   \n",
       "24                        NaN   \n",
       "25                        NaN   \n",
       "26                        NaN   \n",
       "27                        NaN   \n",
       "28                        NaN   \n",
       "29                 -122.98983   \n",
       "..                        ...   \n",
       "70                  -85.51669   \n",
       "71                  -87.67421   \n",
       "72                  -86.58610   \n",
       "73                  -72.74954   \n",
       "74                  -86.80249   \n",
       "75                  -71.45479   \n",
       "76                 -117.15726   \n",
       "77                  -74.19792   \n",
       "78                        NaN   \n",
       "79                  -70.93005   \n",
       "80                  -80.58866   \n",
       "81                 -108.21869   \n",
       "82                  -75.16379   \n",
       "83                  -84.16883   \n",
       "84                 -111.82264   \n",
       "85                  -85.75941   \n",
       "86                  -86.71333   \n",
       "87                  -95.36327   \n",
       "88                  -95.36327   \n",
       "89                 -103.23101   \n",
       "90                  -83.74088   \n",
       "91                  -71.10616   \n",
       "92                  -97.39728   \n",
       "93                 -122.80371   \n",
       "94                  -73.53873   \n",
       "95                  -95.85917   \n",
       "96                  -73.39984   \n",
       "97                  -87.73866   \n",
       "98                  -90.19789   \n",
       "99                  -91.15455   \n",
       "\n",
       "                                       qualifications  \\\n",
       "0                                                 NaN   \n",
       "1                                                 NaN   \n",
       "2                                                 NaN   \n",
       "3                                                 NaN   \n",
       "4                                                 NaN   \n",
       "5                                                 NaN   \n",
       "6   Must be eighteen years of age or older. Must p...   \n",
       "7                                                 NaN   \n",
       "8                                                 NaN   \n",
       "9                                                 NaN   \n",
       "10                                                NaN   \n",
       "11                                                NaN   \n",
       "12  Considerable knowledge of industry related sup...   \n",
       "13                                                NaN   \n",
       "14  High School diploma or equivalent;Computer pro...   \n",
       "15                                                NaN   \n",
       "16                                                NaN   \n",
       "17                                                NaN   \n",
       "18  Doswiadczenie w pracy na podobnym stanowisku;W...   \n",
       "19                                                NaN   \n",
       "20                                                NaN   \n",
       "21                                                NaN   \n",
       "22                                                NaN   \n",
       "23                                                NaN   \n",
       "24                                                NaN   \n",
       "25  Bachelors degree (MBA preferred) or equivalent...   \n",
       "26                                                NaN   \n",
       "27                                                NaN   \n",
       "28                                                NaN   \n",
       "29                                                NaN   \n",
       "..                                                ...   \n",
       "70                                                NaN   \n",
       "71                                                NaN   \n",
       "72                                                NaN   \n",
       "73                                                NaN   \n",
       "74                                                NaN   \n",
       "75                                                NaN   \n",
       "76                                                NaN   \n",
       "77                                                NaN   \n",
       "78                                                NaN   \n",
       "79  Registered Nurse / RN Requirements:;Bachelor's...   \n",
       "80  Master&rsquo s degree in electrical engineerin...   \n",
       "81                                                NaN   \n",
       "82  Establishes deliverable structure and content ...   \n",
       "83                                                NaN   \n",
       "84                                                NaN   \n",
       "85                                                NaN   \n",
       "86                                                NaN   \n",
       "87  General job duties for all store team members;...   \n",
       "88                                                NaN   \n",
       "89  Currently licensed or registered in state of p...   \n",
       "90                                            / /;/ /   \n",
       "91                                                NaN   \n",
       "92                                                NaN   \n",
       "93                                                NaN   \n",
       "94                                                NaN   \n",
       "95  High school diploma or equivalent;Must within ...   \n",
       "96                                                NaN   \n",
       "97                                                NaN   \n",
       "98                                                NaN   \n",
       "99                                                NaN   \n",
       "\n",
       "                                     responsibilities  \\\n",
       "0   \"Ensure each Customer receives exceptional ser...   \n",
       "1                                                 NaN   \n",
       "2                                                 NaN   \n",
       "3                                                 NaN   \n",
       "4   A Merchandiser must complete all assigned merc...   \n",
       "5   Provide outstanding service to ensure efficien...   \n",
       "6                                                 NaN   \n",
       "7   We are currently seeking a Customer Service Ce...   \n",
       "8                                                 NaN   \n",
       "9   Job Functions;Specific duties in this role wil...   \n",
       "10                                                NaN   \n",
       "11  Receives report at the beginning of shift with...   \n",
       "12  Ingersoll Rand is a diverse and inclusive envi...   \n",
       "13                                                NaN   \n",
       "14                                                NaN   \n",
       "15                                                NaN   \n",
       "16                                                NaN   \n",
       "17  Your specific duties for this role will includ...   \n",
       "18  Prowadzenie projektow zw\\. z rozwojem pracowni...   \n",
       "19                                                NaN   \n",
       "20                                                NaN   \n",
       "21                                                NaN   \n",
       "22  \"Greets customers and takes food order provide...   \n",
       "23  Sells, receives, stocks and may order beer/liq...   \n",
       "24                                                NaN   \n",
       "25  This is a field based corporate sales position...   \n",
       "26  Screens, examines and evaluates patients, incl...   \n",
       "27                                                NaN   \n",
       "28                                                NaN   \n",
       "29                                                NaN   \n",
       "..                                                ...   \n",
       "70                   _ Other duties may be assigned:_   \n",
       "71                                                NaN   \n",
       "72  Participate in preparation of technical and pr...   \n",
       "73  Usually in a comfortable environment but with ...   \n",
       "74  Education Corporation of America owns and oper...   \n",
       "75  Genesis Rehabilitation Services is looking for...   \n",
       "76                                                NaN   \n",
       "77  Provide skilled nursing care to pediatric and ...   \n",
       "78                                                NaN   \n",
       "79  Twin Oaks in Danvers MA is looking for a Per D...   \n",
       "80                                                NaN   \n",
       "81  Usually in a comfortable environment but with ...   \n",
       "82  Job Responsibilities;In providing finance-rela...   \n",
       "83                                                NaN   \n",
       "84  Join our talented team, where we inspire child...   \n",
       "85  Guide all aspects of design, implementation an...   \n",
       "86                                                NaN   \n",
       "87  \"You must be 18 years of age and have a valid ...   \n",
       "88                                                NaN   \n",
       "89                                                NaN   \n",
       "90                                                NaN   \n",
       "91  High School Diploma or equivalent. Bachelor's ...   \n",
       "92                                                NaN   \n",
       "93                                                NaN   \n",
       "94                                                NaN   \n",
       "95                                                NaN   \n",
       "96                                                NaN   \n",
       "97  Provides prompt, efficient and friendly custom...   \n",
       "98  o Proactive management of Houston entry & comp...   \n",
       "99  Executes the merchandise strategy You take the...   \n",
       "\n",
       "                                      tokenized_sents  \\\n",
       "0   [[``, Sales, Associate, Tracking, Code, 220425...   \n",
       "1   [[For, PHY, system, engineering, team, within,...   \n",
       "2   [[*RN, Medical, Oncology, PCU, Orlando, -, Nig...   \n",
       "3   [[Title, :, Specialist, Sales, Account, Repres...   \n",
       "4   [[**Footprint, Retail, Services**, **Job, Desc...   \n",
       "5   [[Position, Purpose, :, Provide, outstanding, ...   \n",
       "6   [[The, Asset, Protection, Specialist, is, prim...   \n",
       "7   [[#, Job, Description, East, West, Bank, is, o...   \n",
       "8   [[Job, Description, IBM, is, seeking, to, hire...   \n",
       "9   [[Title, :, Field, Solutions, Engineer, Locati...   \n",
       "10  [[Project, Manager, (, m/w, ), -, Government, ...   \n",
       "11  [[Certified, Medicine, Aide, Area, of, Interes...   \n",
       "12  [[**Description, :, **, At, Ingersoll, Rand, w...   \n",
       "13  [[``, Hamilton, Construction, ,, in, businesss...   \n",
       "14  [[Business, Unit, :, DirectEmployers, Title, :...   \n",
       "15  [[Auto, req, ID, 41872BR, Title, ASSISTANT, MA...   \n",
       "16  [[Johns, Hopkins, employs, more, than, 20,000,...   \n",
       "17  [[Job, Description, As, a, CNA, ,, you, will, ...   \n",
       "18  [[2306307, **Business**, GE, Capital, **Busine...   \n",
       "19  [[Title, :, Greater, China, TAS, Referrals, (,...   \n",
       "20  [[Merchandiser, The, Merchandiser, is, respons...   \n",
       "21  [[#, #, #, Eurofins, is, the, world, leader, i...   \n",
       "22  [[``, **Having, the, right, ingredients, makes...   \n",
       "23  [[JOB, :, Retail, Clerk, Liquor/Beer/Wine, JOB...   \n",
       "24  [[**Overview, :, **, KeyPoint, Government, Sol...   \n",
       "25  [[**Strategic, Sales, Lead, Premier, Brands, a...   \n",
       "26  [[Job, Title, :, Occupational, Therapist, Area...   \n",
       "27  [[Title, :, Pentaho-Sales, Executive-Texas, Lo...   \n",
       "28  [[Title, :, Respiratory, Therapy, ,, Intern, L...   \n",
       "29  [[The, Influencer, Sales, Group, Solution, Arc...   \n",
       "..                                                ...   \n",
       "70  [[Title, :, Contract, Svc, Admin, Location, :,...   \n",
       "71  [[Job, Description, The, Occupational, Therapi...   \n",
       "72  [[Systems, Engineer, -, SE2-3678, Location, :,...   \n",
       "73  [[Position, Purpose, :, Associates, in, Office...   \n",
       "74  [[#, Description, Education, Corporation, of, ...   \n",
       "75  [[Job, Title, :, Physical, Therapist, Area, of...   \n",
       "76  [[Busser, Property, Paradise, Point, Resort, &...   \n",
       "77  [[Epic, Health, Services, ,, Inc., is, looking...   \n",
       "78  [[Title, :, Software, Engineer, Location, :, C...   \n",
       "79  [[Registered, Nurse, Area, of, Interest, :, Nu...   \n",
       "80  [[Description, :, Job, Title, :, Electrical, E...   \n",
       "81  [[``, Position, Purpose, :, Cashiers, play, a,...   \n",
       "82  [[Deloitte, is, one, of, the, leading, profess...   \n",
       "83  [[Description, Greets, patients, and, visitors...   \n",
       "84  [[#, Job, Description, Join, our, talented, te...   \n",
       "85  [[Role, :, Technology, Architect, Assignment, ...   \n",
       "86  [[*, Observes, and, reports, activities, and, ...   \n",
       "87  [[``, ABOUT, THE, JOB, Do, you, know, why, Dom...   \n",
       "88  [[Registered, Dietician, at, AseraCare, Hospic...   \n",
       "89  [[At, Golden, LivingCenters, ,, we, care, for,...   \n",
       "90  [[Energy, Efficiency, and, Low, Income, Repres...   \n",
       "91  [[Office, Coordinator, Geriatric, Assessment, ...   \n",
       "92  [[Customer, Service, Representative, Are, you,...   \n",
       "93  [[Kforce, has, a, client, in, Beaverton, ,, Or...   \n",
       "94  [[Kforce, has, a, client, in, Stamford, ,, Con...   \n",
       "95  [[Here, at, Golden, LivingCenters, ,, we, rely...   \n",
       "96  [[``, *Description*, Description, :, SUMMARY, ...   \n",
       "97  [[``, Updated, 6/2011, JOB, TITLE, :, Service,...   \n",
       "98  [[``, Schedule, :, Full-time, Job, ID, :, 1500...   \n",
       "99  [[Temp, Support, Specialist-, Mall, of, Louisi...   \n",
       "\n",
       "                                     normalized_sents  \n",
       "0   [[sales, associate, tracking, code, job, descr...  \n",
       "1   [[for, phy, system, engineering, team, within,...  \n",
       "2   [[medical, oncology, pcu, orlando, florida, ho...  \n",
       "3   [[title, specialist, sales, account, represent...  \n",
       "4   [[retail, job, title, retail, merchandiser, re...  \n",
       "5   [[position, purpose, provide, outstanding, ser...  \n",
       "6   [[the, asset, protection, specialist, is, prim...  \n",
       "7   [[job, description, east, west, bank, is, one,...  \n",
       "8   [[job, description, ibm, is, seeking, to, hire...  \n",
       "9   [[title, field, solutions, engineer, location,...  \n",
       "10  [[project, manager, government, public, jansse...  \n",
       "11  [[certified, medicine, aide, area, of, interes...  \n",
       "12  [[at, ingersoll, rand, we, passionate, about, ...  \n",
       "13  [[hamilton, construction, in, businesssince, a...  \n",
       "14  [[business, unit, directemployers, title, mana...  \n",
       "15  [[auto, req, id, title, assistant, manager, em...  \n",
       "16  [[johns, hopkins, employs, more, than, people,...  \n",
       "17  [[job, description, as, a, cna, you, will, per...  \n",
       "18  [[ge, capital, capital, international, bank, b...  \n",
       "19  [[title, greater, china, tas, referrals, china...  \n",
       "20  [[merchandiser, the, merchandiser, is, respons...  \n",
       "21  [[eurofins, is, the, world, leader, in, the, f...  \n",
       "22  [[the, right, ingredients, makes, all, the, di...  \n",
       "23  [[job, retail, clerk, job, overview, provides,...  \n",
       "24  [[keypoint, government, solutions, is, current...  \n",
       "25  [[sales, lead, premier, brands, and, consumer,...  \n",
       "26  [[job, title, occupational, therapist, area, o...  \n",
       "27  [[title, location, texas, the, regional, accou...  \n",
       "28  [[title, respiratory, therapy, intern, location]]  \n",
       "29  [[the, influencer, sales, group, solution, arc...  \n",
       "..                                                ...  \n",
       "70  [[title, contract, svc, admin, location, unite...  \n",
       "71  [[job, description, the, occupational, therapi...  \n",
       "72  [[systems, engineer, location, al, huntsville,...  \n",
       "73  [[position, purpose, associates, in, support, ...  \n",
       "74  [[description, education, corporation, of, ame...  \n",
       "75  [[job, title, physical, therapist, area, of, i...  \n",
       "76  [[busser, property, paradise, point, resort, s...  \n",
       "77  [[epic, health, services, is, looking, for, bi...  \n",
       "78  [[title, software, engineer, location, other, ...  \n",
       "79  [[registered, nurse, area, of, interest, nursi...  \n",
       "80  [[description, job, title, electrical, enginee...  \n",
       "81  [[position, purpose, cashiers, play, a, critic...  \n",
       "82  [[deloitte, is, one, of, the, leading, profess...  \n",
       "83  [[description, greets, patients, and, visitors...  \n",
       "84  [[job, description, join, our, talented, team,...  \n",
       "85  [[role, technology, architect, assignment, it,...  \n",
       "86  [[observes, and, reports, activities, and, inc...  \n",
       "87  [[about, the, job, do, you, know, why, domino,...  \n",
       "88  [[registered, dietician, at, aseracare, hospic...  \n",
       "89  [[at, golden, livingcenters, we, care, for, ev...  \n",
       "90  [[energy, efficiency, and, low, income, repres...  \n",
       "91  [[office, coordinator, geriatric, assessment, ...  \n",
       "92  [[customer, service, representative, are, you,...  \n",
       "93  [[kforce, has, a, client, in, beaverton, orego...  \n",
       "94  [[kforce, has, a, client, in, stamford, connec...  \n",
       "95  [[here, at, golden, livingcenters, we, rely, o...  \n",
       "96  [[description, summary, at, gamestop, we, refe...  \n",
       "97  [[updated, job, title, service, clerk, bagger,...  \n",
       "98  [[schedule, job, id, the, sales, coordinator, ...  \n",
       "99  [[temp, support, mall, of, louisiana, location...  \n",
       "\n",
       "[100 rows x 10 columns]"
      ]
     },
     "execution_count": 65,
     "metadata": {},
     "output_type": "execute_result"
    }
   ],
   "source": [
    "sampleDF = pandas.DataFrame.from_csv('data/SampleJobAds.csv', index_col = False)\n",
    "#We need to convert the last couple columns from strings to lists\n",
    "sampleDF['tokenized_sents'] = sampleDF['tokenized_sents'].apply(lambda x: eval(x))\n",
    "sampleDF['normalized_sents'] = sampleDF['normalized_sents'].apply(lambda x: eval(x))\n",
    "sampleDF"
   ]
  },
  {
   "cell_type": "code",
   "execution_count": null,
   "metadata": {
    "collapsed": false
   },
   "outputs": [],
   "source": []
  },
  {
   "cell_type": "markdown",
   "metadata": {
    "collapsed": true
   },
   "source": [
    "Let's define a function to calculate the likelihood of each job description. The idea is borrowed from [Matt Taddy](https://github.com/RaRe-Technologies/gensim/blob/develop/docs/notebooks/deepir.ipynb)."
   ]
  },
  {
   "cell_type": "code",
   "execution_count": 66,
   "metadata": {
    "collapsed": true
   },
   "outputs": [],
   "source": [
    "def adprob(ad, model):\n",
    "    sen_scores = model.score(ad, len(ad))\n",
    "    ad_score = sen_scores.mean()\n",
    "    return ad_score"
   ]
  },
  {
   "cell_type": "markdown",
   "metadata": {},
   "source": [
    "Let's apply this function to every job description."
   ]
  },
  {
   "cell_type": "code",
   "execution_count": 67,
   "metadata": {
    "collapsed": false
   },
   "outputs": [
    {
     "ename": "RuntimeError",
     "evalue": "we have only implemented score for hs",
     "output_type": "error",
     "traceback": [
      "\u001b[0;31m---------------------------------------------------------------------------\u001b[0m",
      "\u001b[0;31mRuntimeError\u001b[0m                              Traceback (most recent call last)",
      "\u001b[0;32m<ipython-input-67-942c0b2dd6ae>\u001b[0m in \u001b[0;36m<module>\u001b[0;34m()\u001b[0m\n\u001b[0;32m----> 1\u001b[0;31m \u001b[0msampleDF\u001b[0m\u001b[0;34m[\u001b[0m\u001b[0;34m'likelihood'\u001b[0m\u001b[0;34m]\u001b[0m \u001b[0;34m=\u001b[0m \u001b[0msampleDF\u001b[0m\u001b[0;34m[\u001b[0m\u001b[0;34m'normalized_sents'\u001b[0m\u001b[0;34m]\u001b[0m\u001b[0;34m.\u001b[0m\u001b[0mapply\u001b[0m\u001b[0;34m(\u001b[0m\u001b[0;32mlambda\u001b[0m \u001b[0mx\u001b[0m\u001b[0;34m:\u001b[0m \u001b[0madprob\u001b[0m\u001b[0;34m(\u001b[0m\u001b[0mx\u001b[0m\u001b[0;34m,\u001b[0m \u001b[0mresume_model\u001b[0m\u001b[0;34m)\u001b[0m\u001b[0;34m)\u001b[0m\u001b[0;34m\u001b[0m\u001b[0m\n\u001b[0m",
      "\u001b[0;32m/usr/local/lib/python3.5/site-packages/pandas/core/series.py\u001b[0m in \u001b[0;36mapply\u001b[0;34m(self, func, convert_dtype, args, **kwds)\u001b[0m\n\u001b[1;32m   2167\u001b[0m             \u001b[0mvalues\u001b[0m \u001b[0;34m=\u001b[0m \u001b[0mlib\u001b[0m\u001b[0;34m.\u001b[0m\u001b[0mmap_infer\u001b[0m\u001b[0;34m(\u001b[0m\u001b[0mvalues\u001b[0m\u001b[0;34m,\u001b[0m \u001b[0mlib\u001b[0m\u001b[0;34m.\u001b[0m\u001b[0mTimestamp\u001b[0m\u001b[0;34m)\u001b[0m\u001b[0;34m\u001b[0m\u001b[0m\n\u001b[1;32m   2168\u001b[0m \u001b[0;34m\u001b[0m\u001b[0m\n\u001b[0;32m-> 2169\u001b[0;31m         \u001b[0mmapped\u001b[0m \u001b[0;34m=\u001b[0m \u001b[0mlib\u001b[0m\u001b[0;34m.\u001b[0m\u001b[0mmap_infer\u001b[0m\u001b[0;34m(\u001b[0m\u001b[0mvalues\u001b[0m\u001b[0;34m,\u001b[0m \u001b[0mf\u001b[0m\u001b[0;34m,\u001b[0m \u001b[0mconvert\u001b[0m\u001b[0;34m=\u001b[0m\u001b[0mconvert_dtype\u001b[0m\u001b[0;34m)\u001b[0m\u001b[0;34m\u001b[0m\u001b[0m\n\u001b[0m\u001b[1;32m   2170\u001b[0m         \u001b[0;32mif\u001b[0m \u001b[0mlen\u001b[0m\u001b[0;34m(\u001b[0m\u001b[0mmapped\u001b[0m\u001b[0;34m)\u001b[0m \u001b[0;32mand\u001b[0m \u001b[0misinstance\u001b[0m\u001b[0;34m(\u001b[0m\u001b[0mmapped\u001b[0m\u001b[0;34m[\u001b[0m\u001b[0;36m0\u001b[0m\u001b[0;34m]\u001b[0m\u001b[0;34m,\u001b[0m \u001b[0mSeries\u001b[0m\u001b[0;34m)\u001b[0m\u001b[0;34m:\u001b[0m\u001b[0;34m\u001b[0m\u001b[0m\n\u001b[1;32m   2171\u001b[0m             \u001b[0;32mfrom\u001b[0m \u001b[0mpandas\u001b[0m\u001b[0;34m.\u001b[0m\u001b[0mcore\u001b[0m\u001b[0;34m.\u001b[0m\u001b[0mframe\u001b[0m \u001b[0;32mimport\u001b[0m \u001b[0mDataFrame\u001b[0m\u001b[0;34m\u001b[0m\u001b[0m\n",
      "\u001b[0;32mpandas/src/inference.pyx\u001b[0m in \u001b[0;36mpandas.lib.map_infer (pandas/lib.c:62578)\u001b[0;34m()\u001b[0m\n",
      "\u001b[0;32m<ipython-input-67-942c0b2dd6ae>\u001b[0m in \u001b[0;36m<lambda>\u001b[0;34m(x)\u001b[0m\n\u001b[0;32m----> 1\u001b[0;31m \u001b[0msampleDF\u001b[0m\u001b[0;34m[\u001b[0m\u001b[0;34m'likelihood'\u001b[0m\u001b[0;34m]\u001b[0m \u001b[0;34m=\u001b[0m \u001b[0msampleDF\u001b[0m\u001b[0;34m[\u001b[0m\u001b[0;34m'normalized_sents'\u001b[0m\u001b[0;34m]\u001b[0m\u001b[0;34m.\u001b[0m\u001b[0mapply\u001b[0m\u001b[0;34m(\u001b[0m\u001b[0;32mlambda\u001b[0m \u001b[0mx\u001b[0m\u001b[0;34m:\u001b[0m \u001b[0madprob\u001b[0m\u001b[0;34m(\u001b[0m\u001b[0mx\u001b[0m\u001b[0;34m,\u001b[0m \u001b[0mresume_model\u001b[0m\u001b[0;34m)\u001b[0m\u001b[0;34m)\u001b[0m\u001b[0;34m\u001b[0m\u001b[0m\n\u001b[0m",
      "\u001b[0;32m<ipython-input-66-6782f974d8d7>\u001b[0m in \u001b[0;36madprob\u001b[0;34m(ad, model)\u001b[0m\n\u001b[1;32m      1\u001b[0m \u001b[0;32mdef\u001b[0m \u001b[0madprob\u001b[0m\u001b[0;34m(\u001b[0m\u001b[0mad\u001b[0m\u001b[0;34m,\u001b[0m \u001b[0mmodel\u001b[0m\u001b[0;34m)\u001b[0m\u001b[0;34m:\u001b[0m\u001b[0;34m\u001b[0m\u001b[0m\n\u001b[0;32m----> 2\u001b[0;31m     \u001b[0msen_scores\u001b[0m \u001b[0;34m=\u001b[0m \u001b[0mmodel\u001b[0m\u001b[0;34m.\u001b[0m\u001b[0mscore\u001b[0m\u001b[0;34m(\u001b[0m\u001b[0mad\u001b[0m\u001b[0;34m,\u001b[0m \u001b[0mlen\u001b[0m\u001b[0;34m(\u001b[0m\u001b[0mad\u001b[0m\u001b[0;34m)\u001b[0m\u001b[0;34m)\u001b[0m\u001b[0;34m\u001b[0m\u001b[0m\n\u001b[0m\u001b[1;32m      3\u001b[0m     \u001b[0mad_score\u001b[0m \u001b[0;34m=\u001b[0m \u001b[0msen_scores\u001b[0m\u001b[0;34m.\u001b[0m\u001b[0mmean\u001b[0m\u001b[0;34m(\u001b[0m\u001b[0;34m)\u001b[0m\u001b[0;34m\u001b[0m\u001b[0m\n\u001b[1;32m      4\u001b[0m     \u001b[0;32mreturn\u001b[0m \u001b[0mad_score\u001b[0m\u001b[0;34m\u001b[0m\u001b[0m\n",
      "\u001b[0;32m/usr/local/lib/python3.5/site-packages/gensim/models/word2vec.py\u001b[0m in \u001b[0;36mscore\u001b[0;34m(self, sentences, total_sentences, chunksize, queue_factor, report_delay)\u001b[0m\n\u001b[1;32m    919\u001b[0m \u001b[0;34m\u001b[0m\u001b[0m\n\u001b[1;32m    920\u001b[0m         \u001b[0;32mif\u001b[0m \u001b[0;32mnot\u001b[0m \u001b[0mself\u001b[0m\u001b[0;34m.\u001b[0m\u001b[0mhs\u001b[0m\u001b[0;34m:\u001b[0m\u001b[0;34m\u001b[0m\u001b[0m\n\u001b[0;32m--> 921\u001b[0;31m             \u001b[0;32mraise\u001b[0m \u001b[0mRuntimeError\u001b[0m\u001b[0;34m(\u001b[0m\u001b[0;34m\"we have only implemented score for hs\"\u001b[0m\u001b[0;34m)\u001b[0m\u001b[0;34m\u001b[0m\u001b[0m\n\u001b[0m\u001b[1;32m    922\u001b[0m \u001b[0;34m\u001b[0m\u001b[0m\n\u001b[1;32m    923\u001b[0m         \u001b[0;32mdef\u001b[0m \u001b[0mworker_loop\u001b[0m\u001b[0;34m(\u001b[0m\u001b[0;34m)\u001b[0m\u001b[0;34m:\u001b[0m\u001b[0;34m\u001b[0m\u001b[0m\n",
      "\u001b[0;31mRuntimeError\u001b[0m: we have only implemented score for hs"
     ]
    }
   ],
   "source": [
    "sampleDF['likelihood'] = sampleDF['normalized_sents'].apply(lambda x: adprob(x, resume_model))"
   ]
  },
  {
   "cell_type": "markdown",
   "metadata": {},
   "source": [
    "Let's take a look at the top 5 job descriptions that have the highest likelihood."
   ]
  },
  {
   "cell_type": "code",
   "execution_count": 68,
   "metadata": {
    "collapsed": false
   },
   "outputs": [
    {
     "ename": "KeyError",
     "evalue": "'likelihood'",
     "output_type": "error",
     "traceback": [
      "\u001b[0;31m---------------------------------------------------------------------------\u001b[0m",
      "\u001b[0;31mKeyError\u001b[0m                                  Traceback (most recent call last)",
      "\u001b[0;32m<ipython-input-68-4bfa377b0b49>\u001b[0m in \u001b[0;36m<module>\u001b[0;34m()\u001b[0m\n\u001b[0;32m----> 1\u001b[0;31m \u001b[0;32mfor\u001b[0m \u001b[0mad\u001b[0m \u001b[0;32min\u001b[0m \u001b[0msampleDF\u001b[0m\u001b[0;34m.\u001b[0m\u001b[0msort_values\u001b[0m\u001b[0;34m(\u001b[0m\u001b[0mby\u001b[0m \u001b[0;34m=\u001b[0m \u001b[0;34m'likelihood'\u001b[0m\u001b[0;34m,\u001b[0m \u001b[0mascending\u001b[0m \u001b[0;34m=\u001b[0m \u001b[0;32mFalse\u001b[0m\u001b[0;34m)\u001b[0m\u001b[0;34m[\u001b[0m\u001b[0;34m'jobDescription'\u001b[0m\u001b[0;34m]\u001b[0m\u001b[0;34m[\u001b[0m\u001b[0;34m:\u001b[0m\u001b[0;36m5\u001b[0m\u001b[0;34m]\u001b[0m\u001b[0;34m:\u001b[0m\u001b[0;34m\u001b[0m\u001b[0m\n\u001b[0m\u001b[1;32m      2\u001b[0m     \u001b[0mprint\u001b[0m \u001b[0;34m(\u001b[0m\u001b[0mad\u001b[0m \u001b[0;34m+\u001b[0m \u001b[0;34m'\\n\\n'\u001b[0m\u001b[0;34m)\u001b[0m\u001b[0;34m\u001b[0m\u001b[0m\n",
      "\u001b[0;32m/usr/local/lib/python3.5/site-packages/pandas/core/frame.py\u001b[0m in \u001b[0;36msort_values\u001b[0;34m(self, by, axis, ascending, inplace, kind, na_position)\u001b[0m\n\u001b[1;32m   3096\u001b[0m \u001b[0;34m\u001b[0m\u001b[0m\n\u001b[1;32m   3097\u001b[0m             \u001b[0mby\u001b[0m \u001b[0;34m=\u001b[0m \u001b[0mby\u001b[0m\u001b[0;34m[\u001b[0m\u001b[0;36m0\u001b[0m\u001b[0;34m]\u001b[0m\u001b[0;34m\u001b[0m\u001b[0m\n\u001b[0;32m-> 3098\u001b[0;31m             \u001b[0mk\u001b[0m \u001b[0;34m=\u001b[0m \u001b[0mself\u001b[0m\u001b[0;34m[\u001b[0m\u001b[0mby\u001b[0m\u001b[0;34m]\u001b[0m\u001b[0;34m.\u001b[0m\u001b[0mvalues\u001b[0m\u001b[0;34m\u001b[0m\u001b[0m\n\u001b[0m\u001b[1;32m   3099\u001b[0m             \u001b[0;32mif\u001b[0m \u001b[0mk\u001b[0m\u001b[0;34m.\u001b[0m\u001b[0mndim\u001b[0m \u001b[0;34m==\u001b[0m \u001b[0;36m2\u001b[0m\u001b[0;34m:\u001b[0m\u001b[0;34m\u001b[0m\u001b[0m\n\u001b[1;32m   3100\u001b[0m \u001b[0;34m\u001b[0m\u001b[0m\n",
      "\u001b[0;32m/usr/local/lib/python3.5/site-packages/pandas/core/frame.py\u001b[0m in \u001b[0;36m__getitem__\u001b[0;34m(self, key)\u001b[0m\n\u001b[1;32m   1967\u001b[0m             \u001b[0;32mreturn\u001b[0m \u001b[0mself\u001b[0m\u001b[0;34m.\u001b[0m\u001b[0m_getitem_multilevel\u001b[0m\u001b[0;34m(\u001b[0m\u001b[0mkey\u001b[0m\u001b[0;34m)\u001b[0m\u001b[0;34m\u001b[0m\u001b[0m\n\u001b[1;32m   1968\u001b[0m         \u001b[0;32melse\u001b[0m\u001b[0;34m:\u001b[0m\u001b[0;34m\u001b[0m\u001b[0m\n\u001b[0;32m-> 1969\u001b[0;31m             \u001b[0;32mreturn\u001b[0m \u001b[0mself\u001b[0m\u001b[0;34m.\u001b[0m\u001b[0m_getitem_column\u001b[0m\u001b[0;34m(\u001b[0m\u001b[0mkey\u001b[0m\u001b[0;34m)\u001b[0m\u001b[0;34m\u001b[0m\u001b[0m\n\u001b[0m\u001b[1;32m   1970\u001b[0m \u001b[0;34m\u001b[0m\u001b[0m\n\u001b[1;32m   1971\u001b[0m     \u001b[0;32mdef\u001b[0m \u001b[0m_getitem_column\u001b[0m\u001b[0;34m(\u001b[0m\u001b[0mself\u001b[0m\u001b[0;34m,\u001b[0m \u001b[0mkey\u001b[0m\u001b[0;34m)\u001b[0m\u001b[0;34m:\u001b[0m\u001b[0;34m\u001b[0m\u001b[0m\n",
      "\u001b[0;32m/usr/local/lib/python3.5/site-packages/pandas/core/frame.py\u001b[0m in \u001b[0;36m_getitem_column\u001b[0;34m(self, key)\u001b[0m\n\u001b[1;32m   1974\u001b[0m         \u001b[0;31m# get column\u001b[0m\u001b[0;34m\u001b[0m\u001b[0;34m\u001b[0m\u001b[0m\n\u001b[1;32m   1975\u001b[0m         \u001b[0;32mif\u001b[0m \u001b[0mself\u001b[0m\u001b[0;34m.\u001b[0m\u001b[0mcolumns\u001b[0m\u001b[0;34m.\u001b[0m\u001b[0mis_unique\u001b[0m\u001b[0;34m:\u001b[0m\u001b[0;34m\u001b[0m\u001b[0m\n\u001b[0;32m-> 1976\u001b[0;31m             \u001b[0;32mreturn\u001b[0m \u001b[0mself\u001b[0m\u001b[0;34m.\u001b[0m\u001b[0m_get_item_cache\u001b[0m\u001b[0;34m(\u001b[0m\u001b[0mkey\u001b[0m\u001b[0;34m)\u001b[0m\u001b[0;34m\u001b[0m\u001b[0m\n\u001b[0m\u001b[1;32m   1977\u001b[0m \u001b[0;34m\u001b[0m\u001b[0m\n\u001b[1;32m   1978\u001b[0m         \u001b[0;31m# duplicate columns & possible reduce dimensionality\u001b[0m\u001b[0;34m\u001b[0m\u001b[0;34m\u001b[0m\u001b[0m\n",
      "\u001b[0;32m/usr/local/lib/python3.5/site-packages/pandas/core/generic.py\u001b[0m in \u001b[0;36m_get_item_cache\u001b[0;34m(self, item)\u001b[0m\n\u001b[1;32m   1089\u001b[0m         \u001b[0mres\u001b[0m \u001b[0;34m=\u001b[0m \u001b[0mcache\u001b[0m\u001b[0;34m.\u001b[0m\u001b[0mget\u001b[0m\u001b[0;34m(\u001b[0m\u001b[0mitem\u001b[0m\u001b[0;34m)\u001b[0m\u001b[0;34m\u001b[0m\u001b[0m\n\u001b[1;32m   1090\u001b[0m         \u001b[0;32mif\u001b[0m \u001b[0mres\u001b[0m \u001b[0;32mis\u001b[0m \u001b[0;32mNone\u001b[0m\u001b[0;34m:\u001b[0m\u001b[0;34m\u001b[0m\u001b[0m\n\u001b[0;32m-> 1091\u001b[0;31m             \u001b[0mvalues\u001b[0m \u001b[0;34m=\u001b[0m \u001b[0mself\u001b[0m\u001b[0;34m.\u001b[0m\u001b[0m_data\u001b[0m\u001b[0;34m.\u001b[0m\u001b[0mget\u001b[0m\u001b[0;34m(\u001b[0m\u001b[0mitem\u001b[0m\u001b[0;34m)\u001b[0m\u001b[0;34m\u001b[0m\u001b[0m\n\u001b[0m\u001b[1;32m   1092\u001b[0m             \u001b[0mres\u001b[0m \u001b[0;34m=\u001b[0m \u001b[0mself\u001b[0m\u001b[0;34m.\u001b[0m\u001b[0m_box_item_values\u001b[0m\u001b[0;34m(\u001b[0m\u001b[0mitem\u001b[0m\u001b[0;34m,\u001b[0m \u001b[0mvalues\u001b[0m\u001b[0;34m)\u001b[0m\u001b[0;34m\u001b[0m\u001b[0m\n\u001b[1;32m   1093\u001b[0m             \u001b[0mcache\u001b[0m\u001b[0;34m[\u001b[0m\u001b[0mitem\u001b[0m\u001b[0;34m]\u001b[0m \u001b[0;34m=\u001b[0m \u001b[0mres\u001b[0m\u001b[0;34m\u001b[0m\u001b[0m\n",
      "\u001b[0;32m/usr/local/lib/python3.5/site-packages/pandas/core/internals.py\u001b[0m in \u001b[0;36mget\u001b[0;34m(self, item, fastpath)\u001b[0m\n\u001b[1;32m   3209\u001b[0m \u001b[0;34m\u001b[0m\u001b[0m\n\u001b[1;32m   3210\u001b[0m             \u001b[0;32mif\u001b[0m \u001b[0;32mnot\u001b[0m \u001b[0misnull\u001b[0m\u001b[0;34m(\u001b[0m\u001b[0mitem\u001b[0m\u001b[0;34m)\u001b[0m\u001b[0;34m:\u001b[0m\u001b[0;34m\u001b[0m\u001b[0m\n\u001b[0;32m-> 3211\u001b[0;31m                 \u001b[0mloc\u001b[0m \u001b[0;34m=\u001b[0m \u001b[0mself\u001b[0m\u001b[0;34m.\u001b[0m\u001b[0mitems\u001b[0m\u001b[0;34m.\u001b[0m\u001b[0mget_loc\u001b[0m\u001b[0;34m(\u001b[0m\u001b[0mitem\u001b[0m\u001b[0;34m)\u001b[0m\u001b[0;34m\u001b[0m\u001b[0m\n\u001b[0m\u001b[1;32m   3212\u001b[0m             \u001b[0;32melse\u001b[0m\u001b[0;34m:\u001b[0m\u001b[0;34m\u001b[0m\u001b[0m\n\u001b[1;32m   3213\u001b[0m                 \u001b[0mindexer\u001b[0m \u001b[0;34m=\u001b[0m \u001b[0mnp\u001b[0m\u001b[0;34m.\u001b[0m\u001b[0marange\u001b[0m\u001b[0;34m(\u001b[0m\u001b[0mlen\u001b[0m\u001b[0;34m(\u001b[0m\u001b[0mself\u001b[0m\u001b[0;34m.\u001b[0m\u001b[0mitems\u001b[0m\u001b[0;34m)\u001b[0m\u001b[0;34m)\u001b[0m\u001b[0;34m[\u001b[0m\u001b[0misnull\u001b[0m\u001b[0;34m(\u001b[0m\u001b[0mself\u001b[0m\u001b[0;34m.\u001b[0m\u001b[0mitems\u001b[0m\u001b[0;34m)\u001b[0m\u001b[0;34m]\u001b[0m\u001b[0;34m\u001b[0m\u001b[0m\n",
      "\u001b[0;32m/usr/local/lib/python3.5/site-packages/pandas/core/index.py\u001b[0m in \u001b[0;36mget_loc\u001b[0;34m(self, key, method, tolerance)\u001b[0m\n\u001b[1;32m   1757\u001b[0m                                  'backfill or nearest lookups')\n\u001b[1;32m   1758\u001b[0m             \u001b[0mkey\u001b[0m \u001b[0;34m=\u001b[0m \u001b[0m_values_from_object\u001b[0m\u001b[0;34m(\u001b[0m\u001b[0mkey\u001b[0m\u001b[0;34m)\u001b[0m\u001b[0;34m\u001b[0m\u001b[0m\n\u001b[0;32m-> 1759\u001b[0;31m             \u001b[0;32mreturn\u001b[0m \u001b[0mself\u001b[0m\u001b[0;34m.\u001b[0m\u001b[0m_engine\u001b[0m\u001b[0;34m.\u001b[0m\u001b[0mget_loc\u001b[0m\u001b[0;34m(\u001b[0m\u001b[0mkey\u001b[0m\u001b[0;34m)\u001b[0m\u001b[0;34m\u001b[0m\u001b[0m\n\u001b[0m\u001b[1;32m   1760\u001b[0m \u001b[0;34m\u001b[0m\u001b[0m\n\u001b[1;32m   1761\u001b[0m         indexer = self.get_indexer([key], method=method,\n",
      "\u001b[0;32mpandas/index.pyx\u001b[0m in \u001b[0;36mpandas.index.IndexEngine.get_loc (pandas/index.c:3979)\u001b[0;34m()\u001b[0m\n",
      "\u001b[0;32mpandas/index.pyx\u001b[0m in \u001b[0;36mpandas.index.IndexEngine.get_loc (pandas/index.c:3843)\u001b[0;34m()\u001b[0m\n",
      "\u001b[0;32mpandas/hashtable.pyx\u001b[0m in \u001b[0;36mpandas.hashtable.PyObjectHashTable.get_item (pandas/hashtable.c:12265)\u001b[0;34m()\u001b[0m\n",
      "\u001b[0;32mpandas/hashtable.pyx\u001b[0m in \u001b[0;36mpandas.hashtable.PyObjectHashTable.get_item (pandas/hashtable.c:12216)\u001b[0;34m()\u001b[0m\n",
      "\u001b[0;31mKeyError\u001b[0m: 'likelihood'"
     ]
    }
   ],
   "source": [
    "for ad in sampleDF.sort_values(by = 'likelihood', ascending = False)['jobDescription'][:5]:\n",
    "    print (ad + '\\n\\n')"
   ]
  },
  {
   "cell_type": "markdown",
   "metadata": {},
   "source": [
    "Let's take a look at the bottom 5 job descriptions that have the lowest likelihood to be matched by the resumes."
   ]
  },
  {
   "cell_type": "code",
   "execution_count": null,
   "metadata": {
    "collapsed": false
   },
   "outputs": [],
   "source": [
    "for ad in sampleDF.sort_values(by = 'likelihood')['jobDescription'][:5]:\n",
    "    print (ad + '\\n\\n')"
   ]
  },
  {
   "cell_type": "markdown",
   "metadata": {},
   "source": [
    "We can do some statistics. Unfortunately, we don't have a large sample here. So, it is just a toy version. Let's first look at the mean likelihood score of each hiring organization."
   ]
  },
  {
   "cell_type": "code",
   "execution_count": null,
   "metadata": {
    "collapsed": false
   },
   "outputs": [],
   "source": [
    "sampleDF.groupby(\"hiringOrganization_organizationName\")[['likelihood']].mean().sort_values('likelihood', ascending = False)"
   ]
  },
  {
   "cell_type": "markdown",
   "metadata": {},
   "source": [
    "We can look at the mean likelihood in each state."
   ]
  },
  {
   "cell_type": "code",
   "execution_count": null,
   "metadata": {
    "collapsed": false
   },
   "outputs": [],
   "source": [
    "sampleDF.groupby(\"jobLocation_address_region\")[['likelihood']].mean().sort_values('likelihood', ascending = False)"
   ]
  },
  {
   "cell_type": "markdown",
   "metadata": {},
   "source": [
    "Increase the sample size if you want to do a more serious study."
   ]
  },
  {
   "cell_type": "markdown",
   "metadata": {},
   "source": [
    "# Projection"
   ]
  },
  {
   "cell_type": "markdown",
   "metadata": {},
   "source": [
    "We can project word vectors to some dimension. To demonstrate this functionality, let's first load a model trained with New York Times news articles. "
   ]
  },
  {
   "cell_type": "code",
   "execution_count": 73,
   "metadata": {
    "collapsed": false
   },
   "outputs": [],
   "source": [
    "nytimes_model = gensim.models.word2vec.Word2Vec.load_word2vec_format('data/nytimes_cbow.reduced.txt')"
   ]
  },
  {
   "cell_type": "markdown",
   "metadata": {},
   "source": [
    "Define some convenient functions for getting dimensions. "
   ]
  },
  {
   "cell_type": "code",
   "execution_count": 93,
   "metadata": {
    "collapsed": true
   },
   "outputs": [],
   "source": [
    "def normalize(vector):\n",
    "    normalized_vector = vector / np.linalg.norm(vector)\n",
    "    return normalized_vector\n",
    "\n",
    "def dimension(model, positives, negatives):\n",
    "    diff = sum([normalize(model[x]) for x in positives]) - sum([normalize(model[y]) for y in negatives])\n",
    "    return diff"
   ]
  },
  {
   "cell_type": "code",
   "execution_count": 94,
   "metadata": {
    "collapsed": false
   },
   "outputs": [],
   "source": [
    "#nytimes_model['already']"
   ]
  },
  {
   "cell_type": "markdown",
   "metadata": {},
   "source": [
    "Let's calculate three dimensions: gender, race, and class."
   ]
  },
  {
   "cell_type": "code",
   "execution_count": 95,
   "metadata": {
    "collapsed": false
   },
   "outputs": [],
   "source": [
    "Gender = dimension(nytimes_model, ['man','him','he'], ['woman', 'her', 'she'])\n",
    "Race = dimension(nytimes_model, ['black','blacks','African'], ['white', 'whites', 'Caucasian'])\n",
    "Class = dimension(nytimes_model, ['rich', 'richer', 'richest', 'expensive', 'wealthy'], ['poor', 'poorer', 'poorest', 'cheap', 'inexpensive'])"
   ]
  },
  {
   "cell_type": "markdown",
   "metadata": {},
   "source": [
    "Here we have some words."
   ]
  },
  {
   "cell_type": "code",
   "execution_count": 96,
   "metadata": {
    "collapsed": true
   },
   "outputs": [],
   "source": [
    "Occupations = [\"doctor\",\"lawyer\",\"plumber\",\"scientist\",\"hairdresser\", \"nanny\",\"carpenter\",\"entrepreneur\",\"musician\",\"writer\", \"banker\",\"poet\",\"nurse\"]\n",
    "\n",
    "Foods = [\"steak\", \"bacon\", \"croissant\", \"cheesecake\", \"salad\", \"cheeseburger\", \"vegetables\", \"beer\", \"wine\", \"pastry\"]\n",
    "\n",
    "Sports  = [\"basketball\", \"baseball\", \"boxing\", \"softball\", \"volleyball\", \"tennis\", \"golf\", \"hockey\", \"soccer\"]"
   ]
  },
  {
   "cell_type": "markdown",
   "metadata": {},
   "source": [
    "Define a function to project words in a word list to each of the three dimensions."
   ]
  },
  {
   "cell_type": "code",
   "execution_count": 97,
   "metadata": {
    "collapsed": false
   },
   "outputs": [],
   "source": [
    "def makeDF(model, word_list):\n",
    "    g = []\n",
    "    r = []\n",
    "    c = []\n",
    "    for word in word_list:\n",
    "        g.append(sklearn.metrics.pairwise.cosine_similarity(nytimes_model[word], Gender)[0][0])\n",
    "        r.append(sklearn.metrics.pairwise.cosine_similarity(nytimes_model[word], Race)[0][0])\n",
    "        c.append(sklearn.metrics.pairwise.cosine_similarity(nytimes_model[word], Class)[0][0])\n",
    "    df = pandas.DataFrame({'gender': g, 'race': r, 'class': c}, index = word_list)\n",
    "    return df"
   ]
  },
  {
   "cell_type": "markdown",
   "metadata": {},
   "source": [
    "Get the projections."
   ]
  },
  {
   "cell_type": "code",
   "execution_count": 98,
   "metadata": {
    "collapsed": false
   },
   "outputs": [
    {
     "name": "stderr",
     "output_type": "stream",
     "text": [
      "/usr/local/lib/python3.5/site-packages/sklearn/utils/validation.py:395: DeprecationWarning: Passing 1d arrays as data is deprecated in 0.17 and will raise ValueError in 0.19. Reshape your data either using X.reshape(-1, 1) if your data has a single feature or X.reshape(1, -1) if it contains a single sample.\n",
      "  DeprecationWarning)\n",
      "/usr/local/lib/python3.5/site-packages/sklearn/utils/validation.py:395: DeprecationWarning: Passing 1d arrays as data is deprecated in 0.17 and will raise ValueError in 0.19. Reshape your data either using X.reshape(-1, 1) if your data has a single feature or X.reshape(1, -1) if it contains a single sample.\n",
      "  DeprecationWarning)\n",
      "/usr/local/lib/python3.5/site-packages/sklearn/utils/validation.py:395: DeprecationWarning: Passing 1d arrays as data is deprecated in 0.17 and will raise ValueError in 0.19. Reshape your data either using X.reshape(-1, 1) if your data has a single feature or X.reshape(1, -1) if it contains a single sample.\n",
      "  DeprecationWarning)\n",
      "/usr/local/lib/python3.5/site-packages/sklearn/utils/validation.py:395: DeprecationWarning: Passing 1d arrays as data is deprecated in 0.17 and will raise ValueError in 0.19. Reshape your data either using X.reshape(-1, 1) if your data has a single feature or X.reshape(1, -1) if it contains a single sample.\n",
      "  DeprecationWarning)\n",
      "/usr/local/lib/python3.5/site-packages/sklearn/utils/validation.py:395: DeprecationWarning: Passing 1d arrays as data is deprecated in 0.17 and will raise ValueError in 0.19. Reshape your data either using X.reshape(-1, 1) if your data has a single feature or X.reshape(1, -1) if it contains a single sample.\n",
      "  DeprecationWarning)\n",
      "/usr/local/lib/python3.5/site-packages/sklearn/utils/validation.py:395: DeprecationWarning: Passing 1d arrays as data is deprecated in 0.17 and will raise ValueError in 0.19. Reshape your data either using X.reshape(-1, 1) if your data has a single feature or X.reshape(1, -1) if it contains a single sample.\n",
      "  DeprecationWarning)\n",
      "/usr/local/lib/python3.5/site-packages/sklearn/utils/validation.py:395: DeprecationWarning: Passing 1d arrays as data is deprecated in 0.17 and will raise ValueError in 0.19. Reshape your data either using X.reshape(-1, 1) if your data has a single feature or X.reshape(1, -1) if it contains a single sample.\n",
      "  DeprecationWarning)\n",
      "/usr/local/lib/python3.5/site-packages/sklearn/utils/validation.py:395: DeprecationWarning: Passing 1d arrays as data is deprecated in 0.17 and will raise ValueError in 0.19. Reshape your data either using X.reshape(-1, 1) if your data has a single feature or X.reshape(1, -1) if it contains a single sample.\n",
      "  DeprecationWarning)\n",
      "/usr/local/lib/python3.5/site-packages/sklearn/utils/validation.py:395: DeprecationWarning: Passing 1d arrays as data is deprecated in 0.17 and will raise ValueError in 0.19. Reshape your data either using X.reshape(-1, 1) if your data has a single feature or X.reshape(1, -1) if it contains a single sample.\n",
      "  DeprecationWarning)\n",
      "/usr/local/lib/python3.5/site-packages/sklearn/utils/validation.py:395: DeprecationWarning: Passing 1d arrays as data is deprecated in 0.17 and will raise ValueError in 0.19. Reshape your data either using X.reshape(-1, 1) if your data has a single feature or X.reshape(1, -1) if it contains a single sample.\n",
      "  DeprecationWarning)\n",
      "/usr/local/lib/python3.5/site-packages/sklearn/utils/validation.py:395: DeprecationWarning: Passing 1d arrays as data is deprecated in 0.17 and will raise ValueError in 0.19. Reshape your data either using X.reshape(-1, 1) if your data has a single feature or X.reshape(1, -1) if it contains a single sample.\n",
      "  DeprecationWarning)\n",
      "/usr/local/lib/python3.5/site-packages/sklearn/utils/validation.py:395: DeprecationWarning: Passing 1d arrays as data is deprecated in 0.17 and will raise ValueError in 0.19. Reshape your data either using X.reshape(-1, 1) if your data has a single feature or X.reshape(1, -1) if it contains a single sample.\n",
      "  DeprecationWarning)\n",
      "/usr/local/lib/python3.5/site-packages/sklearn/utils/validation.py:395: DeprecationWarning: Passing 1d arrays as data is deprecated in 0.17 and will raise ValueError in 0.19. Reshape your data either using X.reshape(-1, 1) if your data has a single feature or X.reshape(1, -1) if it contains a single sample.\n",
      "  DeprecationWarning)\n",
      "/usr/local/lib/python3.5/site-packages/sklearn/utils/validation.py:395: DeprecationWarning: Passing 1d arrays as data is deprecated in 0.17 and will raise ValueError in 0.19. Reshape your data either using X.reshape(-1, 1) if your data has a single feature or X.reshape(1, -1) if it contains a single sample.\n",
      "  DeprecationWarning)\n",
      "/usr/local/lib/python3.5/site-packages/sklearn/utils/validation.py:395: DeprecationWarning: Passing 1d arrays as data is deprecated in 0.17 and will raise ValueError in 0.19. Reshape your data either using X.reshape(-1, 1) if your data has a single feature or X.reshape(1, -1) if it contains a single sample.\n",
      "  DeprecationWarning)\n",
      "/usr/local/lib/python3.5/site-packages/sklearn/utils/validation.py:395: DeprecationWarning: Passing 1d arrays as data is deprecated in 0.17 and will raise ValueError in 0.19. Reshape your data either using X.reshape(-1, 1) if your data has a single feature or X.reshape(1, -1) if it contains a single sample.\n",
      "  DeprecationWarning)\n",
      "/usr/local/lib/python3.5/site-packages/sklearn/utils/validation.py:395: DeprecationWarning: Passing 1d arrays as data is deprecated in 0.17 and will raise ValueError in 0.19. Reshape your data either using X.reshape(-1, 1) if your data has a single feature or X.reshape(1, -1) if it contains a single sample.\n",
      "  DeprecationWarning)\n",
      "/usr/local/lib/python3.5/site-packages/sklearn/utils/validation.py:395: DeprecationWarning: Passing 1d arrays as data is deprecated in 0.17 and will raise ValueError in 0.19. Reshape your data either using X.reshape(-1, 1) if your data has a single feature or X.reshape(1, -1) if it contains a single sample.\n",
      "  DeprecationWarning)\n",
      "/usr/local/lib/python3.5/site-packages/sklearn/utils/validation.py:395: DeprecationWarning: Passing 1d arrays as data is deprecated in 0.17 and will raise ValueError in 0.19. Reshape your data either using X.reshape(-1, 1) if your data has a single feature or X.reshape(1, -1) if it contains a single sample.\n",
      "  DeprecationWarning)\n",
      "/usr/local/lib/python3.5/site-packages/sklearn/utils/validation.py:395: DeprecationWarning: Passing 1d arrays as data is deprecated in 0.17 and will raise ValueError in 0.19. Reshape your data either using X.reshape(-1, 1) if your data has a single feature or X.reshape(1, -1) if it contains a single sample.\n",
      "  DeprecationWarning)\n",
      "/usr/local/lib/python3.5/site-packages/sklearn/utils/validation.py:395: DeprecationWarning: Passing 1d arrays as data is deprecated in 0.17 and will raise ValueError in 0.19. Reshape your data either using X.reshape(-1, 1) if your data has a single feature or X.reshape(1, -1) if it contains a single sample.\n",
      "  DeprecationWarning)\n",
      "/usr/local/lib/python3.5/site-packages/sklearn/utils/validation.py:395: DeprecationWarning: Passing 1d arrays as data is deprecated in 0.17 and will raise ValueError in 0.19. Reshape your data either using X.reshape(-1, 1) if your data has a single feature or X.reshape(1, -1) if it contains a single sample.\n",
      "  DeprecationWarning)\n",
      "/usr/local/lib/python3.5/site-packages/sklearn/utils/validation.py:395: DeprecationWarning: Passing 1d arrays as data is deprecated in 0.17 and will raise ValueError in 0.19. Reshape your data either using X.reshape(-1, 1) if your data has a single feature or X.reshape(1, -1) if it contains a single sample.\n",
      "  DeprecationWarning)\n",
      "/usr/local/lib/python3.5/site-packages/sklearn/utils/validation.py:395: DeprecationWarning: Passing 1d arrays as data is deprecated in 0.17 and will raise ValueError in 0.19. Reshape your data either using X.reshape(-1, 1) if your data has a single feature or X.reshape(1, -1) if it contains a single sample.\n",
      "  DeprecationWarning)\n",
      "/usr/local/lib/python3.5/site-packages/sklearn/utils/validation.py:395: DeprecationWarning: Passing 1d arrays as data is deprecated in 0.17 and will raise ValueError in 0.19. Reshape your data either using X.reshape(-1, 1) if your data has a single feature or X.reshape(1, -1) if it contains a single sample.\n",
      "  DeprecationWarning)\n",
      "/usr/local/lib/python3.5/site-packages/sklearn/utils/validation.py:395: DeprecationWarning: Passing 1d arrays as data is deprecated in 0.17 and will raise ValueError in 0.19. Reshape your data either using X.reshape(-1, 1) if your data has a single feature or X.reshape(1, -1) if it contains a single sample.\n",
      "  DeprecationWarning)\n",
      "/usr/local/lib/python3.5/site-packages/sklearn/utils/validation.py:395: DeprecationWarning: Passing 1d arrays as data is deprecated in 0.17 and will raise ValueError in 0.19. Reshape your data either using X.reshape(-1, 1) if your data has a single feature or X.reshape(1, -1) if it contains a single sample.\n",
      "  DeprecationWarning)\n",
      "/usr/local/lib/python3.5/site-packages/sklearn/utils/validation.py:395: DeprecationWarning: Passing 1d arrays as data is deprecated in 0.17 and will raise ValueError in 0.19. Reshape your data either using X.reshape(-1, 1) if your data has a single feature or X.reshape(1, -1) if it contains a single sample.\n",
      "  DeprecationWarning)\n",
      "/usr/local/lib/python3.5/site-packages/sklearn/utils/validation.py:395: DeprecationWarning: Passing 1d arrays as data is deprecated in 0.17 and will raise ValueError in 0.19. Reshape your data either using X.reshape(-1, 1) if your data has a single feature or X.reshape(1, -1) if it contains a single sample.\n",
      "  DeprecationWarning)\n",
      "/usr/local/lib/python3.5/site-packages/sklearn/utils/validation.py:395: DeprecationWarning: Passing 1d arrays as data is deprecated in 0.17 and will raise ValueError in 0.19. Reshape your data either using X.reshape(-1, 1) if your data has a single feature or X.reshape(1, -1) if it contains a single sample.\n",
      "  DeprecationWarning)\n",
      "/usr/local/lib/python3.5/site-packages/sklearn/utils/validation.py:395: DeprecationWarning: Passing 1d arrays as data is deprecated in 0.17 and will raise ValueError in 0.19. Reshape your data either using X.reshape(-1, 1) if your data has a single feature or X.reshape(1, -1) if it contains a single sample.\n",
      "  DeprecationWarning)\n",
      "/usr/local/lib/python3.5/site-packages/sklearn/utils/validation.py:395: DeprecationWarning: Passing 1d arrays as data is deprecated in 0.17 and will raise ValueError in 0.19. Reshape your data either using X.reshape(-1, 1) if your data has a single feature or X.reshape(1, -1) if it contains a single sample.\n",
      "  DeprecationWarning)\n",
      "/usr/local/lib/python3.5/site-packages/sklearn/utils/validation.py:395: DeprecationWarning: Passing 1d arrays as data is deprecated in 0.17 and will raise ValueError in 0.19. Reshape your data either using X.reshape(-1, 1) if your data has a single feature or X.reshape(1, -1) if it contains a single sample.\n",
      "  DeprecationWarning)\n",
      "/usr/local/lib/python3.5/site-packages/sklearn/utils/validation.py:395: DeprecationWarning: Passing 1d arrays as data is deprecated in 0.17 and will raise ValueError in 0.19. Reshape your data either using X.reshape(-1, 1) if your data has a single feature or X.reshape(1, -1) if it contains a single sample.\n",
      "  DeprecationWarning)\n",
      "/usr/local/lib/python3.5/site-packages/sklearn/utils/validation.py:395: DeprecationWarning: Passing 1d arrays as data is deprecated in 0.17 and will raise ValueError in 0.19. Reshape your data either using X.reshape(-1, 1) if your data has a single feature or X.reshape(1, -1) if it contains a single sample.\n",
      "  DeprecationWarning)\n",
      "/usr/local/lib/python3.5/site-packages/sklearn/utils/validation.py:395: DeprecationWarning: Passing 1d arrays as data is deprecated in 0.17 and will raise ValueError in 0.19. Reshape your data either using X.reshape(-1, 1) if your data has a single feature or X.reshape(1, -1) if it contains a single sample.\n",
      "  DeprecationWarning)\n",
      "/usr/local/lib/python3.5/site-packages/sklearn/utils/validation.py:395: DeprecationWarning: Passing 1d arrays as data is deprecated in 0.17 and will raise ValueError in 0.19. Reshape your data either using X.reshape(-1, 1) if your data has a single feature or X.reshape(1, -1) if it contains a single sample.\n",
      "  DeprecationWarning)\n",
      "/usr/local/lib/python3.5/site-packages/sklearn/utils/validation.py:395: DeprecationWarning: Passing 1d arrays as data is deprecated in 0.17 and will raise ValueError in 0.19. Reshape your data either using X.reshape(-1, 1) if your data has a single feature or X.reshape(1, -1) if it contains a single sample.\n",
      "  DeprecationWarning)\n",
      "/usr/local/lib/python3.5/site-packages/sklearn/utils/validation.py:395: DeprecationWarning: Passing 1d arrays as data is deprecated in 0.17 and will raise ValueError in 0.19. Reshape your data either using X.reshape(-1, 1) if your data has a single feature or X.reshape(1, -1) if it contains a single sample.\n",
      "  DeprecationWarning)\n",
      "/usr/local/lib/python3.5/site-packages/sklearn/utils/validation.py:395: DeprecationWarning: Passing 1d arrays as data is deprecated in 0.17 and will raise ValueError in 0.19. Reshape your data either using X.reshape(-1, 1) if your data has a single feature or X.reshape(1, -1) if it contains a single sample.\n",
      "  DeprecationWarning)\n",
      "/usr/local/lib/python3.5/site-packages/sklearn/utils/validation.py:395: DeprecationWarning: Passing 1d arrays as data is deprecated in 0.17 and will raise ValueError in 0.19. Reshape your data either using X.reshape(-1, 1) if your data has a single feature or X.reshape(1, -1) if it contains a single sample.\n",
      "  DeprecationWarning)\n",
      "/usr/local/lib/python3.5/site-packages/sklearn/utils/validation.py:395: DeprecationWarning: Passing 1d arrays as data is deprecated in 0.17 and will raise ValueError in 0.19. Reshape your data either using X.reshape(-1, 1) if your data has a single feature or X.reshape(1, -1) if it contains a single sample.\n",
      "  DeprecationWarning)\n",
      "/usr/local/lib/python3.5/site-packages/sklearn/utils/validation.py:395: DeprecationWarning: Passing 1d arrays as data is deprecated in 0.17 and will raise ValueError in 0.19. Reshape your data either using X.reshape(-1, 1) if your data has a single feature or X.reshape(1, -1) if it contains a single sample.\n",
      "  DeprecationWarning)\n",
      "/usr/local/lib/python3.5/site-packages/sklearn/utils/validation.py:395: DeprecationWarning: Passing 1d arrays as data is deprecated in 0.17 and will raise ValueError in 0.19. Reshape your data either using X.reshape(-1, 1) if your data has a single feature or X.reshape(1, -1) if it contains a single sample.\n",
      "  DeprecationWarning)\n",
      "/usr/local/lib/python3.5/site-packages/sklearn/utils/validation.py:395: DeprecationWarning: Passing 1d arrays as data is deprecated in 0.17 and will raise ValueError in 0.19. Reshape your data either using X.reshape(-1, 1) if your data has a single feature or X.reshape(1, -1) if it contains a single sample.\n",
      "  DeprecationWarning)\n",
      "/usr/local/lib/python3.5/site-packages/sklearn/utils/validation.py:395: DeprecationWarning: Passing 1d arrays as data is deprecated in 0.17 and will raise ValueError in 0.19. Reshape your data either using X.reshape(-1, 1) if your data has a single feature or X.reshape(1, -1) if it contains a single sample.\n",
      "  DeprecationWarning)\n",
      "/usr/local/lib/python3.5/site-packages/sklearn/utils/validation.py:395: DeprecationWarning: Passing 1d arrays as data is deprecated in 0.17 and will raise ValueError in 0.19. Reshape your data either using X.reshape(-1, 1) if your data has a single feature or X.reshape(1, -1) if it contains a single sample.\n",
      "  DeprecationWarning)\n",
      "/usr/local/lib/python3.5/site-packages/sklearn/utils/validation.py:395: DeprecationWarning: Passing 1d arrays as data is deprecated in 0.17 and will raise ValueError in 0.19. Reshape your data either using X.reshape(-1, 1) if your data has a single feature or X.reshape(1, -1) if it contains a single sample.\n",
      "  DeprecationWarning)\n",
      "/usr/local/lib/python3.5/site-packages/sklearn/utils/validation.py:395: DeprecationWarning: Passing 1d arrays as data is deprecated in 0.17 and will raise ValueError in 0.19. Reshape your data either using X.reshape(-1, 1) if your data has a single feature or X.reshape(1, -1) if it contains a single sample.\n",
      "  DeprecationWarning)\n",
      "/usr/local/lib/python3.5/site-packages/sklearn/utils/validation.py:395: DeprecationWarning: Passing 1d arrays as data is deprecated in 0.17 and will raise ValueError in 0.19. Reshape your data either using X.reshape(-1, 1) if your data has a single feature or X.reshape(1, -1) if it contains a single sample.\n",
      "  DeprecationWarning)\n",
      "/usr/local/lib/python3.5/site-packages/sklearn/utils/validation.py:395: DeprecationWarning: Passing 1d arrays as data is deprecated in 0.17 and will raise ValueError in 0.19. Reshape your data either using X.reshape(-1, 1) if your data has a single feature or X.reshape(1, -1) if it contains a single sample.\n",
      "  DeprecationWarning)\n",
      "/usr/local/lib/python3.5/site-packages/sklearn/utils/validation.py:395: DeprecationWarning: Passing 1d arrays as data is deprecated in 0.17 and will raise ValueError in 0.19. Reshape your data either using X.reshape(-1, 1) if your data has a single feature or X.reshape(1, -1) if it contains a single sample.\n",
      "  DeprecationWarning)\n",
      "/usr/local/lib/python3.5/site-packages/sklearn/utils/validation.py:395: DeprecationWarning: Passing 1d arrays as data is deprecated in 0.17 and will raise ValueError in 0.19. Reshape your data either using X.reshape(-1, 1) if your data has a single feature or X.reshape(1, -1) if it contains a single sample.\n",
      "  DeprecationWarning)\n",
      "/usr/local/lib/python3.5/site-packages/sklearn/utils/validation.py:395: DeprecationWarning: Passing 1d arrays as data is deprecated in 0.17 and will raise ValueError in 0.19. Reshape your data either using X.reshape(-1, 1) if your data has a single feature or X.reshape(1, -1) if it contains a single sample.\n",
      "  DeprecationWarning)\n",
      "/usr/local/lib/python3.5/site-packages/sklearn/utils/validation.py:395: DeprecationWarning: Passing 1d arrays as data is deprecated in 0.17 and will raise ValueError in 0.19. Reshape your data either using X.reshape(-1, 1) if your data has a single feature or X.reshape(1, -1) if it contains a single sample.\n",
      "  DeprecationWarning)\n",
      "/usr/local/lib/python3.5/site-packages/sklearn/utils/validation.py:395: DeprecationWarning: Passing 1d arrays as data is deprecated in 0.17 and will raise ValueError in 0.19. Reshape your data either using X.reshape(-1, 1) if your data has a single feature or X.reshape(1, -1) if it contains a single sample.\n",
      "  DeprecationWarning)\n",
      "/usr/local/lib/python3.5/site-packages/sklearn/utils/validation.py:395: DeprecationWarning: Passing 1d arrays as data is deprecated in 0.17 and will raise ValueError in 0.19. Reshape your data either using X.reshape(-1, 1) if your data has a single feature or X.reshape(1, -1) if it contains a single sample.\n",
      "  DeprecationWarning)\n",
      "/usr/local/lib/python3.5/site-packages/sklearn/utils/validation.py:395: DeprecationWarning: Passing 1d arrays as data is deprecated in 0.17 and will raise ValueError in 0.19. Reshape your data either using X.reshape(-1, 1) if your data has a single feature or X.reshape(1, -1) if it contains a single sample.\n",
      "  DeprecationWarning)\n",
      "/usr/local/lib/python3.5/site-packages/sklearn/utils/validation.py:395: DeprecationWarning: Passing 1d arrays as data is deprecated in 0.17 and will raise ValueError in 0.19. Reshape your data either using X.reshape(-1, 1) if your data has a single feature or X.reshape(1, -1) if it contains a single sample.\n",
      "  DeprecationWarning)\n",
      "/usr/local/lib/python3.5/site-packages/sklearn/utils/validation.py:395: DeprecationWarning: Passing 1d arrays as data is deprecated in 0.17 and will raise ValueError in 0.19. Reshape your data either using X.reshape(-1, 1) if your data has a single feature or X.reshape(1, -1) if it contains a single sample.\n",
      "  DeprecationWarning)\n",
      "/usr/local/lib/python3.5/site-packages/sklearn/utils/validation.py:395: DeprecationWarning: Passing 1d arrays as data is deprecated in 0.17 and will raise ValueError in 0.19. Reshape your data either using X.reshape(-1, 1) if your data has a single feature or X.reshape(1, -1) if it contains a single sample.\n",
      "  DeprecationWarning)\n",
      "/usr/local/lib/python3.5/site-packages/sklearn/utils/validation.py:395: DeprecationWarning: Passing 1d arrays as data is deprecated in 0.17 and will raise ValueError in 0.19. Reshape your data either using X.reshape(-1, 1) if your data has a single feature or X.reshape(1, -1) if it contains a single sample.\n",
      "  DeprecationWarning)\n",
      "/usr/local/lib/python3.5/site-packages/sklearn/utils/validation.py:395: DeprecationWarning: Passing 1d arrays as data is deprecated in 0.17 and will raise ValueError in 0.19. Reshape your data either using X.reshape(-1, 1) if your data has a single feature or X.reshape(1, -1) if it contains a single sample.\n",
      "  DeprecationWarning)\n",
      "/usr/local/lib/python3.5/site-packages/sklearn/utils/validation.py:395: DeprecationWarning: Passing 1d arrays as data is deprecated in 0.17 and will raise ValueError in 0.19. Reshape your data either using X.reshape(-1, 1) if your data has a single feature or X.reshape(1, -1) if it contains a single sample.\n",
      "  DeprecationWarning)\n",
      "/usr/local/lib/python3.5/site-packages/sklearn/utils/validation.py:395: DeprecationWarning: Passing 1d arrays as data is deprecated in 0.17 and will raise ValueError in 0.19. Reshape your data either using X.reshape(-1, 1) if your data has a single feature or X.reshape(1, -1) if it contains a single sample.\n",
      "  DeprecationWarning)\n",
      "/usr/local/lib/python3.5/site-packages/sklearn/utils/validation.py:395: DeprecationWarning: Passing 1d arrays as data is deprecated in 0.17 and will raise ValueError in 0.19. Reshape your data either using X.reshape(-1, 1) if your data has a single feature or X.reshape(1, -1) if it contains a single sample.\n",
      "  DeprecationWarning)\n",
      "/usr/local/lib/python3.5/site-packages/sklearn/utils/validation.py:395: DeprecationWarning: Passing 1d arrays as data is deprecated in 0.17 and will raise ValueError in 0.19. Reshape your data either using X.reshape(-1, 1) if your data has a single feature or X.reshape(1, -1) if it contains a single sample.\n",
      "  DeprecationWarning)\n",
      "/usr/local/lib/python3.5/site-packages/sklearn/utils/validation.py:395: DeprecationWarning: Passing 1d arrays as data is deprecated in 0.17 and will raise ValueError in 0.19. Reshape your data either using X.reshape(-1, 1) if your data has a single feature or X.reshape(1, -1) if it contains a single sample.\n",
      "  DeprecationWarning)\n",
      "/usr/local/lib/python3.5/site-packages/sklearn/utils/validation.py:395: DeprecationWarning: Passing 1d arrays as data is deprecated in 0.17 and will raise ValueError in 0.19. Reshape your data either using X.reshape(-1, 1) if your data has a single feature or X.reshape(1, -1) if it contains a single sample.\n",
      "  DeprecationWarning)\n",
      "/usr/local/lib/python3.5/site-packages/sklearn/utils/validation.py:395: DeprecationWarning: Passing 1d arrays as data is deprecated in 0.17 and will raise ValueError in 0.19. Reshape your data either using X.reshape(-1, 1) if your data has a single feature or X.reshape(1, -1) if it contains a single sample.\n",
      "  DeprecationWarning)\n",
      "/usr/local/lib/python3.5/site-packages/sklearn/utils/validation.py:395: DeprecationWarning: Passing 1d arrays as data is deprecated in 0.17 and will raise ValueError in 0.19. Reshape your data either using X.reshape(-1, 1) if your data has a single feature or X.reshape(1, -1) if it contains a single sample.\n",
      "  DeprecationWarning)\n",
      "/usr/local/lib/python3.5/site-packages/sklearn/utils/validation.py:395: DeprecationWarning: Passing 1d arrays as data is deprecated in 0.17 and will raise ValueError in 0.19. Reshape your data either using X.reshape(-1, 1) if your data has a single feature or X.reshape(1, -1) if it contains a single sample.\n",
      "  DeprecationWarning)\n",
      "/usr/local/lib/python3.5/site-packages/sklearn/utils/validation.py:395: DeprecationWarning: Passing 1d arrays as data is deprecated in 0.17 and will raise ValueError in 0.19. Reshape your data either using X.reshape(-1, 1) if your data has a single feature or X.reshape(1, -1) if it contains a single sample.\n",
      "  DeprecationWarning)\n",
      "/usr/local/lib/python3.5/site-packages/sklearn/utils/validation.py:395: DeprecationWarning: Passing 1d arrays as data is deprecated in 0.17 and will raise ValueError in 0.19. Reshape your data either using X.reshape(-1, 1) if your data has a single feature or X.reshape(1, -1) if it contains a single sample.\n",
      "  DeprecationWarning)\n",
      "/usr/local/lib/python3.5/site-packages/sklearn/utils/validation.py:395: DeprecationWarning: Passing 1d arrays as data is deprecated in 0.17 and will raise ValueError in 0.19. Reshape your data either using X.reshape(-1, 1) if your data has a single feature or X.reshape(1, -1) if it contains a single sample.\n",
      "  DeprecationWarning)\n",
      "/usr/local/lib/python3.5/site-packages/sklearn/utils/validation.py:395: DeprecationWarning: Passing 1d arrays as data is deprecated in 0.17 and will raise ValueError in 0.19. Reshape your data either using X.reshape(-1, 1) if your data has a single feature or X.reshape(1, -1) if it contains a single sample.\n",
      "  DeprecationWarning)\n",
      "/usr/local/lib/python3.5/site-packages/sklearn/utils/validation.py:395: DeprecationWarning: Passing 1d arrays as data is deprecated in 0.17 and will raise ValueError in 0.19. Reshape your data either using X.reshape(-1, 1) if your data has a single feature or X.reshape(1, -1) if it contains a single sample.\n",
      "  DeprecationWarning)\n",
      "/usr/local/lib/python3.5/site-packages/sklearn/utils/validation.py:395: DeprecationWarning: Passing 1d arrays as data is deprecated in 0.17 and will raise ValueError in 0.19. Reshape your data either using X.reshape(-1, 1) if your data has a single feature or X.reshape(1, -1) if it contains a single sample.\n",
      "  DeprecationWarning)\n",
      "/usr/local/lib/python3.5/site-packages/sklearn/utils/validation.py:395: DeprecationWarning: Passing 1d arrays as data is deprecated in 0.17 and will raise ValueError in 0.19. Reshape your data either using X.reshape(-1, 1) if your data has a single feature or X.reshape(1, -1) if it contains a single sample.\n",
      "  DeprecationWarning)\n",
      "/usr/local/lib/python3.5/site-packages/sklearn/utils/validation.py:395: DeprecationWarning: Passing 1d arrays as data is deprecated in 0.17 and will raise ValueError in 0.19. Reshape your data either using X.reshape(-1, 1) if your data has a single feature or X.reshape(1, -1) if it contains a single sample.\n",
      "  DeprecationWarning)\n",
      "/usr/local/lib/python3.5/site-packages/sklearn/utils/validation.py:395: DeprecationWarning: Passing 1d arrays as data is deprecated in 0.17 and will raise ValueError in 0.19. Reshape your data either using X.reshape(-1, 1) if your data has a single feature or X.reshape(1, -1) if it contains a single sample.\n",
      "  DeprecationWarning)\n",
      "/usr/local/lib/python3.5/site-packages/sklearn/utils/validation.py:395: DeprecationWarning: Passing 1d arrays as data is deprecated in 0.17 and will raise ValueError in 0.19. Reshape your data either using X.reshape(-1, 1) if your data has a single feature or X.reshape(1, -1) if it contains a single sample.\n",
      "  DeprecationWarning)\n",
      "/usr/local/lib/python3.5/site-packages/sklearn/utils/validation.py:395: DeprecationWarning: Passing 1d arrays as data is deprecated in 0.17 and will raise ValueError in 0.19. Reshape your data either using X.reshape(-1, 1) if your data has a single feature or X.reshape(1, -1) if it contains a single sample.\n",
      "  DeprecationWarning)\n",
      "/usr/local/lib/python3.5/site-packages/sklearn/utils/validation.py:395: DeprecationWarning: Passing 1d arrays as data is deprecated in 0.17 and will raise ValueError in 0.19. Reshape your data either using X.reshape(-1, 1) if your data has a single feature or X.reshape(1, -1) if it contains a single sample.\n",
      "  DeprecationWarning)\n",
      "/usr/local/lib/python3.5/site-packages/sklearn/utils/validation.py:395: DeprecationWarning: Passing 1d arrays as data is deprecated in 0.17 and will raise ValueError in 0.19. Reshape your data either using X.reshape(-1, 1) if your data has a single feature or X.reshape(1, -1) if it contains a single sample.\n",
      "  DeprecationWarning)\n",
      "/usr/local/lib/python3.5/site-packages/sklearn/utils/validation.py:395: DeprecationWarning: Passing 1d arrays as data is deprecated in 0.17 and will raise ValueError in 0.19. Reshape your data either using X.reshape(-1, 1) if your data has a single feature or X.reshape(1, -1) if it contains a single sample.\n",
      "  DeprecationWarning)\n",
      "/usr/local/lib/python3.5/site-packages/sklearn/utils/validation.py:395: DeprecationWarning: Passing 1d arrays as data is deprecated in 0.17 and will raise ValueError in 0.19. Reshape your data either using X.reshape(-1, 1) if your data has a single feature or X.reshape(1, -1) if it contains a single sample.\n",
      "  DeprecationWarning)\n",
      "/usr/local/lib/python3.5/site-packages/sklearn/utils/validation.py:395: DeprecationWarning: Passing 1d arrays as data is deprecated in 0.17 and will raise ValueError in 0.19. Reshape your data either using X.reshape(-1, 1) if your data has a single feature or X.reshape(1, -1) if it contains a single sample.\n",
      "  DeprecationWarning)\n",
      "/usr/local/lib/python3.5/site-packages/sklearn/utils/validation.py:395: DeprecationWarning: Passing 1d arrays as data is deprecated in 0.17 and will raise ValueError in 0.19. Reshape your data either using X.reshape(-1, 1) if your data has a single feature or X.reshape(1, -1) if it contains a single sample.\n",
      "  DeprecationWarning)\n",
      "/usr/local/lib/python3.5/site-packages/sklearn/utils/validation.py:395: DeprecationWarning: Passing 1d arrays as data is deprecated in 0.17 and will raise ValueError in 0.19. Reshape your data either using X.reshape(-1, 1) if your data has a single feature or X.reshape(1, -1) if it contains a single sample.\n",
      "  DeprecationWarning)\n",
      "/usr/local/lib/python3.5/site-packages/sklearn/utils/validation.py:395: DeprecationWarning: Passing 1d arrays as data is deprecated in 0.17 and will raise ValueError in 0.19. Reshape your data either using X.reshape(-1, 1) if your data has a single feature or X.reshape(1, -1) if it contains a single sample.\n",
      "  DeprecationWarning)\n",
      "/usr/local/lib/python3.5/site-packages/sklearn/utils/validation.py:395: DeprecationWarning: Passing 1d arrays as data is deprecated in 0.17 and will raise ValueError in 0.19. Reshape your data either using X.reshape(-1, 1) if your data has a single feature or X.reshape(1, -1) if it contains a single sample.\n",
      "  DeprecationWarning)\n",
      "/usr/local/lib/python3.5/site-packages/sklearn/utils/validation.py:395: DeprecationWarning: Passing 1d arrays as data is deprecated in 0.17 and will raise ValueError in 0.19. Reshape your data either using X.reshape(-1, 1) if your data has a single feature or X.reshape(1, -1) if it contains a single sample.\n",
      "  DeprecationWarning)\n",
      "/usr/local/lib/python3.5/site-packages/sklearn/utils/validation.py:395: DeprecationWarning: Passing 1d arrays as data is deprecated in 0.17 and will raise ValueError in 0.19. Reshape your data either using X.reshape(-1, 1) if your data has a single feature or X.reshape(1, -1) if it contains a single sample.\n",
      "  DeprecationWarning)\n",
      "/usr/local/lib/python3.5/site-packages/sklearn/utils/validation.py:395: DeprecationWarning: Passing 1d arrays as data is deprecated in 0.17 and will raise ValueError in 0.19. Reshape your data either using X.reshape(-1, 1) if your data has a single feature or X.reshape(1, -1) if it contains a single sample.\n",
      "  DeprecationWarning)\n",
      "/usr/local/lib/python3.5/site-packages/sklearn/utils/validation.py:395: DeprecationWarning: Passing 1d arrays as data is deprecated in 0.17 and will raise ValueError in 0.19. Reshape your data either using X.reshape(-1, 1) if your data has a single feature or X.reshape(1, -1) if it contains a single sample.\n",
      "  DeprecationWarning)\n",
      "/usr/local/lib/python3.5/site-packages/sklearn/utils/validation.py:395: DeprecationWarning: Passing 1d arrays as data is deprecated in 0.17 and will raise ValueError in 0.19. Reshape your data either using X.reshape(-1, 1) if your data has a single feature or X.reshape(1, -1) if it contains a single sample.\n",
      "  DeprecationWarning)\n",
      "/usr/local/lib/python3.5/site-packages/sklearn/utils/validation.py:395: DeprecationWarning: Passing 1d arrays as data is deprecated in 0.17 and will raise ValueError in 0.19. Reshape your data either using X.reshape(-1, 1) if your data has a single feature or X.reshape(1, -1) if it contains a single sample.\n",
      "  DeprecationWarning)\n",
      "/usr/local/lib/python3.5/site-packages/sklearn/utils/validation.py:395: DeprecationWarning: Passing 1d arrays as data is deprecated in 0.17 and will raise ValueError in 0.19. Reshape your data either using X.reshape(-1, 1) if your data has a single feature or X.reshape(1, -1) if it contains a single sample.\n",
      "  DeprecationWarning)\n",
      "/usr/local/lib/python3.5/site-packages/sklearn/utils/validation.py:395: DeprecationWarning: Passing 1d arrays as data is deprecated in 0.17 and will raise ValueError in 0.19. Reshape your data either using X.reshape(-1, 1) if your data has a single feature or X.reshape(1, -1) if it contains a single sample.\n",
      "  DeprecationWarning)\n",
      "/usr/local/lib/python3.5/site-packages/sklearn/utils/validation.py:395: DeprecationWarning: Passing 1d arrays as data is deprecated in 0.17 and will raise ValueError in 0.19. Reshape your data either using X.reshape(-1, 1) if your data has a single feature or X.reshape(1, -1) if it contains a single sample.\n",
      "  DeprecationWarning)\n",
      "/usr/local/lib/python3.5/site-packages/sklearn/utils/validation.py:395: DeprecationWarning: Passing 1d arrays as data is deprecated in 0.17 and will raise ValueError in 0.19. Reshape your data either using X.reshape(-1, 1) if your data has a single feature or X.reshape(1, -1) if it contains a single sample.\n",
      "  DeprecationWarning)\n",
      "/usr/local/lib/python3.5/site-packages/sklearn/utils/validation.py:395: DeprecationWarning: Passing 1d arrays as data is deprecated in 0.17 and will raise ValueError in 0.19. Reshape your data either using X.reshape(-1, 1) if your data has a single feature or X.reshape(1, -1) if it contains a single sample.\n",
      "  DeprecationWarning)\n",
      "/usr/local/lib/python3.5/site-packages/sklearn/utils/validation.py:395: DeprecationWarning: Passing 1d arrays as data is deprecated in 0.17 and will raise ValueError in 0.19. Reshape your data either using X.reshape(-1, 1) if your data has a single feature or X.reshape(1, -1) if it contains a single sample.\n",
      "  DeprecationWarning)\n",
      "/usr/local/lib/python3.5/site-packages/sklearn/utils/validation.py:395: DeprecationWarning: Passing 1d arrays as data is deprecated in 0.17 and will raise ValueError in 0.19. Reshape your data either using X.reshape(-1, 1) if your data has a single feature or X.reshape(1, -1) if it contains a single sample.\n",
      "  DeprecationWarning)\n",
      "/usr/local/lib/python3.5/site-packages/sklearn/utils/validation.py:395: DeprecationWarning: Passing 1d arrays as data is deprecated in 0.17 and will raise ValueError in 0.19. Reshape your data either using X.reshape(-1, 1) if your data has a single feature or X.reshape(1, -1) if it contains a single sample.\n",
      "  DeprecationWarning)\n",
      "/usr/local/lib/python3.5/site-packages/sklearn/utils/validation.py:395: DeprecationWarning: Passing 1d arrays as data is deprecated in 0.17 and will raise ValueError in 0.19. Reshape your data either using X.reshape(-1, 1) if your data has a single feature or X.reshape(1, -1) if it contains a single sample.\n",
      "  DeprecationWarning)\n",
      "/usr/local/lib/python3.5/site-packages/sklearn/utils/validation.py:395: DeprecationWarning: Passing 1d arrays as data is deprecated in 0.17 and will raise ValueError in 0.19. Reshape your data either using X.reshape(-1, 1) if your data has a single feature or X.reshape(1, -1) if it contains a single sample.\n",
      "  DeprecationWarning)\n",
      "/usr/local/lib/python3.5/site-packages/sklearn/utils/validation.py:395: DeprecationWarning: Passing 1d arrays as data is deprecated in 0.17 and will raise ValueError in 0.19. Reshape your data either using X.reshape(-1, 1) if your data has a single feature or X.reshape(1, -1) if it contains a single sample.\n",
      "  DeprecationWarning)\n",
      "/usr/local/lib/python3.5/site-packages/sklearn/utils/validation.py:395: DeprecationWarning: Passing 1d arrays as data is deprecated in 0.17 and will raise ValueError in 0.19. Reshape your data either using X.reshape(-1, 1) if your data has a single feature or X.reshape(1, -1) if it contains a single sample.\n",
      "  DeprecationWarning)\n",
      "/usr/local/lib/python3.5/site-packages/sklearn/utils/validation.py:395: DeprecationWarning: Passing 1d arrays as data is deprecated in 0.17 and will raise ValueError in 0.19. Reshape your data either using X.reshape(-1, 1) if your data has a single feature or X.reshape(1, -1) if it contains a single sample.\n",
      "  DeprecationWarning)\n",
      "/usr/local/lib/python3.5/site-packages/sklearn/utils/validation.py:395: DeprecationWarning: Passing 1d arrays as data is deprecated in 0.17 and will raise ValueError in 0.19. Reshape your data either using X.reshape(-1, 1) if your data has a single feature or X.reshape(1, -1) if it contains a single sample.\n",
      "  DeprecationWarning)\n",
      "/usr/local/lib/python3.5/site-packages/sklearn/utils/validation.py:395: DeprecationWarning: Passing 1d arrays as data is deprecated in 0.17 and will raise ValueError in 0.19. Reshape your data either using X.reshape(-1, 1) if your data has a single feature or X.reshape(1, -1) if it contains a single sample.\n",
      "  DeprecationWarning)\n",
      "/usr/local/lib/python3.5/site-packages/sklearn/utils/validation.py:395: DeprecationWarning: Passing 1d arrays as data is deprecated in 0.17 and will raise ValueError in 0.19. Reshape your data either using X.reshape(-1, 1) if your data has a single feature or X.reshape(1, -1) if it contains a single sample.\n",
      "  DeprecationWarning)\n",
      "/usr/local/lib/python3.5/site-packages/sklearn/utils/validation.py:395: DeprecationWarning: Passing 1d arrays as data is deprecated in 0.17 and will raise ValueError in 0.19. Reshape your data either using X.reshape(-1, 1) if your data has a single feature or X.reshape(1, -1) if it contains a single sample.\n",
      "  DeprecationWarning)\n",
      "/usr/local/lib/python3.5/site-packages/sklearn/utils/validation.py:395: DeprecationWarning: Passing 1d arrays as data is deprecated in 0.17 and will raise ValueError in 0.19. Reshape your data either using X.reshape(-1, 1) if your data has a single feature or X.reshape(1, -1) if it contains a single sample.\n",
      "  DeprecationWarning)\n",
      "/usr/local/lib/python3.5/site-packages/sklearn/utils/validation.py:395: DeprecationWarning: Passing 1d arrays as data is deprecated in 0.17 and will raise ValueError in 0.19. Reshape your data either using X.reshape(-1, 1) if your data has a single feature or X.reshape(1, -1) if it contains a single sample.\n",
      "  DeprecationWarning)\n",
      "/usr/local/lib/python3.5/site-packages/sklearn/utils/validation.py:395: DeprecationWarning: Passing 1d arrays as data is deprecated in 0.17 and will raise ValueError in 0.19. Reshape your data either using X.reshape(-1, 1) if your data has a single feature or X.reshape(1, -1) if it contains a single sample.\n",
      "  DeprecationWarning)\n",
      "/usr/local/lib/python3.5/site-packages/sklearn/utils/validation.py:395: DeprecationWarning: Passing 1d arrays as data is deprecated in 0.17 and will raise ValueError in 0.19. Reshape your data either using X.reshape(-1, 1) if your data has a single feature or X.reshape(1, -1) if it contains a single sample.\n",
      "  DeprecationWarning)\n",
      "/usr/local/lib/python3.5/site-packages/sklearn/utils/validation.py:395: DeprecationWarning: Passing 1d arrays as data is deprecated in 0.17 and will raise ValueError in 0.19. Reshape your data either using X.reshape(-1, 1) if your data has a single feature or X.reshape(1, -1) if it contains a single sample.\n",
      "  DeprecationWarning)\n",
      "/usr/local/lib/python3.5/site-packages/sklearn/utils/validation.py:395: DeprecationWarning: Passing 1d arrays as data is deprecated in 0.17 and will raise ValueError in 0.19. Reshape your data either using X.reshape(-1, 1) if your data has a single feature or X.reshape(1, -1) if it contains a single sample.\n",
      "  DeprecationWarning)\n",
      "/usr/local/lib/python3.5/site-packages/sklearn/utils/validation.py:395: DeprecationWarning: Passing 1d arrays as data is deprecated in 0.17 and will raise ValueError in 0.19. Reshape your data either using X.reshape(-1, 1) if your data has a single feature or X.reshape(1, -1) if it contains a single sample.\n",
      "  DeprecationWarning)\n",
      "/usr/local/lib/python3.5/site-packages/sklearn/utils/validation.py:395: DeprecationWarning: Passing 1d arrays as data is deprecated in 0.17 and will raise ValueError in 0.19. Reshape your data either using X.reshape(-1, 1) if your data has a single feature or X.reshape(1, -1) if it contains a single sample.\n",
      "  DeprecationWarning)\n",
      "/usr/local/lib/python3.5/site-packages/sklearn/utils/validation.py:395: DeprecationWarning: Passing 1d arrays as data is deprecated in 0.17 and will raise ValueError in 0.19. Reshape your data either using X.reshape(-1, 1) if your data has a single feature or X.reshape(1, -1) if it contains a single sample.\n",
      "  DeprecationWarning)\n",
      "/usr/local/lib/python3.5/site-packages/sklearn/utils/validation.py:395: DeprecationWarning: Passing 1d arrays as data is deprecated in 0.17 and will raise ValueError in 0.19. Reshape your data either using X.reshape(-1, 1) if your data has a single feature or X.reshape(1, -1) if it contains a single sample.\n",
      "  DeprecationWarning)\n",
      "/usr/local/lib/python3.5/site-packages/sklearn/utils/validation.py:395: DeprecationWarning: Passing 1d arrays as data is deprecated in 0.17 and will raise ValueError in 0.19. Reshape your data either using X.reshape(-1, 1) if your data has a single feature or X.reshape(1, -1) if it contains a single sample.\n",
      "  DeprecationWarning)\n",
      "/usr/local/lib/python3.5/site-packages/sklearn/utils/validation.py:395: DeprecationWarning: Passing 1d arrays as data is deprecated in 0.17 and will raise ValueError in 0.19. Reshape your data either using X.reshape(-1, 1) if your data has a single feature or X.reshape(1, -1) if it contains a single sample.\n",
      "  DeprecationWarning)\n",
      "/usr/local/lib/python3.5/site-packages/sklearn/utils/validation.py:395: DeprecationWarning: Passing 1d arrays as data is deprecated in 0.17 and will raise ValueError in 0.19. Reshape your data either using X.reshape(-1, 1) if your data has a single feature or X.reshape(1, -1) if it contains a single sample.\n",
      "  DeprecationWarning)\n",
      "/usr/local/lib/python3.5/site-packages/sklearn/utils/validation.py:395: DeprecationWarning: Passing 1d arrays as data is deprecated in 0.17 and will raise ValueError in 0.19. Reshape your data either using X.reshape(-1, 1) if your data has a single feature or X.reshape(1, -1) if it contains a single sample.\n",
      "  DeprecationWarning)\n",
      "/usr/local/lib/python3.5/site-packages/sklearn/utils/validation.py:395: DeprecationWarning: Passing 1d arrays as data is deprecated in 0.17 and will raise ValueError in 0.19. Reshape your data either using X.reshape(-1, 1) if your data has a single feature or X.reshape(1, -1) if it contains a single sample.\n",
      "  DeprecationWarning)\n",
      "/usr/local/lib/python3.5/site-packages/sklearn/utils/validation.py:395: DeprecationWarning: Passing 1d arrays as data is deprecated in 0.17 and will raise ValueError in 0.19. Reshape your data either using X.reshape(-1, 1) if your data has a single feature or X.reshape(1, -1) if it contains a single sample.\n",
      "  DeprecationWarning)\n",
      "/usr/local/lib/python3.5/site-packages/sklearn/utils/validation.py:395: DeprecationWarning: Passing 1d arrays as data is deprecated in 0.17 and will raise ValueError in 0.19. Reshape your data either using X.reshape(-1, 1) if your data has a single feature or X.reshape(1, -1) if it contains a single sample.\n",
      "  DeprecationWarning)\n",
      "/usr/local/lib/python3.5/site-packages/sklearn/utils/validation.py:395: DeprecationWarning: Passing 1d arrays as data is deprecated in 0.17 and will raise ValueError in 0.19. Reshape your data either using X.reshape(-1, 1) if your data has a single feature or X.reshape(1, -1) if it contains a single sample.\n",
      "  DeprecationWarning)\n",
      "/usr/local/lib/python3.5/site-packages/sklearn/utils/validation.py:395: DeprecationWarning: Passing 1d arrays as data is deprecated in 0.17 and will raise ValueError in 0.19. Reshape your data either using X.reshape(-1, 1) if your data has a single feature or X.reshape(1, -1) if it contains a single sample.\n",
      "  DeprecationWarning)\n",
      "/usr/local/lib/python3.5/site-packages/sklearn/utils/validation.py:395: DeprecationWarning: Passing 1d arrays as data is deprecated in 0.17 and will raise ValueError in 0.19. Reshape your data either using X.reshape(-1, 1) if your data has a single feature or X.reshape(1, -1) if it contains a single sample.\n",
      "  DeprecationWarning)\n",
      "/usr/local/lib/python3.5/site-packages/sklearn/utils/validation.py:395: DeprecationWarning: Passing 1d arrays as data is deprecated in 0.17 and will raise ValueError in 0.19. Reshape your data either using X.reshape(-1, 1) if your data has a single feature or X.reshape(1, -1) if it contains a single sample.\n",
      "  DeprecationWarning)\n",
      "/usr/local/lib/python3.5/site-packages/sklearn/utils/validation.py:395: DeprecationWarning: Passing 1d arrays as data is deprecated in 0.17 and will raise ValueError in 0.19. Reshape your data either using X.reshape(-1, 1) if your data has a single feature or X.reshape(1, -1) if it contains a single sample.\n",
      "  DeprecationWarning)\n",
      "/usr/local/lib/python3.5/site-packages/sklearn/utils/validation.py:395: DeprecationWarning: Passing 1d arrays as data is deprecated in 0.17 and will raise ValueError in 0.19. Reshape your data either using X.reshape(-1, 1) if your data has a single feature or X.reshape(1, -1) if it contains a single sample.\n",
      "  DeprecationWarning)\n",
      "/usr/local/lib/python3.5/site-packages/sklearn/utils/validation.py:395: DeprecationWarning: Passing 1d arrays as data is deprecated in 0.17 and will raise ValueError in 0.19. Reshape your data either using X.reshape(-1, 1) if your data has a single feature or X.reshape(1, -1) if it contains a single sample.\n",
      "  DeprecationWarning)\n",
      "/usr/local/lib/python3.5/site-packages/sklearn/utils/validation.py:395: DeprecationWarning: Passing 1d arrays as data is deprecated in 0.17 and will raise ValueError in 0.19. Reshape your data either using X.reshape(-1, 1) if your data has a single feature or X.reshape(1, -1) if it contains a single sample.\n",
      "  DeprecationWarning)\n",
      "/usr/local/lib/python3.5/site-packages/sklearn/utils/validation.py:395: DeprecationWarning: Passing 1d arrays as data is deprecated in 0.17 and will raise ValueError in 0.19. Reshape your data either using X.reshape(-1, 1) if your data has a single feature or X.reshape(1, -1) if it contains a single sample.\n",
      "  DeprecationWarning)\n",
      "/usr/local/lib/python3.5/site-packages/sklearn/utils/validation.py:395: DeprecationWarning: Passing 1d arrays as data is deprecated in 0.17 and will raise ValueError in 0.19. Reshape your data either using X.reshape(-1, 1) if your data has a single feature or X.reshape(1, -1) if it contains a single sample.\n",
      "  DeprecationWarning)\n",
      "/usr/local/lib/python3.5/site-packages/sklearn/utils/validation.py:395: DeprecationWarning: Passing 1d arrays as data is deprecated in 0.17 and will raise ValueError in 0.19. Reshape your data either using X.reshape(-1, 1) if your data has a single feature or X.reshape(1, -1) if it contains a single sample.\n",
      "  DeprecationWarning)\n",
      "/usr/local/lib/python3.5/site-packages/sklearn/utils/validation.py:395: DeprecationWarning: Passing 1d arrays as data is deprecated in 0.17 and will raise ValueError in 0.19. Reshape your data either using X.reshape(-1, 1) if your data has a single feature or X.reshape(1, -1) if it contains a single sample.\n",
      "  DeprecationWarning)\n",
      "/usr/local/lib/python3.5/site-packages/sklearn/utils/validation.py:395: DeprecationWarning: Passing 1d arrays as data is deprecated in 0.17 and will raise ValueError in 0.19. Reshape your data either using X.reshape(-1, 1) if your data has a single feature or X.reshape(1, -1) if it contains a single sample.\n",
      "  DeprecationWarning)\n",
      "/usr/local/lib/python3.5/site-packages/sklearn/utils/validation.py:395: DeprecationWarning: Passing 1d arrays as data is deprecated in 0.17 and will raise ValueError in 0.19. Reshape your data either using X.reshape(-1, 1) if your data has a single feature or X.reshape(1, -1) if it contains a single sample.\n",
      "  DeprecationWarning)\n",
      "/usr/local/lib/python3.5/site-packages/sklearn/utils/validation.py:395: DeprecationWarning: Passing 1d arrays as data is deprecated in 0.17 and will raise ValueError in 0.19. Reshape your data either using X.reshape(-1, 1) if your data has a single feature or X.reshape(1, -1) if it contains a single sample.\n",
      "  DeprecationWarning)\n",
      "/usr/local/lib/python3.5/site-packages/sklearn/utils/validation.py:395: DeprecationWarning: Passing 1d arrays as data is deprecated in 0.17 and will raise ValueError in 0.19. Reshape your data either using X.reshape(-1, 1) if your data has a single feature or X.reshape(1, -1) if it contains a single sample.\n",
      "  DeprecationWarning)\n",
      "/usr/local/lib/python3.5/site-packages/sklearn/utils/validation.py:395: DeprecationWarning: Passing 1d arrays as data is deprecated in 0.17 and will raise ValueError in 0.19. Reshape your data either using X.reshape(-1, 1) if your data has a single feature or X.reshape(1, -1) if it contains a single sample.\n",
      "  DeprecationWarning)\n",
      "/usr/local/lib/python3.5/site-packages/sklearn/utils/validation.py:395: DeprecationWarning: Passing 1d arrays as data is deprecated in 0.17 and will raise ValueError in 0.19. Reshape your data either using X.reshape(-1, 1) if your data has a single feature or X.reshape(1, -1) if it contains a single sample.\n",
      "  DeprecationWarning)\n",
      "/usr/local/lib/python3.5/site-packages/sklearn/utils/validation.py:395: DeprecationWarning: Passing 1d arrays as data is deprecated in 0.17 and will raise ValueError in 0.19. Reshape your data either using X.reshape(-1, 1) if your data has a single feature or X.reshape(1, -1) if it contains a single sample.\n",
      "  DeprecationWarning)\n",
      "/usr/local/lib/python3.5/site-packages/sklearn/utils/validation.py:395: DeprecationWarning: Passing 1d arrays as data is deprecated in 0.17 and will raise ValueError in 0.19. Reshape your data either using X.reshape(-1, 1) if your data has a single feature or X.reshape(1, -1) if it contains a single sample.\n",
      "  DeprecationWarning)\n",
      "/usr/local/lib/python3.5/site-packages/sklearn/utils/validation.py:395: DeprecationWarning: Passing 1d arrays as data is deprecated in 0.17 and will raise ValueError in 0.19. Reshape your data either using X.reshape(-1, 1) if your data has a single feature or X.reshape(1, -1) if it contains a single sample.\n",
      "  DeprecationWarning)\n",
      "/usr/local/lib/python3.5/site-packages/sklearn/utils/validation.py:395: DeprecationWarning: Passing 1d arrays as data is deprecated in 0.17 and will raise ValueError in 0.19. Reshape your data either using X.reshape(-1, 1) if your data has a single feature or X.reshape(1, -1) if it contains a single sample.\n",
      "  DeprecationWarning)\n",
      "/usr/local/lib/python3.5/site-packages/sklearn/utils/validation.py:395: DeprecationWarning: Passing 1d arrays as data is deprecated in 0.17 and will raise ValueError in 0.19. Reshape your data either using X.reshape(-1, 1) if your data has a single feature or X.reshape(1, -1) if it contains a single sample.\n",
      "  DeprecationWarning)\n",
      "/usr/local/lib/python3.5/site-packages/sklearn/utils/validation.py:395: DeprecationWarning: Passing 1d arrays as data is deprecated in 0.17 and will raise ValueError in 0.19. Reshape your data either using X.reshape(-1, 1) if your data has a single feature or X.reshape(1, -1) if it contains a single sample.\n",
      "  DeprecationWarning)\n",
      "/usr/local/lib/python3.5/site-packages/sklearn/utils/validation.py:395: DeprecationWarning: Passing 1d arrays as data is deprecated in 0.17 and will raise ValueError in 0.19. Reshape your data either using X.reshape(-1, 1) if your data has a single feature or X.reshape(1, -1) if it contains a single sample.\n",
      "  DeprecationWarning)\n",
      "/usr/local/lib/python3.5/site-packages/sklearn/utils/validation.py:395: DeprecationWarning: Passing 1d arrays as data is deprecated in 0.17 and will raise ValueError in 0.19. Reshape your data either using X.reshape(-1, 1) if your data has a single feature or X.reshape(1, -1) if it contains a single sample.\n",
      "  DeprecationWarning)\n",
      "/usr/local/lib/python3.5/site-packages/sklearn/utils/validation.py:395: DeprecationWarning: Passing 1d arrays as data is deprecated in 0.17 and will raise ValueError in 0.19. Reshape your data either using X.reshape(-1, 1) if your data has a single feature or X.reshape(1, -1) if it contains a single sample.\n",
      "  DeprecationWarning)\n",
      "/usr/local/lib/python3.5/site-packages/sklearn/utils/validation.py:395: DeprecationWarning: Passing 1d arrays as data is deprecated in 0.17 and will raise ValueError in 0.19. Reshape your data either using X.reshape(-1, 1) if your data has a single feature or X.reshape(1, -1) if it contains a single sample.\n",
      "  DeprecationWarning)\n",
      "/usr/local/lib/python3.5/site-packages/sklearn/utils/validation.py:395: DeprecationWarning: Passing 1d arrays as data is deprecated in 0.17 and will raise ValueError in 0.19. Reshape your data either using X.reshape(-1, 1) if your data has a single feature or X.reshape(1, -1) if it contains a single sample.\n",
      "  DeprecationWarning)\n",
      "/usr/local/lib/python3.5/site-packages/sklearn/utils/validation.py:395: DeprecationWarning: Passing 1d arrays as data is deprecated in 0.17 and will raise ValueError in 0.19. Reshape your data either using X.reshape(-1, 1) if your data has a single feature or X.reshape(1, -1) if it contains a single sample.\n",
      "  DeprecationWarning)\n",
      "/usr/local/lib/python3.5/site-packages/sklearn/utils/validation.py:395: DeprecationWarning: Passing 1d arrays as data is deprecated in 0.17 and will raise ValueError in 0.19. Reshape your data either using X.reshape(-1, 1) if your data has a single feature or X.reshape(1, -1) if it contains a single sample.\n",
      "  DeprecationWarning)\n",
      "/usr/local/lib/python3.5/site-packages/sklearn/utils/validation.py:395: DeprecationWarning: Passing 1d arrays as data is deprecated in 0.17 and will raise ValueError in 0.19. Reshape your data either using X.reshape(-1, 1) if your data has a single feature or X.reshape(1, -1) if it contains a single sample.\n",
      "  DeprecationWarning)\n",
      "/usr/local/lib/python3.5/site-packages/sklearn/utils/validation.py:395: DeprecationWarning: Passing 1d arrays as data is deprecated in 0.17 and will raise ValueError in 0.19. Reshape your data either using X.reshape(-1, 1) if your data has a single feature or X.reshape(1, -1) if it contains a single sample.\n",
      "  DeprecationWarning)\n",
      "/usr/local/lib/python3.5/site-packages/sklearn/utils/validation.py:395: DeprecationWarning: Passing 1d arrays as data is deprecated in 0.17 and will raise ValueError in 0.19. Reshape your data either using X.reshape(-1, 1) if your data has a single feature or X.reshape(1, -1) if it contains a single sample.\n",
      "  DeprecationWarning)\n",
      "/usr/local/lib/python3.5/site-packages/sklearn/utils/validation.py:395: DeprecationWarning: Passing 1d arrays as data is deprecated in 0.17 and will raise ValueError in 0.19. Reshape your data either using X.reshape(-1, 1) if your data has a single feature or X.reshape(1, -1) if it contains a single sample.\n",
      "  DeprecationWarning)\n",
      "/usr/local/lib/python3.5/site-packages/sklearn/utils/validation.py:395: DeprecationWarning: Passing 1d arrays as data is deprecated in 0.17 and will raise ValueError in 0.19. Reshape your data either using X.reshape(-1, 1) if your data has a single feature or X.reshape(1, -1) if it contains a single sample.\n",
      "  DeprecationWarning)\n",
      "/usr/local/lib/python3.5/site-packages/sklearn/utils/validation.py:395: DeprecationWarning: Passing 1d arrays as data is deprecated in 0.17 and will raise ValueError in 0.19. Reshape your data either using X.reshape(-1, 1) if your data has a single feature or X.reshape(1, -1) if it contains a single sample.\n",
      "  DeprecationWarning)\n",
      "/usr/local/lib/python3.5/site-packages/sklearn/utils/validation.py:395: DeprecationWarning: Passing 1d arrays as data is deprecated in 0.17 and will raise ValueError in 0.19. Reshape your data either using X.reshape(-1, 1) if your data has a single feature or X.reshape(1, -1) if it contains a single sample.\n",
      "  DeprecationWarning)\n",
      "/usr/local/lib/python3.5/site-packages/sklearn/utils/validation.py:395: DeprecationWarning: Passing 1d arrays as data is deprecated in 0.17 and will raise ValueError in 0.19. Reshape your data either using X.reshape(-1, 1) if your data has a single feature or X.reshape(1, -1) if it contains a single sample.\n",
      "  DeprecationWarning)\n",
      "/usr/local/lib/python3.5/site-packages/sklearn/utils/validation.py:395: DeprecationWarning: Passing 1d arrays as data is deprecated in 0.17 and will raise ValueError in 0.19. Reshape your data either using X.reshape(-1, 1) if your data has a single feature or X.reshape(1, -1) if it contains a single sample.\n",
      "  DeprecationWarning)\n",
      "/usr/local/lib/python3.5/site-packages/sklearn/utils/validation.py:395: DeprecationWarning: Passing 1d arrays as data is deprecated in 0.17 and will raise ValueError in 0.19. Reshape your data either using X.reshape(-1, 1) if your data has a single feature or X.reshape(1, -1) if it contains a single sample.\n",
      "  DeprecationWarning)\n",
      "/usr/local/lib/python3.5/site-packages/sklearn/utils/validation.py:395: DeprecationWarning: Passing 1d arrays as data is deprecated in 0.17 and will raise ValueError in 0.19. Reshape your data either using X.reshape(-1, 1) if your data has a single feature or X.reshape(1, -1) if it contains a single sample.\n",
      "  DeprecationWarning)\n",
      "/usr/local/lib/python3.5/site-packages/sklearn/utils/validation.py:395: DeprecationWarning: Passing 1d arrays as data is deprecated in 0.17 and will raise ValueError in 0.19. Reshape your data either using X.reshape(-1, 1) if your data has a single feature or X.reshape(1, -1) if it contains a single sample.\n",
      "  DeprecationWarning)\n",
      "/usr/local/lib/python3.5/site-packages/sklearn/utils/validation.py:395: DeprecationWarning: Passing 1d arrays as data is deprecated in 0.17 and will raise ValueError in 0.19. Reshape your data either using X.reshape(-1, 1) if your data has a single feature or X.reshape(1, -1) if it contains a single sample.\n",
      "  DeprecationWarning)\n",
      "/usr/local/lib/python3.5/site-packages/sklearn/utils/validation.py:395: DeprecationWarning: Passing 1d arrays as data is deprecated in 0.17 and will raise ValueError in 0.19. Reshape your data either using X.reshape(-1, 1) if your data has a single feature or X.reshape(1, -1) if it contains a single sample.\n",
      "  DeprecationWarning)\n",
      "/usr/local/lib/python3.5/site-packages/sklearn/utils/validation.py:395: DeprecationWarning: Passing 1d arrays as data is deprecated in 0.17 and will raise ValueError in 0.19. Reshape your data either using X.reshape(-1, 1) if your data has a single feature or X.reshape(1, -1) if it contains a single sample.\n",
      "  DeprecationWarning)\n",
      "/usr/local/lib/python3.5/site-packages/sklearn/utils/validation.py:395: DeprecationWarning: Passing 1d arrays as data is deprecated in 0.17 and will raise ValueError in 0.19. Reshape your data either using X.reshape(-1, 1) if your data has a single feature or X.reshape(1, -1) if it contains a single sample.\n",
      "  DeprecationWarning)\n",
      "/usr/local/lib/python3.5/site-packages/sklearn/utils/validation.py:395: DeprecationWarning: Passing 1d arrays as data is deprecated in 0.17 and will raise ValueError in 0.19. Reshape your data either using X.reshape(-1, 1) if your data has a single feature or X.reshape(1, -1) if it contains a single sample.\n",
      "  DeprecationWarning)\n",
      "/usr/local/lib/python3.5/site-packages/sklearn/utils/validation.py:395: DeprecationWarning: Passing 1d arrays as data is deprecated in 0.17 and will raise ValueError in 0.19. Reshape your data either using X.reshape(-1, 1) if your data has a single feature or X.reshape(1, -1) if it contains a single sample.\n",
      "  DeprecationWarning)\n",
      "/usr/local/lib/python3.5/site-packages/sklearn/utils/validation.py:395: DeprecationWarning: Passing 1d arrays as data is deprecated in 0.17 and will raise ValueError in 0.19. Reshape your data either using X.reshape(-1, 1) if your data has a single feature or X.reshape(1, -1) if it contains a single sample.\n",
      "  DeprecationWarning)\n",
      "/usr/local/lib/python3.5/site-packages/sklearn/utils/validation.py:395: DeprecationWarning: Passing 1d arrays as data is deprecated in 0.17 and will raise ValueError in 0.19. Reshape your data either using X.reshape(-1, 1) if your data has a single feature or X.reshape(1, -1) if it contains a single sample.\n",
      "  DeprecationWarning)\n",
      "/usr/local/lib/python3.5/site-packages/sklearn/utils/validation.py:395: DeprecationWarning: Passing 1d arrays as data is deprecated in 0.17 and will raise ValueError in 0.19. Reshape your data either using X.reshape(-1, 1) if your data has a single feature or X.reshape(1, -1) if it contains a single sample.\n",
      "  DeprecationWarning)\n",
      "/usr/local/lib/python3.5/site-packages/sklearn/utils/validation.py:395: DeprecationWarning: Passing 1d arrays as data is deprecated in 0.17 and will raise ValueError in 0.19. Reshape your data either using X.reshape(-1, 1) if your data has a single feature or X.reshape(1, -1) if it contains a single sample.\n",
      "  DeprecationWarning)\n",
      "/usr/local/lib/python3.5/site-packages/sklearn/utils/validation.py:395: DeprecationWarning: Passing 1d arrays as data is deprecated in 0.17 and will raise ValueError in 0.19. Reshape your data either using X.reshape(-1, 1) if your data has a single feature or X.reshape(1, -1) if it contains a single sample.\n",
      "  DeprecationWarning)\n",
      "/usr/local/lib/python3.5/site-packages/sklearn/utils/validation.py:395: DeprecationWarning: Passing 1d arrays as data is deprecated in 0.17 and will raise ValueError in 0.19. Reshape your data either using X.reshape(-1, 1) if your data has a single feature or X.reshape(1, -1) if it contains a single sample.\n",
      "  DeprecationWarning)\n",
      "/usr/local/lib/python3.5/site-packages/sklearn/utils/validation.py:395: DeprecationWarning: Passing 1d arrays as data is deprecated in 0.17 and will raise ValueError in 0.19. Reshape your data either using X.reshape(-1, 1) if your data has a single feature or X.reshape(1, -1) if it contains a single sample.\n",
      "  DeprecationWarning)\n",
      "/usr/local/lib/python3.5/site-packages/sklearn/utils/validation.py:395: DeprecationWarning: Passing 1d arrays as data is deprecated in 0.17 and will raise ValueError in 0.19. Reshape your data either using X.reshape(-1, 1) if your data has a single feature or X.reshape(1, -1) if it contains a single sample.\n",
      "  DeprecationWarning)\n",
      "/usr/local/lib/python3.5/site-packages/sklearn/utils/validation.py:395: DeprecationWarning: Passing 1d arrays as data is deprecated in 0.17 and will raise ValueError in 0.19. Reshape your data either using X.reshape(-1, 1) if your data has a single feature or X.reshape(1, -1) if it contains a single sample.\n",
      "  DeprecationWarning)\n",
      "/usr/local/lib/python3.5/site-packages/sklearn/utils/validation.py:395: DeprecationWarning: Passing 1d arrays as data is deprecated in 0.17 and will raise ValueError in 0.19. Reshape your data either using X.reshape(-1, 1) if your data has a single feature or X.reshape(1, -1) if it contains a single sample.\n",
      "  DeprecationWarning)\n",
      "/usr/local/lib/python3.5/site-packages/sklearn/utils/validation.py:395: DeprecationWarning: Passing 1d arrays as data is deprecated in 0.17 and will raise ValueError in 0.19. Reshape your data either using X.reshape(-1, 1) if your data has a single feature or X.reshape(1, -1) if it contains a single sample.\n",
      "  DeprecationWarning)\n"
     ]
    }
   ],
   "source": [
    "OCCdf = makeDF(nytimes_model, Occupations) \n",
    "Fooddf = makeDF(nytimes_model, Foods)\n",
    "Sportsdf = makeDF(nytimes_model, Sports)"
   ]
  },
  {
   "cell_type": "markdown",
   "metadata": {},
   "source": [
    "Define some useful functions for plotting."
   ]
  },
  {
   "cell_type": "code",
   "execution_count": 99,
   "metadata": {
    "collapsed": false
   },
   "outputs": [],
   "source": [
    "def Coloring(Series):\n",
    "    x = Series.values\n",
    "    y = x-x.min()\n",
    "    z = y/y.max()\n",
    "    c = list(plt.cm.rainbow(z))\n",
    "    return c\n",
    "\n",
    "def PlotDimension(ax,df, dim):\n",
    "    ax.set_frame_on(False)\n",
    "    ax.set_title(dim, fontsize = 20)\n",
    "    colors = Coloring(df[dim])\n",
    "    for i, word in enumerate(df.index):\n",
    "        ax.annotate(word, (0, df[dim][i]), color = colors[i], alpha = 0.6, fontsize = 12)\n",
    "    MaxY = df[dim].max()\n",
    "    MinY = df[dim].min()\n",
    "    plt.ylim(MinY,MaxY)\n",
    "    plt.yticks(())\n",
    "    plt.xticks(())"
   ]
  },
  {
   "cell_type": "markdown",
   "metadata": {},
   "source": [
    "Plot the occupational words in each of the three dimensions."
   ]
  },
  {
   "cell_type": "code",
   "execution_count": 100,
   "metadata": {
    "collapsed": false,
    "scrolled": true
   },
   "outputs": [
    {
     "data": {
      "image/png": "[encoded data removed]",
      "text/plain": [
       "<matplotlib.figure.Figure at 0x120be75f8>"
      ]
     },
     "metadata": {},
     "output_type": "display_data"
    }
   ],
   "source": [
    "fig = plt.figure(figsize = (12,4))\n",
    "ax1 = fig.add_subplot(131)\n",
    "PlotDimension(ax1, OCCdf, 'gender')\n",
    "ax2 = fig.add_subplot(132)\n",
    "PlotDimension(ax2, OCCdf, 'race')\n",
    "ax3 = fig.add_subplot(133)\n",
    "PlotDimension(ax3, OCCdf, 'class')\n",
    "plt.show()"
   ]
  },
  {
   "cell_type": "markdown",
   "metadata": {},
   "source": [
    "Foods."
   ]
  },
  {
   "cell_type": "code",
   "execution_count": 101,
   "metadata": {
    "collapsed": false
   },
   "outputs": [
    {
     "data": {
      "image/png": "[encoded data removed]",
      "text/plain": [
       "<matplotlib.figure.Figure at 0x11c407b70>"
      ]
     },
     "metadata": {},
     "output_type": "display_data"
    }
   ],
   "source": [
    "fig = plt.figure(figsize = (12,4))\n",
    "ax1 = fig.add_subplot(131)\n",
    "PlotDimension(ax1, Fooddf, 'gender')\n",
    "ax2 = fig.add_subplot(132)\n",
    "PlotDimension(ax2, Fooddf, 'race')\n",
    "ax3 = fig.add_subplot(133)\n",
    "PlotDimension(ax3, Fooddf, 'class')\n",
    "plt.show()"
   ]
  },
  {
   "cell_type": "markdown",
   "metadata": {},
   "source": [
    "Sports"
   ]
  },
  {
   "cell_type": "code",
   "execution_count": 102,
   "metadata": {
    "collapsed": false
   },
   "outputs": [
    {
     "data": {
      "image/png": "[encoded data removed]",
      "text/plain": [
       "<matplotlib.figure.Figure at 0x11d4248d0>"
      ]
     },
     "metadata": {},
     "output_type": "display_data"
    }
   ],
   "source": [
    "fig = plt.figure(figsize = (12,4))\n",
    "ax1 = fig.add_subplot(131)\n",
    "PlotDimension(ax1, Sportsdf, 'gender')\n",
    "ax2 = fig.add_subplot(132)\n",
    "PlotDimension(ax2, Sportsdf, 'race')\n",
    "ax3 = fig.add_subplot(133)\n",
    "PlotDimension(ax3, Sportsdf, 'class')\n",
    "plt.show()"
   ]
  },
  {
   "cell_type": "code",
   "execution_count": null,
   "metadata": {
    "collapsed": true
   },
   "outputs": [],
   "source": []
  }
 ],
 "metadata": {
  "anaconda-cloud": {},
  "kernelspec": {
   "display_name": "Python 3",
   "language": "python",
   "name": "python3"
  },
  "language_info": {
   "codemirror_mode": {
    "name": "ipython",
    "version": 3
   },
   "file_extension": ".py",
   "mimetype": "text/x-python",
   "name": "python",
   "nbconvert_exporter": "python",
   "pygments_lexer": "ipython3",
   "version": "3.5.1"
  }
 },
 "nbformat": 4,
 "nbformat_minor": 0
}
