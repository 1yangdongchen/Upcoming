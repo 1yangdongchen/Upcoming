{
 "cells": [
  {
   "cell_type": "code",
   "execution_count": 88,
   "metadata": {
    "collapsed": false
   },
   "outputs": [],
   "source": [
    "import os.path\n",
    "import zipfile\n",
    "import subprocess\n",
    "import io\n",
    "\n",
    "import nltk\n",
    "import numpy as np #For arrays\n",
    "import pandas #Gives us DataFrames\n",
    "import matplotlib.pyplot as plt #For graphics\n",
    "import seaborn #Makes the graphics look nicer\n",
    "\n",
    "from nltk.tag import StanfordNERTagger\n",
    "from nltk.tag import StanfordPOSTagger\n",
    "from nltk.parse import stanford\n",
    "from nltk.tokenize import word_tokenize\n",
    "from nltk.tree import Tree\n",
    "from nltk.draw.tree import TreeView\n",
    "from nltk.tokenize import sent_tokenize\n",
    "\n",
    "import IPython.display\n",
    "\n",
    "%matplotlib inline"
   ]
  },
  {
   "cell_type": "markdown",
   "metadata": {},
   "source": [
    "To using the [Stanford NLP group](http://nlp.stanford.edu/) programs with nltk requires a bit of setup. We are basing these instructions on those provided by nltk, [here](https://github.com/nltk/nltk/wiki/Installing-Third-Party-Software#stanford-tagger-ner-tokenizer-and-parser), but with a couple of changes for the notebooks.\n",
    "\n",
    "1. Install [Java 1.8+](http://www.oracle.com/technetwork/java/javase/downloads/jdk8-downloads-2133151.html)\n",
    "    + Make sure your `JAVAPATH` is setup if you're on windows\n",
    "2. Download the following zip files from the Stanford NLP group, where DATE is the release date of the files, this will be the value of `stanfordVersion`\n",
    "    + `stanford-postagger-full-DATE.zip`\n",
    "    + `stanford-ner-DATE.zip`\n",
    "    + `stanford-parser-full-DATE.zip`\n",
    "3. Unzip the files and place the resulting directories in the same location, this will become `stanfordDir`\n",
    "4. Lookup the version number used by the parser `stanford-parser-VERSION-models.jar` and set to to be `parserVersion`"
   ]
  },
  {
   "cell_type": "code",
   "execution_count": 60,
   "metadata": {
    "collapsed": true
   },
   "outputs": [],
   "source": [
    "#This is the date at the end of each of the zip files, e.g.\n",
    "#the date in stanford-ner-2016-10-31.zip\n",
    "stanfordVersion = '2016-10-31'\n",
    "\n",
    "#This is the version numbers of the parser models, these\n",
    "#are files in `stanford-parser-full-2016-10-31.zip`, e.g.\n",
    "#stanford-parser-3.7.0-models.jar\n",
    "parserVersion = '3.7.0'\n",
    "\n",
    "#This is where the zip files were unzipped.Make sure to\n",
    "#unzip into directories named after the zip files\n",
    "#Don't just put all the files in `stanford-NLP`\n",
    "stanfordDir = 'shared/stanford-NLP'\n",
    "\n",
    "#Parser's model\n",
    "modelName = 'englishPCFG.ser.gz'"
   ]
  },
  {
   "cell_type": "markdown",
   "metadata": {},
   "source": [
    "Setting up NER tagger"
   ]
  },
  {
   "cell_type": "code",
   "execution_count": 3,
   "metadata": {
    "collapsed": false
   },
   "outputs": [],
   "source": [
    "nerClassifierPath = os.path.join(stanfordDir,'stanford-ner-{}'.format(stanfordVersion), 'classifiers/english.all.3class.distsim.crf.ser.gz')\n",
    "\n",
    "nerJarPath = os.path.join(stanfordDir,'stanford-ner-{}'.format(stanfordVersion), 'stanford-ner.jar')\n",
    "\n",
    "nerTagger = StanfordNERTagger(nerClassifierPath, nerJarPath)"
   ]
  },
  {
   "cell_type": "markdown",
   "metadata": {},
   "source": [
    "setting up POS Tagger"
   ]
  },
  {
   "cell_type": "code",
   "execution_count": 4,
   "metadata": {
    "collapsed": false
   },
   "outputs": [],
   "source": [
    "postClassifierPath = os.path.join(stanfordDir, 'stanford-postagger-full-{}'.format(stanfordVersion), 'models/english-bidirectional-distsim.tagger')\n",
    "\n",
    "postJarPath = os.path.join(stanfordDir,'stanford-postagger-full-{}'.format(stanfordVersion), 'stanford-postagger.jar')\n",
    "\n",
    "postTagger = StanfordPOSTagger(postClassifierPath, postJarPath)"
   ]
  },
  {
   "cell_type": "markdown",
   "metadata": {},
   "source": [
    "Setting up Parser"
   ]
  },
  {
   "cell_type": "code",
   "execution_count": 5,
   "metadata": {
    "collapsed": false
   },
   "outputs": [],
   "source": [
    "parserJarPath = os.path.join(stanfordDir, 'stanford-parser-full-{}'.format(stanfordVersion), 'stanford-parser.jar')\n",
    "\n",
    "parserModelsPath = os.path.join(stanfordDir, 'stanford-parser-full-{}'.format(stanfordVersion), 'stanford-parser-{}-models.jar'.format(parserVersion))\n",
    "\n",
    "modelPath = os.path.join(stanfordDir, 'stanford-parser-full-{}'.format(stanfordVersion), modelName)\n",
    "\n",
    "if not os.path.isfile(modelPath):\n",
    "    with zipfile.ZipFile(parserModelsPath) as zf:\n",
    "        with open(modelPath, 'wb') as f:\n",
    "            f.write(zf.read('edu/stanford/nlp/models/lexparser/{}'.format(modelName)))\n",
    "\n",
    "parser = stanford.StanfordParser(parserJarPath, parserModelsPath, modelPath)\n",
    "\n",
    "depParser = stanford.StanfordDependencyParser(parserJarPath, parserModelsPath)"
   ]
  },
  {
   "cell_type": "markdown",
   "metadata": {},
   "source": [
    "POS tagging"
   ]
  },
  {
   "cell_type": "code",
   "execution_count": 6,
   "metadata": {
    "collapsed": false
   },
   "outputs": [
    {
     "name": "stdout",
     "output_type": "stream",
     "text": [
      "[('While', 'IN'), ('in', 'IN'), ('France', 'NNP'), (',', ','), ('Christine', 'NNP'), ('Lagarde', 'NNP'), ('discussed', 'VBD'), ('short-term', 'JJ'), ('stimulus', 'NN'), ('efforts', 'NNS'), ('in', 'IN'), ('a', 'DT'), ('recent', 'JJ'), ('interview', 'NN'), ('with', 'IN'), ('the', 'DT'), ('Wall', 'NNP'), ('Street', 'NNP'), ('Journal', 'NNP'), ('.', '.')]\n"
     ]
    }
   ],
   "source": [
    "text = 'While in France, Christine Lagarde discussed short-term stimulus efforts in a recent interview with the Wall Street Journal.'\n",
    "\n",
    "tokenized_text = word_tokenize(text)\n",
    "\n",
    "print(postTagger.tag(tokenized_text))"
   ]
  },
  {
   "cell_type": "code",
   "execution_count": 61,
   "metadata": {
    "collapsed": false
   },
   "outputs": [],
   "source": [
    "def openIE(targetSting, tempFileName = 'IE_TEMPFILE'):\n",
    "    coreDir = '{}/stanford-corenlp-full-{}'.format(stanfordDir, stanfordVersion)\n",
    "    cp = '{0}/stanford-corenlp-{1}.jar:{0}/stanford-corenlp-{1}-models.jar:CoreNLP-to-HTML.xsl:slf4j-api.jar:slf4j-simple.jar'.format(coreDir, parserVersion)\n",
    "    with open(tempFileName, 'w') as f:\n",
    "        f.write(targetSting)\n",
    "    sp = subprocess.run(['java', '-mx2g', '-cp', cp, 'edu.stanford.nlp.naturalli.OpenIE', '-threads', '1', f.name], stdout = subprocess.PIPE)\n",
    "    retSting = sp.stdout.decode('utf-8')\n",
    "    os.remove(tempFileName)\n",
    "    with io.StringIO(retSting) as f:\n",
    "        df = pandas.read_csv(f, delimiter = '\\t', names =['certainty', 'subject', 'verb', 'object'] )\n",
    "    return df"
   ]
  },
  {
   "cell_type": "code",
   "execution_count": 86,
   "metadata": {
    "collapsed": false
   },
   "outputs": [],
   "source": [
    "df = openIE('The quick brown fox jumped over the lazy dog. While in France, Christine Lagarde discussed short-term stimulus efforts in a recent interview with the Wall Street Journal. I saw the elephant in my pajamas.')"
   ]
  },
  {
   "cell_type": "code",
   "execution_count": 87,
   "metadata": {
    "collapsed": false
   },
   "outputs": [
    {
     "data": {
      "text/html": [
       "<div>\n",
       "<table border=\"1\" class=\"dataframe\">\n",
       "  <thead>\n",
       "    <tr style=\"text-align: right;\">\n",
       "      <th></th>\n",
       "      <th>certainty</th>\n",
       "      <th>subject</th>\n",
       "      <th>verb</th>\n",
       "      <th>object</th>\n",
       "    </tr>\n",
       "  </thead>\n",
       "  <tbody>\n",
       "    <tr>\n",
       "      <th>0</th>\n",
       "      <td>1.0</td>\n",
       "      <td>quick brown fox</td>\n",
       "      <td>jumped over</td>\n",
       "      <td>lazy dog</td>\n",
       "    </tr>\n",
       "    <tr>\n",
       "      <th>1</th>\n",
       "      <td>1.0</td>\n",
       "      <td>fox</td>\n",
       "      <td>jumped over</td>\n",
       "      <td>dog</td>\n",
       "    </tr>\n",
       "    <tr>\n",
       "      <th>2</th>\n",
       "      <td>1.0</td>\n",
       "      <td>quick fox</td>\n",
       "      <td>jumped over</td>\n",
       "      <td>dog</td>\n",
       "    </tr>\n",
       "    <tr>\n",
       "      <th>3</th>\n",
       "      <td>1.0</td>\n",
       "      <td>quick brown fox</td>\n",
       "      <td>jumped over</td>\n",
       "      <td>dog</td>\n",
       "    </tr>\n",
       "    <tr>\n",
       "      <th>4</th>\n",
       "      <td>1.0</td>\n",
       "      <td>brown fox</td>\n",
       "      <td>jumped over</td>\n",
       "      <td>lazy dog</td>\n",
       "    </tr>\n",
       "    <tr>\n",
       "      <th>5</th>\n",
       "      <td>1.0</td>\n",
       "      <td>brown fox</td>\n",
       "      <td>jumped over</td>\n",
       "      <td>dog</td>\n",
       "    </tr>\n",
       "    <tr>\n",
       "      <th>6</th>\n",
       "      <td>1.0</td>\n",
       "      <td>quick fox</td>\n",
       "      <td>jumped over</td>\n",
       "      <td>lazy dog</td>\n",
       "    </tr>\n",
       "    <tr>\n",
       "      <th>7</th>\n",
       "      <td>1.0</td>\n",
       "      <td>fox</td>\n",
       "      <td>jumped over</td>\n",
       "      <td>lazy dog</td>\n",
       "    </tr>\n",
       "    <tr>\n",
       "      <th>8</th>\n",
       "      <td>1.0</td>\n",
       "      <td>Christine Lagarde</td>\n",
       "      <td>discussed</td>\n",
       "      <td>short-term stimulus efforts in interview with ...</td>\n",
       "    </tr>\n",
       "    <tr>\n",
       "      <th>9</th>\n",
       "      <td>1.0</td>\n",
       "      <td>Christine Lagarde</td>\n",
       "      <td>discussed</td>\n",
       "      <td>stimulus efforts in interview</td>\n",
       "    </tr>\n",
       "    <tr>\n",
       "      <th>10</th>\n",
       "      <td>1.0</td>\n",
       "      <td>Christine Lagarde</td>\n",
       "      <td>discussed</td>\n",
       "      <td>stimulus efforts in recent interview</td>\n",
       "    </tr>\n",
       "    <tr>\n",
       "      <th>11</th>\n",
       "      <td>1.0</td>\n",
       "      <td>Christine Lagarde</td>\n",
       "      <td>discussed stimulus efforts in</td>\n",
       "      <td>France</td>\n",
       "    </tr>\n",
       "    <tr>\n",
       "      <th>12</th>\n",
       "      <td>1.0</td>\n",
       "      <td>Christine Lagarde</td>\n",
       "      <td>discussed</td>\n",
       "      <td>short-term stimulus efforts in recent intervie...</td>\n",
       "    </tr>\n",
       "    <tr>\n",
       "      <th>13</th>\n",
       "      <td>1.0</td>\n",
       "      <td>Christine Lagarde</td>\n",
       "      <td>discussed</td>\n",
       "      <td>short-term stimulus efforts in recent interview</td>\n",
       "    </tr>\n",
       "    <tr>\n",
       "      <th>14</th>\n",
       "      <td>1.0</td>\n",
       "      <td>Christine Lagarde</td>\n",
       "      <td>discussed</td>\n",
       "      <td>stimulus efforts in recent interview with Wall...</td>\n",
       "    </tr>\n",
       "    <tr>\n",
       "      <th>15</th>\n",
       "      <td>1.0</td>\n",
       "      <td>short-term stimulus efforts</td>\n",
       "      <td>is in</td>\n",
       "      <td>recent interview with Wall Street Journal</td>\n",
       "    </tr>\n",
       "    <tr>\n",
       "      <th>16</th>\n",
       "      <td>1.0</td>\n",
       "      <td>Christine Lagarde</td>\n",
       "      <td>discussed</td>\n",
       "      <td>stimulus efforts in interview with Wall Street...</td>\n",
       "    </tr>\n",
       "    <tr>\n",
       "      <th>17</th>\n",
       "      <td>1.0</td>\n",
       "      <td>Christine Lagarde</td>\n",
       "      <td>discussed</td>\n",
       "      <td>short-term stimulus efforts</td>\n",
       "    </tr>\n",
       "    <tr>\n",
       "      <th>18</th>\n",
       "      <td>1.0</td>\n",
       "      <td>Christine Lagarde</td>\n",
       "      <td>discussed</td>\n",
       "      <td>stimulus efforts</td>\n",
       "    </tr>\n",
       "    <tr>\n",
       "      <th>19</th>\n",
       "      <td>1.0</td>\n",
       "      <td>Christine Lagarde</td>\n",
       "      <td>discussed</td>\n",
       "      <td>short-term stimulus efforts in interview</td>\n",
       "    </tr>\n",
       "    <tr>\n",
       "      <th>20</th>\n",
       "      <td>1.0</td>\n",
       "      <td>recent interview</td>\n",
       "      <td>is with</td>\n",
       "      <td>Wall Street Journal</td>\n",
       "    </tr>\n",
       "    <tr>\n",
       "      <th>21</th>\n",
       "      <td>1.0</td>\n",
       "      <td>elephant</td>\n",
       "      <td>is in</td>\n",
       "      <td>my pajamas</td>\n",
       "    </tr>\n",
       "    <tr>\n",
       "      <th>22</th>\n",
       "      <td>1.0</td>\n",
       "      <td>I</td>\n",
       "      <td>saw</td>\n",
       "      <td>elephant in my pajamas</td>\n",
       "    </tr>\n",
       "    <tr>\n",
       "      <th>23</th>\n",
       "      <td>1.0</td>\n",
       "      <td>I</td>\n",
       "      <td>saw</td>\n",
       "      <td>elephant</td>\n",
       "    </tr>\n",
       "  </tbody>\n",
       "</table>\n",
       "</div>"
      ],
      "text/plain": [
       "    certainty                      subject                           verb  \\\n",
       "0         1.0              quick brown fox                    jumped over   \n",
       "1         1.0                          fox                    jumped over   \n",
       "2         1.0                    quick fox                    jumped over   \n",
       "3         1.0              quick brown fox                    jumped over   \n",
       "4         1.0                    brown fox                    jumped over   \n",
       "5         1.0                    brown fox                    jumped over   \n",
       "6         1.0                    quick fox                    jumped over   \n",
       "7         1.0                          fox                    jumped over   \n",
       "8         1.0            Christine Lagarde                      discussed   \n",
       "9         1.0            Christine Lagarde                      discussed   \n",
       "10        1.0            Christine Lagarde                      discussed   \n",
       "11        1.0            Christine Lagarde  discussed stimulus efforts in   \n",
       "12        1.0            Christine Lagarde                      discussed   \n",
       "13        1.0            Christine Lagarde                      discussed   \n",
       "14        1.0            Christine Lagarde                      discussed   \n",
       "15        1.0  short-term stimulus efforts                          is in   \n",
       "16        1.0            Christine Lagarde                      discussed   \n",
       "17        1.0            Christine Lagarde                      discussed   \n",
       "18        1.0            Christine Lagarde                      discussed   \n",
       "19        1.0            Christine Lagarde                      discussed   \n",
       "20        1.0             recent interview                        is with   \n",
       "21        1.0                     elephant                          is in   \n",
       "22        1.0                            I                            saw   \n",
       "23        1.0                            I                            saw   \n",
       "\n",
       "                                               object  \n",
       "0                                            lazy dog  \n",
       "1                                                 dog  \n",
       "2                                                 dog  \n",
       "3                                                 dog  \n",
       "4                                            lazy dog  \n",
       "5                                                 dog  \n",
       "6                                            lazy dog  \n",
       "7                                            lazy dog  \n",
       "8   short-term stimulus efforts in interview with ...  \n",
       "9                       stimulus efforts in interview  \n",
       "10               stimulus efforts in recent interview  \n",
       "11                                             France  \n",
       "12  short-term stimulus efforts in recent intervie...  \n",
       "13    short-term stimulus efforts in recent interview  \n",
       "14  stimulus efforts in recent interview with Wall...  \n",
       "15          recent interview with Wall Street Journal  \n",
       "16  stimulus efforts in interview with Wall Street...  \n",
       "17                        short-term stimulus efforts  \n",
       "18                                   stimulus efforts  \n",
       "19           short-term stimulus efforts in interview  \n",
       "20                                Wall Street Journal  \n",
       "21                                         my pajamas  \n",
       "22                             elephant in my pajamas  \n",
       "23                                           elephant  "
      ]
     },
     "execution_count": 87,
     "metadata": {},
     "output_type": "execute_result"
    }
   ],
   "source": [
    "df"
   ]
  },
  {
   "cell_type": "markdown",
   "metadata": {},
   "source": [
    "Named-Entity Recognition"
   ]
  },
  {
   "cell_type": "code",
   "execution_count": 7,
   "metadata": {
    "collapsed": false
   },
   "outputs": [
    {
     "name": "stdout",
     "output_type": "stream",
     "text": [
      "[('While', 'O'), ('in', 'O'), ('France', 'LOCATION'), (',', 'O'), ('Christine', 'PERSON'), ('Lagarde', 'PERSON'), ('discussed', 'O'), ('short-term', 'O'), ('stimulus', 'O'), ('efforts', 'O'), ('in', 'O'), ('a', 'O'), ('recent', 'O'), ('interview', 'O'), ('with', 'O'), ('the', 'O'), ('Wall', 'ORGANIZATION'), ('Street', 'ORGANIZATION'), ('Journal', 'ORGANIZATION'), ('.', 'O')]\n"
     ]
    }
   ],
   "source": [
    "classified_text = nerTagger.tag(tokenized_text)\n",
    "print(classified_text)"
   ]
  },
  {
   "cell_type": "markdown",
   "metadata": {},
   "source": [
    "Non-Dependency Parsing"
   ]
  },
  {
   "cell_type": "code",
   "execution_count": 8,
   "metadata": {
    "collapsed": false
   },
   "outputs": [
    {
     "name": "stdout",
     "output_type": "stream",
     "text": [
      "(ROOT\n",
      "  (S\n",
      "    (SBAR (IN While) (FRAG (PP (IN in) (NP (NNP France)))))\n",
      "    (, ,)\n",
      "    (NP (NNP Christine) (NNP Lagarde))\n",
      "    (VP\n",
      "      (VBD discussed)\n",
      "      (NP (JJ short-term) (NN stimulus) (NNS efforts))\n",
      "      (PP (IN in) (NP (DT a) (JJ recent) (NN interview)))\n",
      "      (PP\n",
      "        (IN with)\n",
      "        (NP (DT the) (NNP Wall) (NNP Street) (NNP Journal))))\n",
      "    (. .)))\n"
     ]
    }
   ],
   "source": [
    "pars = parser.raw_parse(text) #Parse a single sentence\n",
    "tree = list(pars)[0]\n",
    "print(tree)"
   ]
  },
  {
   "cell_type": "code",
   "execution_count": 10,
   "metadata": {
    "collapsed": false
   },
   "outputs": [
    {
     "name": "stdout",
     "output_type": "stream",
     "text": [
      "                                                                                 ROOT                                                               \n",
      "                                                                                  |                                                                  \n",
      "                                                                                  S                                                                 \n",
      "        __________________________________________________________________________|_______________________________________________________________   \n",
      "      SBAR              |             |                                                              |                                            | \n",
      "   ____|____            |             |                                                              |                                            |  \n",
      "  |        FRAG         |             |                                                              VP                                           | \n",
      "  |         |           |             |               _______________________________________________|____________________                        |  \n",
      "  |         PP          |             |              |                   |                      PP                        PP                      | \n",
      "  |     ____|_____      |             |              |                   |               _______|____                 ____|___                    |  \n",
      "  |    |          NP    |             NP             |                   NP             |            NP              |        NP                  | \n",
      "  |    |          |     |       ______|_____         |          _________|________      |    ________|________       |     ___|_____________      |  \n",
      "  IN   IN        NNP    ,     NNP          NNP      VBD        JJ        NN      NNS    IN  DT       JJ       NN     IN   DT NNP   NNP     NNP    . \n",
      "  |    |          |     |      |            |        |         |         |        |     |   |        |        |      |    |   |     |       |     |  \n",
      "While  in       France  ,  Christine     Lagarde discussed short-term stimulus efforts  in  a      recent interview with the Wall Street Journal  . \n",
      "\n"
     ]
    }
   ],
   "source": [
    "tree.pretty_print()"
   ]
  },
  {
   "cell_type": "code",
   "execution_count": null,
   "metadata": {
    "collapsed": false
   },
   "outputs": [],
   "source": [
    "TreeView(tree)._cframe.print_to_file('output.ps')\n",
    "os.system('convert output.ps output1.png')"
   ]
  },
  {
   "cell_type": "code",
   "execution_count": null,
   "metadata": {
    "collapsed": false
   },
   "outputs": [],
   "source": [
    "#import Ipython.core.display\n",
    "IPython.display.display(tree)"
   ]
  },
  {
   "cell_type": "markdown",
   "metadata": {
    "collapsed": false
   },
   "source": [
    "<img src=\"output1.png\">"
   ]
  },
  {
   "cell_type": "markdown",
   "metadata": {},
   "source": [
    "Dependency Parsing"
   ]
  },
  {
   "cell_type": "code",
   "execution_count": null,
   "metadata": {
    "collapsed": true
   },
   "outputs": [],
   "source": [
    "result = depParser.raw_parse(text)"
   ]
  },
  {
   "cell_type": "code",
   "execution_count": null,
   "metadata": {
    "collapsed": false
   },
   "outputs": [],
   "source": [
    "G = list(result)[0]"
   ]
  },
  {
   "cell_type": "code",
   "execution_count": null,
   "metadata": {
    "collapsed": false
   },
   "outputs": [],
   "source": [
    "G.tree()"
   ]
  },
  {
   "cell_type": "code",
   "execution_count": null,
   "metadata": {
    "collapsed": false
   },
   "outputs": [],
   "source": [
    "f = open('output.dot', 'w')\n",
    "f.write(G.to_dot())\n",
    "f.close()"
   ]
  },
  {
   "cell_type": "code",
   "execution_count": null,
   "metadata": {
    "collapsed": false
   },
   "outputs": [],
   "source": [
    "os.system(\"dot -Tpng output.dot > output2.png\")"
   ]
  },
  {
   "cell_type": "markdown",
   "metadata": {},
   "source": [
    "<img src=\"output2.png\">"
   ]
  },
  {
   "cell_type": "markdown",
   "metadata": {},
   "source": [
    "Lets work with the Clinton-Obama-Sanders dataset again,"
   ]
  },
  {
   "cell_type": "code",
   "execution_count": 58,
   "metadata": {
    "collapsed": false
   },
   "outputs": [],
   "source": [
    "df = pandas.read_csv('data/ObamaClintonSandersReleases.csv', index_col = 0)"
   ]
  },
  {
   "cell_type": "code",
   "execution_count": 97,
   "metadata": {
    "collapsed": false
   },
   "outputs": [],
   "source": [
    "def split_sentences(text):\n",
    "    sents = [item.strip() for item in text.split('    ') if item != '']\n",
    "    return sents"
   ]
  },
  {
   "cell_type": "code",
   "execution_count": 98,
   "metadata": {
    "collapsed": false
   },
   "outputs": [],
   "source": [
    "df['sentences'] = df['text'].apply(lambda x: split_sentences(x))"
   ]
  },
  {
   "cell_type": "code",
   "execution_count": 99,
   "metadata": {
    "collapsed": false
   },
   "outputs": [
    {
     "data": {
      "text/plain": [
       "['Obama Calls on IRS to Protect Taxpayers',\n",
       " 'Privacy   U S  Senator Barack Obama',\n",
       " 'Barack Obama',\n",
       " 'Obama Calls on IRS to Protect Taxpayers',\n",
       " 'Privacy Monday  April  9  2007  FOR IMMEDIATE RELEASE   Contact  Ben LaBolt  Following reports of lax security procedures  asks for investigation  solution WASHINGTON  DC',\n",
       " 'U S  Senator Barack Obama  D IL  today sent a letter calling on Internal Revenue Service Commissioner Mark Everson to fully account for the loss of computers containing sensitive taxpayer information  to audit vulnerabilities taxpayers face when they turn over personal information to the IRS  and to find a solution that protects taxpayers',\n",
       " 'privacy   The Washington Post reported last week that an Inspector General report found that',\n",
       " 'thousands of taxpayers could be at risk of identity theft or other financial fraud because the Internal Revenue Service has failed to adequately protect information on its 52 000 laptop computers and other storage systems',\n",
       " 'and that 500 IRS laptops that may have contained sensitive information were lost or stolen in a 3',\n",
       " 'year period   The text of the letter is below',\n",
       " 'Dear Commissioner Everson   When the federal government demands sensitive personal and financial information from taxpayers in order to assess or verify tax liability  the government has a duty to protect and safeguard that information   And yet  as the Treasury Inspector General for Tax Administration reported last month  IRS officials have failed to respond adequately to the loss or theft of hundreds of computers containing sensitive information   The report notes that',\n",
       " 'it is likely that  sensitive data for a significant number of taxpayers have been unnecessarily exposed to potential identity theft and or other fraudulent schemes',\n",
       " 'When ChoicePoint and Lexis Nexis had security breaches in 2005  hundreds of thousands of consumers were at risk of having their personal information exposed and their identities stolen   Congress will not tolerate this level of potential exposure to privacy violations by the private sector and we cannot tolerate it by the IRS or any government agency   The federal government must be a good steward of the information with which we are entrusted  or we breach the trust that entitles us to require that information in the first place   Since Americans have no choice in sharing their personal information with the IRS  the IRS has an obligation to ensure that its data security system is foolproof and that their privacy is protected   The job of the IRS is one of the most complicated in the federal government because our tax code is a mess and because Congress and the President rely on the IRS to administer many federal policies   You should be commended for your efforts to reduce the tax gap and to improve administration of the nation s single most effective anti poverty program  the EITC   There s no question that most IRS employees work hard and want to do the right thing   But let s not jeopardize the good work of the IRS by failing to address immediately the weaknesses that have been identified and working proactively to prevent similar problems in the future   The IRS has reportedly adopted new security training  software  and hardware solutions to mitigate the risks of data loss in the future   These are welcome improvements   But  without exaggerating or downplaying the scope of the problems involved  we owe the American people answers   I am requesting that you provide to my office   1  a fuller accounting of what went wrong and how it happened  2  a general audit of taxpayer privacy vulnerabilities under current  or any proposed  IRS practices and procedures  3  a clear reporting about what s being done to ensure that the problems are fixed and all significant security gaps are closed  4  a plan to identify and remedy whatever harm may have come to the victims of lax IRS security  including the notification of taxpayers whose data security was compromised  This information can and should be used to strengthen data security by the IRS and other federal agencies and to inform public policies related to data privacy   I look forward to continuing to work on this issue with you   Please outline your findings  plans  and conclusions with regard to numbers 1 4 above and respond to my office within two weeks']"
      ]
     },
     "execution_count": 99,
     "metadata": {},
     "output_type": "execute_result"
    }
   ],
   "source": [
    "df['sentences'][0]"
   ]
  },
  {
   "cell_type": "code",
   "execution_count": 74,
   "metadata": {
    "collapsed": false
   },
   "outputs": [
    {
     "name": "stdout",
     "output_type": "stream",
     "text": [
      "SLF4J: Failed to load class \"org.slf4j.impl.StaticLoggerBinder\".\r\n",
      "SLF4J: Defaulting to no-operation (NOP) logger implementation\r\n",
      "SLF4J: See http://www.slf4j.org/codes.html#StaticLoggerBinder for further details.\r\n",
      "Parsing file: c:\\cygwin64\\tmp\\tmp16aj3t\r\n",
      "Parsing [sent. 1 len. 699]: Obama Calls on IRS to Protect Taxpayers Privacy U S Senator Barack Obama Barack Obama Obama Calls on IRS to Protect Taxpayers Privacy Monday April 9 2007 FOR IMMEDIATE RELEASE Contact Ben LaBolt Following reports of lax security procedures asks for investigation solution WASHINGTON DC U S Senator Barack Obama D IL today sent a letter calling on Internal Revenue Service Commissioner Mark Everson to fully account for the loss of computers containing sensitive taxpayer information to audit vulnerabilities taxpayers face when they turn over personal information to the IRS and to find a solution that protects taxpayers privacy The Washington Post reported last week that an Inspector General report found that thousands of taxpayers could be at risk of identity theft or other financial fraud because the Internal Revenue Service has failed to adequately protect information on its 52 000 laptop computers and other storage systems and that 500 IRS laptops that may have contained sensitive information were lost or stolen in a 3 year period The text of the letter is below Dear Commissioner Everson When the federal government demands sensitive personal and financial information from taxpayers in order to assess or verify tax liability the government has a duty to protect and safeguard that information And yet as the Treasury Inspector General for Tax Administration reported last month IRS officials have failed to respond adequately to the loss or theft of hundreds of computers containing sensitive information The report notes that it is likely that sensitive data for a significant number of taxpayers have been unnecessarily exposed to potential identity theft and or other fraudulent schemes When ChoicePoint and Lexis Nexis had security breaches in 2005 hundreds of thousands of consumers were at risk of having their personal information exposed and their identities stolen Congress will not tolerate this level of potential exposure to privacy violations by the private sector and we can not tolerate it by the IRS or any government agency The federal government must be a good steward of the information with which we are entrusted or we breach the trust that entitles us to require that information in the first place Since Americans have no choice in sharing their personal information with the IRS the IRS has an obligation to ensure that its data security system is foolproof and that their privacy is protected The job of the IRS is one of the most complicated in the federal government because our tax code is a mess and because Congress and the President rely on the IRS to administer many federal policies You should be commended for your efforts to reduce the tax gap and to improve administration of the nation s single most effective anti poverty program the EITC There s no question that most IRS employees work hard and want to do the right thing But let s not jeopardize the good work of the IRS by failing to address immediately the weaknesses that have been identified and working proactively to prevent similar problems in the future The IRS has reportedly adopted new security training software and hardware solutions to mitigate the risks of data loss in the future These are welcome improvements But without exaggerating or downplaying the scope of the problems involved we owe the American people answers I am requesting that you provide to my office 1 a fuller accounting of what went wrong and how it happened 2 a general audit of taxpayer privacy vulnerabilities under current or any proposed IRS practices and procedures 3 a clear reporting about what s being done to ensure that the problems are fixed and all significant security gaps are closed 4 a plan to identify and remedy whatever harm may have come to the victims of lax IRS security including the notification of taxpayers whose data security was compromised This information can and should be used to strengthen data security by the IRS and other federal agencies and to inform public policies related to data privacy I look forward to continuing to work on this issue with you Please outline your findings plans and conclusions with regard to numbers 1 4 above and respond to my office within two weeks\r\n",
      "\r\n",
      "*******************************************************\r\n",
      "***  WARNING!! OUT OF MEMORY! THERE WAS NOT ENOUGH  ***\r\n",
      "***  MEMORY TO RUN ALL PARSERS.  EITHER GIVE THE    ***\r\n",
      "***  JVM MORE MEMORY, SET THE MAXIMUM SENTENCE      ***\r\n",
      "***  LENGTH WITH -maxLength, OR PERHAPS YOU ARE     ***\r\n",
      "***  HAPPY TO HAVE THE PARSER FALL BACK TO USING    ***\r\n",
      "***  A SIMPLER PARSER FOR VERY LONG SENTENCES.      ***\r\n",
      "*******************************************************\r\n",
      "\r\n",
      "Sentence has no parse using PCFG grammar (or no PCFG fallback).  Skipping...\r\n",
      "Exception in thread \"main\" edu.stanford.nlp.parser.common.NoSuchParseException\r\n",
      "\tat edu.stanford.nlp.parser.lexparser.LexicalizedParserQuery.getBestParse(LexicalizedParserQuery.java:404)\r\n",
      "\tat edu.stanford.nlp.parser.lexparser.LexicalizedParserQuery.getBestParse(LexicalizedParserQuery.java:376)\r\n",
      "\tat edu.stanford.nlp.parser.lexparser.ParseFiles.processResults(ParseFiles.java:272)\r\n",
      "\tat edu.stanford.nlp.parser.lexparser.ParseFiles.parseFiles(ParseFiles.java:216)\r\n",
      "\tat edu.stanford.nlp.parser.lexparser.ParseFiles.parseFiles(ParseFiles.java:75)\r\n",
      "\tat edu.stanford.nlp.parser.lexparser.LexicalizedParser.main(LexicalizedParser.java:1517)\r\n",
      "\n"
     ]
    },
    {
     "ename": "OSError",
     "evalue": "Java command failed : ['C:\\\\Program Files\\\\Java\\\\jdk1.8.0_121\\\\bin\\\\java.exe', u'-mx1000m', '-cp', 'C:\\\\users\\\\shilin\\\\documents\\\\stanford\\\\stanford-parser-full-2016-10-31\\\\stanford-parser-3.7.0-models.jar;C:\\\\users\\\\shilin\\\\documents\\\\stanford\\\\stanford-parser-full-2016-10-31\\\\ejml-0.23.jar;C:\\\\users\\\\shilin\\\\documents\\\\stanford\\\\stanford-parser-full-2016-10-31\\\\slf4j-api-1.7.12-sources.jar;C:\\\\users\\\\shilin\\\\documents\\\\stanford\\\\stanford-parser-full-2016-10-31\\\\slf4j-api.jar;C:\\\\users\\\\shilin\\\\documents\\\\stanford\\\\stanford-parser-full-2016-10-31\\\\stanford-parser-3.7.0-javadoc.jar;C:\\\\users\\\\shilin\\\\documents\\\\stanford\\\\stanford-parser-full-2016-10-31\\\\stanford-parser-3.7.0-models.jar;C:\\\\users\\\\shilin\\\\documents\\\\stanford\\\\stanford-parser-full-2016-10-31\\\\stanford-parser-3.7.0-sources.jar;C:\\\\users\\\\shilin\\\\documents\\\\stanford\\\\stanford-parser-full-2016-10-31\\\\stanford-parser.jar', u'edu.stanford.nlp.parser.lexparser.LexicalizedParser', u'-model', 'C:\\\\users\\\\shilin\\\\documents\\\\stanford\\\\stanford-parser-full-2016-10-31\\\\englishPCFG.ser.gz', u'-sentences', u'newline', u'-outputFormat', u'penn', u'-encoding', u'utf8', 'c:\\\\cygwin64\\\\tmp\\\\tmp16aj3t']",
     "output_type": "error",
     "traceback": [
      "\u001b[0;31m\u001b[0m",
      "\u001b[0;31mOSError\u001b[0mTraceback (most recent call last)",
      "\u001b[0;32m<ipython-input-74-9357263322ef>\u001b[0m in \u001b[0;36m<module>\u001b[0;34m()\u001b[0m\n\u001b[0;32m----> 1\u001b[0;31m \u001b[0mpars\u001b[0m \u001b[1;33m=\u001b[0m \u001b[0mparser\u001b[0m\u001b[1;33m.\u001b[0m\u001b[0mraw_parse\u001b[0m\u001b[1;33m(\u001b[0m\u001b[0mdf\u001b[0m\u001b[1;33m[\u001b[0m\u001b[1;34m'sentences'\u001b[0m\u001b[1;33m]\u001b[0m\u001b[1;33m[\u001b[0m\u001b[1;36m0\u001b[0m\u001b[1;33m]\u001b[0m\u001b[1;33m[\u001b[0m\u001b[1;36m0\u001b[0m\u001b[1;33m]\u001b[0m\u001b[1;33m)\u001b[0m\u001b[1;33m\u001b[0m\u001b[0m\n\u001b[0m",
      "\u001b[0;32mC:\\Users\\Shilin\\Anaconda2\\lib\\site-packages\\nltk\\parse\\stanford.pyc\u001b[0m in \u001b[0;36mraw_parse\u001b[0;34m(self, sentence, verbose)\u001b[0m\n\u001b[1;32m    130\u001b[0m         \u001b[1;33m:\u001b[0m\u001b[0mrtype\u001b[0m\u001b[1;33m:\u001b[0m \u001b[0miter\u001b[0m\u001b[1;33m(\u001b[0m\u001b[0mTree\u001b[0m\u001b[1;33m)\u001b[0m\u001b[1;33m\u001b[0m\u001b[0m\n\u001b[1;32m    131\u001b[0m         \"\"\"\n\u001b[0;32m--> 132\u001b[0;31m         \u001b[1;32mreturn\u001b[0m \u001b[0mnext\u001b[0m\u001b[1;33m(\u001b[0m\u001b[0mself\u001b[0m\u001b[1;33m.\u001b[0m\u001b[0mraw_parse_sents\u001b[0m\u001b[1;33m(\u001b[0m\u001b[1;33m[\u001b[0m\u001b[0msentence\u001b[0m\u001b[1;33m]\u001b[0m\u001b[1;33m,\u001b[0m \u001b[0mverbose\u001b[0m\u001b[1;33m)\u001b[0m\u001b[1;33m)\u001b[0m\u001b[1;33m\u001b[0m\u001b[0m\n\u001b[0m\u001b[1;32m    133\u001b[0m \u001b[1;33m\u001b[0m\u001b[0m\n\u001b[1;32m    134\u001b[0m     \u001b[1;32mdef\u001b[0m \u001b[0mraw_parse_sents\u001b[0m\u001b[1;33m(\u001b[0m\u001b[0mself\u001b[0m\u001b[1;33m,\u001b[0m \u001b[0msentences\u001b[0m\u001b[1;33m,\u001b[0m \u001b[0mverbose\u001b[0m\u001b[1;33m=\u001b[0m\u001b[0mFalse\u001b[0m\u001b[1;33m)\u001b[0m\u001b[1;33m:\u001b[0m\u001b[1;33m\u001b[0m\u001b[0m\n",
      "\u001b[0;32mC:\\Users\\Shilin\\Anaconda2\\lib\\site-packages\\nltk\\parse\\stanford.pyc\u001b[0m in \u001b[0;36mraw_parse_sents\u001b[0;34m(self, sentences, verbose)\u001b[0m\n\u001b[1;32m    148\u001b[0m             \u001b[1;34m'-outputFormat'\u001b[0m\u001b[1;33m,\u001b[0m \u001b[0mself\u001b[0m\u001b[1;33m.\u001b[0m\u001b[0m_OUTPUT_FORMAT\u001b[0m\u001b[1;33m,\u001b[0m\u001b[1;33m\u001b[0m\u001b[0m\n\u001b[1;32m    149\u001b[0m         ]\n\u001b[0;32m--> 150\u001b[0;31m         \u001b[1;32mreturn\u001b[0m \u001b[0mself\u001b[0m\u001b[1;33m.\u001b[0m\u001b[0m_parse_trees_output\u001b[0m\u001b[1;33m(\u001b[0m\u001b[0mself\u001b[0m\u001b[1;33m.\u001b[0m\u001b[0m_execute\u001b[0m\u001b[1;33m(\u001b[0m\u001b[0mcmd\u001b[0m\u001b[1;33m,\u001b[0m \u001b[1;34m'\\n'\u001b[0m\u001b[1;33m.\u001b[0m\u001b[0mjoin\u001b[0m\u001b[1;33m(\u001b[0m\u001b[0msentences\u001b[0m\u001b[1;33m)\u001b[0m\u001b[1;33m,\u001b[0m \u001b[0mverbose\u001b[0m\u001b[1;33m)\u001b[0m\u001b[1;33m)\u001b[0m\u001b[1;33m\u001b[0m\u001b[0m\n\u001b[0m\u001b[1;32m    151\u001b[0m \u001b[1;33m\u001b[0m\u001b[0m\n\u001b[1;32m    152\u001b[0m     \u001b[1;32mdef\u001b[0m \u001b[0mtagged_parse\u001b[0m\u001b[1;33m(\u001b[0m\u001b[0mself\u001b[0m\u001b[1;33m,\u001b[0m \u001b[0msentence\u001b[0m\u001b[1;33m,\u001b[0m \u001b[0mverbose\u001b[0m\u001b[1;33m=\u001b[0m\u001b[0mFalse\u001b[0m\u001b[1;33m)\u001b[0m\u001b[1;33m:\u001b[0m\u001b[1;33m\u001b[0m\u001b[0m\n",
      "\u001b[0;32mC:\\Users\\Shilin\\Anaconda2\\lib\\site-packages\\nltk\\parse\\stanford.pyc\u001b[0m in \u001b[0;36m_execute\u001b[0;34m(self, cmd, input_, verbose)\u001b[0m\n\u001b[1;32m    214\u001b[0m                 \u001b[0mcmd\u001b[0m\u001b[1;33m.\u001b[0m\u001b[0mappend\u001b[0m\u001b[1;33m(\u001b[0m\u001b[0minput_file\u001b[0m\u001b[1;33m.\u001b[0m\u001b[0mname\u001b[0m\u001b[1;33m)\u001b[0m\u001b[1;33m\u001b[0m\u001b[0m\n\u001b[1;32m    215\u001b[0m                 stdout, stderr = java(cmd, classpath=self._classpath,\n\u001b[0;32m--> 216\u001b[0;31m                                       stdout=PIPE, stderr=PIPE)\n\u001b[0m\u001b[1;32m    217\u001b[0m \u001b[1;33m\u001b[0m\u001b[0m\n\u001b[1;32m    218\u001b[0m             \u001b[0mstdout\u001b[0m \u001b[1;33m=\u001b[0m \u001b[0mstdout\u001b[0m\u001b[1;33m.\u001b[0m\u001b[0mreplace\u001b[0m\u001b[1;33m(\u001b[0m\u001b[1;34mb'\\xc2\\xa0'\u001b[0m\u001b[1;33m,\u001b[0m\u001b[1;34mb' '\u001b[0m\u001b[1;33m)\u001b[0m\u001b[1;33m\u001b[0m\u001b[0m\n",
      "\u001b[0;32mC:\\Users\\Shilin\\Anaconda2\\lib\\site-packages\\nltk\\__init__.pyc\u001b[0m in \u001b[0;36mjava\u001b[0;34m(cmd, classpath, stdin, stdout, stderr, blocking)\u001b[0m\n\u001b[1;32m    132\u001b[0m     \u001b[1;32mif\u001b[0m \u001b[0mp\u001b[0m\u001b[1;33m.\u001b[0m\u001b[0mreturncode\u001b[0m \u001b[1;33m!=\u001b[0m \u001b[1;36m0\u001b[0m\u001b[1;33m:\u001b[0m\u001b[1;33m\u001b[0m\u001b[0m\n\u001b[1;32m    133\u001b[0m         \u001b[1;32mprint\u001b[0m\u001b[1;33m(\u001b[0m\u001b[0m_decode_stdoutdata\u001b[0m\u001b[1;33m(\u001b[0m\u001b[0mstderr\u001b[0m\u001b[1;33m)\u001b[0m\u001b[1;33m)\u001b[0m\u001b[1;33m\u001b[0m\u001b[0m\n\u001b[0;32m--> 134\u001b[0;31m         \u001b[1;32mraise\u001b[0m \u001b[0mOSError\u001b[0m\u001b[1;33m(\u001b[0m\u001b[1;34m'Java command failed : '\u001b[0m \u001b[1;33m+\u001b[0m \u001b[0mstr\u001b[0m\u001b[1;33m(\u001b[0m\u001b[0mcmd\u001b[0m\u001b[1;33m)\u001b[0m\u001b[1;33m)\u001b[0m\u001b[1;33m\u001b[0m\u001b[0m\n\u001b[0m\u001b[1;32m    135\u001b[0m \u001b[1;33m\u001b[0m\u001b[0m\n\u001b[1;32m    136\u001b[0m     \u001b[1;32mreturn\u001b[0m \u001b[1;33m(\u001b[0m\u001b[0mstdout\u001b[0m\u001b[1;33m,\u001b[0m \u001b[0mstderr\u001b[0m\u001b[1;33m)\u001b[0m\u001b[1;33m\u001b[0m\u001b[0m\n",
      "\u001b[0;31mOSError\u001b[0m: Java command failed : ['C:\\\\Program Files\\\\Java\\\\jdk1.8.0_121\\\\bin\\\\java.exe', u'-mx1000m', '-cp', 'C:\\\\users\\\\shilin\\\\documents\\\\stanford\\\\stanford-parser-full-2016-10-31\\\\stanford-parser-3.7.0-models.jar;C:\\\\users\\\\shilin\\\\documents\\\\stanford\\\\stanford-parser-full-2016-10-31\\\\ejml-0.23.jar;C:\\\\users\\\\shilin\\\\documents\\\\stanford\\\\stanford-parser-full-2016-10-31\\\\slf4j-api-1.7.12-sources.jar;C:\\\\users\\\\shilin\\\\documents\\\\stanford\\\\stanford-parser-full-2016-10-31\\\\slf4j-api.jar;C:\\\\users\\\\shilin\\\\documents\\\\stanford\\\\stanford-parser-full-2016-10-31\\\\stanford-parser-3.7.0-javadoc.jar;C:\\\\users\\\\shilin\\\\documents\\\\stanford\\\\stanford-parser-full-2016-10-31\\\\stanford-parser-3.7.0-models.jar;C:\\\\users\\\\shilin\\\\documents\\\\stanford\\\\stanford-parser-full-2016-10-31\\\\stanford-parser-3.7.0-sources.jar;C:\\\\users\\\\shilin\\\\documents\\\\stanford\\\\stanford-parser-full-2016-10-31\\\\stanford-parser.jar', u'edu.stanford.nlp.parser.lexparser.LexicalizedParser', u'-model', 'C:\\\\users\\\\shilin\\\\documents\\\\stanford\\\\stanford-parser-full-2016-10-31\\\\englishPCFG.ser.gz', u'-sentences', u'newline', u'-outputFormat', u'penn', u'-encoding', u'utf8', 'c:\\\\cygwin64\\\\tmp\\\\tmp16aj3t']"
     ]
    }
   ],
   "source": [
    "pars = parser.raw_parse(df['sentences'][0][0])"
   ]
  },
  {
   "cell_type": "code",
   "execution_count": 67,
   "metadata": {
    "collapsed": false
   },
   "outputs": [
    {
     "data": {
      "image/png": "[encoded data removed]",
      "text/plain": [
       "Tree('ROOT', [Tree('S', [Tree('SBAR', [Tree('IN', ['While']), Tree('FRAG', [Tree('PP', [Tree('IN', ['in']), Tree('NP', [Tree('NNP', ['France'])])])])]), Tree(',', [',']), Tree('NP', [Tree('NNP', ['Christine']), Tree('NNP', ['Lagarde'])]), Tree('VP', [Tree('VBD', ['discussed']), Tree('NP', [Tree('JJ', ['short-term']), Tree('NN', ['stimulus']), Tree('NNS', ['efforts'])]), Tree('PP', [Tree('IN', ['in']), Tree('NP', [Tree('DT', ['a']), Tree('JJ', ['recent']), Tree('NN', ['interview'])])]), Tree('PP', [Tree('IN', ['with']), Tree('NP', [Tree('DT', ['the']), Tree('NNP', ['Wall']), Tree('NNP', ['Street']), Tree('NNP', ['Journal'])])])]), Tree('.', ['.'])])])"
      ]
     },
     "execution_count": 67,
     "metadata": {},
     "output_type": "execute_result"
    }
   ],
   "source": [
    "list(pars)[0]"
   ]
  },
  {
   "cell_type": "code",
   "execution_count": null,
   "metadata": {
    "collapsed": true
   },
   "outputs": [],
   "source": []
  }
 ],
 "metadata": {
  "anaconda-cloud": {},
  "kernelspec": {
   "display_name": "Python 3",
   "language": "python",
   "name": "python3"
  },
  "language_info": {
   "codemirror_mode": {
    "name": "ipython",
    "version": 3
   },
   "file_extension": ".py",
   "mimetype": "text/x-python",
   "name": "python",
   "nbconvert_exporter": "python",
   "pygments_lexer": "ipython3",
   "version": "3.5.1"
  }
 },
 "nbformat": 4,
 "nbformat_minor": 0
}
