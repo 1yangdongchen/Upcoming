{
 "cells": [
  {
   "cell_type": "markdown",
   "metadata": {},
   "source": [
    "# Layout\n",
    "# update !!!!\n",
    "+ Searching text for keywords\n",
    "+ Distribution of terms\n",
    "+ Correlation\n",
    "+ Word frequencies\n",
    "+ Conditional frequencies\n",
    "+ Statistically significant collocations\n",
    "    + NEEDS to be added\n",
    "    + maybe trigrams\n",
    "+ Distinguishing or Important words and phrases (Wordls!)\n",
    "    + tf-idf\n",
    "        + next week\n",
    "+ POS-tagged words and phrases\n",
    "+ Lemmatized words and phrases\n",
    "    + stemmers\n",
    "+ Dictionary-based annotations.\n",
    "\n",
    "+ divergences\n",
    "    + kl\n",
    "    + Needs to be added\n",
    "\n",
    "+ Sources\n",
    "    + US senate press releases\n",
    "        + e.g. [http://www.reid.senate.gov/press_releases](http://www.reid.senate.gov/press_releases)\n",
    "    + Tumblr\n",
    "    + Literature\n",
    "\n",
    "+ More headers\n",
    "+ More topic based less narrative\n",
    "\n",
    "%%javascript\n",
    "$.getScript('https://kmahelona.github.io/ipython_notebook_goodies/ipython_notebook_toc.js')\n",
    "\n",
    "\n",
    "\n",
    "# Week 2 - Corpus Linguistics\n",
    "\n",
    "Intro stuff\n",
    "\n",
    "For this notebook we will be using the following packages"
   ]
  },
  {
   "cell_type": "code",
   "execution_count": 1,
   "metadata": {},
   "outputs": [],
   "source": [
    "#All these packages need to be installed from pip\n",
    "import requests #for http requests\n",
    "import nltk #the Natural Language Toolkit\n",
    "import pandas #gives us DataFrames\n",
    "import matplotlib.pyplot as plt #For graphics\n",
    "import wordcloud #Makes word clouds\n",
    "import numpy as np #For KL divergence\n",
    "import scipy #For KL divergence\n",
    "\n",
    "#This 'magic' command makes the plots work better\n",
    "#in the notebook, don't use it outside of a notebook\n",
    "%matplotlib inline\n",
    "\n",
    "import json #For API responses\n",
    "import urllib.parse #For joining urls"
   ]
  },
  {
   "cell_type": "markdown",
   "metadata": {},
   "source": [
    "# Getting our corpuses\n",
    "\n",
    "To get started we will need some targets, lets start by downloading one of the corpuses from `nltk`. Lets take a look at how that works.\n",
    "\n",
    "First we can get a list of works available from the Gutenburg corpus, with the [corpus module](http://www.nltk.org/api/nltk.corpus.html)."
   ]
  },
  {
   "cell_type": "code",
   "execution_count": 2,
   "metadata": {},
   "outputs": [
    {
     "name": "stdout",
     "output_type": "stream",
     "text": [
      "['austen-emma.txt', 'austen-persuasion.txt', 'austen-sense.txt', 'bible-kjv.txt', 'blake-poems.txt', 'bryant-stories.txt', 'burgess-busterbrown.txt', 'carroll-alice.txt', 'chesterton-ball.txt', 'chesterton-brown.txt', 'chesterton-thursday.txt', 'edgeworth-parents.txt', 'melville-moby_dick.txt', 'milton-paradise.txt', 'shakespeare-caesar.txt', 'shakespeare-hamlet.txt', 'shakespeare-macbeth.txt', 'whitman-leaves.txt']\n",
      "18\n"
     ]
    }
   ],
   "source": [
    "print(nltk.corpus.gutenberg.fileids())\n",
    "print(len(nltk.corpus.gutenberg.fileids()))"
   ]
  },
  {
   "cell_type": "markdown",
   "metadata": {},
   "source": [
    "We can also look at the individual works"
   ]
  },
  {
   "cell_type": "code",
   "execution_count": 3,
   "metadata": {},
   "outputs": [
    {
     "data": {
      "text/plain": [
       "\"[The Tragedie of Macbeth by William Shakespeare 1603]\\n\\n\\nActus Primus. Scoena Prima.\\n\\nThunder and Lightning. Enter three Witches.\\n\\n  1. When shall we three meet againe?\\nIn Thunder, Lightning, or in Raine?\\n  2. When the Hurley-burley's done,\\nWhen the Battaile's lost, and wonne\\n\\n   3. That will be ere the set of Sunne\\n\\n   1. Where the place?\\n  2. Vpon the Heath\\n\\n   3. There to meet with Macbeth\\n\\n   1. I come, Gray-Malkin\\n\\n   All. Padock calls anon: faire is foule, and foule is faire,\\nHouer through the fogge and filthie ayre.\\n\\nExeunt.\\n\\n\\nScena Secunda.\\n\\nAlarum within. Enter King Malcome, Donalbaine, Lenox, with\\nattendants,\\nmeeting a bleeding Captaine.\\n\\n  King. What bloody man is that? he can report,\\nAs seemeth by his plight, of the Reuolt\\nThe newest state\\n\\n   Mal. This is the Serieant,\\nWho like a good and hardie Souldier fought\\n'Gainst my Captiuitie: Haile braue friend;\\nSay to the King, the knowledge of the Broyle,\\nAs thou didst leaue it\\n\\n   Cap. Doubtfull it stood,\\nAs two spent Swimmers, t\""
      ]
     },
     "execution_count": 3,
     "metadata": {},
     "output_type": "execute_result"
    }
   ],
   "source": [
    "nltk.corpus.gutenberg.raw('shakespeare-macbeth.txt')[:1000]"
   ]
  },
  {
   "cell_type": "markdown",
   "metadata": {},
   "source": [
    "All the listed works have been nicely marked up and classified for us so we can do much better than just looking at raw text."
   ]
  },
  {
   "cell_type": "code",
   "execution_count": 4,
   "metadata": {},
   "outputs": [
    {
     "name": "stdout",
     "output_type": "stream",
     "text": [
      "['[', 'The', 'Tragedie', 'of', 'Macbeth', 'by', ...]\n",
      "[['[', 'The', 'Tragedie', 'of', 'Macbeth', 'by', 'William', 'Shakespeare', '1603', ']'], ['Actus', 'Primus', '.'], ...]\n"
     ]
    }
   ],
   "source": [
    "print(nltk.corpus.gutenberg.words('shakespeare-macbeth.txt'))\n",
    "print(nltk.corpus.gutenberg.sents('shakespeare-macbeth.txt'))"
   ]
  },
  {
   "cell_type": "markdown",
   "metadata": {},
   "source": [
    "If we want to do some analysis we can start by simply counting the number of times each word occurs."
   ]
  },
  {
   "cell_type": "code",
   "execution_count": 5,
   "metadata": {},
   "outputs": [
    {
     "data": {
      "text/html": [
       "<div>\n",
       "<table border=\"1\" class=\"dataframe\">\n",
       "  <thead>\n",
       "    <tr style=\"text-align: right;\">\n",
       "      <th></th>\n",
       "      <th>count</th>\n",
       "      <th>word</th>\n",
       "    </tr>\n",
       "  </thead>\n",
       "  <tbody>\n",
       "    <tr>\n",
       "      <th>0</th>\n",
       "      <td>1</td>\n",
       "      <td>captaines</td>\n",
       "    </tr>\n",
       "    <tr>\n",
       "      <th>1</th>\n",
       "      <td>1</td>\n",
       "      <td>dreyne</td>\n",
       "    </tr>\n",
       "    <tr>\n",
       "      <th>2</th>\n",
       "      <td>1</td>\n",
       "      <td>disposition</td>\n",
       "    </tr>\n",
       "    <tr>\n",
       "      <th>3</th>\n",
       "      <td>5</td>\n",
       "      <td>foule</td>\n",
       "    </tr>\n",
       "    <tr>\n",
       "      <th>4</th>\n",
       "      <td>1</td>\n",
       "      <td>charnell</td>\n",
       "    </tr>\n",
       "    <tr>\n",
       "      <th>5</th>\n",
       "      <td>34</td>\n",
       "      <td>man</td>\n",
       "    </tr>\n",
       "    <tr>\n",
       "      <th>6</th>\n",
       "      <td>1</td>\n",
       "      <td>greyhounds</td>\n",
       "    </tr>\n",
       "    <tr>\n",
       "      <th>7</th>\n",
       "      <td>1</td>\n",
       "      <td>rung</td>\n",
       "    </tr>\n",
       "    <tr>\n",
       "      <th>8</th>\n",
       "      <td>6</td>\n",
       "      <td>another</td>\n",
       "    </tr>\n",
       "    <tr>\n",
       "      <th>9</th>\n",
       "      <td>4</td>\n",
       "      <td>knocke</td>\n",
       "    </tr>\n",
       "  </tbody>\n",
       "</table>\n",
       "</div>"
      ],
      "text/plain": [
       "   count         word\n",
       "0      1    captaines\n",
       "1      1       dreyne\n",
       "2      1  disposition\n",
       "3      5        foule\n",
       "4      1     charnell\n",
       "5     34          man\n",
       "6      1   greyhounds\n",
       "7      1         rung\n",
       "8      6      another\n",
       "9      4       knocke"
      ]
     },
     "execution_count": 5,
     "metadata": {},
     "output_type": "execute_result"
    }
   ],
   "source": [
    "def wordCounter(wordLst):\n",
    "    wordCounts = {}\n",
    "    for word in wordLst:\n",
    "        #We usually need to normalize the case\n",
    "        wLower = word.lower()\n",
    "        if wLower in wordCounts:\n",
    "            wordCounts[wLower] += 1\n",
    "        else:\n",
    "            wordCounts[wLower] = 1\n",
    "    #convert to DataFrame\n",
    "    countsForFrame = {'word' : [], 'count' : []}\n",
    "    for w, c in wordCounts.items():\n",
    "        countsForFrame['word'].append(w)\n",
    "        countsForFrame['count'].append(c)\n",
    "    return pandas.DataFrame(countsForFrame)\n",
    "\n",
    "countedWords = wordCounter(nltk.corpus.gutenberg.words('shakespeare-macbeth.txt'))\n",
    "countedWords[:10]"
   ]
  },
  {
   "cell_type": "markdown",
   "metadata": {},
   "source": [
    "Notice how `wordCounter()` is not a very complicated function. That is because the hard parts have already been done by `nltk`. If we were using unprocessed text we would have to tokenize and determine what to do with the non-word characters.\n",
    "\n",
    "Lets plot our counts and see what it looks like.\n",
    "\n",
    "First we need to sort the words by count."
   ]
  },
  {
   "cell_type": "code",
   "execution_count": 6,
   "metadata": {},
   "outputs": [
    {
     "data": {
      "text/html": [
       "<div>\n",
       "<table border=\"1\" class=\"dataframe\">\n",
       "  <thead>\n",
       "    <tr style=\"text-align: right;\">\n",
       "      <th></th>\n",
       "      <th>count</th>\n",
       "      <th>word</th>\n",
       "    </tr>\n",
       "  </thead>\n",
       "  <tbody>\n",
       "    <tr>\n",
       "      <th>361</th>\n",
       "      <td>1962</td>\n",
       "      <td>,</td>\n",
       "    </tr>\n",
       "    <tr>\n",
       "      <th>787</th>\n",
       "      <td>1235</td>\n",
       "      <td>.</td>\n",
       "    </tr>\n",
       "    <tr>\n",
       "      <th>1821</th>\n",
       "      <td>650</td>\n",
       "      <td>the</td>\n",
       "    </tr>\n",
       "    <tr>\n",
       "      <th>84</th>\n",
       "      <td>637</td>\n",
       "      <td>'</td>\n",
       "    </tr>\n",
       "    <tr>\n",
       "      <th>2538</th>\n",
       "      <td>546</td>\n",
       "      <td>and</td>\n",
       "    </tr>\n",
       "    <tr>\n",
       "      <th>3125</th>\n",
       "      <td>477</td>\n",
       "      <td>:</td>\n",
       "    </tr>\n",
       "    <tr>\n",
       "      <th>837</th>\n",
       "      <td>384</td>\n",
       "      <td>to</td>\n",
       "    </tr>\n",
       "    <tr>\n",
       "      <th>1781</th>\n",
       "      <td>348</td>\n",
       "      <td>i</td>\n",
       "    </tr>\n",
       "    <tr>\n",
       "      <th>2838</th>\n",
       "      <td>338</td>\n",
       "      <td>of</td>\n",
       "    </tr>\n",
       "    <tr>\n",
       "      <th>3034</th>\n",
       "      <td>241</td>\n",
       "      <td>?</td>\n",
       "    </tr>\n",
       "  </tbody>\n",
       "</table>\n",
       "</div>"
      ],
      "text/plain": [
       "      count word\n",
       "361    1962    ,\n",
       "787    1235    .\n",
       "1821    650  the\n",
       "84      637    '\n",
       "2538    546  and\n",
       "3125    477    :\n",
       "837     384   to\n",
       "1781    348    i\n",
       "2838    338   of\n",
       "3034    241    ?"
      ]
     },
     "execution_count": 6,
     "metadata": {},
     "output_type": "execute_result"
    }
   ],
   "source": [
    "#Doing this in place as we don't need the unsorted DataFrame\n",
    "countedWords.sort_values('count', ascending=False, inplace=True)\n",
    "countedWords[:10]"
   ]
  },
  {
   "cell_type": "markdown",
   "metadata": {},
   "source": [
    "The punctuation and very common words (like 'a' and 'the') makes up all the top most common values, this isn't very interesting and can actually get in the way of analysis. We will be removing these later on."
   ]
  },
  {
   "cell_type": "code",
   "execution_count": 7,
   "metadata": {},
   "outputs": [
    {
     "data": {
      "image/png": "[encoded data removed]",
      "text/plain": [
       "<matplotlib.figure.Figure at 0x1137fd588>"
      ]
     },
     "metadata": {},
     "output_type": "display_data"
    }
   ],
   "source": [
    "plt.plot(range(len(countedWords)), countedWords['count'])\n",
    "plt.show()"
   ]
  },
  {
   "cell_type": "markdown",
   "metadata": {},
   "source": [
    "This shows the likelihood of a word occurring is inversely proportional to its rank, this effect is called [Zipf's Law](https://en.wikipedia.org/wiki/Zipf%27s_law).\n",
    "\n",
    "What does the distribution of word lengths look like?\n",
    "\n",
    "There are many other properties of words we can look at. First lets look at concordance.\n",
    "\n",
    "To do this we need to load the text into a `ConcordanceIndex`"
   ]
  },
  {
   "cell_type": "code",
   "execution_count": 8,
   "metadata": {},
   "outputs": [],
   "source": [
    "macbethIndex = nltk.text.ConcordanceIndex(nltk.corpus.gutenberg.words('shakespeare-macbeth.txt'))"
   ]
  },
  {
   "cell_type": "markdown",
   "metadata": {},
   "source": [
    "Then we can get all the words that cooccur with a word, lets look at `'macbeth'`."
   ]
  },
  {
   "cell_type": "code",
   "execution_count": 9,
   "metadata": {},
   "outputs": [
    {
     "name": "stdout",
     "output_type": "stream",
     "text": [
      "No matches\n"
     ]
    }
   ],
   "source": [
    "macbethIndex.print_concordance('macbeth')"
   ]
  },
  {
   "cell_type": "markdown",
   "metadata": {},
   "source": [
    "weird, `'macbeth'` doesn't occur anywhere in the the text. What happened?\n",
    "\n",
    "`ConcordanceIndex` is case sensitive, lets try looking for `'Macbeth'`"
   ]
  },
  {
   "cell_type": "code",
   "execution_count": 10,
   "metadata": {},
   "outputs": [
    {
     "name": "stdout",
     "output_type": "stream",
     "text": [
      "Displaying 25 of 61 matches:\n",
      "                                  Macbeth by William Shakespeare 1603 ] Act\n",
      " the Heath 3 . There to meet with Macbeth 1 . I come , Gray - Malkin All . \n",
      "but all ' s too weake : For braue Macbeth ( well hee deserues that Name ) D\n",
      "smay ' d not this our Captaines , Macbeth and Banquoh ? Cap . Yes , as Spar\n",
      ", And with his former Title greet Macbeth Rosse . Ile see it done King . Wh\n",
      " King . What he hath lost , Noble Macbeth hath wonne . Exeunt . Scena Terti\n",
      "ithin . 3 . A Drumme , a Drumme : Macbeth doth come All . The weyward Siste\n",
      ", the Charme ' s wound vp . Enter Macbeth and Banquo . Macb . So foule and \n",
      "an : what are you ? 1 . All haile Macbeth , haile to thee Thane of Glamis 2\n",
      "hee Thane of Glamis 2 . All haile Macbeth , haile to thee Thane of Cawdor 3\n",
      "hee Thane of Cawdor 3 . All haile Macbeth , that shalt be King hereafter Ba\n",
      ". Hayle 3 . Hayle 1 . Lesser than Macbeth , and greater 2 . Not so happy , \n",
      "hough thou be none : So all haile Macbeth , and Banquo 1 . Banquo , and Mac\n",
      "eth , and Banquo 1 . Banquo , and Macbeth , all haile Macb . Stay you imper\n",
      "he King hath happily receiu ' d , Macbeth , The newes of thy successe : and\n",
      "gh the roughest Day Banq . Worthy Macbeth , wee stay vpon your leysure Macb\n",
      "I built An absolute Trust . Enter Macbeth , Banquo , Rosse , and Angus . O \n",
      "ke , To cry , hold , hold . Enter Macbeth . Great Glamys , worthy Cawdor , \n",
      "ruice ouer the Stage . Then enter Macbeth Macb . If it were done , when ' t\n",
      "re giues way to in repose . Enter Macbeth , and a Seruant with a Torch . Gi\n",
      "hether they liue , or dye . Enter Macbeth . Macb . Who ' s there ? what hoa\n",
      "ard a voyce cry , Sleep no more : Macbeth does murther Sleepe , the innocen\n",
      "ore Cawdor Shall sleepe no more : Macbeth shall sleepe no more Lady . Who w\n",
      " made a Shift to cast him . Enter Macbeth . Macd . Is thy Master stirring ?\n",
      "selues : awake , awake , Exeunt . Macbeth and Lenox . Ring the Alarum Bell \n"
     ]
    }
   ],
   "source": [
    "macbethIndex.print_concordance('Macbeth')"
   ]
  },
  {
   "cell_type": "markdown",
   "metadata": {},
   "source": [
    "That's a lot better\n",
    "\n",
    "what about something a lot less frequent"
   ]
  },
  {
   "cell_type": "code",
   "execution_count": 11,
   "metadata": {},
   "outputs": [
    {
     "name": "stdout",
     "output_type": "stream",
     "text": [
      "Empty DataFrame\n",
      "Columns: [count, word]\n",
      "Index: []\n",
      "Displaying 7 of 7 matches:\n",
      "m within . Enter King Malcome , Donalbaine , Lenox , with attendants , mee\n",
      "Enter King , Lenox , Malcolme , Donalbaine , and Attendants . King . Is ex\n",
      "rches . Enter King , Malcolme , Donalbaine , Banquo , Lenox , Macduff , Ro\n",
      " ' th ' second Chamber ? Lady . Donalbaine Mac . This is a sorry sight Lad\n",
      "er , and Treason , Banquo , and Donalbaine : Malcolme awake , Shake off th\n",
      "to brag of . Enter Malcolme and Donalbaine . Donal . What is amisse ? Macb\n",
      "were subborned , Malcolme , and Donalbaine the Kings two Sonnes Are stolne\n"
     ]
    }
   ],
   "source": [
    "print(countedWords[countedWords['word'] == 'Donalbaine'])\n",
    "macbethIndex.print_concordance('Donalbaine')"
   ]
  },
  {
   "cell_type": "markdown",
   "metadata": {},
   "source": [
    "# Getting press releases\n",
    "\n",
    "First we need to understand the GitHub API\n",
    "\n",
    "requests are made to `'https://api.github.com/'` and responses are in JSON, similar to Tumblr's API.\n",
    "\n",
    "We will get the information on [github.com/lintool/GrimmerSenatePressReleases](https://github.com/lintool/GrimmerSenatePressReleases) as it contains a nice set documents."
   ]
  },
  {
   "cell_type": "code",
   "execution_count": 12,
   "metadata": {},
   "outputs": [
    {
     "name": "stdout",
     "output_type": "stream",
     "text": [
      "dict_keys(['private', 'url', 'compare_url', 'trees_url', 'has_downloads', 'branches_url', 'events_url', 'ssh_url', 'collaborators_url', 'forks_url', 'size', 'languages_url', 'releases_url', 'git_commits_url', 'subscription_url', 'keys_url', 'commits_url', 'stargazers_url', 'contents_url', 'milestones_url', 'subscribers_count', 'statuses_url', 'owner', 'git_refs_url', 'open_issues_count', 'pulls_url', 'forks', 'updated_at', 'description', 'git_tags_url', 'issue_events_url', 'hooks_url', 'merges_url', 'pushed_at', 'html_url', 'mirror_url', 'issue_comment_url', 'archive_url', 'forks_count', 'full_name', 'name', 'has_pages', 'has_issues', 'assignees_url', 'fork', 'issues_url', 'language', 'watchers', 'deployments_url', 'svn_url', 'downloads_url', 'id', 'blobs_url', 'comments_url', 'teams_url', 'created_at', 'has_wiki', 'network_count', 'open_issues', 'watchers_count', 'labels_url', 'clone_url', 'contributors_url', 'stargazers_count', 'subscribers_url', 'default_branch', 'homepage', 'notifications_url', 'git_url', 'tags_url'])\n",
      "Grimmer's Senate Press Releases\n"
     ]
    }
   ],
   "source": [
    "r = requests.get('https://api.github.com/repos/lintool/GrimmerSenatePressReleases')\n",
    "senateReleasesData = json.loads(r.text)\n",
    "print(senateReleasesData.keys())\n",
    "print(senateReleasesData['description'])"
   ]
  },
  {
   "cell_type": "markdown",
   "metadata": {},
   "source": [
    "What we are interested in is the `'contents_url'`"
   ]
  },
  {
   "cell_type": "code",
   "execution_count": 13,
   "metadata": {},
   "outputs": [
    {
     "name": "stdout",
     "output_type": "stream",
     "text": [
      "https://api.github.com/repos/lintool/GrimmerSenatePressReleases/contents/{+path}\n"
     ]
    }
   ],
   "source": [
    "print(senateReleasesData['contents_url'])"
   ]
  },
  {
   "cell_type": "markdown",
   "metadata": {},
   "source": [
    "We can use this to get any, or all of the files from the repo"
   ]
  },
  {
   "cell_type": "code",
   "execution_count": 14,
   "metadata": {},
   "outputs": [
    {
     "data": {
      "text/plain": [
       "{'_links': {'git': 'https://api.github.com/repos/lintool/GrimmerSenatePressReleases/git/blobs/f524289ee563dca58690c8d36c23dce5dbd9962a',\n",
       "  'html': 'https://github.com/lintool/GrimmerSenatePressReleases/blob/master/raw/Whitehouse/10Apr2007Whitehouse123.txt',\n",
       "  'self': 'https://api.github.com/repos/lintool/GrimmerSenatePressReleases/contents/raw/Whitehouse/10Apr2007Whitehouse123.txt?ref=master'},\n",
       " 'download_url': 'https://raw.githubusercontent.com/lintool/GrimmerSenatePressReleases/master/raw/Whitehouse/10Apr2007Whitehouse123.txt',\n",
       " 'git_url': 'https://api.github.com/repos/lintool/GrimmerSenatePressReleases/git/blobs/f524289ee563dca58690c8d36c23dce5dbd9962a',\n",
       " 'html_url': 'https://github.com/lintool/GrimmerSenatePressReleases/blob/master/raw/Whitehouse/10Apr2007Whitehouse123.txt',\n",
       " 'name': '10Apr2007Whitehouse123.txt',\n",
       " 'path': 'raw/Whitehouse/10Apr2007Whitehouse123.txt',\n",
       " 'sha': 'f524289ee563dca58690c8d36c23dce5dbd9962a',\n",
       " 'size': 2206,\n",
       " 'type': 'file',\n",
       " 'url': 'https://api.github.com/repos/lintool/GrimmerSenatePressReleases/contents/raw/Whitehouse/10Apr2007Whitehouse123.txt?ref=master'}"
      ]
     },
     "execution_count": 14,
     "metadata": {},
     "output_type": "execute_result"
    }
   ],
   "source": [
    "r= requests.get('https://api.github.com/repos/lintool/GrimmerSenatePressReleases/contents/raw/Whitehouse')\n",
    "whitehouseLinks = json.loads(r.text)\n",
    "whitehouseLinks[0]"
   ]
  },
  {
   "cell_type": "markdown",
   "metadata": {},
   "source": [
    "Now we have a list of information about Whitehouse press releases. Lets look at one of them."
   ]
  },
  {
   "cell_type": "code",
   "execution_count": 15,
   "metadata": {},
   "outputs": [
    {
     "name": "stdout",
     "output_type": "stream",
     "text": [
      "SEN. WHITEHOUSE SHARES WESTERLY GIRL'S STORY IN PUSH FOR STEM CELL RESEARCH\n",
      "  Sharing the story of Lila Barber, a 12 year old girl from Westerly, Sen. Sheldon Whitehouse (D-R.I.) on Tuesday, April 10, 2007, illustrated the hope stem cell research can offer in a speech on the Senate floor in favor of legislation to expand federal funding for stem cell research.  \n",
      "   Whitehouse met Lila two weeks ago. She was diagnosed two years ago with osteosarcoma, a cancerous bone condition, and last year underwent cadaver bone transplant surgery. The procedure saved her leg and is helping her remain cancer-free, but the transplanted tissue will not grow with her and likely will break down over time. Stem cell research, Whitehouse explained, could vastly improve the care of patients like Lila by allowing surgeons to enhance transplants with a patient's own stem cells, which could replace the lost bone and cartilage, or grow entirely new replacement bones and joints. \n",
      "   \"Stem cell research gives hope\n"
     ]
    },
    {
     "data": {
      "text/plain": [
       "2206"
      ]
     },
     "execution_count": 15,
     "metadata": {},
     "output_type": "execute_result"
    }
   ],
   "source": [
    "r = requests.get(whitehouseLinks[0]['download_url'])\n",
    "whitehouseRelease = r.text\n",
    "print(whitehouseRelease[:1000])\n",
    "len(whitehouseRelease)"
   ]
  },
  {
   "cell_type": "markdown",
   "metadata": {},
   "source": [
    "Now we have a blob of text we first need to tokenize it."
   ]
  },
  {
   "cell_type": "code",
   "execution_count": 16,
   "metadata": {},
   "outputs": [
    {
     "data": {
      "text/plain": [
       "['SEN.',\n",
       " 'WHITEHOUSE',\n",
       " 'SHARES',\n",
       " 'WESTERLY',\n",
       " 'GIRL',\n",
       " \"'S\",\n",
       " 'STORY',\n",
       " 'IN',\n",
       " 'PUSH',\n",
       " 'FOR']"
      ]
     },
     "execution_count": 16,
     "metadata": {},
     "output_type": "execute_result"
    }
   ],
   "source": [
    "whTokens = nltk.word_tokenize(whitehouseRelease)\n",
    "whTokens[:10]"
   ]
  },
  {
   "cell_type": "markdown",
   "metadata": {},
   "source": [
    "`whTokens` is a list of 'words', it's better than `.split(' ')`,  but it is not perfect. There are many different ways to tokenize a string and the one we used here is called the [Penn Treebank tokenizer](http://www.nltk.org/api/nltk.tokenize.html#module-nltk.tokenize.treebank). This tokenizer isn't aware of sentences and is a basically a complicated regex that's run over the string.\n",
    "\n",
    "If we want to find sentences we can use something like `nltk.sent_tokenize()` which implements the [Punkt Sentence tokenizer](http://www.nltk.org/api/nltk.tokenize.html#nltk.tokenize.punkt.PunktSentenceTokenizer), a machine learning based algorithm that works well for many European languages.\n",
    "\n",
    "We could also use the [Stanford tokenizer](http://www.nltk.org/api/nltk.tokenize.html#module-nltk.tokenize.stanford) or use our own regex with [`RegexpTokenizer()`](http://www.nltk.org/api/nltk.tokenize.html#module-nltk.tokenize.regexp). Picking the correct tokenizer is important as the tokens form the base of our analysis.\n",
    "\n",
    "For now though the Penn Treebank tokenizer is fine.\n",
    "\n",
    "To use the list of tokens in `nltk` we can convert it into a `Text`."
   ]
  },
  {
   "cell_type": "code",
   "execution_count": 17,
   "metadata": {},
   "outputs": [],
   "source": [
    "whText = nltk.Text(whTokens)"
   ]
  },
  {
   "cell_type": "markdown",
   "metadata": {},
   "source": [
    "*Note*, The `Text` class is for doing exploratory and fast analysis. It provides an easy interface to many of the operations we want to do, but it does not allow us much control. When you are doing a full analysis you should be using the module for that task instead of the method `Text` provides, e.g. use  [`collocations` Module](http://www.nltk.org/api/nltk.html#module-nltk.collocations) instead of `.collocations()`.\n",
    "\n",
    "Now that we got this loaded lets, look at few things\n",
    "\n",
    "We can find words that tend to occur together"
   ]
  },
  {
   "cell_type": "code",
   "execution_count": 18,
   "metadata": {},
   "outputs": [
    {
     "name": "stdout",
     "output_type": "stream",
     "text": [
      "Rhode Island; stem cells; cell research; Cell Enhancement; Enhancement\n",
      "Act; President Bush; Stem Cell; stem cell; Stem cell\n"
     ]
    }
   ],
   "source": [
    "whText.collocations()"
   ]
  },
  {
   "cell_type": "markdown",
   "metadata": {},
   "source": [
    "Or we can pick a word (or words) and find what words tend to occur around it"
   ]
  },
  {
   "cell_type": "code",
   "execution_count": 19,
   "metadata": {},
   "outputs": [
    {
     "name": "stdout",
     "output_type": "stream",
     "text": [
      "own_cells the_cell for_cell ``_cell hope_cell of_cell ._cell on_cells\n",
      "embryonic_cells\n"
     ]
    }
   ],
   "source": [
    "whText.common_contexts(['stem'])"
   ]
  },
  {
   "cell_type": "markdown",
   "metadata": {},
   "source": [
    "We can also just count the number of times the word occurs"
   ]
  },
  {
   "cell_type": "code",
   "execution_count": 20,
   "metadata": {},
   "outputs": [
    {
     "data": {
      "text/plain": [
       "7"
      ]
     },
     "execution_count": 20,
     "metadata": {},
     "output_type": "execute_result"
    }
   ],
   "source": [
    "whText.count('stem')"
   ]
  },
  {
   "cell_type": "markdown",
   "metadata": {},
   "source": [
    "Or plot each time it occurs"
   ]
  },
  {
   "cell_type": "code",
   "execution_count": 21,
   "metadata": {},
   "outputs": [
    {
     "data": {
      "image/png": "[encoded data removed]",
      "text/plain": [
       "<matplotlib.figure.Figure at 0x113b21dd8>"
      ]
     },
     "metadata": {},
     "output_type": "display_data"
    }
   ],
   "source": [
    "whText.dispersion_plot(['stem', 'cell', 'federal' ,'Lila', 'Barber', 'Whitehouse'])"
   ]
  },
  {
   "cell_type": "markdown",
   "metadata": {},
   "source": [
    "If we want to do an analysis of all the Whitehouse press releases we will first need to obtain them. By looking at the API we can see the the URL we want is [https://api.github.com/repos/lintool/GrimmerSenatePressReleases/contents/raw/Whitehouse](https://api.github.com/repos/lintool/GrimmerSenatePressReleases/contents/raw/Whitehouse), so we can create a function to scrape the individual files.\n",
    "\n",
    "If you want to know more about downloading from APIs look at the 1st notebook"
   ]
  },
  {
   "cell_type": "code",
   "execution_count": 22,
   "metadata": {},
   "outputs": [
    {
     "data": {
      "text/html": [
       "<div>\n",
       "<table border=\"1\" class=\"dataframe\">\n",
       "  <thead>\n",
       "    <tr style=\"text-align: right;\">\n",
       "      <th></th>\n",
       "      <th>download_url</th>\n",
       "      <th>html_url</th>\n",
       "      <th>name</th>\n",
       "      <th>path</th>\n",
       "      <th>text</th>\n",
       "    </tr>\n",
       "  </thead>\n",
       "  <tbody>\n",
       "    <tr>\n",
       "      <th>0</th>\n",
       "      <td>https://raw.githubusercontent.com/lintool/Grim...</td>\n",
       "      <td>https://github.com/lintool/GrimmerSenatePressR...</td>\n",
       "      <td>10Apr2007Whitehouse123.txt</td>\n",
       "      <td>raw/Whitehouse/10Apr2007Whitehouse123.txt</td>\n",
       "      <td>SEN. WHITEHOUSE SHARES WESTERLY GIRL'S STORY I...</td>\n",
       "    </tr>\n",
       "    <tr>\n",
       "      <th>1</th>\n",
       "      <td>https://raw.githubusercontent.com/lintool/Grim...</td>\n",
       "      <td>https://github.com/lintool/GrimmerSenatePressR...</td>\n",
       "      <td>10Apr2008Whitehouse2.txt</td>\n",
       "      <td>raw/Whitehouse/10Apr2008Whitehouse2.txt</td>\n",
       "      <td>SEN. WHITEHOUSE SAYS PRESIDENT BUSH MUST BEGIN...</td>\n",
       "    </tr>\n",
       "    <tr>\n",
       "      <th>2</th>\n",
       "      <td>https://raw.githubusercontent.com/lintool/Grim...</td>\n",
       "      <td>https://github.com/lintool/GrimmerSenatePressR...</td>\n",
       "      <td>10Apr2008Whitehouse3.txt</td>\n",
       "      <td>raw/Whitehouse/10Apr2008Whitehouse3.txt</td>\n",
       "      <td>EPA MUST REVIEW LEGAL PROCESS TO ROOT OUT POLI...</td>\n",
       "    </tr>\n",
       "    <tr>\n",
       "      <th>3</th>\n",
       "      <td>https://raw.githubusercontent.com/lintool/Grim...</td>\n",
       "      <td>https://github.com/lintool/GrimmerSenatePressR...</td>\n",
       "      <td>10Aug2007Whitehouse78.txt</td>\n",
       "      <td>raw/Whitehouse/10Aug2007Whitehouse78.txt</td>\n",
       "      <td>R.I. SENATORS PRAISE SEN. DENIAL OF LNG FACILI...</td>\n",
       "    </tr>\n",
       "    <tr>\n",
       "      <th>4</th>\n",
       "      <td>https://raw.githubusercontent.com/lintool/Grim...</td>\n",
       "      <td>https://github.com/lintool/GrimmerSenatePressR...</td>\n",
       "      <td>10Jan2008Whitehouse35.txt</td>\n",
       "      <td>raw/Whitehouse/10Jan2008Whitehouse35.txt</td>\n",
       "      <td>SEN. WHITEHOUSE COMMENTS ON ONE-YEAR ANNIVERSA...</td>\n",
       "    </tr>\n",
       "  </tbody>\n",
       "</table>\n",
       "</div>"
      ],
      "text/plain": [
       "                                        download_url  \\\n",
       "0  https://raw.githubusercontent.com/lintool/Grim...   \n",
       "1  https://raw.githubusercontent.com/lintool/Grim...   \n",
       "2  https://raw.githubusercontent.com/lintool/Grim...   \n",
       "3  https://raw.githubusercontent.com/lintool/Grim...   \n",
       "4  https://raw.githubusercontent.com/lintool/Grim...   \n",
       "\n",
       "                                            html_url  \\\n",
       "0  https://github.com/lintool/GrimmerSenatePressR...   \n",
       "1  https://github.com/lintool/GrimmerSenatePressR...   \n",
       "2  https://github.com/lintool/GrimmerSenatePressR...   \n",
       "3  https://github.com/lintool/GrimmerSenatePressR...   \n",
       "4  https://github.com/lintool/GrimmerSenatePressR...   \n",
       "\n",
       "                         name                                       path  \\\n",
       "0  10Apr2007Whitehouse123.txt  raw/Whitehouse/10Apr2007Whitehouse123.txt   \n",
       "1    10Apr2008Whitehouse2.txt    raw/Whitehouse/10Apr2008Whitehouse2.txt   \n",
       "2    10Apr2008Whitehouse3.txt    raw/Whitehouse/10Apr2008Whitehouse3.txt   \n",
       "3   10Aug2007Whitehouse78.txt   raw/Whitehouse/10Aug2007Whitehouse78.txt   \n",
       "4   10Jan2008Whitehouse35.txt   raw/Whitehouse/10Jan2008Whitehouse35.txt   \n",
       "\n",
       "                                                text  \n",
       "0  SEN. WHITEHOUSE SHARES WESTERLY GIRL'S STORY I...  \n",
       "1  SEN. WHITEHOUSE SAYS PRESIDENT BUSH MUST BEGIN...  \n",
       "2  EPA MUST REVIEW LEGAL PROCESS TO ROOT OUT POLI...  \n",
       "3  R.I. SENATORS PRAISE SEN. DENIAL OF LNG FACILI...  \n",
       "4  SEN. WHITEHOUSE COMMENTS ON ONE-YEAR ANNIVERSA...  "
      ]
     },
     "execution_count": 22,
     "metadata": {},
     "output_type": "execute_result"
    }
   ],
   "source": [
    "def getGithubFiles(target, maxFiles = 100):\n",
    "    #We are setting a max so our examples don't take too long to run\n",
    "    #For converting to a DataFrame\n",
    "    releasesDict = {\n",
    "        'name' : [], #The name of the file\n",
    "        'text' : [], #The text of the file, watch out for binary files\n",
    "        'path' : [], #The path in the git repo to the file\n",
    "        'html_url' : [], #The url to see the file on Github\n",
    "        'download_url' : [], #The url to download the file\n",
    "    }\n",
    "\n",
    "    #Get the directory information from Github\n",
    "    r = requests.get(target)\n",
    "    filesLst = json.loads(r.text)\n",
    "\n",
    "    for fileDict in filesLst[:maxFiles]:\n",
    "        #These are provided by the directory\n",
    "        releasesDict['name'].append(fileDict['name'])\n",
    "        releasesDict['path'].append(fileDict['path'])\n",
    "        releasesDict['html_url'].append(fileDict['html_url'])\n",
    "        releasesDict['download_url'].append(fileDict['download_url'])\n",
    "\n",
    "        #We need to download the text though\n",
    "        text = requests.get(fileDict['download_url']).text\n",
    "        releasesDict['text'].append(text)\n",
    "\n",
    "    return pandas.DataFrame(releasesDict)\n",
    "\n",
    "whReleases = getGithubFiles('https://api.github.com/repos/lintool/GrimmerSenatePressReleases/contents/raw/Whitehouse', maxFiles = 10)\n",
    "whReleases[:5]"
   ]
  },
  {
   "cell_type": "markdown",
   "metadata": {},
   "source": [
    "Now we have all the texts in a DataFrame we can look at a few things.\n",
    "\n",
    "First lets tokenize the texts with the same tokenizer as we used before, we will just save the tokens as a list for now, no need to convert to `Text`s."
   ]
  },
  {
   "cell_type": "code",
   "execution_count": 23,
   "metadata": {},
   "outputs": [],
   "source": [
    "whReleases['tokenized_text'] = whReleases['text'].apply(lambda x: nltk.word_tokenize(x))"
   ]
  },
  {
   "cell_type": "markdown",
   "metadata": {},
   "source": [
    "Now lets see how long each of the press releases is"
   ]
  },
  {
   "cell_type": "code",
   "execution_count": 24,
   "metadata": {},
   "outputs": [
    {
     "data": {
      "text/plain": [
       "0    397\n",
       "1    344\n",
       "2    553\n",
       "3    216\n",
       "4    257\n",
       "5    380\n",
       "6    270\n",
       "7    521\n",
       "8    484\n",
       "9    482\n",
       "Name: word_counts, dtype: int64"
      ]
     },
     "execution_count": 24,
     "metadata": {},
     "output_type": "execute_result"
    }
   ],
   "source": [
    "whReleases['word_counts'] = whReleases['tokenized_text'].apply(lambda x: len(x))\n",
    "whReleases['word_counts']"
   ]
  },
  {
   "cell_type": "markdown",
   "metadata": {},
   "source": [
    "As we want to start comparing the different releases we need to do a bit of normalizing. We first will make all the words lower case, drop the non-word tokens, then we can stem them and finally remove some stop words.\n",
    "\n",
    "To do this we will define a function to work over the tokenized lists, then use another apply to add the normalized tokens to a new column."
   ]
  },
  {
   "cell_type": "code",
   "execution_count": 25,
   "metadata": {},
   "outputs": [
    {
     "data": {
      "text/html": [
       "<div>\n",
       "<table border=\"1\" class=\"dataframe\">\n",
       "  <thead>\n",
       "    <tr style=\"text-align: right;\">\n",
       "      <th></th>\n",
       "      <th>download_url</th>\n",
       "      <th>html_url</th>\n",
       "      <th>name</th>\n",
       "      <th>path</th>\n",
       "      <th>text</th>\n",
       "      <th>tokenized_text</th>\n",
       "      <th>word_counts</th>\n",
       "      <th>normalized_tokens</th>\n",
       "      <th>normalized_tokens_count</th>\n",
       "    </tr>\n",
       "  </thead>\n",
       "  <tbody>\n",
       "    <tr>\n",
       "      <th>0</th>\n",
       "      <td>https://raw.githubusercontent.com/lintool/Grim...</td>\n",
       "      <td>https://github.com/lintool/GrimmerSenatePressR...</td>\n",
       "      <td>10Apr2007Whitehouse123.txt</td>\n",
       "      <td>raw/Whitehouse/10Apr2007Whitehouse123.txt</td>\n",
       "      <td>SEN. WHITEHOUSE SHARES WESTERLY GIRL'S STORY I...</td>\n",
       "      <td>[SEN., WHITEHOUSE, SHARES, WESTERLY, GIRL, 'S,...</td>\n",
       "      <td>397</td>\n",
       "      <td>[whitehous, share, westerli, girl, stori, in, ...</td>\n",
       "      <td>301</td>\n",
       "    </tr>\n",
       "    <tr>\n",
       "      <th>1</th>\n",
       "      <td>https://raw.githubusercontent.com/lintool/Grim...</td>\n",
       "      <td>https://github.com/lintool/GrimmerSenatePressR...</td>\n",
       "      <td>10Apr2008Whitehouse2.txt</td>\n",
       "      <td>raw/Whitehouse/10Apr2008Whitehouse2.txt</td>\n",
       "      <td>SEN. WHITEHOUSE SAYS PRESIDENT BUSH MUST BEGIN...</td>\n",
       "      <td>[SEN., WHITEHOUSE, SAYS, PRESIDENT, BUSH, MUST...</td>\n",
       "      <td>344</td>\n",
       "      <td>[whitehous, say, presid, bush, must, begin, br...</td>\n",
       "      <td>272</td>\n",
       "    </tr>\n",
       "    <tr>\n",
       "      <th>2</th>\n",
       "      <td>https://raw.githubusercontent.com/lintool/Grim...</td>\n",
       "      <td>https://github.com/lintool/GrimmerSenatePressR...</td>\n",
       "      <td>10Apr2008Whitehouse3.txt</td>\n",
       "      <td>raw/Whitehouse/10Apr2008Whitehouse3.txt</td>\n",
       "      <td>EPA MUST REVIEW LEGAL PROCESS TO ROOT OUT POLI...</td>\n",
       "      <td>[EPA, MUST, REVIEW, LEGAL, PROCESS, TO, ROOT, ...</td>\n",
       "      <td>553</td>\n",
       "      <td>[epa, must, review, legal, process, to, root, ...</td>\n",
       "      <td>424</td>\n",
       "    </tr>\n",
       "    <tr>\n",
       "      <th>3</th>\n",
       "      <td>https://raw.githubusercontent.com/lintool/Grim...</td>\n",
       "      <td>https://github.com/lintool/GrimmerSenatePressR...</td>\n",
       "      <td>10Aug2007Whitehouse78.txt</td>\n",
       "      <td>raw/Whitehouse/10Aug2007Whitehouse78.txt</td>\n",
       "      <td>R.I. SENATORS PRAISE SEN. DENIAL OF LNG FACILI...</td>\n",
       "      <td>[R.I, ., SENATORS, PRAISE, SEN, ., DENIAL, OF,...</td>\n",
       "      <td>216</td>\n",
       "      <td>[senat, prais, sen, denial, of, lng, facil, pe...</td>\n",
       "      <td>158</td>\n",
       "    </tr>\n",
       "    <tr>\n",
       "      <th>4</th>\n",
       "      <td>https://raw.githubusercontent.com/lintool/Grim...</td>\n",
       "      <td>https://github.com/lintool/GrimmerSenatePressR...</td>\n",
       "      <td>10Jan2008Whitehouse35.txt</td>\n",
       "      <td>raw/Whitehouse/10Jan2008Whitehouse35.txt</td>\n",
       "      <td>SEN. WHITEHOUSE COMMENTS ON ONE-YEAR ANNIVERSA...</td>\n",
       "      <td>[SEN., WHITEHOUSE, COMMENTS, ON, ONE-YEAR, ANN...</td>\n",
       "      <td>257</td>\n",
       "      <td>[whitehous, comment, on, anniversari, of, pres...</td>\n",
       "      <td>203</td>\n",
       "    </tr>\n",
       "    <tr>\n",
       "      <th>5</th>\n",
       "      <td>https://raw.githubusercontent.com/lintool/Grim...</td>\n",
       "      <td>https://github.com/lintool/GrimmerSenatePressR...</td>\n",
       "      <td>10Mar2008Whitehouse8.txt</td>\n",
       "      <td>raw/Whitehouse/10Mar2008Whitehouse8.txt</td>\n",
       "      <td>SENS. REED, WHITEHOUSE WELCOME RHODE ISLAND ST...</td>\n",
       "      <td>[SENS, ., REED, ,, WHITEHOUSE, WELCOME, RHODE,...</td>\n",
       "      <td>380</td>\n",
       "      <td>[sen, reed, whitehous, welcom, rhode, island, ...</td>\n",
       "      <td>279</td>\n",
       "    </tr>\n",
       "    <tr>\n",
       "      <th>6</th>\n",
       "      <td>https://raw.githubusercontent.com/lintool/Grim...</td>\n",
       "      <td>https://github.com/lintool/GrimmerSenatePressR...</td>\n",
       "      <td>10Sep2007Whitehouse72.txt</td>\n",
       "      <td>raw/Whitehouse/10Sep2007Whitehouse72.txt</td>\n",
       "      <td>REP. WHITEHOUSE ISSUES STATEMENT ON GEN. PETRA...</td>\n",
       "      <td>[REP., WHITEHOUSE, ISSUES, STATEMENT, ON, GEN....</td>\n",
       "      <td>270</td>\n",
       "      <td>[whitehous, issu, statement, on, petraeu, iraq...</td>\n",
       "      <td>207</td>\n",
       "    </tr>\n",
       "    <tr>\n",
       "      <th>7</th>\n",
       "      <td>https://raw.githubusercontent.com/lintool/Grim...</td>\n",
       "      <td>https://github.com/lintool/GrimmerSenatePressR...</td>\n",
       "      <td>11Apr2007Whitehouse122.txt</td>\n",
       "      <td>raw/Whitehouse/11Apr2007Whitehouse122.txt</td>\n",
       "      <td>SEN. WHITEHOUSE URGES BUSH FOR NEW DIRECTION I...</td>\n",
       "      <td>[SEN., WHITEHOUSE, URGES, BUSH, FOR, NEW, DIRE...</td>\n",
       "      <td>521</td>\n",
       "      <td>[whitehous, urg, bush, for, new, direct, in, i...</td>\n",
       "      <td>408</td>\n",
       "    </tr>\n",
       "    <tr>\n",
       "      <th>8</th>\n",
       "      <td>https://raw.githubusercontent.com/lintool/Grim...</td>\n",
       "      <td>https://github.com/lintool/GrimmerSenatePressR...</td>\n",
       "      <td>11Jan2007Whitehouse161.txt</td>\n",
       "      <td>raw/Whitehouse/11Jan2007Whitehouse161.txt</td>\n",
       "      <td>SENS. REED, WHITEHOUSE URGE PORTUGAL TO RECONS...</td>\n",
       "      <td>[SENS, ., REED, ,, WHITEHOUSE, URGE, PORTUGAL,...</td>\n",
       "      <td>484</td>\n",
       "      <td>[sen, reed, whitehous, urg, portug, to, recons...</td>\n",
       "      <td>392</td>\n",
       "    </tr>\n",
       "    <tr>\n",
       "      <th>9</th>\n",
       "      <td>https://raw.githubusercontent.com/lintool/Grim...</td>\n",
       "      <td>https://github.com/lintool/GrimmerSenatePressR...</td>\n",
       "      <td>11Mar2008Whitehouse7.txt</td>\n",
       "      <td>raw/Whitehouse/11Mar2008Whitehouse7.txt</td>\n",
       "      <td>WHITEHOUSE UNVEILS 'BUSH DEBT': $7.7 TRILLION ...</td>\n",
       "      <td>[WHITEHOUSE, UNVEILS, 'BUSH, DEBT, ', :, $, 7....</td>\n",
       "      <td>482</td>\n",
       "      <td>[whitehous, unveil, debt, trillion, in, forego...</td>\n",
       "      <td>361</td>\n",
       "    </tr>\n",
       "  </tbody>\n",
       "</table>\n",
       "</div>"
      ],
      "text/plain": [
       "                                        download_url  \\\n",
       "0  https://raw.githubusercontent.com/lintool/Grim...   \n",
       "1  https://raw.githubusercontent.com/lintool/Grim...   \n",
       "2  https://raw.githubusercontent.com/lintool/Grim...   \n",
       "3  https://raw.githubusercontent.com/lintool/Grim...   \n",
       "4  https://raw.githubusercontent.com/lintool/Grim...   \n",
       "5  https://raw.githubusercontent.com/lintool/Grim...   \n",
       "6  https://raw.githubusercontent.com/lintool/Grim...   \n",
       "7  https://raw.githubusercontent.com/lintool/Grim...   \n",
       "8  https://raw.githubusercontent.com/lintool/Grim...   \n",
       "9  https://raw.githubusercontent.com/lintool/Grim...   \n",
       "\n",
       "                                            html_url  \\\n",
       "0  https://github.com/lintool/GrimmerSenatePressR...   \n",
       "1  https://github.com/lintool/GrimmerSenatePressR...   \n",
       "2  https://github.com/lintool/GrimmerSenatePressR...   \n",
       "3  https://github.com/lintool/GrimmerSenatePressR...   \n",
       "4  https://github.com/lintool/GrimmerSenatePressR...   \n",
       "5  https://github.com/lintool/GrimmerSenatePressR...   \n",
       "6  https://github.com/lintool/GrimmerSenatePressR...   \n",
       "7  https://github.com/lintool/GrimmerSenatePressR...   \n",
       "8  https://github.com/lintool/GrimmerSenatePressR...   \n",
       "9  https://github.com/lintool/GrimmerSenatePressR...   \n",
       "\n",
       "                         name                                       path  \\\n",
       "0  10Apr2007Whitehouse123.txt  raw/Whitehouse/10Apr2007Whitehouse123.txt   \n",
       "1    10Apr2008Whitehouse2.txt    raw/Whitehouse/10Apr2008Whitehouse2.txt   \n",
       "2    10Apr2008Whitehouse3.txt    raw/Whitehouse/10Apr2008Whitehouse3.txt   \n",
       "3   10Aug2007Whitehouse78.txt   raw/Whitehouse/10Aug2007Whitehouse78.txt   \n",
       "4   10Jan2008Whitehouse35.txt   raw/Whitehouse/10Jan2008Whitehouse35.txt   \n",
       "5    10Mar2008Whitehouse8.txt    raw/Whitehouse/10Mar2008Whitehouse8.txt   \n",
       "6   10Sep2007Whitehouse72.txt   raw/Whitehouse/10Sep2007Whitehouse72.txt   \n",
       "7  11Apr2007Whitehouse122.txt  raw/Whitehouse/11Apr2007Whitehouse122.txt   \n",
       "8  11Jan2007Whitehouse161.txt  raw/Whitehouse/11Jan2007Whitehouse161.txt   \n",
       "9    11Mar2008Whitehouse7.txt    raw/Whitehouse/11Mar2008Whitehouse7.txt   \n",
       "\n",
       "                                                text  \\\n",
       "0  SEN. WHITEHOUSE SHARES WESTERLY GIRL'S STORY I...   \n",
       "1  SEN. WHITEHOUSE SAYS PRESIDENT BUSH MUST BEGIN...   \n",
       "2  EPA MUST REVIEW LEGAL PROCESS TO ROOT OUT POLI...   \n",
       "3  R.I. SENATORS PRAISE SEN. DENIAL OF LNG FACILI...   \n",
       "4  SEN. WHITEHOUSE COMMENTS ON ONE-YEAR ANNIVERSA...   \n",
       "5  SENS. REED, WHITEHOUSE WELCOME RHODE ISLAND ST...   \n",
       "6  REP. WHITEHOUSE ISSUES STATEMENT ON GEN. PETRA...   \n",
       "7  SEN. WHITEHOUSE URGES BUSH FOR NEW DIRECTION I...   \n",
       "8  SENS. REED, WHITEHOUSE URGE PORTUGAL TO RECONS...   \n",
       "9  WHITEHOUSE UNVEILS 'BUSH DEBT': $7.7 TRILLION ...   \n",
       "\n",
       "                                      tokenized_text  word_counts  \\\n",
       "0  [SEN., WHITEHOUSE, SHARES, WESTERLY, GIRL, 'S,...          397   \n",
       "1  [SEN., WHITEHOUSE, SAYS, PRESIDENT, BUSH, MUST...          344   \n",
       "2  [EPA, MUST, REVIEW, LEGAL, PROCESS, TO, ROOT, ...          553   \n",
       "3  [R.I, ., SENATORS, PRAISE, SEN, ., DENIAL, OF,...          216   \n",
       "4  [SEN., WHITEHOUSE, COMMENTS, ON, ONE-YEAR, ANN...          257   \n",
       "5  [SENS, ., REED, ,, WHITEHOUSE, WELCOME, RHODE,...          380   \n",
       "6  [REP., WHITEHOUSE, ISSUES, STATEMENT, ON, GEN....          270   \n",
       "7  [SEN., WHITEHOUSE, URGES, BUSH, FOR, NEW, DIRE...          521   \n",
       "8  [SENS, ., REED, ,, WHITEHOUSE, URGE, PORTUGAL,...          484   \n",
       "9  [WHITEHOUSE, UNVEILS, 'BUSH, DEBT, ', :, $, 7....          482   \n",
       "\n",
       "                                   normalized_tokens  normalized_tokens_count  \n",
       "0  [whitehous, share, westerli, girl, stori, in, ...                      301  \n",
       "1  [whitehous, say, presid, bush, must, begin, br...                      272  \n",
       "2  [epa, must, review, legal, process, to, root, ...                      424  \n",
       "3  [senat, prais, sen, denial, of, lng, facil, pe...                      158  \n",
       "4  [whitehous, comment, on, anniversari, of, pres...                      203  \n",
       "5  [sen, reed, whitehous, welcom, rhode, island, ...                      279  \n",
       "6  [whitehous, issu, statement, on, petraeu, iraq...                      207  \n",
       "7  [whitehous, urg, bush, for, new, direct, in, i...                      408  \n",
       "8  [sen, reed, whitehous, urg, portug, to, recons...                      392  \n",
       "9  [whitehous, unveil, debt, trillion, in, forego...                      361  "
      ]
     },
     "execution_count": 25,
     "metadata": {},
     "output_type": "execute_result"
    }
   ],
   "source": [
    "stopwords = [\"the\",\"it\",\"she\",\"he\", \"a\"]\n",
    "\n",
    "def normlizeTokens(tokenLst, stopwordLst = stopwords):\n",
    "    #We can use a generator here as we just need to iterate over it\n",
    "\n",
    "    #Lowering the case and removing non-words\n",
    "    workingIter = (w.lower() for w in tokenLst if w.isalpha())\n",
    "\n",
    "    #The stemmer needs to be initialized before bing run\n",
    "    porter = nltk.stem.porter.PorterStemmer()\n",
    "\n",
    "    #Now we can use it\n",
    "    workingIter = (porter.stem(w) for w in workingIter)\n",
    "\n",
    "    #We will return a list with the stopwords removed\n",
    "    return [w for w in workingIter if w not in stopwordLst]\n",
    "\n",
    "whReleases['normalized_tokens'] = whReleases['tokenized_text'].apply(lambda x: normlizeTokens(x))\n",
    "\n",
    "whReleases['normalized_tokens_count'] = whReleases['normalized_tokens'].apply(lambda x: len(x))\n",
    "\n",
    "whReleases"
   ]
  },
  {
   "cell_type": "markdown",
   "metadata": {},
   "source": [
    "The stemmer we use here is called the [Porter Stemmer](http://www.nltk.org/api/nltk.stem.html#module-nltk.stem.porter), there are many others, including another good one by the same person (Martin Porter) called the [Snowball Stemmer](http://www.nltk.org/api/nltk.stem.html#module-nltk.stem.snowball).\n",
    "\n",
    "Now that it is cleaned we start analyzing the dataset. We can start by finding frequency disruptions for the dataset. Lets start looking at all the press releases together. The[`ConditionalFreqDist`](http://www.nltk.org/api/nltk.html#nltk.probability.ConditionalProbDist) class reads in a iterable of tuples, the first element is the condition and the second the word, for now we will use word lengths as the conditions, but tags or clusters would provide more useful results."
   ]
  },
  {
   "cell_type": "code",
   "execution_count": 26,
   "metadata": {},
   "outputs": [
    {
     "name": "stdout",
     "output_type": "stream",
     "text": [
      "3005\n"
     ]
    }
   ],
   "source": [
    "#.sum() adds together the lists from each row into a single list\n",
    "whcfdist = nltk.ConditionalFreqDist(((len(w), w) for w in whReleases['normalized_tokens'].sum()))\n",
    "\n",
    "#print the number of conditions\n",
    "print(whcfdist.N())"
   ]
  },
  {
   "cell_type": "markdown",
   "metadata": {},
   "source": [
    "From this we can lookup the distributions of different word lengths"
   ]
  },
  {
   "cell_type": "code",
   "execution_count": 27,
   "metadata": {},
   "outputs": [
    {
     "data": {
      "image/png": "[encoded data removed]",
      "text/plain": [
       "<matplotlib.figure.Figure at 0x113b3dac8>"
      ]
     },
     "metadata": {},
     "output_type": "display_data"
    }
   ],
   "source": [
    "whcfdist[3].plot()"
   ]
  },
  {
   "cell_type": "markdown",
   "metadata": {},
   "source": [
    "We can also create a [`ConditionalProbDist`](http://www.nltk.org/api/nltk.html#nltk.probability.ConditionalProbDist) from the `ConditionalFreqDist`, to do this though we need a model for the probability distribution. A simple model is [`ELEProbDist`](http://www.nltk.org/api/nltk.html#nltk.probability.ELEProbDist) which gives the expected likelihood estimate."
   ]
  },
  {
   "cell_type": "code",
   "execution_count": 28,
   "metadata": {},
   "outputs": [
    {
     "name": "stdout",
     "output_type": "stream",
     "text": [
      "to\n",
      "0.22639691714836224\n"
     ]
    }
   ],
   "source": [
    "whcpdist = nltk.ConditionalProbDist(whcfdist, nltk.ELEProbDist)\n",
    "\n",
    "#print the most common 2 letter word\n",
    "print(whcpdist[2].max())\n",
    "\n",
    "#And its probability\n",
    "print(whcpdist[2].prob(whcpdist[2].max()))"
   ]
  },
  {
   "cell_type": "markdown",
   "metadata": {},
   "source": [
    "Word lengths are a good start but there are many more Important features we care about. To start with we will be classifying words with their part of speech (POS), using the [`nltk.pos_tag()`](http://www.nltk.org/api/nltk.tag.html#nltk.tag.pos_tag)."
   ]
  },
  {
   "cell_type": "code",
   "execution_count": 29,
   "metadata": {},
   "outputs": [],
   "source": [
    "whReleases['normalized_tokens_POS'] = [nltk.pos_tag(t) for t in whReleases['normalized_tokens']]"
   ]
  },
  {
   "cell_type": "markdown",
   "metadata": {},
   "source": [
    "This gives us a new column with the part of speech as a short initialism and the word in a tuple, exactly how the `nltk.ConditionalFreqDist()` function wants them. We can now make another conditional frequency distribution."
   ]
  },
  {
   "cell_type": "code",
   "execution_count": 30,
   "metadata": {},
   "outputs": [
    {
     "data": {
      "text/plain": [
       "[('deliv', FreqDist({'NN': 1, 'VB': 1})),\n",
       " ('qualiti', FreqDist({'NN': 2})),\n",
       " ('waiver', FreqDist({'NN': 2, 'WDT': 1})),\n",
       " ('offic', FreqDist({'JJ': 1})),\n",
       " ('send', FreqDist({'VB': 1, 'VBP': 1})),\n",
       " ('diseas', FreqDist({'NNS': 2})),\n",
       " ('plan', FreqDist({'NN': 4})),\n",
       " ('man', FreqDist({'NN': 2})),\n",
       " ('lose', FreqDist({'JJ': 1})),\n",
       " ('come', FreqDist({'VB': 5}))]"
      ]
     },
     "execution_count": 30,
     "metadata": {},
     "output_type": "execute_result"
    }
   ],
   "source": [
    "whcfdist_WordtoPOS = nltk.ConditionalFreqDist(whReleases['normalized_tokens_POS'].sum())\n",
    "list(whcfdist_WordtoPOS.items())[:10]"
   ]
  },
  {
   "cell_type": "markdown",
   "metadata": {},
   "source": [
    "This gives the frequency of each word being each part of speech, which is usually quite boring."
   ]
  },
  {
   "cell_type": "code",
   "execution_count": 31,
   "metadata": {},
   "outputs": [
    {
     "data": {
      "image/png": "[encoded data removed]",
      "text/plain": [
       "<matplotlib.figure.Figure at 0x113b3d160>"
      ]
     },
     "metadata": {},
     "output_type": "display_data"
    }
   ],
   "source": [
    "whcfdist_WordtoPOS['administr'].plot()"
   ]
  },
  {
   "cell_type": "markdown",
   "metadata": {},
   "source": [
    "What we want is the the other direction, the frequency of each part of speech for each word."
   ]
  },
  {
   "cell_type": "code",
   "execution_count": 32,
   "metadata": {},
   "outputs": [],
   "source": [
    "whcfdist_POStoWord = nltk.ConditionalFreqDist((p, w) for w, p in whReleases['normalized_tokens_POS'].sum())"
   ]
  },
  {
   "cell_type": "markdown",
   "metadata": {},
   "source": [
    "We can now get all of the superlative adjectives"
   ]
  },
  {
   "cell_type": "code",
   "execution_count": 33,
   "metadata": {},
   "outputs": [
    {
     "data": {
      "text/plain": [
       "FreqDist({'best': 2, 'most': 2, 'strongest': 1})"
      ]
     },
     "execution_count": 33,
     "metadata": {},
     "output_type": "execute_result"
    }
   ],
   "source": [
    "whcfdist_POStoWord['JJS']"
   ]
  },
  {
   "cell_type": "markdown",
   "metadata": {},
   "source": [
    "Or look at the most common nouns"
   ]
  },
  {
   "cell_type": "code",
   "execution_count": 34,
   "metadata": {},
   "outputs": [
    {
     "data": {
      "text/plain": [
       "[('bush', 25), ('presid', 21), ('troop', 19), ('island', 19), ('rhode', 19)]"
      ]
     },
     "execution_count": 34,
     "metadata": {},
     "output_type": "execute_result"
    }
   ],
   "source": [
    "whcfdist_POStoWord['NN'].most_common(5)"
   ]
  },
  {
   "cell_type": "markdown",
   "metadata": {},
   "source": [
    "Or plot the base form verbs against their number of occurrences"
   ]
  },
  {
   "cell_type": "code",
   "execution_count": 35,
   "metadata": {},
   "outputs": [
    {
     "data": {
      "image/png": "[encoded data removed]",
      "text/plain": [
       "<matplotlib.figure.Figure at 0x114e8f8d0>"
      ]
     },
     "metadata": {},
     "output_type": "display_data"
    }
   ],
   "source": [
    "whcfdist_POStoWord['VB'].plot()"
   ]
  },
  {
   "cell_type": "markdown",
   "metadata": {},
   "source": [
    "We can then do a similar analysis of the probabilities"
   ]
  },
  {
   "cell_type": "code",
   "execution_count": 36,
   "metadata": {},
   "outputs": [
    {
     "name": "stdout",
     "output_type": "stream",
     "text": [
      "bush\n",
      "0.018518518518518517\n"
     ]
    }
   ],
   "source": [
    "whcpdist_POStoWord = nltk.ConditionalProbDist(whcfdist_POStoWord, nltk.ELEProbDist)\n",
    "\n",
    "#print the most common nouns\n",
    "print(whcpdist_POStoWord['NN'].max())\n",
    "\n",
    "#And its probability\n",
    "print(whcpdist_POStoWord['NN'].prob(whcpdist_POStoWord['NN'].max()))"
   ]
  },
  {
   "cell_type": "code",
   "execution_count": 37,
   "metadata": {},
   "outputs": [
    {
     "data": {
      "image/png": "[encoded data removed]",
      "text/plain": [
       "<matplotlib.figure.Figure at 0x113b78b70>"
      ]
     },
     "metadata": {},
     "output_type": "display_data"
    }
   ],
   "source": [
    "wc = wordcloud.WordCloud(background_color=\"white\", max_words=500, width= 1000, height = 1000, mode ='RGBA', scale=.5).generate(' '.join(whReleases['normalized_tokens'].sum()))\n",
    "plt.imshow(wc)\n",
    "plt.axis(\"off\")\n",
    "plt.savefig(\"whitehouse_word_cloud.pdf\", format = 'pdf')"
   ]
  },
  {
   "cell_type": "markdown",
   "metadata": {},
   "source": [
    "We also might want to find significant bigrams and trigrams. To do this we will use the [`nltk.collocations.BigramCollocationFinder`](http://www.nltk.org/api/nltk.html?highlight=bigramcollocationfinder#nltk.collocations.BigramCollocationFinder) class, which can be given raw lists of strings with the `from_words()` method. By default it only looks at continuous bigrams but there is an option (`window_size`) to allow skip-gram."
   ]
  },
  {
   "cell_type": "code",
   "execution_count": 38,
   "metadata": {},
   "outputs": [
    {
     "name": "stdout",
     "output_type": "stream",
     "text": [
      "There are 3005 bigrams in the finder\n"
     ]
    }
   ],
   "source": [
    "whBigrams = nltk.collocations.BigramCollocationFinder.from_words(whReleases['normalized_tokens'].sum())\n",
    "print(\"There are {} bigrams in the finder\".format(whBigrams.N))"
   ]
  },
  {
   "cell_type": "markdown",
   "metadata": {},
   "source": [
    "There are a lot of bigrams, but most of them only occur once, we should first filter our set to remove some of the least common."
   ]
  },
  {
   "cell_type": "code",
   "execution_count": 39,
   "metadata": {},
   "outputs": [
    {
     "name": "stdout",
     "output_type": "stream",
     "text": [
      "There are 3005 bigrams in the finder\n"
     ]
    }
   ],
   "source": [
    "#This modifies the finder inplace\n",
    "whBigrams.apply_freq_filter(2)\n",
    "print(\"There are {} bigrams in the finder\".format(whBigrams.N))"
   ]
  },
  {
   "cell_type": "markdown",
   "metadata": {},
   "source": [
    "To compare the bigrams we need to tell nltk what our score function is, for now we will just look at the raw counts."
   ]
  },
  {
   "cell_type": "code",
   "execution_count": 40,
   "metadata": {},
   "outputs": [
    {
     "name": "stdout",
     "output_type": "stream",
     "text": [
      "[('rhode', 'island'), ('presid', 'bush'), ('in', 'iraq'), ('our', 'troop'), ('sheldon', 'whitehous'), ('stem', 'cell'), ('member', 'of'), ('whitehous', 'said'), ('to', 'be'), ('bush', 'administr')]\n"
     ]
    }
   ],
   "source": [
    "def bigramScoring(count, wordsTuple, total):\n",
    "    return count\n",
    "\n",
    "print(whBigrams.nbest(bigramScoring, 10))"
   ]
  },
  {
   "cell_type": "markdown",
   "metadata": {},
   "source": [
    "One note about how `BigramCollocationFinder` works, it doesn't use the strings internally."
   ]
  },
  {
   "cell_type": "code",
   "execution_count": 41,
   "metadata": {},
   "outputs": [
    {
     "name": "stdout",
     "output_type": "stream",
     "text": [
      "The first word is:  8\n",
      "The second word is: 108\n",
      "The first word is:  32\n",
      "The second word is: 3\n",
      "The first word is:  22\n",
      "The second word is: 3\n",
      "The first word is:  2\n",
      "The second word is: 18\n",
      "The first word is:  36\n",
      "The second word is: 3\n",
      "The first word is:  20\n",
      "The second word is: 20\n",
      "The first word is:  6\n",
      "The second word is: 72\n",
      "The first word is:  115\n",
      "The second word is: 13\n",
      "The first word is:  3\n",
      "The second word is: 20\n",
      "The first word is:  24\n",
      "The second word is: 3\n",
      "The first word is:  115\n",
      "The second word is: 4\n",
      "The first word is:  5\n",
      "The second word is: 72\n",
      "The first word is:  115\n",
      "The second word is: 5\n",
      "The first word is:  2\n",
      "The second word is: 4\n",
      "The first word is:  72\n",
      "The second word is: 14\n",
      "The first word is:  115\n",
      "The second word is: 28\n",
      "The first word is:  3\n",
      "The second word is: 115\n",
      "The first word is:  4\n",
      "The second word is: 117\n",
      "The first word is:  32\n",
      "The second word is: 9\n",
      "The first word is:  15\n",
      "The second word is: 40\n",
      "The first word is:  36\n",
      "The second word is: 2\n",
      "The first word is:  5\n",
      "The second word is: 4\n",
      "The first word is:  2\n",
      "The second word is: 117\n",
      "The first word is:  7\n",
      "The second word is: 3\n",
      "The first word is:  2\n",
      "The second word is: 115\n",
      "The first word is:  38\n",
      "The second word is: 6\n",
      "The first word is:  3\n",
      "The second word is: 115\n",
      "The first word is:  2\n",
      "The second word is: 20\n",
      "The first word is:  7\n",
      "The second word is: 108\n",
      "The first word is:  6\n",
      "The second word is: 115\n",
      "The first word is:  5\n",
      "The second word is: 16\n",
      "The first word is:  117\n",
      "The second word is: 11\n",
      "The first word is:  6\n",
      "The second word is: 115\n",
      "The first word is:  3\n",
      "The second word is: 13\n",
      "The first word is:  12\n",
      "The second word is: 40\n",
      "The first word is:  3\n",
      "The second word is: 72\n",
      "The first word is:  2\n",
      "The second word is: 41\n",
      "The first word is:  6\n",
      "The second word is: 2\n",
      "The first word is:  17\n",
      "The second word is: 5\n",
      "The first word is:  8\n",
      "The second word is: 22\n",
      "The first word is:  108\n",
      "The second word is: 8\n",
      "The first word is:  6\n",
      "The second word is: 108\n",
      "The first word is:  8\n",
      "The second word is: 13\n",
      "The first word is:  3\n",
      "The second word is: 2\n",
      "The first word is:  40\n",
      "The second word is: 3\n",
      "The first word is:  3\n",
      "The second word is: 117\n",
      "The first word is:  30\n",
      "The second word is: 13\n",
      "The first word is:  20\n",
      "The second word is: 6\n",
      "The first word is:  4\n",
      "The second word is: 115\n",
      "The first word is:  117\n",
      "The second word is: 2\n",
      "The first word is:  40\n",
      "The second word is: 13\n",
      "The first word is:  72\n",
      "The second word is: 20\n",
      "The first word is:  3\n",
      "The second word is: 117\n",
      "The first word is:  2\n",
      "The second word is: 117\n",
      "The first word is:  117\n",
      "The second word is: 41\n",
      "The first word is:  117\n",
      "The second word is: 9\n",
      "The first word is:  6\n",
      "The second word is: 16\n",
      "The first word is:  72\n",
      "The second word is: 4\n",
      "The first word is:  5\n",
      "The second word is: 33\n",
      "The first word is:  30\n",
      "The second word is: 117\n",
      "The first word is:  5\n",
      "The second word is: 3\n",
      "The first word is:  20\n",
      "The second word is: 22\n",
      "The first word is:  3\n",
      "The second word is: 5\n",
      "The first word is:  108\n",
      "The second word is: 6\n",
      "The first word is:  2\n",
      "The second word is: 115\n",
      "The first word is:  72\n",
      "The second word is: 14\n",
      "The first word is:  12\n",
      "The second word is: 12\n",
      "The first word is:  10\n",
      "The second word is: 41\n",
      "The first word is:  115\n",
      "The second word is: 17\n",
      "The first word is:  28\n",
      "The second word is: 4\n",
      "The first word is:  5\n",
      "The second word is: 115\n",
      "The first word is:  32\n",
      "The second word is: 117\n",
      "The first word is:  2\n",
      "The second word is: 20\n",
      "The first word is:  2\n",
      "The second word is: 2\n",
      "The first word is:  3\n",
      "The second word is: 5\n",
      "The first word is:  6\n",
      "The second word is: 8\n",
      "The first word is:  40\n",
      "The second word is: 2\n",
      "The first word is:  117\n",
      "The second word is: 22\n",
      "The first word is:  3\n",
      "The second word is: 117\n",
      "The first word is:  2\n",
      "The second word is: 41\n",
      "The first word is:  7\n",
      "The second word is: 5\n",
      "The first word is:  72\n",
      "The second word is: 32\n",
      "The first word is:  17\n",
      "The second word is: 8\n",
      "The first word is:  3\n",
      "The second word is: 117\n",
      "The first word is:  4\n",
      "The second word is: 115\n",
      "The first word is:  2\n",
      "The second word is: 115\n",
      "The first word is:  5\n",
      "The second word is: 4\n",
      "The first word is:  14\n",
      "The second word is: 12\n",
      "The first word is:  17\n",
      "The second word is: 13\n",
      "The first word is:  2\n",
      "The second word is: 20\n",
      "The first word is:  2\n",
      "The second word is: 2\n",
      "The first word is:  9\n",
      "The second word is: 108\n",
      "The first word is:  24\n",
      "The second word is: 13\n",
      "The first word is:  4\n",
      "The second word is: 38\n",
      "The first word is:  4\n",
      "The second word is: 117\n",
      "The first word is:  41\n",
      "The second word is: 24\n",
      "The first word is:  28\n",
      "The second word is: 3\n",
      "The first word is:  19\n",
      "The second word is: 20\n",
      "The first word is:  6\n",
      "The second word is: 7\n",
      "The first word is:  3\n",
      "The second word is: 115\n",
      "The first word is:  6\n",
      "The second word is: 13\n",
      "The first word is:  2\n",
      "The second word is: 5\n",
      "The first word is:  3\n",
      "The second word is: 3\n",
      "The first word is:  8\n",
      "The second word is: 40\n",
      "The first word is:  28\n",
      "The second word is: 2\n",
      "The first word is:  5\n",
      "The second word is: 72\n",
      "The first word is:  12\n",
      "The second word is: 72\n",
      "The first word is:  20\n",
      "The second word is: 30\n",
      "The first word is:  40\n",
      "The second word is: 2\n",
      "The first word is:  30\n",
      "The second word is: 6\n",
      "The first word is:  8\n",
      "The second word is: 36\n",
      "The first word is:  36\n",
      "The second word is: 12\n",
      "The first word is:  20\n",
      "The second word is: 13\n",
      "The first word is:  17\n",
      "The second word is: 12\n",
      "The first word is:  9\n",
      "The second word is: 2\n",
      "The first word is:  108\n",
      "The second word is: 14\n",
      "The first word is:  12\n",
      "The second word is: 2\n",
      "The first word is:  33\n",
      "The second word is: 3\n",
      "The first word is:  17\n",
      "The second word is: 3\n",
      "The first word is:  28\n",
      "The second word is: 12\n",
      "The first word is:  72\n",
      "The second word is: 41\n",
      "The first word is:  40\n",
      "The second word is: 2\n",
      "The first word is:  20\n",
      "The second word is: 108\n",
      "The first word is:  7\n",
      "The second word is: 5\n",
      "The first word is:  41\n",
      "The second word is: 11\n",
      "The first word is:  115\n",
      "The second word is: 8\n",
      "The first word is:  117\n",
      "The second word is: 2\n",
      "The first word is:  5\n",
      "The second word is: 33\n",
      "The first word is:  7\n",
      "The second word is: 4\n",
      "The first word is:  33\n",
      "The second word is: 4\n",
      "The first word is:  24\n",
      "The second word is: 17\n",
      "The first word is:  115\n",
      "The second word is: 6\n",
      "The first word is:  2\n",
      "The second word is: 6\n",
      "The first word is:  2\n",
      "The second word is: 6\n",
      "The first word is:  41\n",
      "The second word is: 20\n",
      "The first word is:  3\n",
      "The second word is: 13\n",
      "The first word is:  6\n",
      "The second word is: 72\n",
      "The first word is:  72\n",
      "The second word is: 2\n",
      "The first word is:  117\n",
      "The second word is: 8\n",
      "The first word is:  115\n",
      "The second word is: 15\n",
      "The first word is:  5\n",
      "The second word is: 115\n",
      "The first word is:  3\n",
      "The second word is: 5\n",
      "The first word is:  5\n",
      "The second word is: 41\n",
      "The first word is:  41\n",
      "The second word is: 13\n",
      "The first word is:  30\n",
      "The second word is: 2\n",
      "The first word is:  41\n",
      "The second word is: 17\n",
      "The first word is:  14\n",
      "The second word is: 6\n",
      "The first word is:  115\n",
      "The second word is: 16\n",
      "The first word is:  8\n",
      "The second word is: 13\n",
      "The first word is:  6\n",
      "The second word is: 5\n",
      "The first word is:  8\n",
      "The second word is: 117\n",
      "The first word is:  115\n",
      "The second word is: 3\n",
      "The first word is:  2\n",
      "The second word is: 38\n",
      "The first word is:  115\n",
      "The second word is: 41\n",
      "The first word is:  40\n",
      "The second word is: 11\n",
      "The first word is:  19\n",
      "The second word is: 28\n",
      "The first word is:  13\n",
      "The second word is: 108\n",
      "The first word is:  12\n",
      "The second word is: 14\n",
      "The first word is:  33\n",
      "The second word is: 11\n",
      "The first word is:  5\n",
      "The second word is: 9\n",
      "The first word is:  4\n",
      "The second word is: 108\n",
      "The first word is:  3\n",
      "The second word is: 6\n",
      "The first word is:  108\n",
      "The second word is: 12\n",
      "The first word is:  19\n",
      "The second word is: 30\n",
      "The first word is:  41\n",
      "The second word is: 30\n",
      "The first word is:  117\n",
      "The second word is: 5\n",
      "The first word is:  6\n",
      "The second word is: 38\n",
      "The first word is:  38\n",
      "The second word is: 41\n",
      "The first word is:  2\n",
      "The second word is: 117\n",
      "The first word is:  2\n",
      "The second word is: 117\n",
      "The first word is:  3\n",
      "The second word is: 3\n",
      "The first word is:  117\n",
      "The second word is: 4\n",
      "The first word is:  8\n",
      "The second word is: 20\n",
      "The first word is:  9\n",
      "The second word is: 117\n",
      "The first word is:  8\n",
      "The second word is: 3\n",
      "The first word is:  22\n",
      "The second word is: 3\n",
      "The first word is:  38\n",
      "The second word is: 12\n",
      "The first word is:  32\n",
      "The second word is: 12\n",
      "The first word is:  6\n",
      "The second word is: 108\n",
      "The first word is:  2\n",
      "The second word is: 3\n",
      "The first word is:  117\n",
      "The second word is: 5\n",
      "The first word is:  2\n",
      "The second word is: 14\n",
      "The first word is:  16\n",
      "The second word is: 4\n",
      "The first word is:  108\n",
      "The second word is: 15\n",
      "The first word is:  13\n",
      "The second word is: 115\n",
      "The first word is:  7\n",
      "The second word is: 12\n",
      "The first word is:  2\n",
      "The second word is: 2\n",
      "The first word is:  8\n",
      "The second word is: 5\n",
      "The first word is:  117\n",
      "The second word is: 32\n",
      "The first word is:  40\n",
      "The second word is: 16\n",
      "The first word is:  3\n",
      "The second word is: 2\n",
      "The first word is:  2\n",
      "The second word is: 115\n",
      "The first word is:  16\n",
      "The second word is: 8\n",
      "The first word is:  16\n",
      "The second word is: 117\n",
      "The first word is:  9\n",
      "The second word is: 38\n",
      "The first word is:  3\n",
      "The second word is: 72\n",
      "The first word is:  22\n",
      "The second word is: 9\n",
      "The first word is:  117\n",
      "The second word is: 6\n",
      "The first word is:  3\n",
      "The second word is: 115\n",
      "The first word is:  18\n",
      "The second word is: 32\n",
      "The first word is:  4\n",
      "The second word is: 8\n",
      "The first word is:  5\n",
      "The second word is: 4\n",
      "The first word is:  3\n",
      "The second word is: 115\n",
      "The first word is:  4\n",
      "The second word is: 3\n",
      "The first word is:  10\n",
      "The second word is: 117\n",
      "The first word is:  5\n",
      "The second word is: 115\n",
      "The first word is:  32\n",
      "The second word is: 40\n",
      "The first word is:  36\n",
      "The second word is: 28\n",
      "The first word is:  115\n",
      "The second word is: 22\n",
      "The first word is:  108\n",
      "The second word is: 41\n",
      "The first word is:  30\n",
      "The second word is: 2\n",
      "The first word is:  24\n",
      "The second word is: 117\n",
      "The first word is:  14\n",
      "The second word is: 2\n",
      "The first word is:  6\n",
      "The second word is: 4\n",
      "The first word is:  41\n",
      "The second word is: 2\n",
      "The first word is:  18\n",
      "The second word is: 2\n",
      "The first word is:  12\n",
      "The second word is: 5\n",
      "The first word is:  6\n",
      "The second word is: 30\n",
      "The first word is:  16\n",
      "The second word is: 15\n",
      "The first word is:  5\n",
      "The second word is: 19\n",
      "The first word is:  38\n",
      "The second word is: 14\n",
      "The first word is:  3\n",
      "The second word is: 115\n",
      "The first word is:  117\n",
      "The second word is: 3\n",
      "The first word is:  32\n",
      "The second word is: 33\n",
      "The first word is:  115\n",
      "The second word is: 20\n",
      "The first word is:  9\n",
      "The second word is: 40\n",
      "The first word is:  5\n",
      "The second word is: 117\n",
      "The first word is:  38\n",
      "The second word is: 9\n",
      "The first word is:  6\n",
      "The second word is: 22\n",
      "The first word is:  16\n",
      "The second word is: 40\n",
      "The first word is:  28\n",
      "The second word is: 6\n",
      "The first word is:  3\n",
      "The second word is: 115\n",
      "The first word is:  12\n",
      "The second word is: 4\n",
      "The first word is:  12\n",
      "The second word is: 12\n",
      "The first word is:  12\n",
      "The second word is: 9\n",
      "The first word is:  72\n",
      "The second word is: 5\n",
      "The first word is:  5\n",
      "The second word is: 115\n",
      "The first word is:  2\n",
      "The second word is: 2\n",
      "The first word is:  117\n",
      "The second word is: 30\n",
      "The first word is:  2\n",
      "The second word is: 108\n",
      "The first word is:  19\n",
      "The second word is: 6\n",
      "The first word is:  8\n",
      "The second word is: 12\n",
      "The first word is:  36\n",
      "The second word is: 2\n",
      "The first word is:  108\n",
      "The second word is: 11\n",
      "The first word is:  20\n",
      "The second word is: 7\n",
      "The first word is:  16\n",
      "The second word is: 7\n",
      "The first word is:  16\n",
      "The second word is: 2\n",
      "The first word is:  28\n",
      "The second word is: 4\n",
      "The first word is:  16\n",
      "The second word is: 2\n",
      "The first word is:  14\n",
      "The second word is: 117\n",
      "The first word is:  14\n",
      "The second word is: 3\n",
      "The first word is:  22\n",
      "The second word is: 24\n",
      "The first word is:  2\n",
      "The second word is: 6\n",
      "The first word is:  10\n",
      "The second word is: 2\n",
      "The first word is:  2\n",
      "The second word is: 11\n",
      "The first word is:  30\n",
      "The second word is: 30\n",
      "The first word is:  115\n",
      "The second word is: 5\n",
      "The first word is:  41\n",
      "The second word is: 7\n",
      "The first word is:  3\n",
      "The second word is: 8\n",
      "The first word is:  117\n",
      "The second word is: 4\n",
      "The first word is:  9\n",
      "The second word is: 41\n",
      "The first word is:  15\n",
      "The second word is: 6\n",
      "The first word is:  16\n",
      "The second word is: 16\n",
      "The first word is:  5\n",
      "The second word is: 72\n",
      "The first word is:  14\n",
      "The second word is: 6\n",
      "The first word is:  13\n",
      "The second word is: 3\n",
      "The first word is:  13\n",
      "The second word is: 108\n",
      "The first word is:  13\n",
      "The second word is: 18\n",
      "The first word is:  8\n",
      "The second word is: 36\n",
      "The first word is:  6\n",
      "The second word is: 6\n",
      "The first word is:  4\n",
      "The second word is: 5\n",
      "The first word is:  4\n",
      "The second word is: 8\n",
      "The first word is:  36\n",
      "The second word is: 3\n",
      "The first word is:  22\n",
      "The second word is: 7\n",
      "The first word is:  2\n",
      "The second word is: 5\n",
      "The first word is:  3\n",
      "The second word is: 72\n",
      "The first word is:  5\n",
      "The second word is: 13\n",
      "The first word is:  72\n",
      "The second word is: 2\n",
      "The first word is:  4\n",
      "The second word is: 8\n",
      "The first word is:  115\n",
      "The second word is: 2\n",
      "The first word is:  13\n",
      "The second word is: 28\n",
      "The first word is:  5\n",
      "The second word is: 108\n",
      "The first word is:  115\n",
      "The second word is: 32\n",
      "The first word is:  3\n",
      "The second word is: 8\n",
      "The first word is:  117\n",
      "The second word is: 5\n",
      "[]\n"
     ]
    }
   ],
   "source": [
    "def bigramPrinting(count, wordsTuple, total):\n",
    "    print(\"The first word is:  {}\\nThe second word is: {}\".format(*wordsTuple))\n",
    "    #Returns None so all the tuples are considered to have the same rank\n",
    "\n",
    "print(whBigrams.nbest(bigramPrinting, 10))"
   ]
  },
  {
   "cell_type": "markdown",
   "metadata": {},
   "source": [
    "The words are each given numeric IDs and there is a dictionary that maps the IDs to the words they represent, this is a common performance optimization.\n",
    "\n",
    "\n",
    "# KL Divergence\n",
    "\n",
    "If we want to compare across the different corpus one of the places to start is Kullback-Leibler divergence, which computes the relative entropy between two distributions. Scipy provides [scipy.special.kl_div()](https://docs.scipy.org/doc/scipy/reference/generated/scipy.special.kl_div.html#scipy-special-kl-div) which takes in two arrays of probabilities and computes the KL divergence.\n",
    "\n",
    "To do this we will need to create the arrays, lets compare the Whitehouse releases with the Kennedy releases. First we have to download them and load them into a DataFrame."
   ]
  },
  {
   "cell_type": "code",
   "execution_count": 42,
   "metadata": {},
   "outputs": [
    {
     "data": {
      "text/html": [
       "<div>\n",
       "<table border=\"1\" class=\"dataframe\">\n",
       "  <thead>\n",
       "    <tr style=\"text-align: right;\">\n",
       "      <th></th>\n",
       "      <th>download_url</th>\n",
       "      <th>html_url</th>\n",
       "      <th>name</th>\n",
       "      <th>path</th>\n",
       "      <th>text</th>\n",
       "    </tr>\n",
       "  </thead>\n",
       "  <tbody>\n",
       "    <tr>\n",
       "      <th>0</th>\n",
       "      <td>https://raw.githubusercontent.com/lintool/Grim...</td>\n",
       "      <td>https://github.com/lintool/GrimmerSenatePressR...</td>\n",
       "      <td>01Apr2005Kennedy14.txt</td>\n",
       "      <td>raw/Kennedy/01Apr2005Kennedy14.txt</td>\n",
       "      <td>FOR IMMEDIATE RELEASE   FOR IMMEDIATE...</td>\n",
       "    </tr>\n",
       "    <tr>\n",
       "      <th>1</th>\n",
       "      <td>https://raw.githubusercontent.com/lintool/Grim...</td>\n",
       "      <td>https://github.com/lintool/GrimmerSenatePressR...</td>\n",
       "      <td>01Aug2005Kennedy12.txt</td>\n",
       "      <td>raw/Kennedy/01Aug2005Kennedy12.txt</td>\n",
       "      <td>FOR IMMEDIATE RELEASE   FOR IMMEDIATE...</td>\n",
       "    </tr>\n",
       "    <tr>\n",
       "      <th>2</th>\n",
       "      <td>https://raw.githubusercontent.com/lintool/Grim...</td>\n",
       "      <td>https://github.com/lintool/GrimmerSenatePressR...</td>\n",
       "      <td>01Aug2006Kennedy10.txt</td>\n",
       "      <td>raw/Kennedy/01Aug2006Kennedy10.txt</td>\n",
       "      <td>FOR IMMEDIATE RELEASE  FOR IMMEDIATE ...</td>\n",
       "    </tr>\n",
       "    <tr>\n",
       "      <th>3</th>\n",
       "      <td>https://raw.githubusercontent.com/lintool/Grim...</td>\n",
       "      <td>https://github.com/lintool/GrimmerSenatePressR...</td>\n",
       "      <td>01Aug2006Kennedy11.txt</td>\n",
       "      <td>raw/Kennedy/01Aug2006Kennedy11.txt</td>\n",
       "      <td>FOR IMMEDIATE RELEASE  FOR IMMEDIATE ...</td>\n",
       "    </tr>\n",
       "    <tr>\n",
       "      <th>4</th>\n",
       "      <td>https://raw.githubusercontent.com/lintool/Grim...</td>\n",
       "      <td>https://github.com/lintool/GrimmerSenatePressR...</td>\n",
       "      <td>01Aug2006Kennedy12.txt</td>\n",
       "      <td>raw/Kennedy/01Aug2006Kennedy12.txt</td>\n",
       "      <td>FOR IMMEDIATE RELEASE  FOR IMMEDIATE ...</td>\n",
       "    </tr>\n",
       "  </tbody>\n",
       "</table>\n",
       "</div>"
      ],
      "text/plain": [
       "                                        download_url  \\\n",
       "0  https://raw.githubusercontent.com/lintool/Grim...   \n",
       "1  https://raw.githubusercontent.com/lintool/Grim...   \n",
       "2  https://raw.githubusercontent.com/lintool/Grim...   \n",
       "3  https://raw.githubusercontent.com/lintool/Grim...   \n",
       "4  https://raw.githubusercontent.com/lintool/Grim...   \n",
       "\n",
       "                                            html_url                    name  \\\n",
       "0  https://github.com/lintool/GrimmerSenatePressR...  01Apr2005Kennedy14.txt   \n",
       "1  https://github.com/lintool/GrimmerSenatePressR...  01Aug2005Kennedy12.txt   \n",
       "2  https://github.com/lintool/GrimmerSenatePressR...  01Aug2006Kennedy10.txt   \n",
       "3  https://github.com/lintool/GrimmerSenatePressR...  01Aug2006Kennedy11.txt   \n",
       "4  https://github.com/lintool/GrimmerSenatePressR...  01Aug2006Kennedy12.txt   \n",
       "\n",
       "                                 path  \\\n",
       "0  raw/Kennedy/01Apr2005Kennedy14.txt   \n",
       "1  raw/Kennedy/01Aug2005Kennedy12.txt   \n",
       "2  raw/Kennedy/01Aug2006Kennedy10.txt   \n",
       "3  raw/Kennedy/01Aug2006Kennedy11.txt   \n",
       "4  raw/Kennedy/01Aug2006Kennedy12.txt   \n",
       "\n",
       "                                                text  \n",
       "0           FOR IMMEDIATE RELEASE   FOR IMMEDIATE...  \n",
       "1           FOR IMMEDIATE RELEASE   FOR IMMEDIATE...  \n",
       "2           FOR IMMEDIATE RELEASE  FOR IMMEDIATE ...  \n",
       "3           FOR IMMEDIATE RELEASE  FOR IMMEDIATE ...  \n",
       "4           FOR IMMEDIATE RELEASE  FOR IMMEDIATE ...  "
      ]
     },
     "execution_count": 42,
     "metadata": {},
     "output_type": "execute_result"
    }
   ],
   "source": [
    "kenReleases = getGithubFiles('https://api.github.com/repos/lintool/GrimmerSenatePressReleases/contents/raw/Kennedy', maxFiles = 10)\n",
    "kenReleases[:5]"
   ]
  },
  {
   "cell_type": "markdown",
   "metadata": {},
   "source": [
    "Then we can tokenize, stem and remove stop words, like we did for the Whitehouse releases"
   ]
  },
  {
   "cell_type": "code",
   "execution_count": 43,
   "metadata": {},
   "outputs": [],
   "source": [
    "kenReleases['tokenized_text'] = kenReleases['text'].apply(lambda x: nltk.word_tokenize(x))\n",
    "kenReleases['normalized_tokens'] = kenReleases['tokenized_text'].apply(lambda x: normlizeTokens(x))"
   ]
  },
  {
   "cell_type": "markdown",
   "metadata": {},
   "source": [
    "Now we need to compare the two collection of words and remove those not found in both and assign the remaining ones indices."
   ]
  },
  {
   "cell_type": "code",
   "execution_count": 44,
   "metadata": {},
   "outputs": [
    {
     "data": {
      "text/plain": [
       "63"
      ]
     },
     "execution_count": 44,
     "metadata": {},
     "output_type": "execute_result"
    }
   ],
   "source": [
    "whWords = set(whReleases['normalized_tokens'].sum())\n",
    "kenWords = set(kenReleases['normalized_tokens'].sum())\n",
    "\n",
    "#Change & to | if you want to keep all words\n",
    "overlapWords = whWords & kenWords\n",
    "\n",
    "overlapWordsDict = {word: index for index, word in enumerate(overlapWords)}\n",
    "overlapWordsDict['student']"
   ]
  },
  {
   "cell_type": "markdown",
   "metadata": {},
   "source": [
    "Now can count the occurrences of each these words in the corpora and create our arrays. Note, we don't have to use numpy arrays, we could just use a list, but the arrays are faster so we should get in the habit of using them."
   ]
  },
  {
   "cell_type": "code",
   "execution_count": 45,
   "metadata": {},
   "outputs": [
    {
     "data": {
      "text/plain": [
       "1.0"
      ]
     },
     "execution_count": 45,
     "metadata": {},
     "output_type": "execute_result"
    }
   ],
   "source": [
    "def makeProbsArray(dfColumn, overlapDict):\n",
    "    words = dfColumn.sum()\n",
    "    countList = [0] * len(overlapDict)\n",
    "    for word in words:\n",
    "        try:\n",
    "            countList[overlapDict[word]] += 1\n",
    "        except KeyError:\n",
    "            #The word is not common so we skip it\n",
    "            pass\n",
    "    countArray = np.array(countList)\n",
    "    return countArray / countArray.sum()\n",
    "\n",
    "whProbArray = makeProbsArray(whReleases['normalized_tokens'], overlapWordsDict)\n",
    "kenProbArray = makeProbsArray(kenReleases['normalized_tokens'], overlapWordsDict)\n",
    "kenProbArray.sum()\n",
    "#There is a little bit of a floating point math error\n",
    "#but it's too small to see with print and too small matter here"
   ]
  },
  {
   "cell_type": "markdown",
   "metadata": {},
   "source": [
    "We can now compute the KL divergence"
   ]
  },
  {
   "cell_type": "code",
   "execution_count": 46,
   "metadata": {},
   "outputs": [],
   "source": [
    "wh_kenDivergence = scipy.special.kl_div(whProbArray, kenProbArray)"
   ]
  }
 ],
 "metadata": {},
 "nbformat": 4,
 "nbformat_minor": 0
}
