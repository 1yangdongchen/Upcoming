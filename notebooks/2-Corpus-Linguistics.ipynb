{
 "cells": [
  {
   "cell_type": "markdown",
   "metadata": {},
   "source": [
    "# Layout\n",
    "# update !!!!\n",
    "+ Searching text for keywords\n",
    "+ Distribution of terms\n",
    "+ Correlation\n",
    "+ Word frequencies\n",
    "+ Conditional frequencies\n",
    "+ Statistically significant collocations\n",
    "+ Distinguishing or Important words and phrases (Wordls!)\n",
    "    + tf-idf\n",
    "        + next week\n",
    "+ POS-tagged words and phrases\n",
    "+ Lemmatized words and phrases\n",
    "    + stemmers\n",
    "+ Dictionary-based annotations.\n",
    "\n",
    "+ divergences\n",
    "    + kl\n",
    "    + Needs to be added\n",
    "\n",
    "+ Sources\n",
    "    + US senate press releases\n",
    "        + e.g. [http://www.reid.senate.gov/press_releases](http://www.reid.senate.gov/press_releases)\n",
    "    + Tumblr\n",
    "    + Literature\n",
    "\n",
    "+ More headers\n",
    "+ More topic based less narrative\n",
    "\n",
    "%%javascript\n",
    "$.getScript('https://kmahelona.github.io/ipython_notebook_goodies/ipython_notebook_toc.js')\n",
    "\n",
    "\n",
    "\n",
    "# Week 2 - Corpus Linguistics\n",
    "\n",
    "Intro stuff\n",
    "\n",
    "For this notebook we will be using the following packages"
   ]
  },
  {
   "cell_type": "code",
   "execution_count": 4,
   "metadata": {
    "collapsed": false
   },
   "outputs": [
    {
     "name": "stderr",
     "output_type": "stream",
     "text": [
      "ERROR:root:Internal Python error in the inspect module.\n",
      "Below is the traceback from this internal error.\n",
      "\n"
     ]
    },
    {
     "name": "stdout",
     "output_type": "stream",
     "text": [
      "Traceback (most recent call last):\n",
      "  File \"/usr/local/lib/python3.6/site-packages/IPython/core/interactiveshell.py\", line 2881, in run_code\n",
      "    exec(code_obj, self.user_global_ns, self.user_ns)\n",
      "  File \"<ipython-input-4-8659d5cd8fdc>\", line 9, in <module>\n",
      "    import seaborn as sns; sns.set()\n",
      "ModuleNotFoundError: No module named 'seaborn'\n",
      "\n",
      "During handling of the above exception, another exception occurred:\n",
      "\n",
      "Traceback (most recent call last):\n",
      "  File \"/usr/local/lib/python3.6/site-packages/IPython/core/interactiveshell.py\", line 1821, in showtraceback\n",
      "    stb = value._render_traceback_()\n",
      "AttributeError: 'ModuleNotFoundError' object has no attribute '_render_traceback_'\n",
      "\n",
      "During handling of the above exception, another exception occurred:\n",
      "\n",
      "Traceback (most recent call last):\n",
      "  File \"/usr/local/lib/python3.6/site-packages/IPython/core/ultratb.py\", line 1132, in get_records\n",
      "    return _fixed_getinnerframes(etb, number_of_lines_of_context, tb_offset)\n",
      "  File \"/usr/local/lib/python3.6/site-packages/IPython/core/ultratb.py\", line 313, in wrapped\n",
      "    return f(*args, **kwargs)\n",
      "  File \"/usr/local/lib/python3.6/site-packages/IPython/core/ultratb.py\", line 358, in _fixed_getinnerframes\n",
      "    records = fix_frame_records_filenames(inspect.getinnerframes(etb, context))\n",
      "  File \"/usr/local/Cellar/python3/3.6.0/Frameworks/Python.framework/Versions/3.6/lib/python3.6/inspect.py\", line 1454, in getinnerframes\n",
      "    frameinfo = (tb.tb_frame,) + getframeinfo(tb, context)\n",
      "  File \"/usr/local/Cellar/python3/3.6.0/Frameworks/Python.framework/Versions/3.6/lib/python3.6/inspect.py\", line 1411, in getframeinfo\n",
      "    filename = getsourcefile(frame) or getfile(frame)\n",
      "  File \"/usr/local/Cellar/python3/3.6.0/Frameworks/Python.framework/Versions/3.6/lib/python3.6/inspect.py\", line 666, in getsourcefile\n",
      "    if getattr(getmodule(object, filename), '__loader__', None) is not None:\n",
      "  File \"/usr/local/Cellar/python3/3.6.0/Frameworks/Python.framework/Versions/3.6/lib/python3.6/inspect.py\", line 695, in getmodule\n",
      "    file = getabsfile(object, _filename)\n",
      "  File \"/usr/local/Cellar/python3/3.6.0/Frameworks/Python.framework/Versions/3.6/lib/python3.6/inspect.py\", line 679, in getabsfile\n",
      "    return os.path.normcase(os.path.abspath(_filename))\n",
      "  File \"/usr/local/Cellar/python3/3.6.0/Frameworks/Python.framework/Versions/3.6/lib/python3.6/posixpath.py\", line 374, in abspath\n",
      "    cwd = os.getcwd()\n",
      "FileNotFoundError: [Errno 2] No such file or directory\n"
     ]
    },
    {
     "ename": "ModuleNotFoundError",
     "evalue": "No module named 'seaborn'",
     "output_type": "error",
     "traceback": [
      "\u001b[0;31m---------------------------------------------------------------------------\u001b[0m"
     ]
    }
   ],
   "source": [
    "#All these packages need to be installed from pip\n",
    "import requests #for http requests\n",
    "import nltk #the Natural Language Toolkit\n",
    "import pandas #gives us DataFrames\n",
    "import matplotlib.pyplot as plt #For graphics\n",
    "import wordcloud #Makes word clouds\n",
    "import numpy as np #For KL divergence\n",
    "import scipy #For KL divergence\n",
    "import seaborn as sns; sns.set()\n",
    "from nltk.corpus import stopwords #For stopwords\n",
    "\n",
    "#This 'magic' command makes the plots work better\n",
    "#in the notebook, don't use it outside of a notebook\n",
    "%matplotlib inline\n",
    "\n",
    "import json #For API responses\n",
    "import urllib.parse #For joining urls"
   ]
  },
  {
   "cell_type": "markdown",
   "metadata": {},
   "source": [
    "# Getting our corpuses\n",
    "\n",
    "To get started we will need some targets, let's start by downloading one of the corpuses from `nltk`. Lets take a look at how that works.\n",
    "\n",
    "First we can get a list of works available from the Gutenburg corpus, with the [corpus module](http://www.nltk.org/api/nltk.corpus.html)."
   ]
  },
  {
   "cell_type": "code",
   "execution_count": 63,
   "metadata": {
    "collapsed": false
   },
   "outputs": [
    {
     "name": "stdout",
     "output_type": "stream",
     "text": [
      "['austen-emma.txt', 'austen-persuasion.txt', 'austen-sense.txt', 'bible-kjv.txt', 'blake-poems.txt', 'bryant-stories.txt', 'burgess-busterbrown.txt', 'carroll-alice.txt', 'chesterton-ball.txt', 'chesterton-brown.txt', 'chesterton-thursday.txt', 'edgeworth-parents.txt', 'melville-moby_dick.txt', 'milton-paradise.txt', 'shakespeare-caesar.txt', 'shakespeare-hamlet.txt', 'shakespeare-macbeth.txt', 'whitman-leaves.txt']\n",
      "18\n"
     ]
    }
   ],
   "source": [
    "print(nltk.corpus.gutenberg.fileids())\n",
    "print(len(nltk.corpus.gutenberg.fileids()))"
   ]
  },
  {
   "cell_type": "markdown",
   "metadata": {},
   "source": [
    "We can also look at the individual works"
   ]
  },
  {
   "cell_type": "code",
   "execution_count": 64,
   "metadata": {
    "collapsed": false
   },
   "outputs": [
    {
     "data": {
      "text/plain": [
       "\"[The Tragedie of Macbeth by William Shakespeare 1603]\\n\\n\\nActus Primus. Scoena Prima.\\n\\nThunder and Lightning. Enter three Witches.\\n\\n  1. When shall we three meet againe?\\nIn Thunder, Lightning, or in Raine?\\n  2. When the Hurley-burley's done,\\nWhen the Battaile's lost, and wonne\\n\\n   3. That will be ere the set of Sunne\\n\\n   1. Where the place?\\n  2. Vpon the Heath\\n\\n   3. There to meet with Macbeth\\n\\n   1. I come, Gray-Malkin\\n\\n   All. Padock calls anon: faire is foule, and foule is faire,\\nHouer through the fogge and filthie ayre.\\n\\nExeunt.\\n\\n\\nScena Secunda.\\n\\nAlarum within. Enter King Malcome, Donalbaine, Lenox, with\\nattendants,\\nmeeting a bleeding Captaine.\\n\\n  King. What bloody man is that? he can report,\\nAs seemeth by his plight, of the Reuolt\\nThe newest state\\n\\n   Mal. This is the Serieant,\\nWho like a good and hardie Souldier fought\\n'Gainst my Captiuitie: Haile braue friend;\\nSay to the King, the knowledge of the Broyle,\\nAs thou didst leaue it\\n\\n   Cap. Doubtfull it stood,\\nAs two spent Swimmers, t\""
      ]
     },
     "execution_count": 64,
     "metadata": {},
     "output_type": "execute_result"
    }
   ],
   "source": [
    "nltk.corpus.gutenberg.raw('shakespeare-macbeth.txt')[:1000]"
   ]
  },
  {
   "cell_type": "markdown",
   "metadata": {},
   "source": [
    "All the listed works have been nicely marked up and classified for us so we can do much better than just looking at raw text."
   ]
  },
  {
   "cell_type": "code",
   "execution_count": 65,
   "metadata": {
    "collapsed": false
   },
   "outputs": [
    {
     "name": "stdout",
     "output_type": "stream",
     "text": [
      "['[', 'The', 'Tragedie', 'of', 'Macbeth', 'by', ...]\n",
      "[['[', 'The', 'Tragedie', 'of', 'Macbeth', 'by', 'William', 'Shakespeare', '1603', ']'], ['Actus', 'Primus', '.'], ...]\n"
     ]
    }
   ],
   "source": [
    "print(nltk.corpus.gutenberg.words('shakespeare-macbeth.txt'))\n",
    "print(nltk.corpus.gutenberg.sents('shakespeare-macbeth.txt'))"
   ]
  },
  {
   "cell_type": "markdown",
   "metadata": {},
   "source": [
    "If we want to do some analysis we can start by simply counting the number of times each word occurs."
   ]
  },
  {
   "cell_type": "code",
   "execution_count": 66,
   "metadata": {
    "collapsed": false
   },
   "outputs": [
    {
     "data": {
      "text/html": [
       "<div>\n",
       "<table border=\"1\" class=\"dataframe\">\n",
       "  <thead>\n",
       "    <tr style=\"text-align: right;\">\n",
       "      <th></th>\n",
       "      <th>count</th>\n",
       "      <th>word</th>\n",
       "    </tr>\n",
       "  </thead>\n",
       "  <tbody>\n",
       "    <tr>\n",
       "      <th>0</th>\n",
       "      <td>4</td>\n",
       "      <td>shame</td>\n",
       "    </tr>\n",
       "    <tr>\n",
       "      <th>1</th>\n",
       "      <td>1</td>\n",
       "      <td>sharke</td>\n",
       "    </tr>\n",
       "    <tr>\n",
       "      <th>2</th>\n",
       "      <td>1</td>\n",
       "      <td>counsail</td>\n",
       "    </tr>\n",
       "    <tr>\n",
       "      <th>3</th>\n",
       "      <td>1</td>\n",
       "      <td>trifles</td>\n",
       "    </tr>\n",
       "    <tr>\n",
       "      <th>4</th>\n",
       "      <td>1</td>\n",
       "      <td>pieces</td>\n",
       "    </tr>\n",
       "    <tr>\n",
       "      <th>5</th>\n",
       "      <td>1</td>\n",
       "      <td>rellish</td>\n",
       "    </tr>\n",
       "    <tr>\n",
       "      <th>6</th>\n",
       "      <td>1</td>\n",
       "      <td>sowre</td>\n",
       "    </tr>\n",
       "    <tr>\n",
       "      <th>7</th>\n",
       "      <td>1</td>\n",
       "      <td>mid</td>\n",
       "    </tr>\n",
       "    <tr>\n",
       "      <th>8</th>\n",
       "      <td>1</td>\n",
       "      <td>whereon</td>\n",
       "    </tr>\n",
       "    <tr>\n",
       "      <th>9</th>\n",
       "      <td>1</td>\n",
       "      <td>dogge</td>\n",
       "    </tr>\n",
       "  </tbody>\n",
       "</table>\n",
       "</div>"
      ],
      "text/plain": [
       "   count      word\n",
       "0      4     shame\n",
       "1      1    sharke\n",
       "2      1  counsail\n",
       "3      1   trifles\n",
       "4      1    pieces\n",
       "5      1   rellish\n",
       "6      1     sowre\n",
       "7      1       mid\n",
       "8      1   whereon\n",
       "9      1     dogge"
      ]
     },
     "execution_count": 66,
     "metadata": {},
     "output_type": "execute_result"
    }
   ],
   "source": [
    "def wordCounter(wordLst):\n",
    "    wordCounts = {}\n",
    "    for word in wordLst:\n",
    "        #We usually need to normalize the case\n",
    "        wLower = word.lower()\n",
    "        if wLower in wordCounts:\n",
    "            wordCounts[wLower] += 1\n",
    "        else:\n",
    "            wordCounts[wLower] = 1\n",
    "    #convert to DataFrame\n",
    "    countsForFrame = {'word' : [], 'count' : []}\n",
    "    for w, c in wordCounts.items():\n",
    "        countsForFrame['word'].append(w)\n",
    "        countsForFrame['count'].append(c)\n",
    "    return pandas.DataFrame(countsForFrame)\n",
    "\n",
    "countedWords = wordCounter(nltk.corpus.gutenberg.words('shakespeare-macbeth.txt'))\n",
    "countedWords[:10]"
   ]
  },
  {
   "cell_type": "markdown",
   "metadata": {},
   "source": [
    "Notice how `wordCounter()` is not a very complicated function. That is because the hard parts have already been done by `nltk`. If we were using unprocessed text we would have to tokenize and determine what to do with the non-word characters.\n",
    "\n",
    "nltk also offers a built-in way for getting a frequency distribution from a list of words:"
   ]
  },
  {
   "cell_type": "code",
   "execution_count": 67,
   "metadata": {
    "collapsed": false
   },
   "outputs": [
    {
     "name": "stdout",
     "output_type": "stream",
     "text": [
      "104\n"
     ]
    }
   ],
   "source": [
    "words = [word.lower() for word in nltk.corpus.gutenberg.words('shakespeare-macbeth.txt')]\n",
    "freq = nltk.FreqDist(words)\n",
    "print (freq['this'])"
   ]
  },
  {
   "cell_type": "markdown",
   "metadata": {},
   "source": [
    "Lets plot our counts and see what it looks like.\n",
    "\n",
    "First we need to sort the words by count."
   ]
  },
  {
   "cell_type": "code",
   "execution_count": 68,
   "metadata": {
    "collapsed": false
   },
   "outputs": [
    {
     "data": {
      "text/html": [
       "<div>\n",
       "<table border=\"1\" class=\"dataframe\">\n",
       "  <thead>\n",
       "    <tr style=\"text-align: right;\">\n",
       "      <th></th>\n",
       "      <th>count</th>\n",
       "      <th>word</th>\n",
       "    </tr>\n",
       "  </thead>\n",
       "  <tbody>\n",
       "    <tr>\n",
       "      <th>2839</th>\n",
       "      <td>1962</td>\n",
       "      <td>,</td>\n",
       "    </tr>\n",
       "    <tr>\n",
       "      <th>3123</th>\n",
       "      <td>1235</td>\n",
       "      <td>.</td>\n",
       "    </tr>\n",
       "    <tr>\n",
       "      <th>1086</th>\n",
       "      <td>650</td>\n",
       "      <td>the</td>\n",
       "    </tr>\n",
       "    <tr>\n",
       "      <th>416</th>\n",
       "      <td>637</td>\n",
       "      <td>'</td>\n",
       "    </tr>\n",
       "    <tr>\n",
       "      <th>2398</th>\n",
       "      <td>546</td>\n",
       "      <td>and</td>\n",
       "    </tr>\n",
       "    <tr>\n",
       "      <th>1849</th>\n",
       "      <td>477</td>\n",
       "      <td>:</td>\n",
       "    </tr>\n",
       "    <tr>\n",
       "      <th>581</th>\n",
       "      <td>384</td>\n",
       "      <td>to</td>\n",
       "    </tr>\n",
       "    <tr>\n",
       "      <th>1236</th>\n",
       "      <td>348</td>\n",
       "      <td>i</td>\n",
       "    </tr>\n",
       "    <tr>\n",
       "      <th>1997</th>\n",
       "      <td>338</td>\n",
       "      <td>of</td>\n",
       "    </tr>\n",
       "    <tr>\n",
       "      <th>722</th>\n",
       "      <td>241</td>\n",
       "      <td>?</td>\n",
       "    </tr>\n",
       "  </tbody>\n",
       "</table>\n",
       "</div>"
      ],
      "text/plain": [
       "      count word\n",
       "2839   1962    ,\n",
       "3123   1235    .\n",
       "1086    650  the\n",
       "416     637    '\n",
       "2398    546  and\n",
       "1849    477    :\n",
       "581     384   to\n",
       "1236    348    i\n",
       "1997    338   of\n",
       "722     241    ?"
      ]
     },
     "execution_count": 68,
     "metadata": {},
     "output_type": "execute_result"
    }
   ],
   "source": [
    "#Doing this in place as we don't need the unsorted DataFrame\n",
    "countedWords.sort_values('count', ascending=False, inplace=True)\n",
    "countedWords[:10]"
   ]
  },
  {
   "cell_type": "markdown",
   "metadata": {},
   "source": [
    "The punctuation and very common words (like 'a' and 'the') makes up all the top most common values, this isn't very interesting and can actually get in the way of analysis. We will be removing these later on."
   ]
  },
  {
   "cell_type": "code",
   "execution_count": 69,
   "metadata": {
    "collapsed": false
   },
   "outputs": [
    {
     "data": {
      "image/png": "[encoded data removed]",
      "text/plain": [
       "<matplotlib.figure.Figure at 0x11344c828>"
      ]
     },
     "metadata": {},
     "output_type": "display_data"
    }
   ],
   "source": [
    "plt.plot(range(len(countedWords)), countedWords['count'])\n",
    "plt.show()"
   ]
  },
  {
   "cell_type": "markdown",
   "metadata": {},
   "source": [
    "This shows the likelihood of a word occurring is inversely proportional to its rank, this effect is called [Zipf's Law](https://en.wikipedia.org/wiki/Zipf%27s_law).\n",
    "\n",
    "What does the distribution of word lengths look like?\n",
    "\n",
    "There are many other properties of words we can look at. First lets look at concordance.\n",
    "\n",
    "To do this we need to load the text into a `ConcordanceIndex`"
   ]
  },
  {
   "cell_type": "code",
   "execution_count": 70,
   "metadata": {
    "collapsed": true
   },
   "outputs": [],
   "source": [
    "macbethIndex = nltk.text.ConcordanceIndex(nltk.corpus.gutenberg.words('shakespeare-macbeth.txt'))"
   ]
  },
  {
   "cell_type": "markdown",
   "metadata": {},
   "source": [
    "Then we can get all the words that cooccur with a word, lets look at `'macbeth'`."
   ]
  },
  {
   "cell_type": "code",
   "execution_count": 71,
   "metadata": {
    "collapsed": false
   },
   "outputs": [
    {
     "name": "stdout",
     "output_type": "stream",
     "text": [
      "No matches\n"
     ]
    }
   ],
   "source": [
    "macbethIndex.print_concordance('macbeth')"
   ]
  },
  {
   "cell_type": "markdown",
   "metadata": {},
   "source": [
    "weird, `'macbeth'` doesn't occur anywhere in the the text. What happened?\n",
    "\n",
    "`ConcordanceIndex` is case sensitive, lets try looking for `'Macbeth'`"
   ]
  },
  {
   "cell_type": "code",
   "execution_count": 72,
   "metadata": {
    "collapsed": false
   },
   "outputs": [
    {
     "name": "stdout",
     "output_type": "stream",
     "text": [
      "Displaying 25 of 61 matches:\n",
      "                                  Macbeth by William Shakespeare 1603 ] Act\n",
      " the Heath 3 . There to meet with Macbeth 1 . I come , Gray - Malkin All . \n",
      "but all ' s too weake : For braue Macbeth ( well hee deserues that Name ) D\n",
      "smay ' d not this our Captaines , Macbeth and Banquoh ? Cap . Yes , as Spar\n",
      ", And with his former Title greet Macbeth Rosse . Ile see it done King . Wh\n",
      " King . What he hath lost , Noble Macbeth hath wonne . Exeunt . Scena Terti\n",
      "ithin . 3 . A Drumme , a Drumme : Macbeth doth come All . The weyward Siste\n",
      ", the Charme ' s wound vp . Enter Macbeth and Banquo . Macb . So foule and \n",
      "an : what are you ? 1 . All haile Macbeth , haile to thee Thane of Glamis 2\n",
      "hee Thane of Glamis 2 . All haile Macbeth , haile to thee Thane of Cawdor 3\n",
      "hee Thane of Cawdor 3 . All haile Macbeth , that shalt be King hereafter Ba\n",
      ". Hayle 3 . Hayle 1 . Lesser than Macbeth , and greater 2 . Not so happy , \n",
      "hough thou be none : So all haile Macbeth , and Banquo 1 . Banquo , and Mac\n",
      "eth , and Banquo 1 . Banquo , and Macbeth , all haile Macb . Stay you imper\n",
      "he King hath happily receiu ' d , Macbeth , The newes of thy successe : and\n",
      "gh the roughest Day Banq . Worthy Macbeth , wee stay vpon your leysure Macb\n",
      "I built An absolute Trust . Enter Macbeth , Banquo , Rosse , and Angus . O \n",
      "ke , To cry , hold , hold . Enter Macbeth . Great Glamys , worthy Cawdor , \n",
      "ruice ouer the Stage . Then enter Macbeth Macb . If it were done , when ' t\n",
      "re giues way to in repose . Enter Macbeth , and a Seruant with a Torch . Gi\n",
      "hether they liue , or dye . Enter Macbeth . Macb . Who ' s there ? what hoa\n",
      "ard a voyce cry , Sleep no more : Macbeth does murther Sleepe , the innocen\n",
      "ore Cawdor Shall sleepe no more : Macbeth shall sleepe no more Lady . Who w\n",
      " made a Shift to cast him . Enter Macbeth . Macd . Is thy Master stirring ?\n",
      "selues : awake , awake , Exeunt . Macbeth and Lenox . Ring the Alarum Bell \n"
     ]
    }
   ],
   "source": [
    "macbethIndex.print_concordance('Macbeth')"
   ]
  },
  {
   "cell_type": "markdown",
   "metadata": {},
   "source": [
    "That's a lot better\n",
    "\n",
    "what about something a lot less frequent"
   ]
  },
  {
   "cell_type": "code",
   "execution_count": 73,
   "metadata": {
    "collapsed": false
   },
   "outputs": [
    {
     "name": "stdout",
     "output_type": "stream",
     "text": [
      "     count        word\n",
      "624      7  donalbaine\n",
      "Displaying 7 of 7 matches:\n",
      "m within . Enter King Malcome , Donalbaine , Lenox , with attendants , mee\n",
      "Enter King , Lenox , Malcolme , Donalbaine , and Attendants . King . Is ex\n",
      "rches . Enter King , Malcolme , Donalbaine , Banquo , Lenox , Macduff , Ro\n",
      " ' th ' second Chamber ? Lady . Donalbaine Mac . This is a sorry sight Lad\n",
      "er , and Treason , Banquo , and Donalbaine : Malcolme awake , Shake off th\n",
      "to brag of . Enter Malcolme and Donalbaine . Donal . What is amisse ? Macb\n",
      "were subborned , Malcolme , and Donalbaine the Kings two Sonnes Are stolne\n"
     ]
    }
   ],
   "source": [
    "print(countedWords[countedWords['word'] == 'donalbaine'])\n",
    "macbethIndex.print_concordance('Donalbaine')"
   ]
  },
  {
   "cell_type": "markdown",
   "metadata": {},
   "source": [
    "# Getting press releases\n",
    "\n",
    "First we need to understand the GitHub API\n",
    "\n",
    "requests are made to `'https://api.github.com/'` and responses are in JSON, similar to Tumblr's API.\n",
    "\n",
    "We will get the information on [github.com/lintool/GrimmerSenatePressReleases](https://github.com/lintool/GrimmerSenatePressReleases) as it contains a nice set documents."
   ]
  },
  {
   "cell_type": "code",
   "execution_count": 74,
   "metadata": {
    "collapsed": false
   },
   "outputs": [
    {
     "name": "stdout",
     "output_type": "stream",
     "text": [
      "dict_keys(['subscription_url', 'events_url', 'size', 'comments_url', 'url', 'html_url', 'keys_url', 'fork', 'id', 'updated_at', 'collaborators_url', 'clone_url', 'ssh_url', 'compare_url', 'teams_url', 'branches_url', 'has_pages', 'pulls_url', 'forks', 'network_count', 'full_name', 'releases_url', 'archive_url', 'issue_comment_url', 'stargazers_url', 'downloads_url', 'subscribers_count', 'issues_url', 'owner', 'name', 'issue_events_url', 'merges_url', 'has_issues', 'homepage', 'assignees_url', 'git_url', 'blobs_url', 'pushed_at', 'contributors_url', 'contents_url', 'git_commits_url', 'git_tags_url', 'mirror_url', 'milestones_url', 'open_issues_count', 'languages_url', 'description', 'watchers_count', 'default_branch', 'commits_url', 'notifications_url', 'language', 'open_issues', 'forks_url', 'labels_url', 'stargazers_count', 'hooks_url', 'has_downloads', 'private', 'trees_url', 'deployments_url', 'statuses_url', 'forks_count', 'svn_url', 'tags_url', 'git_refs_url', 'watchers', 'created_at', 'subscribers_url', 'has_wiki'])\n",
      "Grimmer's Senate Press Releases\n"
     ]
    }
   ],
   "source": [
    "r = requests.get('https://api.github.com/repos/lintool/GrimmerSenatePressReleases')\n",
    "senateReleasesData = json.loads(r.text)\n",
    "print(senateReleasesData.keys())\n",
    "print(senateReleasesData['description'])"
   ]
  },
  {
   "cell_type": "markdown",
   "metadata": {},
   "source": [
    "What we are interested in is the `'contents_url'`"
   ]
  },
  {
   "cell_type": "code",
   "execution_count": 75,
   "metadata": {
    "collapsed": false
   },
   "outputs": [
    {
     "name": "stdout",
     "output_type": "stream",
     "text": [
      "https://api.github.com/repos/lintool/GrimmerSenatePressReleases/contents/{+path}\n"
     ]
    }
   ],
   "source": [
    "print(senateReleasesData['contents_url'])"
   ]
  },
  {
   "cell_type": "markdown",
   "metadata": {},
   "source": [
    "We can use this to get any, or all of the files from the repo"
   ]
  },
  {
   "cell_type": "code",
   "execution_count": 76,
   "metadata": {
    "collapsed": false
   },
   "outputs": [
    {
     "data": {
      "text/plain": [
       "{'_links': {'git': 'https://api.github.com/repos/lintool/GrimmerSenatePressReleases/git/blobs/f524289ee563dca58690c8d36c23dce5dbd9962a',\n",
       "  'html': 'https://github.com/lintool/GrimmerSenatePressReleases/blob/master/raw/Whitehouse/10Apr2007Whitehouse123.txt',\n",
       "  'self': 'https://api.github.com/repos/lintool/GrimmerSenatePressReleases/contents/raw/Whitehouse/10Apr2007Whitehouse123.txt?ref=master'},\n",
       " 'download_url': 'https://raw.githubusercontent.com/lintool/GrimmerSenatePressReleases/master/raw/Whitehouse/10Apr2007Whitehouse123.txt',\n",
       " 'git_url': 'https://api.github.com/repos/lintool/GrimmerSenatePressReleases/git/blobs/f524289ee563dca58690c8d36c23dce5dbd9962a',\n",
       " 'html_url': 'https://github.com/lintool/GrimmerSenatePressReleases/blob/master/raw/Whitehouse/10Apr2007Whitehouse123.txt',\n",
       " 'name': '10Apr2007Whitehouse123.txt',\n",
       " 'path': 'raw/Whitehouse/10Apr2007Whitehouse123.txt',\n",
       " 'sha': 'f524289ee563dca58690c8d36c23dce5dbd9962a',\n",
       " 'size': 2206,\n",
       " 'type': 'file',\n",
       " 'url': 'https://api.github.com/repos/lintool/GrimmerSenatePressReleases/contents/raw/Whitehouse/10Apr2007Whitehouse123.txt?ref=master'}"
      ]
     },
     "execution_count": 76,
     "metadata": {},
     "output_type": "execute_result"
    }
   ],
   "source": [
    "r= requests.get('https://api.github.com/repos/lintool/GrimmerSenatePressReleases/contents/raw/Whitehouse')\n",
    "whitehouseLinks = json.loads(r.text)\n",
    "whitehouseLinks[0]"
   ]
  },
  {
   "cell_type": "markdown",
   "metadata": {},
   "source": [
    "Now we have a list of information about Whitehouse press releases. Lets look at one of them."
   ]
  },
  {
   "cell_type": "code",
   "execution_count": 77,
   "metadata": {
    "collapsed": false
   },
   "outputs": [
    {
     "name": "stdout",
     "output_type": "stream",
     "text": [
      "SEN. WHITEHOUSE SHARES WESTERLY GIRL'S STORY IN PUSH FOR STEM CELL RESEARCH\n",
      "  Sharing the story of Lila Barber, a 12 year old girl from Westerly, Sen. Sheldon Whitehouse (D-R.I.) on Tuesday, April 10, 2007, illustrated the hope stem cell research can offer in a speech on the Senate floor in favor of legislation to expand federal funding for stem cell research.  \n",
      "   Whitehouse met Lila two weeks ago. She was diagnosed two years ago with osteosarcoma, a cancerous bone condition, and last year underwent cadaver bone transplant surgery. The procedure saved her leg and is helping her remain cancer-free, but the transplanted tissue will not grow with her and likely will break down over time. Stem cell research, Whitehouse explained, could vastly improve the care of patients like Lila by allowing surgeons to enhance transplants with a patient's own stem cells, which could replace the lost bone and cartilage, or grow entirely new replacement bones and joints. \n",
      "   \"Stem cell research gives hope\n"
     ]
    },
    {
     "data": {
      "text/plain": [
       "2206"
      ]
     },
     "execution_count": 77,
     "metadata": {},
     "output_type": "execute_result"
    }
   ],
   "source": [
    "r = requests.get(whitehouseLinks[0]['download_url'])\n",
    "whitehouseRelease = r.text\n",
    "print(whitehouseRelease[:1000])\n",
    "len(whitehouseRelease)"
   ]
  },
  {
   "cell_type": "markdown",
   "metadata": {},
   "source": [
    "Now we have a blob of text we first need to tokenize it."
   ]
  },
  {
   "cell_type": "code",
   "execution_count": 78,
   "metadata": {
    "collapsed": false
   },
   "outputs": [
    {
     "data": {
      "text/plain": [
       "['SEN.',\n",
       " 'WHITEHOUSE',\n",
       " 'SHARES',\n",
       " 'WESTERLY',\n",
       " 'GIRL',\n",
       " \"'S\",\n",
       " 'STORY',\n",
       " 'IN',\n",
       " 'PUSH',\n",
       " 'FOR']"
      ]
     },
     "execution_count": 78,
     "metadata": {},
     "output_type": "execute_result"
    }
   ],
   "source": [
    "whTokens = nltk.word_tokenize(whitehouseRelease)\n",
    "whTokens[:10]"
   ]
  },
  {
   "cell_type": "markdown",
   "metadata": {},
   "source": [
    "`whTokens` is a list of 'words', it's better than `.split(' ')`,  but it is not perfect. There are many different ways to tokenize a string and the one we used here is called the [Penn Treebank tokenizer](http://www.nltk.org/api/nltk.tokenize.html#module-nltk.tokenize.treebank). This tokenizer isn't aware of sentences and is a basically a complicated regex that's run over the string.\n",
    "\n",
    "If we want to find sentences we can use something like `nltk.sent_tokenize()` which implements the [Punkt Sentence tokenizer](http://www.nltk.org/api/nltk.tokenize.html#nltk.tokenize.punkt.PunktSentenceTokenizer), a machine learning based algorithm that works well for many European languages.\n",
    "\n",
    "We could also use the [Stanford tokenizer](http://www.nltk.org/api/nltk.tokenize.html#module-nltk.tokenize.stanford) or use our own regex with [`RegexpTokenizer()`](http://www.nltk.org/api/nltk.tokenize.html#module-nltk.tokenize.regexp). Picking the correct tokenizer is important as the tokens form the base of our analysis.\n",
    "\n",
    "For now though the Penn Treebank tokenizer is fine.\n",
    "\n",
    "To use the list of tokens in `nltk` we can convert it into a `Text`."
   ]
  },
  {
   "cell_type": "code",
   "execution_count": 79,
   "metadata": {
    "collapsed": true
   },
   "outputs": [],
   "source": [
    "whText = nltk.Text(whTokens)"
   ]
  },
  {
   "cell_type": "markdown",
   "metadata": {},
   "source": [
    "*Note*, The `Text` class is for doing exploratory and fast analysis. It provides an easy interface to many of the operations we want to do, but it does not allow us much control. When you are doing a full analysis you should be using the module for that task instead of the method `Text` provides, e.g. use  [`collocations` Module](http://www.nltk.org/api/nltk.html#module-nltk.collocations) instead of `.collocations()`.\n",
    "\n",
    "Now that we got this loaded lets, look at few things\n",
    "\n",
    "We can find words that tend to occur together"
   ]
  },
  {
   "cell_type": "code",
   "execution_count": 80,
   "metadata": {
    "collapsed": false
   },
   "outputs": [
    {
     "name": "stdout",
     "output_type": "stream",
     "text": [
      "Rhode Island; stem cells; cell research; Cell Enhancement; Enhancement\n",
      "Act; President Bush; Stem Cell; stem cell; Stem cell\n"
     ]
    }
   ],
   "source": [
    "whText.collocations()"
   ]
  },
  {
   "cell_type": "markdown",
   "metadata": {},
   "source": [
    "Or we can pick a word (or words) and find what words tend to occur around it"
   ]
  },
  {
   "cell_type": "code",
   "execution_count": 81,
   "metadata": {
    "collapsed": false
   },
   "outputs": [
    {
     "name": "stdout",
     "output_type": "stream",
     "text": [
      "``_cell for_cell of_cell own_cells on_cells ._cell hope_cell\n",
      "embryonic_cells the_cell\n"
     ]
    }
   ],
   "source": [
    "whText.common_contexts(['stem'])"
   ]
  },
  {
   "cell_type": "markdown",
   "metadata": {},
   "source": [
    "We can also just count the number of times the word occurs"
   ]
  },
  {
   "cell_type": "code",
   "execution_count": 82,
   "metadata": {
    "collapsed": false
   },
   "outputs": [
    {
     "data": {
      "text/plain": [
       "7"
      ]
     },
     "execution_count": 82,
     "metadata": {},
     "output_type": "execute_result"
    }
   ],
   "source": [
    "whText.count('stem')"
   ]
  },
  {
   "cell_type": "markdown",
   "metadata": {},
   "source": [
    "Or plot each time it occurs"
   ]
  },
  {
   "cell_type": "code",
   "execution_count": 83,
   "metadata": {
    "collapsed": false
   },
   "outputs": [
    {
     "data": {
      "image/png": "[encoded data removed]",
      "text/plain": [
       "<matplotlib.figure.Figure at 0x12006ce80>"
      ]
     },
     "metadata": {},
     "output_type": "display_data"
    }
   ],
   "source": [
    "whText.dispersion_plot(['stem', 'cell', 'federal' ,'Lila', 'Barber', 'Whitehouse'])"
   ]
  },
  {
   "cell_type": "markdown",
   "metadata": {},
   "source": [
    "If we want to do an analysis of all the Whitehouse press releases we will first need to obtain them. By looking at the API we can see the the URL we want is [https://api.github.com/repos/lintool/GrimmerSenatePressReleases/contents/raw/Whitehouse](https://api.github.com/repos/lintool/GrimmerSenatePressReleases/contents/raw/Whitehouse), so we can create a function to scrape the individual files.\n",
    "\n",
    "If you want to know more about downloading from APIs look at the 1st notebook"
   ]
  },
  {
   "cell_type": "code",
   "execution_count": 84,
   "metadata": {
    "collapsed": false
   },
   "outputs": [
    {
     "data": {
      "text/html": [
       "<div>\n",
       "<table border=\"1\" class=\"dataframe\">\n",
       "  <thead>\n",
       "    <tr style=\"text-align: right;\">\n",
       "      <th></th>\n",
       "      <th>download_url</th>\n",
       "      <th>html_url</th>\n",
       "      <th>name</th>\n",
       "      <th>path</th>\n",
       "      <th>text</th>\n",
       "    </tr>\n",
       "  </thead>\n",
       "  <tbody>\n",
       "    <tr>\n",
       "      <th>0</th>\n",
       "      <td>https://raw.githubusercontent.com/lintool/Grim...</td>\n",
       "      <td>https://github.com/lintool/GrimmerSenatePressR...</td>\n",
       "      <td>10Apr2007Whitehouse123.txt</td>\n",
       "      <td>raw/Whitehouse/10Apr2007Whitehouse123.txt</td>\n",
       "      <td>SEN. WHITEHOUSE SHARES WESTERLY GIRL'S STORY I...</td>\n",
       "    </tr>\n",
       "    <tr>\n",
       "      <th>1</th>\n",
       "      <td>https://raw.githubusercontent.com/lintool/Grim...</td>\n",
       "      <td>https://github.com/lintool/GrimmerSenatePressR...</td>\n",
       "      <td>10Apr2008Whitehouse2.txt</td>\n",
       "      <td>raw/Whitehouse/10Apr2008Whitehouse2.txt</td>\n",
       "      <td>SEN. WHITEHOUSE SAYS PRESIDENT BUSH MUST BEGIN...</td>\n",
       "    </tr>\n",
       "    <tr>\n",
       "      <th>2</th>\n",
       "      <td>https://raw.githubusercontent.com/lintool/Grim...</td>\n",
       "      <td>https://github.com/lintool/GrimmerSenatePressR...</td>\n",
       "      <td>10Apr2008Whitehouse3.txt</td>\n",
       "      <td>raw/Whitehouse/10Apr2008Whitehouse3.txt</td>\n",
       "      <td>EPA MUST REVIEW LEGAL PROCESS TO ROOT OUT POLI...</td>\n",
       "    </tr>\n",
       "    <tr>\n",
       "      <th>3</th>\n",
       "      <td>https://raw.githubusercontent.com/lintool/Grim...</td>\n",
       "      <td>https://github.com/lintool/GrimmerSenatePressR...</td>\n",
       "      <td>10Aug2007Whitehouse78.txt</td>\n",
       "      <td>raw/Whitehouse/10Aug2007Whitehouse78.txt</td>\n",
       "      <td>R.I. SENATORS PRAISE SEN. DENIAL OF LNG FACILI...</td>\n",
       "    </tr>\n",
       "    <tr>\n",
       "      <th>4</th>\n",
       "      <td>https://raw.githubusercontent.com/lintool/Grim...</td>\n",
       "      <td>https://github.com/lintool/GrimmerSenatePressR...</td>\n",
       "      <td>10Jan2008Whitehouse35.txt</td>\n",
       "      <td>raw/Whitehouse/10Jan2008Whitehouse35.txt</td>\n",
       "      <td>SEN. WHITEHOUSE COMMENTS ON ONE-YEAR ANNIVERSA...</td>\n",
       "    </tr>\n",
       "  </tbody>\n",
       "</table>\n",
       "</div>"
      ],
      "text/plain": [
       "                                        download_url  \\\n",
       "0  https://raw.githubusercontent.com/lintool/Grim...   \n",
       "1  https://raw.githubusercontent.com/lintool/Grim...   \n",
       "2  https://raw.githubusercontent.com/lintool/Grim...   \n",
       "3  https://raw.githubusercontent.com/lintool/Grim...   \n",
       "4  https://raw.githubusercontent.com/lintool/Grim...   \n",
       "\n",
       "                                            html_url  \\\n",
       "0  https://github.com/lintool/GrimmerSenatePressR...   \n",
       "1  https://github.com/lintool/GrimmerSenatePressR...   \n",
       "2  https://github.com/lintool/GrimmerSenatePressR...   \n",
       "3  https://github.com/lintool/GrimmerSenatePressR...   \n",
       "4  https://github.com/lintool/GrimmerSenatePressR...   \n",
       "\n",
       "                         name                                       path  \\\n",
       "0  10Apr2007Whitehouse123.txt  raw/Whitehouse/10Apr2007Whitehouse123.txt   \n",
       "1    10Apr2008Whitehouse2.txt    raw/Whitehouse/10Apr2008Whitehouse2.txt   \n",
       "2    10Apr2008Whitehouse3.txt    raw/Whitehouse/10Apr2008Whitehouse3.txt   \n",
       "3   10Aug2007Whitehouse78.txt   raw/Whitehouse/10Aug2007Whitehouse78.txt   \n",
       "4   10Jan2008Whitehouse35.txt   raw/Whitehouse/10Jan2008Whitehouse35.txt   \n",
       "\n",
       "                                                text  \n",
       "0  SEN. WHITEHOUSE SHARES WESTERLY GIRL'S STORY I...  \n",
       "1  SEN. WHITEHOUSE SAYS PRESIDENT BUSH MUST BEGIN...  \n",
       "2  EPA MUST REVIEW LEGAL PROCESS TO ROOT OUT POLI...  \n",
       "3  R.I. SENATORS PRAISE SEN. DENIAL OF LNG FACILI...  \n",
       "4  SEN. WHITEHOUSE COMMENTS ON ONE-YEAR ANNIVERSA...  "
      ]
     },
     "execution_count": 84,
     "metadata": {},
     "output_type": "execute_result"
    }
   ],
   "source": [
    "def getGithubFiles(target, maxFiles = 100):\n",
    "    #We are setting a max so our examples don't take too long to run\n",
    "    #For converting to a DataFrame\n",
    "    releasesDict = {\n",
    "        'name' : [], #The name of the file\n",
    "        'text' : [], #The text of the file, watch out for binary files\n",
    "        'path' : [], #The path in the git repo to the file\n",
    "        'html_url' : [], #The url to see the file on Github\n",
    "        'download_url' : [], #The url to download the file\n",
    "    }\n",
    "\n",
    "    #Get the directory information from Github\n",
    "    r = requests.get(target)\n",
    "    filesLst = json.loads(r.text)\n",
    "\n",
    "    for fileDict in filesLst[:maxFiles]:\n",
    "        #These are provided by the directory\n",
    "        releasesDict['name'].append(fileDict['name'])\n",
    "        releasesDict['path'].append(fileDict['path'])\n",
    "        releasesDict['html_url'].append(fileDict['html_url'])\n",
    "        releasesDict['download_url'].append(fileDict['download_url'])\n",
    "\n",
    "        #We need to download the text though\n",
    "        text = requests.get(fileDict['download_url']).text\n",
    "        releasesDict['text'].append(text)\n",
    "\n",
    "    return pandas.DataFrame(releasesDict)\n",
    "\n",
    "whReleases = getGithubFiles('https://api.github.com/repos/lintool/GrimmerSenatePressReleases/contents/raw/Whitehouse', maxFiles = 10)\n",
    "whReleases[:5]"
   ]
  },
  {
   "cell_type": "markdown",
   "metadata": {},
   "source": [
    "Now we have all the texts in a DataFrame we can look at a few things.\n",
    "\n",
    "First let's tokenize the texts with the same tokenizer as we used before, we will just save the tokens as a list for now, no need to convert to `Text`s."
   ]
  },
  {
   "cell_type": "code",
   "execution_count": 85,
   "metadata": {
    "collapsed": true
   },
   "outputs": [],
   "source": [
    "whReleases['tokenized_text'] = whReleases['text'].apply(lambda x: nltk.word_tokenize(x))"
   ]
  },
  {
   "cell_type": "markdown",
   "metadata": {},
   "source": [
    "Now lets see how long each of the press releases is"
   ]
  },
  {
   "cell_type": "code",
   "execution_count": 86,
   "metadata": {
    "collapsed": false
   },
   "outputs": [
    {
     "data": {
      "text/plain": [
       "0    397\n",
       "1    344\n",
       "2    553\n",
       "3    216\n",
       "4    257\n",
       "5    380\n",
       "6    270\n",
       "7    521\n",
       "8    484\n",
       "9    482\n",
       "Name: word_counts, dtype: int64"
      ]
     },
     "execution_count": 86,
     "metadata": {},
     "output_type": "execute_result"
    }
   ],
   "source": [
    "whReleases['word_counts'] = whReleases['tokenized_text'].apply(lambda x: len(x))\n",
    "whReleases['word_counts']"
   ]
  },
  {
   "cell_type": "markdown",
   "metadata": {},
   "source": [
    "As we want to start comparing the different releases we need to do a bit of normalizing. We first will make all the words lower case, drop the non-word tokens, then we can stem them and finally remove some stop words.\n",
    "\n",
    "To do this we will define a function to work over the tokenized lists, then use another apply to add the normalized tokens to a new column.\n",
    "\n",
    "Nltk has a built-in list of stopwords. They are already imported in the import section. Let's first take a look at what they are."
   ]
  },
  {
   "cell_type": "code",
   "execution_count": 122,
   "metadata": {
    "collapsed": false,
    "scrolled": false
   },
   "outputs": [
    {
     "name": "stdout",
     "output_type": "stream",
     "text": [
      "i, me, my, myself, we, our, ours, ourselves, you, your, yours, yourself, yourselves, he, him, his, himself, she, her, hers, herself, it, its, itself, they, them, their, theirs, themselves, what, which, who, whom, this, that, these, those, am, is, are, was, were, be, been, being, have, has, had, having, do, does, did, doing, a, an, the, and, but, if, or, because, as, until, while, of, at, by, for, with, about, against, between, into, through, during, before, after, above, below, to, from, up, down, in, out, on, off, over, under, again, further, then, once, here, there, when, where, why, how, all, any, both, each, few, more, most, other, some, such, no, nor, not, only, own, same, so, than, too, very, s, t, can, will, just, don, should, now, d, ll, m, o, re, ve, y, ain, aren, couldn, didn, doesn, hadn, hasn, haven, isn, ma, mightn, mustn, needn, shan, shouldn, wasn, weren, won, wouldn\n"
     ]
    }
   ],
   "source": [
    "print(', '.join(stopwords.words('english')))"
   ]
  },
  {
   "cell_type": "code",
   "execution_count": 88,
   "metadata": {
    "collapsed": false
   },
   "outputs": [
    {
     "data": {
      "text/html": [
       "<div>\n",
       "<table border=\"1\" class=\"dataframe\">\n",
       "  <thead>\n",
       "    <tr style=\"text-align: right;\">\n",
       "      <th></th>\n",
       "      <th>download_url</th>\n",
       "      <th>html_url</th>\n",
       "      <th>name</th>\n",
       "      <th>path</th>\n",
       "      <th>text</th>\n",
       "      <th>tokenized_text</th>\n",
       "      <th>word_counts</th>\n",
       "      <th>normalized_tokens</th>\n",
       "      <th>normalized_tokens_count</th>\n",
       "    </tr>\n",
       "  </thead>\n",
       "  <tbody>\n",
       "    <tr>\n",
       "      <th>0</th>\n",
       "      <td>https://raw.githubusercontent.com/lintool/Grim...</td>\n",
       "      <td>https://github.com/lintool/GrimmerSenatePressR...</td>\n",
       "      <td>10Apr2007Whitehouse123.txt</td>\n",
       "      <td>raw/Whitehouse/10Apr2007Whitehouse123.txt</td>\n",
       "      <td>SEN. WHITEHOUSE SHARES WESTERLY GIRL'S STORY I...</td>\n",
       "      <td>[SEN., WHITEHOUSE, SHARES, WESTERLY, GIRL, 'S,...</td>\n",
       "      <td>397</td>\n",
       "      <td>[whitehous, share, westerli, girl, stori, push...</td>\n",
       "      <td>231</td>\n",
       "    </tr>\n",
       "    <tr>\n",
       "      <th>1</th>\n",
       "      <td>https://raw.githubusercontent.com/lintool/Grim...</td>\n",
       "      <td>https://github.com/lintool/GrimmerSenatePressR...</td>\n",
       "      <td>10Apr2008Whitehouse2.txt</td>\n",
       "      <td>raw/Whitehouse/10Apr2008Whitehouse2.txt</td>\n",
       "      <td>SEN. WHITEHOUSE SAYS PRESIDENT BUSH MUST BEGIN...</td>\n",
       "      <td>[SEN., WHITEHOUSE, SAYS, PRESIDENT, BUSH, MUST...</td>\n",
       "      <td>344</td>\n",
       "      <td>[whitehous, say, presid, bush, must, begin, br...</td>\n",
       "      <td>171</td>\n",
       "    </tr>\n",
       "    <tr>\n",
       "      <th>2</th>\n",
       "      <td>https://raw.githubusercontent.com/lintool/Grim...</td>\n",
       "      <td>https://github.com/lintool/GrimmerSenatePressR...</td>\n",
       "      <td>10Apr2008Whitehouse3.txt</td>\n",
       "      <td>raw/Whitehouse/10Apr2008Whitehouse3.txt</td>\n",
       "      <td>EPA MUST REVIEW LEGAL PROCESS TO ROOT OUT POLI...</td>\n",
       "      <td>[EPA, MUST, REVIEW, LEGAL, PROCESS, TO, ROOT, ...</td>\n",
       "      <td>553</td>\n",
       "      <td>[epa, must, review, legal, process, root, poli...</td>\n",
       "      <td>305</td>\n",
       "    </tr>\n",
       "    <tr>\n",
       "      <th>3</th>\n",
       "      <td>https://raw.githubusercontent.com/lintool/Grim...</td>\n",
       "      <td>https://github.com/lintool/GrimmerSenatePressR...</td>\n",
       "      <td>10Aug2007Whitehouse78.txt</td>\n",
       "      <td>raw/Whitehouse/10Aug2007Whitehouse78.txt</td>\n",
       "      <td>R.I. SENATORS PRAISE SEN. DENIAL OF LNG FACILI...</td>\n",
       "      <td>[R.I, ., SENATORS, PRAISE, SEN, ., DENIAL, OF,...</td>\n",
       "      <td>216</td>\n",
       "      <td>[senat, prais, sen, denial, lng, facil, permit...</td>\n",
       "      <td>115</td>\n",
       "    </tr>\n",
       "    <tr>\n",
       "      <th>4</th>\n",
       "      <td>https://raw.githubusercontent.com/lintool/Grim...</td>\n",
       "      <td>https://github.com/lintool/GrimmerSenatePressR...</td>\n",
       "      <td>10Jan2008Whitehouse35.txt</td>\n",
       "      <td>raw/Whitehouse/10Jan2008Whitehouse35.txt</td>\n",
       "      <td>SEN. WHITEHOUSE COMMENTS ON ONE-YEAR ANNIVERSA...</td>\n",
       "      <td>[SEN., WHITEHOUSE, COMMENTS, ON, ONE-YEAR, ANN...</td>\n",
       "      <td>257</td>\n",
       "      <td>[whitehous, comment, anniversari, presid, bush...</td>\n",
       "      <td>132</td>\n",
       "    </tr>\n",
       "    <tr>\n",
       "      <th>5</th>\n",
       "      <td>https://raw.githubusercontent.com/lintool/Grim...</td>\n",
       "      <td>https://github.com/lintool/GrimmerSenatePressR...</td>\n",
       "      <td>10Mar2008Whitehouse8.txt</td>\n",
       "      <td>raw/Whitehouse/10Mar2008Whitehouse8.txt</td>\n",
       "      <td>SENS. REED, WHITEHOUSE WELCOME RHODE ISLAND ST...</td>\n",
       "      <td>[SENS, ., REED, ,, WHITEHOUSE, WELCOME, RHODE,...</td>\n",
       "      <td>380</td>\n",
       "      <td>[sen, reed, whitehous, welcom, rhode, island, ...</td>\n",
       "      <td>195</td>\n",
       "    </tr>\n",
       "    <tr>\n",
       "      <th>6</th>\n",
       "      <td>https://raw.githubusercontent.com/lintool/Grim...</td>\n",
       "      <td>https://github.com/lintool/GrimmerSenatePressR...</td>\n",
       "      <td>10Sep2007Whitehouse72.txt</td>\n",
       "      <td>raw/Whitehouse/10Sep2007Whitehouse72.txt</td>\n",
       "      <td>REP. WHITEHOUSE ISSUES STATEMENT ON GEN. PETRA...</td>\n",
       "      <td>[REP., WHITEHOUSE, ISSUES, STATEMENT, ON, GEN....</td>\n",
       "      <td>270</td>\n",
       "      <td>[whitehous, issu, statement, petraeu, iraq, re...</td>\n",
       "      <td>118</td>\n",
       "    </tr>\n",
       "    <tr>\n",
       "      <th>7</th>\n",
       "      <td>https://raw.githubusercontent.com/lintool/Grim...</td>\n",
       "      <td>https://github.com/lintool/GrimmerSenatePressR...</td>\n",
       "      <td>11Apr2007Whitehouse122.txt</td>\n",
       "      <td>raw/Whitehouse/11Apr2007Whitehouse122.txt</td>\n",
       "      <td>SEN. WHITEHOUSE URGES BUSH FOR NEW DIRECTION I...</td>\n",
       "      <td>[SEN., WHITEHOUSE, URGES, BUSH, FOR, NEW, DIRE...</td>\n",
       "      <td>521</td>\n",
       "      <td>[whitehous, urg, bush, new, direct, iraq, shel...</td>\n",
       "      <td>257</td>\n",
       "    </tr>\n",
       "    <tr>\n",
       "      <th>8</th>\n",
       "      <td>https://raw.githubusercontent.com/lintool/Grim...</td>\n",
       "      <td>https://github.com/lintool/GrimmerSenatePressR...</td>\n",
       "      <td>11Jan2007Whitehouse161.txt</td>\n",
       "      <td>raw/Whitehouse/11Jan2007Whitehouse161.txt</td>\n",
       "      <td>SENS. REED, WHITEHOUSE URGE PORTUGAL TO RECONS...</td>\n",
       "      <td>[SENS, ., REED, ,, WHITEHOUSE, URGE, PORTUGAL,...</td>\n",
       "      <td>484</td>\n",
       "      <td>[sen, reed, whitehous, urg, portug, reconsid, ...</td>\n",
       "      <td>254</td>\n",
       "    </tr>\n",
       "    <tr>\n",
       "      <th>9</th>\n",
       "      <td>https://raw.githubusercontent.com/lintool/Grim...</td>\n",
       "      <td>https://github.com/lintool/GrimmerSenatePressR...</td>\n",
       "      <td>11Mar2008Whitehouse7.txt</td>\n",
       "      <td>raw/Whitehouse/11Mar2008Whitehouse7.txt</td>\n",
       "      <td>WHITEHOUSE UNVEILS 'BUSH DEBT': $7.7 TRILLION ...</td>\n",
       "      <td>[WHITEHOUSE, UNVEILS, 'BUSH, DEBT, ', :, $, 7....</td>\n",
       "      <td>482</td>\n",
       "      <td>[whitehous, unveil, debt, trillion, foregon, s...</td>\n",
       "      <td>260</td>\n",
       "    </tr>\n",
       "  </tbody>\n",
       "</table>\n",
       "</div>"
      ],
      "text/plain": [
       "                                        download_url  \\\n",
       "0  https://raw.githubusercontent.com/lintool/Grim...   \n",
       "1  https://raw.githubusercontent.com/lintool/Grim...   \n",
       "2  https://raw.githubusercontent.com/lintool/Grim...   \n",
       "3  https://raw.githubusercontent.com/lintool/Grim...   \n",
       "4  https://raw.githubusercontent.com/lintool/Grim...   \n",
       "5  https://raw.githubusercontent.com/lintool/Grim...   \n",
       "6  https://raw.githubusercontent.com/lintool/Grim...   \n",
       "7  https://raw.githubusercontent.com/lintool/Grim...   \n",
       "8  https://raw.githubusercontent.com/lintool/Grim...   \n",
       "9  https://raw.githubusercontent.com/lintool/Grim...   \n",
       "\n",
       "                                            html_url  \\\n",
       "0  https://github.com/lintool/GrimmerSenatePressR...   \n",
       "1  https://github.com/lintool/GrimmerSenatePressR...   \n",
       "2  https://github.com/lintool/GrimmerSenatePressR...   \n",
       "3  https://github.com/lintool/GrimmerSenatePressR...   \n",
       "4  https://github.com/lintool/GrimmerSenatePressR...   \n",
       "5  https://github.com/lintool/GrimmerSenatePressR...   \n",
       "6  https://github.com/lintool/GrimmerSenatePressR...   \n",
       "7  https://github.com/lintool/GrimmerSenatePressR...   \n",
       "8  https://github.com/lintool/GrimmerSenatePressR...   \n",
       "9  https://github.com/lintool/GrimmerSenatePressR...   \n",
       "\n",
       "                         name                                       path  \\\n",
       "0  10Apr2007Whitehouse123.txt  raw/Whitehouse/10Apr2007Whitehouse123.txt   \n",
       "1    10Apr2008Whitehouse2.txt    raw/Whitehouse/10Apr2008Whitehouse2.txt   \n",
       "2    10Apr2008Whitehouse3.txt    raw/Whitehouse/10Apr2008Whitehouse3.txt   \n",
       "3   10Aug2007Whitehouse78.txt   raw/Whitehouse/10Aug2007Whitehouse78.txt   \n",
       "4   10Jan2008Whitehouse35.txt   raw/Whitehouse/10Jan2008Whitehouse35.txt   \n",
       "5    10Mar2008Whitehouse8.txt    raw/Whitehouse/10Mar2008Whitehouse8.txt   \n",
       "6   10Sep2007Whitehouse72.txt   raw/Whitehouse/10Sep2007Whitehouse72.txt   \n",
       "7  11Apr2007Whitehouse122.txt  raw/Whitehouse/11Apr2007Whitehouse122.txt   \n",
       "8  11Jan2007Whitehouse161.txt  raw/Whitehouse/11Jan2007Whitehouse161.txt   \n",
       "9    11Mar2008Whitehouse7.txt    raw/Whitehouse/11Mar2008Whitehouse7.txt   \n",
       "\n",
       "                                                text  \\\n",
       "0  SEN. WHITEHOUSE SHARES WESTERLY GIRL'S STORY I...   \n",
       "1  SEN. WHITEHOUSE SAYS PRESIDENT BUSH MUST BEGIN...   \n",
       "2  EPA MUST REVIEW LEGAL PROCESS TO ROOT OUT POLI...   \n",
       "3  R.I. SENATORS PRAISE SEN. DENIAL OF LNG FACILI...   \n",
       "4  SEN. WHITEHOUSE COMMENTS ON ONE-YEAR ANNIVERSA...   \n",
       "5  SENS. REED, WHITEHOUSE WELCOME RHODE ISLAND ST...   \n",
       "6  REP. WHITEHOUSE ISSUES STATEMENT ON GEN. PETRA...   \n",
       "7  SEN. WHITEHOUSE URGES BUSH FOR NEW DIRECTION I...   \n",
       "8  SENS. REED, WHITEHOUSE URGE PORTUGAL TO RECONS...   \n",
       "9  WHITEHOUSE UNVEILS 'BUSH DEBT': $7.7 TRILLION ...   \n",
       "\n",
       "                                      tokenized_text  word_counts  \\\n",
       "0  [SEN., WHITEHOUSE, SHARES, WESTERLY, GIRL, 'S,...          397   \n",
       "1  [SEN., WHITEHOUSE, SAYS, PRESIDENT, BUSH, MUST...          344   \n",
       "2  [EPA, MUST, REVIEW, LEGAL, PROCESS, TO, ROOT, ...          553   \n",
       "3  [R.I, ., SENATORS, PRAISE, SEN, ., DENIAL, OF,...          216   \n",
       "4  [SEN., WHITEHOUSE, COMMENTS, ON, ONE-YEAR, ANN...          257   \n",
       "5  [SENS, ., REED, ,, WHITEHOUSE, WELCOME, RHODE,...          380   \n",
       "6  [REP., WHITEHOUSE, ISSUES, STATEMENT, ON, GEN....          270   \n",
       "7  [SEN., WHITEHOUSE, URGES, BUSH, FOR, NEW, DIRE...          521   \n",
       "8  [SENS, ., REED, ,, WHITEHOUSE, URGE, PORTUGAL,...          484   \n",
       "9  [WHITEHOUSE, UNVEILS, 'BUSH, DEBT, ', :, $, 7....          482   \n",
       "\n",
       "                                   normalized_tokens  normalized_tokens_count  \n",
       "0  [whitehous, share, westerli, girl, stori, push...                      231  \n",
       "1  [whitehous, say, presid, bush, must, begin, br...                      171  \n",
       "2  [epa, must, review, legal, process, root, poli...                      305  \n",
       "3  [senat, prais, sen, denial, lng, facil, permit...                      115  \n",
       "4  [whitehous, comment, anniversari, presid, bush...                      132  \n",
       "5  [sen, reed, whitehous, welcom, rhode, island, ...                      195  \n",
       "6  [whitehous, issu, statement, petraeu, iraq, re...                      118  \n",
       "7  [whitehous, urg, bush, new, direct, iraq, shel...                      257  \n",
       "8  [sen, reed, whitehous, urg, portug, reconsid, ...                      254  \n",
       "9  [whitehous, unveil, debt, trillion, foregon, s...                      260  "
      ]
     },
     "execution_count": 88,
     "metadata": {},
     "output_type": "execute_result"
    }
   ],
   "source": [
    "stop_words = stopwords.words('english')\n",
    "#stop_words = [\"the\",\"it\",\"she\",\"he\", \"a\"] #Uncomment this line if you want to use your own list of stopwords.\n",
    "\n",
    "#The stemmer needs to be initialized before bing run\n",
    "porter = nltk.stem.porter.PorterStemmer()\n",
    "snowball = nltk.stem.snowball.SnowballStemmer('english')\n",
    "\n",
    "def normlizeTokens(tokenLst, stopwordLst = stop_words, stemmer = porter):\n",
    "    #We can use a generator here as we just need to iterate over it\n",
    "\n",
    "    #Lowering the case and removing non-words\n",
    "    workingIter = (w.lower() for w in tokenLst if w.isalpha())\n",
    "\n",
    "    #Now we can use it\n",
    "    workingIter = (stemmer.stem(w) for w in workingIter)\n",
    "\n",
    "    #We will return a list with the stopwords removed\n",
    "    return [w for w in workingIter if w not in stopwordLst]\n",
    "\n",
    "whReleases['normalized_tokens'] = whReleases['tokenized_text'].apply(lambda x: normlizeTokens(x))\n",
    "\n",
    "whReleases['normalized_tokens_count'] = whReleases['normalized_tokens'].apply(lambda x: len(x))\n",
    "\n",
    "whReleases"
   ]
  },
  {
   "cell_type": "markdown",
   "metadata": {},
   "source": [
    "The stemmer we use here is called the [Porter Stemmer](http://www.nltk.org/api/nltk.stem.html#module-nltk.stem.porter), there are many others, including another good one by the same person (Martin Porter) called the [Snowball Stemmer](http://www.nltk.org/api/nltk.stem.html#module-nltk.stem.snowball).\n",
    "\n",
    "Now that it is cleaned we start analyzing the dataset. We can start by finding frequency disruptions for the dataset. Lets start looking at all the press releases together. The[`ConditionalFreqDist`](http://www.nltk.org/api/nltk.html#nltk.probability.ConditionalProbDist) class reads in a iterable of tuples, the first element is the condition and the second the word, for now we will use word lengths as the conditions, but tags or clusters would provide more useful results."
   ]
  },
  {
   "cell_type": "code",
   "execution_count": 89,
   "metadata": {
    "collapsed": false
   },
   "outputs": [
    {
     "name": "stdout",
     "output_type": "stream",
     "text": [
      "2038\n"
     ]
    }
   ],
   "source": [
    "#.sum() adds together the lists from each row into a single list\n",
    "whcfdist = nltk.ConditionalFreqDist(((len(w), w) for w in whReleases['normalized_tokens'].sum()))\n",
    "\n",
    "#print the number of words\n",
    "print(whcfdist.N())"
   ]
  },
  {
   "cell_type": "markdown",
   "metadata": {},
   "source": [
    "From this we can lookup the distributions of different word lengths"
   ]
  },
  {
   "cell_type": "code",
   "execution_count": 90,
   "metadata": {
    "collapsed": false
   },
   "outputs": [
    {
     "data": {
      "image/png": "[encoded data removed]",
      "text/plain": [
       "<matplotlib.figure.Figure at 0x11f8b37b8>"
      ]
     },
     "metadata": {},
     "output_type": "display_data"
    }
   ],
   "source": [
    "whcfdist[3].plot()"
   ]
  },
  {
   "cell_type": "markdown",
   "metadata": {},
   "source": [
    "See that the most frequent 3-character word is \"thi\". But what is \"thi\"? It is actually \"this\" stemmed by the Porter Stemmer. "
   ]
  },
  {
   "cell_type": "code",
   "execution_count": 91,
   "metadata": {
    "collapsed": false
   },
   "outputs": [
    {
     "name": "stdout",
     "output_type": "stream",
     "text": [
      "thi\n"
     ]
    }
   ],
   "source": [
    "porter = nltk.stem.porter.PorterStemmer()\n",
    "print (porter.stem('this'))"
   ]
  },
  {
   "cell_type": "markdown",
   "metadata": {},
   "source": [
    "Let's try with the Snowball Stemer. See that \"this\" is corretly stemmed as a 4-character word. "
   ]
  },
  {
   "cell_type": "code",
   "execution_count": 92,
   "metadata": {
    "collapsed": false
   },
   "outputs": [
    {
     "name": "stdout",
     "output_type": "stream",
     "text": [
      "this\n"
     ]
    },
    {
     "data": {
      "image/png": "[encoded data removed]",
      "text/plain": [
       "<matplotlib.figure.Figure at 0x113b6ba20>"
      ]
     },
     "metadata": {},
     "output_type": "display_data"
    }
   ],
   "source": [
    "print (snowball.stem('this'))\n",
    "\n",
    "whReleases['normalized_tokens'] = whReleases['tokenized_text'].apply(lambda x: normlizeTokens(x, stemmer = snowball))\n",
    "whReleases['normalized_tokens_count'] = whReleases['normalized_tokens'].apply(lambda x: len(x))\n",
    "whcfdist = nltk.ConditionalFreqDist(((len(w), w) for w in whReleases['normalized_tokens'].sum()))\n",
    "whcfdist[3].plot()"
   ]
  },
  {
   "cell_type": "markdown",
   "metadata": {},
   "source": [
    "We can also create a [`ConditionalProbDist`](http://www.nltk.org/api/nltk.html#nltk.probability.ConditionalProbDist) from the `ConditionalFreqDist`, to do this though we need a model for the probability distribution. A simple model is [`ELEProbDist`](http://www.nltk.org/api/nltk.html#nltk.probability.ELEProbDist) which gives the expected likelihood estimate."
   ]
  },
  {
   "cell_type": "code",
   "execution_count": 93,
   "metadata": {
    "collapsed": false
   },
   "outputs": [
    {
     "name": "stdout",
     "output_type": "stream",
     "text": [
      "us\n",
      "0.6470588235294118\n"
     ]
    }
   ],
   "source": [
    "whcpdist = nltk.ConditionalProbDist(whcfdist, nltk.ELEProbDist)\n",
    "\n",
    "#print the most common 2 letter word\n",
    "print(whcpdist[2].max())\n",
    "\n",
    "#And its probability\n",
    "print(whcpdist[2].prob(whcpdist[2].max()))"
   ]
  },
  {
   "cell_type": "markdown",
   "metadata": {},
   "source": [
    "Word lengths are a good start but there are many more Important features we care about. To start with we will be classifying words with their part of speech (POS), using the [`nltk.pos_tag()`](http://www.nltk.org/api/nltk.tag.html#nltk.tag.pos_tag)."
   ]
  },
  {
   "cell_type": "code",
   "execution_count": 94,
   "metadata": {
    "collapsed": true
   },
   "outputs": [],
   "source": [
    "whReleases['normalized_tokens_POS'] = [nltk.pos_tag(t) for t in whReleases['normalized_tokens']]"
   ]
  },
  {
   "cell_type": "markdown",
   "metadata": {},
   "source": [
    "This gives us a new column with the part of speech as a short initialism and the word in a tuple, exactly how the `nltk.ConditionalFreqDist()` function wants them. We can now make another conditional frequency distribution."
   ]
  },
  {
   "cell_type": "code",
   "execution_count": 95,
   "metadata": {
    "collapsed": false
   },
   "outputs": [
    {
     "data": {
      "text/plain": [
       "[('futur', FreqDist({'JJ': 1, 'NN': 2})),\n",
       " ('sourc', FreqDist({'NN': 3})),\n",
       " ('announc', FreqDist({'JJ': 2, 'NN': 1, 'VB': 2})),\n",
       " ('yesterday', FreqDist({'NN': 1})),\n",
       " ('strongest', FreqDist({'JJS': 2})),\n",
       " ('life', FreqDist({'NN': 1})),\n",
       " ('around', FreqDist({'RP': 1})),\n",
       " ('million', FreqDist({'CD': 2})),\n",
       " ('dollar', FreqDist({'NN': 2})),\n",
       " ('reed', FreqDist({'JJ': 1, 'NN': 5, 'VBP': 2}))]"
      ]
     },
     "execution_count": 95,
     "metadata": {},
     "output_type": "execute_result"
    }
   ],
   "source": [
    "whcfdist_WordtoPOS = nltk.ConditionalFreqDist(whReleases['normalized_tokens_POS'].sum())\n",
    "list(whcfdist_WordtoPOS.items())[:10]"
   ]
  },
  {
   "cell_type": "markdown",
   "metadata": {},
   "source": [
    "This gives the frequency of each word being each part of speech, which is usually quite boring."
   ]
  },
  {
   "cell_type": "code",
   "execution_count": 96,
   "metadata": {
    "collapsed": false
   },
   "outputs": [
    {
     "data": {
      "image/png": "[encoded data removed]",
      "text/plain": [
       "<matplotlib.figure.Figure at 0x1137bdef0>"
      ]
     },
     "metadata": {},
     "output_type": "display_data"
    }
   ],
   "source": [
    "whcfdist_WordtoPOS['administr'].plot()"
   ]
  },
  {
   "cell_type": "markdown",
   "metadata": {},
   "source": [
    "What we want is the the other direction, the frequency of each part of speech for each word."
   ]
  },
  {
   "cell_type": "code",
   "execution_count": 97,
   "metadata": {
    "collapsed": true
   },
   "outputs": [],
   "source": [
    "whcfdist_POStoWord = nltk.ConditionalFreqDist((p, w) for w, p in whReleases['normalized_tokens_POS'].sum())"
   ]
  },
  {
   "cell_type": "markdown",
   "metadata": {},
   "source": [
    "We can now get all of the superlative adjectives"
   ]
  },
  {
   "cell_type": "code",
   "execution_count": 98,
   "metadata": {
    "collapsed": false
   },
   "outputs": [
    {
     "data": {
      "text/plain": [
       "FreqDist({'best': 1, 'strongest': 2})"
      ]
     },
     "execution_count": 98,
     "metadata": {},
     "output_type": "execute_result"
    }
   ],
   "source": [
    "whcfdist_POStoWord['JJS']"
   ]
  },
  {
   "cell_type": "markdown",
   "metadata": {},
   "source": [
    "Or look at the most common nouns"
   ]
  },
  {
   "cell_type": "code",
   "execution_count": 99,
   "metadata": {
    "collapsed": false
   },
   "outputs": [
    {
     "data": {
      "text/plain": [
       "[('bush', 24), ('presid', 23), ('iraq', 22), ('island', 18), ('rhode', 18)]"
      ]
     },
     "execution_count": 99,
     "metadata": {},
     "output_type": "execute_result"
    }
   ],
   "source": [
    "whcfdist_POStoWord['NN'].most_common(5)"
   ]
  },
  {
   "cell_type": "markdown",
   "metadata": {},
   "source": [
    "Or plot the base form verbs against their number of occurrences"
   ]
  },
  {
   "cell_type": "code",
   "execution_count": 100,
   "metadata": {
    "collapsed": false
   },
   "outputs": [
    {
     "data": {
      "image/png": "[encoded data removed]",
      "text/plain": [
       "<matplotlib.figure.Figure at 0x1152127f0>"
      ]
     },
     "metadata": {},
     "output_type": "display_data"
    }
   ],
   "source": [
    "whcfdist_POStoWord['VB'].plot()"
   ]
  },
  {
   "cell_type": "markdown",
   "metadata": {},
   "source": [
    "We can then do a similar analysis of the probabilities"
   ]
  },
  {
   "cell_type": "code",
   "execution_count": 101,
   "metadata": {
    "collapsed": false
   },
   "outputs": [
    {
     "name": "stdout",
     "output_type": "stream",
     "text": [
      "bush\n",
      "0.01786365293474298\n"
     ]
    }
   ],
   "source": [
    "whcpdist_POStoWord = nltk.ConditionalProbDist(whcfdist_POStoWord, nltk.ELEProbDist)\n",
    "\n",
    "#print the most common nouns\n",
    "print(whcpdist_POStoWord['NN'].max())\n",
    "\n",
    "#And its probability\n",
    "print(whcpdist_POStoWord['NN'].prob(whcpdist_POStoWord['NN'].max()))"
   ]
  },
  {
   "cell_type": "code",
   "execution_count": 102,
   "metadata": {
    "collapsed": false
   },
   "outputs": [
    {
     "data": {
      "image/png": "[encoded data removed]",
      "text/plain": [
       "<matplotlib.figure.Figure at 0x114bdff60>"
      ]
     },
     "metadata": {},
     "output_type": "display_data"
    }
   ],
   "source": [
    "wc = wordcloud.WordCloud(background_color=\"white\", max_words=500, width= 1000, height = 1000, mode ='RGBA', scale=.5).generate(' '.join(whReleases['normalized_tokens'].sum()))\n",
    "plt.imshow(wc)\n",
    "plt.axis(\"off\")\n",
    "plt.savefig(\"whitehouse_word_cloud.pdf\", format = 'pdf')"
   ]
  },
  {
   "cell_type": "markdown",
   "metadata": {},
   "source": [
    "# Collocations"
   ]
  },
  {
   "cell_type": "markdown",
   "metadata": {},
   "source": [
    "We also might want to find significant bigrams and trigrams. To do this we will use the [`nltk.collocations.BigramCollocationFinder`](http://www.nltk.org/api/nltk.html?highlight=bigramcollocationfinder#nltk.collocations.BigramCollocationFinder) class, which can be given raw lists of strings with the `from_words()` method. By default it only looks at continuous bigrams but there is an option (`window_size`) to allow skip-gram."
   ]
  },
  {
   "cell_type": "code",
   "execution_count": 103,
   "metadata": {
    "collapsed": false
   },
   "outputs": [
    {
     "name": "stdout",
     "output_type": "stream",
     "text": [
      "There are 1999 bigrams in the finder\n"
     ]
    }
   ],
   "source": [
    "whBigrams = nltk.collocations.BigramCollocationFinder.from_words(whReleases['normalized_tokens'].sum())\n",
    "print(\"There are {} bigrams in the finder\".format(whBigrams.N))"
   ]
  },
  {
   "cell_type": "markdown",
   "metadata": {},
   "source": [
    "There are a lot of bigrams, but most of them only occur once, we should first filter our set to remove some of the least common."
   ]
  },
  {
   "cell_type": "code",
   "execution_count": 104,
   "metadata": {
    "collapsed": false
   },
   "outputs": [
    {
     "name": "stdout",
     "output_type": "stream",
     "text": [
      "There are 1999 bigrams in the finder\n"
     ]
    }
   ],
   "source": [
    "#This modifies the finder inplace\n",
    "whBigrams.apply_freq_filter(2)\n",
    "print(\"There are {} bigrams in the finder\".format(whBigrams.N))"
   ]
  },
  {
   "cell_type": "markdown",
   "metadata": {},
   "source": [
    "To compare the bigrams we need to tell nltk what our score function is, for now we will just look at the raw counts."
   ]
  },
  {
   "cell_type": "code",
   "execution_count": 105,
   "metadata": {
    "collapsed": false
   },
   "outputs": [
    {
     "name": "stdout",
     "output_type": "stream",
     "text": [
      "[('rhode', 'island'), ('presid', 'bush'), ('sheldon', 'whitehous'), ('stem', 'cell'), ('whitehous', 'said'), ('bush', 'administr'), ('american', 'peopl'), ('bring', 'troop'), ('senat', 'sheldon'), ('troop', 'home')]\n"
     ]
    }
   ],
   "source": [
    "def bigramScoring(count, wordsTuple, total):\n",
    "    return count\n",
    "\n",
    "print(whBigrams.nbest(bigramScoring, 10))"
   ]
  },
  {
   "cell_type": "markdown",
   "metadata": {},
   "source": [
    "One note about how `BigramCollocationFinder` works, it doesn't use the strings internally."
   ]
  },
  {
   "cell_type": "code",
   "execution_count": 129,
   "metadata": {
    "collapsed": false
   },
   "outputs": [
    {
     "name": "stdout",
     "output_type": "stream",
     "text": [
      "The first word is:  6, The second word is: 24\n",
      "The first word is:  5, The second word is: 4\n",
      "The first word is:  20, The second word is: 20\n",
      "The first word is:  15, The second word is: 30\n",
      "The first word is:  14, The second word is: 3\n",
      "The first word is:  8, The second word is: 12\n",
      "The first word is:  6, The second word is: 2\n",
      "The first word is:  14, The second word is: 6\n",
      "The first word is:  40, The second word is: 11\n",
      "The first word is:  6, The second word is: 16\n"
     ]
    }
   ],
   "source": [
    "birgramScores = []\n",
    "\n",
    "def bigramPrinting(count, wordsTuple, total):\n",
    "    global birgramScores\n",
    "    birgramScores.append(\"The first word is:  {}, The second word is: {}\".format(*wordsTuple))\n",
    "    #Returns None so all the tuples are considered to have the same rank\n",
    "\n",
    "whBigrams.nbest(bigramPrinting, 10)\n",
    "print('\\n'.join(birgramScores[:10]))"
   ]
  },
  {
   "cell_type": "markdown",
   "metadata": {},
   "source": [
    "The words are each given numeric IDs and there is a dictionary that maps the IDs to the words they represent, this is a common performance optimization.\n",
    "\n",
    "Two words can appear together by chance. Recall from  Manning and Schütze's textbook that a t-value can be computed for each bigram to see how significant the association is. You may also want to try computing the chi square and likelihood ratio statisitcs. "
   ]
  },
  {
   "cell_type": "code",
   "execution_count": 107,
   "metadata": {
    "collapsed": false
   },
   "outputs": [
    {
     "data": {
      "text/plain": [
       "[(('rhode', 'island'), 4.427392223583876),\n",
       " (('presid', 'bush'), 4.136521610402945),\n",
       " (('stem', 'cell'), 3.443306607943331),\n",
       " (('sheldon', 'whitehous'), 3.3947849244896755),\n",
       " (('whitehous', 'said'), 2.893279973319993),\n",
       " (('bush', 'administr'), 2.5720113688566872),\n",
       " (('unit', 'state'), 2.433560094631012),\n",
       " (('american', 'peopl'), 2.409052943627678),\n",
       " (('bring', 'troop'), 2.405376870977178),\n",
       " (('troop', 'home'), 2.3857711501745116),\n",
       " (('senat', 'sheldon'), 2.3808697199738447),\n",
       " (('cell', 'research'), 2.2119063625353097),\n",
       " (('jack', 'reed'), 1.9919959979989994),\n",
       " (('come', 'home'), 1.9837418709354677),\n",
       " (('consul', 'provid'), 1.9579789894947475),\n",
       " (('said', 'today'), 1.9399699849924963),\n",
       " (('state', 'senat'), 1.9089544772386193),\n",
       " (('whitehous', 'also'), 1.8899449724862432),\n",
       " (('american', 'troop'), 1.8679339669834918),\n",
       " (('honor', 'societi'), 1.7294514316695746),\n",
       " (('youth', 'program'), 1.7277185144033727),\n",
       " (('potenti', 'close'), 1.7262744166815374),\n",
       " (('budget', 'resolut'), 1.7251191385040694),\n",
       " (('epw', 'committe'), 1.7251191385040694),\n",
       " (('chang', 'cours'), 1.7248303189597025),\n",
       " (('year', 'ago'), 1.7135663567293897),\n",
       " (('new', 'direct'), 1.7077899658420497),\n",
       " (('senat', 'youth'), 1.7077899658420497),\n",
       " (('reed', 'sheldon'), 1.7043241313096456),\n",
       " (('provid', 'consul'), 1.6835291241152222),\n",
       " (('senat', 'budget'), 1.6835291241152222),\n",
       " (('direct', 'iraq'), 1.6765974550504141),\n",
       " (('member', 'senat'), 1.6269204934192907),\n",
       " (('home', 'iraq'), 1.611901877112207),\n",
       " (('whitehous', 'member'), 1.581864644498039),\n",
       " (('said', 'whitehous'), 1.5472062991739997),\n",
       " (('district', 'columbia'), 1.4127986413502103),\n",
       " (('humpti', 'dumpti'), 1.4127986413502103),\n",
       " (('jose', 'socrat'), 1.4127986413502103),\n",
       " (('prime', 'minist'), 1.4127986413502103)]"
      ]
     },
     "execution_count": 107,
     "metadata": {},
     "output_type": "execute_result"
    }
   ],
   "source": [
    "bigram_measures = nltk.collocations.BigramAssocMeasures()\n",
    "whBigrams.score_ngrams(bigram_measures.student_t)[:40]\n",
    "# options include student_t, lr, "
   ]
  },
  {
   "cell_type": "markdown",
   "metadata": {},
   "source": [
    "Exercise: In Manning and Schütze's textbook, there is a section (section 5.3.2) on how to use the t-test to find words whose co-occurance patterns that best distinguish two words. Can you implement that? For instance, can you tell what words come after \"America\" a lot but not so often after \"Iraq\"? "
   ]
  },
  {
   "cell_type": "markdown",
   "metadata": {},
   "source": [
    "# KL Divergence\n",
    "\n",
    "If we want to compare across the different corpus one of the places to start is Kullback-Leibler divergence, which computes the relative entropy between two distributions. \n",
    "\n",
    "Recall that given two discrete probability distributions $P$ and $Q$, the Kullback-Leibler divergence from $Q$ to $P$ is defined as:\n",
    "\n",
    "$D_{\\mathrm{KL}}(P\\|Q) = \\sum_i P(i) \\, \\log\\frac{P(i)}{Q(i)}$.\n",
    "\n",
    "The [scipy.stats.entropy()](https://docs.scipy.org/doc/scipy/reference/generated/scipy.stats.entropy.html) function does the calculation for you, which takes in two arrays of probabilities and computes the KL divergence. Note that the KL divergence is in general not commutative, i.e. $D_{\\mathrm{KL}}(P\\|Q) \\neq D_{\\mathrm{KL}}(Q\\|P)$ .\n",
    "\n",
    "Also note that the KL divernce is the sum of elementwise divergences. Scipy provides [scipy.special.kl_div()](https://docs.scipy.org/doc/scipy/reference/generated/scipy.special.kl_div.html#scipy-special-kl-div) which calculates elementwise divergences for you.\n",
    "\n",
    "To do this we will need to create the arrays, lets compare the Whitehouse releases with the Kennedy releases. First we have to download them and load them into a DataFrame."
   ]
  },
  {
   "cell_type": "code",
   "execution_count": 108,
   "metadata": {
    "collapsed": false
   },
   "outputs": [
    {
     "data": {
      "text/html": [
       "<div>\n",
       "<table border=\"1\" class=\"dataframe\">\n",
       "  <thead>\n",
       "    <tr style=\"text-align: right;\">\n",
       "      <th></th>\n",
       "      <th>download_url</th>\n",
       "      <th>html_url</th>\n",
       "      <th>name</th>\n",
       "      <th>path</th>\n",
       "      <th>text</th>\n",
       "    </tr>\n",
       "  </thead>\n",
       "  <tbody>\n",
       "    <tr>\n",
       "      <th>0</th>\n",
       "      <td>https://raw.githubusercontent.com/lintool/Grim...</td>\n",
       "      <td>https://github.com/lintool/GrimmerSenatePressR...</td>\n",
       "      <td>01Apr2005Kennedy14.txt</td>\n",
       "      <td>raw/Kennedy/01Apr2005Kennedy14.txt</td>\n",
       "      <td>FOR IMMEDIATE RELEASE   FOR IMMEDIATE...</td>\n",
       "    </tr>\n",
       "    <tr>\n",
       "      <th>1</th>\n",
       "      <td>https://raw.githubusercontent.com/lintool/Grim...</td>\n",
       "      <td>https://github.com/lintool/GrimmerSenatePressR...</td>\n",
       "      <td>01Aug2005Kennedy12.txt</td>\n",
       "      <td>raw/Kennedy/01Aug2005Kennedy12.txt</td>\n",
       "      <td>FOR IMMEDIATE RELEASE   FOR IMMEDIATE...</td>\n",
       "    </tr>\n",
       "    <tr>\n",
       "      <th>2</th>\n",
       "      <td>https://raw.githubusercontent.com/lintool/Grim...</td>\n",
       "      <td>https://github.com/lintool/GrimmerSenatePressR...</td>\n",
       "      <td>01Aug2006Kennedy10.txt</td>\n",
       "      <td>raw/Kennedy/01Aug2006Kennedy10.txt</td>\n",
       "      <td>FOR IMMEDIATE RELEASE  FOR IMMEDIATE ...</td>\n",
       "    </tr>\n",
       "    <tr>\n",
       "      <th>3</th>\n",
       "      <td>https://raw.githubusercontent.com/lintool/Grim...</td>\n",
       "      <td>https://github.com/lintool/GrimmerSenatePressR...</td>\n",
       "      <td>01Aug2006Kennedy11.txt</td>\n",
       "      <td>raw/Kennedy/01Aug2006Kennedy11.txt</td>\n",
       "      <td>FOR IMMEDIATE RELEASE  FOR IMMEDIATE ...</td>\n",
       "    </tr>\n",
       "    <tr>\n",
       "      <th>4</th>\n",
       "      <td>https://raw.githubusercontent.com/lintool/Grim...</td>\n",
       "      <td>https://github.com/lintool/GrimmerSenatePressR...</td>\n",
       "      <td>01Aug2006Kennedy12.txt</td>\n",
       "      <td>raw/Kennedy/01Aug2006Kennedy12.txt</td>\n",
       "      <td>FOR IMMEDIATE RELEASE  FOR IMMEDIATE ...</td>\n",
       "    </tr>\n",
       "  </tbody>\n",
       "</table>\n",
       "</div>"
      ],
      "text/plain": [
       "                                        download_url  \\\n",
       "0  https://raw.githubusercontent.com/lintool/Grim...   \n",
       "1  https://raw.githubusercontent.com/lintool/Grim...   \n",
       "2  https://raw.githubusercontent.com/lintool/Grim...   \n",
       "3  https://raw.githubusercontent.com/lintool/Grim...   \n",
       "4  https://raw.githubusercontent.com/lintool/Grim...   \n",
       "\n",
       "                                            html_url                    name  \\\n",
       "0  https://github.com/lintool/GrimmerSenatePressR...  01Apr2005Kennedy14.txt   \n",
       "1  https://github.com/lintool/GrimmerSenatePressR...  01Aug2005Kennedy12.txt   \n",
       "2  https://github.com/lintool/GrimmerSenatePressR...  01Aug2006Kennedy10.txt   \n",
       "3  https://github.com/lintool/GrimmerSenatePressR...  01Aug2006Kennedy11.txt   \n",
       "4  https://github.com/lintool/GrimmerSenatePressR...  01Aug2006Kennedy12.txt   \n",
       "\n",
       "                                 path  \\\n",
       "0  raw/Kennedy/01Apr2005Kennedy14.txt   \n",
       "1  raw/Kennedy/01Aug2005Kennedy12.txt   \n",
       "2  raw/Kennedy/01Aug2006Kennedy10.txt   \n",
       "3  raw/Kennedy/01Aug2006Kennedy11.txt   \n",
       "4  raw/Kennedy/01Aug2006Kennedy12.txt   \n",
       "\n",
       "                                                text  \n",
       "0           FOR IMMEDIATE RELEASE   FOR IMMEDIATE...  \n",
       "1           FOR IMMEDIATE RELEASE   FOR IMMEDIATE...  \n",
       "2           FOR IMMEDIATE RELEASE  FOR IMMEDIATE ...  \n",
       "3           FOR IMMEDIATE RELEASE  FOR IMMEDIATE ...  \n",
       "4           FOR IMMEDIATE RELEASE  FOR IMMEDIATE ...  "
      ]
     },
     "execution_count": 108,
     "metadata": {},
     "output_type": "execute_result"
    }
   ],
   "source": [
    "kenReleases = getGithubFiles('https://api.github.com/repos/lintool/GrimmerSenatePressReleases/contents/raw/Kennedy', maxFiles = 10)\n",
    "kenReleases[:5]"
   ]
  },
  {
   "cell_type": "markdown",
   "metadata": {},
   "source": [
    "Then we can tokenize, stem and remove stop words, like we did for the Whitehouse releases"
   ]
  },
  {
   "cell_type": "code",
   "execution_count": 109,
   "metadata": {
    "collapsed": false
   },
   "outputs": [],
   "source": [
    "kenReleases['tokenized_text'] = kenReleases['text'].apply(lambda x: nltk.word_tokenize(x))\n",
    "kenReleases['normalized_tokens'] = kenReleases['tokenized_text'].apply(lambda x: normlizeTokens(x, stemmer = snowball))"
   ]
  },
  {
   "cell_type": "markdown",
   "metadata": {},
   "source": [
    "Now we need to compare the two collection of words and remove those not found in both and assign the remaining ones indices."
   ]
  },
  {
   "cell_type": "code",
   "execution_count": 110,
   "metadata": {
    "collapsed": false
   },
   "outputs": [
    {
     "data": {
      "text/plain": [
       "166"
      ]
     },
     "execution_count": 110,
     "metadata": {},
     "output_type": "execute_result"
    }
   ],
   "source": [
    "whWords = set(whReleases['normalized_tokens'].sum())\n",
    "kenWords = set(kenReleases['normalized_tokens'].sum())\n",
    "\n",
    "#Change & to | if you want to keep all words\n",
    "overlapWords = whWords & kenWords\n",
    "\n",
    "overlapWordsDict = {word: index for index, word in enumerate(overlapWords)}\n",
    "overlapWordsDict['student']"
   ]
  },
  {
   "cell_type": "markdown",
   "metadata": {},
   "source": [
    "Now can count the occurrences of each these words in the corpora and create our arrays. Note, we don't have to use numpy arrays, we could just use a list, but the arrays are faster so we should get in the habit of using them."
   ]
  },
  {
   "cell_type": "code",
   "execution_count": 111,
   "metadata": {
    "collapsed": false
   },
   "outputs": [
    {
     "data": {
      "text/plain": [
       "1.0"
      ]
     },
     "execution_count": 111,
     "metadata": {},
     "output_type": "execute_result"
    }
   ],
   "source": [
    "def makeProbsArray(dfColumn, overlapDict):\n",
    "    words = dfColumn.sum()\n",
    "    countList = [0] * len(overlapDict)\n",
    "    for word in words:\n",
    "        try:\n",
    "            countList[overlapDict[word]] += 1\n",
    "        except KeyError:\n",
    "            #The word is not common so we skip it\n",
    "            pass\n",
    "    countArray = np.array(countList)\n",
    "    return countArray / countArray.sum()\n",
    "\n",
    "whProbArray = makeProbsArray(whReleases['normalized_tokens'], overlapWordsDict)\n",
    "kenProbArray = makeProbsArray(kenReleases['normalized_tokens'], overlapWordsDict)\n",
    "kenProbArray.sum()\n",
    "#There is a little bit of a floating point math error\n",
    "#but it's too small to see with print and too small matter here"
   ]
  },
  {
   "cell_type": "markdown",
   "metadata": {},
   "source": [
    "We can now compute the KL divergence. Pay attention to the asymmetry. Use [the Jensen–Shannon divergence](https://en.wikipedia.org/wiki/Jensen%E2%80%93Shannon_divergence) if you want symmetry."
   ]
  },
  {
   "cell_type": "code",
   "execution_count": 112,
   "metadata": {
    "collapsed": false
   },
   "outputs": [
    {
     "name": "stdout",
     "output_type": "stream",
     "text": [
      "0.617641967748\n",
      "0.587708565719\n"
     ]
    }
   ],
   "source": [
    "wh_kenDivergence = scipy.stats.entropy(whProbArray, kenProbArray)\n",
    "print (wh_kenDivergence)\n",
    "ken_whDivergence = scipy.stats.entropy(kenProbArray, whProbArray)\n",
    "print (ken_whDivergence)"
   ]
  },
  {
   "cell_type": "markdown",
   "metadata": {},
   "source": [
    "Then, we can do the elementwise calculation and see which words best distinguish the two corpora."
   ]
  },
  {
   "cell_type": "code",
   "execution_count": 113,
   "metadata": {
    "collapsed": false
   },
   "outputs": [
    {
     "data": {
      "text/html": [
       "<div>\n",
       "<table border=\"1\" class=\"dataframe\">\n",
       "  <thead>\n",
       "    <tr style=\"text-align: right;\">\n",
       "      <th></th>\n",
       "      <th>word</th>\n",
       "      <th>elementwise divergence</th>\n",
       "    </tr>\n",
       "  </thead>\n",
       "  <tbody>\n",
       "    <tr>\n",
       "      <th>0</th>\n",
       "      <td>futur</td>\n",
       "      <td>2.023335e-03</td>\n",
       "    </tr>\n",
       "    <tr>\n",
       "      <th>1</th>\n",
       "      <td>announc</td>\n",
       "      <td>2.724534e-03</td>\n",
       "    </tr>\n",
       "    <tr>\n",
       "      <th>2</th>\n",
       "      <td>procedur</td>\n",
       "      <td>6.329703e-05</td>\n",
       "    </tr>\n",
       "    <tr>\n",
       "      <th>3</th>\n",
       "      <td>yesterday</td>\n",
       "      <td>4.815330e-05</td>\n",
       "    </tr>\n",
       "    <tr>\n",
       "      <th>4</th>\n",
       "      <td>place</td>\n",
       "      <td>4.815330e-05</td>\n",
       "    </tr>\n",
       "    <tr>\n",
       "      <th>5</th>\n",
       "      <td>ago</td>\n",
       "      <td>3.571269e-03</td>\n",
       "    </tr>\n",
       "    <tr>\n",
       "      <th>6</th>\n",
       "      <td>high</td>\n",
       "      <td>2.293277e-07</td>\n",
       "    </tr>\n",
       "    <tr>\n",
       "      <th>7</th>\n",
       "      <td>come</td>\n",
       "      <td>9.505188e-05</td>\n",
       "    </tr>\n",
       "    <tr>\n",
       "      <th>8</th>\n",
       "      <td>save</td>\n",
       "      <td>4.815330e-05</td>\n",
       "    </tr>\n",
       "    <tr>\n",
       "      <th>9</th>\n",
       "      <td>leadership</td>\n",
       "      <td>1.101070e-03</td>\n",
       "    </tr>\n",
       "  </tbody>\n",
       "</table>\n",
       "</div>"
      ],
      "text/plain": [
       "         word  elementwise divergence\n",
       "0       futur            2.023335e-03\n",
       "1     announc            2.724534e-03\n",
       "2    procedur            6.329703e-05\n",
       "3   yesterday            4.815330e-05\n",
       "4       place            4.815330e-05\n",
       "5         ago            3.571269e-03\n",
       "6        high            2.293277e-07\n",
       "7        come            9.505188e-05\n",
       "8        save            4.815330e-05\n",
       "9  leadership            1.101070e-03"
      ]
     },
     "execution_count": 113,
     "metadata": {},
     "output_type": "execute_result"
    }
   ],
   "source": [
    "wh_kenDivergence_ew = scipy.special.kl_div(whProbArray, kenProbArray)\n",
    "kl_df = pandas.DataFrame(list(overlapWordsDict.keys()), columns = ['word'], index = list(overlapWordsDict.values()))\n",
    "kl_df = kl_df.sort_index()\n",
    "kl_df['elementwise divergence'] = wh_kenDivergence_ew\n",
    "kl_df[:10]"
   ]
  },
  {
   "cell_type": "code",
   "execution_count": 114,
   "metadata": {
    "collapsed": false
   },
   "outputs": [
    {
     "data": {
      "text/html": [
       "<div>\n",
       "<table border=\"1\" class=\"dataframe\">\n",
       "  <thead>\n",
       "    <tr style=\"text-align: right;\">\n",
       "      <th></th>\n",
       "      <th>word</th>\n",
       "      <th>elementwise divergence</th>\n",
       "    </tr>\n",
       "  </thead>\n",
       "  <tbody>\n",
       "    <tr>\n",
       "      <th>177</th>\n",
       "      <td>iraq</td>\n",
       "      <td>0.086929</td>\n",
       "    </tr>\n",
       "    <tr>\n",
       "      <th>19</th>\n",
       "      <td>bush</td>\n",
       "      <td>0.042354</td>\n",
       "    </tr>\n",
       "    <tr>\n",
       "      <th>203</th>\n",
       "      <td>stem</td>\n",
       "      <td>0.021884</td>\n",
       "    </tr>\n",
       "    <tr>\n",
       "      <th>154</th>\n",
       "      <td>law</td>\n",
       "      <td>0.020547</td>\n",
       "    </tr>\n",
       "    <tr>\n",
       "      <th>28</th>\n",
       "      <td>protect</td>\n",
       "      <td>0.019358</td>\n",
       "    </tr>\n",
       "    <tr>\n",
       "      <th>55</th>\n",
       "      <td>american</td>\n",
       "      <td>0.018154</td>\n",
       "    </tr>\n",
       "    <tr>\n",
       "      <th>296</th>\n",
       "      <td>depart</td>\n",
       "      <td>0.017650</td>\n",
       "    </tr>\n",
       "    <tr>\n",
       "      <th>213</th>\n",
       "      <td>bring</td>\n",
       "      <td>0.014128</td>\n",
       "    </tr>\n",
       "    <tr>\n",
       "      <th>316</th>\n",
       "      <td>member</td>\n",
       "      <td>0.012429</td>\n",
       "    </tr>\n",
       "    <tr>\n",
       "      <th>311</th>\n",
       "      <td>war</td>\n",
       "      <td>0.011739</td>\n",
       "    </tr>\n",
       "  </tbody>\n",
       "</table>\n",
       "</div>"
      ],
      "text/plain": [
       "         word  elementwise divergence\n",
       "177      iraq                0.086929\n",
       "19       bush                0.042354\n",
       "203      stem                0.021884\n",
       "154       law                0.020547\n",
       "28    protect                0.019358\n",
       "55   american                0.018154\n",
       "296    depart                0.017650\n",
       "213     bring                0.014128\n",
       "316    member                0.012429\n",
       "311       war                0.011739"
      ]
     },
     "execution_count": 114,
     "metadata": {},
     "output_type": "execute_result"
    }
   ],
   "source": [
    "kl_df.sort_values(by='elementwise divergence', ascending=False)[:10]"
   ]
  },
  {
   "cell_type": "markdown",
   "metadata": {},
   "source": [
    "# Let's Do a Fun Example\n",
    "\n",
    "Let's apply what we learned today to the guterberg texts in nltk and see if we can detect any patterns among them. \n",
    "\n",
    "First, let's transform every text into normalized tokens. Note that in this first step, no stopword is used. "
   ]
  },
  {
   "cell_type": "code",
   "execution_count": 115,
   "metadata": {
    "collapsed": false
   },
   "outputs": [],
   "source": [
    "fileids = nltk.corpus.gutenberg.fileids()\n",
    "corpora = []\n",
    "for fileid in fileids:\n",
    "    words = nltk.corpus.gutenberg.words(fileid)\n",
    "    normalized_tokens = normlizeTokens(words, stopwordLst = [], stemmer = snowball)\n",
    "    corpora.append(normalized_tokens)"
   ]
  },
  {
   "cell_type": "markdown",
   "metadata": {},
   "source": [
    "Then, let's separate the normalized tokens into stopwords and non-stopwords."
   ]
  },
  {
   "cell_type": "code",
   "execution_count": 116,
   "metadata": {
    "collapsed": true
   },
   "outputs": [],
   "source": [
    "corpora_s = []\n",
    "corpora_nons = []\n",
    "for corpus in corpora:\n",
    "    s = []\n",
    "    nons = []\n",
    "    for word in corpus:\n",
    "        if word in stop_words:\n",
    "            s.append(word)\n",
    "        else:\n",
    "            nons.append(word)\n",
    "    corpora_s.append(s)\n",
    "    corpora_nons.append(nons)"
   ]
  },
  {
   "cell_type": "markdown",
   "metadata": {},
   "source": [
    "Define some covenient funtions for calculating KL divergences."
   ]
  },
  {
   "cell_type": "code",
   "execution_count": 117,
   "metadata": {
    "collapsed": true
   },
   "outputs": [],
   "source": [
    "def Divergence(X, Y):\n",
    "    P = X.copy()\n",
    "    Q = Y.copy()\n",
    "    P.columns = ['P']\n",
    "    Q.columns = ['Q']\n",
    "    df = Q.join(P).fillna(0)\n",
    "    p = df.ix[:,1]\n",
    "    q = df.ix[:,0]\n",
    "    D_kl = scipy.stats.entropy(p, q)\n",
    "    return D_kl\n",
    "\n",
    "def kl_divergence(corpus1, corpus2):\n",
    "    freqP = nltk.FreqDist(corpus1)\n",
    "    P = pandas.DataFrame(list(freqP.values()), columns = ['frequency'], index = list(freqP.keys()))\n",
    "    freqQ = nltk.FreqDist(corpus2)\n",
    "    Q = pandas.DataFrame(list(freqQ.values()), columns = ['frequency'], index = list(freqQ.keys()))\n",
    "    return Divergence(P, Q)"
   ]
  },
  {
   "cell_type": "markdown",
   "metadata": {},
   "source": [
    "Calculate the KL divergence for each pair of corpora, turn the results into a matrix, and visualize the matrix as a heatmap."
   ]
  },
  {
   "cell_type": "code",
   "execution_count": 118,
   "metadata": {
    "collapsed": false
   },
   "outputs": [
    {
     "data": {
      "image/png": "[encoded data removed]",
      "text/plain": [
       "<matplotlib.figure.Figure at 0x113074438>"
      ]
     },
     "metadata": {},
     "output_type": "display_data"
    }
   ],
   "source": [
    "L = []\n",
    "for p in corpora:\n",
    "    l = []\n",
    "    for q in corpora:\n",
    "        l.append(kl_divergence(p,q))\n",
    "    L.append(l)\n",
    "M = np.array(L)\n",
    "fig = plt.figure()\n",
    "div = pandas.DataFrame(M, columns = fileids, index = fileids)\n",
    "ax = sns.heatmap(div)\n",
    "plt.show()"
   ]
  },
  {
   "cell_type": "markdown",
   "metadata": {},
   "source": [
    "See that works by the same author have the lowest within-group KL divergeces. \n",
    "\n",
    "To reveal more patterns, let's do a multidimensional scaling on the matrix."
   ]
  },
  {
   "cell_type": "code",
   "execution_count": 119,
   "metadata": {
    "collapsed": false
   },
   "outputs": [
    {
     "name": "stderr",
     "output_type": "stream",
     "text": [
      "/usr/local/lib/python3.5/site-packages/sklearn/manifold/mds.py:396: UserWarning: The MDS API has changed. ``fit`` now constructs an dissimilarity matrix from data. To use a custom dissimilarity matrix, set ``dissimilarity='precomputed'``.\n",
      "  warnings.warn(\"The MDS API has changed. ``fit`` now constructs an\"\n"
     ]
    },
    {
     "data": {
      "image/png": "[encoded data removed]",
      "text/plain": [
       "<matplotlib.figure.Figure at 0x1157154e0>"
      ]
     },
     "metadata": {},
     "output_type": "display_data"
    }
   ],
   "source": [
    "from sklearn import manifold\n",
    "mds = manifold.MDS()\n",
    "pos = mds.fit(M).embedding_\n",
    "x = pos[:,0]\n",
    "y = pos[:,1]\n",
    "fig, ax = plt.subplots(figsize = (6,6))\n",
    "plt.plot(x, y, ' ')\n",
    "for i, txt in enumerate(fileids):\n",
    "    ax.annotate(txt, (x[i],y[i]))"
   ]
  },
  {
   "cell_type": "markdown",
   "metadata": {},
   "source": [
    "Do you see any patterns in the image shown above? Does it make sense?\n",
    "\n",
    "We may just want to focus on the distrbutions of stopwords or non-stopwords. Let's do the analysis again first for stopwords and then for non-stopwords."
   ]
  },
  {
   "cell_type": "code",
   "execution_count": 120,
   "metadata": {
    "collapsed": false
   },
   "outputs": [
    {
     "data": {
      "image/png": "[encoded data removed]",
      "text/plain": [
       "<matplotlib.figure.Figure at 0x113a7ccf8>"
      ]
     },
     "metadata": {},
     "output_type": "display_data"
    }
   ],
   "source": [
    "L = []\n",
    "for p in corpora_s:\n",
    "    l = []\n",
    "    for q in corpora_s:\n",
    "        l.append(kl_divergence(p,q))\n",
    "    L.append(l)\n",
    "M = np.array(L)\n",
    "fig = plt.figure()\n",
    "div = pandas.DataFrame(M, columns = fileids, index = fileids)\n",
    "ax = sns.heatmap(div)\n",
    "plt.show()"
   ]
  },
  {
   "cell_type": "code",
   "execution_count": 121,
   "metadata": {
    "collapsed": false,
    "scrolled": true
   },
   "outputs": [
    {
     "data": {
      "image/png": "[encoded data removed]",
      "text/plain": [
       "<matplotlib.figure.Figure at 0x11d617278>"
      ]
     },
     "metadata": {},
     "output_type": "display_data"
    }
   ],
   "source": [
    "L = []\n",
    "for p in corpora_nons:\n",
    "    l = []\n",
    "    for q in corpora_nons:\n",
    "        l.append(kl_divergence(p,q))\n",
    "    L.append(l)\n",
    "M = np.array(L)\n",
    "fig = plt.figure()\n",
    "div = pandas.DataFrame(M, columns = fileids, index = fileids)\n",
    "ax = sns.heatmap(div)\n",
    "plt.show()"
   ]
  },
  {
   "cell_type": "markdown",
   "metadata": {},
   "source": [
    "Which analysis distinguishes the authors better?"
   ]
  }
 ],
 "metadata": {
  "anaconda-cloud": {},
  "kernelspec": {
   "display_name": "Python 3",
   "language": "python",
   "name": "python3"
  },
  "language_info": {
   "codemirror_mode": {
    "name": "ipython",
    "version": 3
   },
   "file_extension": ".py",
   "mimetype": "text/x-python",
   "name": "python",
   "nbconvert_exporter": "python",
   "pygments_lexer": "ipython3",
   "version": "3.6.0"
  }
 },
 "nbformat": 4,
 "nbformat_minor": 0
}
