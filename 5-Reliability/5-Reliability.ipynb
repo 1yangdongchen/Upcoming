{
 "cells": [
  {
   "cell_type": "markdown",
   "metadata": {},
   "source": [
    "# Week 5 - Sampling & Reliability\n",
    "\n",
    "Up until this week, we have assumed that the corpus you have used for analysis assignments represented a *meaningful* assemblage of texts from which reasonable inferences could be drawn about the social game, social world and social actors that produced it. This week, we ask you to articulate what your sample represents in context of your final project, and draw upon methods we have developed over the last three weeks to draw reasonable and representative samples. \n",
    "\n",
    "This week we also pivot from our recent work on unsupervized machine learning approaches to explore how we can get *human* readings of content at scale. We want to gather and utilize human responses for several reasons. First, we may want to use crowdsourced human scores as the primary method of coding, extracting or organizing content (as it was in the two of the assigned readings). Second, we may want to validate or tune a computational algorithm we may have developed in terms of how it is associated with human meanings or experience. Finally, we may want to use human coding on a sample of data as the basis for training a model or algorithm to then extrapolate *human-like* annotations to the entire population. Here intelligent sampling is critical to maximize effective maching training. \n",
    "\n",
    "For this notebook we will be using the following packages"
   ]
  },
  {
   "cell_type": "code",
   "execution_count": 1,
   "metadata": {},
   "outputs": [],
   "source": [
    "#Special module written for this class\n",
    "#This provides access to data and to helper functions from previous weeks\n",
    "#Make sure you update it before starting this notebook\n",
    "import lucem_illud #pip install -U git+git://github.com/Computational-Content-Analysis-2018/lucem_illud.git\n",
    "\n",
    "#All these packages need to be installed from pip\n",
    "import numpy as np #For arrays\n",
    "import scipy as sp #For some stats\n",
    "import pandas #Gives us DataFrames\n",
    "import matplotlib.pyplot as plt #For graphics\n",
    "import seaborn #Makes the graphics look nicer\n",
    "import pyanno #On python3 make sure to pip install pyanno3\n",
    "\n",
    "#We need to import these this way due to how pyanno is setup\n",
    "from pyanno.measures import pairwise_matrix, agreement, cohens_kappa, cohens_weighted_kappa, fleiss_kappa, krippendorffs_alpha, pearsons_rho, scotts_pi, spearmans_rho\n",
    "from pyanno.annotations import AnnotationsContainer\n",
    "from pyanno.models import ModelA, ModelBt, ModelB\n",
    "\n",
    "from functools import reduce\n",
    "from itertools import permutations\n",
    "import math\n",
    "\n",
    "\n",
    "#This 'magic' command makes the plots work better\n",
    "#in the notebook, don't use it outside of a notebook.\n",
    "#Also you can ignore the warning\n",
    "%matplotlib inline\n",
    "\n",
    "import os #For looking through files\n",
    "import os.path #For managing file paths"
   ]
  },
  {
   "cell_type": "markdown",
   "metadata": {},
   "source": [
    "## <span style=\"color:red\">*Pitch Your Project*</span>\n",
    "\n",
    "<span style=\"color:red\">In the three cells immediately following, describe **WHAT** you are planning to analyze for your final project (i.e., texts, contexts and the social game, world and actors you intend to learn about through your analysis) (<200 words), **WHY** you are going to do it (i.e., why would theory and/or the average person benefit from knowing the results of your investigation) (<200 words), and **HOW** you plan to investigate it (i.e., what are the approaches and operations you plan to perform, in sequence, to yield this insight) (<400 words)."
   ]
  },
  {
   "cell_type": "markdown",
   "metadata": {},
   "source": [
    "## ***What?*** \n",
    "<200 words"
   ]
  },
  {
   "cell_type": "markdown",
   "metadata": {},
   "source": [
    "## ***Why?***\n",
    "<200 words"
   ]
  },
  {
   "cell_type": "markdown",
   "metadata": {},
   "source": [
    "## ***How?***\n",
    "<400 words"
   ]
  },
  {
   "cell_type": "markdown",
   "metadata": {},
   "source": [
    "## <span style=\"color:red\">*Pitch Your Sample*</span>\n",
    "\n",
    "<span style=\"color:red\">In the cell immediately following, describe the rationale behind your proposed sample design for your final project. What is the social game, social work, or social actors you about whom you are seeking to make inferences? What are its virtues with respect to your research questions? What are its limitations? What are alternatives? What would be a reasonable path to \"scale up\" your sample for further analysis (i.e., high-profile publication)? (<200 words)."
   ]
  },
  {
   "cell_type": "markdown",
   "metadata": {},
   "source": [
    "## ***Which (words)?***\n",
    "<300 words"
   ]
  },
  {
   "cell_type": "markdown",
   "metadata": {},
   "source": [
    "## <span style=\"color:red\">*Exercise 1*</span>\n",
    "\n",
    "<span style=\"color:red\">In the cells immediately following, demonstrate three approaches drawn from any of the last three weeks to create subsamples of your corpus (e.g., for crowd-sourced subcoding like we'll be doing this week). Methods of subsampling include (a) corpus linguistic approaches drawing on word presence or co-presence, conditional frequencies, weighted words (e.g., tf.idf), KL or JS divergences, etc.; (b) hierarchical or flat clustering approaches; (c) topic modeling; or (d) word-embedding. (<200 words)."
   ]
  },
  {
   "cell_type": "markdown",
   "metadata": {},
   "source": [
    "# Example Annotation Dataset"
   ]
  },
  {
   "cell_type": "markdown",
   "metadata": {},
   "source": [
    "Load Rzhetsky et al (2009)'s sample dataset, which can be found [here](https://github.com/enthought/uchicago-pyanno/tree/master/data). This data is the result of a content analytic / content extraction study in which Andrey Rzhetsky and colleagues from the National Library of Medicine, published [here](http://journals.plos.org/ploscompbiol/article?id=10.1371/journal.pcbi.1000391) in [PLOS Computational Biology](http://journals.plos.org/ploscompbiol/), gave eight annotators 10,000 sentence chunks from biomedical text in biomedical abstracts and articles, then asked them, in a loop design schematically illustrated below that provided 3 independent codings for each document. The sampling strategy pursued diversity by drawing from PubMed abstracts (1000) and full-text articles (9000: 20% from abstracts, 10% from introductions, 20% from methods, 25% from results, and 25% from discussions.) The dataset extract here involves respondents codes for sentences in terms of their *Evidence*: {0, 1, 2, 3, -1} where 0 is the complete lack of evidence, 3 is direct evidence present within the sentence, and -1 is didn't respond. (They also crowdsourced and analyzed *polarity*, *certainty*, and *number*). For example, consider the following two abutting sentence chunks: *\"Because null mutations in toxR and toxT abolish CT and TcpA expression in the El Tor biotype and also attenuate virulence...\"* [i.e., average certainty = 0], *\"...it is likely that the ToxR regulon has functional similarities between the two biotypes despite the clear differences in the inducing parameters observed in vitro\"* [i.e., average certainty = 1].\"\n",
    "<img src=\"../data/loopdesign.png\">"
   ]
  },
  {
   "cell_type": "code",
   "execution_count": 2,
   "metadata": {},
   "outputs": [],
   "source": [
    "x = np.loadtxt(\"../data/pyAnno/testdata_numerical.txt\")\n",
    "anno = AnnotationsContainer.from_array(x, missing_values=[-1])"
   ]
  },
  {
   "cell_type": "markdown",
   "metadata": {},
   "source": [
    "Interrogate the AnnotationsContainer object."
   ]
  },
  {
   "cell_type": "code",
   "execution_count": 3,
   "metadata": {},
   "outputs": [
    {
     "data": {
      "text/plain": [
       "array([[ 1,  2,  3, ..., -1, -1, -1],\n",
       "       [ 0,  0,  0, ..., -1, -1, -1],\n",
       "       [ 2,  2,  1, ..., -1, -1, -1],\n",
       "       ...,\n",
       "       [ 2,  2, -1, ..., -1, -1,  1],\n",
       "       [ 2,  2, -1, ..., -1, -1,  3],\n",
       "       [ 1,  1, -1, ..., -1, -1,  0]])"
      ]
     },
     "execution_count": 3,
     "metadata": {},
     "output_type": "execute_result"
    }
   ],
   "source": [
    "anno.annotations"
   ]
  },
  {
   "cell_type": "code",
   "execution_count": 4,
   "metadata": {},
   "outputs": [
    {
     "data": {
      "text/plain": [
       "[1.0, 2.0, 3.0, 4.0]"
      ]
     },
     "execution_count": 4,
     "metadata": {},
     "output_type": "execute_result"
    }
   ],
   "source": [
    "anno.labels"
   ]
  },
  {
   "cell_type": "code",
   "execution_count": 5,
   "metadata": {},
   "outputs": [
    {
     "data": {
      "text/plain": [
       "[-1]"
      ]
     },
     "execution_count": 5,
     "metadata": {},
     "output_type": "execute_result"
    }
   ],
   "source": [
    "anno.missing_values"
   ]
  },
  {
   "cell_type": "markdown",
   "metadata": {},
   "source": [
    "# Annotation Statistics"
   ]
  },
  {
   "cell_type": "markdown",
   "metadata": {},
   "source": [
    "First, we assume categorical codes...that each code is qualitatively distinct from each other. Two measures are primarily used for this: Scott's $\\pi$, Cohen's $\\kappa$, and Krippendorff's $\\alpha$ which each measure the extent of agreement between two annotators, but take into account the possibility of the agreement occurring by chance in slightly different ways. Any agreement measure begins with the frequency of codes:"
   ]
  },
  {
   "cell_type": "code",
   "execution_count": 6,
   "metadata": {},
   "outputs": [
    {
     "data": {
      "text/plain": [
       "array([0.11666667, 0.245     , 0.34083333, 0.2975    ])"
      ]
     },
     "execution_count": 6,
     "metadata": {},
     "output_type": "execute_result"
    }
   ],
   "source": [
    "pyanno.measures.agreement.labels_frequency(anno.annotations,4)"
   ]
  },
  {
   "cell_type": "markdown",
   "metadata": {},
   "source": [
    "Now consider the \"confusion matrix\" or matrix of coded agreements between any two coders:"
   ]
  },
  {
   "cell_type": "code",
   "execution_count": 7,
   "metadata": {},
   "outputs": [
    {
     "name": "stdout",
     "output_type": "stream",
     "text": [
      "[[ 8.  7.  3.  2.]\n",
      " [ 9. 30. 13.  3.]\n",
      " [ 2.  9. 42. 11.]\n",
      " [ 1.  7. 14. 39.]]\n"
     ]
    },
    {
     "data": {
      "image/png": "[encoded data removed]",
      "text/plain": [
       "<matplotlib.figure.Figure at 0x112871ef0>"
      ]
     },
     "metadata": {},
     "output_type": "display_data"
    }
   ],
   "source": [
    "c = pyanno.measures.agreement.confusion_matrix(anno.annotations[:,0], anno.annotations[:,1],4)\n",
    "print(c)\n",
    "ac = seaborn.heatmap(c)\n",
    "plt.show()"
   ]
  },
  {
   "cell_type": "markdown",
   "metadata": {},
   "source": [
    "Scott's $\\pi$ is computed as:\n",
    "\n",
    "$\\pi = \\frac{\\text{Pr}(a)-\\text{Pr}(e)}{1-\\text{Pr}(e)}$\n",
    "\n",
    "Where Pr($a$) is relative observed agreement, and Pr($e$) is expected agreement using joint proportions calculated from the confusion matrix or matrix of coded agreements between any two coders:"
   ]
  },
  {
   "cell_type": "code",
   "execution_count": 8,
   "metadata": {},
   "outputs": [
    {
     "data": {
      "text/plain": [
       "0.4386478265891502"
      ]
     },
     "execution_count": 8,
     "metadata": {},
     "output_type": "execute_result"
    }
   ],
   "source": [
    "scotts_pi(anno.annotations[:,0], anno.annotations[:,1])"
   ]
  },
  {
   "cell_type": "markdown",
   "metadata": {},
   "source": [
    "The generalization of Scott's $\\pi$ to $n$ coders is Fleiss' $\\kappa$ (Fleiss called it $\\kappa$ because he thought he was generalizing Cohen's $\\kappa$)"
   ]
  },
  {
   "cell_type": "code",
   "execution_count": 9,
   "metadata": {},
   "outputs": [
    {
     "data": {
      "text/plain": [
       "0.40417653771912765"
      ]
     },
     "execution_count": 9,
     "metadata": {},
     "output_type": "execute_result"
    }
   ],
   "source": [
    "fleiss_kappa(anno.annotations[::])"
   ]
  },
  {
   "cell_type": "markdown",
   "metadata": {},
   "source": [
    "Krippendorff's $\\alpha$ generalizes of Fleiss' $\\kappa$ to $n$ coders and takes into account the fact that annotations here are not categorically different, but ordinal, by adding a weight matrix in which off-diagonal cells contain weights indicating the seriousness of the disagreement between each score. When produced with no arguments, it simply produces an arithmetic distance (e.g., 3-1=2), such that cells one off the diagonal are weighted 1, two off 2, etc."
   ]
  },
  {
   "cell_type": "code",
   "execution_count": 10,
   "metadata": {},
   "outputs": [
    {
     "data": {
      "text/plain": [
       "0.6472588223831547"
      ]
     },
     "execution_count": 10,
     "metadata": {},
     "output_type": "execute_result"
    }
   ],
   "source": [
    "krippendorffs_alpha(anno.annotations[::])"
   ]
  },
  {
   "cell_type": "markdown",
   "metadata": {},
   "source": [
    "Like Scott's $\\pi$, Cohen's $\\kappa$ also takes into account the possibility of the agreement occurring by chance, but in the following way:\n",
    "\n",
    "$\\kappa = \\frac{p_o-p_e}{1-p_e}=1-\\frac{1-p_o}{p_e}$\n",
    "\n",
    "where $p_o$ is the relative observed agreement among raters, and $p_e$ is the hypothetical probability of chance agreement, using the observed data to calculate the probabilities of each observer randomly saying each category. If the raters are in complete agreement then $\\kappa = 1$. If there is no agreement among the raters other than what would be expected by chance (as given by $p_e$), $\\kappa ≤ 0 $. Here, Cohen's $\\kappa$ statistic for the first two annotators is computed. This is probably the most common metric of agreement."
   ]
  },
  {
   "cell_type": "code",
   "execution_count": 11,
   "metadata": {},
   "outputs": [
    {
     "data": {
      "text/plain": [
       "0.43917037219392857"
      ]
     },
     "execution_count": 11,
     "metadata": {},
     "output_type": "execute_result"
    }
   ],
   "source": [
    "cohens_kappa(anno.annotations[:,0], anno.annotations[:,1])"
   ]
  },
  {
   "cell_type": "code",
   "execution_count": 12,
   "metadata": {},
   "outputs": [
    {
     "name": "stdout",
     "output_type": "stream",
     "text": [
      "[[1.         0.43917037 0.47677621        nan        nan        nan\n",
      "  0.45819119 0.43381462]\n",
      " [0.43917037 1.         0.38432922 0.41344423        nan        nan\n",
      "         nan 0.33643611]\n",
      " [0.47677621 0.38432922 1.         0.39583333 0.51704894        nan\n",
      "         nan        nan]\n",
      " [       nan 0.41344423 0.39583333 1.         0.34597068 0.4446844\n",
      "         nan        nan]\n",
      " [       nan        nan 0.51704894 0.34597068 1.         0.37938644\n",
      "  0.43039733        nan]\n",
      " [       nan        nan        nan 0.4446844  0.37938644 1.\n",
      "  0.38341929 0.31214748]\n",
      " [0.45819119        nan        nan        nan 0.43039733 0.38341929\n",
      "  1.         0.394806  ]\n",
      " [0.43381462 0.33643611        nan        nan        nan 0.31214748\n",
      "  0.394806   1.        ]]\n"
     ]
    }
   ],
   "source": [
    "m = pairwise_matrix(cohens_kappa, anno.annotations)\n",
    "print(m)"
   ]
  },
  {
   "cell_type": "code",
   "execution_count": 13,
   "metadata": {},
   "outputs": [
    {
     "data": {
      "image/png": "[encoded data removed]",
      "text/plain": [
       "<matplotlib.figure.Figure at 0x1160cb6d8>"
      ]
     },
     "metadata": {},
     "output_type": "display_data"
    }
   ],
   "source": [
    "ax = seaborn.heatmap(m)\n",
    "plt.show()"
   ]
  },
  {
   "cell_type": "markdown",
   "metadata": {},
   "source": [
    "You can see that this 8 by 3 loop design will be less stable than an 8 choose 3 combinatorial design, because each codes with more others. "
   ]
  },
  {
   "cell_type": "markdown",
   "metadata": {},
   "source": [
    "One can also assess the average Cohen's $\\kappa$ for all pairs of coders that have coded against one another:"
   ]
  },
  {
   "cell_type": "code",
   "execution_count": 14,
   "metadata": {},
   "outputs": [
    {
     "data": {
      "text/plain": [
       "0.40911598940065674"
      ]
     },
     "execution_count": 14,
     "metadata": {},
     "output_type": "execute_result"
    }
   ],
   "source": [
    "def pairwise_metric_average(metric, array):\n",
    "    \"\"\"Calculate the pairwise metric average for the real elements of metric function run on an array of annotations\"\"\"\n",
    "    p = permutations(range(array[0,:].size),2)\n",
    "    m = [metric(array[:,x[0]], array[:,x[1]]) for x in p]\n",
    "    clean_m = [c for c in m if not math.isnan(c)]\n",
    "    return reduce(lambda a, b: a + b, clean_m)/len(clean_m)    \n",
    " \n",
    "pairwise_metric_average(cohens_kappa, anno.annotations)"
   ]
  },
  {
   "cell_type": "markdown",
   "metadata": {},
   "source": [
    "As recognized with Krippendorff's flexible $\\alpha$, our scores are *not* categorical, but rather ordered and her considered metric. Weighted $\\kappa$ allows you to count disagreements differently and is useful when codes are ordered as they are here. Here a weight matrix is added to the calculation, in which off-diagonal cells contain weights indicating the seriousness of the disagreement between each score. When automatically produced, it simply produces an arithmetic distance (e.g., 3-1=2), such that cells one off the diagonal are weighted 1, two off 2, etc. Here\n",
    "\n",
    "$\\kappa = 1-\\frac{\\sum^k_{i=1}\\sum^k_{j=1}w_{ij}x_{ij}}{\\sum^k_{i=1}\\sum^k_{j=1}w_{ij}m_{ij}}$\n",
    "\n",
    "where $\\kappa$ = $n$ codes and $w_{ij}$,$x_{ij}$, and $m_{ij}$ represent elements in the weight, observed, and expected matrices, respectively. (Obviously, when diagonal cells contain weights of 0 and off-diagonal cells weights of 1, this equals $\\kappa$)."
   ]
  },
  {
   "cell_type": "code",
   "execution_count": 15,
   "metadata": {},
   "outputs": [
    {
     "data": {
      "text/plain": [
       "0.5330240507874497"
      ]
     },
     "execution_count": 15,
     "metadata": {},
     "output_type": "execute_result"
    }
   ],
   "source": [
    "cohens_weighted_kappa(anno.annotations[:,0], anno.annotations[:,1])"
   ]
  },
  {
   "cell_type": "markdown",
   "metadata": {},
   "source": [
    "Or averaged over the total:"
   ]
  },
  {
   "cell_type": "code",
   "execution_count": 16,
   "metadata": {},
   "outputs": [
    {
     "data": {
      "text/plain": [
       "0.5299113458717166"
      ]
     },
     "execution_count": 16,
     "metadata": {},
     "output_type": "execute_result"
    }
   ],
   "source": [
    "pairwise_metric_average(cohens_weighted_kappa,anno.annotations)"
   ]
  },
  {
   "cell_type": "markdown",
   "metadata": {},
   "source": [
    "Alternatively, if the annontation data can be understood as indicating real values, we can assess not agreement, but rather the correlation of values (Pearson's $\\rho$) or correlation of ranks (Spearman's $\\rho$) for pairs of coders:"
   ]
  },
  {
   "cell_type": "code",
   "execution_count": 17,
   "metadata": {},
   "outputs": [
    {
     "data": {
      "image/png": "[encoded data removed]",
      "text/plain": [
       "<matplotlib.figure.Figure at 0x11628be10>"
      ]
     },
     "metadata": {},
     "output_type": "display_data"
    },
    {
     "data": {
      "image/png": "[encoded data removed]",
      "text/plain": [
       "<matplotlib.figure.Figure at 0x1163a3198>"
      ]
     },
     "metadata": {},
     "output_type": "display_data"
    }
   ],
   "source": [
    "n = pairwise_matrix(pearsons_rho, anno.annotations)\n",
    "m = pairwise_matrix(spearmans_rho, anno.annotations)\n",
    "an = seaborn.heatmap(n)\n",
    "plt.show()\n",
    "am = seaborn.heatmap(m)\n",
    "plt.show()"
   ]
  },
  {
   "cell_type": "markdown",
   "metadata": {},
   "source": [
    "Or averaged over all comparable pairs:"
   ]
  },
  {
   "cell_type": "code",
   "execution_count": 18,
   "metadata": {},
   "outputs": [
    {
     "name": "stdout",
     "output_type": "stream",
     "text": [
      "0.6517219321175077 0.63808488688039\n"
     ]
    }
   ],
   "source": [
    "print(pairwise_metric_average(pearsons_rho,anno.annotations), pairwise_metric_average(spearmans_rho,anno.annotations))"
   ]
  },
  {
   "cell_type": "markdown",
   "metadata": {},
   "source": [
    "## <span style=\"color:red\">*Excercise 2*</span>\n",
    "\n",
    "<span style=\"color:red\">Perform a content annotation survey of some kind in which at least 3 people evaluate and code each piece of content, using Amazon Mechanical Turk as described in the MTurk slides on this week's Canvas page.  With the resulting data, calculate, visualize and discuss inter-coder agreement or covariation with appropriate metrics. What does this means for the reliability of human assessments regarding content in your domain?"
   ]
  },
  {
   "cell_type": "markdown",
   "metadata": {},
   "source": [
    "# Models"
   ]
  },
  {
   "cell_type": "markdown",
   "metadata": {},
   "source": [
    "However, what if some coders are better than others. The prior measures all rely on the assumption that all coders are equally good. What if some are worse than others? Now we use Rzhetsky et al (2009) and Dawid & Skene's models to make inference about true label classes by downweighting bad or deviant coders. Pyanno provides two relevant models: ModelB and ModelBt. Model B with $\\theta$s models the relationship between each coder and code. Model B is a Bayesian generalization of the Dawid & Skene model from the reading. The following image schematically describes these models. <img src=\"../data/Bmodel.png\">"
   ]
  },
  {
   "cell_type": "markdown",
   "metadata": {},
   "source": [
    "The models should provide very similar results. To estimate the parameters for any models, we first need to create a new model. "
   ]
  },
  {
   "cell_type": "code",
   "execution_count": 121,
   "metadata": {},
   "outputs": [
    {
     "name": "stdout",
     "output_type": "stream",
     "text": [
      "[[[0.76835504 0.14877485 0.05260187 0.03026824]\n",
      "  [0.09643118 0.77431727 0.06212153 0.06713002]\n",
      "  [0.06773599 0.12211349 0.75602266 0.05412786]\n",
      "  [0.01495898 0.04524157 0.20512502 0.73467444]]\n",
      "\n",
      " [[0.70842223 0.20475442 0.07144383 0.01537952]\n",
      "  [0.10337736 0.60862708 0.21710487 0.0708907 ]\n",
      "  [0.12958429 0.24710772 0.53615386 0.08715412]\n",
      "  [0.05856288 0.03070535 0.09812143 0.81261034]]\n",
      "\n",
      " [[0.53091244 0.25221419 0.08544491 0.13142847]\n",
      "  [0.09717556 0.59819434 0.16635538 0.13827471]\n",
      "  [0.08201766 0.09829933 0.61873379 0.20094922]\n",
      "  [0.10192507 0.06414675 0.15579989 0.67812829]]\n",
      "\n",
      " [[0.83675161 0.11852025 0.01313839 0.03158975]\n",
      "  [0.11494483 0.52719694 0.26840228 0.08945594]\n",
      "  [0.009347   0.13129467 0.69922319 0.16013514]\n",
      "  [0.00566906 0.07444464 0.07762826 0.84225805]]\n",
      "\n",
      " [[0.67979123 0.20688502 0.09996282 0.01336093]\n",
      "  [0.16769127 0.58530504 0.20010484 0.04689885]\n",
      "  [0.1878705  0.25017399 0.46850452 0.09345098]\n",
      "  [0.01668575 0.16764863 0.10949643 0.70616918]]\n",
      "\n",
      " [[0.79966591 0.12622012 0.03391214 0.04020183]\n",
      "  [0.13936841 0.67088175 0.13399243 0.05575741]\n",
      "  [0.06392187 0.25171741 0.5672676  0.11709312]\n",
      "  [0.01074187 0.07611783 0.15036155 0.76277876]]\n",
      "\n",
      " [[0.73545368 0.17451801 0.04810696 0.04192134]\n",
      "  [0.31235603 0.55969828 0.08290125 0.04504444]\n",
      "  [0.05898219 0.16657326 0.6939861  0.08045845]\n",
      "  [0.00263453 0.11740233 0.12591155 0.75405159]]\n",
      "\n",
      " [[0.57593606 0.32372369 0.03801084 0.06232941]\n",
      "  [0.08924768 0.57077888 0.13946814 0.20050529]\n",
      "  [0.08397733 0.10162902 0.57287004 0.24152361]\n",
      "  [0.04553103 0.09085854 0.09629594 0.76731449]]]\n",
      "-3171.4752920395854\n"
     ]
    }
   ],
   "source": [
    "# create a new instance of model B, with 4 label classes\n",
    "model = ModelB.create_initial_state(4,8)\n",
    "# other model parameters are initialized from the model prior\n",
    "print(model.theta)\n",
    "print(model.log_likelihood(anno.annotations))"
   ]
  },
  {
   "cell_type": "markdown",
   "metadata": {},
   "source": [
    "Now we train the model on our data. Pyanno allows one to use either MAP (maximum a posteriori estimation) or MLE (maximum likelihood estimation) to estimate model parameters. Note that the parameters here correspond to our estimation of the accuracy of each annotator-annotation pair. First we will train with MAP, and then you can optionally training with MLE."
   ]
  },
  {
   "cell_type": "code",
   "execution_count": 122,
   "metadata": {},
   "outputs": [],
   "source": [
    "samples = model.sample_posterior_over_accuracy(anno.annotations, 200, burn_in_samples=100, thin_samples=3)"
   ]
  },
  {
   "cell_type": "code",
   "execution_count": 123,
   "metadata": {},
   "outputs": [
    {
     "name": "stdout",
     "output_type": "stream",
     "text": [
      "[[[7.73398728e-01 2.01020245e-01 2.55810269e-02 1.20101219e-26]\n",
      "  [1.47832659e-01 7.11503767e-01 7.66499157e-02 6.40136580e-02]\n",
      "  [1.97431020e-02 1.48708709e-01 6.96639326e-01 1.34908863e-01]\n",
      "  [2.52463780e-18 2.13647377e-02 8.51550428e-02 8.93480220e-01]]\n",
      "\n",
      " [[7.19395465e-01 2.01828761e-01 7.87757734e-02 1.55486964e-13]\n",
      "  [1.33941799e-01 7.07223261e-01 1.10418200e-01 4.84167403e-02]\n",
      "  [2.72093282e-02 1.65178369e-01 6.71232700e-01 1.36379603e-01]\n",
      "  [2.15358721e-30 5.38211823e-02 1.21871740e-01 8.24307077e-01]]\n",
      "\n",
      " [[8.50073137e-01 1.22955501e-01 2.69713621e-02 3.64395738e-42]\n",
      "  [8.93514251e-02 7.89280333e-01 8.93429608e-02 3.20252811e-02]\n",
      "  [6.11638366e-02 1.29121422e-01 7.03992731e-01 1.05722011e-01]\n",
      "  [6.53666390e-03 5.12606512e-02 2.10869595e-01 7.31333090e-01]]\n",
      "\n",
      " [[6.99612801e-01 2.70976969e-01 2.94102301e-02 8.57899704e-52]\n",
      "  [9.67171336e-02 7.62615701e-01 1.09523823e-01 3.11433425e-02]\n",
      "  [1.81150586e-02 1.45472330e-01 6.85587954e-01 1.50824657e-01]\n",
      "  [2.71897111e-47 2.98511124e-02 2.28749569e-01 7.41399319e-01]]\n",
      "\n",
      " [[8.11803144e-01 1.19373545e-01 6.88233110e-02 9.13991546e-49]\n",
      "  [1.24726986e-01 6.93211818e-01 1.47008725e-01 3.50524714e-02]\n",
      "  [1.10580622e-02 2.13907919e-01 6.46719976e-01 1.28314044e-01]\n",
      "  [6.58948915e-52 5.98095047e-02 1.82979139e-01 7.57211357e-01]]\n",
      "\n",
      " [[7.71186748e-01 2.05349662e-01 2.34635900e-02 1.87519848e-51]\n",
      "  [1.10920303e-01 6.98703449e-01 1.62586425e-01 2.77898237e-02]\n",
      "  [2.69432947e-02 1.74971748e-01 6.58688648e-01 1.39396309e-01]\n",
      "  [1.04070689e-20 8.19488668e-02 1.50728042e-01 7.67323091e-01]]\n",
      "\n",
      " [[7.77751875e-01 1.41612394e-01 8.06357307e-02 7.49343463e-22]\n",
      "  [1.14108703e-01 6.72056519e-01 1.68346177e-01 4.54886006e-02]\n",
      "  [1.60943993e-02 1.18997632e-01 7.24591200e-01 1.40316769e-01]\n",
      "  [9.41957786e-52 4.72911966e-02 1.30538454e-01 8.22170350e-01]]\n",
      "\n",
      " [[8.52754118e-01 1.18087361e-01 2.91585215e-02 1.95577162e-42]\n",
      "  [1.29319568e-01 6.36012446e-01 1.95669325e-01 3.89986612e-02]\n",
      "  [2.96631200e-02 1.67273811e-01 6.42736730e-01 1.60326339e-01]\n",
      "  [1.03418107e-24 4.32627993e-02 1.13010804e-01 8.43726397e-01]]]\n",
      "-2625.8850676193924\n"
     ]
    }
   ],
   "source": [
    "model.map(anno.annotations)\n",
    "print(model.theta)\n",
    "print(model.log_likelihood(anno.annotations))"
   ]
  },
  {
   "cell_type": "markdown",
   "metadata": {},
   "source": [
    "Uncomment the cell below if you would rather train by MLE."
   ]
  },
  {
   "cell_type": "code",
   "execution_count": 124,
   "metadata": {},
   "outputs": [],
   "source": [
    "#model = ModelB.create_initial_state(4,8)\n",
    "#model.mle(anno.annotations)\n",
    "#print(model.theta)\n",
    "#print(model.log_likelihood(anno.annotations))"
   ]
  },
  {
   "cell_type": "markdown",
   "metadata": {},
   "source": [
    "Once we have model parameters estimated, we can now make inferences about the true label classes. We can calculate the posterior distribution over the true label classes."
   ]
  },
  {
   "cell_type": "code",
   "execution_count": 125,
   "metadata": {},
   "outputs": [
    {
     "name": "stdout",
     "output_type": "stream",
     "text": [
      "[[1.20741380e-42 1.00240780e-01 7.90821679e-01 1.08937540e-01]\n",
      " [9.92682453e-01 7.07056554e-03 2.46981317e-04 2.03944498e-49]\n",
      " [1.07420297e-03 5.51435353e-02 9.37476514e-01 6.30574822e-03]\n",
      " ...\n",
      " [8.15378491e-04 3.51193436e-02 9.59859130e-01 4.20614824e-03]\n",
      " [1.34481992e-44 2.14447325e-03 9.16166870e-01 8.16886569e-02]\n",
      " [2.14745550e-01 7.69057353e-01 1.61970966e-02 2.01807019e-26]]\n"
     ]
    }
   ],
   "source": [
    "posterior = model.infer_labels(anno.annotations)\n",
    "print(posterior)"
   ]
  },
  {
   "cell_type": "markdown",
   "metadata": {},
   "source": [
    "Let's turn the posterior of the first 100 samples into a heatmap."
   ]
  },
  {
   "cell_type": "code",
   "execution_count": 127,
   "metadata": {},
   "outputs": [
    {
     "data": {
      "image/png": "[encoded data removed]",
      "text/plain": [
       "<matplotlib.figure.Figure at 0x13d2036a0>"
      ]
     },
     "metadata": {},
     "output_type": "display_data"
    }
   ],
   "source": [
    "ax = seaborn.heatmap(posterior[:10,], annot=True)\n",
    "plt.show()"
   ]
  },
  {
   "cell_type": "markdown",
   "metadata": {},
   "source": [
    "This differs markedly from taking annotator scores at face value."
   ]
  },
  {
   "cell_type": "markdown",
   "metadata": {},
   "source": [
    "Let's try everything again with ModelBt, which constrains ModelB."
   ]
  },
  {
   "cell_type": "code",
   "execution_count": 128,
   "metadata": {},
   "outputs": [
    {
     "name": "stdout",
     "output_type": "stream",
     "text": [
      "[0.89601174 0.78154197 0.64589426 0.73857202 0.91855773 0.85539959\n",
      " 0.88812946 0.87845868]\n",
      "-3060.0723909769613\n"
     ]
    }
   ],
   "source": [
    "# create a new instance of model B, with 4 label classes and 8 annotators.\n",
    "model = ModelBt.create_initial_state(4, 8)\n",
    "print(model.theta)\n",
    "print(model.log_likelihood(anno.annotations))"
   ]
  },
  {
   "cell_type": "code",
   "execution_count": 129,
   "metadata": {},
   "outputs": [
    {
     "name": "stdout",
     "output_type": "stream",
     "text": [
      "[0.79131537 0.74078815 0.76218361 0.72521925 0.71643071 0.71858826\n",
      " 0.77321888 0.71668468]\n",
      "-2811.9462840403157\n"
     ]
    }
   ],
   "source": [
    "model.map(anno.annotations)\n",
    "print(model.theta)\n",
    "print(model.log_likelihood(anno.annotations))"
   ]
  },
  {
   "cell_type": "code",
   "execution_count": 131,
   "metadata": {},
   "outputs": [
    {
     "data": {
      "text/plain": [
       "array([[0.76170274, 0.70647877, 0.79086842, ..., 0.73989276, 0.7694897 ,\n",
       "        0.70670832],\n",
       "       [0.76170274, 0.70647877, 0.79086842, ..., 0.73989276, 0.7694897 ,\n",
       "        0.70670832],\n",
       "       [0.78536676, 0.69421623, 0.7418193 , ..., 0.76826235, 0.75338408,\n",
       "        0.72912391],\n",
       "       ...,\n",
       "       [0.75352929, 0.75088113, 0.7448361 , ..., 0.71719331, 0.7416133 ,\n",
       "        0.6748131 ],\n",
       "       [0.75352929, 0.75088113, 0.7448361 , ..., 0.71719331, 0.7416133 ,\n",
       "        0.6748131 ],\n",
       "       [0.75352929, 0.75088113, 0.7448361 , ..., 0.71719331, 0.7416133 ,\n",
       "        0.6748131 ]])"
      ]
     },
     "execution_count": 131,
     "metadata": {},
     "output_type": "execute_result"
    }
   ],
   "source": [
    "model.sample_posterior_over_accuracy(anno.annotations, 200, burn_in_samples=100, thin_samples=3)"
   ]
  },
  {
   "cell_type": "code",
   "execution_count": 132,
   "metadata": {},
   "outputs": [
    {
     "name": "stdout",
     "output_type": "stream",
     "text": [
      "[[0.01110353 0.28934672 0.36506188 0.33448787]\n",
      " [0.99022305 0.00241897 0.00404947 0.00330852]\n",
      " [0.00249894 0.05503908 0.93463246 0.00782952]\n",
      " ...\n",
      " [0.00252826 0.04395187 0.94559849 0.00792139]\n",
      " [0.00249327 0.00571144 0.93251253 0.05928276]\n",
      " [0.03188956 0.93883018 0.0161144  0.01316586]]\n"
     ]
    }
   ],
   "source": [
    "posterior = model.infer_labels(anno.annotations)\n",
    "print(posterior)"
   ]
  },
  {
   "cell_type": "markdown",
   "metadata": {},
   "source": [
    "Let's visualize the posterior of the first 10 samples according to ModelBt."
   ]
  },
  {
   "cell_type": "code",
   "execution_count": 133,
   "metadata": {},
   "outputs": [
    {
     "data": {
      "image/png": "[encoded data removed]",
      "text/plain": [
       "<matplotlib.figure.Figure at 0x13d20beb8>"
      ]
     },
     "metadata": {},
     "output_type": "display_data"
    }
   ],
   "source": [
    "ax = seaborn.heatmap(posterior[:10,])\n",
    "plt.show()"
   ]
  },
  {
   "cell_type": "markdown",
   "metadata": {},
   "source": [
    "The property of these scores is that they enable us to identify the most likely code assuming coders of unequal quality, which also allows us to break ties when we know coder identity. We may also use the posterior themselves rather than the most probably code outcome."
   ]
  },
  {
   "cell_type": "markdown",
   "metadata": {},
   "source": [
    "## Visualizing coder accuracy"
   ]
  },
  {
   "cell_type": "markdown",
   "metadata": {},
   "source": [
    "Let's make a plot of the accuracy for each annotator inferred from ModelB. This might be helpful if you wanted to ban a \"troll\" from your crowdsourcing enterprise. The coder a very low accuracy likelihood is an outlier and should be \"dropped from the team.\""
   ]
  },
  {
   "cell_type": "code",
   "execution_count": 137,
   "metadata": {},
   "outputs": [],
   "source": [
    "model = ModelB.create_initial_state(4,8)\n",
    "model.mle(anno.annotations)\n",
    "samples = model.sample_posterior_over_accuracy(anno.annotations, 200, burn_in_samples=100, thin_samples=3)"
   ]
  },
  {
   "cell_type": "code",
   "execution_count": 136,
   "metadata": {},
   "outputs": [
    {
     "data": {
      "text/plain": [
       "(array([[[[7.58846596e-01, 1.05241853e-01, 1.33355422e-01,\n",
       "           2.55612819e-03],\n",
       "          [2.33144022e-01, 6.82625905e-01, 6.58502580e-02,\n",
       "           1.83798155e-02],\n",
       "          [4.95988516e-02, 2.10283958e-01, 5.94818212e-01,\n",
       "           1.45298978e-01],\n",
       "          [2.47055465e-03, 1.58677579e-02, 1.46023538e-01,\n",
       "           8.35638150e-01]],\n",
       " \n",
       "         [[7.34819116e-01, 2.09627143e-01, 3.87198696e-02,\n",
       "           1.68338719e-02],\n",
       "          [1.60345617e-01, 7.20121587e-01, 1.08690126e-01,\n",
       "           1.08426700e-02],\n",
       "          [6.59174241e-02, 1.87299292e-01, 6.28142937e-01,\n",
       "           1.18640347e-01],\n",
       "          [5.77260806e-03, 2.65402839e-02, 1.39766900e-01,\n",
       "           8.27920208e-01]],\n",
       " \n",
       "         [[7.18572622e-01, 1.76337527e-01, 3.92276220e-02,\n",
       "           6.58622284e-02],\n",
       "          [1.07266677e-01, 7.04760040e-01, 1.57770524e-01,\n",
       "           3.02027592e-02],\n",
       "          [6.50735261e-02, 1.13764986e-01, 7.28335372e-01,\n",
       "           9.28261162e-02],\n",
       "          [3.92722921e-02, 4.89717855e-02, 2.05828899e-01,\n",
       "           7.05927023e-01]],\n",
       " \n",
       "         ...,\n",
       " \n",
       "         [[7.30308665e-01, 2.50874089e-01, 1.44533319e-02,\n",
       "           4.36391426e-03],\n",
       "          [1.10565282e-01, 6.12878000e-01, 2.04550432e-01,\n",
       "           7.20062863e-02],\n",
       "          [2.14558948e-02, 2.17594203e-01, 6.11542462e-01,\n",
       "           1.49407440e-01],\n",
       "          [1.36759187e-03, 6.61599635e-02, 1.61977912e-01,\n",
       "           7.70494533e-01]],\n",
       " \n",
       "         [[7.87034529e-01, 1.27554953e-01, 6.73654966e-02,\n",
       "           1.80450210e-02],\n",
       "          [1.01532546e-01, 6.52262943e-01, 2.07074907e-01,\n",
       "           3.91296030e-02],\n",
       "          [2.54352700e-02, 9.75180558e-02, 7.65686577e-01,\n",
       "           1.11360097e-01],\n",
       "          [2.62403564e-02, 4.01219141e-02, 1.25796225e-01,\n",
       "           8.07841504e-01]],\n",
       " \n",
       "         [[6.90356756e-01, 1.91627386e-01, 6.73544801e-02,\n",
       "           5.06613781e-02],\n",
       "          [1.99473566e-01, 5.61724187e-01, 2.09674692e-01,\n",
       "           2.91275547e-02],\n",
       "          [3.60137076e-02, 2.56305863e-01, 5.70387328e-01,\n",
       "           1.37293102e-01],\n",
       "          [6.48558281e-04, 5.88918818e-02, 1.58983091e-01,\n",
       "           7.81476469e-01]]],\n",
       " \n",
       " \n",
       "        [[[6.94406892e-01, 2.73967165e-01, 2.57719208e-02,\n",
       "           5.85402254e-03],\n",
       "          [1.27459388e-01, 7.55749704e-01, 5.93543002e-02,\n",
       "           5.74366079e-02],\n",
       "          [3.66031419e-02, 2.07193606e-01, 5.50605491e-01,\n",
       "           2.05597762e-01],\n",
       "          [2.71539103e-03, 2.26341143e-02, 6.46114938e-02,\n",
       "           9.10039001e-01]],\n",
       " \n",
       "         [[6.25629430e-01, 2.72945252e-01, 6.64973734e-02,\n",
       "           3.49279443e-02],\n",
       "          [2.12171344e-01, 6.97637762e-01, 6.68738315e-02,\n",
       "           2.33170625e-02],\n",
       "          [9.62515787e-03, 1.26527032e-01, 6.46398804e-01,\n",
       "           2.17449007e-01],\n",
       "          [5.12689198e-04, 6.35711140e-02, 1.65067407e-01,\n",
       "           7.70848790e-01]],\n",
       " \n",
       "         [[9.14975006e-01, 6.87322044e-02, 5.89889306e-03,\n",
       "           1.03938966e-02],\n",
       "          [9.01611317e-02, 7.06735251e-01, 1.84209411e-01,\n",
       "           1.88942063e-02],\n",
       "          [5.92888432e-02, 1.20616178e-01, 6.79973236e-01,\n",
       "           1.40121743e-01],\n",
       "          [1.21173145e-02, 3.63016139e-02, 1.84101940e-01,\n",
       "           7.67479131e-01]],\n",
       " \n",
       "         ...,\n",
       " \n",
       "         [[7.77321823e-01, 1.75946010e-01, 2.43614185e-02,\n",
       "           2.23707481e-02],\n",
       "          [1.03579800e-01, 6.07648713e-01, 2.32262127e-01,\n",
       "           5.65093600e-02],\n",
       "          [3.37010086e-03, 2.34718605e-01, 6.47169686e-01,\n",
       "           1.14741609e-01],\n",
       "          [9.05840495e-04, 7.57515825e-02, 9.94495356e-02,\n",
       "           8.23893041e-01]],\n",
       " \n",
       "         [[7.66939240e-01, 1.63934150e-01, 5.76498006e-02,\n",
       "           1.14768086e-02],\n",
       "          [1.11419270e-01, 6.14282462e-01, 1.42694576e-01,\n",
       "           1.31603692e-01],\n",
       "          [3.48898282e-02, 1.78376446e-01, 6.98451246e-01,\n",
       "           8.82824799e-02],\n",
       "          [3.57554735e-03, 8.26252381e-02, 1.19516637e-01,\n",
       "           7.94282577e-01]],\n",
       " \n",
       "         [[8.75543676e-01, 4.58370012e-02, 6.51912055e-02,\n",
       "           1.34281168e-02],\n",
       "          [1.03305823e-01, 6.39617370e-01, 1.64078334e-01,\n",
       "           9.29984735e-02],\n",
       "          [1.25474389e-02, 1.43445956e-01, 6.42508734e-01,\n",
       "           2.01497871e-01],\n",
       "          [6.05268727e-02, 7.56281916e-02, 1.28734604e-01,\n",
       "           7.35110332e-01]]],\n",
       " \n",
       " \n",
       "        [[[6.80993969e-01, 2.24157759e-01, 8.23121155e-02,\n",
       "           1.25361569e-02],\n",
       "          [1.78284480e-01, 7.01546964e-01, 8.12197689e-02,\n",
       "           3.89487873e-02],\n",
       "          [1.00717360e-02, 2.06220858e-01, 6.79859903e-01,\n",
       "           1.03847503e-01],\n",
       "          [9.44902210e-03, 2.61997991e-02, 1.83657271e-01,\n",
       "           7.80693908e-01]],\n",
       " \n",
       "         [[5.90769886e-01, 2.03826587e-01, 1.68186760e-01,\n",
       "           3.72167660e-02],\n",
       "          [1.11958756e-01, 7.30403739e-01, 1.03727883e-01,\n",
       "           5.39096208e-02],\n",
       "          [1.51022684e-02, 2.34024777e-01, 6.88125666e-01,\n",
       "           6.27472887e-02],\n",
       "          [2.63900230e-02, 2.97799311e-02, 9.29564169e-02,\n",
       "           8.50873629e-01]],\n",
       " \n",
       "         [[7.52308349e-01, 1.86855948e-01, 1.09567633e-02,\n",
       "           4.98789397e-02],\n",
       "          [3.95335026e-02, 7.96660084e-01, 8.96922042e-02,\n",
       "           7.41142088e-02],\n",
       "          [6.00727929e-02, 1.73690390e-01, 7.09909256e-01,\n",
       "           5.63275619e-02],\n",
       "          [1.89597423e-02, 4.18768084e-02, 2.13268580e-01,\n",
       "           7.25894870e-01]],\n",
       " \n",
       "         ...,\n",
       " \n",
       "         [[7.43060055e-01, 2.40200185e-01, 1.30504676e-02,\n",
       "           3.68929224e-03],\n",
       "          [7.91358640e-02, 7.01346395e-01, 1.78928376e-01,\n",
       "           4.05893647e-02],\n",
       "          [5.98758131e-02, 1.92458763e-01, 5.81965241e-01,\n",
       "           1.65700182e-01],\n",
       "          [1.39076870e-02, 1.16990923e-01, 2.51071169e-01,\n",
       "           6.18030220e-01]],\n",
       " \n",
       "         [[7.33207885e-01, 1.48145920e-01, 5.26454469e-02,\n",
       "           6.60007480e-02],\n",
       "          [1.52367923e-01, 6.90431692e-01, 1.40019576e-01,\n",
       "           1.71808085e-02],\n",
       "          [7.15000044e-03, 7.98567072e-02, 7.81353336e-01,\n",
       "           1.31639957e-01],\n",
       "          [2.06617015e-03, 5.74853784e-02, 1.62286187e-01,\n",
       "           7.78162264e-01]],\n",
       " \n",
       "         [[8.12396231e-01, 7.86404278e-02, 9.52886081e-02,\n",
       "           1.36747330e-02],\n",
       "          [2.66691493e-01, 5.51456337e-01, 1.57794214e-01,\n",
       "           2.40579562e-02],\n",
       "          [2.93886400e-02, 1.30308170e-01, 6.82984317e-01,\n",
       "           1.57318873e-01],\n",
       "          [1.07713985e-02, 1.16193830e-01, 1.02417622e-01,\n",
       "           7.70617149e-01]]],\n",
       " \n",
       " \n",
       "        ...,\n",
       " \n",
       " \n",
       "        [[[7.12141160e-01, 2.30609327e-01, 4.80495799e-02,\n",
       "           9.19993247e-03],\n",
       "          [6.54558890e-02, 6.67266009e-01, 2.06912014e-01,\n",
       "           6.03660878e-02],\n",
       "          [4.01506966e-02, 1.64344655e-01, 6.88786380e-01,\n",
       "           1.06718268e-01],\n",
       "          [2.53402013e-03, 1.65167492e-02, 9.65176929e-02,\n",
       "           8.84431538e-01]],\n",
       " \n",
       "         [[7.08461029e-01, 2.29041494e-01, 6.14305394e-02,\n",
       "           1.06693672e-03],\n",
       "          [8.51500377e-02, 6.90260175e-01, 2.01931114e-01,\n",
       "           2.26586728e-02],\n",
       "          [5.13169302e-02, 1.10490837e-01, 7.04674093e-01,\n",
       "           1.33518140e-01],\n",
       "          [2.22308370e-03, 9.77984170e-02, 1.39542892e-01,\n",
       "           7.60435608e-01]],\n",
       " \n",
       "         [[8.94376118e-01, 9.50518339e-02, 4.75144964e-03,\n",
       "           5.82059809e-03],\n",
       "          [2.00212143e-01, 6.48074757e-01, 1.42266621e-01,\n",
       "           9.44647995e-03],\n",
       "          [5.67707464e-02, 1.03818281e-01, 6.53432349e-01,\n",
       "           1.85978624e-01],\n",
       "          [5.75205566e-02, 4.03639741e-02, 1.84388337e-01,\n",
       "           7.17727132e-01]],\n",
       " \n",
       "         ...,\n",
       " \n",
       "         [[6.60772486e-01, 2.88984653e-01, 3.66632465e-02,\n",
       "           1.35796149e-02],\n",
       "          [5.78441842e-02, 8.08697980e-01, 1.10278975e-01,\n",
       "           2.31788604e-02],\n",
       "          [1.50287991e-02, 1.64960295e-01, 6.44426408e-01,\n",
       "           1.75584499e-01],\n",
       "          [6.33748281e-03, 6.60074141e-02, 1.93211557e-01,\n",
       "           7.34443546e-01]],\n",
       " \n",
       "         [[8.77506821e-01, 7.86074922e-02, 2.77423765e-02,\n",
       "           1.61433103e-02],\n",
       "          [5.60204254e-02, 6.67340004e-01, 1.77325710e-01,\n",
       "           9.93138603e-02],\n",
       "          [2.06934291e-02, 8.28945453e-02, 7.74143716e-01,\n",
       "           1.22268309e-01],\n",
       "          [2.85187909e-04, 3.67318331e-02, 8.00670787e-02,\n",
       "           8.82915900e-01]],\n",
       " \n",
       "         [[7.08940375e-01, 2.27686547e-01, 5.83263107e-02,\n",
       "           5.04676788e-03],\n",
       "          [1.66688066e-01, 5.89304177e-01, 2.25283115e-01,\n",
       "           1.87246410e-02],\n",
       "          [2.29687617e-02, 2.16990739e-01, 6.15501011e-01,\n",
       "           1.44539489e-01],\n",
       "          [3.13716588e-04, 4.74430326e-02, 1.23706649e-01,\n",
       "           8.28536601e-01]]],\n",
       " \n",
       " \n",
       "        [[[7.21519417e-01, 1.51654972e-01, 7.87996098e-02,\n",
       "           4.80260009e-02],\n",
       "          [1.97396446e-01, 6.72932427e-01, 6.62929023e-02,\n",
       "           6.33782242e-02],\n",
       "          [3.60786569e-02, 2.39117565e-01, 5.76433236e-01,\n",
       "           1.48370542e-01],\n",
       "          [1.30713750e-03, 5.37081713e-02, 9.71937587e-02,\n",
       "           8.47790933e-01]],\n",
       " \n",
       "         [[7.21891128e-01, 1.26287906e-01, 1.29645455e-01,\n",
       "           2.21755114e-02],\n",
       "          [7.58718314e-02, 7.77366558e-01, 5.87047969e-02,\n",
       "           8.80568133e-02],\n",
       "          [8.97957965e-02, 1.59377266e-01, 5.78572953e-01,\n",
       "           1.72253984e-01],\n",
       "          [1.66251145e-03, 8.74583629e-02, 1.17575827e-01,\n",
       "           7.93303298e-01]],\n",
       " \n",
       "         [[7.67822184e-01, 1.70844384e-01, 4.83875471e-02,\n",
       "           1.29458846e-02],\n",
       "          [9.93636781e-02, 7.87885951e-01, 4.41567953e-02,\n",
       "           6.85935759e-02],\n",
       "          [5.67662739e-02, 1.52616123e-01, 7.01046231e-01,\n",
       "           8.95713721e-02],\n",
       "          [2.96827006e-02, 3.34753031e-02, 1.33691027e-01,\n",
       "           8.03150969e-01]],\n",
       " \n",
       "         ...,\n",
       " \n",
       "         [[6.96921717e-01, 1.93513910e-01, 9.31630837e-02,\n",
       "           1.64012892e-02],\n",
       "          [1.54863107e-01, 7.32055074e-01, 1.05439927e-01,\n",
       "           7.64189289e-03],\n",
       "          [3.85151423e-02, 1.62185922e-01, 5.43272283e-01,\n",
       "           2.56026653e-01],\n",
       "          [3.32466941e-02, 8.38738961e-02, 1.73478233e-01,\n",
       "           7.09401177e-01]],\n",
       " \n",
       "         [[7.47769667e-01, 1.33616062e-01, 1.10836446e-01,\n",
       "           7.77782412e-03],\n",
       "          [2.15290147e-01, 5.12620790e-01, 1.84715736e-01,\n",
       "           8.73733268e-02],\n",
       "          [5.35859877e-02, 1.83981151e-01, 6.68142130e-01,\n",
       "           9.42907314e-02],\n",
       "          [1.62906675e-03, 3.75503571e-02, 1.17402238e-01,\n",
       "           8.43418339e-01]],\n",
       " \n",
       "         [[7.87222947e-01, 1.69742312e-01, 1.21202108e-02,\n",
       "           3.09145307e-02],\n",
       "          [2.34431846e-01, 5.73518562e-01, 1.68438806e-01,\n",
       "           2.36107854e-02],\n",
       "          [2.57575817e-02, 2.05624876e-01, 6.20483762e-01,\n",
       "           1.48133780e-01],\n",
       "          [4.43194720e-03, 5.64343181e-02, 8.38118164e-02,\n",
       "           8.55321918e-01]]],\n",
       " \n",
       " \n",
       "        [[[6.22905812e-01, 3.15624909e-01, 4.70653241e-02,\n",
       "           1.44039553e-02],\n",
       "          [1.73450161e-01, 5.97716683e-01, 1.09193345e-01,\n",
       "           1.19639811e-01],\n",
       "          [3.12338246e-02, 1.46288129e-01, 6.72986253e-01,\n",
       "           1.49491793e-01],\n",
       "          [1.86505248e-02, 5.52172446e-02, 3.23351397e-02,\n",
       "           8.93797091e-01]],\n",
       " \n",
       "         [[6.58999086e-01, 1.82245322e-01, 1.00494966e-01,\n",
       "           5.82606263e-02],\n",
       "          [9.18079693e-02, 7.12333725e-01, 1.04743451e-01,\n",
       "           9.11148546e-02],\n",
       "          [8.09159056e-02, 1.45743624e-01, 6.17432445e-01,\n",
       "           1.55908025e-01],\n",
       "          [2.44870982e-02, 7.13429890e-02, 1.43289715e-01,\n",
       "           7.60880197e-01]],\n",
       " \n",
       "         [[7.59487700e-01, 1.66960427e-01, 6.56314144e-02,\n",
       "           7.92045905e-03],\n",
       "          [4.45614626e-02, 8.26352720e-01, 6.81426117e-02,\n",
       "           6.09432054e-02],\n",
       "          [5.63894719e-02, 1.48288598e-01, 6.84922281e-01,\n",
       "           1.10399649e-01],\n",
       "          [1.08070883e-02, 3.55662811e-02, 1.51663552e-01,\n",
       "           8.01963079e-01]],\n",
       " \n",
       "         ...,\n",
       " \n",
       "         [[5.40444826e-01, 3.26741974e-01, 1.03002094e-01,\n",
       "           2.98111052e-02],\n",
       "          [2.15986176e-01, 6.47491082e-01, 1.21344795e-01,\n",
       "           1.51779477e-02],\n",
       "          [5.47281962e-03, 1.98058869e-01, 5.88794733e-01,\n",
       "           2.07673578e-01],\n",
       "          [4.68576269e-02, 6.49681832e-02, 2.19932772e-01,\n",
       "           6.68241418e-01]],\n",
       " \n",
       "         [[8.12076970e-01, 1.21084636e-01, 6.53445501e-02,\n",
       "           1.49384347e-03],\n",
       "          [6.79471003e-02, 5.83716312e-01, 2.50032883e-01,\n",
       "           9.83037054e-02],\n",
       "          [2.03418203e-02, 1.59471165e-01, 6.08491911e-01,\n",
       "           2.11695103e-01],\n",
       "          [2.49329832e-03, 3.82938447e-02, 1.23270423e-01,\n",
       "           8.35942434e-01]],\n",
       " \n",
       "         [[8.31595148e-01, 1.41715468e-01, 4.39282534e-03,\n",
       "           2.22965587e-02],\n",
       "          [1.67374125e-01, 5.36079633e-01, 2.61264773e-01,\n",
       "           3.52814689e-02],\n",
       "          [1.04738272e-02, 2.56031808e-01, 5.77102288e-01,\n",
       "           1.56392077e-01],\n",
       "          [2.94273570e-02, 1.11353961e-01, 1.46752223e-01,\n",
       "           7.12466459e-01]]]]),\n",
       " array([[0.10396756, 0.22232704, 0.35578088, 0.31792452],\n",
       "        [0.09893083, 0.19910191, 0.37003668, 0.33193059],\n",
       "        [0.13322268, 0.1730483 , 0.35459434, 0.33913467],\n",
       "        [0.09276112, 0.19849134, 0.36967316, 0.33907437],\n",
       "        [0.09959871, 0.22028884, 0.36032246, 0.31978998],\n",
       "        [0.1017041 , 0.24268082, 0.31932943, 0.33628566],\n",
       "        [0.08552241, 0.20402805, 0.38080952, 0.32964002],\n",
       "        [0.12753856, 0.20103074, 0.35179884, 0.31963186],\n",
       "        [0.11666522, 0.21261281, 0.38188062, 0.28884135],\n",
       "        [0.09955233, 0.2198854 , 0.35344537, 0.32711689],\n",
       "        [0.11584156, 0.19336021, 0.41840241, 0.27239581],\n",
       "        [0.10828854, 0.19148021, 0.40562109, 0.29461016],\n",
       "        [0.12519791, 0.21672273, 0.3995025 , 0.25857686],\n",
       "        [0.10280988, 0.19340665, 0.40894787, 0.29483561],\n",
       "        [0.09664114, 0.21438048, 0.40762907, 0.28134931],\n",
       "        [0.12354789, 0.19947648, 0.39415721, 0.28281841],\n",
       "        [0.13893152, 0.1535836 , 0.38608299, 0.3214019 ],\n",
       "        [0.10127681, 0.2142176 , 0.36257921, 0.32192639],\n",
       "        [0.13846263, 0.22939823, 0.33060105, 0.30153809],\n",
       "        [0.10770122, 0.20849518, 0.37370466, 0.31009894],\n",
       "        [0.09813243, 0.22481839, 0.35457903, 0.32247016],\n",
       "        [0.11120451, 0.21678534, 0.37006715, 0.30194301],\n",
       "        [0.11110288, 0.21931457, 0.36909309, 0.30048947],\n",
       "        [0.11512722, 0.21895088, 0.35268431, 0.31323758],\n",
       "        [0.10199846, 0.17132417, 0.36091277, 0.3657646 ],\n",
       "        [0.09815995, 0.18673646, 0.39154707, 0.32355652],\n",
       "        [0.10887069, 0.19051162, 0.39180945, 0.30880824],\n",
       "        [0.10191641, 0.19207499, 0.37531044, 0.33069815],\n",
       "        [0.09364696, 0.22469464, 0.38710032, 0.29455808],\n",
       "        [0.0940956 , 0.19693355, 0.39847283, 0.31049802],\n",
       "        [0.10293812, 0.18413017, 0.38804653, 0.32488518],\n",
       "        [0.08996083, 0.20695919, 0.37373011, 0.32934987],\n",
       "        [0.10318525, 0.241326  , 0.38010785, 0.2753809 ],\n",
       "        [0.12965893, 0.1898051 , 0.36018768, 0.32034829],\n",
       "        [0.14710556, 0.15299975, 0.38031179, 0.3195829 ],\n",
       "        [0.11522058, 0.15758456, 0.42829439, 0.29890047],\n",
       "        [0.11775001, 0.20343601, 0.38331956, 0.29549441],\n",
       "        [0.13462934, 0.22002162, 0.35458098, 0.29076807],\n",
       "        [0.09345623, 0.24521775, 0.38543019, 0.27589583],\n",
       "        [0.12415561, 0.20899464, 0.41102203, 0.25582772],\n",
       "        [0.12646188, 0.1693306 , 0.42491281, 0.27929471],\n",
       "        [0.12137117, 0.17955234, 0.38527057, 0.31380591],\n",
       "        [0.12716929, 0.22495198, 0.34795526, 0.29992347],\n",
       "        [0.12143728, 0.21085384, 0.38151207, 0.2861968 ],\n",
       "        [0.0914842 , 0.18967404, 0.41222592, 0.30661584],\n",
       "        [0.11207315, 0.20659689, 0.33212824, 0.34920173],\n",
       "        [0.11268159, 0.2060548 , 0.34235782, 0.33890579],\n",
       "        [0.08745601, 0.21522558, 0.37674664, 0.32057177],\n",
       "        [0.10863475, 0.15849924, 0.42001884, 0.31284717],\n",
       "        [0.10509526, 0.17505308, 0.42101361, 0.29883805],\n",
       "        [0.10986471, 0.18725089, 0.41884238, 0.28404202],\n",
       "        [0.13780857, 0.22630334, 0.40225861, 0.23362948],\n",
       "        [0.1304335 , 0.21703697, 0.38869644, 0.26383309],\n",
       "        [0.0870558 , 0.18820735, 0.41783234, 0.3069045 ],\n",
       "        [0.09226716, 0.17740318, 0.40780014, 0.32252952],\n",
       "        [0.11693916, 0.22938929, 0.35869916, 0.29497239],\n",
       "        [0.12466843, 0.20274108, 0.32934397, 0.34324652],\n",
       "        [0.11001527, 0.20127108, 0.37233092, 0.31638273],\n",
       "        [0.0920345 , 0.22684378, 0.36188089, 0.31924083],\n",
       "        [0.13554136, 0.19078774, 0.3616438 , 0.3120271 ],\n",
       "        [0.10932098, 0.19352452, 0.38358553, 0.31356897],\n",
       "        [0.09401743, 0.2435686 , 0.33339202, 0.32902195],\n",
       "        [0.08040072, 0.19407371, 0.39437872, 0.33114685],\n",
       "        [0.1055743 , 0.21964102, 0.38261099, 0.29217369],\n",
       "        [0.12709781, 0.19584633, 0.37126713, 0.30578872],\n",
       "        [0.10222633, 0.19976622, 0.36053795, 0.3374695 ],\n",
       "        [0.12151408, 0.19693765, 0.34545144, 0.33609683],\n",
       "        [0.11015706, 0.21294137, 0.41329708, 0.26360449],\n",
       "        [0.11709007, 0.2070007 , 0.39870178, 0.27720745],\n",
       "        [0.09524704, 0.21132081, 0.41301809, 0.28041405],\n",
       "        [0.09164397, 0.205595  , 0.44071103, 0.26205   ],\n",
       "        [0.11520901, 0.18234187, 0.41255619, 0.28989293],\n",
       "        [0.12315024, 0.20066552, 0.36960238, 0.30658186],\n",
       "        [0.11887673, 0.2104994 , 0.3273145 , 0.34330937],\n",
       "        [0.10531446, 0.21311516, 0.35768097, 0.3238894 ],\n",
       "        [0.10783241, 0.19410547, 0.38766707, 0.31039504],\n",
       "        [0.12863437, 0.19303742, 0.37179227, 0.30653594],\n",
       "        [0.12811165, 0.21402477, 0.36688796, 0.29097562],\n",
       "        [0.09862603, 0.21373164, 0.39318983, 0.2944525 ],\n",
       "        [0.11200918, 0.20368962, 0.4045654 , 0.2797358 ],\n",
       "        [0.1188084 , 0.20728071, 0.39546988, 0.27844102],\n",
       "        [0.10569163, 0.23948762, 0.37483093, 0.27998982],\n",
       "        [0.10747642, 0.2133479 , 0.36794175, 0.31123392],\n",
       "        [0.13566142, 0.17325926, 0.41256785, 0.27851147],\n",
       "        [0.12016909, 0.20868157, 0.37367248, 0.29747685],\n",
       "        [0.12471404, 0.18398463, 0.36974525, 0.32155608],\n",
       "        [0.11644761, 0.19989764, 0.38518942, 0.29846532],\n",
       "        [0.11478408, 0.19036349, 0.35281482, 0.34203761],\n",
       "        [0.0976644 , 0.22728039, 0.33704967, 0.33800553],\n",
       "        [0.12035668, 0.21083454, 0.37237899, 0.29642978],\n",
       "        [0.09812062, 0.21470842, 0.36828403, 0.31888693],\n",
       "        [0.11243866, 0.24890829, 0.3363737 , 0.30227935],\n",
       "        [0.11868056, 0.20237933, 0.35913953, 0.31980059],\n",
       "        [0.13860577, 0.18327342, 0.35293956, 0.32518125],\n",
       "        [0.08305262, 0.21627606, 0.35567823, 0.3449931 ],\n",
       "        [0.11387769, 0.19417552, 0.38588469, 0.3060621 ],\n",
       "        [0.12894903, 0.20550038, 0.36300268, 0.30254791],\n",
       "        [0.10580607, 0.19781062, 0.38157618, 0.31480713],\n",
       "        [0.10779834, 0.23068328, 0.36252117, 0.29899721],\n",
       "        [0.10563974, 0.19617183, 0.40077855, 0.29740988],\n",
       "        [0.11294163, 0.22070513, 0.36980286, 0.29655039],\n",
       "        [0.12785808, 0.20443255, 0.36402088, 0.3036885 ],\n",
       "        [0.109822  , 0.20151435, 0.37896536, 0.30969829],\n",
       "        [0.13346227, 0.19163378, 0.37768922, 0.29721473],\n",
       "        [0.1263949 , 0.20240443, 0.36117689, 0.31002378],\n",
       "        [0.14115857, 0.17494919, 0.3353502 , 0.34854203],\n",
       "        [0.12799975, 0.18584467, 0.36963967, 0.31651591],\n",
       "        [0.1245997 , 0.17444902, 0.33958834, 0.36136295],\n",
       "        [0.10287907, 0.19931414, 0.35594714, 0.34185965],\n",
       "        [0.10375586, 0.2146022 , 0.37343516, 0.30820678],\n",
       "        [0.09809863, 0.21143914, 0.34488197, 0.34558026],\n",
       "        [0.08810481, 0.18487431, 0.41034966, 0.31667121],\n",
       "        [0.10870431, 0.20572106, 0.41207208, 0.27350256],\n",
       "        [0.10433937, 0.19867296, 0.39413742, 0.30285025],\n",
       "        [0.14520969, 0.22049966, 0.33788841, 0.29640224],\n",
       "        [0.12009549, 0.21145745, 0.35397043, 0.31447664],\n",
       "        [0.08708059, 0.24750899, 0.38715939, 0.27825102],\n",
       "        [0.11578554, 0.23211148, 0.3864402 , 0.26566278],\n",
       "        [0.10521847, 0.2198906 , 0.38626616, 0.28862477],\n",
       "        [0.10751388, 0.24151464, 0.36366447, 0.28730702],\n",
       "        [0.11685431, 0.23422972, 0.35185671, 0.29705926],\n",
       "        [0.12705591, 0.23647379, 0.34985698, 0.28661332],\n",
       "        [0.10560219, 0.23484654, 0.37410619, 0.28544508],\n",
       "        [0.11627249, 0.21184646, 0.40060047, 0.27128058],\n",
       "        [0.12239352, 0.1976842 , 0.38650621, 0.29341606],\n",
       "        [0.14648649, 0.2046894 , 0.35333954, 0.29548456],\n",
       "        [0.11729156, 0.20729348, 0.38220909, 0.29320587],\n",
       "        [0.09898165, 0.21028613, 0.40225187, 0.28848035],\n",
       "        [0.11112875, 0.22576175, 0.36565915, 0.29745035],\n",
       "        [0.11858525, 0.22098196, 0.41189133, 0.24854146],\n",
       "        [0.11368589, 0.18101582, 0.41410561, 0.29119268],\n",
       "        [0.09447706, 0.24641104, 0.36449804, 0.29461386],\n",
       "        [0.10466377, 0.24801221, 0.38250382, 0.2648202 ],\n",
       "        [0.11122975, 0.24978365, 0.34227726, 0.29670934],\n",
       "        [0.11013962, 0.21083689, 0.35343371, 0.32558978],\n",
       "        [0.12713635, 0.21433428, 0.38188311, 0.27664625],\n",
       "        [0.11978563, 0.21899254, 0.36691397, 0.29430786],\n",
       "        [0.11691625, 0.21032214, 0.37996462, 0.29279699],\n",
       "        [0.11576097, 0.20167515, 0.39861769, 0.28394619],\n",
       "        [0.11282849, 0.21411631, 0.40043275, 0.27262245],\n",
       "        [0.10633951, 0.22009603, 0.36433354, 0.30923092],\n",
       "        [0.10729317, 0.21423064, 0.34169115, 0.33678504],\n",
       "        [0.11280768, 0.18930474, 0.36796532, 0.32992225],\n",
       "        [0.11727985, 0.23083087, 0.32694356, 0.32494572],\n",
       "        [0.10850608, 0.23271499, 0.31854542, 0.34023352],\n",
       "        [0.10468811, 0.20563774, 0.32396007, 0.36571409],\n",
       "        [0.10948171, 0.21999616, 0.36260628, 0.30791585],\n",
       "        [0.10103436, 0.2020845 , 0.37950171, 0.31737943],\n",
       "        [0.10784755, 0.1736409 , 0.41390062, 0.30461093],\n",
       "        [0.12760493, 0.19152962, 0.3935291 , 0.28733636],\n",
       "        [0.10843511, 0.19872625, 0.4212184 , 0.27162025],\n",
       "        [0.1002853 , 0.19256379, 0.44340074, 0.26375016],\n",
       "        [0.07480988, 0.21677645, 0.40086874, 0.30754492],\n",
       "        [0.10007387, 0.23018472, 0.36556881, 0.3041726 ],\n",
       "        [0.09328503, 0.21039421, 0.3710953 , 0.32522546],\n",
       "        [0.1016194 , 0.21190112, 0.37656586, 0.30991362],\n",
       "        [0.10783977, 0.21272181, 0.36483205, 0.31460637],\n",
       "        [0.11971864, 0.20089647, 0.38539774, 0.29398715],\n",
       "        [0.109193  , 0.22839609, 0.3617219 , 0.30068902],\n",
       "        [0.09926626, 0.21970488, 0.37478676, 0.3062421 ],\n",
       "        [0.1194581 , 0.21858193, 0.35037186, 0.31158811],\n",
       "        [0.10810755, 0.18728703, 0.38102706, 0.32357836],\n",
       "        [0.10507189, 0.20418376, 0.3643677 , 0.32637666],\n",
       "        [0.11482904, 0.21090524, 0.35375977, 0.32050595],\n",
       "        [0.10008143, 0.1633584 , 0.41839864, 0.31816153],\n",
       "        [0.12074716, 0.20872331, 0.37036219, 0.30016734],\n",
       "        [0.10434547, 0.17416067, 0.41511165, 0.30638221],\n",
       "        [0.14001778, 0.18863769, 0.36997489, 0.30136964],\n",
       "        [0.08065001, 0.23013536, 0.34936073, 0.3398539 ],\n",
       "        [0.10897186, 0.1934007 , 0.40131674, 0.2963107 ],\n",
       "        [0.10839901, 0.26505455, 0.33324135, 0.29330509],\n",
       "        [0.11759685, 0.2451973 , 0.37142896, 0.26577688],\n",
       "        [0.10391473, 0.20049222, 0.41019843, 0.28539462],\n",
       "        [0.10260482, 0.24906486, 0.40387464, 0.24445568],\n",
       "        [0.09257434, 0.24026151, 0.3758169 , 0.29134726],\n",
       "        [0.09636418, 0.21673382, 0.39763838, 0.28926361],\n",
       "        [0.09931496, 0.20251497, 0.3942162 , 0.30395387],\n",
       "        [0.09811247, 0.18701693, 0.44700638, 0.26786423],\n",
       "        [0.10730798, 0.21209995, 0.36987259, 0.31071948],\n",
       "        [0.12562786, 0.18677929, 0.38279662, 0.30479623],\n",
       "        [0.12268002, 0.20084103, 0.38805219, 0.28842676],\n",
       "        [0.12744422, 0.21715308, 0.37389415, 0.28150856],\n",
       "        [0.11091715, 0.19025156, 0.39305524, 0.30577604],\n",
       "        [0.11696113, 0.18885943, 0.3796552 , 0.31452424],\n",
       "        [0.11320435, 0.2163688 , 0.3728928 , 0.29753405],\n",
       "        [0.13176308, 0.21665897, 0.37029344, 0.2812845 ],\n",
       "        [0.10446676, 0.19527733, 0.42437776, 0.27587816],\n",
       "        [0.10504293, 0.20266091, 0.37525555, 0.31704061],\n",
       "        [0.11843775, 0.22086545, 0.32704285, 0.33365396],\n",
       "        [0.11202681, 0.21043394, 0.3736333 , 0.30390596],\n",
       "        [0.12152443, 0.1861513 , 0.42403357, 0.26829069],\n",
       "        [0.11563379, 0.17044044, 0.45908647, 0.2548393 ],\n",
       "        [0.11865305, 0.193435  , 0.42666453, 0.26124742],\n",
       "        [0.08757522, 0.19696427, 0.46052384, 0.25493667],\n",
       "        [0.10517055, 0.23399582, 0.36054141, 0.30029223],\n",
       "        [0.09875291, 0.20110221, 0.40877502, 0.29136986],\n",
       "        [0.13188962, 0.18772769, 0.42490045, 0.25548223],\n",
       "        [0.14171981, 0.19099777, 0.39893404, 0.26834837],\n",
       "        [0.12073987, 0.1776122 , 0.44169343, 0.2599545 ],\n",
       "        [0.11746367, 0.18021619, 0.42360736, 0.27871278]]),\n",
       " array([[2., 0., 2., ..., 2., 2., 1.],\n",
       "        [2., 0., 2., ..., 2., 2., 0.],\n",
       "        [1., 0., 2., ..., 2., 2., 0.],\n",
       "        ...,\n",
       "        [2., 0., 1., ..., 2., 2., 1.],\n",
       "        [2., 0., 2., ..., 2., 2., 1.],\n",
       "        [3., 0., 2., ..., 2., 2., 0.]]))"
      ]
     },
     "execution_count": 136,
     "metadata": {},
     "output_type": "execute_result"
    }
   ],
   "source": [
    "samples\n",
    "#y =  samples.mean(axis=0)\n",
    "#y_ci = samples.std(axis=0)"
   ]
  },
  {
   "cell_type": "code",
   "execution_count": 31,
   "metadata": {},
   "outputs": [
    {
     "data": {
      "image/png": "[encoded data removed]",
      "text/plain": [
       "<matplotlib.figure.Figure at 0x1186a0550>"
      ]
     },
     "metadata": {},
     "output_type": "display_data"
    }
   ],
   "source": [
    "plt.figure()\n",
    "plt.errorbar(range(8),y, yerr = y_ci)\n",
    "plt.show()"
   ]
  },
  {
   "cell_type": "code",
   "execution_count": 48,
   "metadata": {},
   "outputs": [
    {
     "data": {
      "text/plain": [
       "(21461, 6)"
      ]
     },
     "execution_count": 48,
     "metadata": {},
     "output_type": "execute_result"
    }
   ],
   "source": [
    "dev.shape"
   ]
  },
  {
   "cell_type": "code",
   "execution_count": 49,
   "metadata": {},
   "outputs": [
    {
     "data": {
      "text/plain": [
       "array([[ 0, -1, -1, ...,  1, -1, -1],\n",
       "       [ 0, -1, -1, ...,  0, -1, -1],\n",
       "       [ 0, -1, -1, ...,  0, -1, -1],\n",
       "       ...,\n",
       "       [-1, -1, -1, ..., -1, -1, -1],\n",
       "       [-1, -1, -1, ..., -1, -1, -1],\n",
       "       [-1, -1, -1, ..., -1, -1, -1]])"
      ]
     },
     "execution_count": 49,
     "metadata": {},
     "output_type": "execute_result"
    }
   ],
   "source": [
    "negs2 = np.ones((21461, 2), dtype=np.int)*(-1)\n",
    "devA = np.concatenate((dev, negs2), axis=1)\n",
    "devA"
   ]
  },
  {
   "cell_type": "code",
   "execution_count": 50,
   "metadata": {},
   "outputs": [
    {
     "data": {
      "text/plain": [
       "array([0.72172498, 0.63677375, 0.78485102, 0.88042581, 0.66158145,\n",
       "       0.90216789, 0.71087678, 0.8673252 ])"
      ]
     },
     "execution_count": 50,
     "metadata": {},
     "output_type": "execute_result"
    }
   ],
   "source": [
    "anno_dvA = AnnotationsContainer.from_array(devA)\n",
    "model_devA = ModelA.create_initial_state(2)\n",
    "model_devA.theta"
   ]
  },
  {
   "cell_type": "code",
   "execution_count": 51,
   "metadata": {},
   "outputs": [
    {
     "name": "stdout",
     "output_type": "stream",
     "text": [
      "[0.55602757 0.44397243]\n",
      "-29424.658854831592\n"
     ]
    }
   ],
   "source": [
    "model_dvB = ModelB.create_initial_state(2, 6)\n",
    "print(model_dvB.pi)\n",
    "print(model_dvB.log_likelihood(anno_dv.annotations))"
   ]
  },
  {
   "cell_type": "code",
   "execution_count": 52,
   "metadata": {},
   "outputs": [
    {
     "name": "stdout",
     "output_type": "stream",
     "text": [
      "[0.69455487 0.30544513]\n",
      "-25462.473635032595\n"
     ]
    }
   ],
   "source": [
    "model_dvB.map(anno_dv.annotations)\n",
    "print(model_dvB.pi)\n",
    "print(model_dvB.log_likelihood(anno_dv.annotations))"
   ]
  },
  {
   "cell_type": "code",
   "execution_count": 53,
   "metadata": {},
   "outputs": [
    {
     "name": "stdout",
     "output_type": "stream",
     "text": [
      "[[0.01110393 0.28927002 0.3650843  0.33454175]\n",
      " [0.99022908 0.00241766 0.00404681 0.00330645]\n",
      " [0.00249927 0.05505796 0.93461386 0.00782892]\n",
      " ...\n",
      " [0.00252864 0.04395045 0.94559996 0.00792094]\n",
      " [0.00249366 0.00571164 0.93251863 0.05927606]\n",
      " [0.03188892 0.93883621 0.01611121 0.01316366]]\n"
     ]
    }
   ],
   "source": [
    "# compute the posterior distribution over true annotations\n",
    "posterior_dvB = model_dvB.infer_labels(anno_dv.annotations)\n",
    "# each row show the probability of each label class for the\n",
    "# corresponding item\n",
    "print(posterior)"
   ]
  },
  {
   "cell_type": "code",
   "execution_count": 54,
   "metadata": {},
   "outputs": [],
   "source": [
    "samples_dvB = model_dvB.sample_posterior_over_accuracy(anno_dv.annotations, 200, burn_in_samples=100, thin_samples=3)"
   ]
  },
  {
   "cell_type": "code",
   "execution_count": 55,
   "metadata": {},
   "outputs": [
    {
     "name": "stdout",
     "output_type": "stream",
     "text": [
      "Mean\n",
      "[[[0.9789971  0.0210029 ]\n",
      "  [0.513975   0.486025  ]]\n",
      "\n",
      " [[0.96904172 0.03095828]\n",
      "  [0.25765725 0.74234275]]\n",
      "\n",
      " [[0.98252496 0.01747504]\n",
      "  [0.34706037 0.65293963]]\n",
      "\n",
      " [[0.93483888 0.06516112]\n",
      "  [0.23901861 0.76098139]]\n",
      "\n",
      " [[0.69137524 0.30862476]\n",
      "  [0.04624375 0.95375625]]\n",
      "\n",
      " [[0.86326013 0.13673987]\n",
      "  [0.06846096 0.93153904]]]\n",
      "\n",
      "STD\n",
      "[[[0.00247746 0.00247746]\n",
      "  [0.01070045 0.01070045]]\n",
      "\n",
      " [[0.00296888 0.00296888]\n",
      "  [0.01433675 0.01433675]]\n",
      "\n",
      " [[0.00309882 0.00309882]\n",
      "  [0.01394951 0.01394951]]\n",
      "\n",
      " [[0.00428536 0.00428536]\n",
      "  [0.01107137 0.01107137]]\n",
      "\n",
      " [[0.00745304 0.00745304]\n",
      "  [0.00528562 0.00528562]]\n",
      "\n",
      " [[0.00737031 0.00737031]\n",
      "  [0.00695178 0.00695178]]]\n"
     ]
    }
   ],
   "source": [
    "# we can then compute a credible interval for the parameters:\n",
    "ci_dv_mean = samples_dvB[0].mean(axis=0)\n",
    "print(\"Mean\")\n",
    "print(ci_dv_mean)\n",
    "\n",
    "ci_dv_stdev = samples_dvB[0].std(axis=0)\n",
    "print(\"\\nSTD\")\n",
    "print(ci_dv_stdev)\n"
   ]
  },
  {
   "cell_type": "markdown",
   "metadata": {},
   "source": [
    "We will use Model B estimates for other variable assessments."
   ]
  },
  {
   "cell_type": "code",
   "execution_count": 56,
   "metadata": {},
   "outputs": [
    {
     "name": "stdout",
     "output_type": "stream",
     "text": [
      "-145.0422634893686\n",
      "[9.20933481e-20 1.00000000e+00]\n",
      "-48.9756711393957\n",
      "(48, 6)\n",
      "(48, 2)\n",
      "[[[0.81146976 0.18853024]\n",
      "  [0.12894486 0.87105514]]\n",
      "\n",
      " [[0.80130758 0.19869242]\n",
      "  [0.08709592 0.91290408]]\n",
      "\n",
      " [[0.79813248 0.20186752]\n",
      "  [0.48874787 0.51125213]]\n",
      "\n",
      " [[0.79071384 0.20928616]\n",
      "  [0.07304143 0.92695857]]\n",
      "\n",
      " [[0.80023306 0.19976694]\n",
      "  [0.36352178 0.63647822]]\n",
      "\n",
      " [[0.79844965 0.20155035]\n",
      "  [0.12832972 0.87167028]]]\n"
     ]
    }
   ],
   "source": [
    "#test\n",
    "model_testB = ModelB.create_initial_state(2, 6)\n",
    "print(model_testB.log_likelihood(anno_test.annotations))\n",
    "model_testB.map(anno_test.annotations)\n",
    "print(model_testB.pi)\n",
    "print(model_testB.log_likelihood(anno_test.annotations))\n",
    "print(anno_test.annotations.shape)\n",
    "posterior_testB = model_testB.infer_labels(anno_test.annotations)\n",
    "print(posterior_testB.shape)\n",
    "samples_testB = model_testB.sample_posterior_over_accuracy(anno_test.annotations, 200, burn_in_samples=100, thin_samples=3)\n",
    "ci_test_mean = samples_testB[0].mean(axis=0)\n",
    "print(ci_test_mean)"
   ]
  },
  {
   "cell_type": "code",
   "execution_count": 57,
   "metadata": {},
   "outputs": [
    {
     "name": "stdout",
     "output_type": "stream",
     "text": [
      "-33416.70440663318\n",
      "[0.61093546 0.38906454]\n",
      "-28620.66523246587\n",
      "(21461, 6)\n",
      "(21461, 2)\n",
      "[[[0.97189887 0.02810113]\n",
      "  [0.34790921 0.65209079]]\n",
      "\n",
      " [[0.93795992 0.06204008]\n",
      "  [0.0557534  0.9442466 ]]\n",
      "\n",
      " [[0.65826312 0.34173688]\n",
      "  [0.21134214 0.78865786]]\n",
      "\n",
      " [[0.53788795 0.46211205]\n",
      "  [0.03083868 0.96916132]]\n",
      "\n",
      " [[0.87661482 0.12338518]\n",
      "  [0.09928832 0.90071168]]\n",
      "\n",
      " [[0.89215921 0.10784079]\n",
      "  [0.09037686 0.90962314]]]\n",
      "-30772.532947376418\n",
      "[0.23988844 0.76011156]\n",
      "-25034.918555765576\n",
      "(21461, 6)\n",
      "(21461, 2)\n",
      "[[[0.8967795  0.1032205 ]\n",
      "  [0.06970668 0.93029332]]\n",
      "\n",
      " [[0.7828826  0.2171174 ]\n",
      "  [0.05897496 0.94102504]]\n",
      "\n",
      " [[0.99208685 0.00791315]\n",
      "  [0.84258825 0.15741175]]\n",
      "\n",
      " [[0.95136504 0.04863496]\n",
      "  [0.45635236 0.54364764]]\n",
      "\n",
      " [[0.68009661 0.31990339]\n",
      "  [0.05685607 0.94314393]]\n",
      "\n",
      " [[0.59100677 0.40899323]\n",
      "  [0.09708368 0.90291632]]]\n",
      "-35095.93454769518\n",
      "[0.83068326 0.16931674]\n",
      "-19415.702035242168\n",
      "(21461, 6)\n",
      "(21461, 2)\n",
      "[[[0.97098834 0.02901166]\n",
      "  [0.34750899 0.65249101]]\n",
      "\n",
      " [[0.93773584 0.06226416]\n",
      "  [0.05342325 0.94657675]]\n",
      "\n",
      " [[0.65769043 0.34230957]\n",
      "  [0.20913377 0.79086623]]\n",
      "\n",
      " [[0.53725888 0.46274112]\n",
      "  [0.03000481 0.96999519]]\n",
      "\n",
      " [[0.87454818 0.12545182]\n",
      "  [0.09909154 0.90090846]]\n",
      "\n",
      " [[0.8903729  0.1096271 ]\n",
      "  [0.09017293 0.90982707]]]\n"
     ]
    }
   ],
   "source": [
    "#indepedent variables\n",
    "model_ivB = ModelB.create_initial_state(2, 6)\n",
    "print(model_ivB.log_likelihood(anno_iv.annotations))\n",
    "model_ivB.map(anno_iv.annotations)\n",
    "print(model_ivB.pi)\n",
    "print(model_ivB.log_likelihood(anno_iv.annotations))\n",
    "print(anno_iv.annotations.shape)\n",
    "posterior_ivB = model_ivB.infer_labels(anno_iv.annotations)\n",
    "print(posterior_ivB.shape)\n",
    "samples_ivB = model_ivB.sample_posterior_over_accuracy(anno_iv.annotations, 200, burn_in_samples=100, thin_samples=3)\n",
    "ci_iv_mean = samples_ivB[0].mean(axis=0)\n",
    "print(ci_iv_mean)\n",
    "\n",
    "#central variables\n",
    "model_cvB = ModelB.create_initial_state(2, 6)\n",
    "print(model_cvB.log_likelihood(anno_cv.annotations))\n",
    "model_cvB.map(anno_cv.annotations)\n",
    "print(model_cvB.pi)\n",
    "print(model_cvB.log_likelihood(anno_cv.annotations))\n",
    "print(anno_cv.annotations.shape)\n",
    "posterior_cvB = model_cvB.infer_labels(anno_cv.annotations)\n",
    "print(posterior_cvB.shape)\n",
    "samples_cvB = model_cvB.sample_posterior_over_accuracy(anno_cv.annotations, 200, burn_in_samples=100, thin_samples=3)\n",
    "ci_cv_mean = samples_cvB[0].mean(axis=0)\n",
    "print(ci_cv_mean)\n",
    "\n",
    "#control variables\n",
    "model_ctvB = ModelB.create_initial_state(2, 6)\n",
    "print(model_ctvB.log_likelihood(anno_ctv.annotations))\n",
    "model_ctvB.map(anno_ctv.annotations)\n",
    "print(model_ctvB.pi)\n",
    "print(model_ctvB.log_likelihood(anno_ctv.annotations))\n",
    "print(anno_ctv.annotations.shape)\n",
    "posterior_ctvB = model_ctvB.infer_labels(anno_ctv.annotations)\n",
    "print(posterior_ctvB.shape)\n",
    "samples_ctvB = model_ctvB.sample_posterior_over_accuracy(anno_iv.annotations, 200, burn_in_samples=100, thin_samples=3)\n",
    "ci_ctv_mean = samples_ctvB[0].mean(axis=0)\n",
    "print(ci_ctv_mean)"
   ]
  },
  {
   "cell_type": "markdown",
   "metadata": {},
   "source": [
    "Now we will package up the predicted data into a format we can use for other, subsequent analysis:"
   ]
  },
  {
   "cell_type": "code",
   "execution_count": 58,
   "metadata": {},
   "outputs": [
    {
     "name": "stdout",
     "output_type": "stream",
     "text": [
      "(21461, 2)\n",
      "(21461, 2)\n",
      "(21461, 2)\n",
      "(21461, 2)\n"
     ]
    }
   ],
   "source": [
    "print(posterior_dvB.shape)\n",
    "print(posterior_ivB.shape)\n",
    "print(posterior_cvB.shape)\n",
    "print(posterior_ctvB.shape)"
   ]
  },
  {
   "cell_type": "code",
   "execution_count": 59,
   "metadata": {},
   "outputs": [],
   "source": [
    "predicted_annotations = np.concatenate((posterior_dvB, posterior_ivB, posterior_cvB, posterior_ctvB), axis=1) # posterior_dvBt, posterior_ivBt, posterior_cvBt, posterior_ctvBt), axis=1)"
   ]
  },
  {
   "cell_type": "code",
   "execution_count": 60,
   "metadata": {},
   "outputs": [
    {
     "data": {
      "text/plain": [
       "(21461, 8)"
      ]
     },
     "execution_count": 60,
     "metadata": {},
     "output_type": "execute_result"
    }
   ],
   "source": [
    "predicted_annotations.shape"
   ]
  },
  {
   "cell_type": "markdown",
   "metadata": {},
   "source": [
    "If we want to do a simpler analysis we can look at a different data set"
   ]
  },
  {
   "cell_type": "code",
   "execution_count": 61,
   "metadata": {},
   "outputs": [
    {
     "data": {
      "text/html": [
       "<div>\n",
       "<style scoped>\n",
       "    .dataframe tbody tr th:only-of-type {\n",
       "        vertical-align: middle;\n",
       "    }\n",
       "\n",
       "    .dataframe tbody tr th {\n",
       "        vertical-align: top;\n",
       "    }\n",
       "\n",
       "    .dataframe thead th {\n",
       "        text-align: right;\n",
       "    }\n",
       "</style>\n",
       "<table border=\"1\" class=\"dataframe\">\n",
       "  <thead>\n",
       "    <tr style=\"text-align: right;\">\n",
       "      <th></th>\n",
       "      <th>Karen</th>\n",
       "      <th>Scott</th>\n",
       "      <th>Jessica</th>\n",
       "      <th>write a review</th>\n",
       "      <th>A verified traveler</th>\n",
       "      <th>Kevin</th>\n",
       "      <th>William</th>\n",
       "      <th>R</th>\n",
       "      <th>S</th>\n",
       "      <th>Christopher</th>\n",
       "      <th>...</th>\n",
       "      <th>Thomas</th>\n",
       "      <th>Susan</th>\n",
       "      <th>A Traveler</th>\n",
       "      <th>M</th>\n",
       "      <th>Not Provided</th>\n",
       "      <th>B</th>\n",
       "      <th>Laura</th>\n",
       "      <th>xxxxxxxxxxxxxx</th>\n",
       "      <th>Michael</th>\n",
       "      <th>Joseph</th>\n",
       "    </tr>\n",
       "  </thead>\n",
       "  <tbody>\n",
       "    <tr>\n",
       "      <th>1785 Inn</th>\n",
       "      <td>NaN</td>\n",
       "      <td>NaN</td>\n",
       "      <td>NaN</td>\n",
       "      <td>NaN</td>\n",
       "      <td>NaN</td>\n",
       "      <td>NaN</td>\n",
       "      <td>NaN</td>\n",
       "      <td>NaN</td>\n",
       "      <td>NaN</td>\n",
       "      <td>NaN</td>\n",
       "      <td>...</td>\n",
       "      <td>NaN</td>\n",
       "      <td>NaN</td>\n",
       "      <td>NaN</td>\n",
       "      <td>NaN</td>\n",
       "      <td>NaN</td>\n",
       "      <td>NaN</td>\n",
       "      <td>NaN</td>\n",
       "      <td>NaN</td>\n",
       "      <td>NaN</td>\n",
       "      <td>NaN</td>\n",
       "    </tr>\n",
       "    <tr>\n",
       "      <th>1900 House</th>\n",
       "      <td>NaN</td>\n",
       "      <td>NaN</td>\n",
       "      <td>NaN</td>\n",
       "      <td>NaN</td>\n",
       "      <td>NaN</td>\n",
       "      <td>NaN</td>\n",
       "      <td>NaN</td>\n",
       "      <td>NaN</td>\n",
       "      <td>NaN</td>\n",
       "      <td>NaN</td>\n",
       "      <td>...</td>\n",
       "      <td>NaN</td>\n",
       "      <td>NaN</td>\n",
       "      <td>NaN</td>\n",
       "      <td>NaN</td>\n",
       "      <td>NaN</td>\n",
       "      <td>NaN</td>\n",
       "      <td>NaN</td>\n",
       "      <td>NaN</td>\n",
       "      <td>NaN</td>\n",
       "      <td>NaN</td>\n",
       "    </tr>\n",
       "    <tr>\n",
       "      <th>A Bed &amp; Breakfast In Cambridge</th>\n",
       "      <td>NaN</td>\n",
       "      <td>NaN</td>\n",
       "      <td>NaN</td>\n",
       "      <td>NaN</td>\n",
       "      <td>NaN</td>\n",
       "      <td>NaN</td>\n",
       "      <td>NaN</td>\n",
       "      <td>NaN</td>\n",
       "      <td>NaN</td>\n",
       "      <td>NaN</td>\n",
       "      <td>...</td>\n",
       "      <td>NaN</td>\n",
       "      <td>NaN</td>\n",
       "      <td>3.0</td>\n",
       "      <td>NaN</td>\n",
       "      <td>NaN</td>\n",
       "      <td>NaN</td>\n",
       "      <td>NaN</td>\n",
       "      <td>NaN</td>\n",
       "      <td>NaN</td>\n",
       "      <td>NaN</td>\n",
       "    </tr>\n",
       "    <tr>\n",
       "      <th>A Swallow's Nest Motel</th>\n",
       "      <td>NaN</td>\n",
       "      <td>NaN</td>\n",
       "      <td>NaN</td>\n",
       "      <td>NaN</td>\n",
       "      <td>NaN</td>\n",
       "      <td>NaN</td>\n",
       "      <td>NaN</td>\n",
       "      <td>NaN</td>\n",
       "      <td>NaN</td>\n",
       "      <td>NaN</td>\n",
       "      <td>...</td>\n",
       "      <td>NaN</td>\n",
       "      <td>NaN</td>\n",
       "      <td>NaN</td>\n",
       "      <td>NaN</td>\n",
       "      <td>NaN</td>\n",
       "      <td>NaN</td>\n",
       "      <td>NaN</td>\n",
       "      <td>NaN</td>\n",
       "      <td>NaN</td>\n",
       "      <td>NaN</td>\n",
       "    </tr>\n",
       "    <tr>\n",
       "      <th>Abbeville Inn</th>\n",
       "      <td>NaN</td>\n",
       "      <td>NaN</td>\n",
       "      <td>NaN</td>\n",
       "      <td>NaN</td>\n",
       "      <td>NaN</td>\n",
       "      <td>NaN</td>\n",
       "      <td>NaN</td>\n",
       "      <td>NaN</td>\n",
       "      <td>NaN</td>\n",
       "      <td>NaN</td>\n",
       "      <td>...</td>\n",
       "      <td>NaN</td>\n",
       "      <td>NaN</td>\n",
       "      <td>NaN</td>\n",
       "      <td>NaN</td>\n",
       "      <td>NaN</td>\n",
       "      <td>NaN</td>\n",
       "      <td>NaN</td>\n",
       "      <td>NaN</td>\n",
       "      <td>NaN</td>\n",
       "      <td>NaN</td>\n",
       "    </tr>\n",
       "  </tbody>\n",
       "</table>\n",
       "<p>5 rows × 49 columns</p>\n",
       "</div>"
      ],
      "text/plain": [
       "                                Karen  Scott  Jessica  write a review  \\\n",
       "1785 Inn                          NaN    NaN      NaN             NaN   \n",
       "1900 House                        NaN    NaN      NaN             NaN   \n",
       "A Bed & Breakfast In Cambridge    NaN    NaN      NaN             NaN   \n",
       "A Swallow's Nest Motel            NaN    NaN      NaN             NaN   \n",
       "Abbeville Inn                     NaN    NaN      NaN             NaN   \n",
       "\n",
       "                                A verified traveler  Kevin  William   R   S  \\\n",
       "1785 Inn                                        NaN    NaN      NaN NaN NaN   \n",
       "1900 House                                      NaN    NaN      NaN NaN NaN   \n",
       "A Bed & Breakfast In Cambridge                  NaN    NaN      NaN NaN NaN   \n",
       "A Swallow's Nest Motel                          NaN    NaN      NaN NaN NaN   \n",
       "Abbeville Inn                                   NaN    NaN      NaN NaN NaN   \n",
       "\n",
       "                                Christopher   ...    Thomas  Susan  \\\n",
       "1785 Inn                                NaN   ...       NaN    NaN   \n",
       "1900 House                              NaN   ...       NaN    NaN   \n",
       "A Bed & Breakfast In Cambridge          NaN   ...       NaN    NaN   \n",
       "A Swallow's Nest Motel                  NaN   ...       NaN    NaN   \n",
       "Abbeville Inn                           NaN   ...       NaN    NaN   \n",
       "\n",
       "                                A Traveler   M  Not Provided   B  Laura  \\\n",
       "1785 Inn                               NaN NaN           NaN NaN    NaN   \n",
       "1900 House                             NaN NaN           NaN NaN    NaN   \n",
       "A Bed & Breakfast In Cambridge         3.0 NaN           NaN NaN    NaN   \n",
       "A Swallow's Nest Motel                 NaN NaN           NaN NaN    NaN   \n",
       "Abbeville Inn                          NaN NaN           NaN NaN    NaN   \n",
       "\n",
       "                                xxxxxxxxxxxxxx  Michael  Joseph  \n",
       "1785 Inn                                   NaN      NaN     NaN  \n",
       "1900 House                                 NaN      NaN     NaN  \n",
       "A Bed & Breakfast In Cambridge             NaN      NaN     NaN  \n",
       "A Swallow's Nest Motel                     NaN      NaN     NaN  \n",
       "Abbeville Inn                              NaN      NaN     NaN  \n",
       "\n",
       "[5 rows x 49 columns]"
      ]
     },
     "execution_count": 61,
     "metadata": {},
     "output_type": "execute_result"
    }
   ],
   "source": [
    "df_hotels = pandas.read_csv('../data/hot_Reviews.csv', index_col=0)\n",
    "df_hotels[:5]"
   ]
  },
  {
   "cell_type": "markdown",
   "metadata": {},
   "source": [
    "Here a rank of 0 is a missing value and to simplify things more we will convert from a 1-10 scale to a 1-5 scale, with 0 as missing"
   ]
  },
  {
   "cell_type": "code",
   "execution_count": 62,
   "metadata": {},
   "outputs": [],
   "source": [
    "df_hotels = df_hotels.apply(lambda x: x // 2) #integer divide by 2 rounds all values"
   ]
  },
  {
   "cell_type": "markdown",
   "metadata": {},
   "source": [
    "And we can visualize all the reviews as a heatmap with the missing values greyed out"
   ]
  },
  {
   "cell_type": "code",
   "execution_count": 63,
   "metadata": {},
   "outputs": [
    {
     "data": {
      "image/png": "[encoded data removed]",
      "text/plain": [
       "<matplotlib.figure.Figure at 0x11ab65c18>"
      ]
     },
     "metadata": {},
     "output_type": "display_data"
    }
   ],
   "source": [
    "fig, ax = plt.subplots(figsize = (20,20))\n",
    "seaborn.heatmap(df_hotels, cmap='rainbow', ax = ax)\n",
    "plt.show()"
   ]
  },
  {
   "cell_type": "markdown",
   "metadata": {},
   "source": [
    "To give the dataframe to pyanno we need to convert to np array and change the nans to intergers, lets use -1"
   ]
  },
  {
   "cell_type": "code",
   "execution_count": 64,
   "metadata": {},
   "outputs": [],
   "source": [
    "hot_mat = np.array(df_hotels.fillna(-1).as_matrix())\n",
    "anno_hot = AnnotationsContainer.from_array(hot_mat, missing_values=[-1])"
   ]
  },
  {
   "cell_type": "code",
   "execution_count": 65,
   "metadata": {},
   "outputs": [
    {
     "data": {
      "text/plain": [
       "array([[-1, -1, -1, ..., -1, -1, -1],\n",
       "       [-1, -1, -1, ..., -1, -1, -1],\n",
       "       [-1, -1, -1, ..., -1, -1, -1],\n",
       "       ...,\n",
       "       [-1, -1, -1, ..., -1, -1, -1],\n",
       "       [-1, -1, -1, ..., -1, -1, -1],\n",
       "       [-1, -1, -1, ..., -1, -1, -1]])"
      ]
     },
     "execution_count": 65,
     "metadata": {},
     "output_type": "execute_result"
    }
   ],
   "source": [
    "anno_hot.annotations"
   ]
  },
  {
   "cell_type": "code",
   "execution_count": 66,
   "metadata": {},
   "outputs": [
    {
     "data": {
      "text/plain": [
       "[0.0, 1.0, 2.0, 3.0, 4.0, 5.0]"
      ]
     },
     "execution_count": 66,
     "metadata": {},
     "output_type": "execute_result"
    }
   ],
   "source": [
    "anno_hot.labels"
   ]
  },
  {
   "cell_type": "code",
   "execution_count": 67,
   "metadata": {},
   "outputs": [
    {
     "data": {
      "text/plain": [
       "[-1]"
      ]
     },
     "execution_count": 67,
     "metadata": {},
     "output_type": "execute_result"
    }
   ],
   "source": [
    "anno_hot.missing_values"
   ]
  },
  {
   "cell_type": "markdown",
   "metadata": {},
   "source": [
    "Look at coder agreement"
   ]
  },
  {
   "cell_type": "code",
   "execution_count": 68,
   "metadata": {},
   "outputs": [
    {
     "data": {
      "text/plain": [
       "array([0.07806534, 0.26262198, 0.63555367, 0.00636402, 0.0093339 ,\n",
       "       0.00806109])"
      ]
     },
     "execution_count": 68,
     "metadata": {},
     "output_type": "execute_result"
    }
   ],
   "source": [
    "pyanno.measures.agreement.labels_frequency(anno_hot.annotations, 6)#6 possible catagories"
   ]
  },
  {
   "cell_type": "code",
   "execution_count": 69,
   "metadata": {},
   "outputs": [
    {
     "name": "stdout",
     "output_type": "stream",
     "text": [
      "[[0. 0. 0. 0. 0. 0.]\n",
      " [0. 0. 1. 0. 0. 0.]\n",
      " [1. 0. 4. 0. 0. 0.]\n",
      " [0. 0. 0. 0. 0. 0.]\n",
      " [0. 0. 0. 0. 0. 0.]\n",
      " [0. 0. 0. 0. 0. 0.]]\n"
     ]
    },
    {
     "data": {
      "image/png": "[encoded data removed]",
      "text/plain": [
       "<matplotlib.figure.Figure at 0x11c7c5fd0>"
      ]
     },
     "metadata": {},
     "output_type": "display_data"
    }
   ],
   "source": [
    "c = pyanno.measures.agreement.confusion_matrix(anno_hot.annotations[:,0], anno_hot.annotations[:,1], 6) #6 possible catagories\n",
    "print(c)\n",
    "ac = seaborn.heatmap(c)\n",
    "plt.show()"
   ]
  },
  {
   "cell_type": "markdown",
   "metadata": {},
   "source": [
    "Most agreement is on 2 i.e. an average hotel and there's little agreement as rating go higher, likely due to scarcity in the sample"
   ]
  },
  {
   "cell_type": "code",
   "execution_count": 70,
   "metadata": {},
   "outputs": [
    {
     "data": {
      "text/plain": [
       "0.3787878787878787"
      ]
     },
     "execution_count": 70,
     "metadata": {},
     "output_type": "execute_result"
    }
   ],
   "source": [
    "scotts_pi(anno_hot.annotations[:,0], anno_hot.annotations[:,1])"
   ]
  },
  {
   "cell_type": "code",
   "execution_count": 71,
   "metadata": {},
   "outputs": [
    {
     "data": {
      "text/plain": [
       "0.398760907615921"
      ]
     },
     "execution_count": 71,
     "metadata": {},
     "output_type": "execute_result"
    }
   ],
   "source": [
    "krippendorffs_alpha(anno_hot.annotations[::])"
   ]
  },
  {
   "cell_type": "code",
   "execution_count": 72,
   "metadata": {},
   "outputs": [
    {
     "data": {
      "text/plain": [
       "0.40328336902212697"
      ]
     },
     "execution_count": 72,
     "metadata": {},
     "output_type": "execute_result"
    }
   ],
   "source": [
    "cohens_kappa(anno_hot.annotations[:,0], anno_hot.annotations[:,1])"
   ]
  },
  {
   "cell_type": "code",
   "execution_count": 73,
   "metadata": {},
   "outputs": [
    {
     "name": "stderr",
     "output_type": "stream",
     "text": [
      "/Users/profjevans/anaconda/lib/python3.6/site-packages/pyanno/measures/helpers.py:166: RuntimeWarning: invalid value encountered in double_scalars\n",
      "  return (observed_agreement - chance_agreement) / (1. - chance_agreement)\n"
     ]
    },
    {
     "data": {
      "text/plain": [
       "<matplotlib.axes._subplots.AxesSubplot at 0x11cc704a8>"
      ]
     },
     "execution_count": 73,
     "metadata": {},
     "output_type": "execute_result"
    },
    {
     "data": {
      "image/png": "[encoded data removed]",
      "text/plain": [
       "<matplotlib.figure.Figure at 0x11c76f0f0>"
      ]
     },
     "metadata": {},
     "output_type": "display_data"
    }
   ],
   "source": [
    "m = pairwise_matrix(cohens_kappa, anno_hot.annotations)\n",
    "fig, ax = plt.subplots(figsize = (15, 15))\n",
    "seaborn.heatmap(m, ax =ax)"
   ]
  },
  {
   "cell_type": "code",
   "execution_count": 74,
   "metadata": {},
   "outputs": [
    {
     "name": "stdout",
     "output_type": "stream",
     "text": [
      "-88.84995471255851\n",
      "[9.20933481e-20 1.00000000e+00]\n",
      "-48.9756711393957\n",
      "(48, 6)\n",
      "(48, 2)\n",
      "[[[0.79961854 0.20038146]\n",
      "  [0.12891834 0.87108166]]\n",
      "\n",
      " [[0.79247303 0.20752697]\n",
      "  [0.0940424  0.9059576 ]]\n",
      "\n",
      " [[0.79748477 0.20251523]\n",
      "  [0.49864381 0.50135619]]\n",
      "\n",
      " [[0.79674284 0.20325716]\n",
      "  [0.06713459 0.93286541]]\n",
      "\n",
      " [[0.80235636 0.19764364]\n",
      "  [0.35530712 0.64469288]]\n",
      "\n",
      " [[0.79866562 0.20133438]\n",
      "  [0.12576509 0.87423491]]]\n"
     ]
    }
   ],
   "source": [
    "model_testB = ModelB.create_initial_state(2, 6)\n",
    "\n",
    "print(model_testB.log_likelihood(anno_test.annotations))\n",
    "model_testB.map(anno_test.annotations)\n",
    "print(model_testB.pi)\n",
    "print(model_testB.log_likelihood(anno_test.annotations))\n",
    "print(anno_test.annotations.shape)\n",
    "posterior_testB = model_testB.infer_labels(anno_test.annotations)\n",
    "print(posterior_testB.shape)\n",
    "samples_testB = model_testB.sample_posterior_over_accuracy(anno_test.annotations, 200, burn_in_samples=100, thin_samples=3)\n",
    "ci_test_mean = samples_testB[0].mean(axis=0)\n",
    "print(ci_test_mean)"
   ]
  },
  {
   "cell_type": "code",
   "execution_count": null,
   "metadata": {
    "collapsed": true
   },
   "outputs": [],
   "source": []
  },
  {
   "cell_type": "code",
   "execution_count": null,
   "metadata": {
    "collapsed": true
   },
   "outputs": [],
   "source": []
  },
  {
   "cell_type": "code",
   "execution_count": null,
   "metadata": {
    "collapsed": true
   },
   "outputs": [],
   "source": []
  },
  {
   "cell_type": "code",
   "execution_count": null,
   "metadata": {
    "collapsed": true
   },
   "outputs": [],
   "source": []
  },
  {
   "cell_type": "markdown",
   "metadata": {},
   "source": [
    "## <span style=\"color:red\">*Exercise 3*</span>\n",
    "\n",
    "<span style=\"color:red\">In the cells immediately following, use the results of your content annotation survey to predict high and low-quality analysts, then predict MAP estimates for your codes in question. What do these estimates suggest about the distribution of skill among your coders? How different are these estimates from a majority vote?"
   ]
  },
  {
   "cell_type": "code",
   "execution_count": null,
   "metadata": {
    "collapsed": true
   },
   "outputs": [],
   "source": []
  }
 ],
 "metadata": {
  "anaconda-cloud": {},
  "kernelspec": {
   "display_name": "Python 3",
   "language": "python",
   "name": "python3"
  },
  "language_info": {
   "codemirror_mode": {
    "name": "ipython",
    "version": 3
   },
   "file_extension": ".py",
   "mimetype": "text/x-python",
   "name": "python",
   "nbconvert_exporter": "python",
   "pygments_lexer": "ipython3",
   "version": "3.6.1"
  }
 },
 "nbformat": 4,
 "nbformat_minor": 1
}
